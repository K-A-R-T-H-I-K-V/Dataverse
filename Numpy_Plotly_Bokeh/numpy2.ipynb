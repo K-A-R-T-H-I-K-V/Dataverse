{
 "cells": [
  {
   "cell_type": "code",
   "execution_count": 1,
   "id": "1833fc02-19bd-4459-8a55-3ae237dcd152",
   "metadata": {},
   "outputs": [
    {
     "name": "stdout",
     "output_type": "stream",
     "text": [
      "[[4 7 4 7]\n",
      " [8 5 9 9]\n",
      " [4 8 7 2]]\n"
     ]
    }
   ],
   "source": [
    "import numpy as np\n",
    "\n",
    "arr = np.random.randint(1, 10, (3, 4))\n",
    "print(arr)"
   ]
  },
  {
   "cell_type": "markdown",
   "id": "41496c7f-bef9-4b83-a927-af3f9ad1b25f",
   "metadata": {},
   "source": [
    "#### The np.reshape() function in NumPy is used to change the shape of an array without changing its data. Essentially, it gives a new shape to an existing array, but the total number of elements must remain the same.\n",
    "\n",
    "## <u>np.reshape(array, new_shape)</u> parameters:\n",
    "#### array: The array you want to reshape.\n",
    "#### new_shape: The desired shape, specified as a tuple (rows, columns). The total number of elements in new_shape must match the number of elements in the original array."
   ]
  },
  {
   "cell_type": "code",
   "execution_count": 5,
   "id": "0c1ffc6b-1c80-420e-a183-11597dbdc5c9",
   "metadata": {},
   "outputs": [
    {
     "data": {
      "text/plain": [
       "array([[4, 7],\n",
       "       [4, 7],\n",
       "       [8, 5],\n",
       "       [9, 9],\n",
       "       [4, 8],\n",
       "       [7, 2]])"
      ]
     },
     "execution_count": 5,
     "metadata": {},
     "output_type": "execute_result"
    }
   ],
   "source": [
    "arr.reshape(6, 2)"
   ]
  },
  {
   "cell_type": "markdown",
   "id": "bcf58783-4788-4d85-8272-9d2029cb4dd6",
   "metadata": {},
   "source": [
    "### What happens when passing negative values for rows or columns?\n",
    "##### If you pass a negative value in the new_shape, NumPy automatically infers the dimension based on the total number of elements. The negative value tells NumPy to figure out that dimension."
   ]
  },
  {
   "cell_type": "code",
   "execution_count": 7,
   "id": "ae5693d9-6aa9-411d-9291-8f497964b5d9",
   "metadata": {},
   "outputs": [
    {
     "data": {
      "text/plain": [
       "array([[4, 7, 4, 7, 8, 5, 9, 9, 4, 8, 7, 2]])"
      ]
     },
     "execution_count": 7,
     "metadata": {},
     "output_type": "execute_result"
    }
   ],
   "source": [
    "arr.reshape(1, -34)"
   ]
  },
  {
   "cell_type": "code",
   "execution_count": 11,
   "id": "692ce91e-f65a-49cd-ae67-27f434181365",
   "metadata": {},
   "outputs": [
    {
     "name": "stdout",
     "output_type": "stream",
     "text": [
      "[[4 8 4]\n",
      " [7 5 8]\n",
      " [4 9 7]\n",
      " [7 9 2]]\n",
      "\n",
      "The actual array remains unchanged [[4 7 4 7]\n",
      " [8 5 9 9]\n",
      " [4 8 7 2]]\n"
     ]
    }
   ],
   "source": [
    "print(arr.T)\n",
    "print('\\nThe actual array remains unchanged', arr)"
   ]
  },
  {
   "cell_type": "markdown",
   "id": "2c2b4a52-4e40-423b-b3eb-12a487223563",
   "metadata": {},
   "source": [
    "### The flatten() function in NumPy is used to convert a multi-dimensional array into a 1D (one-dimensional) array. Essentially, it collapses the array, no matter its original shape, into a single continuous line of elements."
   ]
  },
  {
   "cell_type": "code",
   "execution_count": 24,
   "id": "037cea8f-d789-4ede-bb8a-709f1121d01d",
   "metadata": {},
   "outputs": [],
   "source": [
    "# array.flatten(order='C')"
   ]
  },
  {
   "cell_type": "markdown",
   "id": "2907dcce-4d63-4d00-bed3-33bda83fc1a8",
   "metadata": {},
   "source": [
    "### order (optional): Determines the order in which the elements are read to form the flattened array.\n",
    "##### 'C' (default): Row-major order (C-style), meaning elements are read row by row.\n",
    "##### 'F': Column-major order (Fortran-style), meaning elements are read column by column.\n",
    "##### 'A': ‘F’ if the array is Fortran-contiguous in memory, ‘C’ otherwise.\n",
    "##### 'K': Flatten in the order the elements appear in memory (may not be C or Fortran contiguous)."
   ]
  },
  {
   "cell_type": "code",
   "execution_count": 17,
   "id": "918282df-9faf-44b8-a56a-e52d3d6ffc11",
   "metadata": {},
   "outputs": [
    {
     "data": {
      "text/plain": [
       "array([6, 7, 4, 3, 5, 2, 1, 7, 9, 8, 4, 5])"
      ]
     },
     "execution_count": 17,
     "metadata": {},
     "output_type": "execute_result"
    }
   ],
   "source": [
    "arr.flatten()"
   ]
  },
  {
   "cell_type": "code",
   "execution_count": 21,
   "id": "e84f62aa-9fcc-4e8e-99de-9bc625ac77a4",
   "metadata": {},
   "outputs": [
    {
     "name": "stdout",
     "output_type": "stream",
     "text": [
      "The array arr [1 2 3 4 5]\n",
      "\n",
      "The dimensions of the array arr is 1\n"
     ]
    }
   ],
   "source": [
    "arr1 = np.array([1, 2, 3, 4, 5])\n",
    "\n",
    "print('The array arr', arr1)\n",
    "print('\\nThe dimensions of the array arr is', arr1.ndim)"
   ]
  },
  {
   "cell_type": "markdown",
   "id": "9de2852a-80d3-4308-be4c-e70219b87093",
   "metadata": {},
   "source": [
    "### <u>np.expand_dims()</u> in NumPy is used to add a new axis to an array, effectively increasing its dimensionality. This function allows you to insert a new axis (dimension) at a specified position in the shape of an array."
   ]
  },
  {
   "cell_type": "code",
   "execution_count": null,
   "id": "bddee8df-b6a4-4702-a1c9-19091d8e0676",
   "metadata": {},
   "outputs": [],
   "source": [
    "# np.expand_dims(array, axis)"
   ]
  },
  {
   "cell_type": "markdown",
   "id": "9ff5103c-1fb2-451a-98f5-7bcf1204379e",
   "metadata": {},
   "source": [
    "#### array: The array to which you want to add a new dimension.\n",
    "#### axis: The position where the new axis will be inserted. This can be any integer (positive or negative) between 0 and ndim, where ndim is the number of dimensions of the array."
   ]
  },
  {
   "cell_type": "code",
   "execution_count": 29,
   "id": "7b3c97ff-2577-4c91-8aeb-b5f4a3110dab",
   "metadata": {},
   "outputs": [
    {
     "name": "stdout",
     "output_type": "stream",
     "text": [
      "[[1]\n",
      " [2]\n",
      " [3]\n",
      " [4]\n",
      " [5]]\n",
      "\n",
      "The array dimensions after expanding 2\n"
     ]
    }
   ],
   "source": [
    "arr1_r = np.expand_dims(arr1, axis=1)\n",
    "\n",
    "print(arr1_r)\n",
    "print('\\nThe array dimensions after expanding', arr1_r.ndim)"
   ]
  },
  {
   "cell_type": "code",
   "execution_count": 31,
   "id": "592a7fea-c5b8-4682-bb80-964b9102a0bb",
   "metadata": {},
   "outputs": [
    {
     "name": "stdout",
     "output_type": "stream",
     "text": [
      "[[1 2 3 4 5]]\n",
      "\n",
      "The array dimensions after expanding 2\n"
     ]
    }
   ],
   "source": [
    "arr1_c = np.expand_dims(arr1, axis=0)\n",
    "\n",
    "print(arr1_c)\n",
    "print('\\nThe array dimensions after expanding', arr1_c.ndim)"
   ]
  },
  {
   "cell_type": "markdown",
   "id": "4de6b010-e367-4763-b779-879cc6843106",
   "metadata": {},
   "source": [
    "#### np.squeeze() in NumPy removes single-dimensional entries (dimensions of size 1) from the shape of an array. This is useful when you want to remove unnecessary dimensions, such as after using functions like expand_dims() or when dealing with arrays that have extra dimensions from broadcasting or reshaping.\n",
    "\n",
    "## <u>np.squeeze(array, axis=None)</u> parameters:\n",
    "#### array: The array you want to squeeze.\n",
    "#### axis (optional): The specific axis (or axes) you want to squeeze. If not specified, all axes of size 1 are removed"
   ]
  },
  {
   "cell_type": "code",
   "execution_count": 35,
   "id": "5d9bb207-bd8f-471c-a970-bafd13f71157",
   "metadata": {},
   "outputs": [
    {
     "name": "stdout",
     "output_type": "stream",
     "text": [
      "[[4 7 4 7]\n",
      " [8 5 9 9]\n",
      " [4 8 7 2]]\n",
      "\n",
      " [[4 7 4 7]\n",
      " [8 5 9 9]\n",
      " [4 8 7 2]]\n"
     ]
    }
   ],
   "source": [
    "print(arr)\n",
    "\n",
    "print('\\n', np.squeeze(arr))"
   ]
  },
  {
   "cell_type": "code",
   "execution_count": 39,
   "id": "d886c5e8-f1c3-453f-b240-ecd5a90b0e55",
   "metadata": {},
   "outputs": [
    {
     "name": "stdout",
     "output_type": "stream",
     "text": [
      "[[1]\n",
      " [2]\n",
      " [3]]\n",
      "\n",
      "After Squeezing [1 2 3]\n"
     ]
    }
   ],
   "source": [
    "data = np.array([[1], [2], [3]])\n",
    "\n",
    "print(data)\n",
    "print('\\nAfter Squeezing', np.squeeze(data))"
   ]
  },
  {
   "cell_type": "markdown",
   "id": "5787d694-6aa9-42a3-9968-6bb8a642ffc4",
   "metadata": {},
   "source": [
    "### np.repeat()\n",
    "#### np.repeat() is used to repeat the elements of an array along a specified axis. You can repeat elements a specified number of times, either along the entire array or along a specific axis.\n",
    "\n",
    "### <u>np.repeat(array, repeats, axis=None)</u> Parameters:\n",
    "#### array: The input array.\n",
    "#### repeats: The number of times to repeat each element. This can be a scalar (same number of repeats for all elements) or an array (different number of repeats for each element).\n",
    "#### axis (optional): The axis along which to repeat the values. If not specified, the array is flattened and repeated"
   ]
  },
  {
   "cell_type": "code",
   "execution_count": 42,
   "id": "c3a0cdb7-816e-445d-a590-755cb5b24467",
   "metadata": {},
   "outputs": [
    {
     "name": "stdout",
     "output_type": "stream",
     "text": [
      "[1 2 3 4 5]\n",
      "Repeat array entries by 3 [1 1 1 2 2 2 3 3 3 4 4 4 5 5 5]\n"
     ]
    }
   ],
   "source": [
    "print(arr1)\n",
    "\n",
    "print('Repeat array entries by 3', np.repeat(arr1, 3))"
   ]
  },
  {
   "cell_type": "markdown",
   "id": "72e9a066-9915-4c51-a5e9-cfdaa9c9b73d",
   "metadata": {},
   "source": [
    "### <u>np.roll()</u>\n",
    "#### np.roll() is a function in NumPy used to \"roll\" or shift the elements of an array along a specified axis. The elements that are shifted out on one end are reintroduced on the other end, effectively wrapping the array.\n",
    "\n",
    "### <u>np.roll(array, shift, axis=None)</u> Parameters:\n",
    "#### array: The input array to be rolled.\n",
    "#### shift: The number of places by which elements are shifted. If shift is positive, elements are shifted to the right (or down along the axis), and if negative, elements are shifted to the left (or up).\n",
    "#### axis (optional): The axis along which to roll the elements. If not specified, the array is flattened, and elements are rolled along the 1D version of the array."
   ]
  },
  {
   "cell_type": "code",
   "execution_count": 46,
   "id": "94ddfb88-93b3-425f-949b-898c52e08f10",
   "metadata": {},
   "outputs": [
    {
     "name": "stdout",
     "output_type": "stream",
     "text": [
      "[1 2 3 4 5]\n",
      "Roll array entries by 2 [4 5 1 2 3]\n"
     ]
    }
   ],
   "source": [
    "print(arr1)\n",
    "\n",
    "print('Roll array entries by 2', np.roll(arr1, 2))"
   ]
  },
  {
   "cell_type": "markdown",
   "id": "43b2b14e-a7ab-44ec-9354-c0285c1c48e9",
   "metadata": {},
   "source": [
    "#### np.diag() is a NumPy function that either extracts the diagonal elements from a matrix or creates a diagonal matrix from a given array. The behavior of np.diag() depends on whether the input is a 1D or 2D array.\n",
    "\n",
    "### <u>np.diag(v, k=0)</u> parameters:\n",
    "#### v: The input array. It can be either 1D (to create a diagonal matrix) or 2D (to extract the diagonal).\n",
    "#### k (optional): The diagonal to extract or set.\n",
    "##### k=0 refers to the main diagonal.\n",
    "##### k>0 refers to diagonals above the main diagonal.\n",
    "##### k<0 refers to diagonals below the main diagonal"
   ]
  },
  {
   "cell_type": "code",
   "execution_count": 45,
   "id": "de126100-3ecd-43dc-a373-f47c056c574e",
   "metadata": {},
   "outputs": [
    {
     "data": {
      "text/plain": [
       "array([[1, 0, 0, 0, 0],\n",
       "       [0, 2, 0, 0, 0],\n",
       "       [0, 0, 3, 0, 0],\n",
       "       [0, 0, 0, 4, 0],\n",
       "       [0, 0, 0, 0, 5]])"
      ]
     },
     "execution_count": 45,
     "metadata": {},
     "output_type": "execute_result"
    }
   ],
   "source": [
    "np.diag(arr1)"
   ]
  },
  {
   "cell_type": "code",
   "execution_count": 87,
   "id": "7b2e639f-bb25-49fd-8732-05b88f004b7f",
   "metadata": {},
   "outputs": [
    {
     "data": {
      "text/plain": [
       "array([[0, 1, 0, 0, 0, 0],\n",
       "       [0, 0, 2, 0, 0, 0],\n",
       "       [0, 0, 0, 3, 0, 0],\n",
       "       [0, 0, 0, 0, 4, 0],\n",
       "       [0, 0, 0, 0, 0, 5],\n",
       "       [0, 0, 0, 0, 0, 0]])"
      ]
     },
     "execution_count": 87,
     "metadata": {},
     "output_type": "execute_result"
    }
   ],
   "source": [
    "np.diag(arr1, k = 1)"
   ]
  },
  {
   "cell_type": "code",
   "execution_count": 52,
   "id": "6bae7cb5-a7db-4573-8154-ada81dcf0ad8",
   "metadata": {},
   "outputs": [
    {
     "name": "stdout",
     "output_type": "stream",
     "text": [
      "[[4 3 7 6]\n",
      " [1 2 4 5]\n",
      " [1 2 4 5]]\n",
      "\n",
      " [[9 2 5 9]\n",
      " [2 2 1 2]\n",
      " [6 6 8 6]]\n"
     ]
    }
   ],
   "source": [
    "arr2 = np.random.randint(1, 10, (3, 4))\n",
    "arr3 = np.random.randint(1, 10, (3, 4))\n",
    "\n",
    "print(arr2)\n",
    "print('\\n', arr3)"
   ]
  },
  {
   "cell_type": "code",
   "execution_count": 54,
   "id": "16091859-a806-4827-94fb-005b1f0f7daf",
   "metadata": {},
   "outputs": [
    {
     "data": {
      "text/plain": [
       "array([[13,  5, 12, 15],\n",
       "       [ 3,  4,  5,  7],\n",
       "       [ 7,  8, 12, 11]])"
      ]
     },
     "execution_count": 54,
     "metadata": {},
     "output_type": "execute_result"
    }
   ],
   "source": [
    "arr2 + arr3"
   ]
  },
  {
   "cell_type": "code",
   "execution_count": 56,
   "id": "155425c7-be92-4c69-92b5-f2d8c417a66d",
   "metadata": {},
   "outputs": [
    {
     "data": {
      "text/plain": [
       "array([[0.44444444, 1.5       , 1.4       , 0.66666667],\n",
       "       [0.5       , 1.        , 4.        , 2.5       ],\n",
       "       [0.16666667, 0.33333333, 0.5       , 0.83333333]])"
      ]
     },
     "execution_count": 56,
     "metadata": {},
     "output_type": "execute_result"
    }
   ],
   "source": [
    "arr2 / arr3"
   ]
  },
  {
   "cell_type": "code",
   "execution_count": 58,
   "id": "86371994-6979-4fa1-8dd8-1806c509b444",
   "metadata": {},
   "outputs": [
    {
     "data": {
      "text/plain": [
       "array([[-5,  1,  2, -3],\n",
       "       [-1,  0,  3,  3],\n",
       "       [-5, -4, -4, -1]])"
      ]
     },
     "execution_count": 58,
     "metadata": {},
     "output_type": "execute_result"
    }
   ],
   "source": [
    "arr2 - arr3"
   ]
  },
  {
   "cell_type": "code",
   "execution_count": 60,
   "id": "45ffed1c-c770-4a96-9c89-c39c7e9cbbbe",
   "metadata": {},
   "outputs": [
    {
     "data": {
      "text/plain": [
       "array([[4, 1, 2, 6],\n",
       "       [1, 0, 0, 1],\n",
       "       [1, 2, 4, 5]])"
      ]
     },
     "execution_count": 60,
     "metadata": {},
     "output_type": "execute_result"
    }
   ],
   "source": [
    "arr2 % arr3"
   ]
  },
  {
   "cell_type": "code",
   "execution_count": 62,
   "id": "2ef0a9b3-0b31-4c87-8bb4-b9033bd451bf",
   "metadata": {},
   "outputs": [
    {
     "data": {
      "text/plain": [
       "array([[  262144,        9,    16807, 10077696],\n",
       "       [       1,        4,        4,       25],\n",
       "       [       1,       64,    65536,    15625]])"
      ]
     },
     "execution_count": 62,
     "metadata": {},
     "output_type": "execute_result"
    }
   ],
   "source": [
    "arr2 ** arr3"
   ]
  },
  {
   "cell_type": "code",
   "execution_count": 64,
   "id": "715e9920-984f-4b6d-9c19-ced59ceadb8a",
   "metadata": {},
   "outputs": [
    {
     "data": {
      "text/plain": [
       "array([[0, 2, 5, 0],\n",
       "       [0, 2, 0, 0],\n",
       "       [0, 2, 0, 4]])"
      ]
     },
     "execution_count": 64,
     "metadata": {},
     "output_type": "execute_result"
    }
   ],
   "source": [
    "arr2 & arr3"
   ]
  },
  {
   "cell_type": "code",
   "execution_count": 66,
   "id": "4316c433-53d7-40ca-b627-9c1986b42d4c",
   "metadata": {},
   "outputs": [
    {
     "data": {
      "text/plain": [
       "array([[-5, -4, -8, -7],\n",
       "       [-2, -3, -5, -6],\n",
       "       [-2, -3, -5, -6]])"
      ]
     },
     "execution_count": 66,
     "metadata": {},
     "output_type": "execute_result"
    }
   ],
   "source": [
    "~arr2"
   ]
  },
  {
   "cell_type": "code",
   "execution_count": 68,
   "id": "49127fe5-3805-4638-bf12-56f026ba5c04",
   "metadata": {},
   "outputs": [
    {
     "data": {
      "text/plain": [
       "array([[13,  3,  7, 15],\n",
       "       [ 3,  2,  5,  7],\n",
       "       [ 7,  6, 12,  7]])"
      ]
     },
     "execution_count": 68,
     "metadata": {},
     "output_type": "execute_result"
    }
   ],
   "source": [
    "arr2 | arr3"
   ]
  },
  {
   "cell_type": "code",
   "execution_count": 70,
   "id": "db88bfca-66f5-431f-8639-eb9d605d2619",
   "metadata": {},
   "outputs": [
    {
     "data": {
      "text/plain": [
       "array([[False,  True,  True, False],\n",
       "       [False, False,  True,  True],\n",
       "       [False, False, False, False]])"
      ]
     },
     "execution_count": 70,
     "metadata": {},
     "output_type": "execute_result"
    }
   ],
   "source": [
    "arr2 > arr3"
   ]
  },
  {
   "cell_type": "code",
   "execution_count": 74,
   "id": "2f53195a-c2ad-4309-b8d6-1b2699d8ea24",
   "metadata": {},
   "outputs": [],
   "source": [
    "arr4 = np.array(['molly', 'weasly'])"
   ]
  },
  {
   "cell_type": "code",
   "execution_count": 76,
   "id": "ae5e9c79-3cff-4ecb-b78f-8b6a51d8306f",
   "metadata": {},
   "outputs": [
    {
     "data": {
      "text/plain": [
       "array(['MOLLY', 'WEASLY'], dtype='<U6')"
      ]
     },
     "execution_count": 76,
     "metadata": {},
     "output_type": "execute_result"
    }
   ],
   "source": [
    "np.char.upper(arr4)"
   ]
  },
  {
   "cell_type": "code",
   "execution_count": 78,
   "id": "e8123da1-e3c1-4716-9fc4-9a7f0eab06c1",
   "metadata": {},
   "outputs": [
    {
     "data": {
      "text/plain": [
       "array(['Molly', 'Weasly'], dtype='<U6')"
      ]
     },
     "execution_count": 78,
     "metadata": {},
     "output_type": "execute_result"
    }
   ],
   "source": [
    "np.char.title(arr4)"
   ]
  },
  {
   "cell_type": "code",
   "execution_count": 80,
   "id": "9f5f842d-d112-4987-ade5-a51db5845f3e",
   "metadata": {},
   "outputs": [
    {
     "data": {
      "text/plain": [
       "array(['Molly', 'Weasly'], dtype='<U6')"
      ]
     },
     "execution_count": 80,
     "metadata": {},
     "output_type": "execute_result"
    }
   ],
   "source": [
    "np.char.capitalize(arr4)"
   ]
  },
  {
   "cell_type": "code",
   "execution_count": 84,
   "id": "3dc65492-876c-498e-a7f7-b0301e1d4aad",
   "metadata": {},
   "outputs": [
    {
     "data": {
      "text/plain": [
       "array([[-0.7568025 ,  0.14112001,  0.6569866 , -0.2794155 ],\n",
       "       [ 0.84147098,  0.90929743, -0.7568025 , -0.95892427],\n",
       "       [ 0.84147098,  0.90929743, -0.7568025 , -0.95892427]])"
      ]
     },
     "execution_count": 84,
     "metadata": {},
     "output_type": "execute_result"
    }
   ],
   "source": [
    "np.sin(arr2)"
   ]
  },
  {
   "cell_type": "code",
   "execution_count": 87,
   "id": "b5421e79-3a8c-4b8a-be65-1174f1b2fd5c",
   "metadata": {},
   "outputs": [
    {
     "data": {
      "text/plain": [
       "array([[-0.9899925 , -0.41614684,  0.75390225, -0.91113026],\n",
       "       [-0.9899925 , -0.41614684, -0.65364362, -0.41614684],\n",
       "       [-0.14550003, -0.41614684, -0.65364362,  0.96017029]])"
      ]
     },
     "execution_count": 87,
     "metadata": {},
     "output_type": "execute_result"
    }
   ],
   "source": [
    "np.cos(arr2)"
   ]
  },
  {
   "cell_type": "code",
   "execution_count": 89,
   "id": "efe25204-9092-4122-9a65-3604853b67ab",
   "metadata": {},
   "outputs": [
    {
     "data": {
      "text/plain": [
       "array([[-0.14254654, -2.18503986,  0.87144798, -0.45231566],\n",
       "       [-0.14254654, -2.18503986,  1.15782128, -2.18503986],\n",
       "       [-6.79971146, -2.18503986,  1.15782128, -0.29100619]])"
      ]
     },
     "execution_count": 89,
     "metadata": {},
     "output_type": "execute_result"
    }
   ],
   "source": [
    "np.tan(arr2)"
   ]
  },
  {
   "cell_type": "code",
   "execution_count": 91,
   "id": "afdbdf93-1ee7-4d65-9e16-e0f53d47424f",
   "metadata": {},
   "outputs": [
    {
     "data": {
      "text/plain": [
       "array([[0.99505475, 0.96402758, 0.99999834, 0.99999997],\n",
       "       [0.99505475, 0.96402758, 0.9993293 , 0.96402758],\n",
       "       [0.99999977, 0.96402758, 0.9993293 , 0.99998771]])"
      ]
     },
     "execution_count": 91,
     "metadata": {},
     "output_type": "execute_result"
    }
   ],
   "source": [
    "np.tanh(arr2)"
   ]
  },
  {
   "cell_type": "code",
   "execution_count": 93,
   "id": "af72a9ff-8933-46c3-babd-1a752a53b725",
   "metadata": {},
   "outputs": [
    {
     "data": {
      "text/plain": [
       "array([[0.47712125, 0.30103   , 0.84509804, 0.95424251],\n",
       "       [0.47712125, 0.30103   , 0.60205999, 0.30103   ],\n",
       "       [0.90308999, 0.30103   , 0.60205999, 0.77815125]])"
      ]
     },
     "execution_count": 93,
     "metadata": {},
     "output_type": "execute_result"
    }
   ],
   "source": [
    "np.log10(arr2)"
   ]
  },
  {
   "cell_type": "code",
   "execution_count": 95,
   "id": "a22cc8f3-5f30-4b0d-b735-e1ef24a1725d",
   "metadata": {},
   "outputs": [
    {
     "data": {
      "text/plain": [
       "array([[2.00855369e+01, 7.38905610e+00, 1.09663316e+03, 8.10308393e+03],\n",
       "       [2.00855369e+01, 7.38905610e+00, 5.45981500e+01, 7.38905610e+00],\n",
       "       [2.98095799e+03, 7.38905610e+00, 5.45981500e+01, 4.03428793e+02]])"
      ]
     },
     "execution_count": 95,
     "metadata": {},
     "output_type": "execute_result"
    }
   ],
   "source": [
    "np.exp(arr2)"
   ]
  },
  {
   "cell_type": "code",
   "execution_count": 97,
   "id": "b27fc188-71f0-437f-9207-ce27adaa1b5d",
   "metadata": {},
   "outputs": [
    {
     "data": {
      "text/plain": [
       "array([[1.73205081, 1.41421356, 2.64575131, 3.        ],\n",
       "       [1.73205081, 1.41421356, 2.        , 1.41421356],\n",
       "       [2.82842712, 1.41421356, 2.        , 2.44948974]])"
      ]
     },
     "execution_count": 97,
     "metadata": {},
     "output_type": "execute_result"
    }
   ],
   "source": [
    "np.sqrt(arr2)"
   ]
  },
  {
   "cell_type": "code",
   "execution_count": 101,
   "id": "f0163a27-f905-425b-bb89-6992b42723ce",
   "metadata": {},
   "outputs": [
    {
     "data": {
      "text/plain": [
       "array([[ 9,  4, 49, 81],\n",
       "       [ 9,  4, 16,  4],\n",
       "       [64,  4, 16, 36]], dtype=int32)"
      ]
     },
     "execution_count": 101,
     "metadata": {},
     "output_type": "execute_result"
    }
   ],
   "source": [
    "np.power(arr2, 2)"
   ]
  },
  {
   "cell_type": "code",
   "execution_count": 103,
   "id": "d8248bb1-0152-467e-8228-8b5af2a866e3",
   "metadata": {},
   "outputs": [
    {
     "data": {
      "text/plain": [
       "4.333333333333333"
      ]
     },
     "execution_count": 103,
     "metadata": {},
     "output_type": "execute_result"
    }
   ],
   "source": [
    "np.mean(arr2)"
   ]
  },
  {
   "cell_type": "code",
   "execution_count": 105,
   "id": "68ed594a-242b-42ff-81ee-433c6f3f6ca6",
   "metadata": {},
   "outputs": [
    {
     "data": {
      "text/plain": [
       "3.5"
      ]
     },
     "execution_count": 105,
     "metadata": {},
     "output_type": "execute_result"
    }
   ],
   "source": [
    "np.median(arr2)"
   ]
  },
  {
   "cell_type": "code",
   "execution_count": 107,
   "id": "c3c6f6d9-c0dc-4b31-b2a8-22a38af5b975",
   "metadata": {},
   "outputs": [
    {
     "data": {
      "text/plain": [
       "2.4267032964268394"
      ]
     },
     "execution_count": 107,
     "metadata": {},
     "output_type": "execute_result"
    }
   ],
   "source": [
    "np.std(arr2)"
   ]
  },
  {
   "cell_type": "code",
   "execution_count": 109,
   "id": "54f37a3b-4b77-47f1-bd89-36b0ed8f0348",
   "metadata": {},
   "outputs": [
    {
     "data": {
      "text/plain": [
       "5.888888888888888"
      ]
     },
     "execution_count": 109,
     "metadata": {},
     "output_type": "execute_result"
    }
   ],
   "source": [
    "np.var(arr2)"
   ]
  },
  {
   "cell_type": "code",
   "execution_count": 111,
   "id": "895a4bca-414d-4144-bec8-0215d2cce0ed",
   "metadata": {},
   "outputs": [
    {
     "data": {
      "text/plain": [
       "2"
      ]
     },
     "execution_count": 111,
     "metadata": {},
     "output_type": "execute_result"
    }
   ],
   "source": [
    "np.min(arr2)"
   ]
  },
  {
   "cell_type": "code",
   "execution_count": 113,
   "id": "0cc56170-d40f-454c-b6ac-c0b21004ec56",
   "metadata": {},
   "outputs": [
    {
     "data": {
      "text/plain": [
       "9"
      ]
     },
     "execution_count": 113,
     "metadata": {},
     "output_type": "execute_result"
    }
   ],
   "source": [
    "np.max(arr2)"
   ]
  },
  {
   "cell_type": "code",
   "execution_count": null,
   "id": "41282f64-ccce-459a-aa37-6459e876455c",
   "metadata": {},
   "outputs": [],
   "source": []
  }
 ],
 "metadata": {
  "kernelspec": {
   "display_name": "Python 3 (ipykernel)",
   "language": "python",
   "name": "python3"
  },
  "language_info": {
   "codemirror_mode": {
    "name": "ipython",
    "version": 3
   },
   "file_extension": ".py",
   "mimetype": "text/x-python",
   "name": "python",
   "nbconvert_exporter": "python",
   "pygments_lexer": "ipython3",
   "version": "3.11.7"
  }
 },
 "nbformat": 4,
 "nbformat_minor": 5
}
