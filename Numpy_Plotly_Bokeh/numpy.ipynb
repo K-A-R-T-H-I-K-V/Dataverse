{
 "cells": [
  {
   "cell_type": "markdown",
   "id": "0def5732-ab54-443a-bdb4-06554a068c56",
   "metadata": {},
   "source": [
    "## Difference between Lists And Numpy Arrays\n",
    "\n",
    "### 1. <u>Type Consistency</u>:\n",
    "#### Lists in Python can store elements of different data types. For example, you can have a list containing integers, strings, and floats all mixed together.\n",
    "#### Example: my_list = [1, 'a', 3.14]\n",
    "#### NumPy arrays are homogeneous, meaning all elements in a NumPy array must be of the same data type.\n",
    "#### Example: my_array = np.array([1, 2, 3]) (all elements are integers)\n",
    "\n",
    "### 2. <u>Mathematical Operations</u>:\n",
    "#### Lists do not support element-wise mathematical operations directly. To perform operations on a list, you typically need to use loops or list comprehensions.\n",
    "#### Example: Adding two lists would concatenate them, not perform element-wise addition.\n",
    "#### NumPy arrays support element-wise operations directly. You can add, subtract, multiply, and perform other operations on entire arrays with simple syntax.\n",
    "#### Example: array1 + array2 performs element-wise addition.\n",
    "\n",
    "### 3. <u>Multi-dimensional Arrays</u>:\n",
    "#### While you can create nested lists to simulate multi-dimensional arrays, the operations on such structures are less straightforward and efficient.\n",
    "#### Example: matrix = [[1, 2], [3, 4]] represents a 2x2 matrix.\n",
    "#### NumPy provides built-in support for multi-dimensional arrays and operations on them. This includes slicing, reshaping, and more advanced operations.\n",
    "#### Example: matrix = np.array([[1, 2], [3, 4]])\n",
    "\n",
    "### 4. <u>Broadcasting</u>:\n",
    "#### Broadcasting is not supported in standard Python lists. Operations on lists are typically element-wise but not automatically extended across dimensions.\n",
    "#### NumPy supports broadcasting, which allows for operations between arrays of different shapes in a way that automatically handles dimension mismatch."
   ]
  },
  {
   "cell_type": "code",
   "execution_count": null,
   "id": "27d67c30-0ae8-4732-810a-42654324114b",
   "metadata": {},
   "outputs": [],
   "source": []
  },
  {
   "cell_type": "markdown",
   "id": "3868659b-663e-4dc2-bf87-eff8c3042dc0",
   "metadata": {},
   "source": [
    "## The <u>np.array()</u>\n",
    "\n",
    "#### Purpose: To create a new NumPy array from any object exposing the array interface (e.g., lists, tuples, other sequences).\n",
    "#### Always creates a new array, copying the data from the input object.\n",
    "\n",
    "### Parameters:\n",
    "#### object: The input data, which can be a list, tuple, or any object that can be converted to an array.\n",
    "#### dtype: Data type of the resulting array. If not specified, it is inferred from the input data.\n",
    "#### copy: A boolean indicating whether to create a copy of the data. If True, a new array is always created, even if the input is already an array. If False, a new array is created only if the input is not already an array."
   ]
  },
  {
   "cell_type": "code",
   "execution_count": 1,
   "id": "4d7d1d2c-2f44-47cc-9fa8-6c6828c8d6ca",
   "metadata": {},
   "outputs": [
    {
     "name": "stdout",
     "output_type": "stream",
     "text": [
      "The array is [1 2 3 4]\n",
      "<class 'numpy.ndarray'>\n"
     ]
    }
   ],
   "source": [
    "import numpy as np\n",
    "\n",
    "l = [1, 2, 3, 4]\n",
    "arr = np.array(l)\n",
    "\n",
    "print(\"The array is\", arr)\n",
    "print(type(arr))"
   ]
  },
  {
   "cell_type": "code",
   "execution_count": 20,
   "id": "0f9ded1b-4651-4bf9-938b-9346ca29445f",
   "metadata": {},
   "outputs": [
    {
     "name": "stdout",
     "output_type": "stream",
     "text": [
      "The 2D array is\n",
      "\n",
      " [[1 2]\n",
      " [3 5]] \n",
      "\n",
      "<class 'numpy.ndarray'>\n"
     ]
    }
   ],
   "source": [
    "arr1 = np.array([[1, 2], [3, 5]])\n",
    "\n",
    "print(\"The 2D array is\")\n",
    "print('\\n',arr1,'\\n')\n",
    "print(type(arr1))\n",
    "\n",
    "# Here arr1 is a 2D array"
   ]
  },
  {
   "cell_type": "markdown",
   "id": "fd18e098-af74-4365-9f83-c105daa8320d",
   "metadata": {},
   "source": [
    "## The <u>np.asarray()</u>\n",
    "\n",
    "#### Purpose: Converts the input to an array, but does not create a copy if the input is already an array.\n",
    "\n",
    "### Parameters:\n",
    "#### a: The input data, which can be a list, tuple, or any object that can be converted to an array.\n",
    "#### dtype: Data type of the resulting array. If not specified, it is inferred from the input data.\n",
    "#### copy: A boolean indicating whether to make a copy of the data. If False, no copy is made if the input is already an array. If True, a new array is created even if the input is already an array."
   ]
  },
  {
   "cell_type": "code",
   "execution_count": 22,
   "id": "a10dfff0-1a50-4f90-a390-15a9d16cd497",
   "metadata": {},
   "outputs": [
    {
     "name": "stdout",
     "output_type": "stream",
     "text": [
      "The array is [1 2 3 4]\n",
      "<class 'numpy.ndarray'>\n"
     ]
    }
   ],
   "source": [
    "# Method 2 to convert lists to arrays\n",
    "\n",
    "arr2 = np.asarray(l)\n",
    "\n",
    "print(\"The array is\", arr2)\n",
    "print(type(arr2))"
   ]
  },
  {
   "cell_type": "markdown",
   "id": "0f8e17f3-fb57-4c68-b02b-e90438572d88",
   "metadata": {},
   "source": [
    "## The <u>np.asanyarray()</u>\n",
    "\n",
    "#### Converts the input to an array but preserves subclasses of np.ndarray (such as np.matrix or custom subclasses). It is particularly useful when you want to ensure that the input is treated as an array but retain any special behavior or methods provided by subclasses.\n",
    "\n",
    "### Parameters:\n",
    "\n",
    "#### a: The input data, which can be a list, tuple, or any object that can be converted to an array.\n",
    "#### dtype: Data type of the resulting array. If not specified, it is inferred from the input data.\n",
    "#### copy: A boolean indicating whether to make a copy of the data. If False, no copy is made if the input is already an array. If True, a new array is created even if the input is already an array."
   ]
  },
  {
   "cell_type": "code",
   "execution_count": 27,
   "id": "8778fbbd-3fec-4bce-96f4-83b2b8fd2961",
   "metadata": {},
   "outputs": [
    {
     "name": "stdout",
     "output_type": "stream",
     "text": [
      "[1 2 3]\n",
      "<class 'numpy.ndarray'>\n"
     ]
    }
   ],
   "source": [
    "a = np.asanyarray([1, 2, 3])\n",
    "\n",
    "print(a)\n",
    "print(type(a))"
   ]
  },
  {
   "cell_type": "code",
   "execution_count": 29,
   "id": "36e3c707-6e56-4553-992a-1f8a035600ee",
   "metadata": {},
   "outputs": [
    {
     "name": "stdout",
     "output_type": "stream",
     "text": [
      "[[1 2 3 4]]\n",
      "<class 'numpy.matrix'>\n"
     ]
    }
   ],
   "source": [
    "b = np.matrix([1, 2, 3, 4])\n",
    "\n",
    "print(b)\n",
    "print(type(b))"
   ]
  },
  {
   "cell_type": "code",
   "execution_count": 35,
   "id": "bcbacf0a-10f1-4f79-95e9-2a85a2b4355f",
   "metadata": {},
   "outputs": [
    {
     "name": "stdout",
     "output_type": "stream",
     "text": [
      "[[1 2 3 4]]\n",
      "<class 'numpy.matrix'>\n"
     ]
    }
   ],
   "source": [
    "b_ = np.asanyarray(b)\n",
    "\n",
    "print(b_)\n",
    "print(type(b_)) \n",
    "\n",
    "# asanyarray() preserves the subclasses"
   ]
  },
  {
   "cell_type": "code",
   "execution_count": 37,
   "id": "6525ff63-8958-4fd3-bff3-63939d995c26",
   "metadata": {},
   "outputs": [
    {
     "name": "stdout",
     "output_type": "stream",
     "text": [
      "[[1 2 3 4]]\n",
      "<class 'numpy.ndarray'>\n"
     ]
    }
   ],
   "source": [
    "b__ = np.asarray(b)\n",
    "\n",
    "print(b__)\n",
    "print(type(b__)) \n",
    "\n",
    "# asarray() DOES NOT preserve the subclasses"
   ]
  },
  {
   "cell_type": "code",
   "execution_count": 45,
   "id": "34584f1f-e1fd-4f77-9cc0-90aeb198a646",
   "metadata": {},
   "outputs": [
    {
     "name": "stdout",
     "output_type": "stream",
     "text": [
      "The array c is [1 2 3 4]\n",
      "<class 'numpy.ndarray'>\n",
      "\n",
      "d represents a shallow copy of c [1 2 3 4]\n",
      "<class 'numpy.ndarray'>\n"
     ]
    }
   ],
   "source": [
    "c = np.array([1, 2, 3, 4])\n",
    "\n",
    "print('The array c is', c)\n",
    "print(type(c))\n",
    "\n",
    "d = c # shallow copy\n",
    "\n",
    "print('\\nd represents a shallow copy of c', d)\n",
    "print(type(d))"
   ]
  },
  {
   "cell_type": "markdown",
   "id": "57e32165-47b9-4b68-86b0-fda83c3cb42e",
   "metadata": {},
   "source": [
    "### A shallow copy is a type of copy where the new object is created, but it only copies references to the objects contained in the original object, rather than copying the actual objects themselves. This means that while the top-level structure is duplicated, the nested objects or elements remain shared between the original and the copied object."
   ]
  },
  {
   "cell_type": "code",
   "execution_count": 48,
   "id": "5b8ba6d2-797b-4171-8931-6c553db6c922",
   "metadata": {},
   "outputs": [
    {
     "name": "stdout",
     "output_type": "stream",
     "text": [
      "d is now  [100   2   3   4]\n",
      "Changes made to d reflects for c too [100   2   3   4]\n"
     ]
    }
   ],
   "source": [
    "d[0] = 100\n",
    "\n",
    "print('d is now ', d)\n",
    "print('Changes made to d reflects for c too', c)"
   ]
  },
  {
   "cell_type": "code",
   "execution_count": 52,
   "id": "374226dc-8c65-4034-b847-73b0de5ce0da",
   "metadata": {},
   "outputs": [
    {
     "name": "stdout",
     "output_type": "stream",
     "text": [
      "e a duplicate copy of c [100   2   3   4]\n",
      "e is now  [100 414   3   4]\n",
      "Changes made to e are NOT reflected for c this time, hinting DEEP COPY [100   2   3   4]\n"
     ]
    }
   ],
   "source": [
    "e = np.copy(c) # allows deep copy\n",
    "\n",
    "print('e a duplicate copy of c', e)\n",
    "\n",
    "# modifying e \n",
    "e[1] = 414\n",
    "\n",
    "print('e is now ', e)\n",
    "print('Changes made to e are NOT reflected for c this time, hinting DEEP COPY', c)"
   ]
  },
  {
   "cell_type": "markdown",
   "id": "31d1730f-b17d-480c-8bf6-078632d0d342",
   "metadata": {},
   "source": [
    "#### In NumPy, the np.copy() function is used to create a copy of an array. By default, np.copy() performs a deep copy of the array. This means that it creates a new array with its own data, independent of the original array.\n",
    "\n",
    "## <u>np.copy()</u>\n",
    "#### Purpose: To create a new array that is a deep copy of the original array, meaning that the new array contains a copy of the data, not just a reference to the data.\n",
    "\n",
    "### Parameters:\n",
    "\n",
    "#### a: The input array to be copied.\n",
    "#### order: Specifies the memory layout order for the new array. Options are 'C' for C-style row-major order, 'F' for Fortran-style column-major order, and None for the default behavior."
   ]
  },
  {
   "cell_type": "code",
   "execution_count": 305,
   "id": "8df2d87f-1832-41fe-ac1e-aa2771ecbd5f",
   "metadata": {},
   "outputs": [
    {
     "data": {
      "text/plain": [
       "array([[ True, False, False],\n",
       "       [False,  True, False],\n",
       "       [False, False,  True]])"
      ]
     },
     "execution_count": 305,
     "metadata": {},
     "output_type": "execute_result"
    }
   ],
   "source": [
    "np.fromfunction(lambda i, j : i==j, (3, 3))"
   ]
  },
  {
   "cell_type": "markdown",
   "id": "2e4fbda7-dcec-4851-a6bc-4481cbebcc70",
   "metadata": {},
   "source": [
    "#### The <u>numpy.fromfunction()</u> function in NumPy is a powerful tool for creating arrays by specifying a function that generates the values of the array. Instead of manually populating an array, you can use numpy.fromfunction() to define the values based on the array’s indices.\n",
    "\n",
    "### <u>numpy.fromfunction()</u>\n",
    "#### Purpose: To create an array by applying a function to each coordinate index of the array. This function generates the values of the array based on the indices.\n",
    "\n",
    "### Parameters:\n",
    "\n",
    "#### function: A function that takes index arrays as arguments and returns an array of values. The function should accept the indices of the array as input and return the corresponding values.\n",
    "#### shape: A tuple representing the shape of the output array. This determines the dimensions of the array to be created.\n",
    "\n",
    "## <u>(In NumPy, the shape of an array is a tuple that represents the dimensions of the array. Each element of the tuple corresponds to the size of the array along a particular axis)</u>"
   ]
  },
  {
   "cell_type": "code",
   "execution_count": 58,
   "id": "0e01034b-4acf-483f-98f8-84895de2e97b",
   "metadata": {},
   "outputs": [
    {
     "name": "stdout",
     "output_type": "stream",
     "text": [
      "[[False  True  True  True  True]\n",
      " [False False  True  True  True]\n",
      " [False False False  True  True]\n",
      " [False False False False  True]]\n"
     ]
    }
   ],
   "source": [
    "sample1 = np.fromfunction(lambda i, j : i<j, (4, 5))\n",
    "\n",
    "print(sample1)"
   ]
  },
  {
   "cell_type": "code",
   "execution_count": 60,
   "id": "d23aebc6-8640-48a1-b629-8f699a34403d",
   "metadata": {},
   "outputs": [
    {
     "name": "stdout",
     "output_type": "stream",
     "text": [
      "[[0. 0. 0.]\n",
      " [0. 1. 2.]\n",
      " [0. 2. 4.]]\n"
     ]
    }
   ],
   "source": [
    "sample2 = np.fromfunction(lambda i, j : i*j, (3, 3))\n",
    "\n",
    "print(sample2)"
   ]
  },
  {
   "cell_type": "markdown",
   "id": "8955585c-6f3f-4738-91b7-0aaefa0db6e8",
   "metadata": {},
   "source": [
    "#### The <u>numpy.fromiter()</u> function in NumPy is used to create an array from an iterable object. It allows you to generate a NumPy array by iterating over a sequence of elements, such as a list, generator, or any object that supports iteration.\n",
    "\n",
    "### <u>numpy.fromiter()</u>\n",
    "#### Purpose: To create a NumPy array from an iterable object, which is useful when you have a sequence of values but not a standard array-like object.\n",
    "\n",
    "### Parameters:\n",
    "\n",
    "#### iterable: An iterable object (e.g., a list, tuple, or generator) from which to create the array.\n",
    "#### dtype: Data type of the resulting array. This should be specified to ensure the correct data type for the array. If not specified, NumPy tries to infer the data type from the iterable elements.\n",
    "#### count: The number of items to read from the iterable. If not specified, it reads until the iterable is exhausted. This is particularly useful when you only need to read a subset of items"
   ]
  },
  {
   "cell_type": "code",
   "execution_count": 74,
   "id": "7df59c00-d2f2-4213-bf0d-b63df36d2dc3",
   "metadata": {},
   "outputs": [
    {
     "name": "stdout",
     "output_type": "stream",
     "text": [
      "[ 0  1  4  9 16]\n",
      "[  1.   1.   4.  27. 256.]\n"
     ]
    }
   ],
   "source": [
    "iterable1 = (i*i for i in range(5))\n",
    "\n",
    "# dtype specified as int\n",
    "sample3 = np.fromiter(iterable1, int)\n",
    "print(sample3)\n",
    "\n",
    "iterable2 = (i**i for i in range(5))\n",
    "\n",
    "# dtype specified as float\n",
    "sample4 = np.fromiter(iterable2, float)\n",
    "print(sample4)"
   ]
  },
  {
   "cell_type": "code",
   "execution_count": 78,
   "id": "6201a242-842e-4c0b-a8e7-041ee1c212d1",
   "metadata": {},
   "outputs": [
    {
     "name": "stdout",
     "output_type": "stream",
     "text": [
      "[]\n"
     ]
    }
   ],
   "source": [
    "sample5 = np.fromiter(iterable1, int)\n",
    "\n",
    "print(sample5)"
   ]
  },
  {
   "cell_type": "markdown",
   "id": "d76f978a-9158-4af6-9321-5c2aea7311fb",
   "metadata": {},
   "source": [
    "### The reason you're getting an empty array is that the generator iterable1 is exhausted by the time you pass it to np.fromiter(). In Python, generators are iterated over only once. After they are exhausted, they cannot be reused or iterated over again"
   ]
  },
  {
   "cell_type": "code",
   "execution_count": 81,
   "id": "8b86c700-ef43-4243-9b30-9422f879c6f1",
   "metadata": {},
   "outputs": [
    {
     "name": "stdout",
     "output_type": "stream",
     "text": [
      "[223. 414.]\n"
     ]
    }
   ],
   "source": [
    "sample6 = np.fromstring('223 414', sep=\" \")\n",
    "\n",
    "print(sample6)"
   ]
  },
  {
   "cell_type": "code",
   "execution_count": 83,
   "id": "26ca7307-0db4-4356-b7d8-d2c3623f9f24",
   "metadata": {},
   "outputs": [
    {
     "name": "stdout",
     "output_type": "stream",
     "text": [
      "[2. 4. 1. 4.]\n"
     ]
    }
   ],
   "source": [
    "sample7 = np.fromstring('2,4,1,4', sep=\",\")\n",
    "\n",
    "print(sample7)"
   ]
  },
  {
   "cell_type": "code",
   "execution_count": 314,
   "id": "76ccb38b-2a21-49a9-8eaa-8e7824f8aadb",
   "metadata": {},
   "outputs": [],
   "source": [
    "# numpy data types"
   ]
  },
  {
   "cell_type": "code",
   "execution_count": 101,
   "id": "69e99b04-8c44-4cbf-bfb8-73f019811b84",
   "metadata": {},
   "outputs": [
    {
     "name": "stdout",
     "output_type": "stream",
     "text": [
      "[1 4 6 1 4 6]\n",
      "\n",
      "The dimensions of arr3 is 1\n",
      "\n",
      "The size of arr3 is 6\n",
      "\n",
      "The shape of arr3 is (6,)\n",
      "\n",
      "The dtype of arr3 is int32\n"
     ]
    }
   ],
   "source": [
    "arr3 = np.array([1, 4, 6, 1, 4, 6])\n",
    "\n",
    "print(arr3)\n",
    "print('\\nThe dimensions of arr3 is', arr3.ndim)\n",
    "print('\\nThe size of arr3 is', arr3.size)\n",
    "print('\\nThe shape of arr3 is', arr3.shape)\n",
    "print('\\nThe dtype of arr3 is', arr3.dtype)"
   ]
  },
  {
   "cell_type": "code",
   "execution_count": 103,
   "id": "a179a807-e825-4f9e-87b5-8f8f31081b5c",
   "metadata": {},
   "outputs": [
    {
     "name": "stdout",
     "output_type": "stream",
     "text": [
      "[[4 1 4]\n",
      " [0 8 2]]\n",
      "\n",
      "The dimensions of arr4 is 2\n",
      "\n",
      "The size of arr4 is 6\n",
      "\n",
      "The shape of arr4 is (2, 3)\n",
      "\n",
      "The dtype of arr4 is int32\n"
     ]
    }
   ],
   "source": [
    "arr4 = np.array([[4, 1, 4], [0, 8, 2]])\n",
    "\n",
    "print(arr4)\n",
    "print('\\nThe dimensions of arr4 is', arr4.ndim)\n",
    "print('\\nThe size of arr4 is', arr4.size)\n",
    "print('\\nThe shape of arr4 is', arr4.shape)\n",
    "print('\\nThe dtype of arr4 is', arr4.dtype)"
   ]
  },
  {
   "cell_type": "code",
   "execution_count": 105,
   "id": "b33d803a-2cbc-48ab-8cc5-239e0e88a281",
   "metadata": {},
   "outputs": [
    {
     "name": "stdout",
     "output_type": "stream",
     "text": [
      "[[1.45 4.14 4.56]\n",
      " [4.14 7.34 9.43]]\n",
      "\n",
      "The dimensions of arr4 is 2\n",
      "\n",
      "The size of arr4 is 6\n",
      "\n",
      "The shape of arr4 is (2, 3)\n",
      "\n",
      "The dtype of arr4 is float64\n"
     ]
    }
   ],
   "source": [
    "arr5 = np.array([(1.45, 4.14, 4.56), (4.14, 7.34, 9.43)])\n",
    "\n",
    "print(arr5)\n",
    "print('\\nThe dimensions of arr4 is', arr5.ndim)\n",
    "print('\\nThe size of arr4 is', arr5.size)\n",
    "print('\\nThe shape of arr4 is', arr5.shape)\n",
    "print('\\nThe dtype of arr4 is', arr5.dtype)"
   ]
  },
  {
   "cell_type": "code",
   "execution_count": 327,
   "id": "12b44137-f31f-440c-bcad-c677e6e10bb4",
   "metadata": {},
   "outputs": [
    {
     "data": {
      "text/plain": [
       "[0, 1, 2, 3, 4]"
      ]
     },
     "execution_count": 327,
     "metadata": {},
     "output_type": "execute_result"
    }
   ],
   "source": [
    "list(range(5))"
   ]
  },
  {
   "cell_type": "markdown",
   "id": "86b322d7-0dea-4e56-9d66-d372ed57a3a4",
   "metadata": {},
   "source": [
    "#### The <u>numpy.arange()</u> function in NumPy is used to create an array with evenly spaced values within a specified range. It is similar to Python's built-in range() function but returns a NumPy array instead of a list.\n",
    "\n",
    "### <u>numpy.arange()</u>\n",
    "#### Purpose: To generate an array of evenly spaced values between a start value and a stop value (and optionally, with a specified step size).\n",
    "\n",
    "### Parameters:\n",
    "\n",
    "#### start: The starting value of the sequence. The default is 0 if not provided.\n",
    "#### stop: The end value of the sequence, which is not included in the array.\n",
    "#### step: The spacing between values in the array. The default is 1 if not provided.\n",
    "#### dtype: The data type of the resulting array. If not specified, it is inferred from the input values"
   ]
  },
  {
   "cell_type": "code",
   "execution_count": 108,
   "id": "39a5b353-ee98-4a5e-a691-37d5eb2bdaff",
   "metadata": {},
   "outputs": [
    {
     "name": "stdout",
     "output_type": "stream",
     "text": [
      "[2.3 3.3 4.3 5.3]\n"
     ]
    }
   ],
   "source": [
    "arr6 = np.arange(2.3, 5.6)\n",
    "\n",
    "print(arr6)\n",
    "\n",
    "# if step isnot mentioned, by default remains 1"
   ]
  },
  {
   "cell_type": "code",
   "execution_count": 3,
   "id": "360fbaa3-b6bb-4602-9c76-2c307c7f87af",
   "metadata": {},
   "outputs": [
    {
     "name": "stdout",
     "output_type": "stream",
     "text": [
      "[2.3 2.5 2.7 2.9 3.1 3.3 3.5 3.7 3.9 4.1 4.3 4.5 4.7 4.9 5.1 5.3 5.5]\n"
     ]
    }
   ],
   "source": [
    "arr7 = np.arange(2.3, 5.6, 0.2)\n",
    "\n",
    "print(arr7)"
   ]
  },
  {
   "cell_type": "code",
   "execution_count": 112,
   "id": "fd021cbe-8797-4abd-8b82-308e0303131a",
   "metadata": {},
   "outputs": [
    {
     "data": {
      "text/plain": [
       "[2.3,\n",
       " 2.5,\n",
       " 2.7,\n",
       " 2.9000000000000004,\n",
       " 3.1000000000000005,\n",
       " 3.3000000000000007,\n",
       " 3.500000000000001,\n",
       " 3.700000000000001,\n",
       " 3.9000000000000012,\n",
       " 4.100000000000001,\n",
       " 4.300000000000002,\n",
       " 4.500000000000002,\n",
       " 4.700000000000002,\n",
       " 4.900000000000002,\n",
       " 5.100000000000002,\n",
       " 5.3000000000000025,\n",
       " 5.500000000000003]"
      ]
     },
     "execution_count": 112,
     "metadata": {},
     "output_type": "execute_result"
    }
   ],
   "source": [
    "list(arr7)"
   ]
  },
  {
   "cell_type": "markdown",
   "id": "134ce607-45a4-4aaa-9cc0-715b8cce30d0",
   "metadata": {},
   "source": [
    "#### The <u>numpy.linspace()</u> function in NumPy generates an array of evenly spaced values over a specified interval. Unlike numpy.arange(), which uses a step size to determine the spacing between values, numpy.linspace() specifies the number of values you want to generate and calculates the step size accordingly to ensure that the values are evenly spaced.\n",
    "\n",
    "### <u>numpy.linspace()</u>\n",
    "#### Purpose: To create an array of evenly spaced values over a specified range, with a specified number of values.\n",
    "\n",
    "### Parameters:\n",
    "\n",
    "#### start: The starting value of the sequence.\n",
    "#### stop: The end value of the sequence, which is included in the array.\n",
    "#### num: The number of values to generate. The default is 50 if not specified.\n",
    "#### endpoint: A boolean indicating whether to include the stop value in the array. The default is True.\n",
    "#### retstep: A boolean indicating whether to return the step size between values. The default is False.\n",
    "#### dtype: The data type of the resulting array. If not specified, it is inferred from the input values."
   ]
  },
  {
   "cell_type": "code",
   "execution_count": 9,
   "id": "a47a3f94-84e3-458b-b2ff-33c15e47cc13",
   "metadata": {},
   "outputs": [
    {
     "name": "stdout",
     "output_type": "stream",
     "text": [
      "[1.         1.44444444 1.88888889 2.33333333 2.77777778 3.22222222\n",
      " 3.66666667 4.11111111 4.55555556 5.        ]\n"
     ]
    }
   ],
   "source": [
    "arr8 = np.linspace(1, 5, 10)\n",
    "print(arr8)\n",
    "\n",
    "# by default the dtype for linspace() is float"
   ]
  },
  {
   "cell_type": "code",
   "execution_count": 42,
   "id": "f371ed5b-4f7e-4ba7-8698-e3b317eef224",
   "metadata": {},
   "outputs": [
    {
     "name": "stdout",
     "output_type": "stream",
     "text": [
      "[2.         2.10526316 2.21052632 2.31578947 2.42105263 2.52631579\n",
      " 2.63157895 2.73684211 2.84210526 2.94736842 3.05263158 3.15789474\n",
      " 3.26315789 3.36842105 3.47368421 3.57894737 3.68421053 3.78947368\n",
      " 3.89473684 4.        ]\n"
     ]
    }
   ],
   "source": [
    "arr9 = np.linspace(2, 4, 20)\n",
    "\n",
    "print(arr9)"
   ]
  },
  {
   "cell_type": "markdown",
   "id": "de8de020-b1d7-4bed-ac74-bf3287c3c1ba",
   "metadata": {},
   "source": [
    "## What is np.logspace()?\n",
    "### np.logspace() generates numbers spaced evenly on a logarithmic scale, which means that the numbers grow (or shrink) exponentially, rather than linearly.\n",
    "\n",
    "#### In linear space, numbers increase by a constant difference (e.g., 1, 2, 3, 4, ...).\n",
    "#### In logarithmic space, numbers increase by a constant ratio (e.g., 1, 10, 100, 1000, ...), where each number is a fixed multiple of the previous one.\n",
    "\n",
    "## How np.logspace() works\n",
    "#### When you use np.logspace(), you define a range of exponents (powers) to generate numbers. These numbers are calculated as powers of a base, typically 10 (default base).\n",
    "\n",
    "### Key Parameters:\n",
    "#### start: The exponent to start from. The first number will be base ** start\n",
    "#### stop: The exponent to stop at. The last number will be base ** stop\n",
    "#### num: How many numbers to generate.\n",
    "#### base: The base of the logarithmic scale (default is 10, but you can use any base)."
   ]
  },
  {
   "cell_type": "code",
   "execution_count": 47,
   "id": "247cb084-89b7-42b5-b850-28eb74312a4b",
   "metadata": {},
   "outputs": [
    {
     "name": "stdout",
     "output_type": "stream",
     "text": [
      "[   100.            215.443469      464.15888336   1000.\n",
      "   2154.43469003   4641.58883361  10000.          21544.34690032\n",
      "  46415.88833613 100000.        ]\n"
     ]
    }
   ],
   "source": [
    "arrLog1 = np.logspace(2, 5, 10)\n",
    "\n",
    "print(arrLog1)"
   ]
  },
  {
   "cell_type": "code",
   "execution_count": 49,
   "id": "0a24f3f6-f024-4fb8-b66b-92bb8c125d78",
   "metadata": {},
   "outputs": [
    {
     "name": "stdout",
     "output_type": "stream",
     "text": [
      "[ 4.          5.0396842   6.34960421  8.         10.0793684  12.69920842\n",
      " 16.         20.1587368  25.39841683 32.        ]\n"
     ]
    }
   ],
   "source": [
    "arrLog2 = np.logspace(2, 5, 10, base=2)\n",
    "\n",
    "print(arrLog2)"
   ]
  },
  {
   "cell_type": "code",
   "execution_count": 53,
   "id": "bc376b7a-e1d7-4887-b8c6-791954c73e45",
   "metadata": {},
   "outputs": [
    {
     "name": "stdout",
     "output_type": "stream",
     "text": [
      "[   1.   10.  100. 1000.]\n"
     ]
    }
   ],
   "source": [
    "arrLog3 = np.logspace(0, 3, 4)\n",
    "\n",
    "print(arrLog3)"
   ]
  },
  {
   "cell_type": "markdown",
   "id": "110910ab-ae59-42b2-bcb4-c721c8a94971",
   "metadata": {},
   "source": [
    "### np.zeros() is a function in NumPy that creates a new array filled with zeros. You can specify the shape and data type of the array.\n",
    "\n",
    "## Parameters:\n",
    "### shape: Defines the dimensions of the array (e.g., (3, 4) for a 3x4 array).\n",
    "### dtype: (Optional) Specifies the data type of the array elements. The default is float."
   ]
  },
  {
   "cell_type": "code",
   "execution_count": 11,
   "id": "d74def7c-033f-4a51-bdb3-ea43f39a1471",
   "metadata": {},
   "outputs": [
    {
     "name": "stdout",
     "output_type": "stream",
     "text": [
      "[0. 0. 0. 0. 0.]\n"
     ]
    }
   ],
   "source": [
    "arrZeros1 = np.zeros(5)\n",
    "\n",
    "print(arrZeros1)"
   ]
  },
  {
   "cell_type": "code",
   "execution_count": 15,
   "id": "7ba9bc3f-1f62-4e15-838d-1ac55b6737e2",
   "metadata": {},
   "outputs": [
    {
     "name": "stdout",
     "output_type": "stream",
     "text": [
      "[[0 0 0 0]\n",
      " [0 0 0 0]\n",
      " [0 0 0 0]]\n"
     ]
    }
   ],
   "source": [
    "arrZeros2 = np.zeros((3, 4), dtype=int)\n",
    "\n",
    "print(arrZeros2)"
   ]
  },
  {
   "cell_type": "code",
   "execution_count": 17,
   "id": "43b8c783-6586-4e34-bf0a-d28269c87d90",
   "metadata": {},
   "outputs": [
    {
     "name": "stdout",
     "output_type": "stream",
     "text": [
      "[[[0. 0. 0.]\n",
      "  [0. 0. 0.]\n",
      "  [0. 0. 0.]\n",
      "  [0. 0. 0.]]\n",
      "\n",
      " [[0. 0. 0.]\n",
      "  [0. 0. 0.]\n",
      "  [0. 0. 0.]\n",
      "  [0. 0. 0.]]\n",
      "\n",
      " [[0. 0. 0.]\n",
      "  [0. 0. 0.]\n",
      "  [0. 0. 0.]\n",
      "  [0. 0. 0.]]]\n"
     ]
    }
   ],
   "source": [
    "arrZeros3 = np.zeros((3, 4, 3))\n",
    "\n",
    "print(arrZeros3)"
   ]
  },
  {
   "cell_type": "code",
   "execution_count": 19,
   "id": "781f42d7-2ea0-4a66-9504-cb843024aa47",
   "metadata": {},
   "outputs": [
    {
     "name": "stdout",
     "output_type": "stream",
     "text": [
      "[[[[0. 0.]\n",
      "   [0. 0.]\n",
      "   [0. 0.]]\n",
      "\n",
      "  [[0. 0.]\n",
      "   [0. 0.]\n",
      "   [0. 0.]]\n",
      "\n",
      "  [[0. 0.]\n",
      "   [0. 0.]\n",
      "   [0. 0.]]\n",
      "\n",
      "  [[0. 0.]\n",
      "   [0. 0.]\n",
      "   [0. 0.]]]\n",
      "\n",
      "\n",
      " [[[0. 0.]\n",
      "   [0. 0.]\n",
      "   [0. 0.]]\n",
      "\n",
      "  [[0. 0.]\n",
      "   [0. 0.]\n",
      "   [0. 0.]]\n",
      "\n",
      "  [[0. 0.]\n",
      "   [0. 0.]\n",
      "   [0. 0.]]\n",
      "\n",
      "  [[0. 0.]\n",
      "   [0. 0.]\n",
      "   [0. 0.]]]\n",
      "\n",
      "\n",
      " [[[0. 0.]\n",
      "   [0. 0.]\n",
      "   [0. 0.]]\n",
      "\n",
      "  [[0. 0.]\n",
      "   [0. 0.]\n",
      "   [0. 0.]]\n",
      "\n",
      "  [[0. 0.]\n",
      "   [0. 0.]\n",
      "   [0. 0.]]\n",
      "\n",
      "  [[0. 0.]\n",
      "   [0. 0.]\n",
      "   [0. 0.]]]]\n",
      "\n",
      "The dimensions of the array arrZeros4 4\n"
     ]
    }
   ],
   "source": [
    "arrZeros4 = np.zeros((3, 4, 3, 2))\n",
    "\n",
    "print(arrZeros4)\n",
    "print('\\nThe dimensions of the array arrZeros4', arrZeros4.ndim)"
   ]
  },
  {
   "cell_type": "markdown",
   "id": "a85f1112-90cb-4d6e-ba1a-fc51d39d46d7",
   "metadata": {},
   "source": [
    "### np.ones() is similar to np.zeros(), but instead of filling the array with zeros, it fills the array with ones.\n",
    "\n",
    "## Parameters\n",
    "#### shape: Defines the dimensions of the array (e.g., (3, 4) for a 3x4 array).\n",
    "#### dtype: (Optional) Specifies the data type of the array elements. The default is float."
   ]
  },
  {
   "cell_type": "code",
   "execution_count": 25,
   "id": "1a4ef383-34b6-4934-aa63-f4eab76dfa5c",
   "metadata": {},
   "outputs": [
    {
     "name": "stdout",
     "output_type": "stream",
     "text": [
      "[1. 1. 1. 1.]\n",
      "\n",
      "The dimensions of the array arrOnes1: 1\n",
      "\n",
      "The datatype of the array arrOnes1: float64\n"
     ]
    }
   ],
   "source": [
    "arrOnes1 = np.ones(4)\n",
    "\n",
    "print(arrOnes1)\n",
    "print('\\nThe dimensions of the array arrOnes1:', arrOnes1.ndim)\n",
    "print('\\nThe datatype of the array arrOnes1:', arrOnes1.dtype)"
   ]
  },
  {
   "cell_type": "code",
   "execution_count": 27,
   "id": "0b266c07-2701-41a7-ab80-4a03c6cbd043",
   "metadata": {},
   "outputs": [
    {
     "name": "stdout",
     "output_type": "stream",
     "text": [
      "[[1. 1. 1.]\n",
      " [1. 1. 1.]]\n",
      "\n",
      "The dimensions of the array arrOnes2: 2\n",
      "\n",
      "The datatype of the array arrOnes2: float64\n"
     ]
    }
   ],
   "source": [
    "arrOnes2 = np.ones((2, 3))\n",
    "\n",
    "print(arrOnes2)\n",
    "print('\\nThe dimensions of the array arrOnes2:', arrOnes2.ndim)\n",
    "print('\\nThe datatype of the array arrOnes2:', arrOnes2.dtype)"
   ]
  },
  {
   "cell_type": "code",
   "execution_count": 29,
   "id": "603ecefb-d0c1-4841-ace7-c794ceb54a10",
   "metadata": {},
   "outputs": [
    {
     "name": "stdout",
     "output_type": "stream",
     "text": [
      "[[[1. 1. 1. 1.]\n",
      "  [1. 1. 1. 1.]\n",
      "  [1. 1. 1. 1.]]\n",
      "\n",
      " [[1. 1. 1. 1.]\n",
      "  [1. 1. 1. 1.]\n",
      "  [1. 1. 1. 1.]]]\n",
      "\n",
      "The dimensions of the array arrOnes3: 3\n",
      "\n",
      "The datatype of the array arrOnes3: float64\n"
     ]
    }
   ],
   "source": [
    "arrOnes3 = np.ones((2, 3, 4))\n",
    "\n",
    "print(arrOnes3)\n",
    "print('\\nThe dimensions of the array arrOnes3:', arrOnes3.ndim)\n",
    "print('\\nThe datatype of the array arrOnes3:', arrOnes3.dtype)"
   ]
  },
  {
   "cell_type": "code",
   "execution_count": 31,
   "id": "53cb40c6-2c40-4065-9af6-03a49b028db4",
   "metadata": {},
   "outputs": [
    {
     "name": "stdout",
     "output_type": "stream",
     "text": [
      "[[[6. 6. 6. 6.]\n",
      "  [6. 6. 6. 6.]\n",
      "  [6. 6. 6. 6.]]\n",
      "\n",
      " [[6. 6. 6. 6.]\n",
      "  [6. 6. 6. 6.]\n",
      "  [6. 6. 6. 6.]]]\n"
     ]
    }
   ],
   "source": [
    "print(arrOnes3 + 5)"
   ]
  },
  {
   "cell_type": "code",
   "execution_count": 33,
   "id": "7bbe92ba-cd72-40b3-ac2d-cc80d91e6500",
   "metadata": {},
   "outputs": [
    {
     "name": "stdout",
     "output_type": "stream",
     "text": [
      "[[[4. 4. 4. 4.]\n",
      "  [4. 4. 4. 4.]\n",
      "  [4. 4. 4. 4.]]\n",
      "\n",
      " [[4. 4. 4. 4.]\n",
      "  [4. 4. 4. 4.]\n",
      "  [4. 4. 4. 4.]]]\n"
     ]
    }
   ],
   "source": [
    "print(arrOnes3 * 4)"
   ]
  },
  {
   "cell_type": "markdown",
   "id": "d78d9223-6b5b-408b-b26e-04bbd64f1f44",
   "metadata": {},
   "source": [
    "#### np.empty() creates a new array without initializing its values, meaning the contents will be whatever is already in memory at the time. This means the values in the array will be random or garbage (uninitialized), unlike np.zeros() or np.ones() which fill the array with specific values (0 or 1, respectively).\n",
    "\n",
    "#### It can be faster than np.zeros() or np.ones() since it doesn't need to set the values explicitly, but you should only use it when you plan to fill the array immediately afterward.\n",
    "\n",
    "### Parameters:\n",
    "#### shape: Defines the dimensions of the array.\n",
    "#### dtype: (Optional) Specifies the data type of the array elements. The default is float."
   ]
  },
  {
   "cell_type": "code",
   "execution_count": 38,
   "id": "913207e0-50e3-4da6-b3af-f7e38bb3a389",
   "metadata": {},
   "outputs": [
    {
     "name": "stdout",
     "output_type": "stream",
     "text": [
      "[[0.00000000e+000 0.00000000e+000 0.00000000e+000 0.00000000e+000\n",
      "  0.00000000e+000]\n",
      " [0.00000000e+000 0.00000000e+000 0.00000000e+000 0.00000000e+000\n",
      "  0.00000000e+000]\n",
      " [0.00000000e+000 0.00000000e+000 0.00000000e+000 0.00000000e+000\n",
      "  2.56765117e-312]]\n"
     ]
    }
   ],
   "source": [
    "garb1 = np.empty((3, 5))\n",
    "\n",
    "print(garb1)"
   ]
  },
  {
   "cell_type": "code",
   "execution_count": 40,
   "id": "43dfcb4d-2949-4713-9a3b-ab6c4623792f",
   "metadata": {},
   "outputs": [
    {
     "name": "stdout",
     "output_type": "stream",
     "text": [
      "[[6.23042070e-307 1.86918699e-306 1.69121096e-306 1.60218491e-306\n",
      "  7.56587585e-307 1.37961302e-306]\n",
      " [1.05699242e-307 8.01097889e-307 1.78020169e-306 7.56601165e-307\n",
      "  1.02359984e-306 1.42417221e-306]\n",
      " [7.56593017e-307 1.78021798e-306 6.89804132e-307 1.78021527e-306\n",
      "  1.42410974e-306 1.42410974e-306]]\n"
     ]
    }
   ],
   "source": [
    "garb2 = np.empty((3, 6))\n",
    "\n",
    "print(garb2)"
   ]
  },
  {
   "cell_type": "markdown",
   "id": "a6b2c291-3daa-4741-af8c-c0c7c9d9b3c9",
   "metadata": {},
   "source": [
    "## 1. <u>np.random.rand()</u>: Uniform Distribution\n",
    "#### np.random.rand() generates random numbers from a uniform distribution over the range [0, 1), meaning the values are uniformly distributed between 0 and 1 (including 0, but excluding 1).\n",
    "\n",
    "## 2. <u>np.random.randn()</u>: Standard Normal Distribution\n",
    "#### np.random.randn() generates random numbers from a standard normal distribution (also called a Gaussian distribution) with a mean of 0 and a standard deviation of 1. The values can be both positive and negative, and they are centered around 0.\n",
    "\n",
    "## 3. <U>np.random.randint()</U>: Random Integers\n",
    "#### np.random.randint() generates random integers between a specified range (inclusive of the lower bound, exclusive of the upper bound). You can also specify the shape of the output array"
   ]
  },
  {
   "cell_type": "code",
   "execution_count": 62,
   "id": "8221930d-4287-4fb1-9d07-f061dda8efea",
   "metadata": {},
   "outputs": [
    {
     "name": "stdout",
     "output_type": "stream",
     "text": [
      "[[-1.47497133 -1.04230771 -0.02201629 -0.37328775]\n",
      " [-0.92412645 -1.19567531  1.21633774 -0.21815666]\n",
      " [ 0.09860281  1.81391106 -0.5275555  -1.44093779]]\n"
     ]
    }
   ],
   "source": [
    "arr10 = np.random.randn(3, 4)\n",
    "\n",
    "print(arr10)"
   ]
  },
  {
   "cell_type": "code",
   "execution_count": 64,
   "id": "c288bf76-a2f3-40af-b65e-f1b80ebd41c0",
   "metadata": {},
   "outputs": [
    {
     "data": {
      "text/html": [
       "<div>\n",
       "<style scoped>\n",
       "    .dataframe tbody tr th:only-of-type {\n",
       "        vertical-align: middle;\n",
       "    }\n",
       "\n",
       "    .dataframe tbody tr th {\n",
       "        vertical-align: top;\n",
       "    }\n",
       "\n",
       "    .dataframe thead th {\n",
       "        text-align: right;\n",
       "    }\n",
       "</style>\n",
       "<table border=\"1\" class=\"dataframe\">\n",
       "  <thead>\n",
       "    <tr style=\"text-align: right;\">\n",
       "      <th></th>\n",
       "      <th>0</th>\n",
       "      <th>1</th>\n",
       "      <th>2</th>\n",
       "      <th>3</th>\n",
       "    </tr>\n",
       "  </thead>\n",
       "  <tbody>\n",
       "    <tr>\n",
       "      <th>0</th>\n",
       "      <td>-1.474971</td>\n",
       "      <td>-1.042308</td>\n",
       "      <td>-0.022016</td>\n",
       "      <td>-0.373288</td>\n",
       "    </tr>\n",
       "    <tr>\n",
       "      <th>1</th>\n",
       "      <td>-0.924126</td>\n",
       "      <td>-1.195675</td>\n",
       "      <td>1.216338</td>\n",
       "      <td>-0.218157</td>\n",
       "    </tr>\n",
       "    <tr>\n",
       "      <th>2</th>\n",
       "      <td>0.098603</td>\n",
       "      <td>1.813911</td>\n",
       "      <td>-0.527556</td>\n",
       "      <td>-1.440938</td>\n",
       "    </tr>\n",
       "  </tbody>\n",
       "</table>\n",
       "</div>"
      ],
      "text/plain": [
       "          0         1         2         3\n",
       "0 -1.474971 -1.042308 -0.022016 -0.373288\n",
       "1 -0.924126 -1.195675  1.216338 -0.218157\n",
       "2  0.098603  1.813911 -0.527556 -1.440938"
      ]
     },
     "execution_count": 64,
     "metadata": {},
     "output_type": "execute_result"
    }
   ],
   "source": [
    "import pandas as pd\n",
    "\n",
    "df1 = pd.DataFrame(arr10)\n",
    "df1"
   ]
  },
  {
   "cell_type": "code",
   "execution_count": 66,
   "id": "b4a9b917-07ee-4e75-8270-3e6c1471d1be",
   "metadata": {},
   "outputs": [
    {
     "name": "stdout",
     "output_type": "stream",
     "text": [
      "[[0.88295569 0.39175338 0.851398   0.30594115]\n",
      " [0.14603558 0.44594109 0.23271368 0.03051683]\n",
      " [0.42161083 0.06058698 0.88645534 0.59614896]]\n"
     ]
    }
   ],
   "source": [
    "arr11 = np.random.rand(3, 4)\n",
    "\n",
    "print(arr11)"
   ]
  },
  {
   "cell_type": "code",
   "execution_count": 68,
   "id": "49eb63aa-f29a-4804-a038-bd69fc886949",
   "metadata": {},
   "outputs": [
    {
     "name": "stdout",
     "output_type": "stream",
     "text": [
      "[[ 60  49 109   8]\n",
      " [ 94  49   5  82]\n",
      " [ 73  50 101  69]]\n"
     ]
    }
   ],
   "source": [
    "arr12 = np.random.randint(1, 110, (3, 4))\n",
    "\n",
    "print(arr12)"
   ]
  },
  {
   "cell_type": "code",
   "execution_count": 70,
   "id": "8dcfd591-350c-4ce3-b7b4-e1555fbad6cd",
   "metadata": {},
   "outputs": [
    {
     "name": "stdout",
     "output_type": "stream",
     "text": [
      "[[27 70 34 23]\n",
      " [34 49 36 40]\n",
      " [20  8 42 28]\n",
      " ...\n",
      " [71 24 10 11]\n",
      " [67 93 33 70]\n",
      " [ 2 29  4 41]]\n"
     ]
    }
   ],
   "source": [
    "arr13 = np.random.randint(1, 110, (300, 4))\n",
    "\n",
    "print(arr13)"
   ]
  },
  {
   "cell_type": "code",
   "execution_count": 72,
   "id": "bb5c0d85-e80e-4c53-abdd-5fd1c0251c14",
   "metadata": {},
   "outputs": [
    {
     "data": {
      "text/html": [
       "<div>\n",
       "<style scoped>\n",
       "    .dataframe tbody tr th:only-of-type {\n",
       "        vertical-align: middle;\n",
       "    }\n",
       "\n",
       "    .dataframe tbody tr th {\n",
       "        vertical-align: top;\n",
       "    }\n",
       "\n",
       "    .dataframe thead th {\n",
       "        text-align: right;\n",
       "    }\n",
       "</style>\n",
       "<table border=\"1\" class=\"dataframe\">\n",
       "  <thead>\n",
       "    <tr style=\"text-align: right;\">\n",
       "      <th></th>\n",
       "      <th>0</th>\n",
       "      <th>1</th>\n",
       "      <th>2</th>\n",
       "      <th>3</th>\n",
       "    </tr>\n",
       "  </thead>\n",
       "  <tbody>\n",
       "    <tr>\n",
       "      <th>0</th>\n",
       "      <td>27</td>\n",
       "      <td>70</td>\n",
       "      <td>34</td>\n",
       "      <td>23</td>\n",
       "    </tr>\n",
       "    <tr>\n",
       "      <th>1</th>\n",
       "      <td>34</td>\n",
       "      <td>49</td>\n",
       "      <td>36</td>\n",
       "      <td>40</td>\n",
       "    </tr>\n",
       "    <tr>\n",
       "      <th>2</th>\n",
       "      <td>20</td>\n",
       "      <td>8</td>\n",
       "      <td>42</td>\n",
       "      <td>28</td>\n",
       "    </tr>\n",
       "    <tr>\n",
       "      <th>3</th>\n",
       "      <td>23</td>\n",
       "      <td>30</td>\n",
       "      <td>61</td>\n",
       "      <td>88</td>\n",
       "    </tr>\n",
       "    <tr>\n",
       "      <th>4</th>\n",
       "      <td>54</td>\n",
       "      <td>1</td>\n",
       "      <td>39</td>\n",
       "      <td>1</td>\n",
       "    </tr>\n",
       "    <tr>\n",
       "      <th>...</th>\n",
       "      <td>...</td>\n",
       "      <td>...</td>\n",
       "      <td>...</td>\n",
       "      <td>...</td>\n",
       "    </tr>\n",
       "    <tr>\n",
       "      <th>295</th>\n",
       "      <td>24</td>\n",
       "      <td>60</td>\n",
       "      <td>32</td>\n",
       "      <td>78</td>\n",
       "    </tr>\n",
       "    <tr>\n",
       "      <th>296</th>\n",
       "      <td>1</td>\n",
       "      <td>2</td>\n",
       "      <td>87</td>\n",
       "      <td>66</td>\n",
       "    </tr>\n",
       "    <tr>\n",
       "      <th>297</th>\n",
       "      <td>71</td>\n",
       "      <td>24</td>\n",
       "      <td>10</td>\n",
       "      <td>11</td>\n",
       "    </tr>\n",
       "    <tr>\n",
       "      <th>298</th>\n",
       "      <td>67</td>\n",
       "      <td>93</td>\n",
       "      <td>33</td>\n",
       "      <td>70</td>\n",
       "    </tr>\n",
       "    <tr>\n",
       "      <th>299</th>\n",
       "      <td>2</td>\n",
       "      <td>29</td>\n",
       "      <td>4</td>\n",
       "      <td>41</td>\n",
       "    </tr>\n",
       "  </tbody>\n",
       "</table>\n",
       "<p>300 rows × 4 columns</p>\n",
       "</div>"
      ],
      "text/plain": [
       "      0   1   2   3\n",
       "0    27  70  34  23\n",
       "1    34  49  36  40\n",
       "2    20   8  42  28\n",
       "3    23  30  61  88\n",
       "4    54   1  39   1\n",
       "..   ..  ..  ..  ..\n",
       "295  24  60  32  78\n",
       "296   1   2  87  66\n",
       "297  71  24  10  11\n",
       "298  67  93  33  70\n",
       "299   2  29   4  41\n",
       "\n",
       "[300 rows x 4 columns]"
      ]
     },
     "execution_count": 72,
     "metadata": {},
     "output_type": "execute_result"
    }
   ],
   "source": [
    "df2 = pd.DataFrame(arr13)\n",
    "# pd.DataFrame(arr7).to_csv('test.csv')\n",
    "\n",
    "df2"
   ]
  },
  {
   "cell_type": "code",
   "execution_count": 74,
   "id": "a7393e6d-4796-4feb-9116-2adab85add04",
   "metadata": {},
   "outputs": [
    {
     "name": "stdout",
     "output_type": "stream",
     "text": [
      "[[0.30573535 0.21681913 0.38043186 0.95969375]\n",
      " [0.64523354 0.72354434 0.00612358 0.15166229]\n",
      " [0.68214459 0.03266452 0.98621842 0.25070391]]\n"
     ]
    }
   ],
   "source": [
    "arr14 = np.random.rand(3, 4)\n",
    "\n",
    "print(arr14)"
   ]
  },
  {
   "cell_type": "markdown",
   "id": "a1822a7b-89eb-461c-96e0-89c9e22acbc2",
   "metadata": {},
   "source": [
    "#### The np.reshape() function in NumPy is used to change the shape of an array without changing its data. Essentially, it gives a new shape to an existing array, but the total number of elements must remain the same.\n",
    "\n",
    "## np.reshape(array, new_shape)\n",
    "#### array: The array you want to reshape.\n",
    "#### new_shape: The desired shape, specified as a tuple (rows, columns). The total number of elements in new_shape must match the number of elements in the original array."
   ]
  },
  {
   "cell_type": "code",
   "execution_count": 76,
   "id": "4e8bd4cf-191e-4d05-a245-9aae29bcb735",
   "metadata": {},
   "outputs": [
    {
     "name": "stdout",
     "output_type": "stream",
     "text": [
      "[[0.30573535 0.21681913]\n",
      " [0.38043186 0.95969375]\n",
      " [0.64523354 0.72354434]\n",
      " [0.00612358 0.15166229]\n",
      " [0.68214459 0.03266452]\n",
      " [0.98621842 0.25070391]]\n"
     ]
    }
   ],
   "source": [
    "print(arr14.reshape(6, 2))"
   ]
  },
  {
   "cell_type": "code",
   "execution_count": 78,
   "id": "a97c7a0c-fc4d-4a98-9dbe-1af417e78a60",
   "metadata": {},
   "outputs": [
    {
     "name": "stdout",
     "output_type": "stream",
     "text": [
      "[[0.30573535 0.21681913 0.38043186 0.95969375]\n",
      " [0.64523354 0.72354434 0.00612358 0.15166229]\n",
      " [0.68214459 0.03266452 0.98621842 0.25070391]]\n"
     ]
    }
   ],
   "source": [
    "print(arr14.reshape(3, -1))"
   ]
  },
  {
   "cell_type": "code",
   "execution_count": 80,
   "id": "c0bc7b66-c24d-41b1-b619-fe732cd5213e",
   "metadata": {},
   "outputs": [
    {
     "name": "stdout",
     "output_type": "stream",
     "text": [
      "[[0.30573535 0.21681913 0.38043186 0.95969375 0.64523354 0.72354434]\n",
      " [0.00612358 0.15166229 0.68214459 0.03266452 0.98621842 0.25070391]]\n"
     ]
    }
   ],
   "source": [
    "print(arr14.reshape(2, -1))"
   ]
  },
  {
   "cell_type": "code",
   "execution_count": 82,
   "id": "f3784339-cf76-485b-8680-49b6b8513dae",
   "metadata": {},
   "outputs": [
    {
     "name": "stdout",
     "output_type": "stream",
     "text": [
      "[[0.30573535 0.21681913]\n",
      " [0.38043186 0.95969375]\n",
      " [0.64523354 0.72354434]\n",
      " [0.00612358 0.15166229]\n",
      " [0.68214459 0.03266452]\n",
      " [0.98621842 0.25070391]]\n"
     ]
    }
   ],
   "source": [
    "print(arr14.reshape(-1, 2))"
   ]
  },
  {
   "cell_type": "code",
   "execution_count": 84,
   "id": "a8d27f82-416c-4d09-90ae-db8076da3919",
   "metadata": {},
   "outputs": [
    {
     "name": "stdout",
     "output_type": "stream",
     "text": [
      "[[0.30573535 0.21681913 0.38043186 0.95969375]\n",
      " [0.64523354 0.72354434 0.00612358 0.15166229]\n",
      " [0.68214459 0.03266452 0.98621842 0.25070391]]\n"
     ]
    }
   ],
   "source": [
    "print(arr14)"
   ]
  },
  {
   "cell_type": "code",
   "execution_count": 88,
   "id": "4122738e-aabb-4027-b71f-2d2e97ca45bf",
   "metadata": {},
   "outputs": [
    {
     "data": {
      "text/plain": [
       "array([0.64523354, 0.72354434, 0.00612358, 0.15166229])"
      ]
     },
     "execution_count": 88,
     "metadata": {},
     "output_type": "execute_result"
    }
   ],
   "source": [
    "arr14[1]"
   ]
  },
  {
   "cell_type": "code",
   "execution_count": 90,
   "id": "6c6c3c69-0fdc-4513-a655-51a0fbe05272",
   "metadata": {},
   "outputs": [
    {
     "data": {
      "text/plain": [
       "0.7235443377807841"
      ]
     },
     "execution_count": 90,
     "metadata": {},
     "output_type": "execute_result"
    }
   ],
   "source": [
    "arr14[1][1]"
   ]
  },
  {
   "cell_type": "code",
   "execution_count": 92,
   "id": "1a28af55-ce38-4401-989b-5eb8ff2fc3d3",
   "metadata": {},
   "outputs": [
    {
     "data": {
      "text/plain": [
       "array([[0.68214459, 0.03266452, 0.98621842, 0.25070391]])"
      ]
     },
     "execution_count": 92,
     "metadata": {},
     "output_type": "execute_result"
    }
   ],
   "source": [
    "arr14[2:]"
   ]
  },
  {
   "cell_type": "code",
   "execution_count": 94,
   "id": "9308f0f1-390f-4738-a125-5344cd17a4a3",
   "metadata": {},
   "outputs": [
    {
     "data": {
      "text/plain": [
       "array([0.98621842])"
      ]
     },
     "execution_count": 94,
     "metadata": {},
     "output_type": "execute_result"
    }
   ],
   "source": [
    "arr14[2:, 2]"
   ]
  },
  {
   "cell_type": "code",
   "execution_count": 96,
   "id": "1e4bc192-f717-42ee-8022-12071a9fc487",
   "metadata": {},
   "outputs": [
    {
     "name": "stdout",
     "output_type": "stream",
     "text": [
      "[[71 14 53 80 36]\n",
      " [82  8 63 86 93]\n",
      " [17 52 68  2 61]]\n"
     ]
    }
   ],
   "source": [
    "arr15 = np.random.randint(1, 100, (3,5))\n",
    "\n",
    "print(arr15)"
   ]
  },
  {
   "cell_type": "code",
   "execution_count": 98,
   "id": "a98f9eda-f079-4540-9224-3405a9965e62",
   "metadata": {},
   "outputs": [
    {
     "name": "stdout",
     "output_type": "stream",
     "text": [
      "[[53 27 35  3 29]\n",
      " [61 72 86 51 32]\n",
      " [78 59 17 13 20]\n",
      " [42 75 44 84 63]\n",
      " [69 12 16 74 92]]\n"
     ]
    }
   ],
   "source": [
    "arr16 = np.random.randint(1, 100, (5,5))\n",
    "\n",
    "print(arr16)"
   ]
  },
  {
   "cell_type": "code",
   "execution_count": 100,
   "id": "6f5317f2-fafa-4003-8cd7-842c76bcb838",
   "metadata": {},
   "outputs": [
    {
     "data": {
      "text/plain": [
       "array([[ True, False,  True,  True, False],\n",
       "       [ True, False,  True,  True,  True],\n",
       "       [False,  True,  True, False,  True]])"
      ]
     },
     "execution_count": 100,
     "metadata": {},
     "output_type": "execute_result"
    }
   ],
   "source": [
    "arr15 > 50"
   ]
  },
  {
   "cell_type": "code",
   "execution_count": 104,
   "id": "f6267090-9110-4c99-b4a1-f68eeff4dcde",
   "metadata": {},
   "outputs": [
    {
     "name": "stdout",
     "output_type": "stream",
     "text": [
      "[71 53 80 82 63 86 93 52 68 61]\n"
     ]
    }
   ],
   "source": [
    "print(arr15[arr15 > 50])"
   ]
  },
  {
   "cell_type": "code",
   "execution_count": 106,
   "id": "ccb3ca82-626a-45e9-aafb-36a21b733f94",
   "metadata": {},
   "outputs": [
    {
     "name": "stdout",
     "output_type": "stream",
     "text": [
      "[[71 14 53 80 36]\n",
      " [82  8 63 86 93]\n",
      " [17 52 68  2 61]]\n"
     ]
    }
   ],
   "source": [
    "print(arr15)"
   ]
  },
  {
   "cell_type": "code",
   "execution_count": 108,
   "id": "3a9b87ce-b29e-4be5-be56-651b7260248a",
   "metadata": {},
   "outputs": [
    {
     "name": "stdout",
     "output_type": "stream",
     "text": [
      "[[52 68]]\n"
     ]
    }
   ],
   "source": [
    "print(arr15[2:4, [1, 2]])"
   ]
  },
  {
   "cell_type": "code",
   "execution_count": 467,
   "id": "0388fc59-cc78-43dd-9d9d-e82b6c7bd43d",
   "metadata": {},
   "outputs": [
    {
     "data": {
      "text/plain": [
       "42"
      ]
     },
     "execution_count": 467,
     "metadata": {},
     "output_type": "execute_result"
    }
   ],
   "source": [
    "print(arr15[0][0])"
   ]
  },
  {
   "cell_type": "code",
   "execution_count": 112,
   "id": "0b853519-ec7f-445b-83b1-4eb23956da71",
   "metadata": {},
   "outputs": [
    {
     "name": "stdout",
     "output_type": "stream",
     "text": [
      "[[500  27  35   3  29]\n",
      " [ 61  72  86  51  32]\n",
      " [ 78  59  17  13  20]\n",
      " [ 42  75  44  84  63]\n",
      " [ 69  12  16  74  92]]\n"
     ]
    }
   ],
   "source": [
    "arr16[0][0] = 500\n",
    "\n",
    "print(arr16)"
   ]
  },
  {
   "cell_type": "code",
   "execution_count": 116,
   "id": "84af29d4-96e6-44fd-bcd4-e61515f65ced",
   "metadata": {},
   "outputs": [
    {
     "name": "stdout",
     "output_type": "stream",
     "text": [
      "[[2 2]\n",
      " [1 2]\n",
      " [2 2]]\n",
      "[[1 1]\n",
      " [1 1]\n",
      " [2 1]]\n"
     ]
    }
   ],
   "source": [
    "arr17 = np.random.randint(1, 3, (3, 2))\n",
    "print(arr17)\n",
    "\n",
    "arr18 = np.random.randint(1, 3, (3, 2))\n",
    "print(arr18)"
   ]
  },
  {
   "cell_type": "code",
   "execution_count": 118,
   "id": "773fe8b2-69e7-464f-82de-6f4c54374f13",
   "metadata": {},
   "outputs": [
    {
     "data": {
      "text/plain": [
       "array([[3, 3],\n",
       "       [2, 3],\n",
       "       [4, 3]])"
      ]
     },
     "execution_count": 118,
     "metadata": {},
     "output_type": "execute_result"
    }
   ],
   "source": [
    "arr17 + arr18"
   ]
  },
  {
   "cell_type": "code",
   "execution_count": 120,
   "id": "8e66d49a-cdad-4d34-ae5a-01255d1899e9",
   "metadata": {},
   "outputs": [
    {
     "data": {
      "text/plain": [
       "array([[1, 1],\n",
       "       [0, 1],\n",
       "       [0, 1]])"
      ]
     },
     "execution_count": 120,
     "metadata": {},
     "output_type": "execute_result"
    }
   ],
   "source": [
    "arr17 - arr18"
   ]
  },
  {
   "cell_type": "code",
   "execution_count": 122,
   "id": "cfd149b7-9b39-4a5a-a870-508d74a5f696",
   "metadata": {},
   "outputs": [
    {
     "data": {
      "text/plain": [
       "array([[2., 2.],\n",
       "       [1., 2.],\n",
       "       [1., 2.]])"
      ]
     },
     "execution_count": 122,
     "metadata": {},
     "output_type": "execute_result"
    }
   ],
   "source": [
    "arr17 / arr18"
   ]
  },
  {
   "cell_type": "code",
   "execution_count": 124,
   "id": "8bd99de7-57db-447a-82da-a531bb10024b",
   "metadata": {},
   "outputs": [
    {
     "data": {
      "text/plain": [
       "array([[2, 2],\n",
       "       [1, 2],\n",
       "       [4, 2]])"
      ]
     },
     "execution_count": 124,
     "metadata": {},
     "output_type": "execute_result"
    }
   ],
   "source": [
    "arr17 * arr18"
   ]
  },
  {
   "cell_type": "code",
   "execution_count": 128,
   "id": "8ebfd0c8-e644-4535-98ee-0465b445e8d5",
   "metadata": {},
   "outputs": [
    {
     "name": "stdout",
     "output_type": "stream",
     "text": [
      "[[4 6 4]\n",
      " [3 4 3]\n",
      " [4 6 4]]\n"
     ]
    }
   ],
   "source": [
    "arr19 = np.random.randint(1, 3, (2, 3))\n",
    "\n",
    "arr20 = arr17 @ arr19 # matrix multiplication\n",
    "print(arr20)"
   ]
  },
  {
   "cell_type": "code",
   "execution_count": 130,
   "id": "23bf768d-2ae9-4f89-bd93-f5412f1e7ddf",
   "metadata": {},
   "outputs": [
    {
     "name": "stderr",
     "output_type": "stream",
     "text": [
      "C:\\Users\\karth\\AppData\\Local\\Temp\\ipykernel_7312\\2847945382.py:1: RuntimeWarning: divide by zero encountered in divide\n",
      "  arr20 / 0\n"
     ]
    },
    {
     "data": {
      "text/plain": [
       "array([[inf, inf, inf],\n",
       "       [inf, inf, inf],\n",
       "       [inf, inf, inf]])"
      ]
     },
     "execution_count": 130,
     "metadata": {},
     "output_type": "execute_result"
    }
   ],
   "source": [
    "arr20 / 0"
   ]
  },
  {
   "cell_type": "code",
   "execution_count": 132,
   "id": "06ffc844-b019-403b-86e3-b772a19db5f1",
   "metadata": {},
   "outputs": [
    {
     "data": {
      "text/plain": [
       "array([[16, 36, 16],\n",
       "       [ 9, 16,  9],\n",
       "       [16, 36, 16]])"
      ]
     },
     "execution_count": 132,
     "metadata": {},
     "output_type": "execute_result"
    }
   ],
   "source": [
    "arr20 ** 2"
   ]
  },
  {
   "cell_type": "code",
   "execution_count": 507,
   "id": "7780d5ef-aa4c-45e0-bde8-bf9ec2752bc3",
   "metadata": {},
   "outputs": [],
   "source": [
    "# broadcasting"
   ]
  },
  {
   "cell_type": "markdown",
   "id": "017a7f11-d204-4956-bbe5-3461cb0d9ecb",
   "metadata": {},
   "source": [
    "#### In NumPy, broadcasting refers to the process of performing arithmetic operations (like addition, subtraction, multiplication, etc.) on arrays of different shapes. Broadcasting allows NumPy to \"stretch\" smaller arrays so that they have compatible shapes for element-wise operations with larger arrays, without actually copying the data.\n",
    "\n",
    "#### Broadcasting simplifies array operations and makes them more efficient by avoiding the need to explicitly reshape or replicate arrays.\n",
    "\n",
    "### <u>Rules for Broadcasting</u>\n",
    "#### Broadcasting follows specific rules to determine how arrays of different shapes can be compatible for element-wise operations:\n",
    "\n",
    "#### Matching Dimensions: If the two arrays have the same dimension sizes, they are directly compatible.\n",
    "\n",
    "#### Dimension of Size 1: If one of the dimensions has size 1, it can be stretched to match the size of the other dimension.\n",
    "\n",
    "#### Trailing Dimensions: When arrays have different numbers of dimensions, NumPy will align them by comparing the shapes starting from the rightmost dimension and move left.\n",
    "\n",
    "##### If these rules are satisfied, NumPy broadcasts the smaller array to match the shape of the larger array.\n"
   ]
  },
  {
   "cell_type": "code",
   "execution_count": 138,
   "id": "ee41ffc4-956c-486c-a2ab-dcea8a2f72d2",
   "metadata": {},
   "outputs": [
    {
     "name": "stdout",
     "output_type": "stream",
     "text": [
      "[[0. 0. 0. 0.]\n",
      " [0. 0. 0. 0.]\n",
      " [0. 0. 0. 0.]\n",
      " [0. 0. 0. 0.]]\n",
      "\n",
      " [1 2 3 4]\n"
     ]
    }
   ],
   "source": [
    "arr21 = np.zeros((4, 4))\n",
    "\n",
    "row = np.array([1, 2, 3, 4])\n",
    "\n",
    "print(arr21)\n",
    "print('\\n', row)"
   ]
  },
  {
   "cell_type": "code",
   "execution_count": 142,
   "id": "2e74cca9-22ef-41d6-9924-5604b0615b50",
   "metadata": {},
   "outputs": [
    {
     "name": "stdout",
     "output_type": "stream",
     "text": [
      "[[1. 2. 3. 4.]\n",
      " [1. 2. 3. 4.]\n",
      " [1. 2. 3. 4.]\n",
      " [1. 2. 3. 4.]]\n"
     ]
    }
   ],
   "source": [
    "print(arr21 + row)"
   ]
  },
  {
   "cell_type": "code",
   "execution_count": 144,
   "id": "9da43ff2-52b0-4e19-8b6a-694c985c3407",
   "metadata": {},
   "outputs": [
    {
     "name": "stdout",
     "output_type": "stream",
     "text": [
      "[1 2 3 4]\n"
     ]
    }
   ],
   "source": [
    "column = row.T\n",
    "\n",
    "print(column)\n",
    "# It is NOT possible to take transpose of 1D array"
   ]
  },
  {
   "cell_type": "code",
   "execution_count": 146,
   "id": "16b5c954-c627-4ad8-9d06-63b7f1927e2e",
   "metadata": {},
   "outputs": [
    {
     "name": "stdout",
     "output_type": "stream",
     "text": [
      "Before taking transpose [[1 2 3 4]]\n",
      "\n",
      "After Transpose:\n",
      "\n",
      "[[1]\n",
      " [2]\n",
      " [3]\n",
      " [4]]\n"
     ]
    }
   ],
   "source": [
    "col = np.array([[1, 2, 3, 4]])\n",
    "print('Before taking transpose', col)\n",
    "\n",
    "col = col.T\n",
    "print('\\nAfter Transpose:\\n')\n",
    "print(col)"
   ]
  },
  {
   "cell_type": "code",
   "execution_count": 148,
   "id": "a7cc2a28-49f8-4076-9377-90046a1f66a2",
   "metadata": {},
   "outputs": [
    {
     "name": "stdout",
     "output_type": "stream",
     "text": [
      "[[1. 1. 1. 1.]\n",
      " [2. 2. 2. 2.]\n",
      " [3. 3. 3. 3.]\n",
      " [4. 4. 4. 4.]]\n"
     ]
    }
   ],
   "source": [
    "print(arr21 + col)"
   ]
  },
  {
   "cell_type": "code",
   "execution_count": 150,
   "id": "322fdc9d-4e59-481e-a010-70eece8586d8",
   "metadata": {},
   "outputs": [
    {
     "name": "stdout",
     "output_type": "stream",
     "text": [
      "[[3 3 2 1]\n",
      " [3 3 2 1]\n",
      " [2 1 2 3]]\n"
     ]
    }
   ],
   "source": [
    "arr22 = np.random.randint(1, 4, (3, 4))\n",
    "\n",
    "print(arr22)"
   ]
  },
  {
   "cell_type": "code",
   "execution_count": 152,
   "id": "1982daf4-c168-4ea3-8b9e-630a84f087a0",
   "metadata": {},
   "outputs": [
    {
     "data": {
      "text/plain": [
       "array([[1.73205081, 1.73205081, 1.41421356, 1.        ],\n",
       "       [1.73205081, 1.73205081, 1.41421356, 1.        ],\n",
       "       [1.41421356, 1.        , 1.41421356, 1.73205081]])"
      ]
     },
     "execution_count": 152,
     "metadata": {},
     "output_type": "execute_result"
    }
   ],
   "source": [
    "np.sqrt(arr22)"
   ]
  },
  {
   "cell_type": "code",
   "execution_count": 154,
   "id": "92883551-2f64-4c29-b6d5-a1e586e5c2cc",
   "metadata": {},
   "outputs": [
    {
     "data": {
      "text/plain": [
       "array([[20.08553692, 20.08553692,  7.3890561 ,  2.71828183],\n",
       "       [20.08553692, 20.08553692,  7.3890561 ,  2.71828183],\n",
       "       [ 7.3890561 ,  2.71828183,  7.3890561 , 20.08553692]])"
      ]
     },
     "execution_count": 154,
     "metadata": {},
     "output_type": "execute_result"
    }
   ],
   "source": [
    "np.exp(arr22)"
   ]
  },
  {
   "cell_type": "code",
   "execution_count": 156,
   "id": "b8bfe0ec-9d1a-478f-9d0d-cda42fd255ba",
   "metadata": {},
   "outputs": [
    {
     "data": {
      "text/plain": [
       "array([[0.47712125, 0.47712125, 0.30103   , 0.        ],\n",
       "       [0.47712125, 0.47712125, 0.30103   , 0.        ],\n",
       "       [0.30103   , 0.        , 0.30103   , 0.47712125]])"
      ]
     },
     "execution_count": 156,
     "metadata": {},
     "output_type": "execute_result"
    }
   ],
   "source": [
    "np.log10(arr22)"
   ]
  }
 ],
 "metadata": {
  "kernelspec": {
   "display_name": "Python 3 (ipykernel)",
   "language": "python",
   "name": "python3"
  },
  "language_info": {
   "codemirror_mode": {
    "name": "ipython",
    "version": 3
   },
   "file_extension": ".py",
   "mimetype": "text/x-python",
   "name": "python",
   "nbconvert_exporter": "python",
   "pygments_lexer": "ipython3",
   "version": "3.11.7"
  }
 },
 "nbformat": 4,
 "nbformat_minor": 5
}
