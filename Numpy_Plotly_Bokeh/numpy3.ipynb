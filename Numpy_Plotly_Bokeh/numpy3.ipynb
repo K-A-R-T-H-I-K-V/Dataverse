{
 "cells": [
  {
   "cell_type": "code",
   "execution_count": 6,
   "id": "637e3e4a-3a18-48c8-95a3-5118240f2711",
   "metadata": {},
   "outputs": [
    {
     "name": "stdout",
     "output_type": "stream",
     "text": [
      "Before Sorting [ 1  2  3 10  5 21  7 17 88 22]\n",
      "\n",
      "After Sorting [ 1  2  3  5  7 10 17 21 22 88]\n"
     ]
    }
   ],
   "source": [
    "import numpy as np\n",
    "arr = np.array([1, 2, 3, 10, 5, 21, 7, 17, 88, 22])\n",
    "\n",
    "print('Before Sorting', arr)\n",
    "print('\\nAfter Sorting', np.sort(arr))"
   ]
  },
  {
   "cell_type": "markdown",
   "id": "6fbff6c6-3132-47e2-b494-45dd23d7d5c3",
   "metadata": {},
   "source": [
    "### The searchsorted() function in NumPy is used to find indices in a sorted array where elements should be inserted to maintain order. It returns the index at which the specified value(s) can be inserted into the array so that the order of the array is preserved.\n",
    "\n",
    "## <u>numpy.searchsorted(sorted_array, values, side='left')</u> Parameters:\n",
    "#### sorted_array: The input array, which must be sorted in ascending order.\n",
    "#### values: The value(s) to be inserted.\n",
    "#### side: This parameter can be 'left' or 'right'.\n",
    "##### 'left': If the value is found, insert to the left of the first occurrence.\n",
    "##### 'right': If the value is found, insert to the right of the last occurrence.\n",
    "## Returns:\n",
    "### It returns the index (or indices if multiple values are provided) where the value(s) should be inserted."
   ]
  },
  {
   "cell_type": "code",
   "execution_count": 10,
   "id": "2bc5ff08-2f6d-4bae-a38a-b32dacc54c97",
   "metadata": {},
   "outputs": [
    {
     "name": "stdout",
     "output_type": "stream",
     "text": [
      "Sorted Array: [ 1  2  3  5  7 10 17 21 22 88]\n"
     ]
    },
    {
     "data": {
      "text/plain": [
       "6"
      ]
     },
     "execution_count": 10,
     "metadata": {},
     "output_type": "execute_result"
    }
   ],
   "source": [
    "arr_sorted = np.sort(arr)\n",
    "print('Sorted Array:', arr_sorted)\n",
    "np.searchsorted(arr_sorted, 14)"
   ]
  },
  {
   "cell_type": "code",
   "execution_count": 11,
   "id": "fd7b88d0-8f06-4fc5-bd97-9aa6e9a17cec",
   "metadata": {},
   "outputs": [],
   "source": []
  },
  {
   "cell_type": "markdown",
   "id": "33cd7e59-38d5-4724-946e-266ea7e2f738",
   "metadata": {},
   "source": [
    "### The count_nonzero() function in NumPy counts the number of non-zero elements in an array.\n",
    "\n",
    "## <u>numpy.count_nonzero(arr, axis=None)</u> Parameters:\n",
    "#### arr: The input array in which to count non-zero elements.\n",
    "#### axis: (Optional) The axis or axes along which to count non-zero values.\n",
    "##### If None (the default), it counts non-zero values across the entire array.\n",
    "##### If an integer is provided, it counts along the specified axis.\n",
    "\n",
    "## Returns:\n",
    "### It returns the number of non-zero elements in the array, or along a specified axis."
   ]
  },
  {
   "cell_type": "code",
   "execution_count": 15,
   "id": "4d34ffcd-0034-4ebe-9d85-546ab914d325",
   "metadata": {},
   "outputs": [
    {
     "data": {
      "text/plain": [
       "3"
      ]
     },
     "execution_count": 15,
     "metadata": {},
     "output_type": "execute_result"
    }
   ],
   "source": [
    "arr1 = np.array([0, 34, 56, 0, 3, 0, 0])\n",
    "\n",
    "np.count_nonzero(arr1)"
   ]
  },
  {
   "cell_type": "markdown",
   "id": "6f857e61-29f2-4fea-8cf1-46241ffbff86",
   "metadata": {},
   "source": [
    "### The where() function in NumPy is a versatile tool used for element-wise selection or condition-based indexing. It returns the indices of elements that satisfy a specified condition or can be used to choose elements based on a condition from two arrays.\n",
    "\n",
    "## Syntax 1 (Condition-based indexing):\n",
    "### numpy.where(condition)\n",
    "#### This form returns the indices where the condition is True.\n",
    "\n",
    "## Syntax 2 (Element-wise selection):\n",
    "### numpy.where(condition, x, y)\n",
    "#### This form selects elements from either x or y, depending on whether the condition is True or False.\n",
    "\n",
    "### Parameters:\n",
    "#### condition: A boolean array or condition that is applied to the array.\n",
    "#### x: Values to choose if the condition is True (optional in syntax 1).\n",
    "#### y: Values to choose if the condition is False (optional in syntax 1).\n",
    "\n",
    "### Returns:\n",
    "#### In Syntax 1, it returns the tuple of arrays corresponding to the indices where the condition is True.\n",
    "#### In Syntax 2, it returns an array with elements from x where the condition is True and from y where it is False."
   ]
  },
  {
   "cell_type": "code",
   "execution_count": 21,
   "id": "83343d90-fe36-4fcb-9f38-8e9c592babc5",
   "metadata": {},
   "outputs": [
    {
     "name": "stdout",
     "output_type": "stream",
     "text": [
      "[ 1  2  3 10  5 21  7 17 88 22]\n",
      "\n",
      "Indices of Entries in the array arr greater than 6\n",
      "\n"
     ]
    },
    {
     "data": {
      "text/plain": [
       "(array([3, 5, 6, 7, 8, 9], dtype=int64),)"
      ]
     },
     "execution_count": 21,
     "metadata": {},
     "output_type": "execute_result"
    }
   ],
   "source": [
    "print(arr)\n",
    "print('\\nIndices of Entries in the array arr greater than 6\\n')\n",
    "np.where(arr > 6)"
   ]
  },
  {
   "cell_type": "markdown",
   "id": "a7385708-a4b0-43f7-b28e-6b88335a797b",
   "metadata": {},
   "source": [
    "### The extract() function in NumPy is used to extract elements from an array that satisfy a given condition. It is essentially a way to filter an array based on a condition, returning a one-dimensional array of elements that meet the condition.\n",
    "\n",
    "## Syntax:\n",
    "### numpy.extract(condition, arr)\n",
    "## Parameters:\n",
    "#### condition: An array-like object (usually boolean) that specifies which elements to extract. Only True values in the condition will result in element extraction.\n",
    "#### arr: The input array from which to extract elements.\n",
    "### Returns:\n",
    "#### It returns a one-dimensional array of elements from the input array that meet the condition."
   ]
  },
  {
   "cell_type": "code",
   "execution_count": 19,
   "id": "3f9de63e-9af4-43a6-9057-692a9142da55",
   "metadata": {},
   "outputs": [
    {
     "data": {
      "text/plain": [
       "array([10, 21,  7, 17, 88, 22])"
      ]
     },
     "execution_count": 19,
     "metadata": {},
     "output_type": "execute_result"
    }
   ],
   "source": [
    "np.extract(arr > 6, arr)"
   ]
  },
  {
   "cell_type": "code",
   "execution_count": 23,
   "id": "094b8b95-4fd9-42e6-b133-eb3bbee8401c",
   "metadata": {},
   "outputs": [
    {
     "data": {
      "text/plain": [
       "array([  16777216,   33554432,   50331648,  167772160,   83886080,\n",
       "        352321536,  117440512,  285212672, 1476395008,  369098752])"
      ]
     },
     "execution_count": 23,
     "metadata": {},
     "output_type": "execute_result"
    }
   ],
   "source": [
    "arr.byteswap()"
   ]
  },
  {
   "cell_type": "code",
   "execution_count": 27,
   "id": "036a7d91-377c-48b7-9f4a-6362264eb5e1",
   "metadata": {},
   "outputs": [],
   "source": [
    "a = np.copy(arr)"
   ]
  },
  {
   "cell_type": "code",
   "execution_count": 31,
   "id": "4e914578-a59f-4847-844f-dfdeccca16d8",
   "metadata": {},
   "outputs": [],
   "source": [
    "b = arr.view()"
   ]
  },
  {
   "cell_type": "code",
   "execution_count": 33,
   "id": "12ab8b23-ac99-4636-9874-1b7600844aaa",
   "metadata": {},
   "outputs": [
    {
     "data": {
      "text/plain": [
       "array([ 1,  2,  3, 10,  5, 21,  7, 17, 88, 22])"
      ]
     },
     "execution_count": 33,
     "metadata": {},
     "output_type": "execute_result"
    }
   ],
   "source": [
    "b"
   ]
  },
  {
   "cell_type": "code",
   "execution_count": 35,
   "id": "32c3383d-3394-4e57-9a43-c3927508eab9",
   "metadata": {},
   "outputs": [],
   "source": [
    "b[0] = 46"
   ]
  },
  {
   "cell_type": "code",
   "execution_count": 37,
   "id": "de5df741-403a-41f0-9c4d-fee233e727fa",
   "metadata": {},
   "outputs": [
    {
     "data": {
      "text/plain": [
       "array([46,  2,  3, 10,  5, 21,  7, 17, 88, 22])"
      ]
     },
     "execution_count": 37,
     "metadata": {},
     "output_type": "execute_result"
    }
   ],
   "source": [
    "b"
   ]
  },
  {
   "cell_type": "code",
   "execution_count": 39,
   "id": "f114c4cb-e41f-43e4-bc28-55519cf1b6ae",
   "metadata": {},
   "outputs": [
    {
     "data": {
      "text/plain": [
       "array([46,  2,  3, 10,  5, 21,  7, 17, 88, 22])"
      ]
     },
     "execution_count": 39,
     "metadata": {},
     "output_type": "execute_result"
    }
   ],
   "source": [
    "arr"
   ]
  },
  {
   "cell_type": "code",
   "execution_count": 41,
   "id": "30e11c21-b5d4-4b80-8f40-475c42eb8959",
   "metadata": {},
   "outputs": [],
   "source": [
    "import numpy.matlib as nm"
   ]
  },
  {
   "cell_type": "code",
   "execution_count": 43,
   "id": "a0d2433a-0f4e-41be-898c-b504e0c86459",
   "metadata": {},
   "outputs": [
    {
     "data": {
      "text/plain": [
       "matrix([[0., 0., 0., 0., 0.]])"
      ]
     },
     "execution_count": 43,
     "metadata": {},
     "output_type": "execute_result"
    }
   ],
   "source": [
    "nm.zeros(5)"
   ]
  },
  {
   "cell_type": "code",
   "execution_count": 45,
   "id": "8bee689b-523e-489d-9bc3-3c2096b4c72a",
   "metadata": {},
   "outputs": [
    {
     "data": {
      "text/plain": [
       "matrix([[1., 1., 1., 1., 1.]])"
      ]
     },
     "execution_count": 45,
     "metadata": {},
     "output_type": "execute_result"
    }
   ],
   "source": [
    "nm.ones(5)"
   ]
  },
  {
   "cell_type": "code",
   "execution_count": 47,
   "id": "814da08b-a1a6-48ce-959b-c24a2cabe919",
   "metadata": {},
   "outputs": [
    {
     "data": {
      "text/plain": [
       "matrix([[1., 0., 0., 0., 0.],\n",
       "        [0., 1., 0., 0., 0.],\n",
       "        [0., 0., 1., 0., 0.],\n",
       "        [0., 0., 0., 1., 0.],\n",
       "        [0., 0., 0., 0., 1.]])"
      ]
     },
     "execution_count": 47,
     "metadata": {},
     "output_type": "execute_result"
    }
   ],
   "source": [
    "nm.eye(5)"
   ]
  },
  {
   "cell_type": "code",
   "execution_count": 51,
   "id": "29f858e4-e6b6-45d9-9c03-d74fa29e7ead",
   "metadata": {},
   "outputs": [],
   "source": [
    "arr2 = np.random.randint([[2, 3], [4, 5]])"
   ]
  },
  {
   "cell_type": "code",
   "execution_count": 53,
   "id": "c289c510-0816-4bbd-8a85-973c1f8eb224",
   "metadata": {},
   "outputs": [],
   "source": [
    "arr3 = np.random.randint([[6, 2], [10, 2]])"
   ]
  },
  {
   "cell_type": "code",
   "execution_count": 57,
   "id": "61907543-0ddf-41bd-ba28-42532e1a83f1",
   "metadata": {},
   "outputs": [
    {
     "data": {
      "text/plain": [
       "array([[ 2,  2],\n",
       "       [14,  5]])"
      ]
     },
     "execution_count": 57,
     "metadata": {},
     "output_type": "execute_result"
    }
   ],
   "source": [
    "np.dot(arr2, arr3)"
   ]
  },
  {
   "cell_type": "code",
   "execution_count": 59,
   "id": "ca9b1f52-b926-4c07-b335-e40b475489d8",
   "metadata": {},
   "outputs": [
    {
     "data": {
      "text/plain": [
       "array([[ 2,  2],\n",
       "       [14,  5]])"
      ]
     },
     "execution_count": 59,
     "metadata": {},
     "output_type": "execute_result"
    }
   ],
   "source": [
    "arr2 @ arr3"
   ]
  },
  {
   "cell_type": "code",
   "execution_count": null,
   "id": "3c5bd3cc-2913-4185-81ae-250567eafc72",
   "metadata": {},
   "outputs": [],
   "source": []
  }
 ],
 "metadata": {
  "kernelspec": {
   "display_name": "Python 3 (ipykernel)",
   "language": "python",
   "name": "python3"
  },
  "language_info": {
   "codemirror_mode": {
    "name": "ipython",
    "version": 3
   },
   "file_extension": ".py",
   "mimetype": "text/x-python",
   "name": "python",
   "nbconvert_exporter": "python",
   "pygments_lexer": "ipython3",
   "version": "3.11.7"
  }
 },
 "nbformat": 4,
 "nbformat_minor": 5
}
