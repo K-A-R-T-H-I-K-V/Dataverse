{
 "cells": [
  {
   "cell_type": "markdown",
   "id": "977e1f74",
   "metadata": {},
   "source": [
    "# <span style = \"text-decoration : underline ;\" >Errors vs Exceptions</span>\n",
    "\n",
    "## <span style = \"text-decoration : underline ;\" >Errors</span>\n",
    "### Error refers to a mistake, fault, or issue in the code that prevents it from executing as intended. They occur during the parsing phase - An early step in the process of interpreting, where the code written by the programmer is analyzed by the interpreter to ensure it follows the syntax rules of the programming language - BEFORE the code is executed. Errors can be broadly classified into 2 types :\n",
    "### (i) Syntax Error : A syntax error occurs when the code violates the rules of the programming language's syntax. \n",
    "### (ii) Logical Error : A logical error occurs when the code is syntactically correct but does not produce the expected result. This can be due to incorrect algorithmic or logical reasoning within the code. These DO NOT generate error message.\n",
    "\n",
    "## <span style = \"text-decoration : underline ;\" >Exceptions as a subset of errors</span>\n",
    "### Exception refer specifically to issues that occurs DURING the execution (or runtime) of the program. It is raised when an error or unexpected situation is encountered during runtime / execution time. Unlike syntax errors, which prevent the program from running, exceptions occur while the program is in the process of execution."
   ]
  },
  {
   "cell_type": "code",
   "execution_count": null,
   "id": "42b39b9e",
   "metadata": {},
   "outputs": [],
   "source": []
  },
  {
   "cell_type": "markdown",
   "id": "c80c8dc0",
   "metadata": {},
   "source": [
    "# <span style = \"text-decoration : underline ;\" >Exception Handling</span> \n",
    "### Exception handling is a crucial concept in Python that allows you to gracefully respond to errors and exceptional situations during the execution of your code."
   ]
  },
  {
   "cell_type": "markdown",
   "id": "d0615b8f",
   "metadata": {},
   "source": [
    "### 1. The '<span style = \"text-decoration : underline ;\" >try</span>' and '<span style = \"text-decoration : underline ;\" >except</span>' block - The 'try' block is used to enclose the code that may raise an exception, while the 'except' block is used to handle the exception that may occur. If an exception is raised in the 'try' block, the program jumps to the 'except' block to handle it, instead of halting the program altogether."
   ]
  },
  {
   "cell_type": "code",
   "execution_count": 4,
   "id": "df417fcb",
   "metadata": {},
   "outputs": [
    {
     "data": {
      "text/plain": [
       "' \\ntry :\\n    # code that may raise an exception\\nexcept SomeException as e : \\n    # code to handle the exception'"
      ]
     },
     "execution_count": 4,
     "metadata": {},
     "output_type": "execute_result"
    }
   ],
   "source": [
    "\"\"\" \n",
    "try :\n",
    "    # code that may raise an exception\n",
    "except SomeException as e : \n",
    "    # code to handle the exception\"\"\"\n",
    "\n",
    "# 'SomeException' is the type of exception you want to catch\n",
    "# 'as e' allows you to reference the exception object by giving it a name using the 'as' keyword"
   ]
  },
  {
   "cell_type": "code",
   "execution_count": 2,
   "id": "95748f33",
   "metadata": {},
   "outputs": [
    {
     "name": "stdout",
     "output_type": "stream",
     "text": [
      "Enter a number : 0\n",
      "Error : division by zero - Cannot divide by zero\n"
     ]
    }
   ],
   "source": [
    "# Example 1 - Handling a ZeroDivisionError\n",
    "\n",
    "try :\n",
    "    x = int(input(\"Enter a number : \"))\n",
    "    result = 10 / x\n",
    "    print(f'The result is {result}')\n",
    "    \n",
    "except ZeroDivisionError as e :\n",
    "    print(f\"Error : {e} - Cannot divide by zero\")"
   ]
  },
  {
   "cell_type": "markdown",
   "id": "6906f7e1",
   "metadata": {},
   "source": [
    "### In the above example, in case the user enters '0', a 'ZeroDivisionError' will be raised. The 'except' block catches this exception and prints an error message."
   ]
  },
  {
   "cell_type": "code",
   "execution_count": 3,
   "id": "14d4a7a0",
   "metadata": {},
   "outputs": [
    {
     "name": "stdout",
     "output_type": "stream",
     "text": [
      "Enter a number : abc\n",
      "Error : invalid literal for int() with base 10: 'abc' - Dude, do you really know what a number is ?\n"
     ]
    }
   ],
   "source": [
    "# Example 2 : \n",
    "\n",
    "try :\n",
    "    x = int(input(\"Enter a number : \"))\n",
    "    result = 10 / x\n",
    "    print(f'The result is {result}')\n",
    "    \n",
    "except ValueError as e :\n",
    "    print(f\"Error : {e} - Dude, do you really know what a number is ?\")"
   ]
  },
  {
   "cell_type": "markdown",
   "id": "f7f76dce",
   "metadata": {},
   "source": [
    "### In this case, if the user enters a non-integer, a 'ValueError' will be raised. The 'except' bloxk catches this exception and prompts the user to enter an actual number next time."
   ]
  },
  {
   "cell_type": "markdown",
   "id": "8a76fbcc",
   "metadata": {},
   "source": [
    "### Did you know ? You can handle multiple types of exceptions by including multiple except blocks."
   ]
  },
  {
   "cell_type": "code",
   "execution_count": 5,
   "id": "1f70e4fa",
   "metadata": {},
   "outputs": [
    {
     "data": {
      "text/plain": [
       "' \\ntry :\\n    # code that may raise an exception\\nexcept SomeException as e : \\n    # Handle SomeException\\nexcept AnotherException as e :\\n    # Handle AnotherException'"
      ]
     },
     "execution_count": 5,
     "metadata": {},
     "output_type": "execute_result"
    }
   ],
   "source": [
    "\"\"\" \n",
    "try :\n",
    "    # code that may raise an exception\n",
    "except SomeException as e : \n",
    "    # Handle SomeException\n",
    "except AnotherException as e :\n",
    "    # Handle AnotherException\"\"\""
   ]
  },
  {
   "cell_type": "code",
   "execution_count": 6,
   "id": "d074ba21",
   "metadata": {},
   "outputs": [
    {
     "name": "stdout",
     "output_type": "stream",
     "text": [
      "Enter the index: 6\n",
      "Error: list index out of range - Index out of range\n"
     ]
    }
   ],
   "source": [
    "# Example 3\n",
    "\n",
    "try:\n",
    "    # Code that might raise an exception\n",
    "    index = int(input(\"Enter the index: \"))\n",
    "    my_list = [1, 2, 3]\n",
    "    result = my_list[index]\n",
    "    print(f\"The value at index {index} is: {result}\")\n",
    "\n",
    "except IndexError as e:\n",
    "    print(f\"Error: {e} - Index out of range\")\n",
    "except ValueError as e:\n",
    "    print(f\"Error: {e} - Please enter a valid number\")\n",
    "except Exception as e:\n",
    "    print(f\"An unexpected error occurred: {e}\")"
   ]
  },
  {
   "cell_type": "markdown",
   "id": "e36cae47",
   "metadata": {},
   "source": [
    "### When there are multiple except blocks, they are evaluated from top to bottom. The first 'except' block that matches the type of the raised exception will be executed. If no matching 'except' block is found, Python will search for a more general one.\n",
    "\n",
    "### The user is prompted to enter an index, incase he enters a non-integer or a value that is outside the range of the list, a 'ValueError' or 'IndexError' will be raised respectively.\n",
    "### If there's any other unexpected error, it will be caught by the generic 'except Exception' block, which provides a catch-all for any type of exception."
   ]
  },
  {
   "cell_type": "code",
   "execution_count": null,
   "id": "c03256bd",
   "metadata": {},
   "outputs": [],
   "source": []
  },
  {
   "cell_type": "code",
   "execution_count": 9,
   "id": "cedd809c",
   "metadata": {},
   "outputs": [
    {
     "name": "stdout",
     "output_type": "stream",
     "text": [
      "Enter the name of the file: randomdontexist.www\n",
      "Error: [Errno 2] No such file or directory: 'randomdontexist.www' - File not found\n"
     ]
    }
   ],
   "source": [
    "# Example 4\n",
    "\n",
    "try:\n",
    "    # Code that might raise an exception\n",
    "    file_name = input(\"Enter the name of the file: \")\n",
    "    with open(file_name, 'r') as file:\n",
    "        content = file.read()\n",
    "    print(f\"File content: {content}\")\n",
    "\n",
    "except FileNotFoundError as e:\n",
    "    print(f\"Error: {e} - File not found\")\n",
    "except PermissionError as e:\n",
    "    print(f\"Error: {e} - Permission denied\")\n",
    "except IOError as e:\n",
    "    print(f\"Error: {e} - Input/Output error\")"
   ]
  },
  {
   "cell_type": "markdown",
   "id": "538c4473",
   "metadata": {},
   "source": [
    "### The user is again prompted to enter a file name, incase the file specified doesn't exist, a 'FileNotFoundError' is raised. If the program doesn't have permissions to read a file, then 'PermissionError' will be raised.. 'IOError' is raised when an input/output (reading or writing to a file) operation encounters an issue, could be because the specified file wasn't found, or because permission was denied, disk full, etc..\n",
    "### Each type is caught by different 'except' block, providing specific handling for different exceptional situations."
   ]
  },
  {
   "cell_type": "code",
   "execution_count": null,
   "id": "0c3e54a0",
   "metadata": {},
   "outputs": [],
   "source": []
  },
  {
   "cell_type": "markdown",
   "id": "5d7db960",
   "metadata": {},
   "source": [
    "### 2. The '<span style = \"text-decoration : underline ;\" >else</span>' block - is executed IF AND ONLY IF, no exceptions occur in the 'try' block."
   ]
  },
  {
   "cell_type": "code",
   "execution_count": null,
   "id": "f4652cb7",
   "metadata": {},
   "outputs": [],
   "source": [
    "\"\"\"\n",
    "try :\n",
    "    # code that might raise an error\n",
    "except SomeError as e :\n",
    "    # Handle exception ‘e’ accordingly\n",
    "else :\n",
    "    # Executed if no exceptions are raised\n",
    "\"\"\""
   ]
  },
  {
   "cell_type": "code",
   "execution_count": 12,
   "id": "3bf795da",
   "metadata": {},
   "outputs": [
    {
     "name": "stdout",
     "output_type": "stream",
     "text": [
      "Enter a number : 2\n",
      "The result is 5.0\n",
      "no exceptions raised\n"
     ]
    }
   ],
   "source": [
    "# Example\n",
    "\n",
    "try:\n",
    "    x = int(input(\"Enter a number : \"))\n",
    "    result = 10 / x\n",
    "    print(f'The result is {result}')\n",
    "\n",
    "except:\n",
    "    print('Exception raised')\n",
    "\n",
    "else:\n",
    "    print('no exceptions raised')"
   ]
  },
  {
   "cell_type": "markdown",
   "id": "d74a72b6",
   "metadata": {},
   "source": [
    "### 3. The '<span style = \"text-decoration : underline ;\" >finally</span>' block - provides a way to ensure that certain code is exexcuted, regardless of whether an exception occurs or not. Useful for tasks like closing files.."
   ]
  },
  {
   "cell_type": "code",
   "execution_count": 2,
   "id": "28dbfb7e",
   "metadata": {},
   "outputs": [
    {
     "name": "stdout",
     "output_type": "stream",
     "text": [
      "A NameError occurred: name 'idk' is not defined\n",
      "This code will always execute\n"
     ]
    }
   ],
   "source": [
    "try :\n",
    "    # Trying to use an undefined variable\n",
    "    print(idk)  # This will raise a NameError\n",
    "\n",
    "except NameError as e :\n",
    "    print(f\"A NameError occurred: {e}\")\n",
    "\n",
    "finally :\n",
    "    print(\"This code will always execute\")"
   ]
  },
  {
   "cell_type": "code",
   "execution_count": null,
   "id": "7f584714",
   "metadata": {},
   "outputs": [],
   "source": []
  },
  {
   "cell_type": "markdown",
   "id": "5394e9f6",
   "metadata": {},
   "source": [
    "### 4. Even though exceptions in python are automatically raised in runtime when some error occurs. The '<span style = \"text-decoration : underline ;\" >raise</span>' keyword in Python can be used to explicitly trigger an exception. "
   ]
  },
  {
   "cell_type": "code",
   "execution_count": null,
   "id": "615ba410",
   "metadata": {},
   "outputs": [],
   "source": [
    "\"\"\"\n",
    "try:\n",
    "    # on some specific condition or otherwise\n",
    "    raise SomeError(OptionalMsg)\n",
    "Except SomeError as e:\n",
    "    # Executed if we get an error in the try block\n",
    "    # Handle exception ‘e’ accordingly\"\"\""
   ]
  },
  {
   "cell_type": "code",
   "execution_count": 4,
   "id": "f189a6a0",
   "metadata": {},
   "outputs": [
    {
     "name": "stdout",
     "output_type": "stream",
     "text": [
      "Error: Division by zero is not allowed\n"
     ]
    }
   ],
   "source": [
    "# Example\n",
    "\n",
    "def divide_numbers(num1, num2):\n",
    "    if num2 == 0:\n",
    "        raise ZeroDivisionError(\"Division by zero is not allowed\")\n",
    "    return num1 / num2\n",
    "\n",
    "try:\n",
    "    result = divide_numbers(10, 0)\n",
    "except ZeroDivisionError as e:\n",
    "    print(f\"Error: {e}\")"
   ]
  },
  {
   "cell_type": "markdown",
   "id": "db109ce2",
   "metadata": {},
   "source": [
    "### In this example, we have a function 'divide_numbers' that takes 2 arguments, 'num1' and 'num2'.. It attempts to divide 'num1' by 'num2'. However, if 'num2' is zero, it raises a 'ZeroDivisionError' with the message 'Division by zero is NOT allowed'."
   ]
  },
  {
   "cell_type": "code",
   "execution_count": null,
   "id": "0c5652bd",
   "metadata": {},
   "outputs": [],
   "source": []
  },
  {
   "cell_type": "markdown",
   "id": "6b5554c5",
   "metadata": {},
   "source": [
    "## <span style = \"text-decoration : underline ;\" >Process of how an error is raised in Python and how the interpreter handles it behind the scenes</span> :\n",
    "\n",
    "### <span style = \"text-decoration : underline ;\" >Parsing Phase</span> : When you run a Python script, the first phase is parsing. In this phase, the Python interpreter reads your code and checks it for proper syntax. If the code contains any syntax errors, the parser identifies them and generates an error message. This happens before the code starts executing.\n",
    "\n",
    "### <span style = \"text-decoration : underline ;\" >Execution Phase</span> : Once the parsing is successful, the interpreter starts executing the code from top to bottom. During execution, if the interpreter encounters an error, it triggers an exception (A signal that something unexpected has happened).\n",
    "\n",
    "### <span style = \"text-decoration : underline ;\" >Exception Object</span> : In Python, exceptions are implemented as classes. Each type of exception (error) is represented by a distinct class. When an error occurs, Python creates an exception object that contains information about the error, such as its type and message.\n",
    "\n",
    "### <span style = \"text-decoration : underline ;\" >Raising an Exception</span> : The exception is \"raised\" or \"thrown\" by the Python interpreter. This means that the interpreter stops the normal flow of the program and looks for code that can handle the exception.\n",
    "\n",
    "### <span style = \"text-decoration : underline ;\" >Searching for Exception Handlers, and Handling the exception</span> : The interpreter checks if there is any code surrounding the error location that can handle the specific type of exception that was raised. If the interpreter finds an appropriate exception handler (a try-except block), it executes the code inside the except block. This code is responsible for handling the error condition.\n",
    "\n",
    "### <span style = \"text-decoration : underline ;\" >Exception Information</span> : The exception object, containing information about the error, can be accessed inside the except block. This information can include the type of error, any error message provided, and other relevant details.\n",
    "\n",
    "### <span style = \"text-decoration : underline ;\" >Continue Execution</span> : After the exception is handled (or if no handler is found), the program continues executing from the point after the try-except block.\n",
    "\n",
    "### If no appropriate exception handler is found in the code, Python's default behavior is to display a traceback, which includes the error message and a stack trace showing the sequence of function calls that led to the error. This traceback is shown in the console, providing information to help you identify and debug the issue."
   ]
  },
  {
   "cell_type": "code",
   "execution_count": null,
   "id": "c03e3c0b",
   "metadata": {},
   "outputs": [],
   "source": []
  },
  {
   "cell_type": "code",
   "execution_count": null,
   "id": "fc6f04d2",
   "metadata": {},
   "outputs": [],
   "source": []
  },
  {
   "cell_type": "markdown",
   "id": "864ad0d7",
   "metadata": {},
   "source": [
    "### Common exceptions that python throws are : \n",
    "\n",
    "## <span style = \"text-decoration : underline ;\" >Errors</span> - \n",
    "### 1. <span style = \"text-decoration : underline ;\" >SyntaxError</span> - Raised when Python encounters code that violates the syntax rules of the language.\n",
    "### 2. <span style = \"text-decoration : underline ;\" >IndentationError</span> - Raised when indentation is not proper.\n",
    "\n",
    "## <span style = \"text-decoration : underline ;\" >Exceptions</span> - \n",
    "### <span style = \"text-decoration : underline ;\" >Exception</span> - 'Exception' is the base class for all built-in exceptions in Python. It serves as the parent class for all specific exception classes. 'StandardError' used to be a base class for all built-in exceptions that are intended to be raised by the Python interpreter in 2.x.\n",
    "### 1. <span style = \"text-decoration : underline ;\" >StopIteration</span> - Raised when the next() method is called on an iterator that has no further items to produce.\n",
    "### 2. <span style = \"text-decoration : underline ;\" >'ArithmeticError'</span> - It is a base class for arithmetic exceptions in Python, used to group related arithmetic exceptions under a common parent class.\n",
    "### 2(a). <span style = \"text-decoration : underline ;\" >'OverflowError'</span> - When a calculation exceeds the max limit for a specific numeric data type.\n",
    "### 2(b). <span style = \"text-decoration : underline ;\" >'ZeroDivisionError'</span> - Raised when division by zero takes place.\n",
    "### 3. <span style = \"text-decoration : underline ;\" >'AssertionError'</span> - Raised when an assert statement fails. An 'assert' statement is used to test if a condition is true. If it is not, Python raises an 'AssertionError' with an optional error message.\n",
    "### 4. <span style = \"text-decoration : underline ;\" >'AttributeError'</span> - Raised when you try to access an attribute or method that does NOT exist for a given object.\n",
    "### 5. <span style = \"text-decoration : underline ;\" >'EOFError'</span> - Raised when the end of file is reached, usually occurs when there is no input from input() function i.e., when the user doesn't provide any input (by pressing Enter without typing anything)\n",
    "### 6. <span style = \"text-decoration : underline ;\" >'ImportError'</span> - Raised when Python encounters an issue while trying to import module or package. This can happen for various reasons, such as the module not existing, the module not being installed, or incorrect module paths.\n",
    "### 7. <span style = \"text-decoration : underline ;\" >NameError</span> - Raised when an identifier is not found in the current scope.\n",
    "### 8. <span style = \"text-decoration : underline ;\" >TypeError</span> - Raised when a specific operation of a function is triggered for an invalid data type\n",
    "### 9. <span style = \"text-decoration : underline ;\" >ValueError</span> - Raised when a function receives an argument of the correct data type, but the value of that argument is inappropriate for the operation.\n",
    "### 10. <span style = \"text-decoration : underline ;\" >RuntimeError</span> - It is a catch-all exception for situations where no specific exception class is appropriate.\n",
    "### 11. <span style = \"text-decoration : underline ;\" >NotImplementedError</span> - Raised when an abstract method that needs to be implemented in an inherited class is not actually implemented.\n",
    "\n",
    "### NOTE : While both syntax errors and indentation errors are considered errors, they are NOT classified as exceptions as they occur during the parsing phase and prevent the program from even starting to run."
   ]
  },
  {
   "cell_type": "code",
   "execution_count": null,
   "id": "3ef78806",
   "metadata": {},
   "outputs": [],
   "source": []
  },
  {
   "cell_type": "markdown",
   "id": "5f1bb560",
   "metadata": {},
   "source": [
    "## <span style = \"text-decoration : underline ;\" >User-defined Exceptions / Custom Exception Handling</span>\n",
    "\n",
    "### User-defined exceptions in Python refers to the capability of programmers to create their own custom exception classes. These custom exceptions can be raised (signaling an error) and caught (handled) in a program, allowing developers to define specific error conditions that are relevant to their application."
   ]
  },
  {
   "cell_type": "code",
   "execution_count": 5,
   "id": "667ad102",
   "metadata": {},
   "outputs": [],
   "source": [
    "# NOTE : Our Exception class should Implement Exceptions to raise exceptions.\n",
    "\n",
    "class CustomException(Exception):\n",
    "    def __init__(self, message):\n",
    "        print(message)"
   ]
  },
  {
   "cell_type": "code",
   "execution_count": 6,
   "id": "c5a2b6aa",
   "metadata": {},
   "outputs": [
    {
     "name": "stdout",
     "output_type": "stream",
     "text": [
      "Raise an Exception\n"
     ]
    },
    {
     "ename": "CustomException",
     "evalue": "Raise an Exception",
     "output_type": "error",
     "traceback": [
      "\u001b[1;31m---------------------------------------------------------------------------\u001b[0m",
      "\u001b[1;31mCustomException\u001b[0m                           Traceback (most recent call last)",
      "\u001b[1;32m~\\AppData\\Local\\Temp\\ipykernel_16840\\196603314.py\u001b[0m in \u001b[0;36m<module>\u001b[1;34m\u001b[0m\n\u001b[0;32m      1\u001b[0m \u001b[1;31m# Raising user-defined exception\u001b[0m\u001b[1;33m\u001b[0m\u001b[1;33m\u001b[0m\u001b[0m\n\u001b[0;32m      2\u001b[0m \u001b[1;33m\u001b[0m\u001b[0m\n\u001b[1;32m----> 3\u001b[1;33m \u001b[1;32mraise\u001b[0m \u001b[0mCustomException\u001b[0m\u001b[1;33m(\u001b[0m\u001b[1;34m\"Raise an Exception\"\u001b[0m\u001b[1;33m)\u001b[0m\u001b[1;33m\u001b[0m\u001b[1;33m\u001b[0m\u001b[0m\n\u001b[0m",
      "\u001b[1;31mCustomException\u001b[0m: Raise an Exception"
     ]
    }
   ],
   "source": [
    "# Raising user-defined exception\n",
    "\n",
    "raise CustomException(\"Raise an Exception\")"
   ]
  },
  {
   "cell_type": "code",
   "execution_count": 7,
   "id": "a59947b9",
   "metadata": {},
   "outputs": [
    {
     "name": "stdout",
     "output_type": "stream",
     "text": [
      "Raise an Exception\n",
      "Exception Raised\n"
     ]
    }
   ],
   "source": [
    "# Handling user-defined exception\n",
    "\n",
    "try:\n",
    "    raise CustomException(\"Raise an Exception\")\n",
    "except Exception as e:\n",
    "    print(\"Exception Raised\")"
   ]
  },
  {
   "cell_type": "code",
   "execution_count": null,
   "id": "8e3ae483",
   "metadata": {},
   "outputs": [],
   "source": []
  },
  {
   "cell_type": "code",
   "execution_count": 8,
   "id": "c7e0b100",
   "metadata": {},
   "outputs": [],
   "source": [
    "# Another Example"
   ]
  },
  {
   "cell_type": "code",
   "execution_count": 9,
   "id": "045fbe58",
   "metadata": {},
   "outputs": [],
   "source": [
    "# A custom exception class\n",
    "class AgeTooSmallError(Exception) :\n",
    "    def __init__(self, value) :\n",
    "        self.value = value\n",
    "        self.message = f\"Age {self.value} is too low. Access to social media blocked.\"\n",
    "        \n",
    "# Creating a function that raises the custom exception\n",
    "def check_age(value) :\n",
    "    if value < 16 :\n",
    "        raise AgeTooSmallError(value)\n",
    "    else :\n",
    "        print(f\"Social media access allowed successfully.\")"
   ]
  },
  {
   "cell_type": "code",
   "execution_count": 14,
   "id": "0c0f47bb",
   "metadata": {},
   "outputs": [
    {
     "ename": "AgeTooSmallError",
     "evalue": "12",
     "output_type": "error",
     "traceback": [
      "\u001b[1;31m---------------------------------------------------------------------------\u001b[0m",
      "\u001b[1;31mAgeTooSmallError\u001b[0m                          Traceback (most recent call last)",
      "\u001b[1;32m~\\AppData\\Local\\Temp\\ipykernel_16840\\3839459563.py\u001b[0m in \u001b[0;36m<module>\u001b[1;34m\u001b[0m\n\u001b[0;32m      1\u001b[0m \u001b[1;31m# function call\u001b[0m\u001b[1;33m\u001b[0m\u001b[1;33m\u001b[0m\u001b[0m\n\u001b[1;32m----> 2\u001b[1;33m \u001b[0mcheck_age\u001b[0m\u001b[1;33m(\u001b[0m\u001b[1;36m12\u001b[0m\u001b[1;33m)\u001b[0m\u001b[1;33m\u001b[0m\u001b[1;33m\u001b[0m\u001b[0m\n\u001b[0m",
      "\u001b[1;32m~\\AppData\\Local\\Temp\\ipykernel_16840\\355000589.py\u001b[0m in \u001b[0;36mcheck_age\u001b[1;34m(value)\u001b[0m\n\u001b[0;32m      8\u001b[0m \u001b[1;32mdef\u001b[0m \u001b[0mcheck_age\u001b[0m\u001b[1;33m(\u001b[0m\u001b[0mvalue\u001b[0m\u001b[1;33m)\u001b[0m \u001b[1;33m:\u001b[0m\u001b[1;33m\u001b[0m\u001b[1;33m\u001b[0m\u001b[0m\n\u001b[0;32m      9\u001b[0m     \u001b[1;32mif\u001b[0m \u001b[0mvalue\u001b[0m \u001b[1;33m<\u001b[0m \u001b[1;36m16\u001b[0m \u001b[1;33m:\u001b[0m\u001b[1;33m\u001b[0m\u001b[1;33m\u001b[0m\u001b[0m\n\u001b[1;32m---> 10\u001b[1;33m         \u001b[1;32mraise\u001b[0m \u001b[0mAgeTooSmallError\u001b[0m\u001b[1;33m(\u001b[0m\u001b[0mvalue\u001b[0m\u001b[1;33m)\u001b[0m\u001b[1;33m\u001b[0m\u001b[1;33m\u001b[0m\u001b[0m\n\u001b[0m\u001b[0;32m     11\u001b[0m     \u001b[1;32melse\u001b[0m \u001b[1;33m:\u001b[0m\u001b[1;33m\u001b[0m\u001b[1;33m\u001b[0m\u001b[0m\n\u001b[0;32m     12\u001b[0m         \u001b[0mprint\u001b[0m\u001b[1;33m(\u001b[0m\u001b[1;34mf\"Social media access allowed successfully.\"\u001b[0m\u001b[1;33m)\u001b[0m\u001b[1;33m\u001b[0m\u001b[1;33m\u001b[0m\u001b[0m\n",
      "\u001b[1;31mAgeTooSmallError\u001b[0m: 12"
     ]
    }
   ],
   "source": [
    "# function call\n",
    "check_age(12)"
   ]
  },
  {
   "cell_type": "code",
   "execution_count": 13,
   "id": "2ee43bdb",
   "metadata": {},
   "outputs": [
    {
     "name": "stdout",
     "output_type": "stream",
     "text": [
      "Age 5 is too low. Access to social media blocked.\n"
     ]
    }
   ],
   "source": [
    "# Handling the exception\n",
    "\n",
    "try :\n",
    "    check_age(5) \n",
    "except AgeTooSmallError as e :\n",
    "    print(e.message)"
   ]
  },
  {
   "cell_type": "code",
   "execution_count": null,
   "id": "d2ecb7ab",
   "metadata": {},
   "outputs": [],
   "source": []
  }
 ],
 "metadata": {
  "kernelspec": {
   "display_name": "Python 3 (ipykernel)",
   "language": "python",
   "name": "python3"
  },
  "language_info": {
   "codemirror_mode": {
    "name": "ipython",
    "version": 3
   },
   "file_extension": ".py",
   "mimetype": "text/x-python",
   "name": "python",
   "nbconvert_exporter": "python",
   "pygments_lexer": "ipython3",
   "version": "3.9.13"
  }
 },
 "nbformat": 4,
 "nbformat_minor": 5
}
