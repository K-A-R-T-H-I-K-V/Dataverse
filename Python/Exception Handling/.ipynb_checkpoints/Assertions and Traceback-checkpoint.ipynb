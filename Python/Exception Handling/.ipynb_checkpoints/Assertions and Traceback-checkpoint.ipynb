{
 "cells": [
  {
   "cell_type": "markdown",
   "id": "f9d2ef7b",
   "metadata": {},
   "source": [
    "# <span style = \"text-decoration : underline ;\" >Assertions</span>"
   ]
  },
  {
   "cell_type": "markdown",
   "id": "be5d858c",
   "metadata": {},
   "source": [
    "### Multiple times during programming, the programmer knows that there are certain conditions or assumptions that are always going to be True (Assertions). If at any point of time during the execution of the program, any statement with the condition that is meant to be True evaluates to False, then it shouldn’t allow the code to execute further.\n",
    "### An assert statement can be used to verify any logical assumptions you make in your code. It is mainly used as a debugging tool."
   ]
  },
  {
   "cell_type": "code",
   "execution_count": 2,
   "id": "f8a6db3d",
   "metadata": {},
   "outputs": [],
   "source": [
    "# assert <condition> , <error message>"
   ]
  },
  {
   "cell_type": "markdown",
   "id": "0dc28876",
   "metadata": {},
   "source": [
    "### 'condition' is the expression that is evaluated for truthiness. If it is 'False', an 'AssertionError' is raised. 'error message' is an optional message that is displayed when the assertion fails."
   ]
  },
  {
   "cell_type": "code",
   "execution_count": 3,
   "id": "67897bae",
   "metadata": {},
   "outputs": [],
   "source": [
    "# Example\n",
    "\n",
    "def divide(a, b) :\n",
    "    assert b!= 0, 'Denominator should be non-zero'\n",
    "    return a/b"
   ]
  },
  {
   "cell_type": "code",
   "execution_count": 4,
   "id": "c4fedca4",
   "metadata": {},
   "outputs": [
    {
     "data": {
      "text/plain": [
       "2.0"
      ]
     },
     "execution_count": 4,
     "metadata": {},
     "output_type": "execute_result"
    }
   ],
   "source": [
    "divide(8, 4)"
   ]
  },
  {
   "cell_type": "code",
   "execution_count": 5,
   "id": "e9416e03",
   "metadata": {},
   "outputs": [
    {
     "ename": "AssertionError",
     "evalue": "Denominator should be non-zero",
     "output_type": "error",
     "traceback": [
      "\u001b[1;31m---------------------------------------------------------------------------\u001b[0m",
      "\u001b[1;31mAssertionError\u001b[0m                            Traceback (most recent call last)",
      "\u001b[1;32m~\\AppData\\Local\\Temp\\ipykernel_14612\\2296272256.py\u001b[0m in \u001b[0;36m<module>\u001b[1;34m\u001b[0m\n\u001b[1;32m----> 1\u001b[1;33m \u001b[0mdivide\u001b[0m\u001b[1;33m(\u001b[0m\u001b[1;36m8\u001b[0m\u001b[1;33m,\u001b[0m \u001b[1;36m0\u001b[0m\u001b[1;33m)\u001b[0m\u001b[1;33m\u001b[0m\u001b[1;33m\u001b[0m\u001b[0m\n\u001b[0m",
      "\u001b[1;32m~\\AppData\\Local\\Temp\\ipykernel_14612\\1059765145.py\u001b[0m in \u001b[0;36mdivide\u001b[1;34m(a, b)\u001b[0m\n\u001b[0;32m      2\u001b[0m \u001b[1;33m\u001b[0m\u001b[0m\n\u001b[0;32m      3\u001b[0m \u001b[1;32mdef\u001b[0m \u001b[0mdivide\u001b[0m\u001b[1;33m(\u001b[0m\u001b[0ma\u001b[0m\u001b[1;33m,\u001b[0m \u001b[0mb\u001b[0m\u001b[1;33m)\u001b[0m \u001b[1;33m:\u001b[0m\u001b[1;33m\u001b[0m\u001b[1;33m\u001b[0m\u001b[0m\n\u001b[1;32m----> 4\u001b[1;33m     \u001b[1;32massert\u001b[0m \u001b[0mb\u001b[0m\u001b[1;33m!=\u001b[0m \u001b[1;36m0\u001b[0m\u001b[1;33m,\u001b[0m \u001b[1;34m'Denominator should be non-zero'\u001b[0m\u001b[1;33m\u001b[0m\u001b[1;33m\u001b[0m\u001b[0m\n\u001b[0m\u001b[0;32m      5\u001b[0m     \u001b[1;32mreturn\u001b[0m \u001b[0ma\u001b[0m\u001b[1;33m/\u001b[0m\u001b[0mb\u001b[0m\u001b[1;33m\u001b[0m\u001b[1;33m\u001b[0m\u001b[0m\n",
      "\u001b[1;31mAssertionError\u001b[0m: Denominator should be non-zero"
     ]
    }
   ],
   "source": [
    "divide(8, 0)"
   ]
  },
  {
   "cell_type": "markdown",
   "id": "8bc4b305",
   "metadata": {},
   "source": [
    "# <span style = \"text-decoration : underline ;\" >How Assertions terminate the program ?</span>\n",
    "### There are essentially two ways of stopping the execution of a program – by exit() and by abort().\n",
    "### 1. 'exit()' - is a built-in function in Python that is used to terminate the program under normal circumstances -Normal program termination occurs when the program reaches the end of its execution without encountering any errors or exceptions, this is the expected and desired way for a program to finish it's execution - The function performs flushing of unwritten buffered data, closing of open files, and removal of temporary files and it returns an integer exit status to the operating system.\n",
    "\n",
    "### 2. 'abort()' is a function provided by  the 'sys' module, and is used to generate a 'SystemExit' exception, which, if not caught, will cause the program to terminate immediately. Typically causing abnormal program termination - i.e., due to unexpected error or exceptions encountered during the program execution - The abort() function may not close any files that are open, may not flush stream buffers, and may also not delete any temporary files.\n",
    "\n",
    "### Termination of the program due to an assert statement occurs with the help of the abort() function when the condition mentioned in the assert statement returns False."
   ]
  },
  {
   "cell_type": "code",
   "execution_count": null,
   "id": "456037fa",
   "metadata": {},
   "outputs": [],
   "source": []
  }
 ],
 "metadata": {
  "kernelspec": {
   "display_name": "Python 3 (ipykernel)",
   "language": "python",
   "name": "python3"
  },
  "language_info": {
   "codemirror_mode": {
    "name": "ipython",
    "version": 3
   },
   "file_extension": ".py",
   "mimetype": "text/x-python",
   "name": "python",
   "nbconvert_exporter": "python",
   "pygments_lexer": "ipython3",
   "version": "3.9.13"
  }
 },
 "nbformat": 4,
 "nbformat_minor": 5
}
