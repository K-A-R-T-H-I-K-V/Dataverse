{
 "cells": [
  {
   "cell_type": "markdown",
   "id": "2f0b87f2",
   "metadata": {},
   "source": [
    "# <span style = \"text-decoration : underline ;\" >Sets</span>\n",
    "## Set is an unordered collection of items, where every element is unique and immutable. However, the set itself is mutable.\n",
    "\n",
    "## Characteristics of a set :\n",
    "### 1. Unique elements : Set ONLY contains unique elements. When a set initialized with duplicate elements, the duplicates will be automatically removed, and only unique elements will be retained in the set.\n",
    "### 2. Mutable : Adding or removing elements from a set after it's been created is possible.\n",
    "### 3. Unordered : Unlike lists or tuples, the elements in a set don't have a specific order, which means you can't access them by index.\n",
    "### 4. Iterability : Iterating over the elements of a set using loops"
   ]
  },
  {
   "cell_type": "code",
   "execution_count": 3,
   "id": "72e9c9ad",
   "metadata": {},
   "outputs": [
    {
     "name": "stdout",
     "output_type": "stream",
     "text": [
      "<class 'set'>\n"
     ]
    }
   ],
   "source": [
    "even_set = {2, 4, 6}\n",
    "print(type(even_set))"
   ]
  },
  {
   "cell_type": "code",
   "execution_count": null,
   "id": "0a354502",
   "metadata": {},
   "outputs": [],
   "source": []
  },
  {
   "cell_type": "code",
   "execution_count": 4,
   "id": "a3e6e76b",
   "metadata": {
    "scrolled": true
   },
   "outputs": [
    {
     "ename": "TypeError",
     "evalue": "unhashable type: 'list'",
     "output_type": "error",
     "traceback": [
      "\u001b[1;31m---------------------------------------------------------------------------\u001b[0m",
      "\u001b[1;31mTypeError\u001b[0m                                 Traceback (most recent call last)",
      "\u001b[1;32m~\\AppData\\Local\\Temp\\ipykernel_19572\\1829184320.py\u001b[0m in \u001b[0;36m<module>\u001b[1;34m\u001b[0m\n\u001b[0;32m      1\u001b[0m \u001b[1;31m# Elements in a set must be hashable.\u001b[0m\u001b[1;33m\u001b[0m\u001b[1;33m\u001b[0m\u001b[0m\n\u001b[0;32m      2\u001b[0m \u001b[1;33m\u001b[0m\u001b[0m\n\u001b[1;32m----> 3\u001b[1;33m \u001b[0ms1\u001b[0m \u001b[1;33m=\u001b[0m \u001b[1;33m{\u001b[0m\u001b[1;36m1\u001b[0m\u001b[1;33m,\u001b[0m \u001b[1;36m2\u001b[0m\u001b[1;33m,\u001b[0m \u001b[1;36m4\u001b[0m\u001b[1;33m,\u001b[0m \u001b[1;36m5.9\u001b[0m\u001b[1;33m,\u001b[0m \u001b[1;34m'Hello'\u001b[0m\u001b[1;33m,\u001b[0m \u001b[1;33m(\u001b[0m\u001b[1;36m9.0\u001b[0m\u001b[1;33m,\u001b[0m \u001b[1;36m1\u001b[0m\u001b[1;33m,\u001b[0m \u001b[1;36m4\u001b[0m\u001b[1;33m,\u001b[0m \u001b[1;33m[\u001b[0m\u001b[1;36m9.07\u001b[0m\u001b[1;33m,\u001b[0m \u001b[1;34m'Hello'\u001b[0m\u001b[1;33m]\u001b[0m\u001b[1;33m)\u001b[0m\u001b[1;33m}\u001b[0m\u001b[1;33m\u001b[0m\u001b[1;33m\u001b[0m\u001b[0m\n\u001b[0m",
      "\u001b[1;31mTypeError\u001b[0m: unhashable type: 'list'"
     ]
    }
   ],
   "source": [
    "# Elements in a set must be hashable.\n",
    "\n",
    "s1 = {1, 2, 4, 5.9, 'Hello', (9.0, 1, 4, [9.07, 'Hello'])}"
   ]
  },
  {
   "cell_type": "code",
   "execution_count": 9,
   "id": "262d557f",
   "metadata": {},
   "outputs": [
    {
     "ename": "TypeError",
     "evalue": "unhashable type: 'set'",
     "output_type": "error",
     "traceback": [
      "\u001b[1;31m---------------------------------------------------------------------------\u001b[0m",
      "\u001b[1;31mTypeError\u001b[0m                                 Traceback (most recent call last)",
      "\u001b[1;32m~\\AppData\\Local\\Temp\\ipykernel_19572\\1704181587.py\u001b[0m in \u001b[0;36m<module>\u001b[1;34m\u001b[0m\n\u001b[0;32m      1\u001b[0m \u001b[1;31m# Elements in a set must be hashable. Set itself is unhashable type\u001b[0m\u001b[1;33m\u001b[0m\u001b[1;33m\u001b[0m\u001b[0m\n\u001b[0;32m      2\u001b[0m \u001b[1;33m\u001b[0m\u001b[0m\n\u001b[1;32m----> 3\u001b[1;33m \u001b[0ms2\u001b[0m \u001b[1;33m=\u001b[0m \u001b[1;33m{\u001b[0m\u001b[1;36m2\u001b[0m\u001b[1;33m,\u001b[0m \u001b[1;36m4.6\u001b[0m\u001b[1;33m,\u001b[0m \u001b[1;33m{\u001b[0m\u001b[1;36m2\u001b[0m\u001b[1;33m,\u001b[0m \u001b[1;36m5.78\u001b[0m\u001b[1;33m,\u001b[0m \u001b[1;34m'k'\u001b[0m\u001b[1;33m,\u001b[0m\u001b[1;34m'p'\u001b[0m\u001b[1;33m,\u001b[0m\u001b[1;34m'r'\u001b[0m\u001b[1;33m}\u001b[0m\u001b[1;33m}\u001b[0m\u001b[1;33m\u001b[0m\u001b[1;33m\u001b[0m\u001b[0m\n\u001b[0m",
      "\u001b[1;31mTypeError\u001b[0m: unhashable type: 'set'"
     ]
    }
   ],
   "source": [
    "# Elements in a set must be hashable. Set itself is unhashable type\n",
    "\n",
    "s2 = {2, 4.6, {2, 5.78, 'k','p','r'}}"
   ]
  },
  {
   "cell_type": "code",
   "execution_count": null,
   "id": "761d7202",
   "metadata": {},
   "outputs": [],
   "source": []
  },
  {
   "cell_type": "code",
   "execution_count": 10,
   "id": "e7605b38",
   "metadata": {},
   "outputs": [
    {
     "name": "stdout",
     "output_type": "stream",
     "text": [
      "{0, 1, 2, 3, 34, 5, 6, 4}\n"
     ]
    }
   ],
   "source": [
    "s3 = {2, 3, 5, 6, 34, 3, 4, 3, 2, 1, True, 0, 2, 3, 4}\n",
    "print(s3) # duplicates are automatically removed"
   ]
  },
  {
   "cell_type": "code",
   "execution_count": 11,
   "id": "6bc83053",
   "metadata": {},
   "outputs": [
    {
     "name": "stdout",
     "output_type": "stream",
     "text": [
      "{2, 'A', 'a'}\n"
     ]
    }
   ],
   "source": [
    "s4 = {'A', 'a', 2, 2, 2, 2}\n",
    "print(s4) # duplicates are automatically removed"
   ]
  },
  {
   "cell_type": "code",
   "execution_count": null,
   "id": "159ff8d4",
   "metadata": {},
   "outputs": [],
   "source": []
  },
  {
   "cell_type": "code",
   "execution_count": 12,
   "id": "e92bc4f5",
   "metadata": {},
   "outputs": [
    {
     "ename": "TypeError",
     "evalue": "'set' object is not subscriptable",
     "output_type": "error",
     "traceback": [
      "\u001b[1;31m---------------------------------------------------------------------------\u001b[0m",
      "\u001b[1;31mTypeError\u001b[0m                                 Traceback (most recent call last)",
      "\u001b[1;32m~\\AppData\\Local\\Temp\\ipykernel_19572\\1975037715.py\u001b[0m in \u001b[0;36m<module>\u001b[1;34m\u001b[0m\n\u001b[1;32m----> 1\u001b[1;33m \u001b[0ms4\u001b[0m\u001b[1;33m[\u001b[0m\u001b[1;36m0\u001b[0m\u001b[1;33m]\u001b[0m \u001b[1;31m# set indexing / slicing is INVALID\u001b[0m\u001b[1;33m\u001b[0m\u001b[1;33m\u001b[0m\u001b[0m\n\u001b[0m",
      "\u001b[1;31mTypeError\u001b[0m: 'set' object is not subscriptable"
     ]
    }
   ],
   "source": [
    "s4[0] # set indexing / slicing is INVALID"
   ]
  },
  {
   "cell_type": "markdown",
   "id": "da75b08b",
   "metadata": {},
   "source": [
    "### Sets are mutable data structures i.e., possible to add, remove, or modify elements within a set after it has been created. The mutability of sets in Python implies the ability to perform operations that change the contents of the set."
   ]
  },
  {
   "cell_type": "code",
   "execution_count": null,
   "id": "a0caea17",
   "metadata": {},
   "outputs": [],
   "source": []
  },
  {
   "cell_type": "markdown",
   "id": "09c02a73",
   "metadata": {},
   "source": [
    "## <span style = \"text-decoration : underline ;\" >In-built functions</span>"
   ]
  },
  {
   "cell_type": "code",
   "execution_count": 13,
   "id": "7a1a4e07",
   "metadata": {},
   "outputs": [],
   "source": [
    "s6 = {1, 2, 'a', 'b'}"
   ]
  },
  {
   "cell_type": "code",
   "execution_count": 14,
   "id": "44998024",
   "metadata": {},
   "outputs": [
    {
     "name": "stdout",
     "output_type": "stream",
     "text": [
      "{1, 2, 3, 'b', 'a'}\n"
     ]
    }
   ],
   "source": [
    "# 'set_name.add(element)' is used to add a single element to a set\n",
    "\n",
    "s6.add(3)\n",
    "print(s6)"
   ]
  },
  {
   "cell_type": "code",
   "execution_count": 15,
   "id": "6d6ab29a",
   "metadata": {},
   "outputs": [
    {
     "name": "stdout",
     "output_type": "stream",
     "text": [
      "{1, 2, 3, 'b', 'c', 'a'}\n"
     ]
    }
   ],
   "source": [
    "s6.add('c')\n",
    "print(s6)"
   ]
  },
  {
   "cell_type": "code",
   "execution_count": null,
   "id": "0e28cbc1",
   "metadata": {},
   "outputs": [],
   "source": []
  },
  {
   "cell_type": "code",
   "execution_count": 16,
   "id": "0a7a9a91",
   "metadata": {},
   "outputs": [
    {
     "name": "stdout",
     "output_type": "stream",
     "text": [
      "{1, 2, 3, 'u', 'b', 'o', 'i', 'c', 'e', 'a'}\n"
     ]
    }
   ],
   "source": [
    "# 'set_name.update(iterable)' is used to add multiple elements to a set. It takes an iterable (like a list, tuple, or another set) as an argument\n",
    "\n",
    "vowels = ['a', 'e', 'i', 'o', 'u']\n",
    "s6.update(vowels)\n",
    "print(s6)"
   ]
  },
  {
   "cell_type": "code",
   "execution_count": 19,
   "id": "a68423ec",
   "metadata": {},
   "outputs": [
    {
     "name": "stdout",
     "output_type": "stream",
     "text": [
      "{1, 2, 3, 'u', 'b', 'o', 4, 'i', 'c', 'e', 'a'}\n"
     ]
    }
   ],
   "source": [
    "s6.update({4})\n",
    "print(s6)"
   ]
  },
  {
   "cell_type": "code",
   "execution_count": null,
   "id": "640bb032",
   "metadata": {},
   "outputs": [],
   "source": []
  },
  {
   "cell_type": "code",
   "execution_count": 20,
   "id": "52326c0a",
   "metadata": {},
   "outputs": [
    {
     "name": "stdout",
     "output_type": "stream",
     "text": [
      "{1, 2}\n"
     ]
    }
   ],
   "source": [
    "# 'set_name.remove(element)' is used to remove a specific element from a set\n",
    "\n",
    "s7 = {1, 2, 3, 3, 2} # Technically s7 = {1, 2, 3}\n",
    "s7.remove(3)\n",
    "print(s7)"
   ]
  },
  {
   "cell_type": "code",
   "execution_count": 22,
   "id": "af8bbd61",
   "metadata": {},
   "outputs": [
    {
     "ename": "KeyError",
     "evalue": "7",
     "output_type": "error",
     "traceback": [
      "\u001b[1;31m---------------------------------------------------------------------------\u001b[0m",
      "\u001b[1;31mKeyError\u001b[0m                                  Traceback (most recent call last)",
      "\u001b[1;32m~\\AppData\\Local\\Temp\\ipykernel_19572\\3202330098.py\u001b[0m in \u001b[0;36m<module>\u001b[1;34m\u001b[0m\n\u001b[1;32m----> 1\u001b[1;33m \u001b[0ms7\u001b[0m\u001b[1;33m.\u001b[0m\u001b[0mremove\u001b[0m\u001b[1;33m(\u001b[0m\u001b[1;36m7\u001b[0m\u001b[1;33m)\u001b[0m\u001b[1;33m\u001b[0m\u001b[1;33m\u001b[0m\u001b[0m\n\u001b[0m\u001b[0;32m      2\u001b[0m \u001b[1;33m\u001b[0m\u001b[0m\n\u001b[0;32m      3\u001b[0m \u001b[1;31m# If element passed as argument is NOT present in the set, it raises a KeyError\u001b[0m\u001b[1;33m\u001b[0m\u001b[1;33m\u001b[0m\u001b[0m\n",
      "\u001b[1;31mKeyError\u001b[0m: 7"
     ]
    }
   ],
   "source": [
    "s7.remove(7)\n",
    "\n",
    "# If element passed as argument is NOT present in the set, it raises a KeyError"
   ]
  },
  {
   "cell_type": "code",
   "execution_count": 23,
   "id": "2464b3bf",
   "metadata": {},
   "outputs": [
    {
     "name": "stdout",
     "output_type": "stream",
     "text": [
      "{2}\n"
     ]
    }
   ],
   "source": [
    "# 'set_name.discard(element)' is also used to remove a specific element from a set. If the element is not present, it does zilche\n",
    "\n",
    "s7.discard(1)\n",
    "print(s7)"
   ]
  },
  {
   "cell_type": "code",
   "execution_count": 24,
   "id": "8f8216ab",
   "metadata": {},
   "outputs": [],
   "source": [
    "s7.discard(7) # zilchee"
   ]
  },
  {
   "cell_type": "code",
   "execution_count": 26,
   "id": "7c0d28f2",
   "metadata": {},
   "outputs": [
    {
     "name": "stdout",
     "output_type": "stream",
     "text": [
      "{1, 2, 'rotten', 7.6, (3+7j), 'potato'}\n"
     ]
    }
   ],
   "source": [
    "# 'set_name.clear()' is used to remove ALL elements from a set, essentially emptying it\n",
    "\n",
    "s8 = {1, 2, 'rotten', 'potato', 7.6, (3 + 7j)}\n",
    "print(s8)"
   ]
  },
  {
   "cell_type": "code",
   "execution_count": 27,
   "id": "286a6674",
   "metadata": {},
   "outputs": [
    {
     "name": "stdout",
     "output_type": "stream",
     "text": [
      "set()\n"
     ]
    }
   ],
   "source": [
    "s8.clear()\n",
    "print(s8)"
   ]
  },
  {
   "cell_type": "code",
   "execution_count": 28,
   "id": "bb5be17d",
   "metadata": {},
   "outputs": [
    {
     "data": {
      "text/plain": [
       "'Stranger Things'"
      ]
     },
     "execution_count": 28,
     "metadata": {},
     "output_type": "execute_result"
    }
   ],
   "source": [
    "# 'set_name.pop()' is used to remove and return an arbitary (randomly chosen) element from a set. Since sets are unordered collections, there is NO specific order in which elements are stored\n",
    "\n",
    "s9 = {1.87, True, 'Stranger Things', 'Matilda', 29, 'OCTOBER'}\n",
    "s9.pop()"
   ]
  },
  {
   "cell_type": "code",
   "execution_count": 29,
   "id": "4ee7c00a",
   "metadata": {},
   "outputs": [
    {
     "name": "stdout",
     "output_type": "stream",
     "text": [
      "{True, 'Matilda', 29, 'OCTOBER'}\n"
     ]
    }
   ],
   "source": [
    "s9.pop()\n",
    "print(s9)"
   ]
  },
  {
   "cell_type": "code",
   "execution_count": null,
   "id": "18d9eae3",
   "metadata": {},
   "outputs": [],
   "source": []
  },
  {
   "cell_type": "code",
   "execution_count": 49,
   "id": "b67289a8",
   "metadata": {},
   "outputs": [],
   "source": [
    "m = {2, 4, 6}\n",
    "n = {1, 2, 3, 4, 5, 6}"
   ]
  },
  {
   "cell_type": "code",
   "execution_count": 50,
   "id": "1f84dcc5",
   "metadata": {},
   "outputs": [
    {
     "data": {
      "text/plain": [
       "True"
      ]
     },
     "execution_count": 50,
     "metadata": {},
     "output_type": "execute_result"
    }
   ],
   "source": [
    "# 'set_A.issubset(set_B)' method or the '<=' operator checks whether all elements of one set are present in another set\n",
    "m.issubset(n)"
   ]
  },
  {
   "cell_type": "code",
   "execution_count": 51,
   "id": "f1a519e0",
   "metadata": {},
   "outputs": [
    {
     "data": {
      "text/plain": [
       "False"
      ]
     },
     "execution_count": 51,
     "metadata": {},
     "output_type": "execute_result"
    }
   ],
   "source": [
    "n.issubset(m)"
   ]
  },
  {
   "cell_type": "code",
   "execution_count": 55,
   "id": "35aa96e7",
   "metadata": {},
   "outputs": [
    {
     "data": {
      "text/plain": [
       "False"
      ]
     },
     "execution_count": 55,
     "metadata": {},
     "output_type": "execute_result"
    }
   ],
   "source": [
    "# 'set_A.issuperset(set_B)' or '>=' operator checks whether all elements of one set are present in another set\n",
    "\n",
    "m.issuperset(n) # equivalent to 'm >= n'"
   ]
  },
  {
   "cell_type": "code",
   "execution_count": 53,
   "id": "2bc8d190",
   "metadata": {},
   "outputs": [
    {
     "data": {
      "text/plain": [
       "True"
      ]
     },
     "execution_count": 53,
     "metadata": {},
     "output_type": "execute_result"
    }
   ],
   "source": [
    "n.issuperset(m)"
   ]
  },
  {
   "cell_type": "code",
   "execution_count": 54,
   "id": "251f05fc",
   "metadata": {},
   "outputs": [
    {
     "data": {
      "text/plain": [
       "False"
      ]
     },
     "execution_count": 54,
     "metadata": {},
     "output_type": "execute_result"
    }
   ],
   "source": []
  },
  {
   "cell_type": "code",
   "execution_count": null,
   "id": "6bcc734a",
   "metadata": {},
   "outputs": [],
   "source": []
  },
  {
   "cell_type": "markdown",
   "id": "bbf036d0",
   "metadata": {},
   "source": [
    "## <span style = \"text-decoration : underline ;\" >Set Operations</span>"
   ]
  },
  {
   "cell_type": "markdown",
   "id": "d9575263",
   "metadata": {},
   "source": [
    "### 1. <span style = \"text-decoration : underline ;\" >Union</span> - Union operation combines all the elements from both sets. “|” (pipe) symbol is used to carry out this operation. We can also use the union() method in Python."
   ]
  },
  {
   "cell_type": "code",
   "execution_count": 32,
   "id": "88a32a9b",
   "metadata": {},
   "outputs": [
    {
     "name": "stdout",
     "output_type": "stream",
     "text": [
      "{'Git', 'Electromagnetism', 'DSA', 'Physics', 'Python', 'Control Systems'}\n"
     ]
    }
   ],
   "source": [
    "computerScience = {'Git', 'DSA', 'Python'}\n",
    "electricals = {'Control Systems', 'Electromagnetism', 'Physics'}\n",
    "\n",
    "engi = computerScience | electricals\n",
    "print(engi)"
   ]
  },
  {
   "cell_type": "code",
   "execution_count": 34,
   "id": "352967db",
   "metadata": {},
   "outputs": [
    {
     "name": "stdout",
     "output_type": "stream",
     "text": [
      "{'Git', 'Electromagnetism', 'DSA', 'Physics', 'Python', 'Control Systems'}\n"
     ]
    }
   ],
   "source": [
    "# 'set_name.union(other_set)' combines 2 sets and returns a new set containing all unique elements from both sets\n",
    "\n",
    "engi = computerScience.union(electricals)\n",
    "print(engi)"
   ]
  },
  {
   "cell_type": "code",
   "execution_count": null,
   "id": "7c61102d",
   "metadata": {},
   "outputs": [],
   "source": []
  },
  {
   "cell_type": "markdown",
   "id": "626ea158",
   "metadata": {},
   "source": [
    "### 2. <span style = \"text-decoration : underline ;\" >Intersection</span> - Intersection operation picks the elements that are common in both sets. “&” operator or intersection() method is used to perform this operation."
   ]
  },
  {
   "cell_type": "code",
   "execution_count": 35,
   "id": "a4b16dc0",
   "metadata": {},
   "outputs": [
    {
     "name": "stdout",
     "output_type": "stream",
     "text": [
      "{'walk', 'eat'}\n"
     ]
    }
   ],
   "source": [
    "cat = {'eat', 'walk', 'meow'}\n",
    "duck = {'eat', 'walk', 'fly', 'swim', 'quack'}\n",
    "\n",
    "animal = cat & duck\n",
    "print(animal)"
   ]
  },
  {
   "cell_type": "code",
   "execution_count": 36,
   "id": "65e12708",
   "metadata": {},
   "outputs": [
    {
     "name": "stdout",
     "output_type": "stream",
     "text": [
      "{'walk', 'eat'}\n"
     ]
    }
   ],
   "source": [
    "# 'set_name.intersection(other_set)' returns a new set containing all elements that are present in both sets\n",
    "\n",
    "animal = duck.intersection(cat)\n",
    "print(animal)"
   ]
  },
  {
   "cell_type": "code",
   "execution_count": null,
   "id": "95839b6f",
   "metadata": {},
   "outputs": [],
   "source": []
  },
  {
   "cell_type": "markdown",
   "id": "627c7378",
   "metadata": {},
   "source": [
    "### 3. <span style = \"text-decoration : underline ;\" >Difference</span> - The difference in sets is similar to subtraction. When set B is subtracted from set A i.e, Set A - Set B then we say that in the resulting set all the elements of Set B will be removed from Set A. “-” (subtraction sign) or difference() method is used to perform this operation."
   ]
  },
  {
   "cell_type": "code",
   "execution_count": 44,
   "id": "24eead7e",
   "metadata": {},
   "outputs": [
    {
     "name": "stdout",
     "output_type": "stream",
     "text": [
      "{'Sci-Fi', 'Action', 'Adventure'}\n"
     ]
    }
   ],
   "source": [
    "silver = {'Action', 'Adventure', 'Comedy', 'Sci-Fi'}\n",
    "daniel = {'Drama', 'Comedy', 'Romance', 'Mystery'}\n",
    "\n",
    "unique_to_silver = silver - daniel\n",
    "print(unique_to_silver)"
   ]
  },
  {
   "cell_type": "code",
   "execution_count": 45,
   "id": "3cd7cbf5",
   "metadata": {},
   "outputs": [
    {
     "name": "stdout",
     "output_type": "stream",
     "text": [
      "{'Romance', 'Drama', 'Mystery'}\n"
     ]
    }
   ],
   "source": [
    "unique_to_daniel = daniel - silver\n",
    "print(unique_to_daniel)"
   ]
  },
  {
   "cell_type": "code",
   "execution_count": 46,
   "id": "60012daa",
   "metadata": {},
   "outputs": [
    {
     "name": "stdout",
     "output_type": "stream",
     "text": [
      "{'Sci-Fi', 'Action', 'Adventure'}\n"
     ]
    }
   ],
   "source": [
    "# 'set_name.difference(other_set)' returns a new set containing elements that are there in the first set but not in the second set.\n",
    "\n",
    "unique_to_silver = silver.difference(daniel)\n",
    "print(unique_to_silver)"
   ]
  },
  {
   "cell_type": "code",
   "execution_count": null,
   "id": "d26483ba",
   "metadata": {},
   "outputs": [],
   "source": []
  },
  {
   "cell_type": "markdown",
   "id": "db330851",
   "metadata": {},
   "source": [
    "### 4. <span style = \"text-decoration : underline ;\" >Symmetric Difference</span> - The symmetric difference of two sets A and B is a set that contains elements in either A or B but not both. “^” operator or symmetric_difference() method in python is used to perform this operation. "
   ]
  },
  {
   "cell_type": "code",
   "execution_count": 41,
   "id": "d35df3bd",
   "metadata": {},
   "outputs": [
    {
     "name": "stdout",
     "output_type": "stream",
     "text": [
      "{1, 2, 4, 5}\n"
     ]
    }
   ],
   "source": [
    "a = {1, 2, 3}\n",
    "b = {3, 4, 5}\n",
    "\n",
    "print(a ^ b)"
   ]
  },
  {
   "cell_type": "code",
   "execution_count": 42,
   "id": "be6f03d2",
   "metadata": {},
   "outputs": [
    {
     "name": "stdout",
     "output_type": "stream",
     "text": [
      "{1, 2, 4, 5}\n"
     ]
    }
   ],
   "source": [
    "# 'set_name.symmetric_difference(other_set)' returns the symmetric difference of 2 sets i.e., returns a set of all elements that are in either set, but not in both\n",
    "\n",
    "print(a.symmetric_difference(b))"
   ]
  },
  {
   "cell_type": "code",
   "execution_count": null,
   "id": "c9e298ed",
   "metadata": {},
   "outputs": [],
   "source": []
  },
  {
   "cell_type": "markdown",
   "id": "79f4d872",
   "metadata": {},
   "source": [
    "## <span style = \"text-decoration : underline ;\" >Frozen Sets</span> - A frozenset object is an immutable, unordered data type. A frozenset contains unique values, which makes it very similar to set data type. It is immutable like tuples."
   ]
  },
  {
   "cell_type": "code",
   "execution_count": 48,
   "id": "5ccca0d3",
   "metadata": {},
   "outputs": [
    {
     "name": "stdout",
     "output_type": "stream",
     "text": [
      "frozenset({1, 2, 2.2, 'Lucifer', 'Rory'})\n"
     ]
    }
   ],
   "source": [
    "# frozenset() has a single parameter, and that can be any iterable.\n",
    "# Syntax: frozenset(iterable_name) \n",
    "\n",
    "s10 = {1, 2, 2, 'Lucifer', 2.2, 'Rory'}\n",
    "frozen_s10 = frozenset(s10)\n",
    "print(frozen_s10)"
   ]
  },
  {
   "cell_type": "markdown",
   "id": "0c261cf7",
   "metadata": {},
   "source": [
    "### Sice frozen sets are immutable they can be used as elements of other sets or as dictionary keys."
   ]
  },
  {
   "cell_type": "code",
   "execution_count": null,
   "id": "e1b1d992",
   "metadata": {},
   "outputs": [],
   "source": []
  }
 ],
 "metadata": {
  "kernelspec": {
   "display_name": "Python 3 (ipykernel)",
   "language": "python",
   "name": "python3"
  },
  "language_info": {
   "codemirror_mode": {
    "name": "ipython",
    "version": 3
   },
   "file_extension": ".py",
   "mimetype": "text/x-python",
   "name": "python",
   "nbconvert_exporter": "python",
   "pygments_lexer": "ipython3",
   "version": "3.9.13"
  }
 },
 "nbformat": 4,
 "nbformat_minor": 5
}
