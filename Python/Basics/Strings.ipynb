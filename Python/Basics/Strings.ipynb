{
 "cells": [
  {
   "cell_type": "markdown",
   "id": "e872e58c",
   "metadata": {},
   "source": [
    "# <span style = \"text-decoration : underline ;\" >Strings</span>\n",
    "\n",
    "## A string is a sequence of characters enclosed within quotes. Strings in Python are IMMUTABLE, which implies that the characters of a string cannot be changed after it's creation. However, a new string with the desired modification can be created.\n",
    "\n",
    "## Some key features :\n",
    "### 1. Strings can be declared using single quotes(') or double quotes(\")\n",
    "### 2. String concatenation is achieved using the '+' operator, while string replication is achieved using the '*' operator\n",
    "### 3. String indexing, i.e., accessing of individual characters within a string using indices. Indexing starts from 0. \n",
    "### 4. String Slicing i.e., extraction of substrings from a string\n",
    "### 5. String Comparison, using relational operators based on lexicographic order"
   ]
  },
  {
   "cell_type": "code",
   "execution_count": 1,
   "id": "d6892137",
   "metadata": {},
   "outputs": [],
   "source": [
    "# Creating a variable that stores string object"
   ]
  },
  {
   "cell_type": "code",
   "execution_count": 1,
   "id": "d8534855",
   "metadata": {},
   "outputs": [
    {
     "name": "stdout",
     "output_type": "stream",
     "text": [
      "Murillo\n"
     ]
    }
   ],
   "source": [
    "name = 'Murillo'\n",
    "print(name)"
   ]
  },
  {
   "cell_type": "markdown",
   "id": "3cb67e62",
   "metadata": {},
   "source": [
    "### The cell belows gives a clear picture of indexing both in the forward and backward directions."
   ]
  },
  {
   "cell_type": "code",
   "execution_count": 2,
   "id": "8766f4c6",
   "metadata": {},
   "outputs": [
    {
     "data": {
      "text/plain": [
       "'\\n 0 1 2 3 4 5 6  (forward directional indices)\\n M u r i l l o\\n-7-6-5-4-3-2-1  (reverse directional indices)'"
      ]
     },
     "execution_count": 2,
     "metadata": {},
     "output_type": "execute_result"
    }
   ],
   "source": [
    "'''\n",
    " 0 1 2 3 4 5 6  (forward directional indices)\n",
    " M u r i l l o\n",
    "-7-6-5-4-3-2-1  (reverse directional indices)'''"
   ]
  },
  {
   "cell_type": "code",
   "execution_count": 4,
   "id": "a9ccd7ed",
   "metadata": {},
   "outputs": [],
   "source": [
    "# Accessing individual characters from the declared string using indices"
   ]
  },
  {
   "cell_type": "code",
   "execution_count": 5,
   "id": "cf3cf7c0",
   "metadata": {},
   "outputs": [
    {
     "data": {
      "text/plain": [
       "'K'"
      ]
     },
     "execution_count": 5,
     "metadata": {},
     "output_type": "execute_result"
    }
   ],
   "source": [
    "name[0]"
   ]
  },
  {
   "cell_type": "code",
   "execution_count": 6,
   "id": "b69d4af6",
   "metadata": {},
   "outputs": [
    {
     "data": {
      "text/plain": [
       "'i'"
      ]
     },
     "execution_count": 6,
     "metadata": {},
     "output_type": "execute_result"
    }
   ],
   "source": [
    "name[5]"
   ]
  },
  {
   "cell_type": "code",
   "execution_count": 7,
   "id": "c794d541",
   "metadata": {},
   "outputs": [
    {
     "data": {
      "text/plain": [
       "'t'"
      ]
     },
     "execution_count": 7,
     "metadata": {},
     "output_type": "execute_result"
    }
   ],
   "source": [
    "name[-4]"
   ]
  },
  {
   "cell_type": "code",
   "execution_count": 8,
   "id": "bf56a74e",
   "metadata": {},
   "outputs": [
    {
     "data": {
      "text/plain": [
       "'k'"
      ]
     },
     "execution_count": 8,
     "metadata": {},
     "output_type": "execute_result"
    }
   ],
   "source": [
    "name[-1]"
   ]
  },
  {
   "cell_type": "code",
   "execution_count": 9,
   "id": "2a013331",
   "metadata": {
    "scrolled": true
   },
   "outputs": [
    {
     "ename": "IndexError",
     "evalue": "string index out of range",
     "output_type": "error",
     "traceback": [
      "\u001b[1;31m---------------------------------------------------------------------------\u001b[0m",
      "\u001b[1;31mIndexError\u001b[0m                                Traceback (most recent call last)",
      "\u001b[1;32m~\\AppData\\Local\\Temp\\ipykernel_16352\\752300347.py\u001b[0m in \u001b[0;36m<module>\u001b[1;34m\u001b[0m\n\u001b[1;32m----> 1\u001b[1;33m \u001b[0mname\u001b[0m\u001b[1;33m[\u001b[0m\u001b[1;36m90\u001b[0m\u001b[1;33m]\u001b[0m\u001b[1;33m\u001b[0m\u001b[1;33m\u001b[0m\u001b[0m\n\u001b[0m",
      "\u001b[1;31mIndexError\u001b[0m: string index out of range"
     ]
    }
   ],
   "source": [
    "name[90] # "
   ]
  },
  {
   "cell_type": "markdown",
   "id": "497aeba8",
   "metadata": {},
   "source": [
    "### Trying to access an element in a sequence (like string) using an index that is not within the valid range for that sequence generates 'string index out of range' error"
   ]
  },
  {
   "cell_type": "code",
   "execution_count": null,
   "id": "c68396d4",
   "metadata": {},
   "outputs": [],
   "source": []
  },
  {
   "cell_type": "markdown",
   "id": "0c718468",
   "metadata": {},
   "source": [
    "## <span style = \"text-decoration : underline ;\" >String Slicing</span>"
   ]
  },
  {
   "cell_type": "code",
   "execution_count": 3,
   "id": "5dbdda22",
   "metadata": {},
   "outputs": [
    {
     "data": {
      "text/plain": [
       "'Murill'"
      ]
     },
     "execution_count": 3,
     "metadata": {},
     "output_type": "execute_result"
    }
   ],
   "source": [
    "name[0:6]  #variable_name[lowerbound : upperbound], upperbound is excluded while lowerbound is included"
   ]
  },
  {
   "cell_type": "markdown",
   "id": "d1f7c145",
   "metadata": {},
   "source": [
    "### A substring that contains characters at the index 0, 1, 2, 3, 4 and 5 is printed into the console"
   ]
  },
  {
   "cell_type": "code",
   "execution_count": 4,
   "id": "378d6b37",
   "metadata": {},
   "outputs": [
    {
     "data": {
      "text/plain": [
       "'Murillo'"
      ]
     },
     "execution_count": 4,
     "metadata": {},
     "output_type": "execute_result"
    }
   ],
   "source": [
    "name[0:7]  #no errors in the case of slicing even if the entered arguments(index values) are out of range"
   ]
  },
  {
   "cell_type": "code",
   "execution_count": 5,
   "id": "e65e6f13",
   "metadata": {},
   "outputs": [
    {
     "data": {
      "text/plain": [
       "'Murillo'"
      ]
     },
     "execution_count": 5,
     "metadata": {},
     "output_type": "execute_result"
    }
   ],
   "source": [
    "name[0:70]"
   ]
  },
  {
   "cell_type": "markdown",
   "id": "8ed28e6e",
   "metadata": {},
   "source": [
    "### In the above case, 70 is passed as the upper bound argument and it is an index that is out of range. Python internally handles the truncation of the slice by adjusting the upper bound to the maximum valid index of the sequence. Hence, no errors are generated."
   ]
  },
  {
   "cell_type": "code",
   "execution_count": 6,
   "id": "2496173d",
   "metadata": {},
   "outputs": [
    {
     "data": {
      "text/plain": [
       "'Murillo'"
      ]
     },
     "execution_count": 6,
     "metadata": {},
     "output_type": "execute_result"
    }
   ],
   "source": [
    "name[:8] # by default 0 is taken as the lower bound index"
   ]
  },
  {
   "cell_type": "code",
   "execution_count": 7,
   "id": "0431b5d0",
   "metadata": {},
   "outputs": [
    {
     "data": {
      "text/plain": [
       "'rillo'"
      ]
     },
     "execution_count": 7,
     "metadata": {},
     "output_type": "execute_result"
    }
   ],
   "source": [
    "name[2:] # the default upper bound index is the length of the string"
   ]
  },
  {
   "cell_type": "code",
   "execution_count": 8,
   "id": "3dc63abf",
   "metadata": {},
   "outputs": [
    {
     "data": {
      "text/plain": [
       "'M'"
      ]
     },
     "execution_count": 8,
     "metadata": {},
     "output_type": "execute_result"
    }
   ],
   "source": [
    "name[0::-1] # -1 here indicates jump/step size, - specifically indicates in the reverse direction"
   ]
  },
  {
   "cell_type": "code",
   "execution_count": 9,
   "id": "85e7af7e",
   "metadata": {},
   "outputs": [
    {
     "data": {
      "text/plain": [
       "'Murillo'"
      ]
     },
     "execution_count": 9,
     "metadata": {},
     "output_type": "execute_result"
    }
   ],
   "source": [
    "name[:]"
   ]
  },
  {
   "cell_type": "markdown",
   "id": "a471c00b",
   "metadata": {},
   "source": [
    "### When both the lower and upper bounds are omitted, Python assumes that the entire string has to be sliced, ultimately creating a new string that is a copy of the original string."
   ]
  },
  {
   "cell_type": "code",
   "execution_count": 10,
   "id": "96a34990",
   "metadata": {},
   "outputs": [
    {
     "data": {
      "text/plain": [
       "'Mrlo'"
      ]
     },
     "execution_count": 10,
     "metadata": {},
     "output_type": "execute_result"
    }
   ],
   "source": [
    "name[::2] #variable_name[lowerbound : upperbound : jump] by default jump is 1"
   ]
  },
  {
   "cell_type": "code",
   "execution_count": 11,
   "id": "3546c3bd",
   "metadata": {},
   "outputs": [
    {
     "data": {
      "text/plain": [
       "'olliruM'"
      ]
     },
     "execution_count": 11,
     "metadata": {},
     "output_type": "execute_result"
    }
   ],
   "source": [
    "name[::-1] #reverse directional jump"
   ]
  },
  {
   "cell_type": "code",
   "execution_count": 12,
   "id": "9c29f891",
   "metadata": {},
   "outputs": [
    {
     "data": {
      "text/plain": [
       "'olrM'"
      ]
     },
     "execution_count": 12,
     "metadata": {},
     "output_type": "execute_result"
    }
   ],
   "source": [
    "name[::-2]"
   ]
  },
  {
   "cell_type": "code",
   "execution_count": 13,
   "id": "cd91c344",
   "metadata": {},
   "outputs": [
    {
     "data": {
      "text/plain": [
       "''"
      ]
     },
     "execution_count": 13,
     "metadata": {},
     "output_type": "execute_result"
    }
   ],
   "source": [
    "name[6:-6]"
   ]
  },
  {
   "cell_type": "code",
   "execution_count": 14,
   "id": "94fa4f03",
   "metadata": {},
   "outputs": [
    {
     "data": {
      "text/plain": [
       "'ollir'"
      ]
     },
     "execution_count": 14,
     "metadata": {},
     "output_type": "execute_result"
    }
   ],
   "source": [
    "name[6:-6:-1]"
   ]
  },
  {
   "cell_type": "code",
   "execution_count": 15,
   "id": "3fda6ff0",
   "metadata": {},
   "outputs": [
    {
     "data": {
      "text/plain": [
       "''"
      ]
     },
     "execution_count": 15,
     "metadata": {},
     "output_type": "execute_result"
    }
   ],
   "source": [
    "name[-1:-1:-1]"
   ]
  },
  {
   "cell_type": "code",
   "execution_count": 16,
   "id": "efdf8d35",
   "metadata": {},
   "outputs": [
    {
     "data": {
      "text/plain": [
       "'olliruM'"
      ]
     },
     "execution_count": 16,
     "metadata": {},
     "output_type": "execute_result"
    }
   ],
   "source": [
    "name[-1::-1]"
   ]
  },
  {
   "cell_type": "code",
   "execution_count": 17,
   "id": "ac94e64b",
   "metadata": {},
   "outputs": [
    {
     "data": {
      "text/plain": [
       "''"
      ]
     },
     "execution_count": 17,
     "metadata": {},
     "output_type": "execute_result"
    }
   ],
   "source": [
    "name[0:3:-1]"
   ]
  },
  {
   "cell_type": "code",
   "execution_count": 18,
   "id": "f9c22679",
   "metadata": {},
   "outputs": [
    {
     "data": {
      "text/plain": [
       "'Mur'"
      ]
     },
     "execution_count": 18,
     "metadata": {},
     "output_type": "execute_result"
    }
   ],
   "source": [
    "name[-7:-4:1]"
   ]
  },
  {
   "cell_type": "code",
   "execution_count": 19,
   "id": "cd0e4f8a",
   "metadata": {},
   "outputs": [
    {
     "data": {
      "text/plain": [
       "''"
      ]
     },
     "execution_count": 19,
     "metadata": {},
     "output_type": "execute_result"
    }
   ],
   "source": [
    "name[-1:-8:1]"
   ]
  },
  {
   "cell_type": "code",
   "execution_count": 20,
   "id": "00d6f84f",
   "metadata": {},
   "outputs": [
    {
     "data": {
      "text/plain": [
       "'olliruM'"
      ]
     },
     "execution_count": 20,
     "metadata": {},
     "output_type": "execute_result"
    }
   ],
   "source": [
    "name[-1:-8:-1]"
   ]
  },
  {
   "cell_type": "code",
   "execution_count": 21,
   "id": "862569bb",
   "metadata": {},
   "outputs": [
    {
     "data": {
      "text/plain": [
       "''"
      ]
     },
     "execution_count": 21,
     "metadata": {},
     "output_type": "execute_result"
    }
   ],
   "source": [
    "name[:-80:]"
   ]
  },
  {
   "cell_type": "code",
   "execution_count": 22,
   "id": "9b17ff76",
   "metadata": {},
   "outputs": [
    {
     "data": {
      "text/plain": [
       "'olliruM'"
      ]
     },
     "execution_count": 22,
     "metadata": {},
     "output_type": "execute_result"
    }
   ],
   "source": [
    "name[:-80:-1]"
   ]
  },
  {
   "cell_type": "code",
   "execution_count": null,
   "id": "8b54625c",
   "metadata": {},
   "outputs": [],
   "source": []
  },
  {
   "cell_type": "markdown",
   "id": "3390d148",
   "metadata": {},
   "source": [
    "## <span style = \"text-decoration : underline ;\" >Some in-built functions</span>\n",
    "### Use shift + tab to see the detailed info of each function in your own jupyter notebook"
   ]
  },
  {
   "cell_type": "code",
   "execution_count": 24,
   "id": "6e24cf07",
   "metadata": {},
   "outputs": [],
   "source": [
    "s = \"Everything happens for a reason, a really good one\""
   ]
  },
  {
   "cell_type": "code",
   "execution_count": 25,
   "id": "b933b8ab",
   "metadata": {},
   "outputs": [
    {
     "data": {
      "text/plain": [
       "50"
      ]
     },
     "execution_count": 25,
     "metadata": {},
     "output_type": "execute_result"
    }
   ],
   "source": [
    "len(s) # returns the length of the string"
   ]
  },
  {
   "cell_type": "code",
   "execution_count": 35,
   "id": "78b98f74",
   "metadata": {},
   "outputs": [
    {
     "data": {
      "text/plain": [
       "2"
      ]
     },
     "execution_count": 35,
     "metadata": {},
     "output_type": "execute_result"
    }
   ],
   "source": [
    "\"\"\"\n",
    "'string.find(substring, start, end)' method is used to locate a substring within a string. \n",
    "'start' is the index from which the search begins, if omitted, it starts from the beginning of the string.\n",
    "'end' is the index at which the search ends, if omitted, goes to the end of the string. \"\"\"\n",
    "\n",
    "s.find('e')  # returns the lowest index of a substring if it is found, else returns -1"
   ]
  },
  {
   "cell_type": "code",
   "execution_count": 28,
   "id": "c43fe478",
   "metadata": {},
   "outputs": [
    {
     "data": {
      "text/plain": [
       "0"
      ]
     },
     "execution_count": 28,
     "metadata": {},
     "output_type": "execute_result"
    }
   ],
   "source": [
    "s.find('Every') #Python is case sensitive"
   ]
  },
  {
   "cell_type": "code",
   "execution_count": 29,
   "id": "3182f9bf",
   "metadata": {},
   "outputs": [
    {
     "data": {
      "text/plain": [
       "-1"
      ]
     },
     "execution_count": 29,
     "metadata": {},
     "output_type": "execute_result"
    }
   ],
   "source": [
    "s.find('z')"
   ]
  },
  {
   "cell_type": "code",
   "execution_count": 30,
   "id": "f4e7edd9",
   "metadata": {},
   "outputs": [
    {
     "data": {
      "text/plain": [
       "42"
      ]
     },
     "execution_count": 30,
     "metadata": {},
     "output_type": "execute_result"
    }
   ],
   "source": [
    "s.find('good')"
   ]
  },
  {
   "cell_type": "code",
   "execution_count": 31,
   "id": "d291253a",
   "metadata": {},
   "outputs": [
    {
     "data": {
      "text/plain": [
       "-1"
      ]
     },
     "execution_count": 31,
     "metadata": {},
     "output_type": "execute_result"
    }
   ],
   "source": [
    "s.find('Good')"
   ]
  },
  {
   "cell_type": "code",
   "execution_count": null,
   "id": "02cb2610",
   "metadata": {},
   "outputs": [],
   "source": []
  },
  {
   "cell_type": "code",
   "execution_count": 36,
   "id": "02f6b8d8",
   "metadata": {},
   "outputs": [
    {
     "data": {
      "text/plain": [
       "5"
      ]
     },
     "execution_count": 36,
     "metadata": {},
     "output_type": "execute_result"
    }
   ],
   "source": [
    "\"\"\"\n",
    "'string.count(substring, start, end)' method is used to count the occurrences of a substring within a string. \n",
    "'start' is the index from which the counting begins, if omitted, it starts from the beginning of the string.\n",
    "'end' is the index at which the counting ends, if omitted, goes to the end of the string. \"\"\"\n",
    "\n",
    "\n",
    "s.count('o') # Returns the number of times a specified substring appears in the original string"
   ]
  },
  {
   "cell_type": "code",
   "execution_count": 38,
   "id": "de29b632",
   "metadata": {},
   "outputs": [
    {
     "data": {
      "text/plain": [
       "5"
      ]
     },
     "execution_count": 38,
     "metadata": {},
     "output_type": "execute_result"
    }
   ],
   "source": [
    "s.count('a')"
   ]
  },
  {
   "cell_type": "code",
   "execution_count": 39,
   "id": "185e6eac",
   "metadata": {},
   "outputs": [
    {
     "data": {
      "text/plain": [
       "5"
      ]
     },
     "execution_count": 39,
     "metadata": {},
     "output_type": "execute_result"
    }
   ],
   "source": [
    "s.count('e')"
   ]
  },
  {
   "cell_type": "code",
   "execution_count": 40,
   "id": "826ab1ef",
   "metadata": {},
   "outputs": [
    {
     "data": {
      "text/plain": [
       "0"
      ]
     },
     "execution_count": 40,
     "metadata": {},
     "output_type": "execute_result"
    }
   ],
   "source": [
    "s.count('z')"
   ]
  },
  {
   "cell_type": "code",
   "execution_count": null,
   "id": "4942f794",
   "metadata": {},
   "outputs": [],
   "source": []
  },
  {
   "cell_type": "code",
   "execution_count": 37,
   "id": "f24907e7",
   "metadata": {},
   "outputs": [
    {
     "data": {
      "text/plain": [
       "'EVERYTHING HAPPENS FOR A REASON, A REALLY GOOD ONE'"
      ]
     },
     "execution_count": 37,
     "metadata": {},
     "output_type": "execute_result"
    }
   ],
   "source": [
    "# 'string.upper()' converts all the characters in a string to uppercase.\n",
    "\n",
    "s.upper()"
   ]
  },
  {
   "cell_type": "code",
   "execution_count": 74,
   "id": "a7b0cad2",
   "metadata": {},
   "outputs": [
    {
     "data": {
      "text/plain": [
       "'G'"
      ]
     },
     "execution_count": 74,
     "metadata": {},
     "output_type": "execute_result"
    }
   ],
   "source": [
    "s[42].upper()"
   ]
  },
  {
   "cell_type": "code",
   "execution_count": 38,
   "id": "a025d326",
   "metadata": {},
   "outputs": [
    {
     "data": {
      "text/plain": [
       "'everything happens for a reason, a really good one'"
      ]
     },
     "execution_count": 38,
     "metadata": {},
     "output_type": "execute_result"
    }
   ],
   "source": [
    "# 'string.lower()' converts all the characters in a string to lowercase\n",
    "\n",
    "s.lower()"
   ]
  },
  {
   "cell_type": "code",
   "execution_count": 39,
   "id": "63220fc8",
   "metadata": {},
   "outputs": [
    {
     "data": {
      "text/plain": [
       "False"
      ]
     },
     "execution_count": 39,
     "metadata": {},
     "output_type": "execute_result"
    }
   ],
   "source": [
    "# 'string.isupper()' checks if all the characters in a string are uppercase.\n",
    "\n",
    "s.isupper()"
   ]
  },
  {
   "cell_type": "code",
   "execution_count": 40,
   "id": "b81206b4",
   "metadata": {},
   "outputs": [
    {
     "data": {
      "text/plain": [
       "False"
      ]
     },
     "execution_count": 40,
     "metadata": {},
     "output_type": "execute_result"
    }
   ],
   "source": [
    "# 'string.islower()' checks if all the characters in a string are lowercase.\n",
    "\n",
    "s.islower()"
   ]
  },
  {
   "cell_type": "code",
   "execution_count": 41,
   "id": "096093f5",
   "metadata": {},
   "outputs": [
    {
     "data": {
      "text/plain": [
       "True"
      ]
     },
     "execution_count": 41,
     "metadata": {},
     "output_type": "execute_result"
    }
   ],
   "source": [
    "s.upper().isupper()"
   ]
  },
  {
   "cell_type": "code",
   "execution_count": 42,
   "id": "8d211b90",
   "metadata": {},
   "outputs": [
    {
     "data": {
      "text/plain": [
       "True"
      ]
     },
     "execution_count": 42,
     "metadata": {},
     "output_type": "execute_result"
    }
   ],
   "source": [
    "s.lower().islower()"
   ]
  },
  {
   "cell_type": "code",
   "execution_count": null,
   "id": "406539e1",
   "metadata": {},
   "outputs": [],
   "source": []
  },
  {
   "cell_type": "code",
   "execution_count": 44,
   "id": "2386eb78",
   "metadata": {},
   "outputs": [
    {
     "data": {
      "text/plain": [
       "'Everything Happens For A Reason, A Really Good One'"
      ]
     },
     "execution_count": 44,
     "metadata": {},
     "output_type": "execute_result"
    }
   ],
   "source": [
    "# 'string.title()' capitalizes the first character of each word in a string and converts all other characters to lowercase\n",
    "\n",
    "s.title()"
   ]
  },
  {
   "cell_type": "code",
   "execution_count": 72,
   "id": "ec09dc88",
   "metadata": {},
   "outputs": [
    {
     "data": {
      "text/plain": [
       "'Eno Doog Yllaer A ,Nosaer A Rof Sneppah Gnihtyreve'"
      ]
     },
     "execution_count": 72,
     "metadata": {},
     "output_type": "execute_result"
    }
   ],
   "source": [
    "s[::-1].title()"
   ]
  },
  {
   "cell_type": "code",
   "execution_count": 43,
   "id": "202e58d7",
   "metadata": {},
   "outputs": [
    {
     "data": {
      "text/plain": [
       "'Everything happens for a reason, a really good one'"
      ]
     },
     "execution_count": 43,
     "metadata": {},
     "output_type": "execute_result"
    }
   ],
   "source": [
    "# 'string.capitalize()' method capitalises the first character of a string and converts all other characters to lowercase.\n",
    "\n",
    "s.capitalize()"
   ]
  },
  {
   "cell_type": "code",
   "execution_count": null,
   "id": "1f17940d",
   "metadata": {},
   "outputs": [],
   "source": []
  },
  {
   "cell_type": "code",
   "execution_count": 45,
   "id": "542b4ac0",
   "metadata": {},
   "outputs": [
    {
     "data": {
      "text/plain": [
       "['Everything', 'happens', 'for', 'a', 'reason,', 'a', 'really', 'good', 'one']"
      ]
     },
     "execution_count": 45,
     "metadata": {},
     "output_type": "execute_result"
    }
   ],
   "source": [
    "\"\"\"'string.split(separator, maxsplit)' method is used to split a string into a list of substrings based on a specified separator.\n",
    "separator - character or sequence of characters used to determine where to split the string. If omitted, the default is whitespace.\n",
    "maxsplit - The maximum number of splits to perform, by default there is no limit on the number of splits\"\"\"\n",
    "\n",
    "s.split()"
   ]
  },
  {
   "cell_type": "code",
   "execution_count": 49,
   "id": "9dcbd0ab",
   "metadata": {},
   "outputs": [
    {
     "name": "stdout",
     "output_type": "stream",
     "text": [
      "['Everything', 'happens', 'for', 'a', 'reason,', 'a', 'really', 'good', 'one']\n"
     ]
    }
   ],
   "source": [
    "str_list = s.split()\n",
    "print(str_list)"
   ]
  },
  {
   "cell_type": "code",
   "execution_count": 46,
   "id": "69a77700",
   "metadata": {},
   "outputs": [
    {
     "data": {
      "text/plain": [
       "['Ev', 'rything happ', 'ns for a r', 'ason, a r', 'ally good on', '']"
      ]
     },
     "execution_count": 46,
     "metadata": {},
     "output_type": "execute_result"
    }
   ],
   "source": [
    "s.split('e')"
   ]
  },
  {
   "cell_type": "code",
   "execution_count": 48,
   "id": "5b3d552d",
   "metadata": {},
   "outputs": [
    {
     "data": {
      "text/plain": [
       "['Everything h', 'ppens for ', ' re', 'son, a really good one']"
      ]
     },
     "execution_count": 48,
     "metadata": {},
     "output_type": "execute_result"
    }
   ],
   "source": [
    "s.split('a', 3)"
   ]
  },
  {
   "cell_type": "code",
   "execution_count": null,
   "id": "93d0c456",
   "metadata": {},
   "outputs": [],
   "source": []
  },
  {
   "cell_type": "code",
   "execution_count": 50,
   "id": "8c133eba",
   "metadata": {},
   "outputs": [
    {
     "data": {
      "text/plain": [
       "'Everythinghappensforareason,areallygoodone'"
      ]
     },
     "execution_count": 50,
     "metadata": {},
     "output_type": "execute_result"
    }
   ],
   "source": [
    "# 'separator.join(iterable)' allows you yo concatenate elements in an iterable with a specified separator. It returns a new string that is created by joining the elements together.\n",
    "\n",
    "''.join(str_list)"
   ]
  },
  {
   "cell_type": "code",
   "execution_count": 51,
   "id": "d270a05b",
   "metadata": {},
   "outputs": [
    {
     "data": {
      "text/plain": [
       "'Everything happens for a reason, a really good one'"
      ]
     },
     "execution_count": 51,
     "metadata": {},
     "output_type": "execute_result"
    }
   ],
   "source": [
    "' '.join(str_list)"
   ]
  },
  {
   "cell_type": "code",
   "execution_count": 52,
   "id": "1577c1a3",
   "metadata": {},
   "outputs": [
    {
     "data": {
      "text/plain": [
       "'Everything !! happens !! for !! a !! reason, !! a !! really !! good !! one'"
      ]
     },
     "execution_count": 52,
     "metadata": {},
     "output_type": "execute_result"
    }
   ],
   "source": [
    "' !! '.join(str_list)"
   ]
  },
  {
   "cell_type": "code",
   "execution_count": null,
   "id": "4734944c",
   "metadata": {},
   "outputs": [],
   "source": []
  },
  {
   "cell_type": "code",
   "execution_count": 54,
   "id": "b613b4a6",
   "metadata": {},
   "outputs": [],
   "source": [
    "course = 'Computer Science Engineering'"
   ]
  },
  {
   "cell_type": "code",
   "execution_count": 55,
   "id": "da0db2a1",
   "metadata": {},
   "outputs": [
    {
     "data": {
      "text/plain": [
       "'Information Science Engineering'"
      ]
     },
     "execution_count": 55,
     "metadata": {},
     "output_type": "execute_result"
    }
   ],
   "source": [
    "\"\"\"'string.replace(old, new, count)' is a string method that is used to replace occurences of a specified substring with another substring.\n",
    "It returns a new string with the replacements made, leaving the original string unchanged because strings are immutable in Python\n",
    "\n",
    "old - Substring to be replaced\n",
    "new - Substring to replace with\n",
    "count - Maximum number of replacements to make, if omitted, all occurrences will be replaced\"\"\"\n",
    "\n",
    "course.replace('Computer', 'Information')"
   ]
  },
  {
   "cell_type": "code",
   "execution_count": 56,
   "id": "ca0ed674",
   "metadata": {},
   "outputs": [
    {
     "data": {
      "text/plain": [
       "'Biotech Engineering'"
      ]
     },
     "execution_count": 56,
     "metadata": {},
     "output_type": "execute_result"
    }
   ],
   "source": [
    "course.replace('Computer Science', 'Biotech')"
   ]
  },
  {
   "cell_type": "code",
   "execution_count": null,
   "id": "8812658f",
   "metadata": {},
   "outputs": [],
   "source": []
  },
  {
   "cell_type": "code",
   "execution_count": 60,
   "id": "658b6e79",
   "metadata": {},
   "outputs": [],
   "source": [
    "message = '           HOLA, AMIGO !!!           '"
   ]
  },
  {
   "cell_type": "code",
   "execution_count": 61,
   "id": "916ef515",
   "metadata": {},
   "outputs": [
    {
     "data": {
      "text/plain": [
       "'HOLA, AMIGO !!!'"
      ]
     },
     "execution_count": 61,
     "metadata": {},
     "output_type": "execute_result"
    }
   ],
   "source": [
    "# string.strip(characters) - removes specified characters from the beginning and end of the string. By default it is whitespace characters\n",
    "\n",
    "message.strip()"
   ]
  },
  {
   "cell_type": "code",
   "execution_count": null,
   "id": "c5517033",
   "metadata": {},
   "outputs": [],
   "source": []
  },
  {
   "cell_type": "code",
   "execution_count": 75,
   "id": "5b746a4f",
   "metadata": {},
   "outputs": [
    {
     "data": {
      "text/plain": [
       "2"
      ]
     },
     "execution_count": 75,
     "metadata": {},
     "output_type": "execute_result"
    }
   ],
   "source": [
    "# string.index(substring, start, end) - used to find the index of the first occurrence of a specified substring within a string\n",
    "\n",
    "s.index('e')"
   ]
  },
  {
   "cell_type": "code",
   "execution_count": 76,
   "id": "f589eb98",
   "metadata": {},
   "outputs": [
    {
     "data": {
      "text/plain": [
       "0"
      ]
     },
     "execution_count": 76,
     "metadata": {},
     "output_type": "execute_result"
    }
   ],
   "source": [
    "s.index('E')"
   ]
  },
  {
   "cell_type": "code",
   "execution_count": null,
   "id": "2347b3f5",
   "metadata": {},
   "outputs": [],
   "source": []
  },
  {
   "cell_type": "markdown",
   "id": "be1a69c4",
   "metadata": {},
   "source": [
    "## <span style = \"text-decoration : underline ;\" >String Concatenation and Replication</span>"
   ]
  },
  {
   "cell_type": "code",
   "execution_count": 62,
   "id": "7b4d5aaf",
   "metadata": {},
   "outputs": [
    {
     "data": {
      "text/plain": [
       "'Everything happens for a reason, a really good oneMurillo'"
      ]
     },
     "execution_count": 62,
     "metadata": {},
     "output_type": "execute_result"
    }
   ],
   "source": [
    "s + name"
   ]
  },
  {
   "cell_type": "code",
   "execution_count": 63,
   "id": "f193382a",
   "metadata": {
    "scrolled": true
   },
   "outputs": [
    {
     "ename": "TypeError",
     "evalue": "can only concatenate str (not \"int\") to str",
     "output_type": "error",
     "traceback": [
      "\u001b[1;31m---------------------------------------------------------------------------\u001b[0m",
      "\u001b[1;31mTypeError\u001b[0m                                 Traceback (most recent call last)",
      "\u001b[1;32m~\\AppData\\Local\\Temp\\ipykernel_9424\\3688120184.py\u001b[0m in \u001b[0;36m<module>\u001b[1;34m\u001b[0m\n\u001b[1;32m----> 1\u001b[1;33m \u001b[0ms\u001b[0m \u001b[1;33m+\u001b[0m \u001b[1;36m24\u001b[0m\u001b[1;33m\u001b[0m\u001b[1;33m\u001b[0m\u001b[0m\n\u001b[0m",
      "\u001b[1;31mTypeError\u001b[0m: can only concatenate str (not \"int\") to str"
     ]
    }
   ],
   "source": [
    "s + 24"
   ]
  },
  {
   "cell_type": "code",
   "execution_count": 64,
   "id": "385f511f",
   "metadata": {},
   "outputs": [
    {
     "data": {
      "text/plain": [
       "'Everything happens for a reason, a really good one24'"
      ]
     },
     "execution_count": 64,
     "metadata": {},
     "output_type": "execute_result"
    }
   ],
   "source": [
    "s + '24'"
   ]
  },
  {
   "cell_type": "code",
   "execution_count": 65,
   "id": "40107990",
   "metadata": {},
   "outputs": [
    {
     "data": {
      "text/plain": [
       "'Everything happens for a reason, a really good one, so trust the process'"
      ]
     },
     "execution_count": 65,
     "metadata": {},
     "output_type": "execute_result"
    }
   ],
   "source": [
    "s + ',' + ' ' + 'so trust the process'"
   ]
  },
  {
   "cell_type": "code",
   "execution_count": 66,
   "id": "aef78638",
   "metadata": {},
   "outputs": [
    {
     "ename": "TypeError",
     "evalue": "unsupported operand type(s) for -: 'str' and 'str'",
     "output_type": "error",
     "traceback": [
      "\u001b[1;31m---------------------------------------------------------------------------\u001b[0m",
      "\u001b[1;31mTypeError\u001b[0m                                 Traceback (most recent call last)",
      "\u001b[1;32m~\\AppData\\Local\\Temp\\ipykernel_9424\\557372821.py\u001b[0m in \u001b[0;36m<module>\u001b[1;34m\u001b[0m\n\u001b[1;32m----> 1\u001b[1;33m \u001b[0ms\u001b[0m \u001b[1;33m-\u001b[0m \u001b[1;34m'24'\u001b[0m\u001b[1;33m\u001b[0m\u001b[1;33m\u001b[0m\u001b[0m\n\u001b[0m",
      "\u001b[1;31mTypeError\u001b[0m: unsupported operand type(s) for -: 'str' and 'str'"
     ]
    }
   ],
   "source": [
    "s - '24'"
   ]
  },
  {
   "cell_type": "markdown",
   "id": "28a2dcc6",
   "metadata": {},
   "source": [
    "### String replication is carried out using the '*' operator."
   ]
  },
  {
   "cell_type": "code",
   "execution_count": 67,
   "id": "6b5c258a",
   "metadata": {},
   "outputs": [
    {
     "data": {
      "text/plain": [
       "'MurilloMurilloMurilloMurillo'"
      ]
     },
     "execution_count": 67,
     "metadata": {},
     "output_type": "execute_result"
    }
   ],
   "source": [
    "name * 4"
   ]
  },
  {
   "cell_type": "code",
   "execution_count": 68,
   "id": "2382dc42",
   "metadata": {},
   "outputs": [
    {
     "data": {
      "text/plain": [
       "'AMCAMCAMC'"
      ]
     },
     "execution_count": 68,
     "metadata": {},
     "output_type": "execute_result"
    }
   ],
   "source": [
    "'AMC' * 3"
   ]
  },
  {
   "cell_type": "code",
   "execution_count": 69,
   "id": "44d92d98",
   "metadata": {},
   "outputs": [
    {
     "data": {
      "text/plain": [
       "'     '"
      ]
     },
     "execution_count": 69,
     "metadata": {},
     "output_type": "execute_result"
    }
   ],
   "source": [
    "' ' * 5"
   ]
  },
  {
   "cell_type": "code",
   "execution_count": 70,
   "id": "7e6b744b",
   "metadata": {},
   "outputs": [
    {
     "ename": "TypeError",
     "evalue": "unsupported operand type(s) for -: 'str' and 'int'",
     "output_type": "error",
     "traceback": [
      "\u001b[1;31m---------------------------------------------------------------------------\u001b[0m",
      "\u001b[1;31mTypeError\u001b[0m                                 Traceback (most recent call last)",
      "\u001b[1;32m~\\AppData\\Local\\Temp\\ipykernel_9424\\3649122230.py\u001b[0m in \u001b[0;36m<module>\u001b[1;34m\u001b[0m\n\u001b[1;32m----> 1\u001b[1;33m \u001b[0mname\u001b[0m \u001b[1;33m-\u001b[0m \u001b[1;36m1\u001b[0m\u001b[1;33m\u001b[0m\u001b[1;33m\u001b[0m\u001b[0m\n\u001b[0m",
      "\u001b[1;31mTypeError\u001b[0m: unsupported operand type(s) for -: 'str' and 'int'"
     ]
    }
   ],
   "source": [
    "name - 1"
   ]
  },
  {
   "cell_type": "code",
   "execution_count": 71,
   "id": "15323b1e",
   "metadata": {},
   "outputs": [
    {
     "ename": "TypeError",
     "evalue": "unsupported operand type(s) for /: 'str' and 'int'",
     "output_type": "error",
     "traceback": [
      "\u001b[1;31m---------------------------------------------------------------------------\u001b[0m",
      "\u001b[1;31mTypeError\u001b[0m                                 Traceback (most recent call last)",
      "\u001b[1;32m~\\AppData\\Local\\Temp\\ipykernel_9424\\540525867.py\u001b[0m in \u001b[0;36m<module>\u001b[1;34m\u001b[0m\n\u001b[1;32m----> 1\u001b[1;33m \u001b[0mname\u001b[0m \u001b[1;33m/\u001b[0m \u001b[1;36m2\u001b[0m\u001b[1;33m\u001b[0m\u001b[1;33m\u001b[0m\u001b[0m\n\u001b[0m",
      "\u001b[1;31mTypeError\u001b[0m: unsupported operand type(s) for /: 'str' and 'int'"
     ]
    }
   ],
   "source": [
    "name / 2"
   ]
  },
  {
   "cell_type": "code",
   "execution_count": null,
   "id": "bd4a9b8d",
   "metadata": {},
   "outputs": [],
   "source": []
  },
  {
   "cell_type": "code",
   "execution_count": 73,
   "id": "428e88d6",
   "metadata": {},
   "outputs": [],
   "source": [
    "## Proper way to include quotes within a string"
   ]
  },
  {
   "cell_type": "code",
   "execution_count": 72,
   "id": "9d5b35ed",
   "metadata": {},
   "outputs": [
    {
     "ename": "SyntaxError",
     "evalue": "invalid syntax (2431869339.py, line 1)",
     "output_type": "error",
     "traceback": [
      "\u001b[1;36m  File \u001b[1;32m\"C:\\Users\\karth\\AppData\\Local\\Temp\\ipykernel_9424\\2431869339.py\"\u001b[1;36m, line \u001b[1;32m1\u001b[0m\n\u001b[1;33m    'Don't ever hesitate to be uncomfortable'\u001b[0m\n\u001b[1;37m         ^\u001b[0m\n\u001b[1;31mSyntaxError\u001b[0m\u001b[1;31m:\u001b[0m invalid syntax\n"
     ]
    }
   ],
   "source": [
    "'Don't ever hesitate to be uncomfortable'"
   ]
  },
  {
   "cell_type": "code",
   "execution_count": 69,
   "id": "e754ae7a",
   "metadata": {},
   "outputs": [
    {
     "data": {
      "text/plain": [
       "\"Don't ever hesitate to be uncomfortable\""
      ]
     },
     "execution_count": 69,
     "metadata": {},
     "output_type": "execute_result"
    }
   ],
   "source": [
    "\"Don't ever hesitate to be uncomfortable\""
   ]
  },
  {
   "cell_type": "code",
   "execution_count": 70,
   "id": "a4a0433b",
   "metadata": {},
   "outputs": [
    {
     "data": {
      "text/plain": [
       "'Don\"t ever hesitate to be uncomfortable'"
      ]
     },
     "execution_count": 70,
     "metadata": {},
     "output_type": "execute_result"
    }
   ],
   "source": [
    "'Don\"t ever hesitate to be uncomfortable'"
   ]
  },
  {
   "cell_type": "code",
   "execution_count": null,
   "id": "f9e59bd4",
   "metadata": {},
   "outputs": [],
   "source": []
  },
  {
   "cell_type": "code",
   "execution_count": 74,
   "id": "4bf4543f",
   "metadata": {},
   "outputs": [
    {
     "data": {
      "text/plain": [
       "'Everything happens for a reason, a really good on'"
      ]
     },
     "execution_count": 74,
     "metadata": {},
     "output_type": "execute_result"
    }
   ],
   "source": [
    "s[0:-1:]"
   ]
  },
  {
   "cell_type": "code",
   "execution_count": 73,
   "id": "b485de5f",
   "metadata": {},
   "outputs": [
    {
     "data": {
      "text/plain": [
       "''"
      ]
     },
     "execution_count": 73,
     "metadata": {},
     "output_type": "execute_result"
    }
   ],
   "source": [
    "s[-1:0:]"
   ]
  },
  {
   "cell_type": "code",
   "execution_count": null,
   "id": "b8676a72",
   "metadata": {},
   "outputs": [],
   "source": []
  },
  {
   "cell_type": "markdown",
   "id": "dfeafc4c",
   "metadata": {},
   "source": [
    "## <span style = \"text-decoration : underline ;\" >Strings are IMMUTABLE</span>"
   ]
  },
  {
   "cell_type": "code",
   "execution_count": 76,
   "id": "3026345e",
   "metadata": {},
   "outputs": [
    {
     "name": "stdout",
     "output_type": "stream",
     "text": [
      "2433284656496\n"
     ]
    }
   ],
   "source": [
    "num = 'Twenty'\n",
    "print(id(num))"
   ]
  },
  {
   "cell_type": "code",
   "execution_count": 77,
   "id": "2b8aa688",
   "metadata": {},
   "outputs": [
    {
     "ename": "TypeError",
     "evalue": "'str' object does not support item assignment",
     "output_type": "error",
     "traceback": [
      "\u001b[1;31m---------------------------------------------------------------------------\u001b[0m",
      "\u001b[1;31mTypeError\u001b[0m                                 Traceback (most recent call last)",
      "\u001b[1;32m~\\AppData\\Local\\Temp\\ipykernel_9424\\3453411999.py\u001b[0m in \u001b[0;36m<module>\u001b[1;34m\u001b[0m\n\u001b[1;32m----> 1\u001b[1;33m \u001b[0mnum\u001b[0m\u001b[1;33m[\u001b[0m\u001b[1;36m0\u001b[0m\u001b[1;33m]\u001b[0m \u001b[1;33m=\u001b[0m \u001b[1;34m'X'\u001b[0m\u001b[1;33m\u001b[0m\u001b[1;33m\u001b[0m\u001b[0m\n\u001b[0m",
      "\u001b[1;31mTypeError\u001b[0m: 'str' object does not support item assignment"
     ]
    }
   ],
   "source": [
    "num[0] = 'X'"
   ]
  },
  {
   "cell_type": "code",
   "execution_count": 8,
   "id": "469225d8",
   "metadata": {},
   "outputs": [
    {
     "name": "stdout",
     "output_type": "stream",
     "text": [
      "2782961705776\n"
     ]
    }
   ],
   "source": [
    "num = 'Forty'\n",
    "print(id(num))"
   ]
  },
  {
   "cell_type": "markdown",
   "id": "8faf9494",
   "metadata": {},
   "source": [
    "### The object 'twenty' is created and the variable 'num' references this object. But when the same variable 'num' is re-assigned with new object 'forty', the variable 'num' is updated to reference this new object created in a different location.\n",
    "\n",
    "### Here, the previous value of the variable did NOT mutate to the new value, but a new value/object was created in a different location and the old value/object gets garbage collected."
   ]
  },
  {
   "cell_type": "code",
   "execution_count": null,
   "id": "d714507f",
   "metadata": {},
   "outputs": [],
   "source": []
  }
 ],
 "metadata": {
  "kernelspec": {
   "display_name": "Python 3 (ipykernel)",
   "language": "python",
   "name": "python3"
  },
  "language_info": {
   "codemirror_mode": {
    "name": "ipython",
    "version": 3
   },
   "file_extension": ".py",
   "mimetype": "text/x-python",
   "name": "python",
   "nbconvert_exporter": "python",
   "pygments_lexer": "ipython3",
   "version": "3.9.13"
  }
 },
 "nbformat": 4,
 "nbformat_minor": 5
}
