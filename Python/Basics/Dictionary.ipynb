{
 "cells": [
  {
   "cell_type": "markdown",
   "id": "5e1b667e",
   "metadata": {},
   "source": [
    "# <span style = \"text-decoration : underline ;\" >Dictionary</span>\n",
    "### A dictionary is a collection of key-value pairs. \n",
    "### The <span style = \"text-decoration : underline ;\" >keys</span> are always unique (otherwise the previous 'value' will be updated) within a dictionary and are the attribute that helps us locate the data in the memory. Keys are immutable.\n",
    "### The <span style = \"text-decoration : underline ;\" >value</span> of the Python dictionary may or may not be unique. The values within a dictionary can be of any data type."
   ]
  },
  {
   "cell_type": "markdown",
   "id": "6e48655b",
   "metadata": {},
   "source": [
    "### <span style = \"text-decoration : underline ;\" >Creating a dictionary in Python</span> - Dictionaries are created using curly braces '{}' and elements are defined as 'key : value' pairs, separated by commas."
   ]
  },
  {
   "cell_type": "code",
   "execution_count": 1,
   "id": "6207296a",
   "metadata": {},
   "outputs": [
    {
     "name": "stdout",
     "output_type": "stream",
     "text": [
      "<class 'dict'>\n"
     ]
    }
   ],
   "source": [
    "# In Python, '{}' denotes an empty dictionary by default\n",
    "\n",
    "d = {}\n",
    "print(type(d))"
   ]
  },
  {
   "cell_type": "code",
   "execution_count": 3,
   "id": "fc31f969",
   "metadata": {},
   "outputs": [
    {
     "name": "stdout",
     "output_type": "stream",
     "text": [
      "{'name': 'Mrs. Norris', 'age': 3, 'species': 'cat'}\n"
     ]
    }
   ],
   "source": [
    "d1 = {\n",
    "    'name' : 'Mrs. Norris',\n",
    "    'age' : 3,\n",
    "    'species' : 'cat'\n",
    "}\n",
    "print(d1)"
   ]
  },
  {
   "cell_type": "code",
   "execution_count": null,
   "id": "406ed7e3",
   "metadata": {},
   "outputs": [],
   "source": []
  },
  {
   "cell_type": "code",
   "execution_count": 9,
   "id": "c6f01f51",
   "metadata": {},
   "outputs": [
    {
     "name": "stdout",
     "output_type": "stream",
     "text": [
      "{'name': 'Sarah', 'email': 'sarah.official@gamil.com', 'age': 23, 'skills': ['Artist', 'Discord Moderation', 'Video editing', 'Animation']}\n"
     ]
    }
   ],
   "source": [
    "d2 = {\n",
    "    'name' : 'Sarah', \n",
    "    'email' : 'sarah.official@gamil.com',\n",
    "    'age' : 23,\n",
    "    'skills' : ['Artist','Discord Moderation', 'Video editing', 'Animation']\n",
    "}\n",
    "print(d2)"
   ]
  },
  {
   "cell_type": "markdown",
   "id": "07b9b17e",
   "metadata": {},
   "source": [
    "### It is possible to retrieve the value associated with a key by using square brackets '[]'"
   ]
  },
  {
   "cell_type": "code",
   "execution_count": 6,
   "id": "60e084fe",
   "metadata": {},
   "outputs": [
    {
     "data": {
      "text/plain": [
       "23"
      ]
     },
     "execution_count": 6,
     "metadata": {},
     "output_type": "execute_result"
    }
   ],
   "source": [
    "d2['age']"
   ]
  },
  {
   "cell_type": "code",
   "execution_count": 7,
   "id": "0bf51402",
   "metadata": {},
   "outputs": [
    {
     "data": {
      "text/plain": [
       "'sarah.official@gamil.com'"
      ]
     },
     "execution_count": 7,
     "metadata": {},
     "output_type": "execute_result"
    }
   ],
   "source": [
    "d2['email']"
   ]
  },
  {
   "cell_type": "code",
   "execution_count": 8,
   "id": "80381578",
   "metadata": {},
   "outputs": [
    {
     "data": {
      "text/plain": [
       "'Sarah'"
      ]
     },
     "execution_count": 8,
     "metadata": {},
     "output_type": "execute_result"
    }
   ],
   "source": [
    "d2['name']"
   ]
  },
  {
   "cell_type": "code",
   "execution_count": null,
   "id": "d1a79094",
   "metadata": {},
   "outputs": [],
   "source": []
  },
  {
   "cell_type": "code",
   "execution_count": 17,
   "id": "ad7e0ab0",
   "metadata": {},
   "outputs": [
    {
     "name": "stdout",
     "output_type": "stream",
     "text": [
      "{'set': {0, 1, 2, 3, 5, 6}, 'tuple': (1, 2, 2.0), 'list': [1, 2.0, 33.0, 99], 'dict': {'A': 65, 'a': 97, '0': 48}}\n"
     ]
    }
   ],
   "source": [
    "d3 = {\n",
    "    \n",
    "    'set' : {1, 2, 2, 4}, \n",
    "    'tuple' : (1, 2, 2.0), \n",
    "    'list' : [1, 2.0, 33.0, 99],\n",
    "    'set' : {2, 3, 5, 6, 1, 3, 5, 0},\n",
    "    \n",
    "    'dict' : {\n",
    "        'A' : 65,\n",
    "        'a' : 97,\n",
    "        '0' : 48\n",
    "    }\n",
    "}\n",
    "print(d3) # 2 same 'key' updates the previous entry for the same key with the new value"
   ]
  },
  {
   "cell_type": "code",
   "execution_count": 18,
   "id": "53f69fd6",
   "metadata": {},
   "outputs": [
    {
     "data": {
      "text/plain": [
       "{0, 1, 2, 3, 5, 6}"
      ]
     },
     "execution_count": 18,
     "metadata": {},
     "output_type": "execute_result"
    }
   ],
   "source": [
    "d3['set']"
   ]
  },
  {
   "cell_type": "code",
   "execution_count": 19,
   "id": "d7445498",
   "metadata": {},
   "outputs": [
    {
     "data": {
      "text/plain": [
       "[1, 2.0, 33.0, 99]"
      ]
     },
     "execution_count": 19,
     "metadata": {},
     "output_type": "execute_result"
    }
   ],
   "source": [
    "d3['list']"
   ]
  },
  {
   "cell_type": "code",
   "execution_count": 20,
   "id": "4c125ef0",
   "metadata": {},
   "outputs": [
    {
     "data": {
      "text/plain": [
       "99"
      ]
     },
     "execution_count": 20,
     "metadata": {},
     "output_type": "execute_result"
    }
   ],
   "source": [
    "d3['list'][-1] # Accessing elements of the list using indices"
   ]
  },
  {
   "cell_type": "code",
   "execution_count": 23,
   "id": "fc370744",
   "metadata": {},
   "outputs": [
    {
     "data": {
      "text/plain": [
       "[99, 33.0, 2.0, 1]"
      ]
     },
     "execution_count": 23,
     "metadata": {},
     "output_type": "execute_result"
    }
   ],
   "source": [
    "d3['list'][::-1]"
   ]
  },
  {
   "cell_type": "code",
   "execution_count": 21,
   "id": "0f871cdc",
   "metadata": {},
   "outputs": [
    {
     "data": {
      "text/plain": [
       "{'A': 65, 'a': 97, '0': 48}"
      ]
     },
     "execution_count": 21,
     "metadata": {},
     "output_type": "execute_result"
    }
   ],
   "source": [
    "d3['dict']"
   ]
  },
  {
   "cell_type": "code",
   "execution_count": 22,
   "id": "e1a46312",
   "metadata": {},
   "outputs": [
    {
     "data": {
      "text/plain": [
       "65"
      ]
     },
     "execution_count": 22,
     "metadata": {},
     "output_type": "execute_result"
    }
   ],
   "source": [
    "d3['dict']['A']"
   ]
  },
  {
   "cell_type": "code",
   "execution_count": null,
   "id": "ac4e1d2d",
   "metadata": {},
   "outputs": [],
   "source": []
  },
  {
   "cell_type": "markdown",
   "id": "d3698760",
   "metadata": {},
   "source": [
    "### <span style = \"text-decoration : underline ;\" >Adding and Modifying entries</span> "
   ]
  },
  {
   "cell_type": "code",
   "execution_count": 36,
   "id": "f004903a",
   "metadata": {},
   "outputs": [
    {
     "name": "stdout",
     "output_type": "stream",
     "text": [
      "{'name': 'Aakash', 'college': 'AMC', 'course': 'AI-ML'}\n"
     ]
    }
   ],
   "source": [
    "d4 = {\n",
    "    'name' : 'Aakash',\n",
    "    'college' : 'AMC',\n",
    "    'course' : 'AI-ML'\n",
    "}\n",
    "print(d4)"
   ]
  },
  {
   "cell_type": "code",
   "execution_count": 37,
   "id": "9d3c0538",
   "metadata": {},
   "outputs": [
    {
     "name": "stdout",
     "output_type": "stream",
     "text": [
      "{'name': 'Aakash', 'college': 'AMC', 'course': 'AI-ML', 'age': 20}\n"
     ]
    }
   ],
   "source": [
    "# To add a new key-value pair, simply assign a value to a new key 'my_dict['new_key'] = 'new_value''\n",
    "\n",
    "d4['age'] = 20\n",
    "print(d4)"
   ]
  },
  {
   "cell_type": "code",
   "execution_count": 38,
   "id": "dbd9494c",
   "metadata": {},
   "outputs": [
    {
     "name": "stdout",
     "output_type": "stream",
     "text": [
      "{'name': 'Aakash', 'college': 'AMC', 'course': 'EEE', 'age': 20}\n"
     ]
    }
   ],
   "source": [
    "# To modify an existing value, assign a new value to an existing key 'my_dict['key'] = 'updated_value''\n",
    "\n",
    "d4['course'] = 'EEE'\n",
    "print(d4)"
   ]
  },
  {
   "cell_type": "code",
   "execution_count": null,
   "id": "9a5fd992",
   "metadata": {},
   "outputs": [],
   "source": []
  },
  {
   "cell_type": "markdown",
   "id": "d46b9340",
   "metadata": {},
   "source": [
    "### <span style = \"text-decoration : underline ;\" >Removing entries</span> - a 'key-value' pair can be deleted using the 'del' keyword, or the 'pop' function."
   ]
  },
  {
   "cell_type": "code",
   "execution_count": 39,
   "id": "c48f4eda",
   "metadata": {},
   "outputs": [
    {
     "name": "stdout",
     "output_type": "stream",
     "text": [
      "{'name': 'Aakash', 'course': 'EEE', 'age': 20}\n"
     ]
    }
   ],
   "source": [
    "del d4['college']\n",
    "print(d4)"
   ]
  },
  {
   "cell_type": "markdown",
   "id": "d53cfd25",
   "metadata": {},
   "source": [
    "### <span style = \"text-decoration : underline ;\" >'my_dict.pop(key[, default])'</span> - The optional 'default' parameter specifies a return value if the key is not found. If default value is not provided, 'KeyError' will be raised."
   ]
  },
  {
   "cell_type": "code",
   "execution_count": 40,
   "id": "e3517be5",
   "metadata": {},
   "outputs": [
    {
     "name": "stdout",
     "output_type": "stream",
     "text": [
      "{'name': 'Aakash', 'course': 'EEE'}\n"
     ]
    }
   ],
   "source": [
    "d4.pop('age')\n",
    "print(d4)"
   ]
  },
  {
   "cell_type": "code",
   "execution_count": 41,
   "id": "997f0a07",
   "metadata": {},
   "outputs": [
    {
     "ename": "KeyError",
     "evalue": "'hobbies'",
     "output_type": "error",
     "traceback": [
      "\u001b[1;31m---------------------------------------------------------------------------\u001b[0m",
      "\u001b[1;31mKeyError\u001b[0m                                  Traceback (most recent call last)",
      "\u001b[1;32m~\\AppData\\Local\\Temp\\ipykernel_22328\\1887532351.py\u001b[0m in \u001b[0;36m<module>\u001b[1;34m\u001b[0m\n\u001b[1;32m----> 1\u001b[1;33m \u001b[0md4\u001b[0m\u001b[1;33m.\u001b[0m\u001b[0mpop\u001b[0m\u001b[1;33m(\u001b[0m\u001b[1;34m'hobbies'\u001b[0m\u001b[1;33m)\u001b[0m\u001b[1;33m\u001b[0m\u001b[1;33m\u001b[0m\u001b[0m\n\u001b[0m",
      "\u001b[1;31mKeyError\u001b[0m: 'hobbies'"
     ]
    }
   ],
   "source": [
    "d4.pop('hobbies')"
   ]
  },
  {
   "cell_type": "code",
   "execution_count": 42,
   "id": "cd507507",
   "metadata": {},
   "outputs": [
    {
     "data": {
      "text/plain": [
       "-1"
      ]
     },
     "execution_count": 42,
     "metadata": {},
     "output_type": "execute_result"
    }
   ],
   "source": [
    "d4.pop('hobbies', -1)"
   ]
  },
  {
   "cell_type": "code",
   "execution_count": 43,
   "id": "b03f7322",
   "metadata": {},
   "outputs": [
    {
     "name": "stdout",
     "output_type": "stream",
     "text": [
      "{}\n"
     ]
    }
   ],
   "source": [
    "# 'my_dict.clear()' method is used to remove all items (key - value pairs) from a dictionary, resulting in an empty dictionary\n",
    "\n",
    "d4.clear()\n",
    "print(d4)"
   ]
  },
  {
   "cell_type": "code",
   "execution_count": null,
   "id": "ae884eb5",
   "metadata": {},
   "outputs": [],
   "source": []
  },
  {
   "cell_type": "markdown",
   "id": "0b302b8f",
   "metadata": {},
   "source": [
    "## <span style = \"text-decoration : underline ;\" >Dictionary Methods</span>"
   ]
  },
  {
   "cell_type": "code",
   "execution_count": 44,
   "id": "c288a290",
   "metadata": {},
   "outputs": [
    {
     "data": {
      "text/plain": [
       "dict_values(['Sarah', 'sarah.official@gamil.com', 23, ['Artist', 'Discord Moderation', 'Video editing', 'Animation']])"
      ]
     },
     "execution_count": 44,
     "metadata": {},
     "output_type": "execute_result"
    }
   ],
   "source": [
    "# 'my_dict.values()' returns a view of all the values in a dictionary\n",
    "\n",
    "d2.values()"
   ]
  },
  {
   "cell_type": "code",
   "execution_count": 45,
   "id": "0d6e0960",
   "metadata": {},
   "outputs": [
    {
     "data": {
      "text/plain": [
       "dict_keys(['name', 'email', 'age', 'skills'])"
      ]
     },
     "execution_count": 45,
     "metadata": {},
     "output_type": "execute_result"
    }
   ],
   "source": [
    "# 'my_dict.keys()' returns a view of all the keys in a dictionary\n",
    "\n",
    "d2.keys()"
   ]
  },
  {
   "cell_type": "code",
   "execution_count": 46,
   "id": "08e06fcd",
   "metadata": {},
   "outputs": [
    {
     "name": "stdout",
     "output_type": "stream",
     "text": [
      "dict_items([('name', 'Sarah'), ('email', 'sarah.official@gamil.com'), ('age', 23), ('skills', ['Artist', 'Discord Moderation', 'Video editing', 'Animation'])])\n"
     ]
    }
   ],
   "source": [
    "# 'my_dict.items()' returns a view of all the key-value pairs (tuples) in a dictionary\n",
    "\n",
    "print(d2.items())"
   ]
  },
  {
   "cell_type": "markdown",
   "id": "3e41f61b",
   "metadata": {},
   "source": [
    "### NOTE : View objects in Python provide a dynamic view on a sequence or mapping. They allow you to observe the state of a sequence or mapping without creating a new data structure"
   ]
  },
  {
   "cell_type": "code",
   "execution_count": 47,
   "id": "92918e40",
   "metadata": {},
   "outputs": [
    {
     "name": "stdout",
     "output_type": "stream",
     "text": [
      "[('name', 'Sarah'), ('email', 'sarah.official@gamil.com'), ('age', 23), ('skills', ['Artist', 'Discord Moderation', 'Video editing', 'Animation'])]\n"
     ]
    }
   ],
   "source": [
    "d2_items_list = list(d2.items())\n",
    "print(d2_items_list)"
   ]
  },
  {
   "cell_type": "code",
   "execution_count": null,
   "id": "d4bf9514",
   "metadata": {},
   "outputs": [],
   "source": []
  },
  {
   "cell_type": "markdown",
   "id": "d06473e4",
   "metadata": {},
   "source": [
    "### <span style = \"text-decoration : underline ;\" >'my_dict.get(key[, default])'</span> - The optional 'default' parameter specifies a return value if the key is not found. If default value is not provided, 'None' will be returned."
   ]
  },
  {
   "cell_type": "code",
   "execution_count": 48,
   "id": "2b688513",
   "metadata": {},
   "outputs": [
    {
     "data": {
      "text/plain": [
       "5"
      ]
     },
     "execution_count": 48,
     "metadata": {},
     "output_type": "execute_result"
    }
   ],
   "source": [
    "my_dict = {\n",
    "    'apple' : 3,\n",
    "    'coconut' : 4,\n",
    "    'mango' : 5\n",
    "}\n",
    "\n",
    "my_dict.get('mango')"
   ]
  },
  {
   "cell_type": "code",
   "execution_count": null,
   "id": "81b78669",
   "metadata": {},
   "outputs": [],
   "source": []
  },
  {
   "cell_type": "code",
   "execution_count": 51,
   "id": "01ea5b28",
   "metadata": {},
   "outputs": [
    {
     "name": "stdout",
     "output_type": "stream",
     "text": [
      "{'apple': 3, 'coconut': 4, 'mango': 5, 'name': 'Sarah', 'email': 'sarah.official@gamil.com', 'age': 23, 'skills': ['Artist', 'Discord Moderation', 'Video editing', 'Animation']}\n"
     ]
    }
   ],
   "source": [
    "# 'my_dict.update(iterable)' is used to update a dictionary with elements from other dictionary\n",
    "\n",
    "my_dict.update(d2)\n",
    "print(my_dict)"
   ]
  },
  {
   "cell_type": "code",
   "execution_count": null,
   "id": "939c9177",
   "metadata": {},
   "outputs": [],
   "source": []
  },
  {
   "cell_type": "markdown",
   "id": "55bf5341",
   "metadata": {},
   "source": [
    "## <span style = \"text-decoration : underline ;\" >Dictionary Comprehensions</span>\n",
    "\n",
    "### Dictionary comprehensions in Python enables us to create dictionaries in a concise and efficient way using a single line of code.\n",
    "\n",
    "### \"my_dict = {key_expression : value_expression for item in iterable}\"\n",
    "\n",
    "### 'key_expression' is an expression that defines the keys for the new dictionary.\n",
    "### 'value_expression' is an expression that defines the values for the new dictionary.\n",
    "### 'item' represents each item in the iterable, that you're iterating over"
   ]
  },
  {
   "cell_type": "code",
   "execution_count": 52,
   "id": "d035d19d",
   "metadata": {},
   "outputs": [
    {
     "name": "stdout",
     "output_type": "stream",
     "text": [
      "{0: 0, 1: 1, 2: 4, 3: 9, 4: 16, 5: 25}\n"
     ]
    }
   ],
   "source": [
    "d5 = {x: x*x for x in range(6)} # x represents key expression, while x * x represents value expression\n",
    "print(d5)"
   ]
  },
  {
   "cell_type": "code",
   "execution_count": 54,
   "id": "b0bb7dd7",
   "metadata": {},
   "outputs": [
    {
     "name": "stdout",
     "output_type": "stream",
     "text": [
      "{0: 0, 1: 1, 2: 4, 3: 9, 4: 16, 5: 25}\n"
     ]
    }
   ],
   "source": [
    "# Achieving same via for loop\n",
    "\n",
    "d5 = {}\n",
    "\n",
    "for x in range(6):\n",
    "    d5[x] = x*x # each time new 'key-value' pair is added\n",
    "\n",
    "print(d5)"
   ]
  },
  {
   "cell_type": "code",
   "execution_count": null,
   "id": "634e6052",
   "metadata": {},
   "outputs": [],
   "source": []
  },
  {
   "cell_type": "markdown",
   "id": "3d1ccda6",
   "metadata": {},
   "source": [
    "## <span style = \"text-decoration : underline ;\" >Iterating through a dictionary</span>"
   ]
  },
  {
   "cell_type": "code",
   "execution_count": 58,
   "id": "e23bbcff",
   "metadata": {},
   "outputs": [
    {
     "name": "stdout",
     "output_type": "stream",
     "text": [
      "0\n",
      "1\n",
      "2\n",
      "3\n",
      "4\n",
      "5\n"
     ]
    }
   ],
   "source": [
    "# When iterating over a dictionary using for loop WITHOUT specifying a method like 'keys()', it iterates over the keys by default\n",
    "\n",
    "for item in d5 :\n",
    "    print(item)"
   ]
  },
  {
   "cell_type": "code",
   "execution_count": 59,
   "id": "36f24042",
   "metadata": {},
   "outputs": [
    {
     "name": "stdout",
     "output_type": "stream",
     "text": [
      "0\n",
      "1\n",
      "4\n",
      "9\n",
      "16\n",
      "25\n"
     ]
    }
   ],
   "source": [
    "# When iterating over a dictionary using for loop WITHOUT specifying a method like 'keys()', it iterates over the keys by default\n",
    "\n",
    "for item in d5 :\n",
    "    print(d5[item]) # item will be iterating over the keys, and keys can be used to access values of the dictionary"
   ]
  },
  {
   "cell_type": "code",
   "execution_count": 55,
   "id": "36e1d4ac",
   "metadata": {},
   "outputs": [
    {
     "name": "stdout",
     "output_type": "stream",
     "text": [
      "0\n",
      "1\n",
      "2\n",
      "3\n",
      "4\n",
      "5\n"
     ]
    }
   ],
   "source": [
    "# Using keys() method\n",
    "\n",
    "for key in d5.keys() :\n",
    "    print(key)"
   ]
  },
  {
   "cell_type": "code",
   "execution_count": 56,
   "id": "ba32bbba",
   "metadata": {},
   "outputs": [
    {
     "name": "stdout",
     "output_type": "stream",
     "text": [
      "0\n",
      "1\n",
      "4\n",
      "9\n",
      "16\n",
      "25\n"
     ]
    }
   ],
   "source": [
    "# Using values() method\n",
    "\n",
    "for value in d5.values() :\n",
    "    print(value)"
   ]
  },
  {
   "cell_type": "code",
   "execution_count": 57,
   "id": "255647ef",
   "metadata": {},
   "outputs": [
    {
     "name": "stdout",
     "output_type": "stream",
     "text": [
      "(0, 0)\n",
      "(1, 1)\n",
      "(2, 4)\n",
      "(3, 9)\n",
      "(4, 16)\n",
      "(5, 25)\n"
     ]
    }
   ],
   "source": [
    "# Using items() method\n",
    "\n",
    "for item in d5.items() :\n",
    "    print(item)"
   ]
  },
  {
   "cell_type": "code",
   "execution_count": null,
   "id": "c9ac6dd9",
   "metadata": {},
   "outputs": [],
   "source": []
  }
 ],
 "metadata": {
  "kernelspec": {
   "display_name": "Python 3 (ipykernel)",
   "language": "python",
   "name": "python3"
  },
  "language_info": {
   "codemirror_mode": {
    "name": "ipython",
    "version": 3
   },
   "file_extension": ".py",
   "mimetype": "text/x-python",
   "name": "python",
   "nbconvert_exporter": "python",
   "pygments_lexer": "ipython3",
   "version": "3.9.13"
  }
 },
 "nbformat": 4,
 "nbformat_minor": 5
}
