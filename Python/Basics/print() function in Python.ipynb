{
 "cells": [
  {
   "cell_type": "markdown",
   "id": "24069996",
   "metadata": {},
   "source": [
    "# <span style = \"text-decoration : underline ;\" >Several ways to print output to the console</span>"
   ]
  },
  {
   "cell_type": "code",
   "execution_count": null,
   "id": "3442e531",
   "metadata": {},
   "outputs": [],
   "source": []
  },
  {
   "cell_type": "markdown",
   "id": "612c1f39",
   "metadata": {},
   "source": [
    "### <span style = \"text-decoration : underline ;\" >The print() function</span> takes a string or variable as an argument and displays it in the console"
   ]
  },
  {
   "cell_type": "code",
   "execution_count": 2,
   "id": "4103a5f6",
   "metadata": {},
   "outputs": [
    {
     "name": "stdout",
     "output_type": "stream",
     "text": [
      "\n",
      "\n"
     ]
    }
   ],
   "source": [
    "\"\"\" print(object(s), sep=' ', end='\\n', file = file, flush = false)\n",
    "In the code below parentheses at the event tells the interpreter to execute the function\n",
    "The result is an invisible newline character \"\"\"\n",
    "\n",
    "print()\n",
    "print()"
   ]
  },
  {
   "cell_type": "code",
   "execution_count": 5,
   "id": "6ae1479e",
   "metadata": {},
   "outputs": [
    {
     "name": "stdout",
     "output_type": "stream",
     "text": [
      "Hello World\n"
     ]
    }
   ],
   "source": [
    "print('Hello World')"
   ]
  },
  {
   "cell_type": "code",
   "execution_count": 6,
   "id": "fcce324c",
   "metadata": {},
   "outputs": [
    {
     "name": "stdout",
     "output_type": "stream",
     "text": [
      "1 2 3\n"
     ]
    }
   ],
   "source": [
    "print(1, 2, 3) #different objects separated using comma (,) and by default sep = ' ' in python"
   ]
  },
  {
   "cell_type": "code",
   "execution_count": 7,
   "id": "077962e9",
   "metadata": {},
   "outputs": [
    {
     "name": "stdout",
     "output_type": "stream",
     "text": [
      "13\n",
      "3\n"
     ]
    }
   ],
   "source": [
    "print(8 + 5)\n",
    "print(8 - 5)"
   ]
  },
  {
   "cell_type": "markdown",
   "id": "b9e7b5fe",
   "metadata": {},
   "source": [
    "### <span style = \"text-decoration : underline ;\" >Using formatted strings (f-strings)</span>"
   ]
  },
  {
   "cell_type": "code",
   "execution_count": 4,
   "id": "df33861b",
   "metadata": {},
   "outputs": [
    {
     "name": "stdout",
     "output_type": "stream",
     "text": [
      "My name is Neilius, and i live in Scotland\n"
     ]
    }
   ],
   "source": [
    "\"\"\" F-strings or Literal String Interpolation or formatted string literals -\n",
    "1. These are string literals that have an f at the beginning &\n",
    "2. curly braces containing expressions that will be replaced with their values \"\"\"\n",
    "\n",
    "name = 'Neilius'\n",
    "place = 'Scotland'\n",
    "\n",
    "print(f'My name is {name}, and i live in {place}')"
   ]
  },
  {
   "cell_type": "code",
   "execution_count": null,
   "id": "45e247b4",
   "metadata": {},
   "outputs": [],
   "source": []
  },
  {
   "cell_type": "markdown",
   "id": "459f4bcb",
   "metadata": {},
   "source": [
    "### <span style = \"text-decoration : underline ;\" >The format() Method</span>"
   ]
  },
  {
   "cell_type": "code",
   "execution_count": 5,
   "id": "5f1c1d4a",
   "metadata": {},
   "outputs": [
    {
     "name": "stdout",
     "output_type": "stream",
     "text": [
      "My name is Chloe, and i live in Hawkins\n",
      "My name is Chloe, and i live in Hawkins\n",
      "My name is Chloe, and i live in Hawkins\n"
     ]
    }
   ],
   "source": [
    "\"\"\" The format() method formats the specified value(s) and insert them inside the string's placeholder.\n",
    "The Placeholder is defined using curly braces{}, & identified using named indexes or numbered indexes or even empty placeholders\n",
    "\"\"\"\n",
    "# string.format(value1, value2,...)\n",
    "\n",
    "name = 'Chloe'\n",
    "place = 'Hawkins'\n",
    "\n",
    "# different ways to use the placeholders with the format() method\n",
    "print('My name is {}, and i live in {}'.format(name, place))\n",
    "print('My name is {0}, and i live in {1}'.format(name, place)) # In python indexing starts from 0\n",
    "print('My name is {zero}, and i live in {one}'.format(zero=name, one=place)) "
   ]
  },
  {
   "cell_type": "code",
   "execution_count": null,
   "id": "860155f6",
   "metadata": {},
   "outputs": [],
   "source": []
  },
  {
   "cell_type": "markdown",
   "id": "09838301",
   "metadata": {},
   "source": [
    "### <span style = \"text-decoration : underline ;\" >String Concatenation Method</span>"
   ]
  },
  {
   "cell_type": "code",
   "execution_count": 9,
   "id": "582eff88",
   "metadata": {},
   "outputs": [
    {
     "name": "stdout",
     "output_type": "stream",
     "text": [
      "Pablo completed his grade 10 in SVM\n"
     ]
    }
   ],
   "source": [
    "name = 'Pablo'\n",
    "grade = 10\n",
    "school = 'SVM'\n",
    "\n",
    "print(name + \" completed his grade \" + str(grade) + \" in \" + school) "
   ]
  },
  {
   "cell_type": "code",
   "execution_count": null,
   "id": "89925d1d",
   "metadata": {},
   "outputs": [],
   "source": []
  },
  {
   "cell_type": "markdown",
   "id": "a4034952",
   "metadata": {},
   "source": [
    "### <span style = \"text-decoration : underline ;\" >Using % operator</span>\n",
    "\n",
    "### '%f' for floating-point numbers, '%d' for integers, '%s' for strings"
   ]
  },
  {
   "cell_type": "code",
   "execution_count": 13,
   "id": "4d9b5ed7",
   "metadata": {},
   "outputs": [],
   "source": [
    "hesaru = 'Manu'\n",
    "taragathi = '1st year engineering'\n",
    "vibhaga = 'B'"
   ]
  },
  {
   "cell_type": "code",
   "execution_count": 14,
   "id": "b5f74971",
   "metadata": {},
   "outputs": [
    {
     "name": "stdout",
     "output_type": "stream",
     "text": [
      "Hello, Manu!\n"
     ]
    }
   ],
   "source": [
    "print('Hello, %s!'%hesaru)"
   ]
  },
  {
   "cell_type": "code",
   "execution_count": 15,
   "id": "6dcfcca0",
   "metadata": {},
   "outputs": [
    {
     "name": "stdout",
     "output_type": "stream",
     "text": [
      "Hello people, i am Manu, a student from 1st year engineering, B section!\n"
     ]
    }
   ],
   "source": [
    "print('Hello people, i am %s, a student from %s, %s section!' %(hesaru, taragathi, vibhaga))"
   ]
  },
  {
   "cell_type": "code",
   "execution_count": null,
   "id": "59bf89c6",
   "metadata": {},
   "outputs": [],
   "source": []
  }
 ],
 "metadata": {
  "kernelspec": {
   "display_name": "Python 3 (ipykernel)",
   "language": "python",
   "name": "python3"
  },
  "language_info": {
   "codemirror_mode": {
    "name": "ipython",
    "version": 3
   },
   "file_extension": ".py",
   "mimetype": "text/x-python",
   "name": "python",
   "nbconvert_exporter": "python",
   "pygments_lexer": "ipython3",
   "version": "3.9.13"
  }
 },
 "nbformat": 4,
 "nbformat_minor": 5
}
