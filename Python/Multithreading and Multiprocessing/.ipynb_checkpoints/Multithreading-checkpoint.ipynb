{
 "cells": [
  {
   "cell_type": "markdown",
   "id": "8600f0fa",
   "metadata": {},
   "source": [
    "## <span style = \"text-decoration : underline ;\" >What is a process ?</span>\n",
    "### In computing, a process is an independent, self contained unit of execution that represents a single task or program being carried out by a computer. In otherwords, it is an independent instance of a running program. It has it's own memory space, resources, and executes a set of instructions, managed by the operating system, preventing unintended interference between processes.\n",
    "\n",
    "### Processes can be created by the OS when a program is launched. Processes can spawn child processes, creating a hierarchical structure.\n",
    "\n",
    "## <span style = \"text-decoration : underline ;\" >Threads</span>\n",
    "### A thread is a smaller unit within a process. Multiple threads can exist within a single process. Threads within the same process share the same memory space. They can access and modify shared data.\n",
    "\n",
    "## <span style = \"text-decoration : underline ;\" >Multithreading</span>\n",
    "### Multithreading in Python refers to the concurrent execution of multiple threads within a single process."
   ]
  },
  {
   "cell_type": "markdown",
   "id": "de7b8186",
   "metadata": {},
   "source": [
    "### 1. Subclassing 'Thread' class: A thread can be created by subclassing the 'Thread' class and overriding the 'run()' method. The 'run()' method contains the code that will be executed when the thread is started."
   ]
  },
  {
   "cell_type": "code",
   "execution_count": 5,
   "id": "afc88ff3",
   "metadata": {},
   "outputs": [
    {
     "name": "stdout",
     "output_type": "stream",
     "text": [
      "Thread is running!\n"
     ]
    }
   ],
   "source": [
    "import threading\n",
    "\n",
    "class MyThread(threading.Thread) :\n",
    "    def run(self) :\n",
    "        # code to be executed in the thread\n",
    "        print(\"Thread is running!\")\n",
    "        \n",
    "my_thread = MyThread()\n",
    "my_thread.start()\n",
    "\n",
    "# my_thread.join\n",
    "# print(\"Main program continues\")"
   ]
  },
  {
   "cell_type": "markdown",
   "id": "bbfed896",
   "metadata": {},
   "source": [
    "### When you create an instance of the custom thread class, it inherits the 'start()' and 'run()' methods from the 'Thread' class. The 'start()' method initiates the execution of the thread. When 'start()' is called, it internally calls the overridden 'run()' method.\n",
    "### The optional 'join()' method is used to wait for the thread to complete it's execution. When you call 'join()' on a thread, the program will pause and wait for that specific thread to finish before continuing with the rest of the code. In the above case, only after the thread finishes its execution will the main program print \"Main program continues\"."
   ]
  },
  {
   "cell_type": "markdown",
   "id": "93bbfcde",
   "metadata": {},
   "source": [
    "### 2. Passing a Target function - Alternatively a thread can be created by passing a target function to the 'Thread' constructor. "
   ]
  },
  {
   "cell_type": "code",
   "execution_count": 6,
   "id": "9ff9fd44",
   "metadata": {},
   "outputs": [
    {
     "name": "stdout",
     "output_type": "stream",
     "text": [
      "Thread is running!\n"
     ]
    }
   ],
   "source": [
    "import threading\n",
    "def my_function() :\n",
    "    # Code to be executed in the thread\n",
    "    print(\"Thread is running!\")\n",
    "    \n",
    "my_thread = threading.Thread(target = my_function)\n",
    "my_thread.start()"
   ]
  },
  {
   "cell_type": "code",
   "execution_count": 7,
   "id": "10a9ad9b",
   "metadata": {},
   "outputs": [],
   "source": [
    "# Name can be assigned to a thread for easier identification\n",
    "my_thread = threading.Thread(target = my_function, name = \"MyThread\")"
   ]
  },
  {
   "cell_type": "code",
   "execution_count": null,
   "id": "cdb68322",
   "metadata": {},
   "outputs": [],
   "source": [
    "# If target function takes arguments, they can be passed uaing the 'args' parameter\n",
    "\n",
    "def "
   ]
  }
 ],
 "metadata": {
  "kernelspec": {
   "display_name": "Python 3 (ipykernel)",
   "language": "python",
   "name": "python3"
  },
  "language_info": {
   "codemirror_mode": {
    "name": "ipython",
    "version": 3
   },
   "file_extension": ".py",
   "mimetype": "text/x-python",
   "name": "python",
   "nbconvert_exporter": "python",
   "pygments_lexer": "ipython3",
   "version": "3.9.13"
  }
 },
 "nbformat": 4,
 "nbformat_minor": 5
}
