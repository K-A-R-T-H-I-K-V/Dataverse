{
 "cells": [
  {
   "cell_type": "markdown",
   "id": "f21c1699",
   "metadata": {},
   "source": [
    "## <span style = \"text-decoration : underline ;\" >File Handling</span>"
   ]
  },
  {
   "cell_type": "markdown",
   "id": "d1998f4c",
   "metadata": {},
   "source": [
    "### File handling in computer science means working with files stored on the system. This includes creating, deleting, opening or closing files and writing, reading or modifying data stored in those files."
   ]
  },
  {
   "cell_type": "code",
   "execution_count": 1,
   "id": "476822cc",
   "metadata": {},
   "outputs": [],
   "source": [
    "# open(filename, mode)"
   ]
  },
  {
   "cell_type": "markdown",
   "id": "f96e684f",
   "metadata": {},
   "source": [
    "### The '<span style = \"text-decoration : underline ;\" >open()</span>' function is used to open files. It takes a file path and a mode as arguments and returns a file object. When you use the 'open()' function in Python to open a file, it establishes a connection or link between your Python program and the actual file on your computer's storage. This connection is represented by the file object."
   ]
  },
  {
   "cell_type": "code",
   "execution_count": 1,
   "id": "fc9693c8",
   "metadata": {},
   "outputs": [],
   "source": [
    "file_obj = open('sad.txt')"
   ]
  },
  {
   "cell_type": "code",
   "execution_count": 8,
   "id": "f0408d27",
   "metadata": {},
   "outputs": [],
   "source": [
    "file_obj.close()"
   ]
  },
  {
   "cell_type": "markdown",
   "id": "79ef3dce",
   "metadata": {},
   "source": [
    "### The '<span style = \"text-decoration : underline ;\" >close()</span>' function function doesn't take any argument, and you can directly call the close() function using the file object.\n",
    "### It is important to close the file connection after you're done using it. Because open file connections consume system resources, and not closing them can lead to issues like memory leaks."
   ]
  },
  {
   "cell_type": "code",
   "execution_count": null,
   "id": "63782cfd",
   "metadata": {},
   "outputs": [],
   "source": []
  },
  {
   "cell_type": "markdown",
   "id": "7d962b9e",
   "metadata": {},
   "source": [
    "### 1. 'r' Opens a file in read-only mode. The pointer of the file is at the beginning of the file. This is also the default mode.\n",
    "### 2.\t'rb' - rb stands for 'read binary' . It means that the file is read and written as a sequence of bytes. This mode is used for non-text files like images, audio, videos..\n",
    "### 3.\t'r+'\tOpens the file for reading and writing. The pointer is at the beginning of the file.\n",
    "### 4.\t'rb+' Opens file in binary mode, the file is treated as a sequence of raw bytes. Allows to read or write binary data directly. Here, we are working with the underlying binary representation of the data.\n",
    "### 5.\t'w' Opens the file for writing. Overwrites the existing file by truncating the existing contents of the file, and if the file is not present, then creates a new one.\n",
    "### 6.\t'wb' Opens the file in binary format for writing. Allows you to write binary data to a file.\n",
    "### 7.\t'w+' Opens the file for both reading and writing.\n",
    "### 8.\t'wb+' Opens the file in both reading and writing modes, specifically for binary data.\n",
    "### 9.\t'a' Opens the file for appending. If the file is present, then the pointer is at the end of the file, else it creates a new file for writing.\n",
    "### 10.\t'ab' Opens the file in append binary format. It allows you to append binary data to the end of an existing binary file, or creates a new binary file if it doesn't exist.\n",
    "### 11.\t'a+' Opens the file for appending and reading. The file pointer is at the end of the file if the file exists, else it creates a new file for reading and writing.\n",
    "### 12.\t'ab+' Opens a file in both appending and reading modes, specifically for binary data. If the file does not exists, it will create a new file."
   ]
  },
  {
   "cell_type": "code",
   "execution_count": null,
   "id": "c910ffe6",
   "metadata": {},
   "outputs": [],
   "source": []
  },
  {
   "cell_type": "markdown",
   "id": "25d9c7fc",
   "metadata": {},
   "source": [
    "## '<span style = \"text-decoration : underline ;\" >Context Managers in Python..</span>'\n",
    "### Context Managers in Python provide a way to manage resources, such as files or network connections, by automatically setting up and cleaning up the resources as needed. A context manager is any object that defines two special methods : '__enter__()' and 'exit()' \n",
    "\n",
    "### 1.' __enter__()' method - This method is executed when a context is entered (i.e., the point in the code where the 'with' statement itself is encountered). It typically sets up the resources or environment needed for the block of code inside the with statement. The value returned from this method (if any) is bound to the target variable in the 'with' statement.\n",
    "\n",
    "### 2.' __exit__()' method - This method is executed when the context is exited (i.e., when the with block ends). It is responsible for cleaning up resources or handling exceptions. It takes three arguments: exc_type, exc_value, and traceback, which hold information about any exception that may have occurred in the with block. These arguments are provided by the Python interpreter and not by the developer using the context manager. 1. 'esc_type' receives the type of exception the was raised within the 'with' block. If no exception occured, it will be 'None'. 2. 'esc_value' receives the actual exception object that was raised within the 'with' block. If no exception occured, it will be 'None'. 3. 'traceback' receives a traceback object associated with the exception raised within the 'with' block. If no exception occured, it will be 'None'.\n",
    "### If an exception occurred, the __exit__() method can choose to handle it and return True to indicate that it has been handled. If it returns False or raises an exception, the exception will propagate.\n",
    "\n",
    "### NOTE : 'Context' typically refers to the environment established by the context manager. This environment allows you to work with a specific resource. The act of opening a file, for instance creates a context. Within this context you can perform operations like reading or writing."
   ]
  },
  {
   "cell_type": "code",
   "execution_count": 3,
   "id": "a5de17a8",
   "metadata": {},
   "outputs": [],
   "source": [
    "class CustomFileContextManager:\n",
    "    def __init__(self, filename, mode):\n",
    "        self.filename = filename\n",
    "        self.mode = mode\n",
    "\n",
    "    def __enter__(self):\n",
    "        self.file = open(self.filename, self.mode)\n",
    "        return self.file\n",
    "\n",
    "    def __exit__(self, exc_type, exc_value, traceback):\n",
    "        self.file.close()"
   ]
  },
  {
   "cell_type": "code",
   "execution_count": 4,
   "id": "b3217c5f",
   "metadata": {},
   "outputs": [],
   "source": [
    "with CustomFileContextManager('example.txt', 'w') as file:\n",
    "    file.write('Hello, world!')"
   ]
  },
  {
   "cell_type": "markdown",
   "id": "d5b5817b",
   "metadata": {},
   "source": [
    "### In this example, CustomFileContextManager() creates an instance of the class. Python then calls the __enter__() method of the created instance, which sets up the context and returns a resource. The resource is assigned to the variable 'file'. After 'with' block is exited, Python calls the '__exit__()' method of the instance for any necessary cleanup.\n",
    "\n",
    "### NOTE : When an instance of CustomFileContextManager is created, it isn't assigned with a specific name. In this case, you can only use it within the 'with' block, and you won't be able to refer to it later in your code."
   ]
  },
  {
   "cell_type": "code",
   "execution_count": null,
   "id": "0cbef264",
   "metadata": {},
   "outputs": [],
   "source": []
  },
  {
   "cell_type": "markdown",
   "id": "ea0342e5",
   "metadata": {},
   "source": [
    "### '<span style = \"text-decoration : underline ;\" >with</span>' statement in Python provides a way to simplify resource management by ensuring that a cleanup action is taken after a block of code finishes executing, whether it completes normally or due to an error."
   ]
  },
  {
   "cell_type": "code",
   "execution_count": 6,
   "id": "8a9b2d58",
   "metadata": {},
   "outputs": [
    {
     "data": {
      "text/plain": [
       "'\\nwith expression as target:\\n    # Code block'"
      ]
     },
     "execution_count": 6,
     "metadata": {},
     "output_type": "execute_result"
    }
   ],
   "source": [
    "\"\"\"\n",
    "with expression as target:\n",
    "    # Code block\"\"\""
   ]
  },
  {
   "cell_type": "markdown",
   "id": "a23e4be6",
   "metadata": {},
   "source": [
    "### Here's what each part means:\n",
    "\n",
    "### expression: This is an operation or function that returns an object which supports the context management protocol, or simply an object supporting context management protocol. The object returned by the expression's '__enter__()' method is called 'Context Manager object'. It's an instance of the class that defines '__enter__' and '__exit__' methods.\n",
    "### target: This is a variable after the 'as' keyword that will be assigned the result of the  __enter__() method. This variable represents the context manager object and allows you to work with the resource. It's optional, and if omitted, the result is not bound to a name. \n",
    "\n",
    "### Code block: This is the indented block of code that will be executed within the context of the with statement. It's where you perform operations using the acquired resource. \n",
    "### NOTE : 'Context' typically refers to the environment established by the context manager. This environment allows you to work with a specific resource. The act of opening a file, for instance creates a context. Within this context you can perform operations like reading or writing.\n",
    "\n",
    "## How it works:\n",
    "### Entering the Context : Entering into an environment or state where a specific resource is made available for you to work with. This happens as soon as 'with' statement is executed. The __enter__() method is responsible for setting up the context, and returns the resource object.\n",
    "\n",
    "### Assigning to target: If a target is specified, the result of __enter__() is assigned to it. This allows you to work with the context manager object more easily within the 'with' block.\n",
    "\n",
    "### Executing Code Block: The indented code block inside the with statement is executed. This is where you use the resource.\n",
    "### Exiting the Context (__exit__): After the code block is executed (whether normally or due to an exception), the __exit__() method of the context manager is called. This method is responsible for cleaning up resources (e.g., closing a file). If an exception occurred, it's passed to this method. If there was an exception and the __exit__ method returns False, the exception is propagated. If there was an exception and the __exit__ method returns True (or doesn't return anything, which is equivalent to returning None), the exception is considered handled, and the program continues normally. (NOTE  : If there was no exception, the __exit__ method is still called, but it typically just does any necessary cleanup.)"
   ]
  },
  {
   "cell_type": "code",
   "execution_count": 7,
   "id": "75e5e643",
   "metadata": {},
   "outputs": [],
   "source": [
    "with open('example.txt', 'r') as file:\n",
    "    data = file.read()"
   ]
  },
  {
   "cell_type": "code",
   "execution_count": 8,
   "id": "fa36b801",
   "metadata": {},
   "outputs": [
    {
     "data": {
      "text/plain": [
       "'Hello, world!'"
      ]
     },
     "execution_count": 8,
     "metadata": {},
     "output_type": "execute_result"
    }
   ],
   "source": [
    "data"
   ]
  },
  {
   "cell_type": "markdown",
   "id": "17e9e168",
   "metadata": {},
   "source": [
    "### In this example, open('example.txt', 'r') returns a file object. The __enter__ method of the file object (which is part of the context management protocol) is called, which opens the file. The file object is assigned to the variable file.\n",
    "\n",
    "### After the code block is executed, the __exit__ method of the file object is called, which closes the file. If an error occurred during execution, the __exit__ method will still be called, ensuring that the file is properly closed.\n",
    "\n",
    "### This ensures that the file is always closed correctly, even if an error occurs during the execution of the code block."
   ]
  },
  {
   "cell_type": "markdown",
   "id": "a3531832",
   "metadata": {},
   "source": [
    "## '<span style = \"text-decoration : underline ;\" >1. read()</span>'\n",
    "### 'read()' method in Python is used to read data from a file. It reads a specified number of bytes (or characters if the file is opened in text mode) from the file, or if no size is specified, it reads the entire content of the file."
   ]
  },
  {
   "cell_type": "code",
   "execution_count": null,
   "id": "63ccb8e6",
   "metadata": {},
   "outputs": [],
   "source": [
    "# file_pointer.read([size])"
   ]
  },
  {
   "cell_type": "markdown",
   "id": "a2f7b4a2",
   "metadata": {},
   "source": [
    "## '<span style = \"text-decoration : underline ;\" >2. write()</span>'\n",
    "### 'write()' method is used to write data to a file. It allows you to write strings or bytes to a file. If the file does not exist, it will be created. If the file already exists, the contents will be overwritten."
   ]
  },
  {
   "cell_type": "code",
   "execution_count": 1,
   "id": "7129b462",
   "metadata": {},
   "outputs": [],
   "source": [
    "# file_pointer.write(string)"
   ]
  },
  {
   "cell_type": "code",
   "execution_count": null,
   "id": "ef9e5789",
   "metadata": {},
   "outputs": [],
   "source": []
  },
  {
   "cell_type": "code",
   "execution_count": null,
   "id": "cf9b583f",
   "metadata": {},
   "outputs": [],
   "source": []
  },
  {
   "cell_type": "code",
   "execution_count": null,
   "id": "ae12770e",
   "metadata": {},
   "outputs": [],
   "source": []
  },
  {
   "cell_type": "code",
   "execution_count": 1,
   "id": "fb13f2c1",
   "metadata": {
    "scrolled": true
   },
   "outputs": [
    {
     "data": {
      "text/plain": [
       "'C:\\\\Users\\\\karth\\\\Data Science Masters 2.0\\\\File Handling'"
      ]
     },
     "execution_count": 1,
     "metadata": {},
     "output_type": "execute_result"
    }
   ],
   "source": [
    "pwd # Print Working Directory"
   ]
  },
  {
   "cell_type": "code",
   "execution_count": 6,
   "id": "751fcf4d",
   "metadata": {
    "scrolled": true
   },
   "outputs": [
    {
     "name": "stdout",
     "output_type": "stream",
     "text": [
      " Volume in drive C is OS\n",
      " Volume Serial Number is C402-1C68\n",
      "\n",
      " Directory of C:\\Users\\karth\\Data Science Masters 2.0\\File Handling\n",
      "\n",
      "09-10-2023  21:51    <DIR>          .\n",
      "09-10-2023  20:53    <DIR>          ..\n",
      "09-10-2023  20:09    <DIR>          .ipynb_checkpoints\n",
      "09-10-2023  21:51             5,684 Files.ipynb\n",
      "09-10-2023  21:19               254 sad.txt\n",
      "               2 File(s)          5,938 bytes\n",
      "               3 Dir(s)  339,485,892,608 bytes free\n"
     ]
    }
   ],
   "source": [
    "ls"
   ]
  },
  {
   "cell_type": "code",
   "execution_count": null,
   "id": "365a4c78",
   "metadata": {},
   "outputs": [],
   "source": []
  }
 ],
 "metadata": {
  "kernelspec": {
   "display_name": "Python 3 (ipykernel)",
   "language": "python",
   "name": "python3"
  },
  "language_info": {
   "codemirror_mode": {
    "name": "ipython",
    "version": 3
   },
   "file_extension": ".py",
   "mimetype": "text/x-python",
   "name": "python",
   "nbconvert_exporter": "python",
   "pygments_lexer": "ipython3",
   "version": "3.9.13"
  }
 },
 "nbformat": 4,
 "nbformat_minor": 5
}
