{
 "cells": [
  {
   "cell_type": "markdown",
   "id": "859f2546",
   "metadata": {},
   "source": [
    "## <span style = \"text-decoration : underline ;\" >Reading content from file and writing it into another file</span>"
   ]
  },
  {
   "cell_type": "code",
   "execution_count": 5,
   "id": "2d7aa0c9",
   "metadata": {},
   "outputs": [
    {
     "name": "stdout",
     "output_type": "stream",
     "text": [
      "['A salt seller used to carry the salt bag on his donkey to the market every day.\\n', '\\n', 'On the way they had to cross a stream. One day the donkey suddenly tumbled down the stream and the salt bag also fell into the water. The salt dissolved in the water and hence the bag became very light to carry. The donkey was happy.\\n', '\\n', 'Then the donkey started to play the same trick every day.\\n', '\\n', 'The salt seller came to understand the trick and decided to teach a lesson to it. The next day he loaded a cotton bag on the donkey.\\n', '\\n', 'Again it played the same trick hoping that the cotton bag would be still become lighter.\\n', '\\n', 'But the dampened cotton became very heavy to carry and the donkey suffered. It learnt a lesson. It didnâ€™t play the trick anymore after that day, and the seller was happy.\\n', '\\n', 'Moral of the story:\\n', 'Luck wonâ€™t favor always.']\n"
     ]
    }
   ],
   "source": [
    "fd = open(\"foolish_donkey.txt\", 'r')\n",
    "content = fd.readlines()\n",
    "print(content)"
   ]
  },
  {
   "cell_type": "code",
   "execution_count": 6,
   "id": "f1e6cb71",
   "metadata": {},
   "outputs": [
    {
     "name": "stdout",
     "output_type": "stream",
     "text": [
      "['A salt seller used to carry the salt bag on his donkey to the market every day.', '', 'On the way they had to cross a stream. One day the donkey suddenly tumbled down the stream and the salt bag also fell into the water. The salt dissolved in the water and hence the bag became very light to carry. The donkey was happy.', '', 'Then the donkey started to play the same trick every day.', '', 'The salt seller came to understand the trick and decided to teach a lesson to it. The next day he loaded a cotton bag on the donkey.', '', 'Again it played the same trick hoping that the cotton bag would be still become lighter.', '', 'But the dampened cotton became very heavy to carry and the donkey suffered. It learnt a lesson. It didnâ€™t play the trick anymore after that day, and the seller was happy.', '', 'Moral of the story:', 'Luck wonâ€™t favor always.']\n"
     ]
    }
   ],
   "source": [
    "newlist = []\n",
    "for line in content :\n",
    "    newlist.append(line.strip())\n",
    "print(newlist)"
   ]
  },
  {
   "cell_type": "code",
   "execution_count": 7,
   "id": "eb48d1ab",
   "metadata": {},
   "outputs": [
    {
     "name": "stdout",
     "output_type": "stream",
     "text": [
      "['', '', '', '', '', '', 'A salt seller used to carry the salt bag on his donkey to the market every day.', 'Again it played the same trick hoping that the cotton bag would be still become lighter.', 'But the dampened cotton became very heavy to carry and the donkey suffered. It learnt a lesson. It didnâ€™t play the trick anymore after that day, and the seller was happy.', 'Luck wonâ€™t favor always.', 'Moral of the story:', 'On the way they had to cross a stream. One day the donkey suddenly tumbled down the stream and the salt bag also fell into the water. The salt dissolved in the water and hence the bag became very light to carry. The donkey was happy.', 'The salt seller came to understand the trick and decided to teach a lesson to it. The next day he loaded a cotton bag on the donkey.', 'Then the donkey started to play the same trick every day.']\n"
     ]
    }
   ],
   "source": [
    "newlist.sort()\n",
    "print(newlist)"
   ]
  },
  {
   "cell_type": "code",
   "execution_count": 8,
   "id": "26069ccc",
   "metadata": {},
   "outputs": [
    {
     "name": "stdout",
     "output_type": "stream",
     "text": [
      "['\\n', '\\n', '\\n', '\\n', '\\n', '\\n', 'A salt seller used to carry the salt bag on his donkey to the market every day.\\n', 'Again it played the same trick hoping that the cotton bag would be still become lighter.\\n', 'But the dampened cotton became very heavy to carry and the donkey suffered. It learnt a lesson. It didnâ€™t play the trick anymore after that day, and the seller was happy.\\n', 'Luck wonâ€™t favor always.\\n', 'Moral of the story:\\n', 'On the way they had to cross a stream. One day the donkey suddenly tumbled down the stream and the salt bag also fell into the water. The salt dissolved in the water and hence the bag became very light to carry. The donkey was happy.\\n', 'The salt seller came to understand the trick and decided to teach a lesson to it. The next day he loaded a cotton bag on the donkey.\\n', 'Then the donkey started to play the same trick every day.\\n']\n"
     ]
    }
   ],
   "source": [
    "sorted_new_list = []\n",
    "for line in newlist :\n",
    "    sorted_new_list.append(line + '\\n')\n",
    "print(sorted_new_list)"
   ]
  },
  {
   "cell_type": "code",
   "execution_count": 10,
   "id": "a085bb80",
   "metadata": {},
   "outputs": [],
   "source": [
    "with open('donkey2.txt', 'w') as fd1 :\n",
    "    fd1.writelines(sorted_new_list)"
   ]
  },
  {
   "cell_type": "code",
   "execution_count": 11,
   "id": "71d52845",
   "metadata": {},
   "outputs": [],
   "source": [
    "fd.close()"
   ]
  },
  {
   "cell_type": "code",
   "execution_count": null,
   "id": "396b06f5",
   "metadata": {},
   "outputs": [],
   "source": []
  },
  {
   "cell_type": "markdown",
   "id": "82fd807c",
   "metadata": {},
   "source": [
    "## <span style = \"text-decoration : underline ;\" >1. 'readlines()'</span>\n",
    "### 'readlines()' is a method used to read lines from a file. It reads the entire file and returns a list of strings, where each string represents a line from the file, whereas \"read()\" returns a single string (the entire content of the file).\n",
    "### Syntax : 'file_pointer.readlines([size])'\n",
    "## <span style = \"text-decoration : underline ;\" >2. 'writelines()'</span>\n",
    "### 'writelines()' is a method used to write a list of strings (or any iterable of strings) to a file. It takes an iterable of strings as an argument and writes them to the file, whereas 'write()' expects a single string and writes it to the file.\n",
    "### Syntax : 'file_pointer.writelines(lines)'"
   ]
  },
  {
   "cell_type": "code",
   "execution_count": null,
   "id": "e9fd3fea",
   "metadata": {},
   "outputs": [],
   "source": []
  },
  {
   "cell_type": "markdown",
   "id": "b026e8f2",
   "metadata": {},
   "source": [
    "### <span style = \"text-decoration : underline ;\" >seek()'</span> - A method used with file objects to change the current position of the file pointer. The file pointer indicates the location in the file where the next read or write operation will occur. It takes 2 arguments : \n",
    "### 1. 'offset' - This is the number of bytes to move the file pointer. It can be positive(moves the pointer forward) or negative(moves the pointer backward), \n",
    "### 2. 'whence' - Specifies the reference for the seek operation. It can be one of the 3 values 0, 1, 2. 0(default) : the offset is relative to the beginning of the file, 1 : The offset is relative to the current position of the file pointer. 2 : The offset is relative to the end of the file."
   ]
  },
  {
   "cell_type": "code",
   "execution_count": 12,
   "id": "56a378e3",
   "metadata": {},
   "outputs": [],
   "source": [
    "#file_object.seek(offset, whence)"
   ]
  },
  {
   "cell_type": "code",
   "execution_count": 13,
   "id": "85326547",
   "metadata": {},
   "outputs": [
    {
     "data": {
      "text/plain": [
       "'Hello, world!'"
      ]
     },
     "execution_count": 13,
     "metadata": {},
     "output_type": "execute_result"
    }
   ],
   "source": [
    "fd2 = open('example.txt')\n",
    "fd2.read()"
   ]
  },
  {
   "cell_type": "code",
   "execution_count": 14,
   "id": "1893c8b4",
   "metadata": {},
   "outputs": [
    {
     "data": {
      "text/plain": [
       "''"
      ]
     },
     "execution_count": 14,
     "metadata": {},
     "output_type": "execute_result"
    }
   ],
   "source": [
    "fd2.read()"
   ]
  },
  {
   "cell_type": "code",
   "execution_count": 16,
   "id": "5097e6d1",
   "metadata": {},
   "outputs": [
    {
     "data": {
      "text/plain": [
       "0"
      ]
     },
     "execution_count": 16,
     "metadata": {},
     "output_type": "execute_result"
    }
   ],
   "source": [
    "fd2.seek(0) # pointer to point 0th position"
   ]
  },
  {
   "cell_type": "code",
   "execution_count": 17,
   "id": "29c13176",
   "metadata": {},
   "outputs": [
    {
     "data": {
      "text/plain": [
       "'Hello, world!'"
      ]
     },
     "execution_count": 17,
     "metadata": {},
     "output_type": "execute_result"
    }
   ],
   "source": [
    "fd2.read()"
   ]
  },
  {
   "cell_type": "code",
   "execution_count": 21,
   "id": "4011e5e3",
   "metadata": {},
   "outputs": [
    {
     "data": {
      "text/plain": [
       "4"
      ]
     },
     "execution_count": 21,
     "metadata": {},
     "output_type": "execute_result"
    }
   ],
   "source": [
    "fd2.seek(4, 0)"
   ]
  },
  {
   "cell_type": "code",
   "execution_count": 22,
   "id": "7fdaa942",
   "metadata": {},
   "outputs": [
    {
     "data": {
      "text/plain": [
       "'o, world!'"
      ]
     },
     "execution_count": 22,
     "metadata": {},
     "output_type": "execute_result"
    }
   ],
   "source": [
    "fd2.read()"
   ]
  },
  {
   "cell_type": "code",
   "execution_count": 24,
   "id": "48bb5a07",
   "metadata": {},
   "outputs": [],
   "source": [
    "fd2.close()"
   ]
  },
  {
   "cell_type": "code",
   "execution_count": null,
   "id": "a987357b",
   "metadata": {},
   "outputs": [],
   "source": []
  },
  {
   "cell_type": "markdown",
   "id": "6eddd484",
   "metadata": {},
   "source": [
    "# <span style = \"text-decoration : underline ;\" >JSON FILES</span>"
   ]
  },
  {
   "cell_type": "markdown",
   "id": "6981418a",
   "metadata": {},
   "source": [
    "### 'JSON' - JavaScript Object Notation is lightweight data interchange format that is easy for humans to read and write, and easy for machines to parse (analyse or break down a text or data into its individual components or elements) and generate.\n",
    "### The JSON format is very similar to a Python dictionary. "
   ]
  },
  {
   "cell_type": "code",
   "execution_count": 5,
   "id": "47c9536c",
   "metadata": {},
   "outputs": [],
   "source": [
    "# Creating a new JSON file\n",
    "\n",
    "data = {\n",
    "    'Name' : 'Theo',\n",
    "    'Mail' : 'therealtheo@outlook.com',\n",
    "    'Mobile number' : '987621799',\n",
    "    'Profession' : 'Discord Mod',\n",
    "    'Education' : ['B.Tech in CS', 'M.Tech in AIML', 'Online degree in MBA']\n",
    "}"
   ]
  },
  {
   "cell_type": "code",
   "execution_count": 6,
   "id": "949e2ce3",
   "metadata": {},
   "outputs": [],
   "source": [
    "import json\n",
    "\n",
    "formatted_json = json.dumps(data, indent = 4)\n",
    "\n",
    "with open('theoinfo.json', 'w') as file :\n",
    "    file.write(formatted_json)"
   ]
  },
  {
   "cell_type": "markdown",
   "id": "83d735ee",
   "metadata": {},
   "source": [
    "### By default, when you save a JSON object to a file, it may be stored as a single line, making it hard to read. To make it more human-readable, 'json.dumps()' can be used\n",
    "### 'data' is the dictionary that has to be converted into a JSON string\n",
    "### 'json.dumps()' converts the data to a JSON formatted string\n",
    "### 'indent = 4' specifies that the JSON should be indented with 4 spaces\n",
    "### The 'formatted_json' variable now contains a nicely formatted JSON string\n",
    "\n",
    "### 'open('theoinfo.json', 'w')' opens a file named 'theoinfo.json' in write mode. 'file.write(format_json)' writes the 'formatted_data.json' with the nicely formatted JSON data"
   ]
  },
  {
   "cell_type": "code",
   "execution_count": null,
   "id": "b3d94032",
   "metadata": {},
   "outputs": [],
   "source": []
  },
  {
   "cell_type": "markdown",
   "id": "ccc71b0f",
   "metadata": {},
   "source": [
    "## <span style = \"text-decoration : underline ;\" >1. 'json.dump(obj, fp)'</span>\n",
    "### 'json.dump(obj, fp)' is used to write a Python object to a JSON file.\n",
    "### It takes 2 arguments - The python object ('obj') that you want to write to the file, and a file-like object where the JSON data will be written. \n",
    "### This function directly writes the data to a file. If you want data to be nicely formatted with indentation for better readability, you can use the 'indent' parameter along with the 'json.dump'"
   ]
  },
  {
   "cell_type": "code",
   "execution_count": 7,
   "id": "1e06de1c",
   "metadata": {},
   "outputs": [],
   "source": [
    "with open('theoinfo.json', 'w') as file :\n",
    "    json.dump(data, file, indent = 4)"
   ]
  },
  {
   "cell_type": "markdown",
   "id": "016572b0",
   "metadata": {},
   "source": [
    "## <span style = \"text-decoration : underline ;\" >2. 'json.dumps(obj)'</span>\n",
    "### 'json.dumps(obj)' is used to convert a Python object into a JSON formatted string\n",
    "\n",
    "### NOTE : Unlike 'json.dump', 'json.dumps' does NOT write to a file. It simply converts a Python object into a JSON formatted string."
   ]
  },
  {
   "cell_type": "code",
   "execution_count": null,
   "id": "346d660a",
   "metadata": {},
   "outputs": [],
   "source": []
  },
  {
   "cell_type": "code",
   "execution_count": 8,
   "id": "9132b1eb",
   "metadata": {},
   "outputs": [],
   "source": [
    "with open('theoinfo.json', 'r') as file :\n",
    "    read_data = json.load(file)"
   ]
  },
  {
   "cell_type": "code",
   "execution_count": 9,
   "id": "3ec712fa",
   "metadata": {},
   "outputs": [
    {
     "data": {
      "text/plain": [
       "{'Name': 'Theo',\n",
       " 'Mail': 'therealtheo@outlook.com',\n",
       " 'Mobile number': '987621799',\n",
       " 'Profession': 'Discord Mod',\n",
       " 'Education': ['B.Tech in CS', 'M.Tech in AIML', 'Online degree in MBA']}"
      ]
     },
     "execution_count": 9,
     "metadata": {},
     "output_type": "execute_result"
    }
   ],
   "source": [
    "read_data"
   ]
  },
  {
   "cell_type": "markdown",
   "id": "eaed071f",
   "metadata": {},
   "source": [
    "## <span style = \"text-decoration : underline ;\" >1. 'json.load(fp)'</span>\n",
    "### 'json.load()' is specifically for decoding JSON data from a file or a string. The JSON data is parsed token by token. Tokens can be strings, numbers, true/false, null, etc.\n",
    "### As tokens are parsed, they are assembled into the corresponding Python data structure. For example, JSON objects become Python dictionaries, JSON arrays become Python lists, JSON numbers are converted into floats or integers based on their format, JSON 'true' and 'false' are converted into Python 'True' and 'False', while 'null' is converted into Python 'None'.\n",
    "### If the JSON data contains nested objects or arrays, they are recursively converted into nested Python data structures\n",
    "### 'fp' is the file pointer that points to the JSON data file. "
   ]
  },
  {
   "cell_type": "markdown",
   "id": "577b6e54",
   "metadata": {},
   "source": [
    "## <span style = \"text-decoration : underline ;\" >2. 'json.loads(json_string)'</span>\n",
    "###  'json.loads(json_string)' function in Python is used to parse(or decode) a JSON formatted string. It takes a JSON formatted string as input and converts it into a corresponding Python data structure.\n",
    "### A JSON string is a sequence of characters that follow the JSON format. \n",
    "### It takes the 'json_string' which contains JSON data, and returns a Python object that corresponds to the JSON data. "
   ]
  },
  {
   "cell_type": "code",
   "execution_count": 8,
   "id": "f2fc3846",
   "metadata": {},
   "outputs": [
    {
     "name": "stdout",
     "output_type": "stream",
     "text": [
      "{'Name': 'Theo', 'Mail': 'therealtheo@outlook.com', 'Mobile nUmber': '987621799', 'Profession': 'Discord Mod', 'Education': ['B.Tech in CS', 'M.Tech in AIML', 'Online degree in MBA']}\n"
     ]
    }
   ],
   "source": [
    "res = json.loads(formatted_json)\n",
    "print(res)"
   ]
  },
  {
   "cell_type": "code",
   "execution_count": null,
   "id": "ac430547",
   "metadata": {},
   "outputs": [],
   "source": []
  },
  {
   "cell_type": "markdown",
   "id": "7956f850",
   "metadata": {},
   "source": [
    "# <span style = \"text-decoration : underline ;\" >CSV FILES</span>"
   ]
  },
  {
   "cell_type": "markdown",
   "id": "5c760f7e",
   "metadata": {},
   "source": [
    "## CSV stands for \"Comma - Separated Values\". It is a simple and widely used file format for storing tabular data, such as spreadsheets or databases."
   ]
  },
  {
   "cell_type": "markdown",
   "id": "3280327b",
   "metadata": {},
   "source": [
    "## <span style = \"text-decoration : underline ;\" >Writing data into CSV file</span>"
   ]
  },
  {
   "cell_type": "code",
   "execution_count": 2,
   "id": "9cc67247",
   "metadata": {},
   "outputs": [],
   "source": [
    "import csv\n",
    "\n",
    "info = [\n",
    "    ['name', 'mail', 'phone_number'],\n",
    "    ['Rosh', 'itzbaig@gmail.com', 9923477333],\n",
    "    ['Kavinda', 'kavhasaranga@outlook.com', 7723499555],\n",
    "    ['Manu', 'manojmanu@yahoo.com', 8898433388]\n",
    "]"
   ]
  },
  {
   "cell_type": "code",
   "execution_count": 3,
   "id": "8f16e76a",
   "metadata": {},
   "outputs": [],
   "source": [
    "with open('people.csv', 'w', newline = '') as file :\n",
    "    writer = csv.writer(file)\n",
    "    for i in info :\n",
    "        writer.writerow(i)"
   ]
  },
  {
   "cell_type": "markdown",
   "id": "cc40776e",
   "metadata": {},
   "source": [
    "### 1. 'info' contains multiple lists, where each inner list represents a row of data, and the elements within these lists represent the columns.\n",
    "### 2. 'open('people.csv', 'w', newline = '')' opens a file named 'people.csv' in write mode ('w'). If the file does not exist, Python will create it. The newline = '' argument ensures that no extra newlines are added. \n",
    "\n",
    "### 3. 'writer = csv.writer(file)' creates a CSV writer object named 'writer'.\n",
    "### A 'WRITER' object is an instance of the 'csv.writer' class which is a part of the 'csv' module. 'csv.writer()' is a factory function that takes a file object as a parameter, and returns an instance of the 'csv.writer' class.\n",
    "### To write data to a CSV file, you need a way to organise and format the data correctly. The CSV writer object being an instance of the 'csv.writer' class, provides special methods ( like 'writerow()' and 'writerows()' ) that are specifically designed to write data to a CSV file in a structured way. It makes sure that comma and other special characters are handled properly. \n",
    "### CSV writer object is associated with a specific file (opened in write mode), so it knows where to send the data."
   ]
  },
  {
   "cell_type": "code",
   "execution_count": null,
   "id": "dd643676",
   "metadata": {},
   "outputs": [],
   "source": []
  },
  {
   "cell_type": "markdown",
   "id": "f0258801",
   "metadata": {},
   "source": [
    "### 1. 'csvwriter.writerow(row)' is used to write a single row of data to a CSV file. It takes a list or a tuple as an argument, where each element represents a field in the CSV row.\n",
    "### 2. 'csvwriter.writerows(rows)' is used to write multiple rows of data to a CSV file. It takes an iterable(like a list of lists or tuples) where each inner iterable represents a row of data."
   ]
  },
  {
   "cell_type": "code",
   "execution_count": null,
   "id": "b237547b",
   "metadata": {},
   "outputs": [],
   "source": []
  },
  {
   "cell_type": "markdown",
   "id": "db79f4ad",
   "metadata": {},
   "source": [
    "## <span style = \"text-decoration : underline ;\" >Reading data from a CSV file</span>"
   ]
  },
  {
   "cell_type": "code",
   "execution_count": 4,
   "id": "2b14ddc4",
   "metadata": {},
   "outputs": [
    {
     "name": "stdout",
     "output_type": "stream",
     "text": [
      "['name', 'mail', 'phone_number']\n",
      "['Rosh', 'itzbaig@gmail.com', '9923477333']\n",
      "['Kavinda', 'kavhasaranga@outlook.com', '7723499555']\n",
      "['Manu', 'manojmanu@yahoo.com', '8898433388']\n"
     ]
    }
   ],
   "source": [
    "with open('people.csv', 'r') as file :\n",
    "    reader = csv.reader(file)\n",
    "    for i in reader :\n",
    "        print(i)"
   ]
  },
  {
   "cell_type": "markdown",
   "id": "307f5172",
   "metadata": {},
   "source": [
    "### The csv.reader works in a similar way to the csv.writer, but for reading data from a CSV file instead of writing to it.\n",
    "### 1. 'csv.reader' as a Factory Function : csv.reader is a factory function provided by the Python standard library's csv module. Similar to 'csv.writer', when you call 'csv.reader(file)', you're passing an existing file object (opened in read mode) as an argument. This tells the factory function which file it should read from. The factory function 'csv.reader(file)' creates and returns an instance of the 'csv.reader' class. This instance is a reader object that knows how to read data from a CSV file.\n",
    "\n",
    "### 2. Associated with the File : The reader object is associated with the specific file you provided. This means that when you use the reader object to read data, it knows to read from the file you originally opened.\n",
    "\n",
    "### 3.Special Methods for Reading Data : The reader object, being an instance of the 'csv.reader' class, provides methods to read data from a CSV file row by row.\n",
    "\n",
    "### NOTE : In Python, a factory function is a function that returns another function. This can be a powerful tool for creating functions with customized behavior. It allows you to encapsulate some logic for creating functions in a separate function."
   ]
  },
  {
   "cell_type": "code",
   "execution_count": null,
   "id": "0a76bd64",
   "metadata": {},
   "outputs": [],
   "source": []
  },
  {
   "cell_type": "markdown",
   "id": "7aea7310",
   "metadata": {},
   "source": [
    "# <span style = \"text-decoration : underline ;\" >BINARY FILES</span>"
   ]
  },
  {
   "cell_type": "markdown",
   "id": "e35fb974",
   "metadata": {},
   "source": [
    "### Binary files in computing are files that contain data in a format that is not human - readable (binary files are stored in a binary format having digits 0’s and 1’s). This is in contrast to text files, which contain characters that can be interpreted as text. Binary files can store any type of data, such as images (Formats like JPEG, PNG, GIF, etc. store pixel data in a binary format), audio, video (Files like MP3, WAV, MP4, etc. store audio and video data in binary form), executables, or any other non-text format."
   ]
  },
  {
   "cell_type": "markdown",
   "id": "42138bde",
   "metadata": {},
   "source": [
    "## <span style = \"text-decoration : underline ;\" >Writing binary files</span>"
   ]
  },
  {
   "cell_type": "code",
   "execution_count": 4,
   "id": "ffe82fd8",
   "metadata": {},
   "outputs": [],
   "source": [
    "with open('new_binary.bin', 'wb') as file :\n",
    "    file.write(b'\\x01\\x02\\x03\\x04') # 'b' here denotes that we are working with sequence of bytes"
   ]
  },
  {
   "cell_type": "markdown",
   "id": "8b04236f",
   "metadata": {},
   "source": [
    "## <span style = \"text-decoration : underline ;\" >Reading binary files</span>"
   ]
  },
  {
   "cell_type": "code",
   "execution_count": 5,
   "id": "ae1b8f25",
   "metadata": {},
   "outputs": [
    {
     "name": "stdout",
     "output_type": "stream",
     "text": [
      "b'\\x01\\x02\\x03\\x04'\n"
     ]
    }
   ],
   "source": [
    "with open('new_binary.bin', 'rb') as file :\n",
    "    print(file.read())"
   ]
  },
  {
   "cell_type": "code",
   "execution_count": null,
   "id": "55b8abfe",
   "metadata": {},
   "outputs": [],
   "source": []
  }
 ],
 "metadata": {
  "kernelspec": {
   "display_name": "Python 3 (ipykernel)",
   "language": "python",
   "name": "python3"
  },
  "language_info": {
   "codemirror_mode": {
    "name": "ipython",
    "version": 3
   },
   "file_extension": ".py",
   "mimetype": "text/x-python",
   "name": "python",
   "nbconvert_exporter": "python",
   "pygments_lexer": "ipython3",
   "version": "3.9.13"
  }
 },
 "nbformat": 4,
 "nbformat_minor": 5
}
