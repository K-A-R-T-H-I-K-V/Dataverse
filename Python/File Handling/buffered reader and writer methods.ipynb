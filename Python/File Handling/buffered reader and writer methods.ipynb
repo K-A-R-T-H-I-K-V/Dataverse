{
 "cells": [
  {
   "cell_type": "markdown",
   "id": "fff6faa7",
   "metadata": {},
   "source": [
    "# <span style = \"text-decoration : underline ;\" > BUFFERING</span>\n",
    "### Buffering is a technique in computing where data is temporarily stored in a temporary memory area(known as 'buffer', and its like a holding area where data is kept until it's ready to be used or sent to a device) before being read from or written to a physical device, such as hard disk, network connection, or display.\n",
    "### Buffering helps optimize input/output operations by allowing data to be processed in chunks rather than individual units, which can significantly improve performance, especially when working with large amounts of data."
   ]
  },
  {
   "cell_type": "markdown",
   "id": "bcc74460",
   "metadata": {},
   "source": [
    "# <span style = \"text-decoration : underline ;\" > Normal Reading/Writing</span>\n",
    "### 1. Program requests to read or write a single byte. \n",
    "### 2. Operating system performs a system call to handle this request, which can be relatively slow in terms of CPU time due to the overhead of the call. ('Overhead' of the call refers to the additional work and time required to initiate and complete the call beyond the actual execution of the requested operation)\n",
    "### 3. The requested byte is transferred between the program and the device.\n",
    "\n",
    "# <span style = \"text-decoration : underline ;\" > Buffering Technique</span>\n",
    "### 1. Program interacts with a buffer, which is a larger block of memory.\n",
    "### 2. The buffer accumulates a certain amount of data (e.g., several kilobytes).\n",
    "### 3. Once the buffer is full (for writes) or empty (for reads), a single system call is made to transfer the entire buffer between the program and the device."
   ]
  },
  {
   "cell_type": "code",
   "execution_count": null,
   "id": "5db9df49",
   "metadata": {},
   "outputs": [],
   "source": []
  },
  {
   "cell_type": "markdown",
   "id": "7718d9f1",
   "metadata": {},
   "source": [
    "## <span style = \"text-decoration : underline ;\" > BufferedWriter</span>\n",
    "### 'BufferedReader' is a class provided by Python's 'io' module that allows you to write from a file with buffering. This means that instead of writing one byte at a time, it allows you to write a chunk of data at once, which can improve performance, especially when writing large amounts of data."
   ]
  },
  {
   "cell_type": "code",
   "execution_count": 9,
   "id": "dd1a7439",
   "metadata": {},
   "outputs": [],
   "source": [
    "import io\n",
    "\n",
    "buffer_size = 4096\n",
    "\n",
    "with open('tea.txt', 'wb') as file :\n",
    "    writer = io.BufferedWriter(file, buffer_size)\n",
    "    \n",
    "    writer.write(b\"\"\"1. Place a tea bag in your cup or mug.\n",
    "    2. Bring fresh, cold water to a rolling boil.\n",
    "    3. Once boiling, pour over the tea bag and steep according to the timing above based on your tea variety.\n",
    "    4. Remove the tea bag from the cup.\n",
    "    5. If desired, finish with milk, your preferred sweetener (such as sugar, honey, agave, or stevia) or a slice of citrus.\"\"\")\n",
    "    writer.flush()"
   ]
  },
  {
   "cell_type": "markdown",
   "id": "5b56e839",
   "metadata": {},
   "source": [
    "### When you write data to a file using BufferedWriter, it's first stored in a temporary area in memory called a buffer. The purpose of the buffer is to collect a certain amount of data before actually performing the write operation. This can be more efficient because it reduces the number of system calls made to the underlying file system.\n",
    "### The \"<span style = \"text-decoration : underline ;\" >flush()</span>\" method is used to manually empty the buffer and write its contents to the file immediately. It's particularly useful when you want to make sure that all data is written out without waiting for the buffer to fill up."
   ]
  },
  {
   "cell_type": "markdown",
   "id": "fe8f3f13",
   "metadata": {},
   "source": [
    "## <span style = \"text-decoration : underline ;\" > BufferedReader</span>\n",
    "### 'BufferedReader' is a class provided by Python's 'io' module that retrieves data from a source and stores it in an internal memory queue. This allows subsequent read operations to efficiently retrieve data from the buffered queue instead of directly accessing the underlying reader stream."
   ]
  },
  {
   "cell_type": "code",
   "execution_count": null,
   "id": "30f37167",
   "metadata": {},
   "outputs": [],
   "source": [
    "BufferedReader(inputstream, buffer_size = DEFAULT_BUFFER_SIZE)"
   ]
  },
  {
   "cell_type": "code",
   "execution_count": 5,
   "id": "f0b0bfe9",
   "metadata": {},
   "outputs": [
    {
     "name": "stdout",
     "output_type": "stream",
     "text": [
      "b'1. Place a tea bag in your cup or mug.\\n    2. Bring fresh, cold water to a rolling boil.\\n    3. Once boiling, pour over the tea bag and steep according to the timing above based on your tea variety.\\n    4. Remove the tea bag from the cup.\\n    5. If desired, finish with milk, your preferred sweetener (such as sugar, honey, agave, or stevia) or a slice of citrus.'\n"
     ]
    }
   ],
   "source": [
    "with open('tea.txt', 'rb') as file :\n",
    "    reader = io.BufferedReader(file)\n",
    "    data = reader.read(buffer_size)\n",
    "    print(data)"
   ]
  },
  {
   "cell_type": "markdown",
   "id": "744629fb",
   "metadata": {},
   "source": [
    "#### NOTE : 'io.BufferedReader' and 'io.BufferedWriter' classes do indeed work in binary mode by default. This means they deal with bytes rather than characters."
   ]
  },
  {
   "cell_type": "code",
   "execution_count": null,
   "id": "8b52071a",
   "metadata": {},
   "outputs": [],
   "source": []
  }
 ],
 "metadata": {
  "kernelspec": {
   "display_name": "Python 3 (ipykernel)",
   "language": "python",
   "name": "python3"
  },
  "language_info": {
   "codemirror_mode": {
    "name": "ipython",
    "version": 3
   },
   "file_extension": ".py",
   "mimetype": "text/x-python",
   "name": "python",
   "nbconvert_exporter": "python",
   "pygments_lexer": "ipython3",
   "version": "3.9.13"
  }
 },
 "nbformat": 4,
 "nbformat_minor": 5
}
