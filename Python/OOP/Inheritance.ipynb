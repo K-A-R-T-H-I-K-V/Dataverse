{
 "cells": [
  {
   "cell_type": "markdown",
   "id": "fc5dcfe4",
   "metadata": {},
   "source": [
    "## <span style = \"text-decoration : underline ;\" >Inheritance</span>\n",
    "\n",
    "### In Python, inheritance is a fundamental concept of object oriented programming(OOP) that allows classes to inherit attributes and methods from other classes.\n",
    "\n",
    "### It enables code reuse and promotes the creation of modular & organised programs."
   ]
  },
  {
   "cell_type": "markdown",
   "id": "a211adb5",
   "metadata": {},
   "source": [
    "### Inheritance is implemented through the creation of a new class, known as a \"derived class\" or \"subclass\", which inherits the properties of an existing class, known as the \"Base class\" or \"Superclass\". The derived class can then extend or modify the behaviour of the base class by adding new attributes or methods, or by overriding existing one.\n",
    "\n",
    "### To create a subclass, define it by specifying the base class name inside parentheses after the subclass name."
   ]
  },
  {
   "cell_type": "markdown",
   "id": "6d082be8",
   "metadata": {},
   "source": [
    "### super() automatically references the parent/base class from which the child class is derived. It is extremely helpful to call overridden methods in classes with many methods."
   ]
  },
  {
   "cell_type": "code",
   "execution_count": 5,
   "id": "f7dc0453",
   "metadata": {},
   "outputs": [],
   "source": [
    "class Person:\n",
    "    def __init__(self, name, age):  # Constructor to initialize name and age attributes\n",
    "        self.name = name\n",
    "        self.age = age\n",
    "\n",
    "    def say_hello(self):  # Method to greet and introduce the person\n",
    "        print(f\"Hello, my name is {self.name} and I am {self.age} years old.\")"
   ]
  },
  {
   "cell_type": "code",
   "execution_count": 8,
   "id": "9de09381",
   "metadata": {},
   "outputs": [],
   "source": [
    "class Student(Person):  # Student class inherits from Person class\n",
    "    def __init__(self, name, age, grade):  # Constructor to initialize name, age, and grade attributes\n",
    "        super().__init__(name, age)  # Call the parent class constructor to initialize name and age\n",
    "        self.grade = grade  # Additional attribute specific to the Student class\n",
    "\n",
    "    def say_hello(self):  # Override the say_hello method of the parent class\n",
    "        super().say_hello()  # Call the parent class say_hello method to introduce the student as a person\n",
    "        print(f\"I am a student in grade {self.grade}.\")  # Print additional information specific to the Student class"
   ]
  },
  {
   "cell_type": "code",
   "execution_count": 9,
   "id": "105a63b1",
   "metadata": {},
   "outputs": [
    {
     "name": "stdout",
     "output_type": "stream",
     "text": [
      "Hello, my name is John and I am 30 years old.\n",
      "Hello, my name is Mary and I am 18 years old.\n",
      "I am a student in grade 12.\n"
     ]
    }
   ],
   "source": [
    "# Creating an instance of the base class\n",
    "person = Person(\"John\", 30)\n",
    "person.say_hello()\n",
    "\n",
    "# Creating an instance of the derived class\n",
    "student = Student(\"Mary\", 18, 12)\n",
    "student.say_hello() \n"
   ]
  },
  {
   "cell_type": "code",
   "execution_count": 1,
   "id": "6ccc2ec9",
   "metadata": {},
   "outputs": [],
   "source": [
    "# Example"
   ]
  },
  {
   "cell_type": "code",
   "execution_count": 12,
   "id": "c9a046e7",
   "metadata": {},
   "outputs": [],
   "source": [
    "class parent_class :\n",
    "    \n",
    "    def parent_meth(self) :\n",
    "        print(\"I am THE PARENT class, you inherit my properties\")"
   ]
  },
  {
   "cell_type": "code",
   "execution_count": 13,
   "id": "9627dae0",
   "metadata": {},
   "outputs": [],
   "source": [
    "class child_class(parent_class) :\n",
    "    pass"
   ]
  },
  {
   "cell_type": "code",
   "execution_count": 14,
   "id": "4073f4a4",
   "metadata": {},
   "outputs": [],
   "source": [
    "child_obj = child_class()"
   ]
  },
  {
   "cell_type": "code",
   "execution_count": 15,
   "id": "101ff94e",
   "metadata": {},
   "outputs": [
    {
     "name": "stdout",
     "output_type": "stream",
     "text": [
      "I am THE PARENT class, you inherit my properties\n"
     ]
    }
   ],
   "source": [
    "child_obj.parent_meth()"
   ]
  },
  {
   "cell_type": "markdown",
   "id": "03c33c0a",
   "metadata": {},
   "source": [
    "## <span style = \"text-decoration : underline ;\" >Types Of Inheritance</span>"
   ]
  },
  {
   "cell_type": "markdown",
   "id": "3a571933",
   "metadata": {},
   "source": [
    "### 1. <span style = \"text-decoration : underline ;\" >Single Inheritance in Python</span>\n",
    "### Single Inheritance is the simplest form of inheritance where a single child class is derived from a single parent class. Due to its candid nature, it is also known as Simple Inheritance."
   ]
  },
  {
   "cell_type": "code",
   "execution_count": 17,
   "id": "1dc1a29a",
   "metadata": {},
   "outputs": [],
   "source": [
    "class parent:                  # parent class\n",
    "    def func1(self):\n",
    "        print(\"Hello Parent\")"
   ]
  },
  {
   "cell_type": "code",
   "execution_count": 18,
   "id": "c40fc530",
   "metadata": {},
   "outputs": [],
   "source": [
    "class child(parent):    \n",
    "  # child class\n",
    "    def func2(self):                 # we include the parent class\n",
    "        print(\"Hello Child\")   # as an argument in the child\n",
    "                               # class"
   ]
  },
  {
   "cell_type": "code",
   "execution_count": 19,
   "id": "b2aa9e72",
   "metadata": {},
   "outputs": [
    {
     "name": "stdout",
     "output_type": "stream",
     "text": [
      "Hello Parent\n",
      "Hello Child\n"
     ]
    }
   ],
   "source": [
    "test = child()                 # object created\n",
    "test.func1()                   # parent method called via child object\n",
    "test.func2()                   # child method called"
   ]
  },
  {
   "cell_type": "markdown",
   "id": "72974efa",
   "metadata": {},
   "source": [
    "## 2. <span style = \"text-decoration : underline ;\" >Multiple inheritance in Python</span>\n",
    "### In multiple inheritance, a single child class is inherited from two or more parent classes. It means the child class has access to all the parent classes' methods and attributes.\n",
    "\n",
    "### However, if two parents have the same “named” methods, the child class performs the method of the first parent in order of reference. To better understand which class’s methods shall be executed first, we can use the Method Resolution Order function (mro). It tells the order in which the child class is interpreted to visit the other classes.\n",
    "\n"
   ]
  },
  {
   "cell_type": "code",
   "execution_count": 29,
   "id": "d8f7abb3",
   "metadata": {},
   "outputs": [],
   "source": [
    "class parent1:                     # first parent class\n",
    "    def func1(self):                   \n",
    "        print(\"Hello Parent1\")"
   ]
  },
  {
   "cell_type": "code",
   "execution_count": 22,
   "id": "e24e889b",
   "metadata": {},
   "outputs": [],
   "source": [
    "class parent2:                     # second parent class\n",
    "    def func2(self):                   \n",
    "        print(\"Hello Parent2\")"
   ]
  },
  {
   "cell_type": "code",
   "execution_count": 26,
   "id": "965026fa",
   "metadata": {},
   "outputs": [],
   "source": [
    "class parent3:                     # third parent class\n",
    "    def func2(self):                     # the function name is same as parent2\n",
    "        print(\"Hello Parent3\")"
   ]
  },
  {
   "cell_type": "code",
   "execution_count": 27,
   "id": "0ade3b9b",
   "metadata": {},
   "outputs": [],
   "source": [
    "class child(parent1, parent2, parent3):     # child class\n",
    "    def func3(self):                     # we include the parent classes\n",
    "        print(\"Hello Child\")       # as an argument comma separated\n",
    "                           "
   ]
  },
  {
   "cell_type": "code",
   "execution_count": 28,
   "id": "018f54b3",
   "metadata": {},
   "outputs": [
    {
     "name": "stdout",
     "output_type": "stream",
     "text": [
      "Hello Parent1\n",
      "Hello Parent2\n",
      "Hello Child\n",
      "(<class '__main__.child'>, <class '__main__.parent1'>, <class '__main__.parent2'>, <class '__main__.parent3'>, <class 'object'>)\n"
     ]
    }
   ],
   "source": [
    "test = child()        # object created\n",
    "test.func1()          # parent1 method called via child\n",
    "test.func2()          # parent2 method called via child instead of parent3\n",
    "test.func3()          # child method called\n",
    " \n",
    "# to find the order of classes visited by the child class, we use __mro__ on the child class\n",
    "print(child.__mro__)"
   ]
  },
  {
   "cell_type": "markdown",
   "id": "40a3e82b",
   "metadata": {},
   "source": [
    "### As we can see with the help of mro, the child class first visits itself, then the first parent class, referenced before the second parent class. Similarly, it visits the second parent class before the third parent class, and that’s why it performs the second parent’s function rather than the third parent’s. Finally, it visits any objects that may have been created."
   ]
  },
  {
   "cell_type": "markdown",
   "id": "a8de8e70",
   "metadata": {},
   "source": [
    "## 3. <span style = \"text-decoration : underline ;\" >Multilevel inheritance in Python</span>\n",
    "### In multilevel inheritance, we go beyond just a parent-child relation. We introduce grandchildren, great-grandchildren, grandparents, etc. We have seen only two levels of inheritance with a superior parent class/es and a derived class/es, but here we can have multiple levels where the parent class/es itself is derived from another class/es."
   ]
  },
  {
   "cell_type": "code",
   "execution_count": 30,
   "id": "82d2df50",
   "metadata": {},
   "outputs": [],
   "source": [
    "class grandparent:                 # first level\n",
    "    def func1(self):                   \n",
    "        print(\"Hello Grandparent\")"
   ]
  },
  {
   "cell_type": "code",
   "execution_count": 31,
   "id": "530958b2",
   "metadata": {},
   "outputs": [],
   "source": [
    "class parent(grandparent):         # second level\n",
    "    def func2(self):                   \n",
    "        print(\"Hello Parent\")\n",
    " "
   ]
  },
  {
   "cell_type": "code",
   "execution_count": 32,
   "id": "8431d46a",
   "metadata": {},
   "outputs": [],
   "source": [
    "class child(parent):               # third level\n",
    "    def func3(self):                   \n",
    "        print(\"Hello Child\")   "
   ]
  },
  {
   "cell_type": "code",
   "execution_count": 33,
   "id": "a99e9680",
   "metadata": {},
   "outputs": [
    {
     "name": "stdout",
     "output_type": "stream",
     "text": [
      "Hello Grandparent\n",
      "Hello Parent\n",
      "Hello Child\n"
     ]
    }
   ],
   "source": [
    "test = child()                     # object created\n",
    "test.func1()                       # 3rd level calls 1st level\n",
    "test.func2()                       # 3rd level calls 2nd level\n",
    "test.func3()                       # 3rd level calls 3rd level"
   ]
  },
  {
   "cell_type": "markdown",
   "id": "5b01cb65",
   "metadata": {},
   "source": [
    "## 4. <span style = \"text-decoration : underline ;\" >Hierarchical inheritance in Python</span>\n",
    "### Hierarchical Inheritance is the right opposite of multiple inheritance. It means that there are multiple derived child classes from a single-parent class."
   ]
  },
  {
   "cell_type": "code",
   "execution_count": 34,
   "id": "76b1e18f",
   "metadata": {},
   "outputs": [],
   "source": [
    "class parent:                       # parent class\n",
    "    def func1(self):                   \n",
    "        print(\"Hello Parent\")"
   ]
  },
  {
   "cell_type": "code",
   "execution_count": 35,
   "id": "b0bcc64d",
   "metadata": {},
   "outputs": [],
   "source": [
    "class child1(parent):               # first child class\n",
    "    def func2(self):                   \n",
    "        print(\"Hello Child1\")"
   ]
  },
  {
   "cell_type": "code",
   "execution_count": 36,
   "id": "32585a97",
   "metadata": {},
   "outputs": [],
   "source": [
    "class child2(parent):               # second child class\n",
    "    def func3(self):                   \n",
    "        print(\"Hello Child2\")   "
   ]
  },
  {
   "cell_type": "code",
   "execution_count": 37,
   "id": "50355deb",
   "metadata": {},
   "outputs": [
    {
     "name": "stdout",
     "output_type": "stream",
     "text": [
      "Hello Parent\n",
      "Hello Child1\n",
      "Hello Parent\n",
      "Hello Child2\n"
     ]
    }
   ],
   "source": [
    "test1 = child1()                     # objects created\n",
    "test2 = child2() \n",
    " \n",
    "test1.func1()                       # child1 calling parent method\n",
    "test1.func2()                       # child1 calling its own method\n",
    " \n",
    "test2.func1()                       # child2 calling parent method\n",
    "test2.func3()     "
   ]
  },
  {
   "cell_type": "markdown",
   "id": "14c277df",
   "metadata": {},
   "source": [
    "## 5. <span style = \"text-decoration : underline ;\" >Hybrid inheritance in Python</span>\n",
    "### Hybrid Inheritance is the mixture of two or more different types of inheritance. Here we can have many relationships between parent and child classes with multiple levels."
   ]
  },
  {
   "cell_type": "code",
   "execution_count": 44,
   "id": "e7e03094",
   "metadata": {},
   "outputs": [],
   "source": [
    "class parent1:                            # first parent class\n",
    "    def func1(self):                   \n",
    "        print(\"Hello Parent\")"
   ]
  },
  {
   "cell_type": "code",
   "execution_count": 45,
   "id": "67dd1c1e",
   "metadata": {},
   "outputs": [],
   "source": [
    "class parent2:                            # second parent class\n",
    "    def func2(self):                   \n",
    "        print(\"Hello Parent\")"
   ]
  },
  {
   "cell_type": "code",
   "execution_count": 46,
   "id": "dc2685b1",
   "metadata": {},
   "outputs": [],
   "source": [
    "class child1(parent1):                    # first child class\n",
    "    def func3(self):                   \n",
    "        print(\"Hello Child1\")"
   ]
  },
  {
   "cell_type": "code",
   "execution_count": 47,
   "id": "c2e58e7b",
   "metadata": {},
   "outputs": [],
   "source": [
    "class child2(child1, parent2):            # second child class\n",
    "    def func4(self):                   \n",
    "        print(\"Hello Child2\") "
   ]
  },
  {
   "cell_type": "code",
   "execution_count": 48,
   "id": "b6d9514e",
   "metadata": {},
   "outputs": [
    {
     "name": "stdout",
     "output_type": "stream",
     "text": [
      "Hello Parent\n",
      "Hello Child1\n",
      "Hello Parent\n",
      "Hello Parent\n",
      "Hello Child1\n",
      "Hello Child2\n"
     ]
    }
   ],
   "source": [
    "test1 = child1()                          # object created\n",
    "test2 = child2()\n",
    " \n",
    "test1.func1()                       # child1 calling parent1 method\n",
    "test1.func3()                       # child1 calling its own method\n",
    " \n",
    "test2.func1()                       # child2 calling parent1 method\n",
    "test2.func2()                       # child2 calling parent2 method\n",
    "test2.func3()                       # child2 calling child1 method\n",
    "test2.func4()                       # child2 calling its own method"
   ]
  },
  {
   "cell_type": "markdown",
   "id": "46fe4011",
   "metadata": {},
   "source": [
    "### Parent1 -> Child1 : Single Inheritance\n",
    "\n",
    "### Parent1 -> Child1 -> Child2 : Multi – Level Inheritance\n",
    "\n",
    "### Parent1 -> Child2 <- Parent2 : Multiple Inheritance"
   ]
  },
  {
   "cell_type": "code",
   "execution_count": null,
   "id": "d16e5f90",
   "metadata": {},
   "outputs": [],
   "source": []
  }
 ],
 "metadata": {
  "kernelspec": {
   "display_name": "Python 3 (ipykernel)",
   "language": "python",
   "name": "python3"
  },
  "language_info": {
   "codemirror_mode": {
    "name": "ipython",
    "version": 3
   },
   "file_extension": ".py",
   "mimetype": "text/x-python",
   "name": "python",
   "nbconvert_exporter": "python",
   "pygments_lexer": "ipython3",
   "version": "3.9.13"
  }
 },
 "nbformat": 4,
 "nbformat_minor": 5
}
