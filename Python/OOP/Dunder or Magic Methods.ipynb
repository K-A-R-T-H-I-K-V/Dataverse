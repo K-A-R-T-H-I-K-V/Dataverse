{
 "cells": [
  {
   "cell_type": "markdown",
   "id": "8749dfd3",
   "metadata": {},
   "source": [
    "## <span style = \"text-decoration : underline ;\" >'Dunder or Magic Methods'</span>"
   ]
  },
  {
   "cell_type": "markdown",
   "id": "2f239036",
   "metadata": {},
   "source": [
    "### Python dunder methods are the special predefined methods having two prefix and two suffix underscores in the method name. Here, the word dunder means double underscore. These special dunder methods are used in case of operator overloading (the same built-in operator or function shows different behavior for objects of different classes).\n",
    "\n",
    "### These Python dunder methods are invoked INTERNALLY from the class based on a certain condition or action. Like, when you add two numbers using the + operator, then the __add__ dunder method will be invoked, and the __init__ method will be invoked when an instance of a class is created."
   ]
  },
  {
   "cell_type": "code",
   "execution_count": 1,
   "id": "cec570a1",
   "metadata": {},
   "outputs": [
    {
     "data": {
      "text/plain": [
       "55"
      ]
     },
     "execution_count": 1,
     "metadata": {},
     "output_type": "execute_result"
    }
   ],
   "source": [
    "x = 50\n",
    "x + 5"
   ]
  },
  {
   "cell_type": "code",
   "execution_count": 2,
   "id": "2f416c3a",
   "metadata": {},
   "outputs": [
    {
     "data": {
      "text/plain": [
       "55"
      ]
     },
     "execution_count": 2,
     "metadata": {},
     "output_type": "execute_result"
    }
   ],
   "source": [
    "x.__add__(5)"
   ]
  },
  {
   "cell_type": "markdown",
   "id": "7f45276a",
   "metadata": {},
   "source": [
    "## '1. <span style = \"text-decoration : underline ;\" >str Method</span>:'\n",
    "### One of the most common magic methods is the str() method in Python. When we have to return a string then we call this str() built-in function to return a string from the object parameter.\n",
    "\n",
    "### But, internally the str() function calls the __str()__ magic method defined in the int class. This is why it is called a magic method!\n",
    "\n",
    "### For example, str('12') returns '12'. When invoked, it calls the __str()__ method in the int class. So, when str('12') is equal to 12, it is also equivalent to int.__str__('12')."
   ]
  },
  {
   "cell_type": "code",
   "execution_count": 1,
   "id": "0df3817c",
   "metadata": {},
   "outputs": [],
   "source": [
    "class seminar :\n",
    "     \n",
    "    #__init__ method is used to initialize the object's attributes setting them to initial values that you define\n",
    "    def __init__(self, captain, num_of_members, topic) : \n",
    "        self.team_captain = captain\n",
    "        self.num_of_members = num_of_members\n",
    "        self.topic = topic\n",
    "    \n",
    "    def __str__(self) :\n",
    "        return f'Captain {self.team_captain} will be leading {self.num_of_members} members to present : {self.topic}'"
   ]
  },
  {
   "cell_type": "code",
   "execution_count": 2,
   "id": "444741f2",
   "metadata": {},
   "outputs": [],
   "source": [
    "group1 = seminar('RB', 5, 'Microbes in the Human Welfare')"
   ]
  },
  {
   "cell_type": "code",
   "execution_count": 3,
   "id": "de8cef59",
   "metadata": {},
   "outputs": [
    {
     "data": {
      "text/plain": [
       "'Microbes in the Human Welfare'"
      ]
     },
     "execution_count": 3,
     "metadata": {},
     "output_type": "execute_result"
    }
   ],
   "source": [
    "group1.topic"
   ]
  },
  {
   "cell_type": "code",
   "execution_count": 4,
   "id": "7066857f",
   "metadata": {},
   "outputs": [
    {
     "data": {
      "text/plain": [
       "'RB'"
      ]
     },
     "execution_count": 4,
     "metadata": {},
     "output_type": "execute_result"
    }
   ],
   "source": [
    "group1.team_captain"
   ]
  },
  {
   "cell_type": "code",
   "execution_count": 5,
   "id": "1a0e3777",
   "metadata": {},
   "outputs": [
    {
     "data": {
      "text/plain": [
       "'Captain RB will be leading 5 members to present : Microbes in the Human Welfare'"
      ]
     },
     "execution_count": 5,
     "metadata": {},
     "output_type": "execute_result"
    }
   ],
   "source": [
    "str(group1)"
   ]
  },
  {
   "cell_type": "markdown",
   "id": "1fd9b857",
   "metadata": {},
   "source": [
    "## '2. <span style = \"text-decoration : underline ;\" >__new__() Method</span>:'\n",
    "\n",
    "### In Python, the __new()__ magic method is implicitly called before the __init()__ method. While '__init__' is responsible for initializing the instance(or object) after it's been created, '__new__' is responsible for creating the instance(or object) itself."
   ]
  },
  {
   "cell_type": "code",
   "execution_count": 32,
   "id": "de394c34",
   "metadata": {},
   "outputs": [],
   "source": [
    "class Employee:\n",
    "    def __new__(cls, name):\n",
    "        print (\"new magic method is called\")\n",
    "        inst = object.__new__(cls)\n",
    "        return inst\n",
    "        \n",
    "    def __init__(self, name):\n",
    "        print (\"init magic method is called\")\n",
    "        self.name = name"
   ]
  },
  {
   "cell_type": "code",
   "execution_count": 35,
   "id": "da59ae49",
   "metadata": {},
   "outputs": [
    {
     "name": "stdout",
     "output_type": "stream",
     "text": [
      "new magic method is called\n",
      "init magic method is called\n"
     ]
    }
   ],
   "source": [
    "employee1 = Employee('mona')"
   ]
  },
  {
   "cell_type": "markdown",
   "id": "faecdc6c",
   "metadata": {},
   "source": [
    "### The __new__ method is called automatically when you create a new instance. It's responsible for creating and returning a new instance of the class. The new method creates a new instance using 'object.__new__(cls)'. This is a standard way to create an instance of a class.\n",
    "\n",
    "### The newly created instance is then passed as the first argument (self) to the __init__ method. The __init__ method is responsible for initializing the attributes of the instance. Inside __init__, 'self.name = name' sets an attribute called name for the instance. This means that when you create an instance, you can pass a name, and it will be stored as an attribute."
   ]
  },
  {
   "cell_type": "code",
   "execution_count": null,
   "id": "9bf8c7fc",
   "metadata": {},
   "outputs": [],
   "source": []
  },
  {
   "cell_type": "markdown",
   "id": "95394101",
   "metadata": {},
   "source": [
    "## '3. <span style = \"text-decoration : underline ;\" >add() Method:</span>:'\n",
    "### The magic method __add()__ performs the addition of the specified attributes of the objects"
   ]
  },
  {
   "cell_type": "code",
   "execution_count": 4,
   "id": "939745d0",
   "metadata": {},
   "outputs": [],
   "source": [
    "class Vector:\n",
    "    def __init__(self, x, y):\n",
    "        self.x = x\n",
    "        self.y = y\n",
    "\n",
    "    def __add__(self, other):\n",
    "        return Vector(self.x + other.x, self.y + other.y)\n",
    "\n",
    "    def __sub__(self, other):\n",
    "        return Vector(self.x - other.x, self.y - other.y)"
   ]
  },
  {
   "cell_type": "markdown",
   "id": "e0cbf106",
   "metadata": {},
   "source": [
    "### class Vector: This defines a class named Vector. It's a blueprint for creating objects that will represent 2D vectors.\n",
    "### __init__() is the constructor method, called when a new Vector object is created. It initializes the object with x and y coordinates.\n",
    "### __add__() is the magic method for addition. It's called when you use the + operator with Vector objects. self refers to the left-hand side object, and other is the right-hand side object.\n",
    "### __sub__() is the magic method for subtraction. It's called when you use the - operator with Vector objects. Similarly, self is the left-hand side object, and other is the right-hand side object."
   ]
  },
  {
   "cell_type": "code",
   "execution_count": 6,
   "id": "23796e0d",
   "metadata": {},
   "outputs": [
    {
     "name": "stdout",
     "output_type": "stream",
     "text": [
      "3i + 9j\n"
     ]
    }
   ],
   "source": [
    "vec1 = Vector(1, 5)\n",
    "vec2 = Vector(2, 4)\n",
    "\n",
    "res = vec1 + vec2\n",
    "print(f\"{res.x}i + {res.y}j\")"
   ]
  },
  {
   "cell_type": "markdown",
   "id": "dc7b000c",
   "metadata": {},
   "source": [
    "### When you use the + operator between vec1 and vec2, Python checks if there's an __add__ method defined in the Vector class. Since it's defined, Python calls vec1.__add__(vec2). self is vec1 with coordinates (1, 5), other is vec2 with coordinates (2, 4). The __add__ method then creates a new Vector object with coordinates (1 + 2, 5 + 4) which is (3, 9)."
   ]
  },
  {
   "cell_type": "code",
   "execution_count": null,
   "id": "bcfff76a",
   "metadata": {},
   "outputs": [],
   "source": []
  },
  {
   "cell_type": "markdown",
   "id": "1b3280d1",
   "metadata": {},
   "source": [
    "## One can see all the dunder methods associated with a particular class as follows :"
   ]
  },
  {
   "cell_type": "code",
   "execution_count": 36,
   "id": "3cc4fe14",
   "metadata": {},
   "outputs": [
    {
     "data": {
      "text/plain": [
       "['__abs__',\n",
       " '__add__',\n",
       " '__and__',\n",
       " '__bool__',\n",
       " '__ceil__',\n",
       " '__class__',\n",
       " '__delattr__',\n",
       " '__dir__',\n",
       " '__divmod__',\n",
       " '__doc__',\n",
       " '__eq__',\n",
       " '__float__',\n",
       " '__floor__',\n",
       " '__floordiv__',\n",
       " '__format__',\n",
       " '__ge__',\n",
       " '__getattribute__',\n",
       " '__getnewargs__',\n",
       " '__gt__',\n",
       " '__hash__',\n",
       " '__index__',\n",
       " '__init__',\n",
       " '__init_subclass__',\n",
       " '__int__',\n",
       " '__invert__',\n",
       " '__le__',\n",
       " '__lshift__',\n",
       " '__lt__',\n",
       " '__mod__',\n",
       " '__mul__',\n",
       " '__ne__',\n",
       " '__neg__',\n",
       " '__new__',\n",
       " '__or__',\n",
       " '__pos__',\n",
       " '__pow__',\n",
       " '__radd__',\n",
       " '__rand__',\n",
       " '__rdivmod__',\n",
       " '__reduce__',\n",
       " '__reduce_ex__',\n",
       " '__repr__',\n",
       " '__rfloordiv__',\n",
       " '__rlshift__',\n",
       " '__rmod__',\n",
       " '__rmul__',\n",
       " '__ror__',\n",
       " '__round__',\n",
       " '__rpow__',\n",
       " '__rrshift__',\n",
       " '__rshift__',\n",
       " '__rsub__',\n",
       " '__rtruediv__',\n",
       " '__rxor__',\n",
       " '__setattr__',\n",
       " '__sizeof__',\n",
       " '__str__',\n",
       " '__sub__',\n",
       " '__subclasshook__',\n",
       " '__truediv__',\n",
       " '__trunc__',\n",
       " '__xor__',\n",
       " 'as_integer_ratio',\n",
       " 'bit_length',\n",
       " 'conjugate',\n",
       " 'denominator',\n",
       " 'from_bytes',\n",
       " 'imag',\n",
       " 'numerator',\n",
       " 'real',\n",
       " 'to_bytes']"
      ]
     },
     "execution_count": 36,
     "metadata": {},
     "output_type": "execute_result"
    }
   ],
   "source": [
    "dir(int)"
   ]
  },
  {
   "cell_type": "code",
   "execution_count": 38,
   "id": "1fd235aa",
   "metadata": {},
   "outputs": [
    {
     "data": {
      "text/plain": [
       "['__add__',\n",
       " '__class__',\n",
       " '__contains__',\n",
       " '__delattr__',\n",
       " '__dir__',\n",
       " '__doc__',\n",
       " '__eq__',\n",
       " '__format__',\n",
       " '__ge__',\n",
       " '__getattribute__',\n",
       " '__getitem__',\n",
       " '__getnewargs__',\n",
       " '__gt__',\n",
       " '__hash__',\n",
       " '__init__',\n",
       " '__init_subclass__',\n",
       " '__iter__',\n",
       " '__le__',\n",
       " '__len__',\n",
       " '__lt__',\n",
       " '__mod__',\n",
       " '__mul__',\n",
       " '__ne__',\n",
       " '__new__',\n",
       " '__reduce__',\n",
       " '__reduce_ex__',\n",
       " '__repr__',\n",
       " '__rmod__',\n",
       " '__rmul__',\n",
       " '__setattr__',\n",
       " '__sizeof__',\n",
       " '__str__',\n",
       " '__subclasshook__',\n",
       " 'capitalize',\n",
       " 'casefold',\n",
       " 'center',\n",
       " 'count',\n",
       " 'encode',\n",
       " 'endswith',\n",
       " 'expandtabs',\n",
       " 'find',\n",
       " 'format',\n",
       " 'format_map',\n",
       " 'index',\n",
       " 'isalnum',\n",
       " 'isalpha',\n",
       " 'isascii',\n",
       " 'isdecimal',\n",
       " 'isdigit',\n",
       " 'isidentifier',\n",
       " 'islower',\n",
       " 'isnumeric',\n",
       " 'isprintable',\n",
       " 'isspace',\n",
       " 'istitle',\n",
       " 'isupper',\n",
       " 'join',\n",
       " 'ljust',\n",
       " 'lower',\n",
       " 'lstrip',\n",
       " 'maketrans',\n",
       " 'partition',\n",
       " 'removeprefix',\n",
       " 'removesuffix',\n",
       " 'replace',\n",
       " 'rfind',\n",
       " 'rindex',\n",
       " 'rjust',\n",
       " 'rpartition',\n",
       " 'rsplit',\n",
       " 'rstrip',\n",
       " 'split',\n",
       " 'splitlines',\n",
       " 'startswith',\n",
       " 'strip',\n",
       " 'swapcase',\n",
       " 'title',\n",
       " 'translate',\n",
       " 'upper',\n",
       " 'zfill']"
      ]
     },
     "execution_count": 38,
     "metadata": {},
     "output_type": "execute_result"
    }
   ],
   "source": [
    "dir(str)"
   ]
  },
  {
   "cell_type": "code",
   "execution_count": null,
   "id": "6eee6aa4",
   "metadata": {},
   "outputs": [],
   "source": []
  }
 ],
 "metadata": {
  "kernelspec": {
   "display_name": "Python 3 (ipykernel)",
   "language": "python",
   "name": "python3"
  },
  "language_info": {
   "codemirror_mode": {
    "name": "ipython",
    "version": 3
   },
   "file_extension": ".py",
   "mimetype": "text/x-python",
   "name": "python",
   "nbconvert_exporter": "python",
   "pygments_lexer": "ipython3",
   "version": "3.9.13"
  }
 },
 "nbformat": 4,
 "nbformat_minor": 5
}
