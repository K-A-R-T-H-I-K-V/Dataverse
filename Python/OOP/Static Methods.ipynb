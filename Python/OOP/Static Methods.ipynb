{
 "cells": [
  {
   "cell_type": "markdown",
   "id": "3cc9ee1f",
   "metadata": {},
   "source": [
    "### Static method is a method that belongs to a class rather than an instance of the class.  Unlike regular methods that require an instance of the class to be called, static methods can be invoked directly on the class itself. \n",
    "\n",
    "### Static Methods are marked with the '@staticmethod' decorator, placed directly above the method definition.\n",
    "\n",
    "### Static methods are called directly on the class, without creating an instance of the class.\n",
    "\n",
    "### When you create multiple instances of a class in Python, each object has its own separate state(instance variables), but the static methods remain shared across all instances. This means that static methods are stored once, rather than being duplicated for each object. They are useful for defining utility functions that relate to the class as a whole rather than individual instances."
   ]
  },
  {
   "cell_type": "code",
   "execution_count": 1,
   "id": "d527ff2d",
   "metadata": {},
   "outputs": [],
   "source": [
    "# Example 1"
   ]
  },
  {
   "cell_type": "code",
   "execution_count": 2,
   "id": "86697c2b",
   "metadata": {},
   "outputs": [],
   "source": [
    "class TH :\n",
    "    \n",
    "    def team_lead(self, name, usn, contact_no) :\n",
    "        print(f\"Team lead - {name}, contact for more information - {contact_no}\")\n",
    "    \n",
    "    @staticmethod\n",
    "    def co_ordinators(co_ordinators_list) : \n",
    "        print(co_ordinators_list)"
   ]
  },
  {
   "cell_type": "markdown",
   "id": "2182d05f",
   "metadata": {},
   "source": [
    "## Syntax \n",
    "### my_class.my_static_method()"
   ]
  },
  {
   "cell_type": "code",
   "execution_count": 13,
   "id": "d50187d7",
   "metadata": {},
   "outputs": [
    {
     "name": "stdout",
     "output_type": "stream",
     "text": [
      "['Roshan', 'Pratheeksha']\n"
     ]
    }
   ],
   "source": [
    "TH.co_ordinators(['Roshan', 'Pratheeksha'])"
   ]
  },
  {
   "cell_type": "markdown",
   "id": "7a642d08",
   "metadata": {},
   "source": [
    "### Static methods are shared among all instances of the class. Any changes made to static methods or data within a static method will be visible to all instances."
   ]
  },
  {
   "cell_type": "code",
   "execution_count": 14,
   "id": "2d3bd423",
   "metadata": {},
   "outputs": [],
   "source": [
    "kv_team = TH()"
   ]
  },
  {
   "cell_type": "code",
   "execution_count": 15,
   "id": "05068842",
   "metadata": {},
   "outputs": [
    {
     "name": "stdout",
     "output_type": "stream",
     "text": [
      "Team lead - Karthik, contact for more information - 9912399222\n"
     ]
    }
   ],
   "source": [
    "kv_team.team_lead('Karthik', '1AM22CS090', 9912399222)"
   ]
  },
  {
   "cell_type": "code",
   "execution_count": 3,
   "id": "69353d19",
   "metadata": {},
   "outputs": [],
   "source": [
    "# Example 2"
   ]
  },
  {
   "cell_type": "code",
   "execution_count": 6,
   "id": "dbf86b14",
   "metadata": {},
   "outputs": [],
   "source": [
    "class data_science :\n",
    "    \n",
    "    def student_details(self, name, mail, contact_num) :\n",
    "        print(f'Student\"s name - {name}, mail - {mail} and contact num - {contact_num}')\n",
    "        \n",
    "    @staticmethod\n",
    "    def mentor_name_list(name_list) :\n",
    "        print(name_list)\n",
    "        \n",
    "    @staticmethod\n",
    "    def mentor_mail_list(mail_list) :\n",
    "        data_science.mentor_name_list(['xyz', 'pqr'])\n",
    "        print(mail_list)\n",
    "        \n",
    "    @classmethod\n",
    "    def mentor_info(cls) :\n",
    "        cls.mentor_mail_list(['xyz@gmail.com', 'pqr@gmail.com'])\n",
    "    \n",
    "    def member_count(self, member_count) :\n",
    "        self.mentor_name_list(['xyz', 'pqr'])\n",
    "        print(member_count)"
   ]
  },
  {
   "cell_type": "code",
   "execution_count": 3,
   "id": "52e7e17e",
   "metadata": {},
   "outputs": [
    {
     "name": "stdout",
     "output_type": "stream",
     "text": [
      "['xyz', 'pqr']\n"
     ]
    }
   ],
   "source": [
    "data_science.mentor_name_list(['xyz', 'pqr'])"
   ]
  },
  {
   "cell_type": "code",
   "execution_count": 4,
   "id": "06c6588b",
   "metadata": {},
   "outputs": [
    {
     "name": "stdout",
     "output_type": "stream",
     "text": [
      "['xyz', 'pqr']\n",
      "['xyz@gmail.com', 'pqr@gmail.com']\n"
     ]
    }
   ],
   "source": [
    "data_science.mentor_mail_list(['xyz@gmail.com', 'pqr@gmail.com'])"
   ]
  },
  {
   "cell_type": "code",
   "execution_count": 5,
   "id": "fab80f46",
   "metadata": {},
   "outputs": [
    {
     "name": "stdout",
     "output_type": "stream",
     "text": [
      "['xyz', 'pqr']\n",
      "['pqr@gmail.com', 'xyz@gmail.com']\n"
     ]
    }
   ],
   "source": [
    "data_science.mentor_info()"
   ]
  },
  {
   "cell_type": "code",
   "execution_count": 7,
   "id": "5d2cbfff",
   "metadata": {},
   "outputs": [],
   "source": [
    "x = data_science()"
   ]
  },
  {
   "cell_type": "code",
   "execution_count": 8,
   "id": "831e8ecc",
   "metadata": {},
   "outputs": [
    {
     "name": "stdout",
     "output_type": "stream",
     "text": [
      "['xyz', 'pqr']\n",
      "345\n"
     ]
    }
   ],
   "source": [
    "x.member_count(345)"
   ]
  },
  {
   "cell_type": "markdown",
   "id": "47af19ec",
   "metadata": {},
   "source": [
    "## NOTE : Static methods can't modify object state or class state as they don't have access to cls or self."
   ]
  },
  {
   "cell_type": "markdown",
   "id": "a93ea848",
   "metadata": {},
   "source": [
    "## Static Method vs Class Methods "
   ]
  },
  {
   "cell_type": "markdown",
   "id": "bde48c02",
   "metadata": {},
   "source": [
    "|            Feature/Aspect              |            Static Methods              |             Class Methods              |\n",
    "|----------------------------------------|----------------------------------------|----------------------------------------|\n",
    "| Decorator Used                         |           '@staticmethod'              |            ''@classmethod'             |\n",
    "| First Argument                         | No implicit first argument ('self' or  | Implicit first argument is 'cls' referr|\n",
    "|                                        | 'cls'. Acts like a regular function.   | -ing to the class itself.              |\n",
    "| Acess Control                          | Cannot access or modify instance state;| Cannot access or modify instance - spec|\n",
    "|                                        | Acts like a utility function.          | -fic state; only has access to 'cls.   |\n",
    "| Invocation                             |Can be called on class or on instance.  |Typically called on the class, but can  |\n",
    "|                                        |                                        | also be called on an instance.         |"
   ]
  },
  {
   "cell_type": "code",
   "execution_count": null,
   "id": "b5262b86",
   "metadata": {},
   "outputs": [],
   "source": []
  }
 ],
 "metadata": {
  "kernelspec": {
   "display_name": "Python 3 (ipykernel)",
   "language": "python",
   "name": "python3"
  },
  "language_info": {
   "codemirror_mode": {
    "name": "ipython",
    "version": 3
   },
   "file_extension": ".py",
   "mimetype": "text/x-python",
   "name": "python",
   "nbconvert_exporter": "python",
   "pygments_lexer": "ipython3",
   "version": "3.9.13"
  }
 },
 "nbformat": 4,
 "nbformat_minor": 5
}
