{
 "cells": [
  {
   "cell_type": "markdown",
   "id": "65f342df",
   "metadata": {},
   "source": [
    "# <span style = \"text-decoration : underline ;\" >Classes</span>\n",
    "\n",
    "### Classes are blueprint/skeleton for creating objects of that class. Each object created from the class is an instance of the class (An instance represents one existence of the class). It is a concrete entity created based on the class, with it's own unique data.\n",
    "\n",
    "### OOP provides a way to structure code by modeling real-world entities as objects, encapsulating data and behavior, promoting code reuse through inheritance, allowing for polymorphic behavior, and simplifying complex behavior through abstraction."
   ]
  },
  {
   "cell_type": "code",
   "execution_count": null,
   "id": "93c1d7bb",
   "metadata": {},
   "outputs": [],
   "source": []
  },
  {
   "cell_type": "markdown",
   "id": "c6ac1d3a",
   "metadata": {},
   "source": [
    "## <span style = \"text-decoration : underline ;\" >Creating a class in Python</span>\n",
    "\n",
    "### Creating a class is as easy as creating a function in Python. In function, we start with the def keyword while class definitions begin with the keyword class.\n",
    "\n",
    "### Following the keyword class, we have the class identifier(i.e. the name of the class we created) and then the : (colon) operator after the class name.\n",
    "\n",
    "### In the next indented lines(statement 1..n) are the members of the class. Also, the variables inside the class are known as attributes. The attributes can be accessed later on in the program using the dot(.) operator."
   ]
  },
  {
   "cell_type": "code",
   "execution_count": 1,
   "id": "dfcadd11",
   "metadata": {},
   "outputs": [
    {
     "data": {
      "text/plain": [
       "'\\nclass ClassName:\\n    # Statement 1\\n    # Statement 2\\n    .\\n    .\\n    # Statement n\\n'"
      ]
     },
     "execution_count": 1,
     "metadata": {},
     "output_type": "execute_result"
    }
   ],
   "source": [
    "'''\n",
    "class ClassName:\n",
    "    # Statement 1\n",
    "    # Statement 2\n",
    "    .\n",
    "    .\n",
    "    # Statement n\n",
    "'''"
   ]
  },
  {
   "cell_type": "markdown",
   "id": "e2cb19bb",
   "metadata": {},
   "source": [
    "## <span style = \"text-decoration : underline ;\" >Atttributes</span>\n",
    "### Attributes are variables that store data. These attributes define the characteristics or properties of the objects defined from a class. Attributes are defined within a class and are accessed using dot notation on instances of that class."
   ]
  },
  {
   "cell_type": "code",
   "execution_count": 1,
   "id": "1e5693e6",
   "metadata": {},
   "outputs": [],
   "source": [
    "# Example 1"
   ]
  },
  {
   "cell_type": "code",
   "execution_count": 2,
   "id": "2f8f780b",
   "metadata": {},
   "outputs": [],
   "source": [
    "class Sample :\n",
    "    \"\"\"A sample class\"\"\""
   ]
  },
  {
   "cell_type": "code",
   "execution_count": 3,
   "id": "d80ec4de",
   "metadata": {},
   "outputs": [
    {
     "data": {
      "text/plain": [
       "__main__.Sample"
      ]
     },
     "execution_count": 3,
     "metadata": {},
     "output_type": "execute_result"
    }
   ],
   "source": [
    "a = Sample()\n",
    "type(a)"
   ]
  },
  {
   "cell_type": "markdown",
   "id": "13823fb8",
   "metadata": {},
   "source": [
    "### \"__main__\" refers to the module where your script is executed. \n",
    "### If you're working in an interactive Python shell or running a script directly, \"__main__\" is the name of the current module.\n",
    "### If you were working in a separate module or imported this class from a different module, you might see a different module name instead of main. "
   ]
  },
  {
   "cell_type": "code",
   "execution_count": null,
   "id": "6adfea80",
   "metadata": {},
   "outputs": [],
   "source": []
  },
  {
   "cell_type": "markdown",
   "id": "d5b8d440",
   "metadata": {},
   "source": [
    "## <span style = \"text-decoration : underline ;\" >Object Instantiation</span>\n",
    "### Assigning a class to a variable is known as object instantiation.\n",
    "\n",
    "### Note: If we change the value of the attribute using the class name, then it would change across all the instances of that class. While if we change the value of an attribute using class instance(object instantiation), it would only change the value of the attribute in that instance only."
   ]
  },
  {
   "cell_type": "code",
   "execution_count": 4,
   "id": "5d90e3e8",
   "metadata": {},
   "outputs": [],
   "source": [
    "class basket :\n",
    "    \n",
    "    apples = 10\n",
    "    oranges = 15\n",
    "    grapes = 25"
   ]
  },
  {
   "cell_type": "code",
   "execution_count": 5,
   "id": "6f3de9fd",
   "metadata": {},
   "outputs": [],
   "source": [
    "apple_count = basket() # Instantiation"
   ]
  },
  {
   "cell_type": "code",
   "execution_count": 6,
   "id": "51e2d0f3",
   "metadata": {},
   "outputs": [
    {
     "data": {
      "text/plain": [
       "10"
      ]
     },
     "execution_count": 6,
     "metadata": {},
     "output_type": "execute_result"
    }
   ],
   "source": [
    "basket.apples"
   ]
  },
  {
   "cell_type": "code",
   "execution_count": 7,
   "id": "bd38b14e",
   "metadata": {},
   "outputs": [
    {
     "data": {
      "text/plain": [
       "10"
      ]
     },
     "execution_count": 7,
     "metadata": {},
     "output_type": "execute_result"
    }
   ],
   "source": [
    "apple_count.apples"
   ]
  },
  {
   "cell_type": "code",
   "execution_count": 8,
   "id": "59440c45",
   "metadata": {},
   "outputs": [],
   "source": [
    "apple_count.apples = 24"
   ]
  },
  {
   "cell_type": "code",
   "execution_count": 9,
   "id": "eae54245",
   "metadata": {},
   "outputs": [
    {
     "data": {
      "text/plain": [
       "24"
      ]
     },
     "execution_count": 9,
     "metadata": {},
     "output_type": "execute_result"
    }
   ],
   "source": [
    "apple_count.apples"
   ]
  },
  {
   "cell_type": "code",
   "execution_count": 10,
   "id": "66879f55",
   "metadata": {},
   "outputs": [
    {
     "data": {
      "text/plain": [
       "10"
      ]
     },
     "execution_count": 10,
     "metadata": {},
     "output_type": "execute_result"
    }
   ],
   "source": [
    "basket.apples"
   ]
  },
  {
   "cell_type": "code",
   "execution_count": 11,
   "id": "2b115200",
   "metadata": {},
   "outputs": [],
   "source": [
    "apple_count2 = basket() # Instantiation"
   ]
  },
  {
   "cell_type": "code",
   "execution_count": 12,
   "id": "7b4c345d",
   "metadata": {},
   "outputs": [
    {
     "data": {
      "text/plain": [
       "10"
      ]
     },
     "execution_count": 12,
     "metadata": {},
     "output_type": "execute_result"
    }
   ],
   "source": [
    "apple_count2.apples"
   ]
  },
  {
   "cell_type": "markdown",
   "id": "c72b1c58",
   "metadata": {},
   "source": [
    "### 'apple_count' is an instance of the class 'basket' and has its own unique state, and retains its state irrespective to the changes made to the class itself.\n",
    "\n",
    "### In other words - Each instance of a class in python maintains its own set of attributes, which can be modified independently of the class itself"
   ]
  },
  {
   "cell_type": "code",
   "execution_count": 13,
   "id": "13207d59",
   "metadata": {},
   "outputs": [
    {
     "data": {
      "text/plain": [
       "24"
      ]
     },
     "execution_count": 13,
     "metadata": {},
     "output_type": "execute_result"
    }
   ],
   "source": [
    "basket.apples = 21\n",
    "apple_count.apples "
   ]
  },
  {
   "cell_type": "code",
   "execution_count": 13,
   "id": "57c4241c",
   "metadata": {},
   "outputs": [
    {
     "data": {
      "text/plain": [
       "21"
      ]
     },
     "execution_count": 13,
     "metadata": {},
     "output_type": "execute_result"
    }
   ],
   "source": [
    "apple_count3 = basket()\n",
    "apple_count3.apples"
   ]
  },
  {
   "cell_type": "markdown",
   "id": "69f146b1",
   "metadata": {},
   "source": [
    "## <span style = \"text-decoration : underline ;\" >Instance Methods</span>\n",
    "### Once we have defined the class attributes, we can even define some functions inside the particular class that can access the class attributes and can add more functionality to the existing code.\n",
    "\n",
    "### These defined functions inside a class are known as methods."
   ]
  },
  {
   "cell_type": "markdown",
   "id": "86f1b1ca",
   "metadata": {},
   "source": [
    "### Note: When we define a method, it must at least pass a single parameter which is generally named as self. It refers to the current instance of the class itself. The purpose of self is to allow the instance methods to access and manipulate the instance's attributes and perform actions specific to that instance. The self parameter acts as a reference to the specific instance that the method is being called on\n",
    "\n",
    "### We can call this parameter by any name, other than self if we want."
   ]
  },
  {
   "cell_type": "code",
   "execution_count": 14,
   "id": "684191a0",
   "metadata": {},
   "outputs": [],
   "source": [
    "class welcome :\n",
    "    \n",
    "    def welcome_msg(self) :\n",
    "        print(\"Hello dear student, welcome to the town\")"
   ]
  },
  {
   "cell_type": "code",
   "execution_count": 15,
   "id": "af567572",
   "metadata": {},
   "outputs": [],
   "source": [
    "kishan = welcome() # Instantiation"
   ]
  },
  {
   "cell_type": "code",
   "execution_count": 16,
   "id": "4026acd2",
   "metadata": {},
   "outputs": [
    {
     "name": "stdout",
     "output_type": "stream",
     "text": [
      "Hello dear student, welcome to the town\n"
     ]
    }
   ],
   "source": [
    "kishan.welcome_msg()"
   ]
  },
  {
   "cell_type": "code",
   "execution_count": 17,
   "id": "e6d6eead",
   "metadata": {},
   "outputs": [],
   "source": [
    "ramu = welcome() # Instantiation"
   ]
  },
  {
   "cell_type": "code",
   "execution_count": 18,
   "id": "23bd91dd",
   "metadata": {},
   "outputs": [
    {
     "name": "stdout",
     "output_type": "stream",
     "text": [
      "Hello dear student, welcome to the town\n"
     ]
    }
   ],
   "source": [
    "ramu.welcome_msg()"
   ]
  },
  {
   "cell_type": "markdown",
   "id": "7b42e64f",
   "metadata": {},
   "source": [
    "### NOTE : Without 'self' parameter the class wouldn't know which instance's attributes or methods to operate on. 'self' parameter ensures that each instance can manage its own data independently."
   ]
  },
  {
   "cell_type": "markdown",
   "id": "9c480217",
   "metadata": {},
   "source": [
    "## <span style = \"text-decoration : underline ;\" >Instance Attributes (_init_method) in Python:</span>\n",
    "### __init__ is a special method(also known as the constructor method) that is automatically called when you create an instance of a class. It is used to initialise the attributes of the class when an object of that class is created."
   ]
  },
  {
   "cell_type": "code",
   "execution_count": 19,
   "id": "980d3c4e",
   "metadata": {},
   "outputs": [],
   "source": [
    "class stud_info :\n",
    "    \n",
    "    def __init__(self, phone_num, mail_id, stud_id) :\n",
    "        \n",
    "        self.phone_num = phone_num\n",
    "        self.mail_id = mail_id\n",
    "        self.stud_id = stud_id\n",
    "        \n",
    "    def display_stud_info(self) :\n",
    "        \n",
    "        return self.stud_id, self.phone_num, self.mail_id"
   ]
  },
  {
   "cell_type": "code",
   "execution_count": 20,
   "id": "d11d6816",
   "metadata": {},
   "outputs": [
    {
     "ename": "TypeError",
     "evalue": "__init__() missing 3 required positional arguments: 'phone_num', 'mail_id', and 'stud_id'",
     "output_type": "error",
     "traceback": [
      "\u001b[1;31m---------------------------------------------------------------------------\u001b[0m",
      "\u001b[1;31mTypeError\u001b[0m                                 Traceback (most recent call last)",
      "\u001b[1;32m~\\AppData\\Local\\Temp\\ipykernel_15496\\350156244.py\u001b[0m in \u001b[0;36m<module>\u001b[1;34m\u001b[0m\n\u001b[1;32m----> 1\u001b[1;33m \u001b[0mkarthik\u001b[0m \u001b[1;33m=\u001b[0m \u001b[0mstud_info\u001b[0m\u001b[1;33m(\u001b[0m\u001b[1;33m)\u001b[0m \u001b[1;31m# Instantiation\u001b[0m\u001b[1;33m\u001b[0m\u001b[1;33m\u001b[0m\u001b[0m\n\u001b[0m",
      "\u001b[1;31mTypeError\u001b[0m: __init__() missing 3 required positional arguments: 'phone_num', 'mail_id', and 'stud_id'"
     ]
    }
   ],
   "source": [
    "karthik = stud_info() # Instantiation"
   ]
  },
  {
   "cell_type": "code",
   "execution_count": 21,
   "id": "e755042f",
   "metadata": {},
   "outputs": [],
   "source": [
    "karthik = stud_info(1946561114, 'karth@gmail.com', '1AM22CS090') # Instantiation"
   ]
  },
  {
   "cell_type": "code",
   "execution_count": 22,
   "id": "ea7f1917",
   "metadata": {},
   "outputs": [
    {
     "data": {
      "text/plain": [
       "'1AM22CS090'"
      ]
     },
     "execution_count": 22,
     "metadata": {},
     "output_type": "execute_result"
    }
   ],
   "source": [
    "karthik.stud_id"
   ]
  },
  {
   "cell_type": "code",
   "execution_count": 23,
   "id": "a40202eb",
   "metadata": {},
   "outputs": [
    {
     "data": {
      "text/plain": [
       "('1AM22CS090', 1946561114, 'karth@gmail.com')"
      ]
     },
     "execution_count": 23,
     "metadata": {},
     "output_type": "execute_result"
    }
   ],
   "source": [
    "karthik.display_stud_info()"
   ]
  },
  {
   "cell_type": "code",
   "execution_count": 24,
   "id": "f57a302c",
   "metadata": {},
   "outputs": [
    {
     "data": {
      "text/plain": [
       "'karth@gmail.com'"
      ]
     },
     "execution_count": 24,
     "metadata": {},
     "output_type": "execute_result"
    }
   ],
   "source": [
    "karthik.mail_id"
   ]
  },
  {
   "cell_type": "code",
   "execution_count": 25,
   "id": "1187cfcf",
   "metadata": {},
   "outputs": [
    {
     "data": {
      "text/plain": [
       "1946561114"
      ]
     },
     "execution_count": 25,
     "metadata": {},
     "output_type": "execute_result"
    }
   ],
   "source": [
    "karthik.phone_num"
   ]
  },
  {
   "cell_type": "code",
   "execution_count": null,
   "id": "332136cd",
   "metadata": {},
   "outputs": [],
   "source": []
  },
  {
   "cell_type": "markdown",
   "id": "95753103",
   "metadata": {},
   "source": [
    "### Whether you explicitly define an '__init__' method or not, it will still be called when you create an instance of the class."
   ]
  },
  {
   "cell_type": "markdown",
   "id": "4f3f2567",
   "metadata": {},
   "source": [
    "## <span style = \"text-decoration : underline ;\" >Dynamic Attribute assignment</span>\n",
    "### In python, dynamic attribute assignment refers to the ability to add new attributes(variables) to an object or class at runtime. This means you can assign values to attributes that were not defined when the object or class was initially created."
   ]
  },
  {
   "cell_type": "code",
   "execution_count": 6,
   "id": "7addf228",
   "metadata": {},
   "outputs": [],
   "source": [
    "class Person :\n",
    "    \"\"\"Class Person to demonstrate Dynamic attribute assignment\"\"\""
   ]
  },
  {
   "cell_type": "code",
   "execution_count": 8,
   "id": "5e45d0f1",
   "metadata": {},
   "outputs": [],
   "source": [
    "emily = Person()"
   ]
  },
  {
   "cell_type": "code",
   "execution_count": 11,
   "id": "8c64034c",
   "metadata": {},
   "outputs": [],
   "source": [
    "emily.name = \"Emily frith\"\n",
    "emily.age = 22\n",
    "emily.job = 'Lawyer'"
   ]
  },
  {
   "cell_type": "code",
   "execution_count": 12,
   "id": "958b1e3c",
   "metadata": {},
   "outputs": [],
   "source": [
    "dan = Person()"
   ]
  },
  {
   "cell_type": "code",
   "execution_count": 13,
   "id": "3ec56cf9",
   "metadata": {},
   "outputs": [],
   "source": [
    "dan.name = 'Danielle'\n",
    "dan.education = 'B.Tech'"
   ]
  },
  {
   "cell_type": "markdown",
   "id": "07560673",
   "metadata": {},
   "source": [
    "### Dynamic attribute assignment allows one object of a class to have a different set of attributes compared to another object of the same class."
   ]
  },
  {
   "cell_type": "code",
   "execution_count": null,
   "id": "bb3655be",
   "metadata": {},
   "outputs": [],
   "source": []
  },
  {
   "cell_type": "markdown",
   "id": "9ec6a0b7",
   "metadata": {},
   "source": [
    "## i) Creating a class Point representing 2-D objects"
   ]
  },
  {
   "cell_type": "code",
   "execution_count": 23,
   "id": "9275b01b",
   "metadata": {},
   "outputs": [],
   "source": [
    "class Point :\n",
    "    \n",
    "    \"\"\"Represents entities in 2-D space\"\"\"\n",
    "    \n",
    "    def __init__(self, x, y) :\n",
    "        self.x = x\n",
    "        self.y = y\n",
    "    \n",
    "    def __str__(self) :\n",
    "        return '(%g , %g)' %(self.x, self.y)"
   ]
  },
  {
   "cell_type": "code",
   "execution_count": 21,
   "id": "a6a8e09b",
   "metadata": {},
   "outputs": [],
   "source": [
    "origin = Point(0, 0)"
   ]
  },
  {
   "cell_type": "code",
   "execution_count": 22,
   "id": "f94ecc9d",
   "metadata": {},
   "outputs": [
    {
     "name": "stdout",
     "output_type": "stream",
     "text": [
      "(0 , 0)\n"
     ]
    }
   ],
   "source": [
    "print(origin)"
   ]
  },
  {
   "cell_type": "code",
   "execution_count": null,
   "id": "c265d347",
   "metadata": {},
   "outputs": [],
   "source": []
  },
  {
   "cell_type": "markdown",
   "id": "baf4f05b",
   "metadata": {},
   "source": [
    "## ii) Creating a class Rectangle, with attributes - width, height, corner"
   ]
  },
  {
   "cell_type": "code",
   "execution_count": 58,
   "id": "2c4527d3",
   "metadata": {},
   "outputs": [],
   "source": [
    "class Rectangle :\n",
    "     \n",
    "    \"\"\"Represents a Rectangle, attributes being width, height and corner\"\"\"\n",
    "    \n",
    "    def __init__(self, width, height) :\n",
    "        self.width = width\n",
    "        self.height = height\n",
    "        self.corner = Point(0, 0)\n",
    "        \n",
    "    def grow_rectangle(self, devWidth, devHeight) :\n",
    "        self.width += devWidth\n",
    "        self.height += devHeight\n",
    "        \n",
    "    def find_center(self) :\n",
    "        self.center = Point((self.corner.x + self.width / 2) , (self.corner.y + self.height / 2))\n",
    "        print(self.center) \n",
    "        \n",
    "    def __str__(self) :\n",
    "        return f'Width : {self.width}\\nHeight : {self.height}\\nCorner : {str(self.corner)}'"
   ]
  },
  {
   "cell_type": "code",
   "execution_count": 59,
   "id": "dc398704",
   "metadata": {},
   "outputs": [
    {
     "name": "stdout",
     "output_type": "stream",
     "text": [
      "Width : 100\n",
      "Height : 200\n",
      "Corner : (0 , 0)\n"
     ]
    }
   ],
   "source": [
    "box = Rectangle(100, 200)\n",
    "print(box)"
   ]
  },
  {
   "cell_type": "code",
   "execution_count": 60,
   "id": "ee5004af",
   "metadata": {
    "scrolled": true
   },
   "outputs": [
    {
     "name": "stdout",
     "output_type": "stream",
     "text": [
      "(50 , 100)\n"
     ]
    }
   ],
   "source": [
    "box.find_center()"
   ]
  },
  {
   "cell_type": "code",
   "execution_count": 61,
   "id": "5c2838f2",
   "metadata": {},
   "outputs": [
    {
     "name": "stdout",
     "output_type": "stream",
     "text": [
      "Width : 150\n",
      "Height : 300\n",
      "Corner : (0 , 0)\n"
     ]
    }
   ],
   "source": [
    "box.grow_rectangle(50, 100)\n",
    "print(box)"
   ]
  },
  {
   "cell_type": "markdown",
   "id": "543d5e3a",
   "metadata": {},
   "source": [
    "### 1. \"__init__\" is the constructor method that initialises the attributes of the rectangle.\n",
    "### 2. Here, 'self.corner' is an instance of the 'Point' class, which means it's an object with attributes 'x' and 'y'.\n",
    "### 3. 'grow_rectangle(self, devWidth, devHeight)'  takes 3 arguments, the name of the object itself is passed as the first argument ('self') and the other 2 arguments are the values that represent by how much the rectangle must be developed.\n",
    "### 4. 'find_center(self)' is a method that calculates and prints the center of the rectangle. It uses co-ordinates of the corner point, and the dimensions of the rectangle to find the center."
   ]
  },
  {
   "cell_type": "code",
   "execution_count": null,
   "id": "a62dddcc",
   "metadata": {},
   "outputs": [],
   "source": []
  },
  {
   "cell_type": "markdown",
   "id": "cf4e8e84",
   "metadata": {},
   "source": [
    "## iii) Creating a class Time that represents the time of the day!"
   ]
  },
  {
   "cell_type": "code",
   "execution_count": 1,
   "id": "523413cd",
   "metadata": {},
   "outputs": [],
   "source": [
    "class Time :\n",
    "    \n",
    "    \"\"\"Represents the time of day, attributes : hour, minute, second\"\"\"\n",
    "    \n",
    "    def __init__(self, hour = 0, minute = 0, second = 0) :\n",
    "        self.hour = hour\n",
    "        self.minute = minute\n",
    "        self.second = second\n",
    "        \n",
    "    def total_seconds(self) :\n",
    "        print(self.hour * 3600 + self.minute * 60 + self.second)\n",
    "    \n",
    "    @staticmethod\n",
    "    def int_to_time(seconds) :\n",
    "        hours, remainder = divmod(seconds, 3600)\n",
    "        minutes, seconds = divmod(remainder, 60)\n",
    "        print(Time(hours, minutes, seconds))\n",
    "    \n",
    "    def time_to_int(self) :\n",
    "        minutes = self.hour * 60 + self.minute\n",
    "        seconds = minutes * 60 + self.second\n",
    "        print(f'{seconds} seconds')\n",
    "        \n",
    "    def increment_time(self, seconds) :\n",
    "        self.second += seconds\n",
    "        \n",
    "        while self.second >= 60 :\n",
    "            self.second -= 60\n",
    "            self.minute += 1\n",
    "        while self.minute >= 60 :\n",
    "            self.minute -= 60\n",
    "            self.hour += 1\n",
    "            \n",
    "    def __add__(self, other) :\n",
    "        \n",
    "        sum_res = Time(0, 0, 0)\n",
    "        sum_res.hour = self.hour + other.hour\n",
    "        sum_res.minute = self.minute + other.minute\n",
    "        sum_res.second = self.second + other.second\n",
    "        \n",
    "        if sum_res.second >= 60 :\n",
    "            sum_res.second -= 60\n",
    "            sum_res.minute += 1\n",
    "        if sum_res.minute >= 60 :\n",
    "            sum_res.minute -= 60\n",
    "            sum_res.hour += 1\n",
    "        print(sum_res)\n",
    "        \n",
    "        \"\"\" #or \n",
    "        total_seconds = self.total_seconds() + other.total_seconds()\n",
    "        print(Time.int_to_time(total_seconds))\"\"\"\n",
    "    \n",
    "    def __str__(self) :\n",
    "        return f'{self.hour} : {self.minute} : {self.second}'"
   ]
  },
  {
   "cell_type": "markdown",
   "id": "b6fb1daa",
   "metadata": {},
   "source": [
    "### A static method in python is a method that belongs to the class rather than to any specific instance. This means it can be called on the class itself rather than on an instance of the class. Static methods are defined using the '@staticmethod' decorator. They don't have access to instance-specific attributes or methods and don't require the 'self' parameter.\n",
    "\n",
    "### By making it a static method. It indicates that it's a utility function that's related to the 'Time' class as a whole, rather than being specific to instance of that class."
   ]
  },
  {
   "cell_type": "code",
   "execution_count": 2,
   "id": "3d5c01d3",
   "metadata": {},
   "outputs": [
    {
     "name": "stdout",
     "output_type": "stream",
     "text": [
      "16 : 21 : 0\n"
     ]
    }
   ],
   "source": [
    "time_rn = Time(16, 21, 0)\n",
    "print(time_rn)"
   ]
  },
  {
   "cell_type": "code",
   "execution_count": 3,
   "id": "86475758",
   "metadata": {},
   "outputs": [],
   "source": [
    "movie_time = Time(1, 46, 20)"
   ]
  },
  {
   "cell_type": "code",
   "execution_count": 4,
   "id": "5d0857e5",
   "metadata": {},
   "outputs": [
    {
     "name": "stdout",
     "output_type": "stream",
     "text": [
      "18 : 7 : 20\n"
     ]
    }
   ],
   "source": [
    "time_rn + movie_time"
   ]
  },
  {
   "cell_type": "code",
   "execution_count": 5,
   "id": "8bc88030",
   "metadata": {},
   "outputs": [
    {
     "name": "stdout",
     "output_type": "stream",
     "text": [
      "58860 seconds\n"
     ]
    }
   ],
   "source": [
    "time_rn.time_to_int()"
   ]
  },
  {
   "cell_type": "code",
   "execution_count": 6,
   "id": "83e67942",
   "metadata": {},
   "outputs": [
    {
     "name": "stdout",
     "output_type": "stream",
     "text": [
      "16 : 21 : 0\n"
     ]
    }
   ],
   "source": [
    "Time.int_to_time(58860)"
   ]
  },
  {
   "cell_type": "code",
   "execution_count": 101,
   "id": "7e998740",
   "metadata": {},
   "outputs": [
    {
     "name": "stdout",
     "output_type": "stream",
     "text": [
      "1 : 0 : 0\n"
     ]
    }
   ],
   "source": [
    "Time.int_to_time(3600)"
   ]
  },
  {
   "cell_type": "code",
   "execution_count": null,
   "id": "18e1f4e8",
   "metadata": {},
   "outputs": [],
   "source": []
  }
 ],
 "metadata": {
  "kernelspec": {
   "display_name": "Python 3 (ipykernel)",
   "language": "python",
   "name": "python3"
  },
  "language_info": {
   "codemirror_mode": {
    "name": "ipython",
    "version": 3
   },
   "file_extension": ".py",
   "mimetype": "text/x-python",
   "name": "python",
   "nbconvert_exporter": "python",
   "pygments_lexer": "ipython3",
   "version": "3.9.13"
  }
 },
 "nbformat": 4,
 "nbformat_minor": 5
}
