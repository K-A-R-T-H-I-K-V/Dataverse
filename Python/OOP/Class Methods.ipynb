{
 "cells": [
  {
   "cell_type": "markdown",
   "id": "55702240",
   "metadata": {},
   "source": [
    "## <span style = \"text-decoration : underline ;\" >Class Methods</span>\n",
    "\n",
    "### Class methods in Python are special methods that are bound to the class rather than instances of the class. This means it can't modify object-specific state, but it can modify class-level state. Class methods can access class variables and methods.\n",
    "\n",
    "### They are defined using the '@classmethod' decorator and have access to the class itself as the first parameter, conventionally named 'cls'."
   ]
  },
  {
   "cell_type": "code",
   "execution_count": 2,
   "id": "960225c8",
   "metadata": {},
   "outputs": [],
   "source": [
    "class AMCEC:\n",
    "    course = 'CSE'\n",
    "\n",
    "    def purchase(obj):\n",
    "        print(\"Purchase course : \", obj.course)"
   ]
  },
  {
   "cell_type": "code",
   "execution_count": 3,
   "id": "e7039ef4",
   "metadata": {},
   "outputs": [
    {
     "name": "stdout",
     "output_type": "stream",
     "text": [
      "Purchase course :  CSE\n"
     ]
    }
   ],
   "source": [
    "AMCEC.purchase = classmethod(AMCEC.purchase)\n",
    "AMCEC.purchase()"
   ]
  },
  {
   "cell_type": "markdown",
   "id": "4fc04341",
   "metadata": {},
   "source": [
    "### A class named “AMCEC” is created, with a member variable “course” and a function named “purchase” which prints the object. Now, we passed the method AMCEC.purchase into a class method() function, which converts the method to a class method. With the class method in place, we can call the function “purchase” without creating a function object, directly using the class name “AMCEC\"."
   ]
  },
  {
   "cell_type": "code",
   "execution_count": null,
   "id": "5f838855",
   "metadata": {},
   "outputs": [],
   "source": []
  },
  {
   "cell_type": "code",
   "execution_count": 4,
   "id": "3cc21cc6",
   "metadata": {},
   "outputs": [],
   "source": [
    "# Example"
   ]
  },
  {
   "cell_type": "code",
   "execution_count": 5,
   "id": "bb02b084",
   "metadata": {},
   "outputs": [],
   "source": [
    "class Student :\n",
    "    \n",
    "    total_students = 0\n",
    "    \n",
    "    def __init__(self, name, usn) :\n",
    "        self.name = name\n",
    "        self.usn = usn\n",
    "        Student.total_students += 1\n",
    "    \n",
    "    def __str__(self) : \n",
    "        return f\"Student's name is {self.name}, and USN is {self.usn}\"\n",
    "    \n",
    "    @classmethod\n",
    "    def display_total_students(cls) : # the class itself passed implicitly as first argument\n",
    "        print(f\"Total Students : {cls.total_students}\")"
   ]
  },
  {
   "cell_type": "code",
   "execution_count": 8,
   "id": "62caea00",
   "metadata": {},
   "outputs": [],
   "source": [
    "stud1 = Student('Karthik', 90) # instantiation"
   ]
  },
  {
   "cell_type": "code",
   "execution_count": 9,
   "id": "871437bb",
   "metadata": {},
   "outputs": [
    {
     "data": {
      "text/plain": [
       "'Karthik'"
      ]
     },
     "execution_count": 9,
     "metadata": {},
     "output_type": "execute_result"
    }
   ],
   "source": [
    "stud1.name "
   ]
  },
  {
   "cell_type": "code",
   "execution_count": 10,
   "id": "aaa66d28",
   "metadata": {},
   "outputs": [
    {
     "data": {
      "text/plain": [
       "90"
      ]
     },
     "execution_count": 10,
     "metadata": {},
     "output_type": "execute_result"
    }
   ],
   "source": [
    "stud1.usn"
   ]
  },
  {
   "cell_type": "code",
   "execution_count": 11,
   "id": "f0e3bf3e",
   "metadata": {},
   "outputs": [
    {
     "name": "stdout",
     "output_type": "stream",
     "text": [
      "Total Students : 1\n"
     ]
    }
   ],
   "source": [
    "Student.display_total_students()"
   ]
  },
  {
   "cell_type": "markdown",
   "id": "bb995cd5",
   "metadata": {},
   "source": [
    "### The '__str__' method is a special method that provides a string representation of a object.\n",
    "### It allows you to define how an object should be converted to a string when the 'str()' function or 'print() function is called on the object'."
   ]
  },
  {
   "cell_type": "code",
   "execution_count": 12,
   "id": "dde43729",
   "metadata": {},
   "outputs": [
    {
     "name": "stdout",
     "output_type": "stream",
     "text": [
      "Student's name is Karthik, and USN is 90\n"
     ]
    }
   ],
   "source": [
    "print(stud1)"
   ]
  },
  {
   "cell_type": "code",
   "execution_count": 13,
   "id": "8e4d43aa",
   "metadata": {},
   "outputs": [
    {
     "data": {
      "text/plain": [
       "\"Student's name is Karthik, and USN is 90\""
      ]
     },
     "execution_count": 13,
     "metadata": {},
     "output_type": "execute_result"
    }
   ],
   "source": [
    "str(stud1)"
   ]
  },
  {
   "cell_type": "code",
   "execution_count": 14,
   "id": "f7aa3a5d",
   "metadata": {},
   "outputs": [
    {
     "name": "stdout",
     "output_type": "stream",
     "text": [
      "Total Students : 1\n"
     ]
    }
   ],
   "source": [
    "stud1.display_total_students()"
   ]
  },
  {
   "cell_type": "code",
   "execution_count": 17,
   "id": "5dd2522f",
   "metadata": {},
   "outputs": [],
   "source": [
    "stud2 = Student('Moana','1AM22CS098') # instantiation"
   ]
  },
  {
   "cell_type": "code",
   "execution_count": 18,
   "id": "bab324b2",
   "metadata": {},
   "outputs": [
    {
     "data": {
      "text/plain": [
       "'Moana'"
      ]
     },
     "execution_count": 18,
     "metadata": {},
     "output_type": "execute_result"
    }
   ],
   "source": [
    "stud2.name"
   ]
  },
  {
   "cell_type": "code",
   "execution_count": 19,
   "id": "3bdca533",
   "metadata": {},
   "outputs": [
    {
     "data": {
      "text/plain": [
       "'1AM22CS098'"
      ]
     },
     "execution_count": 19,
     "metadata": {},
     "output_type": "execute_result"
    }
   ],
   "source": [
    "stud2.usn"
   ]
  },
  {
   "cell_type": "code",
   "execution_count": 20,
   "id": "219ac622",
   "metadata": {},
   "outputs": [
    {
     "data": {
      "text/plain": [
       "__main__.Student"
      ]
     },
     "execution_count": 20,
     "metadata": {},
     "output_type": "execute_result"
    }
   ],
   "source": [
    "type(stud2)"
   ]
  },
  {
   "cell_type": "markdown",
   "id": "039f244c",
   "metadata": {},
   "source": [
    "### Class methods can be accessed both using the class name and instance of the class. When you call a class method using the class name, the method receives the class itself as the first argument ('cls'). When you call a class method using an instance, the method still receives the class as the first argument ('cls')\n",
    "\n",
    "### Class attributes can be accessed using both the class name and instances of the class. The distinction between class attributes and instance attributes\n",
    "\n",
    "### 1. Class Attributes : Defined at the class level, shared among all instances of the class, accessed using class name or an instance\n",
    "### 2. Instance Attributes : Defines within the instance methods or the constructor ('__init__' method), specific to each instance of the class, accessed using the instance"
   ]
  },
  {
   "cell_type": "code",
   "execution_count": 21,
   "id": "6c0446f7",
   "metadata": {},
   "outputs": [
    {
     "name": "stdout",
     "output_type": "stream",
     "text": [
      "Total Students : 2\n"
     ]
    }
   ],
   "source": [
    "stud2.display_total_students()"
   ]
  },
  {
   "cell_type": "code",
   "execution_count": 22,
   "id": "35aefbe7",
   "metadata": {},
   "outputs": [
    {
     "name": "stdout",
     "output_type": "stream",
     "text": [
      "Total Students : 2\n"
     ]
    }
   ],
   "source": [
    "Student.display_total_students()"
   ]
  },
  {
   "cell_type": "code",
   "execution_count": 23,
   "id": "eff7b0e7",
   "metadata": {},
   "outputs": [
    {
     "data": {
      "text/plain": [
       "2"
      ]
     },
     "execution_count": 23,
     "metadata": {},
     "output_type": "execute_result"
    }
   ],
   "source": [
    "stud2.total_students"
   ]
  },
  {
   "cell_type": "code",
   "execution_count": 24,
   "id": "499206c9",
   "metadata": {},
   "outputs": [
    {
     "data": {
      "text/plain": [
       "2"
      ]
     },
     "execution_count": 24,
     "metadata": {},
     "output_type": "execute_result"
    }
   ],
   "source": [
    "Student.total_students"
   ]
  },
  {
   "cell_type": "markdown",
   "id": "f16e2202",
   "metadata": {},
   "source": [
    "## More examples"
   ]
  },
  {
   "cell_type": "code",
   "execution_count": 2,
   "id": "6cb04d4b",
   "metadata": {},
   "outputs": [],
   "source": [
    "class singers_sing :\n",
    "    \n",
    "    co_ordinator_num = 9912399234  # class attribute or class level attribute\n",
    "    \n",
    "    def __init__(self, lead_name, song_name) : # __init__ method to take input \n",
    "        self.lead_name = lead_name\n",
    "        self.song_name = song_name\n",
    "        \n",
    "    @classmethod\n",
    "    def singer_info(cls, lead_name, song_name) :\n",
    "        return cls(lead_name, song_name)\n",
    "    \n",
    "    def print_singer_info(self) :\n",
    "        print(f\"{self.lead_name} will be singing {self.song_name} !!! For more info contact {self.co_ordinator_num}\")\n",
    "        \n",
    "    @classmethod\n",
    "    def num_change(cls, new_num) : # class method to change number\n",
    "        singers_sing.co_ordinator_num = new_num "
   ]
  },
  {
   "cell_type": "markdown",
   "id": "8c9d59be",
   "metadata": {},
   "source": [
    "### Way 1 : The '__init__' method is the constructor of the class and is automatically called when you create an instance of the class. It initializes the instance attributes of the object."
   ]
  },
  {
   "cell_type": "code",
   "execution_count": 3,
   "id": "a5aea082",
   "metadata": {},
   "outputs": [],
   "source": [
    "team_1 = singers_sing('Alan Walker', 'Fade Away')"
   ]
  },
  {
   "cell_type": "code",
   "execution_count": 4,
   "id": "d2cbeb84",
   "metadata": {},
   "outputs": [
    {
     "data": {
      "text/plain": [
       "'Alan Walker'"
      ]
     },
     "execution_count": 4,
     "metadata": {},
     "output_type": "execute_result"
    }
   ],
   "source": [
    "team_1.lead_name"
   ]
  },
  {
   "cell_type": "code",
   "execution_count": 5,
   "id": "def30aac",
   "metadata": {},
   "outputs": [],
   "source": [
    "team_1.co_ordinator_num = 9962399444"
   ]
  },
  {
   "cell_type": "code",
   "execution_count": 6,
   "id": "cda9b380",
   "metadata": {},
   "outputs": [
    {
     "data": {
      "text/plain": [
       "9962399444"
      ]
     },
     "execution_count": 6,
     "metadata": {},
     "output_type": "execute_result"
    }
   ],
   "source": [
    "team_1.co_ordinator_num"
   ]
  },
  {
   "cell_type": "code",
   "execution_count": 7,
   "id": "08b2a8c6",
   "metadata": {},
   "outputs": [
    {
     "data": {
      "text/plain": [
       "9912399234"
      ]
     },
     "execution_count": 7,
     "metadata": {},
     "output_type": "execute_result"
    }
   ],
   "source": [
    "singers_sing.co_ordinator_num "
   ]
  },
  {
   "cell_type": "code",
   "execution_count": 8,
   "id": "b92d6a8e",
   "metadata": {},
   "outputs": [
    {
     "name": "stdout",
     "output_type": "stream",
     "text": [
      "Alan Walker will be singing Fade Away !!! For more info contact 9962399444\n"
     ]
    }
   ],
   "source": [
    "team_1.print_singer_info()"
   ]
  },
  {
   "cell_type": "code",
   "execution_count": 9,
   "id": "4c328337",
   "metadata": {},
   "outputs": [
    {
     "data": {
      "text/plain": [
       "'Fade Away'"
      ]
     },
     "execution_count": 9,
     "metadata": {},
     "output_type": "execute_result"
    }
   ],
   "source": [
    "team_1.song_name"
   ]
  },
  {
   "cell_type": "markdown",
   "id": "fb4489f6",
   "metadata": {},
   "source": [
    "### Way 2 - When you call the class method, you still need to create an instance of the class. The difference is that the class method provides an alternative way to create the instance."
   ]
  },
  {
   "cell_type": "code",
   "execution_count": 15,
   "id": "b59d2f53",
   "metadata": {},
   "outputs": [],
   "source": [
    "team_2 = singers_sing.singer_info('Coldplay', 'Hymn For The Weekend')"
   ]
  },
  {
   "cell_type": "code",
   "execution_count": 16,
   "id": "bfe87d90",
   "metadata": {},
   "outputs": [
    {
     "data": {
      "text/plain": [
       "'Coldplay'"
      ]
     },
     "execution_count": 16,
     "metadata": {},
     "output_type": "execute_result"
    }
   ],
   "source": [
    "team_2.lead_name"
   ]
  },
  {
   "cell_type": "code",
   "execution_count": 17,
   "id": "8e785c95",
   "metadata": {},
   "outputs": [
    {
     "name": "stdout",
     "output_type": "stream",
     "text": [
      "Coldplay will be singing Hymn For The Weekend !!! For more info contact 9912399234\n"
     ]
    }
   ],
   "source": [
    "team_2.print_singer_info()"
   ]
  },
  {
   "cell_type": "code",
   "execution_count": 18,
   "id": "8601b8b2",
   "metadata": {},
   "outputs": [
    {
     "data": {
      "text/plain": [
       "'Hymn For The Weekend'"
      ]
     },
     "execution_count": 18,
     "metadata": {},
     "output_type": "execute_result"
    }
   ],
   "source": [
    "team_2.song_name"
   ]
  },
  {
   "cell_type": "code",
   "execution_count": null,
   "id": "69c74011",
   "metadata": {},
   "outputs": [],
   "source": []
  },
  {
   "cell_type": "code",
   "execution_count": 25,
   "id": "2c220bad",
   "metadata": {},
   "outputs": [],
   "source": [
    "# Example"
   ]
  },
  {
   "cell_type": "code",
   "execution_count": 26,
   "id": "42d53491",
   "metadata": {},
   "outputs": [],
   "source": [
    "class Person :\n",
    "    \n",
    "    # constructor\n",
    "    def __init__(self, name, age) :\n",
    "        self.name = name\n",
    "        self.age = age\n",
    "    \n",
    "    def display_info(self) :\n",
    "        print(f\"Name : {self.name}, Age : {self.age}\")\n",
    "        \n",
    "    @classmethod\n",
    "    def create_student(cls, name, age, usn) :\n",
    "        # Factory method for creating Student instances\n",
    "        return cls(name, age, grade)\n",
    "    \n",
    "    @classmethod\n",
    "    def create_teacher(cls, name, age, subject) :\n",
    "        # Factory method for creating Student instances\n",
    "        return cls(name, age, student)"
   ]
  },
  {
   "cell_type": "code",
   "execution_count": null,
   "id": "b7ae222f",
   "metadata": {},
   "outputs": [],
   "source": []
  },
  {
   "cell_type": "markdown",
   "id": "698688d5",
   "metadata": {},
   "source": [
    "## Converting external functions into class methods"
   ]
  },
  {
   "cell_type": "code",
   "execution_count": 57,
   "id": "34b086af",
   "metadata": {},
   "outputs": [
    {
     "data": {
      "text/plain": [
       "'\\nSyntax : class_name.helper_function_name = classmethod(helper_function_name)'"
      ]
     },
     "execution_count": 57,
     "metadata": {},
     "output_type": "execute_result"
    }
   ],
   "source": [
    "'''\n",
    "Syntax : class_name.helper_function_name = classmethod(helper_function_name)'''"
   ]
  },
  {
   "cell_type": "markdown",
   "id": "db650661",
   "metadata": {},
   "source": [
    "### 'helper_function_name' here indicates the name of the function that you want to turn into a class method. By using the 'classmethod' decorator, it indicates that the function should be treated as a class method. "
   ]
  },
  {
   "cell_type": "code",
   "execution_count": 51,
   "id": "de02a8af",
   "metadata": {},
   "outputs": [],
   "source": [
    "class fruit_salad :\n",
    "    \n",
    "    def __init__(self, fruit_1, fruit_2) :\n",
    "        fruit_1 = fruit_1\n",
    "        fruit_2 = fruit_2\n",
    "        \n",
    "    def salad_compo(cls, fruit_1, fruit_2) :\n",
    "        return cls(fruit_1, fruit_2)"
   ]
  },
  {
   "cell_type": "code",
   "execution_count": 64,
   "id": "8653c0d6",
   "metadata": {},
   "outputs": [],
   "source": [
    "def salad_details(cls, salad_name) : # utility or helper function that takes class as its primary argument\n",
    "    print('Salad name is', salad_name)"
   ]
  },
  {
   "cell_type": "code",
   "execution_count": 68,
   "id": "a3cfdac6",
   "metadata": {},
   "outputs": [],
   "source": [
    "def chef(cls, list_of_cooks) :\n",
    "    print(list_of_cooks)"
   ]
  },
  {
   "cell_type": "code",
   "execution_count": 69,
   "id": "2b19d098",
   "metadata": {},
   "outputs": [],
   "source": [
    "fruit_salad.salad_details = classmethod(salad_details)"
   ]
  },
  {
   "cell_type": "code",
   "execution_count": 70,
   "id": "53d3d650",
   "metadata": {},
   "outputs": [
    {
     "name": "stdout",
     "output_type": "stream",
     "text": [
      "Salad name is Rasayan\n"
     ]
    }
   ],
   "source": [
    "fruit_salad.salad_details('Rasayan')"
   ]
  },
  {
   "cell_type": "code",
   "execution_count": 72,
   "id": "b779bdfc",
   "metadata": {},
   "outputs": [],
   "source": [
    "fruit_salad.chef = classmethod(chef)"
   ]
  },
  {
   "cell_type": "code",
   "execution_count": 73,
   "id": "512b35a6",
   "metadata": {},
   "outputs": [
    {
     "name": "stdout",
     "output_type": "stream",
     "text": [
      "['Karthik', 'Roshan']\n"
     ]
    }
   ],
   "source": [
    "fruit_salad.chef(['Karthik', 'Roshan'])"
   ]
  },
  {
   "cell_type": "code",
   "execution_count": null,
   "id": "ead34360",
   "metadata": {},
   "outputs": [],
   "source": []
  },
  {
   "cell_type": "markdown",
   "id": "fa8efc1b",
   "metadata": {},
   "source": [
    "## Deleting methods, attributes from a class"
   ]
  },
  {
   "cell_type": "code",
   "execution_count": 80,
   "id": "a1897c0a",
   "metadata": {},
   "outputs": [],
   "source": [
    "class rectangle:\n",
    "    \n",
    "    shape = 'Rectangle'\n",
    "    \n",
    "    def __init__(self, length, breadth):\n",
    "        self.length = length\n",
    "        self.breadth = breadth\n",
    "\n",
    "    @classmethod\n",
    "    def rectangle_details(cls, length, breadth):\n",
    "        return cls(length, breadth)\n",
    "\n",
    "    def __str__(self):\n",
    "        return f\"Rectangle with dimensions {self.length}x{self.breadth}.\""
   ]
  },
  {
   "cell_type": "code",
   "execution_count": 87,
   "id": "4d12177f",
   "metadata": {},
   "outputs": [],
   "source": [
    "box = rectangle(48, 24)"
   ]
  },
  {
   "cell_type": "code",
   "execution_count": 88,
   "id": "2242f9cd",
   "metadata": {},
   "outputs": [
    {
     "data": {
      "text/plain": [
       "24"
      ]
     },
     "execution_count": 88,
     "metadata": {},
     "output_type": "execute_result"
    }
   ],
   "source": [
    "box.breadth"
   ]
  },
  {
   "cell_type": "code",
   "execution_count": 89,
   "id": "0c98cfa1",
   "metadata": {},
   "outputs": [
    {
     "data": {
      "text/plain": [
       "48"
      ]
     },
     "execution_count": 89,
     "metadata": {},
     "output_type": "execute_result"
    }
   ],
   "source": [
    "box.length"
   ]
  },
  {
   "cell_type": "code",
   "execution_count": 90,
   "id": "ffecff55",
   "metadata": {},
   "outputs": [
    {
     "data": {
      "text/plain": [
       "'Rectangle with dimensions 48x24.'"
      ]
     },
     "execution_count": 90,
     "metadata": {},
     "output_type": "execute_result"
    }
   ],
   "source": [
    "str(box)"
   ]
  },
  {
   "cell_type": "code",
   "execution_count": 91,
   "id": "4cc2fb23",
   "metadata": {},
   "outputs": [],
   "source": [
    "black_board = rectangle.rectangle_details(50, 32)"
   ]
  },
  {
   "cell_type": "code",
   "execution_count": 92,
   "id": "cf0542a7",
   "metadata": {},
   "outputs": [
    {
     "data": {
      "text/plain": [
       "32"
      ]
     },
     "execution_count": 92,
     "metadata": {},
     "output_type": "execute_result"
    }
   ],
   "source": [
    "black_board.breadth"
   ]
  },
  {
   "cell_type": "code",
   "execution_count": 93,
   "id": "5003e5c9",
   "metadata": {},
   "outputs": [
    {
     "data": {
      "text/plain": [
       "'Rectangle'"
      ]
     },
     "execution_count": 93,
     "metadata": {},
     "output_type": "execute_result"
    }
   ],
   "source": [
    "black_board.shape"
   ]
  },
  {
   "cell_type": "code",
   "execution_count": 94,
   "id": "37955f11",
   "metadata": {},
   "outputs": [
    {
     "data": {
      "text/plain": [
       "'Rectangle'"
      ]
     },
     "execution_count": 94,
     "metadata": {},
     "output_type": "execute_result"
    }
   ],
   "source": [
    "rectangle.shape"
   ]
  },
  {
   "cell_type": "code",
   "execution_count": 95,
   "id": "945c5ec3",
   "metadata": {},
   "outputs": [],
   "source": [
    "del rectangle.rectangle_details"
   ]
  },
  {
   "cell_type": "code",
   "execution_count": 96,
   "id": "db24f055",
   "metadata": {},
   "outputs": [],
   "source": [
    "delattr(rectangle, 'shape')"
   ]
  },
  {
   "cell_type": "code",
   "execution_count": null,
   "id": "e056a875",
   "metadata": {},
   "outputs": [],
   "source": []
  }
 ],
 "metadata": {
  "kernelspec": {
   "display_name": "Python 3 (ipykernel)",
   "language": "python",
   "name": "python3"
  },
  "language_info": {
   "codemirror_mode": {
    "name": "ipython",
    "version": 3
   },
   "file_extension": ".py",
   "mimetype": "text/x-python",
   "name": "python",
   "nbconvert_exporter": "python",
   "pygments_lexer": "ipython3",
   "version": "3.9.13"
  }
 },
 "nbformat": 4,
 "nbformat_minor": 5
}
