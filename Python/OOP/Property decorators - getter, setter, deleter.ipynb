{
 "cells": [
  {
   "cell_type": "markdown",
   "id": "110b3623",
   "metadata": {},
   "source": [
    "## <span style = \"text-decoration : underline ;\" >Property Decorators</span>"
   ]
  },
  {
   "cell_type": "markdown",
   "id": "c0ec81a1",
   "metadata": {},
   "source": [
    "### Property decorator in python is a built-in function that allows you to define methods as \"getter\", \"setter\", and \"deleter\" for class attributes. It provides a way to customise the access and modification of attributes in a class. There are mainly three methods associated with a property in python:\n",
    "\n",
    "### 1. getter - it is used to access the value of the attribute.\n",
    "### 2. setter - it is used to set the value of the attribute.\n",
    "### 3. deleter - it is used to delete the instance attribute."
   ]
  },
  {
   "cell_type": "code",
   "execution_count": null,
   "id": "f4f51811",
   "metadata": {},
   "outputs": [],
   "source": []
  },
  {
   "cell_type": "code",
   "execution_count": 24,
   "id": "0d0be9c0",
   "metadata": {},
   "outputs": [],
   "source": [
    "## Example 1"
   ]
  },
  {
   "cell_type": "markdown",
   "id": "cf4aea27",
   "metadata": {},
   "source": [
    "### '@property' is a Python decorator that is used to define a method('price' in the example below) as a 'getter' for a class attribute"
   ]
  },
  {
   "cell_type": "code",
   "execution_count": 11,
   "id": "9a54f9ba",
   "metadata": {},
   "outputs": [
    {
     "name": "stdout",
     "output_type": "stream",
     "text": [
      "The price of the course is: 3500\n"
     ]
    }
   ],
   "source": [
    "class Graphic_design:\n",
    "    # Constructor\n",
    "    def __init__(self, course_price, course_duration):\n",
    "        self.__course_price = course_price\n",
    "        self.__course_duration = course_duration\n",
    "    \n",
    "    # Setting the get_price function as a property using the @property decorator.\n",
    "    @property\n",
    "    def price(self):\n",
    "        return self.__course_price\n",
    "\n",
    "batch1 = Graphic_design(3500 , '12 months')\n",
    "print(\"The price of the course is:\", batch1.price)"
   ]
  },
  {
   "cell_type": "code",
   "execution_count": null,
   "id": "df5a4265",
   "metadata": {},
   "outputs": [],
   "source": []
  },
  {
   "cell_type": "code",
   "execution_count": 25,
   "id": "4b558fc0",
   "metadata": {},
   "outputs": [],
   "source": [
    "# Example 2"
   ]
  },
  {
   "cell_type": "markdown",
   "id": "49cb86a8",
   "metadata": {},
   "source": [
    "### The below example defines a class for birds with attributes for species, name, and age. It provides a getter method (bird_name) as a property to access the name attribute. It also provides a setter method to change the name of the bird using the @bird_name.setter decorator. This allows for controlled access and modification of the name attribute"
   ]
  },
  {
   "cell_type": "code",
   "execution_count": 16,
   "id": "c93dbc8c",
   "metadata": {},
   "outputs": [],
   "source": [
    "class Birds:\n",
    "    # Constructor\n",
    "    def __init__(self, species, name, age):\n",
    "        self.species = species\n",
    "        self.name = name\n",
    "        self.age = age\n",
    "\n",
    "    # Setting the bird_name() function as a property using the @property decorator.\n",
    "    @property\n",
    "    def bird_name(self):\n",
    "        return self.name\n",
    "\n",
    "    # Setting the bird_name() as a setter decorator.\n",
    "    @bird_name.setter\n",
    "    def bird_name(self, new_name):\n",
    "        self.name = new_name"
   ]
  },
  {
   "cell_type": "code",
   "execution_count": 20,
   "id": "6d0fe56f",
   "metadata": {},
   "outputs": [
    {
     "name": "stdout",
     "output_type": "stream",
     "text": [
      "The old name of the bird was : Maya\n",
      "The new name of the bird is: Fawkes\n"
     ]
    }
   ],
   "source": [
    "bird1 = Birds('Toucan', \"Maya\", 14)\n",
    "print(\"The old name of the bird was :\", bird1.bird_name)\n",
    "\n",
    "# modifying the name of the bird\n",
    "bird1.bird_name = \"Fawkes\"\n",
    "\n",
    "print(\"The new name of the bird is:\", bird1.bird_name)"
   ]
  },
  {
   "cell_type": "markdown",
   "id": "e82b7a1b",
   "metadata": {},
   "source": [
    "### A setter should always be accompanied by a corresponding getter method to provide the necessary functionality for accessing and modifying the attribute, or in other words, when you define a method as a setter using the @<attribute_name>.setter decorator, the corresponding \"getter\" method should already exist in the class.\n",
    "\n",
    "### If you were to use only the setter without having a corresponding getter, it would not work as intended. The getter is necessary to retrieve the current value of the attribute before applying any modifications with the setter."
   ]
  },
  {
   "cell_type": "code",
   "execution_count": null,
   "id": "a88d7614",
   "metadata": {},
   "outputs": [],
   "source": []
  },
  {
   "cell_type": "code",
   "execution_count": 26,
   "id": "1710428e",
   "metadata": {},
   "outputs": [],
   "source": [
    "# Example 3"
   ]
  },
  {
   "cell_type": "markdown",
   "id": "060cb373",
   "metadata": {},
   "source": [
    "### The example below defines a class for animals with attributes for species, name, and age. It provides a getter method (animal_name) as a property to access the name attribute. It also provides a deleter method using the @animal_name.deleter decorator, which allows you to delete the name attribute from an instance of the class. This gives you controlled access to the attribute, allowing for specific actions when getting or deleting it.\n",
    "\n",
    "### The '@animal_name.deleter' decorator allows you to define a method ('animal_name' in this case) that will be called when you use the 'del' keyword on the corresponding property('animal_name\" in this case)"
   ]
  },
  {
   "cell_type": "code",
   "execution_count": 8,
   "id": "d994bfd4",
   "metadata": {},
   "outputs": [
    {
     "name": "stdout",
     "output_type": "stream",
     "text": [
      "The name of the animal is: Dart\n",
      "Dart is deleted.\n"
     ]
    },
    {
     "ename": "AttributeError",
     "evalue": "'Animals' object has no attribute 'name'",
     "output_type": "error",
     "traceback": [
      "\u001b[1;31m---------------------------------------------------------------------------\u001b[0m",
      "\u001b[1;31mAttributeError\u001b[0m                            Traceback (most recent call last)",
      "\u001b[1;32m~\\AppData\\Local\\Temp\\ipykernel_12432\\1388076568.py\u001b[0m in \u001b[0;36m<module>\u001b[1;34m\u001b[0m\n\u001b[0;32m     22\u001b[0m \u001b[1;32mdel\u001b[0m \u001b[0manimal1\u001b[0m\u001b[1;33m.\u001b[0m\u001b[0manimal_name\u001b[0m \u001b[1;31m#Will delete the 'name' attribute for the specific instance of the class on which 'del' statement is called\u001b[0m\u001b[1;33m\u001b[0m\u001b[1;33m\u001b[0m\u001b[0m\n\u001b[0;32m     23\u001b[0m \u001b[1;33m\u001b[0m\u001b[0m\n\u001b[1;32m---> 24\u001b[1;33m \u001b[0mprint\u001b[0m\u001b[1;33m(\u001b[0m\u001b[1;34m\"The name of the animal is:\"\u001b[0m\u001b[1;33m,\u001b[0m \u001b[0manimal1\u001b[0m\u001b[1;33m.\u001b[0m\u001b[0manimal_name\u001b[0m\u001b[1;33m)\u001b[0m\u001b[1;33m\u001b[0m\u001b[1;33m\u001b[0m\u001b[0m\n\u001b[0m",
      "\u001b[1;32m~\\AppData\\Local\\Temp\\ipykernel_12432\\1388076568.py\u001b[0m in \u001b[0;36manimal_name\u001b[1;34m(self)\u001b[0m\n\u001b[0;32m      9\u001b[0m     \u001b[1;33m@\u001b[0m\u001b[0mproperty\u001b[0m\u001b[1;33m\u001b[0m\u001b[1;33m\u001b[0m\u001b[0m\n\u001b[0;32m     10\u001b[0m     \u001b[1;32mdef\u001b[0m \u001b[0manimal_name\u001b[0m\u001b[1;33m(\u001b[0m\u001b[0mself\u001b[0m\u001b[1;33m)\u001b[0m\u001b[1;33m:\u001b[0m\u001b[1;33m\u001b[0m\u001b[1;33m\u001b[0m\u001b[0m\n\u001b[1;32m---> 11\u001b[1;33m         \u001b[1;32mreturn\u001b[0m \u001b[0mself\u001b[0m\u001b[1;33m.\u001b[0m\u001b[0mname\u001b[0m\u001b[1;33m\u001b[0m\u001b[1;33m\u001b[0m\u001b[0m\n\u001b[0m\u001b[0;32m     12\u001b[0m \u001b[1;33m\u001b[0m\u001b[0m\n\u001b[0;32m     13\u001b[0m     \u001b[1;31m# Setting the animal_name() as a deleter decorator.\u001b[0m\u001b[1;33m\u001b[0m\u001b[1;33m\u001b[0m\u001b[0m\n",
      "\u001b[1;31mAttributeError\u001b[0m: 'Animals' object has no attribute 'name'"
     ]
    }
   ],
   "source": [
    "class Animals:\n",
    "    # Constructor\n",
    "    def __init__(self, species, name, age):\n",
    "        self.species = species\n",
    "        self.name = name\n",
    "        self.age = age\n",
    "        \n",
    "    # Setting the animal_name() function as a property using the @property decorator.\n",
    "    @property\n",
    "    def animal_name(self):\n",
    "        return self.name\n",
    "\n",
    "    # Setting the animal_name() as a deleter decorator.\n",
    "    @animal_name.deleter\n",
    "    def animal_name(self):\n",
    "        print(self.name, \"is deleted.\")\n",
    "        del self.name\n",
    "\n",
    "animal1 = Animals(\"Tiger\", 'Dart', 26)\n",
    "print(\"The name of the animal is:\", animal1.animal_name)\n",
    "\n",
    "del animal1.animal_name #Will delete the 'name' attribute for the specific instance of the class on which 'del' statement is called\n",
    "\n",
    "print(\"The name of the animal is:\", animal1.animal_name)"
   ]
  },
  {
   "cell_type": "markdown",
   "id": "ac05caad",
   "metadata": {},
   "source": [
    "### In practice, it's common to define both a getter and a deleter for an attribute. The getter allows you to retrieve the value, and the deleter provides a controlled way to delete it.\n",
    "### In fact, a deleter can be defined independently without a corresponding getter. However, it's important to note that if you're using a deleter without a corresponding getter, you won't have a way to retrieve the value of the attribute before it's deleted. This means you might lose the information stored in that attribute permanently."
   ]
  },
  {
   "cell_type": "code",
   "execution_count": 27,
   "id": "7f3e4ee4",
   "metadata": {},
   "outputs": [
    {
     "data": {
      "text/plain": [
       "\"The above code can be altered to contain only deleter as follows\\n\\n@property\\ndef animal_name(self) :\\n    pass\\n    \\nThe '@property' decorator is still used for 'animal_name', but the method simply contains 'pass' indicating that it does nothing when accessed.\""
      ]
     },
     "execution_count": 27,
     "metadata": {},
     "output_type": "execute_result"
    }
   ],
   "source": [
    "\"\"\"The above code can be altered to contain only deleter as follows\n",
    "\n",
    "@property\n",
    "def animal_name(self) :\n",
    "    pass\n",
    "    \n",
    "The '@property' decorator is still used for 'animal_name', but the method simply contains 'pass' indicating that it does nothing when accessed.\"\"\""
   ]
  },
  {
   "cell_type": "code",
   "execution_count": null,
   "id": "72516198",
   "metadata": {},
   "outputs": [],
   "source": []
  },
  {
   "cell_type": "markdown",
   "id": "ed015261",
   "metadata": {},
   "source": [
    "## Working\n",
    "\n",
    "### 1. Getter : When you access the property (i.e., 'instance.propert_name'), Python recognises this as a read operation on the property. The getter method, defined using the '@property' decorator is automatically invoked. \n",
    "\n",
    "### 2. Setter : When you assign a value to a property (i.e., 'instance.property_name = value'), Python recognises this as a write operation on the property. The setter method, decorated with '@<property_name>.setter', is called automatically, passing the assigned value as an argument to the setter method.\n",
    "\n",
    "### 3. When you delete the property using the 'del' statement (i.e., 'del instance.property_name'), Python recognises this as a delete operation on the property. The deleter method, decorated with '@<property_name>.deleter', is invoked automatically."
   ]
  },
  {
   "cell_type": "code",
   "execution_count": null,
   "id": "6d490dc4",
   "metadata": {},
   "outputs": [],
   "source": []
  }
 ],
 "metadata": {
  "kernelspec": {
   "display_name": "Python 3 (ipykernel)",
   "language": "python",
   "name": "python3"
  },
  "language_info": {
   "codemirror_mode": {
    "name": "ipython",
    "version": 3
   },
   "file_extension": ".py",
   "mimetype": "text/x-python",
   "name": "python",
   "nbconvert_exporter": "python",
   "pygments_lexer": "ipython3",
   "version": "3.9.13"
  }
 },
 "nbformat": 4,
 "nbformat_minor": 5
}
