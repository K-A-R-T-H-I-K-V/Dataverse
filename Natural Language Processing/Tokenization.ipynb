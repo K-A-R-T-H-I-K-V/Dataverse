{
 "cells": [
  {
   "cell_type": "code",
   "execution_count": 3,
   "id": "d8b52d05-b179-486c-92b2-b468675e7980",
   "metadata": {},
   "outputs": [
    {
     "name": "stdout",
     "output_type": "stream",
     "text": [
      "Requirement already satisfied: nltk in c:\\users\\karth\\anaconda3\\lib\\site-packages (3.8.1)\n",
      "Requirement already satisfied: click in c:\\users\\karth\\anaconda3\\lib\\site-packages (from nltk) (8.1.7)\n",
      "Requirement already satisfied: joblib in c:\\users\\karth\\anaconda3\\lib\\site-packages (from nltk) (1.2.0)\n",
      "Requirement already satisfied: regex>=2021.8.3 in c:\\users\\karth\\anaconda3\\lib\\site-packages (from nltk) (2023.10.3)\n",
      "Requirement already satisfied: tqdm in c:\\users\\karth\\anaconda3\\lib\\site-packages (from nltk) (4.65.0)\n",
      "Requirement already satisfied: colorama in c:\\users\\karth\\anaconda3\\lib\\site-packages (from click->nltk) (0.4.6)\n"
     ]
    }
   ],
   "source": [
    "# NLTK, SpaCy\n",
    "!pip install nltk"
   ]
  },
  {
   "cell_type": "code",
   "execution_count": 13,
   "id": "c9500cfe-3edd-4f38-8bd3-5e9345bd66b7",
   "metadata": {},
   "outputs": [
    {
     "name": "stdout",
     "output_type": "stream",
     "text": [
      "Sometimes, the ony way to attain salvation is to trust your enemies.\n",
      "Discipline is what makes the huge difference! So beware dear friends.\n"
     ]
    }
   ],
   "source": [
    "corpus = \"\"\"Sometimes, the ony way to attain salvation is to trust your enemies.\n",
    "Discipline is what makes the huge difference! So beware dear friends.\"\"\"\n",
    "\n",
    "print(corpus)"
   ]
  },
  {
   "cell_type": "code",
   "execution_count": 21,
   "id": "76bd2d1b-29f9-4d08-8694-5e5d50f252f6",
   "metadata": {},
   "outputs": [
    {
     "name": "stdout",
     "output_type": "stream",
     "text": [
      "['Sometimes, the ony way to attain salvation is to trust your enemies.', 'Discipline is what makes the huge difference!', 'So beware dear friends.']\n"
     ]
    },
    {
     "data": {
      "text/plain": [
       "list"
      ]
     },
     "execution_count": 21,
     "metadata": {},
     "output_type": "execute_result"
    }
   ],
   "source": [
    "# Tokenization\n",
    "# sentence -> paragraphs\n",
    "\n",
    "from nltk.tokenize import sent_tokenize\n",
    "docs = sent_tokenize(corpus)\n",
    "print(docs)\n",
    "\n",
    "type(docs)"
   ]
  },
  {
   "cell_type": "code",
   "execution_count": 24,
   "id": "be6bba6f-4fa9-4cfd-a5c4-ef3aae71d275",
   "metadata": {},
   "outputs": [
    {
     "data": {
      "text/plain": [
       "['Sometimes',\n",
       " ',',\n",
       " 'the',\n",
       " 'ony',\n",
       " 'way',\n",
       " 'to',\n",
       " 'attain',\n",
       " 'salvation',\n",
       " 'is',\n",
       " 'to',\n",
       " 'trust',\n",
       " 'your',\n",
       " 'enemies',\n",
       " '.',\n",
       " 'Discipline',\n",
       " 'is',\n",
       " 'what',\n",
       " 'makes',\n",
       " 'the',\n",
       " 'huge',\n",
       " 'difference',\n",
       " '!',\n",
       " 'So',\n",
       " 'beware',\n",
       " 'dear',\n",
       " 'friends',\n",
       " '.']"
      ]
     },
     "execution_count": 24,
     "metadata": {},
     "output_type": "execute_result"
    }
   ],
   "source": [
    "# Tokenization\n",
    "# paragraph -> words\n",
    "# sentence/document -> words\n",
    "\n",
    "from nltk.tokenize import word_tokenize\n",
    "word_tokenize(corpus)"
   ]
  },
  {
   "cell_type": "code",
   "execution_count": 26,
   "id": "c4d6b5a1-83fb-4e38-883e-8a8adee83030",
   "metadata": {},
   "outputs": [
    {
     "name": "stdout",
     "output_type": "stream",
     "text": [
      "['Sometimes', ',', 'the', 'ony', 'way', 'to', 'attain', 'salvation', 'is', 'to', 'trust', 'your', 'enemies', '.']\n",
      "['Discipline', 'is', 'what', 'makes', 'the', 'huge', 'difference', '!']\n",
      "['So', 'beware', 'dear', 'friends', '.']\n"
     ]
    }
   ],
   "source": [
    "for sentence in docs :\n",
    "    print(word_tokenize(sentence))"
   ]
  },
  {
   "cell_type": "code",
   "execution_count": 28,
   "id": "323a9762-4778-4561-8c75-b753886e3420",
   "metadata": {},
   "outputs": [
    {
     "data": {
      "text/plain": [
       "['Sometimes',\n",
       " ',',\n",
       " 'the',\n",
       " 'ony',\n",
       " 'way',\n",
       " 'to',\n",
       " 'attain',\n",
       " 'salvation',\n",
       " 'is',\n",
       " 'to',\n",
       " 'trust',\n",
       " 'your',\n",
       " 'enemies',\n",
       " '.',\n",
       " 'Discipline',\n",
       " 'is',\n",
       " 'what',\n",
       " 'makes',\n",
       " 'the',\n",
       " 'huge',\n",
       " 'difference',\n",
       " '!',\n",
       " 'So',\n",
       " 'beware',\n",
       " 'dear',\n",
       " 'friends',\n",
       " '.']"
      ]
     },
     "execution_count": 28,
     "metadata": {},
     "output_type": "execute_result"
    }
   ],
   "source": [
    "from nltk.tokenize import wordpunct_tokenize\n",
    "wordpunct_tokenize(corpus)"
   ]
  },
  {
   "cell_type": "code",
   "execution_count": 30,
   "id": "c22b3c0e-14c2-4b00-b044-a57103aa9542",
   "metadata": {},
   "outputs": [
    {
     "data": {
      "text/plain": [
       "['Sometimes',\n",
       " ',',\n",
       " 'the',\n",
       " 'ony',\n",
       " 'way',\n",
       " 'to',\n",
       " 'attain',\n",
       " 'salvation',\n",
       " 'is',\n",
       " 'to',\n",
       " 'trust',\n",
       " 'your',\n",
       " 'enemies.',\n",
       " 'Discipline',\n",
       " 'is',\n",
       " 'what',\n",
       " 'makes',\n",
       " 'the',\n",
       " 'huge',\n",
       " 'difference',\n",
       " '!',\n",
       " 'So',\n",
       " 'beware',\n",
       " 'dear',\n",
       " 'friends',\n",
       " '.']"
      ]
     },
     "execution_count": 30,
     "metadata": {},
     "output_type": "execute_result"
    }
   ],
   "source": [
    "from nltk.tokenize import TreebankWordTokenizer\n",
    "tokenizer = TreebankWordTokenizer()\n",
    "\n",
    "tokenizer.tokenize(corpus)"
   ]
  },
  {
   "cell_type": "code",
   "execution_count": null,
   "id": "b1446f74-64a2-43dd-bfb9-f55f852a852c",
   "metadata": {},
   "outputs": [],
   "source": []
  }
 ],
 "metadata": {
  "kernelspec": {
   "display_name": "Python 3 (ipykernel)",
   "language": "python",
   "name": "python3"
  },
  "language_info": {
   "codemirror_mode": {
    "name": "ipython",
    "version": 3
   },
   "file_extension": ".py",
   "mimetype": "text/x-python",
   "name": "python",
   "nbconvert_exporter": "python",
   "pygments_lexer": "ipython3",
   "version": "3.11.7"
  }
 },
 "nbformat": 4,
 "nbformat_minor": 5
}
