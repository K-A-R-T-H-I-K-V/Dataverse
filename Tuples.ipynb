{
 "cells": [
  {
   "cell_type": "markdown",
   "id": "60f7d12f",
   "metadata": {},
   "source": [
    "## A tuple is one of the four inbuilt data types used to store collections in Python. Tuples are immutable"
   ]
  },
  {
   "cell_type": "code",
   "execution_count": 1,
   "id": "306a0f96",
   "metadata": {},
   "outputs": [],
   "source": [
    "t = (2, 4.0, 7+8j, True, 'kaadhu', [1, 3, 5], '&')"
   ]
  },
  {
   "cell_type": "code",
   "execution_count": 2,
   "id": "41193064",
   "metadata": {},
   "outputs": [
    {
     "data": {
      "text/plain": [
       "(2, 4.0, (7+8j), True, 'kaadhu', [1, 3, 5], '&')"
      ]
     },
     "execution_count": 2,
     "metadata": {},
     "output_type": "execute_result"
    }
   ],
   "source": [
    "t"
   ]
  },
  {
   "cell_type": "code",
   "execution_count": 1,
   "id": "c90338ce",
   "metadata": {},
   "outputs": [
    {
     "data": {
      "text/plain": [
       "\" indexing\\n     0   1    2      3      4          5       6\\nt = (2, 4.0, 7+8j, True, 'kaadhu', [1, 3, 5], '&')\\n    -7  -6   -5     -4     -3         -2      -1\\n\""
      ]
     },
     "execution_count": 1,
     "metadata": {},
     "output_type": "execute_result"
    }
   ],
   "source": [
    "''' indexing\n",
    "     0   1    2      3      4          5       6\n",
    "t = (2, 4.0, 7+8j, True, 'kaadhu', [1, 3, 5], '&')\n",
    "    -7  -6   -5     -4     -3         -2      -1\n",
    "'''"
   ]
  },
  {
   "cell_type": "code",
   "execution_count": 5,
   "id": "05a1740a",
   "metadata": {},
   "outputs": [
    {
     "data": {
      "text/plain": [
       "2"
      ]
     },
     "execution_count": 5,
     "metadata": {},
     "output_type": "execute_result"
    }
   ],
   "source": [
    "t[0]"
   ]
  },
  {
   "cell_type": "code",
   "execution_count": 6,
   "id": "5ec4c42a",
   "metadata": {},
   "outputs": [
    {
     "data": {
      "text/plain": [
       "'&'"
      ]
     },
     "execution_count": 6,
     "metadata": {},
     "output_type": "execute_result"
    }
   ],
   "source": [
    "t[6]"
   ]
  },
  {
   "cell_type": "code",
   "execution_count": 7,
   "id": "f287faf0",
   "metadata": {},
   "outputs": [
    {
     "data": {
      "text/plain": [
       "2"
      ]
     },
     "execution_count": 7,
     "metadata": {},
     "output_type": "execute_result"
    }
   ],
   "source": [
    "t[-7]"
   ]
  },
  {
   "cell_type": "code",
   "execution_count": 8,
   "id": "35f18166",
   "metadata": {},
   "outputs": [
    {
     "data": {
      "text/plain": [
       "('&', [1, 3, 5], 'kaadhu', True, (7+8j), 4.0, 2)"
      ]
     },
     "execution_count": 8,
     "metadata": {},
     "output_type": "execute_result"
    }
   ],
   "source": [
    "t[::-1]"
   ]
  },
  {
   "cell_type": "code",
   "execution_count": 9,
   "id": "0b7cf917",
   "metadata": {},
   "outputs": [
    {
     "data": {
      "text/plain": [
       "()"
      ]
     },
     "execution_count": 9,
     "metadata": {},
     "output_type": "execute_result"
    }
   ],
   "source": [
    "t[-4:-1:-1]"
   ]
  },
  {
   "cell_type": "code",
   "execution_count": 10,
   "id": "dfc073bc",
   "metadata": {},
   "outputs": [
    {
     "data": {
      "text/plain": [
       "('&', [1, 3, 5], 'kaadhu')"
      ]
     },
     "execution_count": 10,
     "metadata": {},
     "output_type": "execute_result"
    }
   ],
   "source": [
    "t[-1:-4:-1]"
   ]
  },
  {
   "cell_type": "code",
   "execution_count": 11,
   "id": "a643a5ef",
   "metadata": {},
   "outputs": [
    {
     "ename": "TypeError",
     "evalue": "'tuple' object does not support item assignment",
     "output_type": "error",
     "traceback": [
      "\u001b[1;31m---------------------------------------------------------------------------\u001b[0m",
      "\u001b[1;31mTypeError\u001b[0m                                 Traceback (most recent call last)",
      "\u001b[1;32m~\\AppData\\Local\\Temp\\ipykernel_17056\\1113183006.py\u001b[0m in \u001b[0;36m<module>\u001b[1;34m\u001b[0m\n\u001b[1;32m----> 1\u001b[1;33m \u001b[0mt\u001b[0m\u001b[1;33m[\u001b[0m\u001b[1;36m0\u001b[0m\u001b[1;33m]\u001b[0m \u001b[1;33m=\u001b[0m \u001b[1;34m\"immutable\"\u001b[0m\u001b[1;33m\u001b[0m\u001b[1;33m\u001b[0m\u001b[0m\n\u001b[0m",
      "\u001b[1;31mTypeError\u001b[0m: 'tuple' object does not support item assignment"
     ]
    }
   ],
   "source": [
    "t[0] = \"immutable\""
   ]
  },
  {
   "cell_type": "code",
   "execution_count": 12,
   "id": "769e53a7",
   "metadata": {},
   "outputs": [],
   "source": [
    "t1 = (1, 2, 5, 1, True, 4, 1, 0, 1)"
   ]
  },
  {
   "cell_type": "code",
   "execution_count": 13,
   "id": "3a2a3f57",
   "metadata": {},
   "outputs": [
    {
     "data": {
      "text/plain": [
       "5"
      ]
     },
     "execution_count": 13,
     "metadata": {},
     "output_type": "execute_result"
    }
   ],
   "source": [
    "t1.count(1)"
   ]
  },
  {
   "cell_type": "code",
   "execution_count": 14,
   "id": "082b8d28",
   "metadata": {},
   "outputs": [
    {
     "data": {
      "text/plain": [
       "0"
      ]
     },
     "execution_count": 14,
     "metadata": {},
     "output_type": "execute_result"
    }
   ],
   "source": [
    "t1.index(True)"
   ]
  },
  {
   "cell_type": "code",
   "execution_count": null,
   "id": "89741083",
   "metadata": {},
   "outputs": [],
   "source": []
  }
 ],
 "metadata": {
  "kernelspec": {
   "display_name": "Python 3 (ipykernel)",
   "language": "python",
   "name": "python3"
  },
  "language_info": {
   "codemirror_mode": {
    "name": "ipython",
    "version": 3
   },
   "file_extension": ".py",
   "mimetype": "text/x-python",
   "name": "python",
   "nbconvert_exporter": "python",
   "pygments_lexer": "ipython3",
   "version": "3.9.13"
  }
 },
 "nbformat": 4,
 "nbformat_minor": 5
}
