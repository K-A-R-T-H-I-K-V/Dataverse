{
 "cells": [
  {
   "cell_type": "markdown",
   "metadata": {
    "id": "UCvlYUCRkfMa"
   },
   "source": [
    "# PyTorch Basics: Tensors & Gradients\n",
    "\n",
    "<img src=\"data:image/png;base64,iVBORw0KGgoAAAANSUhEUgAAAT4AAACfCAMAAABX0UX9AAAAxlBMVEX////uTCwlJSUAAAAhISEiIiIXFxcUFBQcHBwRERHR0dHj4+PuSSgNDQ2Dg4NQUFCgoKCtra2amppmZmbw8PDuRiN1dXXtQRr5zMbp6enNzc01NTX5xLv/+vnuRB/4+PhAQEAuLi7Z2dnCwsL8495JSUn1mor1oJH0kYD+9vTtNgCAgIAxMTGQkJCbm5u0tLReXl796+jziHbyfmlhYWH4urD7083wYUTvWTz3sKXwaFDydl/2rKDuUTP2pZfziXnxcFrwZkzh9DwPAAAMHElEQVR4nO2dCXeaTBSGkXUQiLtEMbinSYzVJI1Z2rTN//9T3x1QGGBAQPvF5Nzn9LSJMCyvd+YuM1BBQBAEQRAEQRAEQRAEQRAEQRAEQRAEQRAEQRAEQRAEQTwG5x99BZ+ZcxflK8/GtFG+0gxMlK88G9OsoHxlOQf1UL6yDN5APZSvJJsOVQ/lK8fAVw/lK8Wm4quH8pXB8xooX0kGO9tD+Uqw9RooXykGjHqmOfvoy/lknL+F6lXcx8i26+uLD7qqz0LoNWjX/c1uml2+Pj08pjVEhIjXANv7Ftlku6bZsR+uP+raTh/Wa1TsiHqzbae2Lz/q4k4e1mtU3KhO9+728xsc//hEvca36MZnjKSz2US8RryPBtLagw+5ulNnYGbYniD87Ow6791HXN2pE7W9hHrgeP1NndcPuLiT5zyz5wIXVzewh+m+fZE8ZNhfLevHOlim19jy+6njvj18EfUEQ9WlxZGOle01dtxtzr+KeCCfLqpnxzlUVrx3AP3qjsnEaOdoMKlm0jvWhVEM7VjybSrZXiOFx32mKClbxPHtqNZqToZ7GtSIkoF1tKGKcjT5ourltr2Xm/c96a/E3LssE10arbIF/IzyzZ73ew0OL3bF3VM+kERR1i1A11SiiPCbNu9nNajphAEaKLrX3kc6RfkunjqlbI8Ol/ZV5j6SKM/rHs2z1tjSQRAiTzMaLLsMLVBvVGeZ5L24PBxHvougFFDIa7zc+HL/ytpJEkkr/K3dWFuKKKtZ+rH0oMfX8l5PcY4j3wujXn6v8bKzWDfLfUTlg0i1QWRRHu9zIFsM+fTlu2MCvgI919616vzMGP7i8gnCSlZEq5nvJMYnsD6m6xaI976FraL1/ChJ+YTvliiP8oSAn0K+czvU4b5AGTRU3aykF2A48rVFRZSquc5x+vJdvwddt1gh5SIoX1XcdO/LkU84U0U9X+9Nla83bSwXi+WqGh9E29Wp4f1QXdUb2x/ZNmfNRj/4lJGvN101VtH9c/EYGtFzsWz2Lkzz0r0HT74GpJpd+LdWq60TF7yCT1e7X1JcR7XrEEtTVc0S581IGtcYjSXaeloTIUpUnXUQ6EyCNrLTnfqq7+Qb9lsjAvsTp5WvV4SEZZabohOQofLp5seTb6X6H3YtIjXiG+cqEYN75lpfe2GpsqjIRKZ/Ww57iLql0KjoTPNCdFGRvm/bdHVoA7tD9ijKRFp7oftWvuoPicje/rIqreKny2QQjHydh0INKcHwl264WfL1QZxRbNuEsA148vUdDUJvsLt1zdFViCKlRdiD62DYU+EMUkXVkkBlzf8mqrSNrOu3I4eG7jD2Lr3DU/mGTRBPBdODP1TwxBeaxZ9gAOtsirTzmAXmZ7+k7JLSeQntvMMaaBVLI5qaKIVBNUe+iUjASGoro9duG5PFWBVFvRtsBfnIdKUr6vhsWl2dOYrfxiGioo6aE6NnGNV6jaiSd1qQjyy6GlFvF9PJZNKo0W9jXKCocxf0Xfc+f6uAy8D8nlL2SHEdmvft163tDwHDkSyPQmNKjn0GKEFuQwvpdXUII4ODgHxK05GtxTYw8vpobwxtRKZXThaOt92gdqzqo8bujE2wPy1nTEp5CfpuqYVAs3DgTGnOkW/oyFsL68Fg5EQiwKkUufyk9bVUUXYiFgu3rFi7T0A+0YnXZboaBJpRK/ctjMqnkC7jvRdw+FHOlAj4G6QOZYyPmXtLy3w58oFEyraHwNVKkfy3C4bJ3GhCvqkK9xur2Cw035FTqHwK05kpfejfErfUQOWL1nAMum/u3jt7CwavcjO3QczdeeBH3En5JmB82jba6qvRzYYjE1auhHwwWlrf4+cYy4GkVD5Si5rPnIgqv85FXUd0rmO4JqKUWVBjGQSOwy637OLuydwNfvzMIyFfD+5GkXbhniMrbFdsaKLFRg5x+QwJ+lbCOKDV7vug8lnRes4E+uOcnyNysg4Yl63csctv97C+KwhXuyPYfMcdk69Xh0GcGeoh/9UZy5jLUXXirmOpx32Nd9A5RG3+j9Tzxqy9rvHa+IdPyreELzB36PIQDF1l1+w97npvSuhC5RsOh+12u2dMGt0xhAaiFV6ycQvOI/xNit1O3Ppa/K4FI6blq+4FLrGNJDXD5sjXLCDfRVijLx70+cxudoEPv1gDbsJp/Viva/PRGOJSEI9IZ8zYRG8u6L1NPTbGx+Rr18Bnc04CAdC2x4J8clSrNpgmSanvHCjf9c500kauHAS+4yd3s0RDA0CWvbSI5ksR6wA3HIzecKckFuVF5Zs4ikI4J6lKou7fM0c+CI7SQpED5QtMxyy/aCX0HdzNEtXMh6g0J5/GbuU2HO76EEVHLz0u35jt6sxu0m4ETcrXg6Cv9m/k24RhR84WSXbDp/nM3UzlG3nMfywa02RIRTvs1tW1iOJEd4i5jglY0pxzknaWfDD6rv+NfEG9oLTjDV2v+cYt2UOkUcusLINFbXtsb6yo0YCXZ30jzjGMjM77D60vcJsZ9c59XB4on7AGf+L5Cwjf4m41Jp8BY5/KOUQf5PMtmD/2Of/GdYTylV/T8juQj+t99su3S3Mh4I/nC1zPyzkaiLbNermeNzUN+wrW194WWaAHavHcihP3WZw5Yoh+dP+npHxeUJiSR5zS2PfMTfv2y0cDfdpp6T9xK4lnHeBn1OSCvN4oCHg48kHWkayZbQ//CTzvXvkMi1ZPadCXuEtOzqvIieLJd3039PHkM1RREflVgFOK+965m3PIJ8yJ7PT6qqIn+mWi4vKDiHHvLAyJEoSOHPlolYasuSc+payD3//zyLeCnGvVJZwdE/L1wU3Hqk/DlioGExQ8+bx6H7docEo5L3+pQR75YOyS56KoJ28xWW3uaqKisvc3BNcQemyefMIZLQIuWafe9nOfQ+U7ZsWFX2/NI59XIgcLSU5SJ+c6vHKhuggOWa2BZwiHQ658bTpTpP8IPh82atJuruMQ+Zh6X1nf8SeYbONPduSSb0JTO5575My09Rzoi6remlYnk2pjbtGZo1AwrnyCMVLp3KaznPb702VN14nEzvOyFJIvrDa7h1ab//KXWeWSj47uosoJznjzvMZap2UvS74dw19gireMK+bLB20sOj2u0QWqGhi67M9wHCrf3aFPqZ3vy1sk3UqplLOs6PwZJzE1NFVP1AiGddEisr/Wmejqkj18XVI1bm20Oba2KwkUmUhjf2rSkIgVCyObklpgovzQmbZw8EyRf9lsNvZP/E1JMFsRodftdjk+s91Yj2RLsoizji5xEabQgL/Op13/4bVRx7XdEheht16vYxNPKzhA3rWvgvArXJ124DzvQU/40gmaYquWjep0Ou0XbdOnbfItLczFgasMgomiUq0D2hadETnkCB/FfeA8SiwzmIULZA56PrphFRivT4qDVlgFI5/5ekjfHUIqJn1K42PX9xV2vo/hJPtB7yapyoqaUhM5eZhFQgVXl14HK/LNp4PeTHKmibmf9Dg1rl/Dtc38okkKzNrmw4yPOo602YjTZ8CsrL8qMIQFXreg7AnouoijPqr2/xJaUYFnioRvoeqHud0JJGa3R4zF/m9mFfapopz2x6hXQHOWnp8dGHMSnxz/ZDCpR179wkJL2iTHXrrOclWt1kdEJPGqwOci8kSl/bq/8Dz7GQpulsr2INgbE9WSJF0WiVP8aZST4pp9GrrzvC/+Gzwzj/+6Jb3uVJJFD3Vc9FGUk4Md/iqmnfmmkdm9Xeq1BzF6TUeSLLC/lArJpyLyLoNKx71PE3B2ZTOmd8j8uveQWSO+4OqTMnBZ/Spu5X6Q9AgX5/dvLrtboUDxSxN5ZyS1QLvy53ETJmPXm8erit0xo+p94AWfGJu3TkS/itlxK8+vD38uLy//PLw/V9yogYLCZce9L8nsya7EMc1Ox3XdTsc0E5sKP4H5xbm4tBMipWK/fp13WR2Lx2d3v3Bev+1c4RsQk1xf2p394pn2K768lM/mobNHQNN+T3t6FxGE85923Mcy2kFA84L9NpPZt3f6enCedm/32G33c725/PvWscN4BYJAu/J+P0DDy8vs/Nf93zf7BgDlHn4PNpihlQD/iwkEQRAEQRAEQRAEQRAEQRAEQRAEQRAEQRAEQRAEQU6S/wCIV/TfHmqm6wAAAABJRU5ErkJggg==\" width=\"600\"\n",
    "     height=\"300\">\n",
    "\n",
    "\n",
    "\n",
    "  PyTorch is an open-source machine learning framework that is primarily used for developing and training deep learning models. It was developed by Facebook's AI Research Lab and released in 2016. PyTorch provides a flexible and dynamic approach to building neural networks, making it a popular choice among researchers and developers.\n",
    "\n",
    "The framework is built on a dynamic computational graph concept, which means that the graph is built and modified on-the-fly as the program runs. This allows for more intuitive and flexible model development, as you can use standard Python control flow statements and debug the model easily.\n",
    "\n",
    "PyTorch supports automatic differentiation, which enables efficient computation of gradients for training neural networks using backpropagation. It provides a rich set of tools and libraries for tasks such as data loading, model building, optimization, and evaluation.\n",
    "\n",
    "One of the key advantages of PyTorch is its support for GPU acceleration, allowing you to train models on GPUs to significantly speed up computations. It also has a large and active community, which means there are plenty of resources, tutorials, and pre-trained models available.\n",
    "\n",
    "PyTorch is often compared to TensorFlow, another popular deep learning framework. While TensorFlow focuses more on static computation graphs, PyTorch emphasizes dynamic computation graphs. This fundamental difference in design philosophy gives PyTorch an edge when it comes to flexibility and ease of use.\n",
    "\n",
    "Overall, PyTorch is widely used in the research community and is gaining popularity in industry applications as well. It provides a powerful and user-friendly platform for building and training deep learning models.\n",
    "\n"
   ]
  },
  {
   "cell_type": "markdown",
   "metadata": {
    "id": "V5zufMMCkfMo"
   },
   "source": [
    "## installation\n",
    "\n",
    "installation instructions here: https://pytorch.org ."
   ]
  },
  {
   "cell_type": "code",
   "execution_count": null,
   "metadata": {
    "id": "SmnQZPSxkfMp"
   },
   "outputs": [],
   "source": [
    "# Uncomment and run the appropriate command for your operating system, if required\n",
    "\n",
    "# Linux / Binder\n",
    "# !pip install numpy torch==1.7.0+cpu torchvision==0.8.1+cpu torchaudio==0.7.0 -f https://download.pytorch.org/whl/torch_stable.html\n",
    "\n",
    "# Windows\n",
    "# !pip install numpy torch==1.7.0+cpu torchvision==0.8.1+cpu torchaudio==0.7.0 -f https://download.pytorch.org/whl/torch_stable.html\n",
    "\n",
    "# MacOS\n",
    "# !pip install numpy torch torchvision torchaudio"
   ]
  },
  {
   "cell_type": "markdown",
   "metadata": {
    "id": "P18JcOiokfMr"
   },
   "source": [
    "Let's import the `torch` module to get started."
   ]
  },
  {
   "cell_type": "code",
   "execution_count": 1,
   "metadata": {
    "id": "DGo8nxo7kfMs"
   },
   "outputs": [],
   "source": [
    "import torch"
   ]
  },
  {
   "cell_type": "markdown",
   "metadata": {
    "id": "MqVgPkfKkfMt"
   },
   "source": [
    "## Tensors\n",
    "\n",
    "At its core, PyTorch is a library for processing tensors. A tensor is a number, vector, matrix, or any n-dimensional array. Let's create a tensor with a single number."
   ]
  },
  {
   "cell_type": "code",
   "execution_count": 3,
   "metadata": {
    "colab": {
     "base_uri": "https://localhost:8080/"
    },
    "id": "HUtf5elpkfMv",
    "outputId": "c6213e23-bfa8-4898-94cd-7c22e0ac5e33"
   },
   "outputs": [
    {
     "data": {
      "text/plain": [
       "tensor(4.)"
      ]
     },
     "execution_count": 3,
     "metadata": {},
     "output_type": "execute_result"
    }
   ],
   "source": [
    "# Number\n",
    "t1 = torch.tensor(4.)\n",
    "t1"
   ]
  },
  {
   "cell_type": "markdown",
   "metadata": {
    "id": "lIB1GJlakfMw"
   },
   "source": [
    "`4.` is a shorthand for `4.0`. It is used to indicate to Python (and PyTorch) that you want to create a floating-point number. We can verify this by checking the `dtype` attribute of our tensor."
   ]
  },
  {
   "cell_type": "code",
   "execution_count": 5,
   "metadata": {
    "colab": {
     "base_uri": "https://localhost:8080/"
    },
    "id": "Jz-QWm7NkfMx",
    "outputId": "0791321f-f126-429a-a9be-85df0cf7ce27"
   },
   "outputs": [
    {
     "data": {
      "text/plain": [
       "torch.float32"
      ]
     },
     "execution_count": 5,
     "metadata": {},
     "output_type": "execute_result"
    }
   ],
   "source": [
    "t1.dtype"
   ]
  },
  {
   "cell_type": "markdown",
   "metadata": {
    "id": "Vd_-gGY-kfMy"
   },
   "source": [
    "Let's try creating more complex tensors."
   ]
  },
  {
   "cell_type": "code",
   "execution_count": 7,
   "metadata": {
    "colab": {
     "base_uri": "https://localhost:8080/"
    },
    "id": "jIn2pRzLkfMz",
    "outputId": "fa01602b-46be-48a7-d11a-be37901ecaf1"
   },
   "outputs": [
    {
     "data": {
      "text/plain": [
       "tensor([1., 2., 3., 4.])"
      ]
     },
     "execution_count": 7,
     "metadata": {},
     "output_type": "execute_result"
    }
   ],
   "source": [
    "# Vector\n",
    "t2 = torch.tensor([1., 2, 3, 4])\n",
    "t2"
   ]
  },
  {
   "cell_type": "code",
   "execution_count": 9,
   "metadata": {
    "colab": {
     "base_uri": "https://localhost:8080/"
    },
    "id": "KdQsBZqukfM0",
    "outputId": "b37bfbe3-504f-4cae-c872-2796ccf09cae"
   },
   "outputs": [
    {
     "data": {
      "text/plain": [
       "tensor([[ 5.,  6.],\n",
       "        [ 7.,  8.],\n",
       "        [ 9., 10.]])"
      ]
     },
     "execution_count": 9,
     "metadata": {},
     "output_type": "execute_result"
    }
   ],
   "source": [
    "# Matrix\n",
    "t3 = torch.tensor([[5., 6],\n",
    "                   [7, 8],\n",
    "                   [9, 10]])\n",
    "t3"
   ]
  },
  {
   "cell_type": "code",
   "execution_count": 11,
   "metadata": {
    "colab": {
     "base_uri": "https://localhost:8080/"
    },
    "id": "0yZHb2E5kfM0",
    "outputId": "1253aafb-43a5-40c2-f5ae-7660cec39235"
   },
   "outputs": [
    {
     "data": {
      "text/plain": [
       "tensor([[[11., 12., 13.],\n",
       "         [13., 14., 15.]],\n",
       "\n",
       "        [[15., 16., 17.],\n",
       "         [17., 18., 19.]]])"
      ]
     },
     "execution_count": 11,
     "metadata": {},
     "output_type": "execute_result"
    }
   ],
   "source": [
    "# 3-dimensional array\n",
    "t4 = torch.tensor([\n",
    "    [[11, 12, 13],\n",
    "     [13, 14, 15]],\n",
    "    [[15, 16, 17],\n",
    "     [17, 18, 19.]]])\n",
    "t4"
   ]
  },
  {
   "cell_type": "markdown",
   "metadata": {
    "id": "zS8_bliOkfM1"
   },
   "source": [
    "Tensors can have any number of dimensions and different lengths along each dimension. We can inspect the length along each dimension using the `.shape` property of a tensor."
   ]
  },
  {
   "cell_type": "code",
   "execution_count": 14,
   "metadata": {
    "colab": {
     "base_uri": "https://localhost:8080/"
    },
    "id": "PUx8_FbXkfM1",
    "outputId": "81fb8513-ad30-4f42-95a7-eb21bcea9db6"
   },
   "outputs": [
    {
     "name": "stdout",
     "output_type": "stream",
     "text": [
      "tensor(4.)\n"
     ]
    },
    {
     "data": {
      "text/plain": [
       "torch.Size([])"
      ]
     },
     "execution_count": 14,
     "metadata": {},
     "output_type": "execute_result"
    }
   ],
   "source": [
    "print(t1)\n",
    "t1.shape"
   ]
  },
  {
   "cell_type": "code",
   "execution_count": 16,
   "metadata": {
    "colab": {
     "base_uri": "https://localhost:8080/"
    },
    "id": "CeRzfymnkfM2",
    "outputId": "91f26c00-48c3-40b8-db6c-0580162c948b"
   },
   "outputs": [
    {
     "name": "stdout",
     "output_type": "stream",
     "text": [
      "tensor([1., 2., 3., 4.])\n"
     ]
    },
    {
     "data": {
      "text/plain": [
       "torch.Size([4])"
      ]
     },
     "execution_count": 16,
     "metadata": {},
     "output_type": "execute_result"
    }
   ],
   "source": [
    "print(t2)\n",
    "t2.shape"
   ]
  },
  {
   "cell_type": "code",
   "execution_count": 18,
   "metadata": {
    "colab": {
     "base_uri": "https://localhost:8080/"
    },
    "id": "NXvIYzuxkfM2",
    "outputId": "6ca810a0-d20c-49f2-8a2c-363c5521f499"
   },
   "outputs": [
    {
     "name": "stdout",
     "output_type": "stream",
     "text": [
      "tensor([[ 5.,  6.],\n",
      "        [ 7.,  8.],\n",
      "        [ 9., 10.]])\n"
     ]
    },
    {
     "data": {
      "text/plain": [
       "torch.Size([3, 2])"
      ]
     },
     "execution_count": 18,
     "metadata": {},
     "output_type": "execute_result"
    }
   ],
   "source": [
    "print(t3)\n",
    "t3.shape"
   ]
  },
  {
   "cell_type": "code",
   "execution_count": 20,
   "metadata": {
    "colab": {
     "base_uri": "https://localhost:8080/"
    },
    "id": "p5okplTtkfM3",
    "outputId": "6d16bb62-fe42-47d8-a26a-6324a2ecbb48"
   },
   "outputs": [
    {
     "name": "stdout",
     "output_type": "stream",
     "text": [
      "tensor([[[11., 12., 13.],\n",
      "         [13., 14., 15.]],\n",
      "\n",
      "        [[15., 16., 17.],\n",
      "         [17., 18., 19.]]])\n"
     ]
    },
    {
     "data": {
      "text/plain": [
       "torch.Size([2, 2, 3])"
      ]
     },
     "execution_count": 20,
     "metadata": {},
     "output_type": "execute_result"
    }
   ],
   "source": [
    "print(t4)\n",
    "t4.shape"
   ]
  },
  {
   "cell_type": "markdown",
   "metadata": {
    "id": "-NOD0XtokfM3"
   },
   "source": [
    "Note that it's not possible to create tensors with an improper shape."
   ]
  },
  {
   "cell_type": "code",
   "execution_count": 22,
   "metadata": {
    "colab": {
     "base_uri": "https://localhost:8080/",
     "height": 235
    },
    "id": "ZiaIlFtWkfM4",
    "outputId": "aba02c1a-bcd8-4536-cf47-ee7980aa61c5"
   },
   "outputs": [
    {
     "ename": "ValueError",
     "evalue": "expected sequence of length 3 at dim 1 (got 2)",
     "output_type": "error",
     "traceback": [
      "\u001b[1;31m---------------------------------------------------------------------------\u001b[0m",
      "\u001b[1;31mValueError\u001b[0m                                Traceback (most recent call last)",
      "Cell \u001b[1;32mIn[22], line 2\u001b[0m\n\u001b[0;32m      1\u001b[0m \u001b[38;5;66;03m# Matrix\u001b[39;00m\n\u001b[1;32m----> 2\u001b[0m t5 \u001b[38;5;241m=\u001b[39m torch\u001b[38;5;241m.\u001b[39mtensor([[\u001b[38;5;241m5.\u001b[39m, \u001b[38;5;241m6\u001b[39m, \u001b[38;5;241m11\u001b[39m],\n\u001b[0;32m      3\u001b[0m                    [\u001b[38;5;241m7\u001b[39m, \u001b[38;5;241m8\u001b[39m],\n\u001b[0;32m      4\u001b[0m                    [\u001b[38;5;241m9\u001b[39m, \u001b[38;5;241m10\u001b[39m]])\n\u001b[0;32m      5\u001b[0m t5\n",
      "\u001b[1;31mValueError\u001b[0m: expected sequence of length 3 at dim 1 (got 2)"
     ]
    }
   ],
   "source": [
    "# Matrix\n",
    "t5 = torch.tensor([[5., 6, 11],\n",
    "                   [7, 8],\n",
    "                   [9, 10]])\n",
    "t5"
   ]
  },
  {
   "cell_type": "markdown",
   "metadata": {
    "id": "yWBdhA9kkfM4"
   },
   "source": [
    "A `ValueError` is thrown because the lengths of the rows `[5., 6, 11]` and `[7, 8]` don't match."
   ]
  },
  {
   "cell_type": "markdown",
   "metadata": {
    "id": "g7cKJKdakfM5"
   },
   "source": [
    "## Tensor operations and gradients\n",
    "\n",
    "We can combine tensors with the usual arithmetic operations. Let's look at an example:"
   ]
  },
  {
   "cell_type": "code",
   "execution_count": 24,
   "metadata": {
    "colab": {
     "base_uri": "https://localhost:8080/"
    },
    "id": "Lj6TfIlokfM5",
    "outputId": "628fca2f-675f-4c9a-d8a2-323ced3d93e3"
   },
   "outputs": [
    {
     "data": {
      "text/plain": [
       "(tensor(3.), tensor(4., requires_grad=True), tensor(5., requires_grad=True))"
      ]
     },
     "execution_count": 24,
     "metadata": {},
     "output_type": "execute_result"
    }
   ],
   "source": [
    "# Create tensors.\n",
    "x = torch.tensor(3.)\n",
    "w = torch.tensor(4., requires_grad=True) \n",
    "b = torch.tensor(5., requires_grad=True)\n",
    "x, w, b"
   ]
  },
  {
   "cell_type": "markdown",
   "metadata": {
    "id": "zVZlcATrkfM5"
   },
   "source": [
    "We've created three tensors: `x`, `w`, and `b`, all numbers. `w` and `b` have an additional parameter `requires_grad` set to `True`. We'll see what it does in just a moment.\n",
    "\n",
    "Let's create a new tensor `y` by combining these tensors."
   ]
  },
  {
   "cell_type": "code",
   "execution_count": 26,
   "metadata": {
    "colab": {
     "base_uri": "https://localhost:8080/"
    },
    "id": "IKcsAaE0kfM6",
    "outputId": "d12880cc-a732-4b01-da26-c7e501796e99"
   },
   "outputs": [
    {
     "data": {
      "text/plain": [
       "tensor(17., grad_fn=<AddBackward0>)"
      ]
     },
     "execution_count": 26,
     "metadata": {},
     "output_type": "execute_result"
    }
   ],
   "source": [
    "# Arithmetic operations\n",
    "y = w * x + b\n",
    "y"
   ]
  },
  {
   "cell_type": "markdown",
   "metadata": {
    "id": "WNV4U0-OkfM6"
   },
   "source": [
    "As expected, `y` is a tensor with the value `3 * 4 + 5 = 17`. What makes PyTorch unique is that we can automatically compute the derivative of `y` w.r.t. the tensors that have `requires_grad` set to `True` i.e. w and b. This feature of PyTorch is called _autograd_ (automatic gradients).\n",
    "\n",
    "To compute the derivatives, we can invoke the `.backward` method on our result `y`."
   ]
  },
  {
   "cell_type": "code",
   "execution_count": 30,
   "metadata": {
    "id": "0RVH2vHCkfM6"
   },
   "outputs": [],
   "source": [
    "# Compute derivatives\n",
    "y.backward()"
   ]
  },
  {
   "cell_type": "markdown",
   "metadata": {
    "id": "RHyHerbekfM7"
   },
   "source": [
    "The derivatives of `y` with respect to the input tensors are stored in the `.grad` property of the respective tensors."
   ]
  },
  {
   "cell_type": "code",
   "execution_count": 33,
   "metadata": {
    "colab": {
     "base_uri": "https://localhost:8080/"
    },
    "id": "_zTB-VUqkfM7",
    "outputId": "6d5d0032-6db9-4042-e8f3-c14e378bb704"
   },
   "outputs": [
    {
     "name": "stdout",
     "output_type": "stream",
     "text": [
      "dy/dx: None\n",
      "dy/dw: tensor(3.)\n",
      "dy/db: tensor(1.)\n"
     ]
    }
   ],
   "source": [
    "# Display gradients\n",
    "print('dy/dx:', x.grad)\n",
    "print('dy/dw:', w.grad)\n",
    "print('dy/db:', b.grad)"
   ]
  },
  {
   "cell_type": "markdown",
   "metadata": {
    "id": "RvGfw6PJkfM7"
   },
   "source": [
    "As expected, `dy/dw` has the same value as `x`, i.e., `3`, and `dy/db` has the value `1`. Note that `x.grad` is `None` because `x` doesn't have `requires_grad` set to `True`.\n",
    "\n",
    "The \"grad\" in `w.grad` is short for _gradient_, which is another term for derivative. The term _gradient_ is primarily used while dealing with vectors and matrices."
   ]
  },
  {
   "cell_type": "markdown",
   "metadata": {
    "id": "FvR-LWzgkfM8"
   },
   "source": [
    "## Tensor functions\n",
    "\n",
    "Apart from arithmetic operations, the `torch` module also contains many functions for creating and manipulating tensors. Let's look at some examples."
   ]
  },
  {
   "cell_type": "code",
   "execution_count": 35,
   "metadata": {
    "colab": {
     "base_uri": "https://localhost:8080/"
    },
    "id": "gi5eISBckfM8",
    "outputId": "0de33509-4984-4d8f-c272-151695a9802f"
   },
   "outputs": [
    {
     "data": {
      "text/plain": [
       "tensor([[42, 42],\n",
       "        [42, 42],\n",
       "        [42, 42]])"
      ]
     },
     "execution_count": 35,
     "metadata": {},
     "output_type": "execute_result"
    }
   ],
   "source": [
    "# Create a tensor with a fixed value for every element\n",
    "t6 = torch.full((3, 2), 42)\n",
    "t6"
   ]
  },
  {
   "cell_type": "code",
   "execution_count": 37,
   "metadata": {
    "colab": {
     "base_uri": "https://localhost:8080/"
    },
    "id": "caAPy-P7kfM8",
    "outputId": "679f1831-29ba-4dd0-c1e2-75f11b9fd0de"
   },
   "outputs": [
    {
     "data": {
      "text/plain": [
       "tensor([[ 5.,  6.],\n",
       "        [ 7.,  8.],\n",
       "        [ 9., 10.],\n",
       "        [42., 42.],\n",
       "        [42., 42.],\n",
       "        [42., 42.]])"
      ]
     },
     "execution_count": 37,
     "metadata": {},
     "output_type": "execute_result"
    }
   ],
   "source": [
    "# Concatenate two tensors with compatible shapes\n",
    "t7 = torch.cat((t3, t6))\n",
    "t7"
   ]
  },
  {
   "cell_type": "code",
   "execution_count": 39,
   "metadata": {
    "colab": {
     "base_uri": "https://localhost:8080/"
    },
    "id": "RHmUkGOHkfM9",
    "outputId": "a21521d5-e61a-40d7-ca4c-9a41f18e473e"
   },
   "outputs": [
    {
     "data": {
      "text/plain": [
       "tensor([[-0.9589, -0.2794],\n",
       "        [ 0.6570,  0.9894],\n",
       "        [ 0.4121, -0.5440],\n",
       "        [-0.9165, -0.9165],\n",
       "        [-0.9165, -0.9165],\n",
       "        [-0.9165, -0.9165]])"
      ]
     },
     "execution_count": 39,
     "metadata": {},
     "output_type": "execute_result"
    }
   ],
   "source": [
    "# Compute the sin of each element\n",
    "t8 = torch.sin(t7)\n",
    "t8"
   ]
  },
  {
   "cell_type": "code",
   "execution_count": 41,
   "metadata": {
    "colab": {
     "base_uri": "https://localhost:8080/"
    },
    "id": "K9UFIgc-kfM9",
    "outputId": "ba505d7d-7c32-41fc-a7f5-8cb4b92ddf26"
   },
   "outputs": [
    {
     "data": {
      "text/plain": [
       "tensor([[[-0.9589, -0.2794],\n",
       "         [ 0.6570,  0.9894]],\n",
       "\n",
       "        [[ 0.4121, -0.5440],\n",
       "         [-0.9165, -0.9165]],\n",
       "\n",
       "        [[-0.9165, -0.9165],\n",
       "         [-0.9165, -0.9165]]])"
      ]
     },
     "execution_count": 41,
     "metadata": {},
     "output_type": "execute_result"
    }
   ],
   "source": [
    "# Change the shape of a tensor\n",
    "t9 = t8.reshape(3, 2, 2)\n",
    "t9"
   ]
  },
  {
   "cell_type": "markdown",
   "metadata": {
    "id": "4YK9aNsnkfM9"
   },
   "source": [
    "You can learn more about tensor operations here: https://pytorch.org/docs/stable/torch.html . Experiment with some more tensor functions and operations using the empty cells below."
   ]
  },
  {
   "cell_type": "code",
   "execution_count": null,
   "metadata": {
    "id": "NTgXrNyRkfM-"
   },
   "outputs": [],
   "source": []
  },
  {
   "cell_type": "markdown",
   "metadata": {
    "id": "36942dZpkfM-"
   },
   "source": [
    "## Interoperability with Numpy\n",
    "\n",
    "[Numpy](http://www.numpy.org/) is a popular open-source library used for mathematical and scientific computing in Python. It enables efficient operations on large multi-dimensional arrays and has a vast ecosystem of supporting libraries, including:\n",
    "\n",
    "* [Pandas](https://pandas.pydata.org/) for file I/O and data analysis\n",
    "* [Matplotlib](https://matplotlib.org/) for plotting and visualization\n",
    "* [OpenCV](https://opencv.org/) for image and video processing\n",
    "\n",
    "\n",
    "Instead of reinventing the wheel, PyTorch interoperates well with Numpy to leverage its existing ecosystem of tools and libraries."
   ]
  },
  {
   "cell_type": "markdown",
   "metadata": {
    "id": "yKH8QMxDkfM-"
   },
   "source": [
    "Here's how we create an array in Numpy:"
   ]
  },
  {
   "cell_type": "code",
   "execution_count": 43,
   "metadata": {
    "colab": {
     "base_uri": "https://localhost:8080/"
    },
    "id": "XlCWcXUckfM_",
    "outputId": "ef6e6ad3-3fea-4e78-e5b3-d6c09cb58e7e"
   },
   "outputs": [
    {
     "data": {
      "text/plain": [
       "array([[1., 2.],\n",
       "       [3., 4.]])"
      ]
     },
     "execution_count": 43,
     "metadata": {},
     "output_type": "execute_result"
    }
   ],
   "source": [
    "import numpy as np\n",
    "\n",
    "x = np.array([[1, 2], [3, 4.]])\n",
    "x"
   ]
  },
  {
   "cell_type": "markdown",
   "metadata": {
    "id": "2V-UeD40kfM_"
   },
   "source": [
    "We can convert a Numpy array to a PyTorch tensor using `torch.from_numpy`."
   ]
  },
  {
   "cell_type": "code",
   "execution_count": 45,
   "metadata": {
    "colab": {
     "base_uri": "https://localhost:8080/"
    },
    "id": "DaPUjIiokfNB",
    "outputId": "c8ad3bb6-f60c-4af1-c7ef-035a52244434"
   },
   "outputs": [
    {
     "data": {
      "text/plain": [
       "tensor([[1., 2.],\n",
       "        [3., 4.]], dtype=torch.float64)"
      ]
     },
     "execution_count": 45,
     "metadata": {},
     "output_type": "execute_result"
    }
   ],
   "source": [
    "# Convert the numpy array to a torch tensor.\n",
    "y = torch.from_numpy(x)\n",
    "y"
   ]
  },
  {
   "cell_type": "markdown",
   "metadata": {
    "id": "D-kN6vp4kfNC"
   },
   "source": [
    "Let's verify that the numpy array and torch tensor have similar data types."
   ]
  },
  {
   "cell_type": "code",
   "execution_count": 47,
   "metadata": {
    "colab": {
     "base_uri": "https://localhost:8080/"
    },
    "id": "KL76Ma8ekfND",
    "outputId": "54ab5324-e79b-407b-b8c0-89ef879617df"
   },
   "outputs": [
    {
     "data": {
      "text/plain": [
       "(dtype('float64'), torch.float64)"
      ]
     },
     "execution_count": 47,
     "metadata": {},
     "output_type": "execute_result"
    }
   ],
   "source": [
    "x.dtype, y.dtype"
   ]
  },
  {
   "cell_type": "markdown",
   "metadata": {
    "id": "I-vuHKXXkfNE"
   },
   "source": [
    "We can convert a PyTorch tensor to a Numpy array using the `.numpy` method of a tensor."
   ]
  },
  {
   "cell_type": "code",
   "execution_count": 49,
   "metadata": {
    "colab": {
     "base_uri": "https://localhost:8080/"
    },
    "id": "OEBugCySkfNE",
    "outputId": "fb7b7496-d808-4d6f-8145-403652938ad7"
   },
   "outputs": [
    {
     "data": {
      "text/plain": [
       "array([[1., 2.],\n",
       "       [3., 4.]])"
      ]
     },
     "execution_count": 49,
     "metadata": {},
     "output_type": "execute_result"
    }
   ],
   "source": [
    "# Convert a torch tensor to a numpy array\n",
    "z = y.numpy()\n",
    "z"
   ]
  },
  {
   "cell_type": "markdown",
   "metadata": {
    "id": "GgxySGeWkfNE"
   },
   "source": [
    "The interoperability between PyTorch and Numpy is essential because most datasets you'll work with will likely be read and preprocessed as Numpy arrays.\n",
    "\n",
    "You might wonder why we need a library like PyTorch at all since Numpy already provides data structures and utilities for working with multi-dimensional numeric data. There are two main reasons:\n",
    "\n",
    "1. **Autograd**: The ability to automatically compute gradients for tensor operations is essential for training deep learning models.\n",
    "2. **GPU support**: While working with massive datasets and large models, PyTorch tensor operations can be performed efficiently using a Graphics Processing Unit (GPU). Computations that might typically take hours can be completed within minutes using GPUs.\n",
    "\n"
   ]
  },
  {
   "cell_type": "code",
   "execution_count": null,
   "metadata": {
    "id": "aOg5UDH45k9x"
   },
   "outputs": [],
   "source": []
  },
  {
   "cell_type": "markdown",
   "metadata": {
    "id": "GPb963Lz5laq"
   },
   "source": [
    "## Linear-regression from scratch using pytorch"
   ]
  },
  {
   "cell_type": "code",
   "execution_count": 1,
   "metadata": {
    "id": "elamAaJH5tYF"
   },
   "outputs": [],
   "source": [
    "import numpy as np\n",
    "import torch"
   ]
  },
  {
   "cell_type": "code",
   "execution_count": 2,
   "metadata": {
    "id": "Ze7LRltk5tUV"
   },
   "outputs": [],
   "source": [
    "#making training data\n",
    "# Input (temp, rainfall, humidity)\n",
    "inputs = np.array([[73, 67, 43],\n",
    "                   [91, 88, 64],\n",
    "                   [87, 134, 58],\n",
    "                   [102, 43, 37],\n",
    "                   [69, 96, 70]], dtype='float32')"
   ]
  },
  {
   "cell_type": "code",
   "execution_count": 3,
   "metadata": {
    "id": "ars5xesW5tRt"
   },
   "outputs": [],
   "source": [
    "# Targets (apples, oranges)\n",
    "target = np.array([[56, 70],\n",
    "                    [81, 101],\n",
    "                    [119, 133],\n",
    "                    [22, 37],\n",
    "                    [103, 119]], dtype='float32')"
   ]
  },
  {
   "cell_type": "code",
   "execution_count": 7,
   "metadata": {
    "colab": {
     "base_uri": "https://localhost:8080/"
    },
    "id": "L92TqO635tPO",
    "outputId": "89e342c8-3939-4f44-8b67-6da057bfc0a5"
   },
   "outputs": [
    {
     "name": "stdout",
     "output_type": "stream",
     "text": [
      "tensor([[ 73.,  67.,  43.],\n",
      "        [ 91.,  88.,  64.],\n",
      "        [ 87., 134.,  58.],\n",
      "        [102.,  43.,  37.],\n",
      "        [ 69.,  96.,  70.]]) \n",
      "\n",
      "tensor([[ 56.,  70.],\n",
      "        [ 81., 101.],\n",
      "        [119., 133.],\n",
      "        [ 22.,  37.],\n",
      "        [103., 119.]])\n"
     ]
    }
   ],
   "source": [
    "#Convert input and target to tensors\n",
    "inputs = torch.from_numpy(inputs)\n",
    "target = torch.from_numpy(target)\n",
    "\n",
    "print(inputs,\"\\n\")\n",
    "print(target)"
   ]
  },
  {
   "cell_type": "code",
   "execution_count": 9,
   "metadata": {
    "colab": {
     "base_uri": "https://localhost:8080/"
    },
    "id": "-m_2iaph5tMh",
    "outputId": "9cef4156-01f7-4b8c-d157-cb8247a9b63d"
   },
   "outputs": [
    {
     "name": "stdout",
     "output_type": "stream",
     "text": [
      "tensor([[-0.6737, -0.5098, -0.4149],\n",
      "        [ 1.3318,  0.2334,  0.1005]], requires_grad=True)\n",
      "tensor([-0.4182, -0.4901], requires_grad=True)\n"
     ]
    }
   ],
   "source": [
    "# weights and biases\n",
    "w = torch.randn(2, 3, requires_grad=True)\n",
    "b = torch.randn(2, requires_grad=True)\n",
    "\n",
    "print(w)\n",
    "print(b)"
   ]
  },
  {
   "cell_type": "code",
   "execution_count": 11,
   "metadata": {
    "id": "ZHqEIQKU56cs"
   },
   "outputs": [],
   "source": [
    "#define the model\n",
    "\n",
    "def model(x):\n",
    "  return x @ w.t() + b"
   ]
  },
  {
   "cell_type": "code",
   "execution_count": 13,
   "metadata": {
    "colab": {
     "base_uri": "https://localhost:8080/"
    },
    "id": "C9J__d3l56Ze",
    "outputId": "eedb0f57-552b-4edf-948b-f349f8cff3b0"
   },
   "outputs": [
    {
     "name": "stdout",
     "output_type": "stream",
     "text": [
      "tensor([[-101.5947,  116.6932],\n",
      "        [-133.1401,  147.6782],\n",
      "        [-151.4078,  152.4848],\n",
      "        [-106.4054,  149.1113],\n",
      "        [-124.8878,  120.8483]], grad_fn=<AddBackward0>)\n"
     ]
    }
   ],
   "source": [
    "# prediction\n",
    "preds = model(inputs)\n",
    "print(preds)"
   ]
  },
  {
   "cell_type": "code",
   "execution_count": 15,
   "metadata": {
    "colab": {
     "base_uri": "https://localhost:8080/"
    },
    "id": "eV0XrG2k56Xf",
    "outputId": "b5b59959-16a2-40ca-8ac9-b1c201d3c221"
   },
   "outputs": [
    {
     "name": "stdout",
     "output_type": "stream",
     "text": [
      "tensor([[ 56.,  70.],\n",
      "        [ 81., 101.],\n",
      "        [119., 133.],\n",
      "        [ 22.,  37.],\n",
      "        [103., 119.]])\n"
     ]
    }
   ],
   "source": [
    "#actual\n",
    "print(target)"
   ]
  },
  {
   "cell_type": "code",
   "execution_count": 17,
   "metadata": {
    "id": "vlr1NKsC56Ts"
   },
   "outputs": [],
   "source": [
    "# loss function MSE\n",
    "def MSE(actual, target):\n",
    "  diff = actual - target\n",
    "  return torch.sum(diff * diff) / diff.numel()"
   ]
  },
  {
   "cell_type": "code",
   "execution_count": 19,
   "metadata": {
    "colab": {
     "base_uri": "https://localhost:8080/"
    },
    "id": "rQJRKGXP56RJ",
    "outputId": "33cfbbd2-6a17-4145-d1da-1d716d48aa08"
   },
   "outputs": [
    {
     "name": "stdout",
     "output_type": "stream",
     "text": [
      "tensor(22954.4395, grad_fn=<DivBackward0>)\n"
     ]
    }
   ],
   "source": [
    "# error\n",
    "loss = MSE(target, preds)\n",
    "print(loss)"
   ]
  },
  {
   "cell_type": "code",
   "execution_count": 21,
   "metadata": {
    "id": "iGypGOsF56Oi"
   },
   "outputs": [],
   "source": [
    "# compute gradients\n",
    "loss.backward()"
   ]
  },
  {
   "cell_type": "code",
   "execution_count": 23,
   "metadata": {
    "colab": {
     "base_uri": "https://localhost:8080/"
    },
    "id": "TKRT4IVP56Lu",
    "outputId": "283af31e-52dd-41e5-aec1-02336df2a05f"
   },
   "outputs": [
    {
     "name": "stdout",
     "output_type": "stream",
     "text": [
      "tensor([[-0.6737, -0.5098, -0.4149],\n",
      "        [ 1.3318,  0.2334,  0.1005]], requires_grad=True) \n",
      "\n",
      "tensor([[-16667.6504, -18607.2969, -11373.6680],\n",
      "        [  4182.8779,   2969.0632,   2080.5667]])\n"
     ]
    }
   ],
   "source": [
    "print(w, \"\\n\")\n",
    "print(w.grad)"
   ]
  },
  {
   "cell_type": "code",
   "execution_count": 25,
   "metadata": {
    "colab": {
     "base_uri": "https://localhost:8080/"
    },
    "id": "YWMcsxjz6IBr",
    "outputId": "ba053027-5420-41f5-a75c-04b740ca68bb"
   },
   "outputs": [
    {
     "name": "stdout",
     "output_type": "stream",
     "text": [
      "tensor([-0.4182, -0.4901], requires_grad=True) \n",
      "\n",
      "tensor([-199.6871,   45.3632])\n"
     ]
    }
   ],
   "source": [
    "print(b, \"\\n\")\n",
    "print(b.grad)"
   ]
  },
  {
   "cell_type": "code",
   "execution_count": 27,
   "metadata": {
    "colab": {
     "base_uri": "https://localhost:8080/"
    },
    "id": "qjdeYBsU6H-6",
    "outputId": "5832a926-e98c-4f5e-9e17-ad785eb8e0d6"
   },
   "outputs": [
    {
     "name": "stdout",
     "output_type": "stream",
     "text": [
      "tensor([[0., 0., 0.],\n",
      "        [0., 0., 0.]])\n",
      "tensor([0., 0.])\n"
     ]
    }
   ],
   "source": [
    "#reset grad\n",
    "w.grad.zero_()\n",
    "b.grad.zero_()\n",
    "\n",
    "print(w.grad)\n",
    "print(b.grad)"
   ]
  },
  {
   "cell_type": "code",
   "execution_count": 29,
   "metadata": {
    "colab": {
     "base_uri": "https://localhost:8080/"
    },
    "id": "vIbBPr-x6H8l",
    "outputId": "f8974e80-681f-420e-8b9e-fcfe995ebedf"
   },
   "outputs": [
    {
     "name": "stdout",
     "output_type": "stream",
     "text": [
      "tensor([[-101.5947,  116.6932],\n",
      "        [-133.1401,  147.6782],\n",
      "        [-151.4078,  152.4848],\n",
      "        [-106.4054,  149.1113],\n",
      "        [-124.8878,  120.8483]], grad_fn=<AddBackward0>)\n"
     ]
    }
   ],
   "source": [
    "# adjust params\n",
    "\n",
    "preds = model(inputs)\n",
    "print(preds)"
   ]
  },
  {
   "cell_type": "code",
   "execution_count": 31,
   "metadata": {
    "colab": {
     "base_uri": "https://localhost:8080/"
    },
    "id": "IEOGA0cy6PzN",
    "outputId": "8635d910-3448-46ff-e47d-4a5154c0abab"
   },
   "outputs": [
    {
     "name": "stdout",
     "output_type": "stream",
     "text": [
      "tensor(22954.4395, grad_fn=<DivBackward0>)\n"
     ]
    }
   ],
   "source": [
    "# loss\n",
    "loss = MSE(target, preds)\n",
    "print(loss)"
   ]
  },
  {
   "cell_type": "code",
   "execution_count": 84,
   "metadata": {
    "colab": {
     "base_uri": "https://localhost:8080/"
    },
    "id": "Du5TIt2e6Pwg",
    "outputId": "9704e23a-f37a-4137-a71e-37f673dca82d"
   },
   "outputs": [
    {
     "name": "stdout",
     "output_type": "stream",
     "text": [
      "tensor([[ -5291.0781,  -5025.5381,  -3244.8894],\n",
      "        [-13058.0566, -14904.6689,  -9138.6445]]) \n",
      "\n",
      "tensor([ -61.1422, -157.8665])\n"
     ]
    }
   ],
   "source": [
    "loss.backward()\n",
    "\n",
    "print(w.grad, \"\\n\")\n",
    "print(b.grad)"
   ]
  },
  {
   "cell_type": "code",
   "execution_count": 33,
   "metadata": {
    "id": "Jx0SBLV56PtU"
   },
   "outputs": [],
   "source": [
    "  # adjust weight & reset grad\n",
    "with torch.no_grad():\n",
    "    w -= w.grad * 1e-5\n",
    "    b -= b.grad * 1e-5\n",
    "    w.grad.zero_()\n",
    "    b.grad.zero_()"
   ]
  },
  {
   "cell_type": "code",
   "execution_count": 35,
   "metadata": {
    "colab": {
     "base_uri": "https://localhost:8080/"
    },
    "id": "tD2CAdtn6Pq2",
    "outputId": "0568d999-f00f-4567-9c22-e71d7775fdf9"
   },
   "outputs": [
    {
     "name": "stdout",
     "output_type": "stream",
     "text": [
      "tensor([[-0.6737, -0.5098, -0.4149],\n",
      "        [ 1.3318,  0.2334,  0.1005]], requires_grad=True)\n",
      "tensor([-0.4182, -0.4901], requires_grad=True)\n"
     ]
    }
   ],
   "source": [
    "print(w)\n",
    "print(b)"
   ]
  },
  {
   "cell_type": "code",
   "execution_count": 39,
   "metadata": {
    "colab": {
     "base_uri": "https://localhost:8080/"
    },
    "id": "mZT-GtGY6Xzq",
    "outputId": "e8246072-6438-42e2-fae8-119c729052ab"
   },
   "outputs": [
    {
     "name": "stdout",
     "output_type": "stream",
     "text": [
      "tensor(22954.4395, grad_fn=<DivBackward0>)\n"
     ]
    }
   ],
   "source": [
    "# calculate again\n",
    "preds = model(inputs)\n",
    "loss = MSE(target, preds)\n",
    "print(loss)"
   ]
  },
  {
   "cell_type": "code",
   "execution_count": 41,
   "metadata": {
    "colab": {
     "base_uri": "https://localhost:8080/"
    },
    "id": "ijRMFN3C6Xv1",
    "outputId": "dfe54b14-a643-4646-8046-c2147aea9e3e"
   },
   "outputs": [
    {
     "name": "stdout",
     "output_type": "stream",
     "text": [
      "Epochs(0/100) & Loss 22954.439453125\n",
      "Epochs(1/100) & Loss 15814.556640625\n",
      "Epochs(2/100) & Loss 10998.890625\n",
      "Epochs(3/100) & Loss 7749.53125\n",
      "Epochs(4/100) & Loss 5555.73974609375\n",
      "Epochs(5/100) & Loss 4073.32861328125\n",
      "Epochs(6/100) & Loss 3070.35888671875\n",
      "Epochs(7/100) & Loss 2390.5263671875\n",
      "Epochs(8/100) & Loss 1928.5029296875\n",
      "Epochs(9/100) & Loss 1613.304931640625\n",
      "Epochs(10/100) & Loss 1397.099609375\n",
      "Epochs(11/100) & Loss 1247.651611328125\n",
      "Epochs(12/100) & Loss 1143.237548828125\n",
      "Epochs(13/100) & Loss 1069.217529296875\n",
      "Epochs(14/100) & Loss 1015.7254638671875\n",
      "Epochs(15/100) & Loss 976.1123046875\n",
      "Epochs(16/100) & Loss 945.8967895507812\n",
      "Epochs(17/100) & Loss 922.05810546875\n",
      "Epochs(18/100) & Loss 902.5602416992188\n",
      "Epochs(19/100) & Loss 886.0308837890625\n",
      "Epochs(20/100) & Loss 871.5443115234375\n",
      "Epochs(21/100) & Loss 858.4766845703125\n",
      "Epochs(22/100) & Loss 846.4061279296875\n",
      "Epochs(23/100) & Loss 835.0489501953125\n",
      "Epochs(24/100) & Loss 824.2125244140625\n",
      "Epochs(25/100) & Loss 813.7669067382812\n",
      "Epochs(26/100) & Loss 803.6243896484375\n",
      "Epochs(27/100) & Loss 793.7247924804688\n",
      "Epochs(28/100) & Loss 784.0274047851562\n",
      "Epochs(29/100) & Loss 774.5040283203125\n",
      "Epochs(30/100) & Loss 765.1356201171875\n",
      "Epochs(31/100) & Loss 755.908447265625\n",
      "Epochs(32/100) & Loss 746.8128662109375\n",
      "Epochs(33/100) & Loss 737.8424072265625\n",
      "Epochs(34/100) & Loss 728.9913330078125\n",
      "Epochs(35/100) & Loss 720.2560424804688\n",
      "Epochs(36/100) & Loss 711.6336669921875\n",
      "Epochs(37/100) & Loss 703.1215209960938\n",
      "Epochs(38/100) & Loss 694.7174072265625\n",
      "Epochs(39/100) & Loss 686.4195556640625\n",
      "Epochs(40/100) & Loss 678.2264404296875\n",
      "Epochs(41/100) & Loss 670.1361694335938\n",
      "Epochs(42/100) & Loss 662.1473999023438\n",
      "Epochs(43/100) & Loss 654.2593994140625\n",
      "Epochs(44/100) & Loss 646.4698486328125\n",
      "Epochs(45/100) & Loss 638.7778930664062\n",
      "Epochs(46/100) & Loss 631.1822509765625\n",
      "Epochs(47/100) & Loss 623.6817626953125\n",
      "Epochs(48/100) & Loss 616.275146484375\n",
      "Epochs(49/100) & Loss 608.9612426757812\n",
      "Epochs(50/100) & Loss 601.7387084960938\n",
      "Epochs(51/100) & Loss 594.6066284179688\n",
      "Epochs(52/100) & Loss 587.5636596679688\n",
      "Epochs(53/100) & Loss 580.6090698242188\n",
      "Epochs(54/100) & Loss 573.7410888671875\n",
      "Epochs(55/100) & Loss 566.9592895507812\n",
      "Epochs(56/100) & Loss 560.2620849609375\n",
      "Epochs(57/100) & Loss 553.648681640625\n",
      "Epochs(58/100) & Loss 547.117919921875\n",
      "Epochs(59/100) & Loss 540.6687622070312\n",
      "Epochs(60/100) & Loss 534.3001098632812\n",
      "Epochs(61/100) & Loss 528.0113525390625\n",
      "Epochs(62/100) & Loss 521.8006591796875\n",
      "Epochs(63/100) & Loss 515.6679077148438\n",
      "Epochs(64/100) & Loss 509.6116638183594\n",
      "Epochs(65/100) & Loss 503.63104248046875\n",
      "Epochs(66/100) & Loss 497.7251892089844\n",
      "Epochs(67/100) & Loss 491.89306640625\n",
      "Epochs(68/100) & Loss 486.1336975097656\n",
      "Epochs(69/100) & Loss 480.4461975097656\n",
      "Epochs(70/100) & Loss 474.82977294921875\n",
      "Epochs(71/100) & Loss 469.28338623046875\n",
      "Epochs(72/100) & Loss 463.8062438964844\n",
      "Epochs(73/100) & Loss 458.39752197265625\n",
      "Epochs(74/100) & Loss 453.055908203125\n",
      "Epochs(75/100) & Loss 447.7813415527344\n",
      "Epochs(76/100) & Loss 442.57232666015625\n",
      "Epochs(77/100) & Loss 437.42840576171875\n",
      "Epochs(78/100) & Loss 432.34857177734375\n",
      "Epochs(79/100) & Loss 427.33203125\n",
      "Epochs(80/100) & Loss 422.3780212402344\n",
      "Epochs(81/100) & Loss 417.48577880859375\n",
      "Epochs(82/100) & Loss 412.65447998046875\n",
      "Epochs(83/100) & Loss 407.88348388671875\n",
      "Epochs(84/100) & Loss 403.1718444824219\n",
      "Epochs(85/100) & Loss 398.518798828125\n",
      "Epochs(86/100) & Loss 393.9239196777344\n",
      "Epochs(87/100) & Loss 389.3860778808594\n",
      "Epochs(88/100) & Loss 384.90472412109375\n",
      "Epochs(89/100) & Loss 380.47918701171875\n",
      "Epochs(90/100) & Loss 376.10882568359375\n",
      "Epochs(91/100) & Loss 371.7928466796875\n",
      "Epochs(92/100) & Loss 367.53045654296875\n",
      "Epochs(93/100) & Loss 363.3211975097656\n",
      "Epochs(94/100) & Loss 359.164306640625\n",
      "Epochs(95/100) & Loss 355.0589599609375\n",
      "Epochs(96/100) & Loss 351.00482177734375\n",
      "Epochs(97/100) & Loss 347.0010986328125\n",
      "Epochs(98/100) & Loss 343.04705810546875\n",
      "Epochs(99/100) & Loss 339.14215087890625\n",
      "Epochs(100/100) & Loss 335.2857971191406\n",
      "Epochs(101/100) & Loss 331.477294921875\n",
      "Epochs(102/100) & Loss 327.71624755859375\n",
      "Epochs(103/100) & Loss 324.00177001953125\n",
      "Epochs(104/100) & Loss 320.33349609375\n",
      "Epochs(105/100) & Loss 316.7107849121094\n",
      "Epochs(106/100) & Loss 313.133056640625\n",
      "Epochs(107/100) & Loss 309.5997009277344\n",
      "Epochs(108/100) & Loss 306.110107421875\n",
      "Epochs(109/100) & Loss 302.66387939453125\n",
      "Epochs(110/100) & Loss 299.26031494140625\n",
      "Epochs(111/100) & Loss 295.89923095703125\n",
      "Epochs(112/100) & Loss 292.57952880859375\n",
      "Epochs(113/100) & Loss 289.30108642578125\n",
      "Epochs(114/100) & Loss 286.0632019042969\n",
      "Epochs(115/100) & Loss 282.865478515625\n",
      "Epochs(116/100) & Loss 279.70751953125\n",
      "Epochs(117/100) & Loss 276.58856201171875\n",
      "Epochs(118/100) & Loss 273.5081481933594\n",
      "Epochs(119/100) & Loss 270.4659729003906\n",
      "Epochs(120/100) & Loss 267.46148681640625\n",
      "Epochs(121/100) & Loss 264.49420166015625\n",
      "Epochs(122/100) & Loss 261.56353759765625\n",
      "Epochs(123/100) & Loss 258.66912841796875\n",
      "Epochs(124/100) & Loss 255.8105926513672\n",
      "Epochs(125/100) & Loss 252.9873504638672\n",
      "Epochs(126/100) & Loss 250.1990509033203\n",
      "Epochs(127/100) & Loss 247.44515991210938\n",
      "Epochs(128/100) & Loss 244.72531127929688\n",
      "Epochs(129/100) & Loss 242.0391082763672\n",
      "Epochs(130/100) & Loss 239.38607788085938\n",
      "Epochs(131/100) & Loss 236.76577758789062\n",
      "Epochs(132/100) & Loss 234.17776489257812\n",
      "Epochs(133/100) & Loss 231.62179565429688\n",
      "Epochs(134/100) & Loss 229.0973358154297\n",
      "Epochs(135/100) & Loss 226.60397338867188\n",
      "Epochs(136/100) & Loss 224.1414031982422\n",
      "Epochs(137/100) & Loss 221.7091827392578\n",
      "Epochs(138/100) & Loss 219.3069610595703\n",
      "Epochs(139/100) & Loss 216.9343719482422\n",
      "Epochs(140/100) & Loss 214.59097290039062\n",
      "Epochs(141/100) & Loss 212.2764892578125\n",
      "Epochs(142/100) & Loss 209.9904022216797\n",
      "Epochs(143/100) & Loss 207.7325439453125\n",
      "Epochs(144/100) & Loss 205.50247192382812\n",
      "Epochs(145/100) & Loss 203.29978942871094\n",
      "Epochs(146/100) & Loss 201.1243438720703\n",
      "Epochs(147/100) & Loss 198.97549438476562\n",
      "Epochs(148/100) & Loss 196.85305786132812\n",
      "Epochs(149/100) & Loss 194.7568359375\n",
      "Epochs(150/100) & Loss 192.68621826171875\n",
      "Epochs(151/100) & Loss 190.6410675048828\n",
      "Epochs(152/100) & Loss 188.62106323242188\n",
      "Epochs(153/100) & Loss 186.6259002685547\n",
      "Epochs(154/100) & Loss 184.65513610839844\n",
      "Epochs(155/100) & Loss 182.70858764648438\n",
      "Epochs(156/100) & Loss 180.78591918945312\n",
      "Epochs(157/100) & Loss 178.88677978515625\n",
      "Epochs(158/100) & Loss 177.010986328125\n",
      "Epochs(159/100) & Loss 175.15811157226562\n",
      "Epochs(160/100) & Loss 173.32803344726562\n",
      "Epochs(161/100) & Loss 171.5202178955078\n",
      "Epochs(162/100) & Loss 169.7346649169922\n",
      "Epochs(163/100) & Loss 167.97093200683594\n",
      "Epochs(164/100) & Loss 166.2287139892578\n",
      "Epochs(165/100) & Loss 164.5078887939453\n",
      "Epochs(166/100) & Loss 162.8080291748047\n",
      "Epochs(167/100) & Loss 161.12893676757812\n",
      "Epochs(168/100) & Loss 159.4703369140625\n",
      "Epochs(169/100) & Loss 157.83203125\n",
      "Epochs(170/100) & Loss 156.21372985839844\n",
      "Epochs(171/100) & Loss 154.61526489257812\n",
      "Epochs(172/100) & Loss 153.03616333007812\n",
      "Epochs(173/100) & Loss 151.476318359375\n",
      "Epochs(174/100) & Loss 149.93557739257812\n",
      "Epochs(175/100) & Loss 148.41357421875\n",
      "Epochs(176/100) & Loss 146.91001892089844\n",
      "Epochs(177/100) & Loss 145.4249267578125\n",
      "Epochs(178/100) & Loss 143.95779418945312\n",
      "Epochs(179/100) & Loss 142.50856018066406\n",
      "Epochs(180/100) & Loss 141.076904296875\n",
      "Epochs(181/100) & Loss 139.66273498535156\n",
      "Epochs(182/100) & Loss 138.26571655273438\n",
      "Epochs(183/100) & Loss 136.8856201171875\n",
      "Epochs(184/100) & Loss 135.5223388671875\n",
      "Epochs(185/100) & Loss 134.1754913330078\n",
      "Epochs(186/100) & Loss 132.84507751464844\n",
      "Epochs(187/100) & Loss 131.53076171875\n",
      "Epochs(188/100) & Loss 130.2324676513672\n",
      "Epochs(189/100) & Loss 128.9498291015625\n",
      "Epochs(190/100) & Loss 127.6827163696289\n",
      "Epochs(191/100) & Loss 126.43098449707031\n",
      "Epochs(192/100) & Loss 125.19435119628906\n",
      "Epochs(193/100) & Loss 123.97265625\n",
      "Epochs(194/100) & Loss 122.76579284667969\n",
      "Epochs(195/100) & Loss 121.5734634399414\n",
      "Epochs(196/100) & Loss 120.3955078125\n",
      "Epochs(197/100) & Loss 119.23188781738281\n",
      "Epochs(198/100) & Loss 118.08219146728516\n",
      "Epochs(199/100) & Loss 116.94645690917969\n",
      "Epochs(200/100) & Loss 115.82435607910156\n",
      "Epochs(201/100) & Loss 114.71574401855469\n",
      "Epochs(202/100) & Loss 113.62055969238281\n",
      "Epochs(203/100) & Loss 112.53849029541016\n",
      "Epochs(204/100) & Loss 111.469482421875\n",
      "Epochs(205/100) & Loss 110.41325378417969\n",
      "Epochs(206/100) & Loss 109.369873046875\n",
      "Epochs(207/100) & Loss 108.33890533447266\n",
      "Epochs(208/100) & Loss 107.32029724121094\n",
      "Epochs(209/100) & Loss 106.31396484375\n",
      "Epochs(210/100) & Loss 105.31968688964844\n",
      "Epochs(211/100) & Loss 104.3372802734375\n",
      "Epochs(212/100) & Loss 103.36676025390625\n",
      "Epochs(213/100) & Loss 102.40777587890625\n",
      "Epochs(214/100) & Loss 101.4602279663086\n",
      "Epochs(215/100) & Loss 100.52406311035156\n",
      "Epochs(216/100) & Loss 99.5990982055664\n",
      "Epochs(217/100) & Loss 98.68519592285156\n",
      "Epochs(218/100) & Loss 97.78215026855469\n",
      "Epochs(219/100) & Loss 96.88993835449219\n",
      "Epochs(220/100) & Loss 96.00830841064453\n",
      "Epochs(221/100) & Loss 95.13720703125\n",
      "Epochs(222/100) & Loss 94.27650451660156\n",
      "Epochs(223/100) & Loss 93.42596435546875\n",
      "Epochs(224/100) & Loss 92.585693359375\n",
      "Epochs(225/100) & Loss 91.75531005859375\n",
      "Epochs(226/100) & Loss 90.93482971191406\n",
      "Epochs(227/100) & Loss 90.12401580810547\n",
      "Epochs(228/100) & Loss 89.32286071777344\n",
      "Epochs(229/100) & Loss 88.53123474121094\n",
      "Epochs(230/100) & Loss 87.74897766113281\n",
      "Epochs(231/100) & Loss 86.97598266601562\n",
      "Epochs(232/100) & Loss 86.2121353149414\n",
      "Epochs(233/100) & Loss 85.4572982788086\n",
      "Epochs(234/100) & Loss 84.7114486694336\n",
      "Epochs(235/100) & Loss 83.97431945800781\n",
      "Epochs(236/100) & Loss 83.24595642089844\n",
      "Epochs(237/100) & Loss 82.526123046875\n",
      "Epochs(238/100) & Loss 81.81483459472656\n",
      "Epochs(239/100) & Loss 81.11190032958984\n",
      "Epochs(240/100) & Loss 80.4172134399414\n",
      "Epochs(241/100) & Loss 79.73074340820312\n",
      "Epochs(242/100) & Loss 79.0522689819336\n",
      "Epochs(243/100) & Loss 78.3818130493164\n",
      "Epochs(244/100) & Loss 77.71919250488281\n",
      "Epochs(245/100) & Loss 77.06441497802734\n",
      "Epochs(246/100) & Loss 76.41722106933594\n",
      "Epochs(247/100) & Loss 75.77764892578125\n",
      "Epochs(248/100) & Loss 75.14554595947266\n",
      "Epochs(249/100) & Loss 74.52079010009766\n",
      "Epochs(250/100) & Loss 73.90340423583984\n",
      "Epochs(251/100) & Loss 73.29316711425781\n",
      "Epochs(252/100) & Loss 72.6900634765625\n",
      "Epochs(253/100) & Loss 72.09403991699219\n",
      "Epochs(254/100) & Loss 71.5048599243164\n",
      "Epochs(255/100) & Loss 70.92253875732422\n",
      "Epochs(256/100) & Loss 70.34703826904297\n",
      "Epochs(257/100) & Loss 69.77821350097656\n",
      "Epochs(258/100) & Loss 69.2159652709961\n",
      "Epochs(259/100) & Loss 68.66028594970703\n",
      "Epochs(260/100) & Loss 68.11096954345703\n",
      "Epochs(261/100) & Loss 67.56800842285156\n",
      "Epochs(262/100) & Loss 67.03135681152344\n",
      "Epochs(263/100) & Loss 66.50090026855469\n",
      "Epochs(264/100) & Loss 65.97657775878906\n",
      "Epochs(265/100) & Loss 65.45831298828125\n",
      "Epochs(266/100) & Loss 64.9459457397461\n",
      "Epochs(267/100) & Loss 64.43953704833984\n",
      "Epochs(268/100) & Loss 63.938926696777344\n",
      "Epochs(269/100) & Loss 63.444061279296875\n",
      "Epochs(270/100) & Loss 62.954856872558594\n",
      "Epochs(271/100) & Loss 62.47132110595703\n",
      "Epochs(272/100) & Loss 61.993263244628906\n",
      "Epochs(273/100) & Loss 61.520668029785156\n",
      "Epochs(274/100) & Loss 61.053558349609375\n",
      "Epochs(275/100) & Loss 60.591705322265625\n",
      "Epochs(276/100) & Loss 60.13512420654297\n",
      "Epochs(277/100) & Loss 59.683738708496094\n",
      "Epochs(278/100) & Loss 59.23749923706055\n",
      "Epochs(279/100) & Loss 58.7963752746582\n",
      "Epochs(280/100) & Loss 58.360267639160156\n",
      "Epochs(281/100) & Loss 57.929039001464844\n",
      "Epochs(282/100) & Loss 57.5026969909668\n",
      "Epochs(283/100) & Loss 57.0811882019043\n",
      "Epochs(284/100) & Loss 56.66447830200195\n",
      "Epochs(285/100) & Loss 56.2524528503418\n",
      "Epochs(286/100) & Loss 55.84513473510742\n",
      "Epochs(287/100) & Loss 55.442344665527344\n",
      "Epochs(288/100) & Loss 55.04405975341797\n",
      "Epochs(289/100) & Loss 54.65032196044922\n",
      "Epochs(290/100) & Loss 54.260955810546875\n",
      "Epochs(291/100) & Loss 53.8759765625\n",
      "Epochs(292/100) & Loss 53.495323181152344\n",
      "Epochs(293/100) & Loss 53.118927001953125\n",
      "Epochs(294/100) & Loss 52.746726989746094\n",
      "Epochs(295/100) & Loss 52.378692626953125\n",
      "Epochs(296/100) & Loss 52.014747619628906\n",
      "Epochs(297/100) & Loss 51.65485763549805\n",
      "Epochs(298/100) & Loss 51.29899978637695\n",
      "Epochs(299/100) & Loss 50.946998596191406\n",
      "Epochs(300/100) & Loss 50.5989990234375\n",
      "Epochs(301/100) & Loss 50.25483703613281\n",
      "Epochs(302/100) & Loss 49.914432525634766\n",
      "Epochs(303/100) & Loss 49.57783889770508\n",
      "Epochs(304/100) & Loss 49.24498748779297\n",
      "Epochs(305/100) & Loss 48.915733337402344\n",
      "Epochs(306/100) & Loss 48.59014129638672\n",
      "Epochs(307/100) & Loss 48.268089294433594\n",
      "Epochs(308/100) & Loss 47.949615478515625\n",
      "Epochs(309/100) & Loss 47.634647369384766\n",
      "Epochs(310/100) & Loss 47.323097229003906\n",
      "Epochs(311/100) & Loss 47.01496505737305\n",
      "Epochs(312/100) & Loss 46.71015167236328\n",
      "Epochs(313/100) & Loss 46.4087028503418\n",
      "Epochs(314/100) & Loss 46.11049270629883\n",
      "Epochs(315/100) & Loss 45.81554412841797\n",
      "Epochs(316/100) & Loss 45.52381896972656\n",
      "Epochs(317/100) & Loss 45.23523712158203\n",
      "Epochs(318/100) & Loss 44.94977951049805\n",
      "Epochs(319/100) & Loss 44.66740036010742\n",
      "Epochs(320/100) & Loss 44.388084411621094\n",
      "Epochs(321/100) & Loss 44.11174011230469\n",
      "Epochs(322/100) & Loss 43.838417053222656\n",
      "Epochs(323/100) & Loss 43.5680046081543\n",
      "Epochs(324/100) & Loss 43.30047607421875\n",
      "Epochs(325/100) & Loss 43.03582763671875\n",
      "Epochs(326/100) & Loss 42.774024963378906\n",
      "Epochs(327/100) & Loss 42.51499557495117\n",
      "Epochs(328/100) & Loss 42.258689880371094\n",
      "Epochs(329/100) & Loss 42.005126953125\n",
      "Epochs(330/100) & Loss 41.7542724609375\n",
      "Epochs(331/100) & Loss 41.506080627441406\n",
      "Epochs(332/100) & Loss 41.260498046875\n",
      "Epochs(333/100) & Loss 41.01750564575195\n",
      "Epochs(334/100) & Loss 40.777076721191406\n",
      "Epochs(335/100) & Loss 40.5391731262207\n",
      "Epochs(336/100) & Loss 40.303775787353516\n",
      "Epochs(337/100) & Loss 40.07085418701172\n",
      "Epochs(338/100) & Loss 39.84033966064453\n",
      "Epochs(339/100) & Loss 39.6123046875\n",
      "Epochs(340/100) & Loss 39.3865966796875\n",
      "Epochs(341/100) & Loss 39.163238525390625\n",
      "Epochs(342/100) & Loss 38.94220733642578\n",
      "Epochs(343/100) & Loss 38.72343063354492\n",
      "Epochs(344/100) & Loss 38.506980895996094\n",
      "Epochs(345/100) & Loss 38.29273223876953\n",
      "Epochs(346/100) & Loss 38.08075714111328\n",
      "Epochs(347/100) & Loss 37.87084197998047\n",
      "Epochs(348/100) & Loss 37.663177490234375\n",
      "Epochs(349/100) & Loss 37.45760726928711\n",
      "Epochs(350/100) & Loss 37.25415802001953\n",
      "Epochs(351/100) & Loss 37.052757263183594\n",
      "Epochs(352/100) & Loss 36.85346603393555\n",
      "Epochs(353/100) & Loss 36.656124114990234\n",
      "Epochs(354/100) & Loss 36.460853576660156\n",
      "Epochs(355/100) & Loss 36.26752471923828\n",
      "Epochs(356/100) & Loss 36.07619094848633\n",
      "Epochs(357/100) & Loss 35.886756896972656\n",
      "Epochs(358/100) & Loss 35.69922637939453\n",
      "Epochs(359/100) & Loss 35.513587951660156\n",
      "Epochs(360/100) & Loss 35.32978057861328\n",
      "Epochs(361/100) & Loss 35.147850036621094\n",
      "Epochs(362/100) & Loss 34.96772384643555\n",
      "Epochs(363/100) & Loss 34.78937911987305\n",
      "Epochs(364/100) & Loss 34.61282730102539\n",
      "Epochs(365/100) & Loss 34.43801498413086\n",
      "Epochs(366/100) & Loss 34.26497268676758\n",
      "Epochs(367/100) & Loss 34.09355926513672\n",
      "Epochs(368/100) & Loss 33.92393112182617\n",
      "Epochs(369/100) & Loss 33.75586700439453\n",
      "Epochs(370/100) & Loss 33.589508056640625\n",
      "Epochs(371/100) & Loss 33.4248046875\n",
      "Epochs(372/100) & Loss 33.26165008544922\n",
      "Epochs(373/100) & Loss 33.100120544433594\n",
      "Epochs(374/100) & Loss 32.94013595581055\n",
      "Epochs(375/100) & Loss 32.781700134277344\n",
      "Epochs(376/100) & Loss 32.62482452392578\n",
      "Epochs(377/100) & Loss 32.469482421875\n",
      "Epochs(378/100) & Loss 32.31563186645508\n",
      "Epochs(379/100) & Loss 32.163204193115234\n",
      "Epochs(380/100) & Loss 32.012245178222656\n",
      "Epochs(381/100) & Loss 31.862741470336914\n",
      "Epochs(382/100) & Loss 31.714664459228516\n",
      "Epochs(383/100) & Loss 31.567981719970703\n",
      "Epochs(384/100) & Loss 31.422714233398438\n",
      "Epochs(385/100) & Loss 31.278804779052734\n",
      "Epochs(386/100) & Loss 31.13623046875\n",
      "Epochs(387/100) & Loss 30.99502182006836\n",
      "Epochs(388/100) & Loss 30.85516929626465\n",
      "Epochs(389/100) & Loss 30.716564178466797\n",
      "Epochs(390/100) & Loss 30.579296112060547\n",
      "Epochs(391/100) & Loss 30.443286895751953\n",
      "Epochs(392/100) & Loss 30.308544158935547\n",
      "Epochs(393/100) & Loss 30.1750545501709\n",
      "Epochs(394/100) & Loss 30.042797088623047\n",
      "Epochs(395/100) & Loss 29.9117431640625\n",
      "Epochs(396/100) & Loss 29.7818603515625\n",
      "Epochs(397/100) & Loss 29.65328598022461\n",
      "Epochs(398/100) & Loss 29.525772094726562\n",
      "Epochs(399/100) & Loss 29.399438858032227\n"
     ]
    }
   ],
   "source": [
    "# Training for multiple epochs\n",
    "for i in range(400):\n",
    "  preds = model(inputs)\n",
    "  loss = MSE(target, preds)\n",
    "  loss.backward()\n",
    "\n",
    "  with torch.no_grad():\n",
    "     w -= w.grad * 1e-5 # learning rate\n",
    "     b -= b.grad * 1e-5\n",
    "     w.grad.zero_()\n",
    "     b.grad.zero_()\n",
    "  print(f\"Epochs({i}/{100}) & Loss {loss}\")"
   ]
  },
  {
   "cell_type": "code",
   "execution_count": 43,
   "metadata": {
    "colab": {
     "base_uri": "https://localhost:8080/"
    },
    "id": "rShT9Hmj6XtR",
    "outputId": "3a164ba1-0781-4951-fab8-71d084c1ba62"
   },
   "outputs": [
    {
     "name": "stdout",
     "output_type": "stream",
     "text": [
      "tensor(29.2743, grad_fn=<DivBackward0>)\n"
     ]
    }
   ],
   "source": [
    "preds = model(inputs)\n",
    "loss = MSE(target, preds)\n",
    "print(loss)"
   ]
  },
  {
   "cell_type": "code",
   "execution_count": 45,
   "metadata": {
    "colab": {
     "base_uri": "https://localhost:8080/"
    },
    "id": "cezq8zGu6Xqs",
    "outputId": "a4ef29e0-7465-4f20-cd21-ebe617907f6f"
   },
   "outputs": [
    {
     "data": {
      "text/plain": [
       "5.41057330014845"
      ]
     },
     "execution_count": 45,
     "metadata": {},
     "output_type": "execute_result"
    }
   ],
   "source": [
    "from math import sqrt\n",
    "sqrt(loss)"
   ]
  },
  {
   "cell_type": "code",
   "execution_count": 47,
   "metadata": {
    "colab": {
     "base_uri": "https://localhost:8080/"
    },
    "id": "JvsKGPfB6XoH",
    "outputId": "31277d35-68f3-4cbe-e73a-74236e68641f"
   },
   "outputs": [
    {
     "data": {
      "text/plain": [
       "tensor([[ 57.8262,  71.7524],\n",
       "        [ 80.4681,  97.3252],\n",
       "        [121.5835, 138.2440],\n",
       "        [ 25.1030,  45.4548],\n",
       "        [ 96.4677, 108.2952]], grad_fn=<AddBackward0>)"
      ]
     },
     "execution_count": 47,
     "metadata": {},
     "output_type": "execute_result"
    }
   ],
   "source": [
    "preds"
   ]
  },
  {
   "cell_type": "code",
   "execution_count": 49,
   "metadata": {
    "colab": {
     "base_uri": "https://localhost:8080/"
    },
    "id": "6U8284MJ6p5w",
    "outputId": "53914aca-0249-46b1-a9a7-745fba07c1ae"
   },
   "outputs": [
    {
     "data": {
      "text/plain": [
       "tensor([[ 56.,  70.],\n",
       "        [ 81., 101.],\n",
       "        [119., 133.],\n",
       "        [ 22.,  37.],\n",
       "        [103., 119.]])"
      ]
     },
     "execution_count": 49,
     "metadata": {},
     "output_type": "execute_result"
    }
   ],
   "source": [
    "target"
   ]
  },
  {
   "cell_type": "code",
   "execution_count": null,
   "metadata": {
    "id": "3jkj32ag6p3H"
   },
   "outputs": [],
   "source": [
    "## You can see they are almost close earch other"
   ]
  },
  {
   "cell_type": "code",
   "execution_count": null,
   "metadata": {
    "id": "UHrHiAXZ6pzu"
   },
   "outputs": [],
   "source": []
  },
  {
   "cell_type": "markdown",
   "metadata": {
    "id": "6-OUXNOx3CPg"
   },
   "source": [
    "## Neural Network using Pytorch"
   ]
  },
  {
   "cell_type": "code",
   "execution_count": null,
   "metadata": {
    "colab": {
     "base_uri": "https://localhost:8080/"
    },
    "id": "SHo8uHimkfNH",
    "outputId": "f417eca2-1271-4725-d16c-b06daef05340"
   },
   "outputs": [
    {
     "name": "stdout",
     "output_type": "stream",
     "text": [
      "Wed May 24 08:25:17 2023       \n",
      "+-----------------------------------------------------------------------------+\n",
      "| NVIDIA-SMI 525.85.12    Driver Version: 525.85.12    CUDA Version: 12.0     |\n",
      "|-------------------------------+----------------------+----------------------+\n",
      "| GPU  Name        Persistence-M| Bus-Id        Disp.A | Volatile Uncorr. ECC |\n",
      "| Fan  Temp  Perf  Pwr:Usage/Cap|         Memory-Usage | GPU-Util  Compute M. |\n",
      "|                               |                      |               MIG M. |\n",
      "|===============================+======================+======================|\n",
      "|   0  Tesla T4            Off  | 00000000:00:04.0 Off |                    0 |\n",
      "| N/A   42C    P8     9W /  70W |      3MiB / 15360MiB |      0%      Default |\n",
      "|                               |                      |                  N/A |\n",
      "+-------------------------------+----------------------+----------------------+\n",
      "                                                                               \n",
      "+-----------------------------------------------------------------------------+\n",
      "| Processes:                                                                  |\n",
      "|  GPU   GI   CI        PID   Type   Process name                  GPU Memory |\n",
      "|        ID   ID                                                   Usage      |\n",
      "|=============================================================================|\n",
      "|  No running processes found                                                 |\n",
      "+-----------------------------------------------------------------------------+\n"
     ]
    }
   ],
   "source": [
    "# To check GPU\n",
    "!nvidia-smi"
   ]
  },
  {
   "cell_type": "code",
   "execution_count": 1,
   "metadata": {
    "id": "jv4zRj3u3LtI"
   },
   "outputs": [],
   "source": [
    "import torch\n",
    "from torch import nn\n",
    "from torch.utils.data import DataLoader\n",
    "from torchvision import datasets\n",
    "from torchvision.transforms import ToTensor, Lambda, Compose\n",
    "import matplotlib.pyplot as plt"
   ]
  },
  {
   "cell_type": "code",
   "execution_count": 2,
   "metadata": {
    "colab": {
     "base_uri": "https://localhost:8080/"
    },
    "id": "Swc3R2Ki3OSI",
    "outputId": "084bc77d-4b4c-40ce-c74a-f139ec81d50b"
   },
   "outputs": [
    {
     "name": "stdout",
     "output_type": "stream",
     "text": [
      "Downloading http://fashion-mnist.s3-website.eu-central-1.amazonaws.com/train-images-idx3-ubyte.gz\n",
      "Downloading http://fashion-mnist.s3-website.eu-central-1.amazonaws.com/train-images-idx3-ubyte.gz to data\\FashionMNIST\\raw\\train-images-idx3-ubyte.gz\n"
     ]
    },
    {
     "name": "stderr",
     "output_type": "stream",
     "text": [
      "100%|██████████| 26.4M/26.4M [00:11<00:00, 2.38MB/s]\n"
     ]
    },
    {
     "name": "stdout",
     "output_type": "stream",
     "text": [
      "Extracting data\\FashionMNIST\\raw\\train-images-idx3-ubyte.gz to data\\FashionMNIST\\raw\n",
      "\n",
      "Downloading http://fashion-mnist.s3-website.eu-central-1.amazonaws.com/train-labels-idx1-ubyte.gz\n",
      "Downloading http://fashion-mnist.s3-website.eu-central-1.amazonaws.com/train-labels-idx1-ubyte.gz to data\\FashionMNIST\\raw\\train-labels-idx1-ubyte.gz\n"
     ]
    },
    {
     "name": "stderr",
     "output_type": "stream",
     "text": [
      "100%|██████████| 29.5k/29.5k [00:00<00:00, 152kB/s]\n"
     ]
    },
    {
     "name": "stdout",
     "output_type": "stream",
     "text": [
      "Extracting data\\FashionMNIST\\raw\\train-labels-idx1-ubyte.gz to data\\FashionMNIST\\raw\n",
      "\n",
      "Downloading http://fashion-mnist.s3-website.eu-central-1.amazonaws.com/t10k-images-idx3-ubyte.gz\n",
      "Downloading http://fashion-mnist.s3-website.eu-central-1.amazonaws.com/t10k-images-idx3-ubyte.gz to data\\FashionMNIST\\raw\\t10k-images-idx3-ubyte.gz\n"
     ]
    },
    {
     "name": "stderr",
     "output_type": "stream",
     "text": [
      "100%|██████████| 4.42M/4.42M [00:02<00:00, 1.83MB/s]\n"
     ]
    },
    {
     "name": "stdout",
     "output_type": "stream",
     "text": [
      "Extracting data\\FashionMNIST\\raw\\t10k-images-idx3-ubyte.gz to data\\FashionMNIST\\raw\n",
      "\n",
      "Downloading http://fashion-mnist.s3-website.eu-central-1.amazonaws.com/t10k-labels-idx1-ubyte.gz\n",
      "Downloading http://fashion-mnist.s3-website.eu-central-1.amazonaws.com/t10k-labels-idx1-ubyte.gz to data\\FashionMNIST\\raw\\t10k-labels-idx1-ubyte.gz\n"
     ]
    },
    {
     "name": "stderr",
     "output_type": "stream",
     "text": [
      "100%|██████████| 5.15k/5.15k [00:00<00:00, 3.80MB/s]"
     ]
    },
    {
     "name": "stdout",
     "output_type": "stream",
     "text": [
      "Extracting data\\FashionMNIST\\raw\\t10k-labels-idx1-ubyte.gz to data\\FashionMNIST\\raw\n",
      "\n"
     ]
    },
    {
     "name": "stderr",
     "output_type": "stream",
     "text": [
      "\n"
     ]
    }
   ],
   "source": [
    "# Download training data from open datasets.\n",
    "training_data = datasets.FashionMNIST(\n",
    "    root=\"data\",\n",
    "    train=True,\n",
    "    download=True,\n",
    "    transform=ToTensor(),\n",
    ")\n",
    "\n",
    "# Download test data from open datasets.\n",
    "test_data = datasets.FashionMNIST(\n",
    "    root=\"data\",\n",
    "    train=False,\n",
    "    download=True,\n",
    "    transform=ToTensor(),\n",
    ")"
   ]
  },
  {
   "cell_type": "code",
   "execution_count": 5,
   "metadata": {
    "colab": {
     "base_uri": "https://localhost:8080/"
    },
    "id": "Cd71u_LZ3QMo",
    "outputId": "cadc622c-044e-4923-bc18-1e2b6e0c9ae2"
   },
   "outputs": [
    {
     "data": {
      "text/plain": [
       "torchvision.datasets.mnist.FashionMNIST"
      ]
     },
     "execution_count": 5,
     "metadata": {},
     "output_type": "execute_result"
    }
   ],
   "source": [
    "type(training_data)"
   ]
  },
  {
   "cell_type": "code",
   "execution_count": 7,
   "metadata": {
    "colab": {
     "base_uri": "https://localhost:8080/"
    },
    "id": "_z8xEoct3Taa",
    "outputId": "e5774145-9510-40d5-8322-7b24d74aab77"
   },
   "outputs": [
    {
     "name": "stdout",
     "output_type": "stream",
     "text": [
      "Shape of X [N, C, H, W]:  torch.Size([64, 1, 28, 28])\n",
      "Shape of y:  torch.Size([64]) torch.int64\n"
     ]
    }
   ],
   "source": [
    "batch_size = 64\n",
    "\n",
    "# Create data loaders.\n",
    "train_dataloader = DataLoader(training_data, batch_size=batch_size)\n",
    "test_dataloader = DataLoader(test_data, batch_size=batch_size)\n",
    "\n",
    "for X, y in test_dataloader:\n",
    "    print(\"Shape of X [N, C, H, W]: \", X.shape)\n",
    "    print(\"Shape of y: \", y.shape, y.dtype)\n",
    "    # print(X)\n",
    "    # print(y)\n",
    "    break"
   ]
  },
  {
   "cell_type": "code",
   "execution_count": 11,
   "metadata": {
    "colab": {
     "base_uri": "https://localhost:8080/"
    },
    "id": "Fx_2V-C83aUS",
    "outputId": "e0fde571-427a-4998-f6db-72467f034eab"
   },
   "outputs": [
    {
     "name": "stdout",
     "output_type": "stream",
     "text": [
      "Using cpu device\n"
     ]
    }
   ],
   "source": [
    "# Get cpu or gpu device for training.\n",
    "device = \"cuda\" if torch.cuda.is_available() else \"cpu\"\n",
    "print(f\"Using {device} device\")"
   ]
  },
  {
   "cell_type": "code",
   "execution_count": 13,
   "metadata": {
    "colab": {
     "base_uri": "https://localhost:8080/"
    },
    "id": "ueZJS_-L3VQ4",
    "outputId": "92675220-831c-40b1-aed1-44c1c7503842"
   },
   "outputs": [
    {
     "name": "stdout",
     "output_type": "stream",
     "text": [
      "NeuralNetwork(\n",
      "  (flatten): Flatten(start_dim=1, end_dim=-1)\n",
      "  (linear_relu_stack): Sequential(\n",
      "    (0): Linear(in_features=784, out_features=512, bias=True)\n",
      "    (1): ReLU()\n",
      "    (2): Linear(in_features=512, out_features=512, bias=True)\n",
      "    (3): ReLU()\n",
      "    (4): Linear(in_features=512, out_features=10, bias=True)\n",
      "  )\n",
      ")\n"
     ]
    }
   ],
   "source": [
    "# Define model\n",
    "class NeuralNetwork(nn.Module):\n",
    "    def __init__(self):\n",
    "        super(NeuralNetwork, self).__init__()\n",
    "        self.flatten = nn.Flatten()\n",
    "        self.linear_relu_stack = nn.Sequential(\n",
    "            nn.Linear(28*28, 512),\n",
    "            nn.ReLU(),\n",
    "            nn.Linear(512, 512),\n",
    "            nn.ReLU(),\n",
    "            nn.Linear(512, 10)\n",
    "        )\n",
    "\n",
    "    def forward(self, x):\n",
    "        x = self.flatten(x)\n",
    "        logits = self.linear_relu_stack(x)\n",
    "        return logits\n",
    "\n",
    "model = NeuralNetwork().to(device)\n",
    "print(model)"
   ]
  },
  {
   "cell_type": "code",
   "execution_count": 15,
   "metadata": {
    "id": "1SEEk4fz3ey2"
   },
   "outputs": [],
   "source": [
    "loss_fn = nn.CrossEntropyLoss()\n",
    "optimizer = torch.optim.SGD(model.parameters(), lr=1e-3)"
   ]
  },
  {
   "cell_type": "code",
   "execution_count": 17,
   "metadata": {
    "id": "tryz3wtG3ewp"
   },
   "outputs": [],
   "source": [
    "def train(dataloader, model, loss_fn, optimizer):\n",
    "    size = len(dataloader.dataset)\n",
    "    model.train()\n",
    "    for batch, (X, y) in enumerate(dataloader):\n",
    "        X, y = X.to(device), y.to(device)\n",
    "\n",
    "        # Compute prediction error\n",
    "        pred = model(X)\n",
    "        loss = loss_fn(pred, y)\n",
    "\n",
    "        # Backpropagation\n",
    "        optimizer.zero_grad()\n",
    "        loss.backward()\n",
    "        optimizer.step()\n",
    "\n",
    "        if batch % 100 == 0:\n",
    "            loss, current = loss.item(), batch * len(X)\n",
    "            print(f\"loss: {loss:>7f}  [{current:>5d}/{size:>5d}]\")"
   ]
  },
  {
   "cell_type": "code",
   "execution_count": 19,
   "metadata": {
    "id": "Z1C_N3if3j-j"
   },
   "outputs": [],
   "source": [
    "def test(dataloader, model, loss_fn):\n",
    "    size = len(dataloader.dataset)\n",
    "    num_batches = len(dataloader)\n",
    "    model.eval()\n",
    "    test_loss, correct = 0, 0\n",
    "    with torch.no_grad():\n",
    "        for X, y in dataloader:\n",
    "            X, y = X.to(device), y.to(device)\n",
    "            pred = model(X)\n",
    "            test_loss += loss_fn(pred, y).item()\n",
    "            correct += (pred.argmax(1) == y).type(torch.float).sum().item()\n",
    "    test_loss /= num_batches\n",
    "    correct /= size\n",
    "    print(f\"Test Error: \\n Accuracy: {(100*correct):>0.1f}%, Avg loss: {test_loss:>8f} \\n\")"
   ]
  },
  {
   "cell_type": "code",
   "execution_count": 21,
   "metadata": {
    "colab": {
     "base_uri": "https://localhost:8080/"
    },
    "id": "2UxIUc-Y3mSp",
    "outputId": "1803e0d5-a1d4-47a5-abe7-9328599609da"
   },
   "outputs": [
    {
     "name": "stdout",
     "output_type": "stream",
     "text": [
      "Epoch 1\n",
      "-------------------------------\n",
      "loss: 2.306498  [    0/60000]\n",
      "loss: 2.283619  [ 6400/60000]\n",
      "loss: 2.268991  [12800/60000]\n",
      "loss: 2.261979  [19200/60000]\n",
      "loss: 2.242528  [25600/60000]\n",
      "loss: 2.220445  [32000/60000]\n",
      "loss: 2.223598  [38400/60000]\n",
      "loss: 2.195698  [44800/60000]\n",
      "loss: 2.205372  [51200/60000]\n",
      "loss: 2.165554  [57600/60000]\n",
      "Test Error: \n",
      " Accuracy: 49.4%, Avg loss: 2.155320 \n",
      "\n",
      "Epoch 2\n",
      "-------------------------------\n",
      "loss: 2.174839  [    0/60000]\n",
      "loss: 2.154920  [ 6400/60000]\n",
      "loss: 2.105804  [12800/60000]\n",
      "loss: 2.114646  [19200/60000]\n",
      "loss: 2.067502  [25600/60000]\n",
      "loss: 2.018147  [32000/60000]\n",
      "loss: 2.034605  [38400/60000]\n",
      "loss: 1.969982  [44800/60000]\n",
      "loss: 1.984444  [51200/60000]\n",
      "loss: 1.898210  [57600/60000]\n",
      "Test Error: \n",
      " Accuracy: 58.9%, Avg loss: 1.896589 \n",
      "\n",
      "Epoch 3\n",
      "-------------------------------\n",
      "loss: 1.943627  [    0/60000]\n",
      "loss: 1.900922  [ 6400/60000]\n",
      "loss: 1.795856  [12800/60000]\n",
      "loss: 1.817601  [19200/60000]\n",
      "loss: 1.714488  [25600/60000]\n",
      "loss: 1.677352  [32000/60000]\n",
      "loss: 1.676394  [38400/60000]\n",
      "loss: 1.593972  [44800/60000]\n",
      "loss: 1.617241  [51200/60000]\n",
      "loss: 1.497143  [57600/60000]\n",
      "Test Error: \n",
      " Accuracy: 60.9%, Avg loss: 1.519047 \n",
      "\n",
      "Epoch 4\n",
      "-------------------------------\n",
      "loss: 1.602689  [    0/60000]\n",
      "loss: 1.552848  [ 6400/60000]\n",
      "loss: 1.412031  [12800/60000]\n",
      "loss: 1.462318  [19200/60000]\n",
      "loss: 1.347200  [25600/60000]\n",
      "loss: 1.355514  [32000/60000]\n",
      "loss: 1.350604  [38400/60000]\n",
      "loss: 1.287724  [44800/60000]\n",
      "loss: 1.319512  [51200/60000]\n",
      "loss: 1.215751  [57600/60000]\n",
      "Test Error: \n",
      " Accuracy: 63.3%, Avg loss: 1.242291 \n",
      "\n",
      "Epoch 5\n",
      "-------------------------------\n",
      "loss: 1.333563  [    0/60000]\n",
      "loss: 1.304623  [ 6400/60000]\n",
      "loss: 1.144115  [12800/60000]\n",
      "loss: 1.234923  [19200/60000]\n",
      "loss: 1.114931  [25600/60000]\n",
      "loss: 1.148647  [32000/60000]\n",
      "loss: 1.158246  [38400/60000]\n",
      "loss: 1.103634  [44800/60000]\n",
      "loss: 1.140755  [51200/60000]\n",
      "loss: 1.058917  [57600/60000]\n",
      "Test Error: \n",
      " Accuracy: 64.9%, Avg loss: 1.077112 \n",
      "\n",
      "Done!\n"
     ]
    }
   ],
   "source": [
    "epochs = 5\n",
    "for t in range(epochs):\n",
    "    print(f\"Epoch {t+1}\\n-------------------------------\")\n",
    "    train(train_dataloader, model, loss_fn, optimizer)\n",
    "    test(test_dataloader, model, loss_fn)\n",
    "print(\"Done!\")"
   ]
  },
  {
   "cell_type": "code",
   "execution_count": 23,
   "metadata": {
    "colab": {
     "base_uri": "https://localhost:8080/"
    },
    "id": "mqdoWByK3oxh",
    "outputId": "f1255f2f-c5ad-4b1b-d64e-d21e91336804"
   },
   "outputs": [
    {
     "name": "stdout",
     "output_type": "stream",
     "text": [
      "Saved PyTorch Model State to model.pth\n"
     ]
    }
   ],
   "source": [
    "#save model\n",
    "torch.save(model.state_dict(), \"model.pth\")\n",
    "print(\"Saved PyTorch Model State to model.pth\")"
   ]
  },
  {
   "cell_type": "code",
   "execution_count": 29,
   "metadata": {
    "colab": {
     "base_uri": "https://localhost:8080/"
    },
    "id": "gB0EWHe24DXZ",
    "outputId": "b1cb826f-e321-4e10-f176-e761de2fc0ab"
   },
   "outputs": [
    {
     "data": {
      "text/plain": [
       "<All keys matched successfully>"
      ]
     },
     "execution_count": 29,
     "metadata": {},
     "output_type": "execute_result"
    }
   ],
   "source": [
    "import warnings\n",
    "warnings.filterwarnings('ignore')\n",
    "\n",
    "#load model\n",
    "model = NeuralNetwork()\n",
    "model.load_state_dict(torch.load(\"model.pth\"))"
   ]
  },
  {
   "cell_type": "code",
   "execution_count": 27,
   "metadata": {
    "colab": {
     "base_uri": "https://localhost:8080/"
    },
    "id": "qRHA5ZZP4HEJ",
    "outputId": "fffed502-2856-4b61-a768-0b60617527ce"
   },
   "outputs": [
    {
     "name": "stdout",
     "output_type": "stream",
     "text": [
      "Predicted: \"Ankle boot\", Actual: \"Ankle boot\"\n"
     ]
    }
   ],
   "source": [
    "## Prediction\n",
    "\n",
    "classes = [\n",
    "    \"T-shirt/top\",\n",
    "    \"Trouser\",\n",
    "    \"Pullover\",\n",
    "    \"Dress\",\n",
    "    \"Coat\",\n",
    "    \"Sandal\",\n",
    "    \"Shirt\",\n",
    "    \"Sneaker\",\n",
    "    \"Bag\",\n",
    "    \"Ankle boot\",\n",
    "]\n",
    "\n",
    "model.eval()\n",
    "x, y = test_data[0][0], test_data[0][1]\n",
    "with torch.no_grad():\n",
    "    pred = model(x)\n",
    "    predicted, actual = classes[pred[0].argmax(0)], classes[y]\n",
    "    print(f'Predicted: \"{predicted}\", Actual: \"{actual}\"')"
   ]
  }
 ],
 "metadata": {
  "accelerator": "GPU",
  "colab": {
   "provenance": []
  },
  "kernelspec": {
   "display_name": "Python 3 (ipykernel)",
   "language": "python",
   "name": "python3"
  },
  "language_info": {
   "codemirror_mode": {
    "name": "ipython",
    "version": 3
   },
   "file_extension": ".py",
   "mimetype": "text/x-python",
   "name": "python",
   "nbconvert_exporter": "python",
   "pygments_lexer": "ipython3",
   "version": "3.11.7"
  }
 },
 "nbformat": 4,
 "nbformat_minor": 4
}
