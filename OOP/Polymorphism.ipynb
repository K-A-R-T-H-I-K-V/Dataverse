{
 "cells": [
  {
   "cell_type": "markdown",
   "id": "37685807",
   "metadata": {},
   "source": [
    "## <span style = \"text-decoration : underline ;\" >Polymorphism</span>\n",
    "### Polymorphism, a fundamental concept in object-oriented programming, is the ability of one function to perform multiple functionalities. It can be implemented in different ways, including operator overloading, built-in functions, classes, and inheritance. In operator overloading, the same operator is used in different ways, such as addition, string concatenation or append in case of a list."
   ]
  },
  {
   "cell_type": "code",
   "execution_count": 1,
   "id": "57e1b5d9",
   "metadata": {},
   "outputs": [
    {
     "name": "stdout",
     "output_type": "stream",
     "text": [
      "32\n"
     ]
    }
   ],
   "source": [
    "print(10 + 22)"
   ]
  },
  {
   "cell_type": "code",
   "execution_count": 2,
   "id": "24206d18",
   "metadata": {},
   "outputs": [
    {
     "name": "stdout",
     "output_type": "stream",
     "text": [
      "HelloWorld\n"
     ]
    }
   ],
   "source": [
    "print('Hello' + 'World')"
   ]
  },
  {
   "cell_type": "code",
   "execution_count": 3,
   "id": "76b10e48",
   "metadata": {},
   "outputs": [
    {
     "name": "stdout",
     "output_type": "stream",
     "text": [
      "[1, 2, 3, -3, -2, -1]\n"
     ]
    }
   ],
   "source": [
    "print([1, 2, 3] + [-3, -2, -1])"
   ]
  },
  {
   "cell_type": "markdown",
   "id": "3d034e63",
   "metadata": {},
   "source": [
    "### Operator overloading is the concept of using an operator beyond its pre-defined purpose. "
   ]
  },
  {
   "cell_type": "code",
   "execution_count": 4,
   "id": "2cd59d73",
   "metadata": {},
   "outputs": [
    {
     "name": "stdout",
     "output_type": "stream",
     "text": [
      "16\n"
     ]
    }
   ],
   "source": [
    "print(len(\"#TeamPythosapien\"))"
   ]
  },
  {
   "cell_type": "code",
   "execution_count": 5,
   "id": "847da83b",
   "metadata": {},
   "outputs": [
    {
     "name": "stdout",
     "output_type": "stream",
     "text": [
      "3\n"
     ]
    }
   ],
   "source": [
    "print(len([\"Python\", \"Java\", \"C++\"]))"
   ]
  },
  {
   "cell_type": "code",
   "execution_count": 6,
   "id": "a3f97fc7",
   "metadata": {},
   "outputs": [
    {
     "name": "stdout",
     "output_type": "stream",
     "text": [
      "2\n"
     ]
    }
   ],
   "source": [
    "print(len({\"Name\": \"Pratheek\", \"Address\": \"Kolkata, India\"}))"
   ]
  },
  {
   "cell_type": "code",
   "execution_count": null,
   "id": "e55e3f14",
   "metadata": {},
   "outputs": [],
   "source": []
  },
  {
   "cell_type": "code",
   "execution_count": 1,
   "id": "b1ef98b3",
   "metadata": {},
   "outputs": [],
   "source": [
    "# Example"
   ]
  },
  {
   "cell_type": "code",
   "execution_count": 2,
   "id": "909b1f1d",
   "metadata": {},
   "outputs": [],
   "source": [
    "class lion :\n",
    "    \n",
    "    def __init__(self, name, age) :\n",
    "        \n",
    "        self.name = name\n",
    "        self.age = age\n",
    "        \n",
    "    def info(self) :\n",
    "        print(f\"I am a lion. My name is {self.name}. I am {self.age} years old\")\n",
    "        \n",
    "    def make_sound(self) :\n",
    "        print('roar')"
   ]
  },
  {
   "cell_type": "code",
   "execution_count": 3,
   "id": "5cdf83cf",
   "metadata": {},
   "outputs": [],
   "source": [
    "class cow :\n",
    "    \n",
    "    def __init__(self, name, age) :\n",
    "        \n",
    "        self.name = name\n",
    "        self.age = age\n",
    "        \n",
    "    def info(self) :\n",
    "        print(f\"I am a cow. My name is {self.name}. I am {self.age} years old\")\n",
    "        \n",
    "    def make_sound(self) :\n",
    "        print('Moo')"
   ]
  },
  {
   "cell_type": "code",
   "execution_count": 4,
   "id": "e2ad2b77",
   "metadata": {},
   "outputs": [],
   "source": [
    "lion1 = lion(\"Simba\", 2.5)"
   ]
  },
  {
   "cell_type": "code",
   "execution_count": 5,
   "id": "c0165a25",
   "metadata": {},
   "outputs": [],
   "source": [
    "cow1 = cow(\"Punyakoti\", 3)"
   ]
  },
  {
   "cell_type": "code",
   "execution_count": 15,
   "id": "6343f80a",
   "metadata": {},
   "outputs": [],
   "source": [
    "def virus(class_objs_list) :\n",
    "    \n",
    "    for i in class_objs_list :\n",
    "        i.make_sound()\n",
    "        i.info()\n",
    "        i.make_sound()"
   ]
  },
  {
   "cell_type": "code",
   "execution_count": 13,
   "id": "136f827d",
   "metadata": {},
   "outputs": [],
   "source": [
    "class_objs_list = [lion1, cow1]"
   ]
  },
  {
   "cell_type": "code",
   "execution_count": 16,
   "id": "e6b09ff5",
   "metadata": {},
   "outputs": [
    {
     "name": "stdout",
     "output_type": "stream",
     "text": [
      "roar\n",
      "I am a lion. My name is Simba. I am 2.5 years old\n",
      "roar\n",
      "Moo\n",
      "I am a cow. My name is Punyakoti. I am 3 years old\n",
      "Moo\n"
     ]
    }
   ],
   "source": [
    "virus(class_objs_list)"
   ]
  },
  {
   "cell_type": "markdown",
   "id": "936786ff",
   "metadata": {},
   "source": [
    "### The ability of a function or method to behave differently based on the object or data type it is operating on is called Polymorphism! \n",
    "\n",
    "### In the above example, 'virus' is a function that can be seen exhibiting polymorphism. The nature of the output varies according to the nature of the input data. When 'lion1' was passed, the output was with respect to the class 'lion', and similarly it was with respect to the class 'cow' when the input was an instance of the class 'cow'"
   ]
  },
  {
   "cell_type": "code",
   "execution_count": null,
   "id": "f68dc415",
   "metadata": {},
   "outputs": [],
   "source": []
  }
 ],
 "metadata": {
  "kernelspec": {
   "display_name": "Python 3 (ipykernel)",
   "language": "python",
   "name": "python3"
  },
  "language_info": {
   "codemirror_mode": {
    "name": "ipython",
    "version": 3
   },
   "file_extension": ".py",
   "mimetype": "text/x-python",
   "name": "python",
   "nbconvert_exporter": "python",
   "pygments_lexer": "ipython3",
   "version": "3.9.13"
  }
 },
 "nbformat": 4,
 "nbformat_minor": 5
}
