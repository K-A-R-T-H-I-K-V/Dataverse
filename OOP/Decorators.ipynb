{
 "cells": [
  {
   "cell_type": "markdown",
   "id": "ae9313cf",
   "metadata": {},
   "source": [
    "# <span style = \"text-decoration : underline ;\" >DECORATORS</span>"
   ]
  },
  {
   "cell_type": "markdown",
   "id": "26c68ebe",
   "metadata": {},
   "source": [
    "### 1. Functions as First-Class Citizens : In Python, functions can be assigned to variables, passed as arguments to other functions, and returned as values from functions. This means we can treat functions just like any other object in Python.\n",
    "### 2. Higher-Order Functions : A higher-order function is a function that takes one or more functions as arguments or returns a function as its result. It allows us to work with function dynamically\n",
    "### 3. What are Decorators ? Decorators are a way to modify or extend the behavior of functions or classes without changing their source code. They use the concept of higher-order functions to wrap existing functions with additional code. \n",
    "### 4. Basic Structure of a Decorator : A Decorator is a function that takes a function as input, adds some extra behavior, and returns a modified version of the original function."
   ]
  },
  {
   "cell_type": "code",
   "execution_count": 1,
   "id": "0569f991",
   "metadata": {},
   "outputs": [],
   "source": [
    "# func = decorator(func)"
   ]
  },
  {
   "cell_type": "markdown",
   "id": "dc835860",
   "metadata": {},
   "source": [
    "### where 'func' is the function being decorated and 'decorator' is the function used to decorate it"
   ]
  },
  {
   "cell_type": "code",
   "execution_count": 1,
   "id": "eb420716",
   "metadata": {},
   "outputs": [
    {
     "name": "stdout",
     "output_type": "stream",
     "text": [
      "This is printed before the function is called\n",
      "Hello! The function is executing\n",
      "This is printed after the function is called\n"
     ]
    }
   ],
   "source": [
    "def decorator(func):\n",
    "  \n",
    "    def wrapper():\n",
    "        print(\"This is printed before the function is called\")\n",
    "        func()\n",
    "        print(\"This is printed after the function is called\")\n",
    "  \n",
    "    return wrapper\n",
    "\n",
    "def say_hello():\n",
    "    print(\"Hello! The function is executing\")\n",
    "\n",
    "\n",
    "say_hello = decorator(say_hello)\n",
    "\n",
    "say_hello()"
   ]
  },
  {
   "cell_type": "markdown",
   "id": "3c46a3ed",
   "metadata": {},
   "source": [
    "### \"decorator\": This is a decorator function, it accepts another function as an argument and \"decorates it\" which means that it modifies it in some way and returns the modified version.\n",
    "### Inside the decorator function, we are defining another inner function called wrapper. This is the actual function that does the modification by wrapping the passed function func. decorator returns the wrapper function.\n",
    "### \"say_hello\": This is an ordinary function that we need to decorate. Here, all it does is print a simple statement.\n",
    "\n",
    "### We passed the 'say_hello' function to the 'decorator' function. In effect, the 'say_hello' now points to the 'wrapper' function returned by the 'decorator'. However, the 'wrapper' function has a reference to the original 'say_hello()' as func, and calls that function between the two calls to print()."
   ]
  },
  {
   "cell_type": "markdown",
   "id": "597efc88",
   "metadata": {},
   "source": [
    "## Syntactic Decorator"
   ]
  },
  {
   "cell_type": "code",
   "execution_count": 4,
   "id": "bd601770",
   "metadata": {},
   "outputs": [
    {
     "data": {
      "text/plain": [
       "'\\n@decorator\\ndef func(arg1, arg2, ...):\\n    pass'"
      ]
     },
     "execution_count": 4,
     "metadata": {},
     "output_type": "execute_result"
    }
   ],
   "source": [
    "\"\"\"\n",
    "@decorator\n",
    "def func(arg1, arg2, ...):\n",
    "    pass\"\"\""
   ]
  },
  {
   "cell_type": "code",
   "execution_count": 1,
   "id": "507d50fd",
   "metadata": {},
   "outputs": [
    {
     "name": "stdout",
     "output_type": "stream",
     "text": [
      "This is printed before the function is called\n",
      "Hello! The function is executing\n",
      "This is printed after the function is called\n"
     ]
    }
   ],
   "source": [
    "def decorator(func):\n",
    "    def wrapper():\n",
    "        print(\"This is printed before the function is called\")\n",
    "        func()\n",
    "        print(\"This is printed after the function is called\")\n",
    "  \n",
    "    return wrapper\n",
    "\n",
    "@decorator\n",
    "def say_hello():\n",
    "    print(\"Hello! The function is executing\")\n",
    "\n",
    "say_hello()"
   ]
  },
  {
   "cell_type": "code",
   "execution_count": null,
   "id": "749fd5e3",
   "metadata": {},
   "outputs": [],
   "source": []
  },
  {
   "cell_type": "markdown",
   "id": "1577c867",
   "metadata": {},
   "source": [
    "### The 'wrapper' function of the 'measure_time' decorator uses the 'time' function from the time module to calculate the time difference between the start and end of the function execution and then print that on the console."
   ]
  },
  {
   "cell_type": "code",
   "execution_count": 14,
   "id": "bc555f1b",
   "metadata": {},
   "outputs": [],
   "source": [
    "from time import time, sleep\n",
    "\n",
    "def measure_time(func) :\n",
    "    def wrapper(*args, **kwargs) :\n",
    "        start = time()\n",
    "        func(*args, **kwargs)\n",
    "        end = time()\n",
    "        print(func.__name__, 'took', end - start)\n",
    "    return wrapper"
   ]
  },
  {
   "cell_type": "code",
   "execution_count": null,
   "id": "4c2b5d38",
   "metadata": {},
   "outputs": [],
   "source": []
  },
  {
   "cell_type": "code",
   "execution_count": 9,
   "id": "048e1236",
   "metadata": {},
   "outputs": [],
   "source": [
    "@measure_time\n",
    "def add() :\n",
    "    a = int(input(\"Enter a : \"))\n",
    "    b = int(input(\"Enter b : \"))\n",
    "    print(a + b)"
   ]
  },
  {
   "cell_type": "code",
   "execution_count": 11,
   "id": "264e7b96",
   "metadata": {
    "scrolled": true
   },
   "outputs": [
    {
     "name": "stdout",
     "output_type": "stream",
     "text": [
      "Enter a : 21\n",
      "Enter b : 32\n",
      "53\n",
      "add took 2.6053812503814697\n"
     ]
    }
   ],
   "source": [
    "add()"
   ]
  },
  {
   "cell_type": "code",
   "execution_count": null,
   "id": "449fb241",
   "metadata": {},
   "outputs": [],
   "source": []
  },
  {
   "cell_type": "code",
   "execution_count": 15,
   "id": "e40961a3",
   "metadata": {},
   "outputs": [],
   "source": [
    "@measure_time\n",
    "def power(a, b, sleep_time):\n",
    "    sleep(sleep_time)\n",
    "    print(a ** b)"
   ]
  },
  {
   "cell_type": "code",
   "execution_count": 16,
   "id": "c75f97dc",
   "metadata": {},
   "outputs": [
    {
     "name": "stdout",
     "output_type": "stream",
     "text": [
      "32\n",
      "power took 0.40537142753601074\n"
     ]
    }
   ],
   "source": [
    "power(2, 5, 0.4)"
   ]
  },
  {
   "cell_type": "markdown",
   "id": "b194cfde",
   "metadata": {},
   "source": [
    "### The power function is used just for illustration, it uses the sleep function from the time module to freeze the execution for a certain amount of time."
   ]
  },
  {
   "cell_type": "code",
   "execution_count": null,
   "id": "5095848d",
   "metadata": {},
   "outputs": [],
   "source": []
  },
  {
   "cell_type": "markdown",
   "id": "5cd556bd",
   "metadata": {},
   "source": [
    "# <span style = \"text-decoration : underline ;\" >Chaining Decorators</span>\n",
    "\n",
    "### Chaining multiple decorators by stacking them above a method or function.. Python applies decorators from bottom to top, executing them in the order they are defined."
   ]
  },
  {
   "cell_type": "code",
   "execution_count": 3,
   "id": "ee117652",
   "metadata": {},
   "outputs": [],
   "source": [
    "# Defining the first decorator\n",
    "def decorator1(func) :\n",
    "    def wrapper1() :\n",
    "        print(\"Decorator 1 : Before function execution\")\n",
    "        func()\n",
    "        print(\"Decorator 1 : After function execution\")\n",
    "    return wrapper1"
   ]
  },
  {
   "cell_type": "code",
   "execution_count": 4,
   "id": "db4c6030",
   "metadata": {},
   "outputs": [],
   "source": [
    "# Defining the second decorator\n",
    "def decorator2(func) :\n",
    "    def wrapper2() :\n",
    "        print(\"Decorator 2 : Before function execution\")\n",
    "        func()\n",
    "        print(\"Decorator 2 : After function execution\")\n",
    "    return wrapper2"
   ]
  },
  {
   "cell_type": "code",
   "execution_count": 8,
   "id": "bd0e5e3f",
   "metadata": {},
   "outputs": [
    {
     "name": "stdout",
     "output_type": "stream",
     "text": [
      "Decorator 1 : Before function execution\n",
      "Decorator 2 : Before function execution\n",
      "Inside my_function\n",
      "Decorator 2 : After function execution\n",
      "Decorator 1 : After function execution\n"
     ]
    }
   ],
   "source": [
    "# Apply decorators in chained manner \n",
    "\n",
    "@decorator1\n",
    "@decorator2\n",
    "def my_function():\n",
    "    print(\"Inside my_function\")\n",
    "    \n",
    "my_function()"
   ]
  },
  {
   "cell_type": "code",
   "execution_count": 9,
   "id": "df49f9be",
   "metadata": {},
   "outputs": [],
   "source": [
    "## 'decorator2' is first applied to 'my_function', and then 'decorator1' is applied on top of the result. "
   ]
  },
  {
   "cell_type": "code",
   "execution_count": null,
   "id": "86079d7c",
   "metadata": {},
   "outputs": [],
   "source": []
  }
 ],
 "metadata": {
  "kernelspec": {
   "display_name": "Python 3 (ipykernel)",
   "language": "python",
   "name": "python3"
  },
  "language_info": {
   "codemirror_mode": {
    "name": "ipython",
    "version": 3
   },
   "file_extension": ".py",
   "mimetype": "text/x-python",
   "name": "python",
   "nbconvert_exporter": "python",
   "pygments_lexer": "ipython3",
   "version": "3.9.13"
  }
 },
 "nbformat": 4,
 "nbformat_minor": 5
}
