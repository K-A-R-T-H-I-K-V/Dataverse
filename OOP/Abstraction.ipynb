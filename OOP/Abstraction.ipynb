{
 "cells": [
  {
   "cell_type": "markdown",
   "id": "bf717edb",
   "metadata": {},
   "source": [
    "# <span style = \"text-decoration : underline ;\" >Abstract Classes</span>"
   ]
  },
  {
   "cell_type": "markdown",
   "id": "7d978f12",
   "metadata": {},
   "source": [
    "### 1. Abstract classes are like blueprints or templates for other classes. Just like a blueprint provides a plan for building a house, an abstract class provides a plan for creating other classes.\n",
    "### 2. Abstract classes cannot be instantiated (used to create objects directly). You can only create objects of classes that inherit from the abstract class. \n",
    "### 3. Abstract classes can have regular methods(with implmentation) and abstract method(without implementation). Regular methods provide common functionality that can be used by the inheriting classes, while abstract methods are like placeholders that the inheritng classes must define.\n",
    "### 4. When a class inherits from an abstract class, it is mandatory to provide implementations for all the abstract methods. This is a way to ensure that the inheriting class includes specific functionality required by the abstract class.\n",
    "### 5. Inheriting classes can have their own additional methods and attributes in addition to implementing the abstract methods. They can add more specific features on top of the common functionality provided by the abstract class.\n",
    "### 6. Abstract classes enable Polymorphism, which means that objects of different classes can be treated in a uniform way if they inherit from the same abstract class. This allows for more flexible and modular code."
   ]
  },
  {
   "cell_type": "markdown",
   "id": "28394e5c",
   "metadata": {},
   "source": [
    "## Creating an ABSTRACT CLASS\n",
    "### 1. Import the 'abc' module(Abstract Base Classes) : It provides the necessary functionalities for creating abstract classes"
   ]
  },
  {
   "cell_type": "code",
   "execution_count": 1,
   "id": "70a84947",
   "metadata": {},
   "outputs": [],
   "source": [
    "# from abc import ABC, abstractmethod"
   ]
  },
  {
   "cell_type": "markdown",
   "id": "df4e566f",
   "metadata": {},
   "source": [
    "### 2. Declare the abstract class : To create an abstract class, you need to define a class that inherits from the 'ABC' class provided by the 'abc' module\n",
    "\n",
    "### NOTE : It is NOT mandatory to inherit from the ABC class while creating an abstract class."
   ]
  },
  {
   "cell_type": "code",
   "execution_count": 2,
   "id": "3276d12b",
   "metadata": {},
   "outputs": [],
   "source": [
    "# class abstract_class(ABC)"
   ]
  },
  {
   "cell_type": "markdown",
   "id": "85301af8",
   "metadata": {},
   "source": [
    "### 3. Define regular methods : Inside the abstract class, you can define regular methods with their implementations. These methods provide common functionality that can be inherited by the classes that derive from the abstract class."
   ]
  },
  {
   "cell_type": "code",
   "execution_count": 2,
   "id": "dfb8d91a",
   "metadata": {},
   "outputs": [
    {
     "data": {
      "text/plain": [
       "'\\nclass Abstract_class(ABC) :\\n    def regular_method(self) :\\n        # Regular method implementation\\n        pass'"
      ]
     },
     "execution_count": 2,
     "metadata": {},
     "output_type": "execute_result"
    }
   ],
   "source": [
    "'''\n",
    "class Abstract_class(ABC) :\n",
    "    def regular_method(self) :\n",
    "        # Regular method implementation\n",
    "        pass'''"
   ]
  },
  {
   "cell_type": "markdown",
   "id": "39348414",
   "metadata": {},
   "source": [
    "### 4. Declare abstract methods : To declare an abstract method we use the '@abstractmethod' decorator used by the 'abc' module. Abstract methods are methods declared in the abstract class without providing an implementation."
   ]
  },
  {
   "cell_type": "code",
   "execution_count": 1,
   "id": "dea14231",
   "metadata": {},
   "outputs": [
    {
     "data": {
      "text/plain": [
       "'\\nclass Abstract_class(ABC):\\n    @abstractmethod\\n    def abstract_method(self):\\n        pass'"
      ]
     },
     "execution_count": 1,
     "metadata": {},
     "output_type": "execute_result"
    }
   ],
   "source": [
    "'''\n",
    "class Abstract_class(ABC):\n",
    "    @abstractmethod\n",
    "    def abstract_method(self):\n",
    "        pass'''"
   ]
  },
  {
   "cell_type": "markdown",
   "id": "82dbafa4",
   "metadata": {},
   "source": [
    "### 5. Create a subclass and implement abstract methods : A concrete class is a subclass that inherits from an abstract class and provides implementations for all the abstract methods defined by the abstract class."
   ]
  },
  {
   "cell_type": "code",
   "execution_count": 7,
   "id": "ba1f9931",
   "metadata": {},
   "outputs": [
    {
     "data": {
      "text/plain": [
       "'\\nclass Concrete_class(Abstract_class):\\n    def abstract_method(self):\\n        # Provide implemenatations for the abstract class\\n        print(\"Implementation of the abstract_method\")'"
      ]
     },
     "execution_count": 7,
     "metadata": {},
     "output_type": "execute_result"
    }
   ],
   "source": [
    "'''\n",
    "class Concrete_class(Abstract_class):\n",
    "    def abstract_method(self):\n",
    "        # Provide implemenatations for the abstract class\n",
    "        print(\"Implementation of the abstract_method\")'''"
   ]
  },
  {
   "cell_type": "markdown",
   "id": "f187a2ff",
   "metadata": {},
   "source": [
    "### 6. Instantiate and use the subclass : Unlike abstract classes, subclasses can be instantiated and used like any other class. You can create an object of the subclass and call its methods, including the implemented abstract methods."
   ]
  },
  {
   "cell_type": "code",
   "execution_count": 8,
   "id": "e097aba1",
   "metadata": {},
   "outputs": [
    {
     "data": {
      "text/plain": [
       "'\\nobj = Concrete_class() \\nobj.abstract_method()   '"
      ]
     },
     "execution_count": 8,
     "metadata": {},
     "output_type": "execute_result"
    }
   ],
   "source": [
    "'''\n",
    "obj = Concrete_class() \n",
    "obj.abstract_method()   '''"
   ]
  },
  {
   "cell_type": "markdown",
   "id": "1cd9590d",
   "metadata": {},
   "source": [
    "### 7. Handling abstract methods not implemented by subclasses : If a subclass fails to provide an implementation for an abstract method declared in the abstract class, attempting to instantiate the subclass will raise a 'TypeError'"
   ]
  },
  {
   "cell_type": "code",
   "execution_count": 3,
   "id": "cfd5d243",
   "metadata": {},
   "outputs": [],
   "source": [
    "# Example"
   ]
  },
  {
   "cell_type": "code",
   "execution_count": 12,
   "id": "1f472eff",
   "metadata": {},
   "outputs": [],
   "source": [
    "from abc import ABC, abstractmethod\n",
    " \n",
    "class Shape(ABC):\n",
    "    def __init__(self, shape_name):\n",
    "        self.shape_name = shape_name\n",
    "    \n",
    "    @abstractmethod\n",
    "    def draw(self):\n",
    "        pass"
   ]
  },
  {
   "cell_type": "code",
   "execution_count": 13,
   "id": "99641d9b",
   "metadata": {},
   "outputs": [
    {
     "ename": "TypeError",
     "evalue": "Can't instantiate abstract class Shape with abstract method draw",
     "output_type": "error",
     "traceback": [
      "\u001b[1;31m---------------------------------------------------------------------------\u001b[0m",
      "\u001b[1;31mTypeError\u001b[0m                                 Traceback (most recent call last)",
      "\u001b[1;32m~\\AppData\\Local\\Temp\\ipykernel_12324\\1198654752.py\u001b[0m in \u001b[0;36m<module>\u001b[1;34m\u001b[0m\n\u001b[1;32m----> 1\u001b[1;33m \u001b[0mTriangle\u001b[0m \u001b[1;33m=\u001b[0m \u001b[0mShape\u001b[0m\u001b[1;33m(\u001b[0m\u001b[1;33m)\u001b[0m\u001b[1;33m\u001b[0m\u001b[1;33m\u001b[0m\u001b[0m\n\u001b[0m",
      "\u001b[1;31mTypeError\u001b[0m: Can't instantiate abstract class Shape with abstract method draw"
     ]
    }
   ],
   "source": [
    "Triangle = Shape()"
   ]
  },
  {
   "cell_type": "code",
   "execution_count": 14,
   "id": "3136fc22",
   "metadata": {},
   "outputs": [],
   "source": [
    "class Circle(Shape):\n",
    "    def __init__(self):\n",
    "        super().__init__(\"circle\")\n",
    " \n",
    "    def draw(self):\n",
    "        print(\"Drawing a Circle\")"
   ]
  },
  {
   "cell_type": "code",
   "execution_count": 15,
   "id": "3057b24a",
   "metadata": {},
   "outputs": [],
   "source": [
    "circle1 = Circle()"
   ]
  },
  {
   "cell_type": "code",
   "execution_count": 16,
   "id": "7f34bae0",
   "metadata": {},
   "outputs": [
    {
     "name": "stdout",
     "output_type": "stream",
     "text": [
      "Drawing a Circle\n"
     ]
    }
   ],
   "source": [
    "circle1.draw()"
   ]
  },
  {
   "cell_type": "code",
   "execution_count": 17,
   "id": "4740c06e",
   "metadata": {},
   "outputs": [
    {
     "data": {
      "text/plain": [
       "'circle'"
      ]
     },
     "execution_count": 17,
     "metadata": {},
     "output_type": "execute_result"
    }
   ],
   "source": [
    "circle1.shape_name"
   ]
  },
  {
   "cell_type": "markdown",
   "id": "c7f12a0f",
   "metadata": {},
   "source": [
    "### super() is a built-in function that allows you to call a method from a parent class in a class hierarchy. It provides a way to access and invoke methods or attributes defined in a superclass from a subclass"
   ]
  },
  {
   "cell_type": "markdown",
   "id": "1323757b",
   "metadata": {},
   "source": [
    "## <span style = \"text-decoration : underline ;\" >Without inheriting the ABC class</span>"
   ]
  },
  {
   "cell_type": "code",
   "execution_count": 18,
   "id": "9d0511c0",
   "metadata": {},
   "outputs": [],
   "source": [
    "class AbstractClassWithoutABC :\n",
    "    def abstract_method(self) :\n",
    "        raise NotImplementedError(\"This Method must be implemented in the subclass\")"
   ]
  },
  {
   "cell_type": "code",
   "execution_count": 21,
   "id": "69c38ef1",
   "metadata": {},
   "outputs": [
    {
     "name": "stdout",
     "output_type": "stream",
     "text": [
      "Implemented abstract_method from the abstract class AbstractClassWithoutABC\n"
     ]
    }
   ],
   "source": [
    "class ConcreteClassWithoutABC(AbstractClassWithoutABC) :\n",
    "    def abstract_method(Self) :\n",
    "        print(\"Implemented abstract_method from the abstract class AbstractClassWithoutABC\")\n",
    "        \n",
    "obj_without_abc = ConcreteClassWithoutABC()\n",
    "obj_without_abc.abstract_method()"
   ]
  },
  {
   "cell_type": "markdown",
   "id": "82f3b848",
   "metadata": {},
   "source": [
    "### Using the 'ABC' module makes your intent clear, it provides built-in validation (i.e., if a subclass doesn't implement an abstract method, it will raise an error when trying to instantiate the subclass), without 'ABC', this has to be managed manually.\n",
    "### \"Validation\" refers to the built-in mechanism that ensures derived (child) classes implement all the abstract methods defined in the base class."
   ]
  },
  {
   "cell_type": "code",
   "execution_count": null,
   "id": "67e8173c",
   "metadata": {},
   "outputs": [],
   "source": []
  }
 ],
 "metadata": {
  "kernelspec": {
   "display_name": "Python 3 (ipykernel)",
   "language": "python",
   "name": "python3"
  },
  "language_info": {
   "codemirror_mode": {
    "name": "ipython",
    "version": 3
   },
   "file_extension": ".py",
   "mimetype": "text/x-python",
   "name": "python",
   "nbconvert_exporter": "python",
   "pygments_lexer": "ipython3",
   "version": "3.9.13"
  }
 },
 "nbformat": 4,
 "nbformat_minor": 5
}
