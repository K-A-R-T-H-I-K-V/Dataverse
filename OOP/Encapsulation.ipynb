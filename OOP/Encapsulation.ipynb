{
 "cells": [
  {
   "cell_type": "markdown",
   "id": "20871ffe",
   "metadata": {},
   "source": [
    "# <span style = \"text-decoration : underline ;\" >Encapsulation</span>"
   ]
  },
  {
   "cell_type": "markdown",
   "id": "05f9e725",
   "metadata": {},
   "source": [
    "### Encapsulation is a fundamental concept in OOP that involves bundling together the data members(attributes) and the methods(attributes) that operate on that data within a single unit, typically a class. Key aspects being :\n",
    "\n",
    "### 1. Combining data and behavior - Helps hide internal workings and state of data by combining it with the methods that operate on it within the class. This way, the data is not directly accessible from outside the class\n",
    "### 2. Controlled access : Using getters and setters\n",
    "### 3. Preventing unintended changes\n",
    "### 4. Organising complexity"
   ]
  },
  {
   "cell_type": "code",
   "execution_count": null,
   "id": "f299311d",
   "metadata": {},
   "outputs": [],
   "source": []
  },
  {
   "cell_type": "markdown",
   "id": "423b0f1a",
   "metadata": {},
   "source": [
    "# <span style = \"text-decoration : underline ;\" >Access Modifiers</span>\n",
    "### Access modifiers are keywords or declarations that play an important role in securing data from unauthorized access and in preventing it from being exploited, main types being public, protected and private"
   ]
  },
  {
   "cell_type": "code",
   "execution_count": null,
   "id": "2e22e3fc",
   "metadata": {},
   "outputs": [],
   "source": []
  },
  {
   "cell_type": "markdown",
   "id": "a284954d",
   "metadata": {},
   "source": [
    "### 1. <span style = \"text-decoration : underline ;\" >Encapsulation in Python using public members</span>\n",
    "### As the name suggests, the public modifier allows variables and functions to be accessible from anywhere within the class and from any part of the program. All member variables have the access modifier as public by default."
   ]
  },
  {
   "cell_type": "code",
   "execution_count": 14,
   "id": "1a9f3b27",
   "metadata": {},
   "outputs": [
    {
     "name": "stdout",
     "output_type": "stream",
     "text": [
      "Name:  Steve\n",
      "Age:  28\n"
     ]
    }
   ],
   "source": [
    "# illustrating public members & public access modifier \n",
    "class pub_mod:\n",
    "    \n",
    "    def __init__(self, name, age):\n",
    "        self.name = name\n",
    "        self.age = age\n",
    " \n",
    "    def Age(self): \n",
    "        # accessing public data member \n",
    "        print(\"Age: \", self.age)\n",
    "\n",
    "obj = pub_mod(\"Steve\", 28);\n",
    "# accessing public data member \n",
    "print(\"Name: \", obj.name)  \n",
    "# calling public member function of the class \n",
    "obj.Age()"
   ]
  },
  {
   "cell_type": "markdown",
   "id": "0a334d7e",
   "metadata": {},
   "source": [
    "## 2. <span style = \"text-decoration : underline ;\" >Encapsulation in Python using private members</span>\n",
    "### The private access modifier allows member methods and variables to be accessed only within the class. To specify a private access modifier for a member, we make use of the double underscore __."
   ]
  },
  {
   "cell_type": "code",
   "execution_count": 15,
   "id": "cebd5049",
   "metadata": {},
   "outputs": [
    {
     "name": "stdout",
     "output_type": "stream",
     "text": [
      "7\n",
      "5\n"
     ]
    },
    {
     "ename": "AttributeError",
     "evalue": "'Rectangle' object has no attribute 'length'",
     "output_type": "error",
     "traceback": [
      "\u001b[1;31m---------------------------------------------------------------------------\u001b[0m",
      "\u001b[1;31mAttributeError\u001b[0m                            Traceback (most recent call last)",
      "\u001b[1;32m~\\AppData\\Local\\Temp\\ipykernel_11000\\2350508533.py\u001b[0m in \u001b[0;36m<module>\u001b[1;34m\u001b[0m\n\u001b[0;32m     15\u001b[0m \u001b[0mrect\u001b[0m \u001b[1;33m=\u001b[0m \u001b[0mRectangle\u001b[0m\u001b[1;33m(\u001b[0m\u001b[1;33m)\u001b[0m \u001b[1;31m#object created\u001b[0m\u001b[1;33m\u001b[0m\u001b[1;33m\u001b[0m\u001b[0m\n\u001b[0;32m     16\u001b[0m \u001b[1;31m#printing values of the private variable outside the class\u001b[0m\u001b[1;33m\u001b[0m\u001b[1;33m\u001b[0m\u001b[0m\n\u001b[1;32m---> 17\u001b[1;33m \u001b[0mprint\u001b[0m\u001b[1;33m(\u001b[0m\u001b[0mrect\u001b[0m\u001b[1;33m.\u001b[0m\u001b[0mlength\u001b[0m\u001b[1;33m)\u001b[0m\u001b[1;33m\u001b[0m\u001b[1;33m\u001b[0m\u001b[0m\n\u001b[0m\u001b[0;32m     18\u001b[0m \u001b[0mprint\u001b[0m\u001b[1;33m(\u001b[0m\u001b[0mrect\u001b[0m\u001b[1;33m.\u001b[0m\u001b[0mbreadth\u001b[0m\u001b[1;33m)\u001b[0m\u001b[1;33m\u001b[0m\u001b[1;33m\u001b[0m\u001b[0m\n",
      "\u001b[1;31mAttributeError\u001b[0m: 'Rectangle' object has no attribute 'length'"
     ]
    }
   ],
   "source": [
    "# illustrating private members & private access modifier \n",
    "class Rectangle:\n",
    "    \n",
    "    __length = 0 #private variable\n",
    "    __breadth = 0 #private variable\n",
    "    \n",
    "    def __init__(self): \n",
    "        #constructor\n",
    "        self.__length = 7\n",
    "        self.__breadth = 5\n",
    "        #printing values of the private variable within the class\n",
    "        print(self.__length)\n",
    "        print(self.__breadth)\n",
    "\n",
    "rect = Rectangle() #object created \n",
    "#printing values of the private variable outside the class \n",
    "print(rect.length)\n",
    "print(rect.breadth)"
   ]
  },
  {
   "cell_type": "markdown",
   "id": "e46c18aa",
   "metadata": {},
   "source": [
    "## 3. <span style = \"text-decoration : underline ;\" >Encapsulation in Python using protected members</span>\n",
    "### What sets protected members apart from private members is that they allow the members to be accessed within the class and allow them to be accessed by the sub-classes involved. In Python, we demonstrate a protected member by prefixing with an underscore _ before its name.\n",
    "\n",
    "### As we know, if the members have a protected access specifier, it can also be referenced then within the class and the subsequent sub-clas"
   ]
  },
  {
   "cell_type": "code",
   "execution_count": 9,
   "id": "29af50e9",
   "metadata": {},
   "outputs": [
    {
     "name": "stdout",
     "output_type": "stream",
     "text": [
      "Sarah\n",
      "22\n",
      "Hecker\n"
     ]
    },
    {
     "ename": "AttributeError",
     "evalue": "'pro_mod' object has no attribute 'name'",
     "output_type": "error",
     "traceback": [
      "\u001b[1;31m---------------------------------------------------------------------------\u001b[0m",
      "\u001b[1;31mAttributeError\u001b[0m                            Traceback (most recent call last)",
      "\u001b[1;32m~\\AppData\\Local\\Temp\\ipykernel_11000\\328344842.py\u001b[0m in \u001b[0;36m<module>\u001b[1;34m\u001b[0m\n\u001b[0;32m     14\u001b[0m \u001b[0mobj\u001b[0m \u001b[1;33m=\u001b[0m \u001b[0mpro_mod\u001b[0m\u001b[1;33m(\u001b[0m\u001b[1;33m)\u001b[0m\u001b[1;33m\u001b[0m\u001b[1;33m\u001b[0m\u001b[0m\n\u001b[0;32m     15\u001b[0m \u001b[1;31m# direct access of protected member\u001b[0m\u001b[1;33m\u001b[0m\u001b[1;33m\u001b[0m\u001b[0m\n\u001b[1;32m---> 16\u001b[1;33m \u001b[0mprint\u001b[0m\u001b[1;33m(\u001b[0m\u001b[1;34m\"Name:\"\u001b[0m\u001b[1;33m,\u001b[0m\u001b[0mobj\u001b[0m\u001b[1;33m.\u001b[0m\u001b[0mname\u001b[0m\u001b[1;33m)\u001b[0m\u001b[1;33m\u001b[0m\u001b[1;33m\u001b[0m\u001b[0m\n\u001b[0m\u001b[0;32m     17\u001b[0m \u001b[0mprint\u001b[0m\u001b[1;33m(\u001b[0m\u001b[1;34m\"Age:\"\u001b[0m\u001b[1;33m,\u001b[0m\u001b[0mobj\u001b[0m\u001b[1;33m.\u001b[0m\u001b[0mage\u001b[0m\u001b[1;33m)\u001b[0m\u001b[1;33m\u001b[0m\u001b[1;33m\u001b[0m\u001b[0m\n",
      "\u001b[1;31mAttributeError\u001b[0m: 'pro_mod' object has no attribute 'name'"
     ]
    }
   ],
   "source": [
    "# illustrating protected members & protected access modifier \n",
    "class details:\n",
    "    _name = \"Sarah\"\n",
    "    _age = 22\n",
    "    _job = \"Hecker\"\n",
    "\n",
    "class pro_mod(details):\n",
    "    def __init__(self):\n",
    "        print(self._name)\n",
    "        print(self._age)\n",
    "        print(self._job)\n",
    "\n",
    "# creating object of the class \n",
    "obj = pro_mod()\n",
    "# direct access of protected member\n",
    "print(\"Name:\",obj.name)\n",
    "print(\"Age:\",obj.age)"
   ]
  },
  {
   "cell_type": "markdown",
   "id": "e528cc7c",
   "metadata": {},
   "source": [
    "### It is quite clear from the output that the class pro_mod was successfully able to inherit the variables from the class details and print them to the console, although they were protected variables. And when we tried to refer to them outside of their parent class and the sub-class, we got an AttributeError for the same."
   ]
  },
  {
   "cell_type": "markdown",
   "id": "e24aab34",
   "metadata": {},
   "source": [
    "### Accessing private members using <span style = \"text-decoration : underline ;\" >The Data Mangling</span> approach"
   ]
  },
  {
   "cell_type": "code",
   "execution_count": 16,
   "id": "441d7854",
   "metadata": {},
   "outputs": [],
   "source": [
    "class car :\n",
    "    \n",
    "    def __init__(self, year, make, model, speed) :\n",
    "        \n",
    "        self.__year = year\n",
    "        self.__make = make\n",
    "        self.__model = model\n",
    "        self.__speed = 0\n",
    "        \n",
    "    def set_speed(self, speed) :\n",
    "        \n",
    "        self.__speed = o if speed < 0 else speed\n",
    "        \n",
    "    def get_speed(self) :\n",
    "        \n",
    "        return self.__speed"
   ]
  },
  {
   "cell_type": "code",
   "execution_count": 17,
   "id": "55215771",
   "metadata": {},
   "outputs": [],
   "source": [
    "c = car(2021, 'Toyata', 'innova', 12)"
   ]
  },
  {
   "cell_type": "code",
   "execution_count": 18,
   "id": "6d002afc",
   "metadata": {},
   "outputs": [
    {
     "ename": "AttributeError",
     "evalue": "'car' object has no attribute 'year'",
     "output_type": "error",
     "traceback": [
      "\u001b[1;31m---------------------------------------------------------------------------\u001b[0m",
      "\u001b[1;31mAttributeError\u001b[0m                            Traceback (most recent call last)",
      "\u001b[1;32m~\\AppData\\Local\\Temp\\ipykernel_11000\\4006134625.py\u001b[0m in \u001b[0;36m<module>\u001b[1;34m\u001b[0m\n\u001b[1;32m----> 1\u001b[1;33m \u001b[0mc\u001b[0m\u001b[1;33m.\u001b[0m\u001b[0myear\u001b[0m\u001b[1;33m\u001b[0m\u001b[1;33m\u001b[0m\u001b[0m\n\u001b[0m",
      "\u001b[1;31mAttributeError\u001b[0m: 'car' object has no attribute 'year'"
     ]
    }
   ],
   "source": [
    "c.year"
   ]
  },
  {
   "cell_type": "code",
   "execution_count": 19,
   "id": "f8adff63",
   "metadata": {},
   "outputs": [
    {
     "ename": "AttributeError",
     "evalue": "'car' object has no attribute '__year'",
     "output_type": "error",
     "traceback": [
      "\u001b[1;31m---------------------------------------------------------------------------\u001b[0m",
      "\u001b[1;31mAttributeError\u001b[0m                            Traceback (most recent call last)",
      "\u001b[1;32m~\\AppData\\Local\\Temp\\ipykernel_11000\\164851956.py\u001b[0m in \u001b[0;36m<module>\u001b[1;34m\u001b[0m\n\u001b[1;32m----> 1\u001b[1;33m \u001b[0mc\u001b[0m\u001b[1;33m.\u001b[0m\u001b[0m__year\u001b[0m\u001b[1;33m\u001b[0m\u001b[1;33m\u001b[0m\u001b[0m\n\u001b[0m",
      "\u001b[1;31mAttributeError\u001b[0m: 'car' object has no attribute '__year'"
     ]
    }
   ],
   "source": [
    "c.__year"
   ]
  },
  {
   "cell_type": "code",
   "execution_count": 20,
   "id": "49802880",
   "metadata": {},
   "outputs": [
    {
     "data": {
      "text/plain": [
       "2021"
      ]
     },
     "execution_count": 20,
     "metadata": {},
     "output_type": "execute_result"
    }
   ],
   "source": [
    "c._car__year # obj._classname__dataMember"
   ]
  },
  {
   "cell_type": "code",
   "execution_count": 21,
   "id": "1d27874f",
   "metadata": {},
   "outputs": [],
   "source": [
    "c._car__year = 2002"
   ]
  },
  {
   "cell_type": "code",
   "execution_count": 22,
   "id": "91665975",
   "metadata": {},
   "outputs": [
    {
     "data": {
      "text/plain": [
       "2002"
      ]
     },
     "execution_count": 22,
     "metadata": {},
     "output_type": "execute_result"
    }
   ],
   "source": [
    "c._car__year"
   ]
  },
  {
   "cell_type": "code",
   "execution_count": 23,
   "id": "a251ddb4",
   "metadata": {},
   "outputs": [
    {
     "data": {
      "text/plain": [
       "0"
      ]
     },
     "execution_count": 23,
     "metadata": {},
     "output_type": "execute_result"
    }
   ],
   "source": [
    "c.get_speed() # tab & shift + tab"
   ]
  },
  {
   "cell_type": "code",
   "execution_count": 24,
   "id": "0a00d78c",
   "metadata": {},
   "outputs": [],
   "source": [
    "c.set_speed(60)"
   ]
  },
  {
   "cell_type": "code",
   "execution_count": 25,
   "id": "4898d89e",
   "metadata": {},
   "outputs": [
    {
     "data": {
      "text/plain": [
       "60"
      ]
     },
     "execution_count": 25,
     "metadata": {},
     "output_type": "execute_result"
    }
   ],
   "source": [
    "c.get_speed()"
   ]
  },
  {
   "cell_type": "code",
   "execution_count": 1,
   "id": "e8a6a328",
   "metadata": {},
   "outputs": [],
   "source": [
    "# Example"
   ]
  },
  {
   "cell_type": "code",
   "execution_count": 12,
   "id": "b4b201c5",
   "metadata": {},
   "outputs": [],
   "source": [
    "class bank_account :\n",
    "    \n",
    "    def __init__(self,balance) :\n",
    "        self.__balance = balance\n",
    "        \n",
    "    def deposit(self, amount) :\n",
    "        self.__balance = self.__balance + amount\n",
    "        \n",
    "    def withdraw(self, amount) :\n",
    "        if self.__balance >= amount :\n",
    "            self.__balance = self.__balance - amount\n",
    "            return True\n",
    "        else :\n",
    "            return False\n",
    "        \n",
    "    def get_balance(self) :\n",
    "        return self.__balance "
   ]
  },
  {
   "cell_type": "code",
   "execution_count": 14,
   "id": "f20362d5",
   "metadata": {},
   "outputs": [],
   "source": [
    "karthik = bank_account(5000)"
   ]
  },
  {
   "cell_type": "code",
   "execution_count": 16,
   "id": "ee4893f9",
   "metadata": {},
   "outputs": [
    {
     "data": {
      "text/plain": [
       "5000"
      ]
     },
     "execution_count": 16,
     "metadata": {},
     "output_type": "execute_result"
    }
   ],
   "source": [
    "karthik.get_balance()"
   ]
  },
  {
   "cell_type": "code",
   "execution_count": 17,
   "id": "84fadb40",
   "metadata": {},
   "outputs": [],
   "source": [
    "karthik.deposit(324)"
   ]
  },
  {
   "cell_type": "code",
   "execution_count": 18,
   "id": "4e8915d9",
   "metadata": {},
   "outputs": [
    {
     "data": {
      "text/plain": [
       "5324"
      ]
     },
     "execution_count": 18,
     "metadata": {},
     "output_type": "execute_result"
    }
   ],
   "source": [
    "karthik.get_balance()"
   ]
  },
  {
   "cell_type": "code",
   "execution_count": 19,
   "id": "b73162c3",
   "metadata": {},
   "outputs": [
    {
     "data": {
      "text/plain": [
       "True"
      ]
     },
     "execution_count": 19,
     "metadata": {},
     "output_type": "execute_result"
    }
   ],
   "source": [
    "karthik.withdraw(5250)"
   ]
  },
  {
   "cell_type": "code",
   "execution_count": 20,
   "id": "14430001",
   "metadata": {},
   "outputs": [
    {
     "data": {
      "text/plain": [
       "74"
      ]
     },
     "execution_count": 20,
     "metadata": {},
     "output_type": "execute_result"
    }
   ],
   "source": [
    "karthik.get_balance()"
   ]
  },
  {
   "cell_type": "code",
   "execution_count": 21,
   "id": "86d178c3",
   "metadata": {},
   "outputs": [
    {
     "data": {
      "text/plain": [
       "False"
      ]
     },
     "execution_count": 21,
     "metadata": {},
     "output_type": "execute_result"
    }
   ],
   "source": [
    "karthik.withdraw(4000)"
   ]
  },
  {
   "cell_type": "code",
   "execution_count": null,
   "id": "eb86d772",
   "metadata": {},
   "outputs": [],
   "source": []
  },
  {
   "cell_type": "markdown",
   "id": "b42bc300",
   "metadata": {},
   "source": [
    "### Getters and setters - These are methods used to access and modify the attributes (or properties) of an object in a controlled manner.\n",
    "\n",
    "### Getter is a method used to retrieve the value of an attribute, and getters usually have names that start with 'get' followed by the attribute name, for example, get_age(), get_speed()\n",
    "### Setter is a method used to modify the value of an attribute, and setters usually have names that start with 'set' followed by the attribute name, for example, set_age(), set_speed()\n",
    "\n",
    "### You can see these implementations in the above examples!"
   ]
  },
  {
   "cell_type": "code",
   "execution_count": null,
   "id": "e0ba36f3",
   "metadata": {},
   "outputs": [],
   "source": []
  }
 ],
 "metadata": {
  "kernelspec": {
   "display_name": "Python 3 (ipykernel)",
   "language": "python",
   "name": "python3"
  },
  "language_info": {
   "codemirror_mode": {
    "name": "ipython",
    "version": 3
   },
   "file_extension": ".py",
   "mimetype": "text/x-python",
   "name": "python",
   "nbconvert_exporter": "python",
   "pygments_lexer": "ipython3",
   "version": "3.9.13"
  }
 },
 "nbformat": 4,
 "nbformat_minor": 5
}
