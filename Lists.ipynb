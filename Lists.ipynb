{
 "cells": [
  {
   "cell_type": "markdown",
   "id": "68c610a0",
   "metadata": {},
   "source": [
    "# Lists in python, are used to store the sequence of different data types\n",
    "\n",
    "\n",
    "## Characteristics of a Python List\n",
    "\n",
    "### Ordered: Lists maintain the order in which the data is inserted.\n",
    "### Mutable: In list element(s) are changeable. It means that we can modify the items stored within the list.\n",
    "### Heterogenous: Lists can store elements of various data types.\n",
    "### Dynamic: List can expand or shrink automatically to accommodate the items accordingly.\n",
    "### Duplicate Elements: Lists allow us to store duplicate data."
   ]
  },
  {
   "cell_type": "code",
   "execution_count": 3,
   "id": "a28f670e",
   "metadata": {},
   "outputs": [
    {
     "data": {
      "text/plain": [
       "'\\nindexing in python - indices refers to the position or location of elements within a data structure, \\nand are used to access individual elements! There can be negative indices too.\\n\\n 0  1   2  3  4  - forward indexing\\n[1, 2, -3, 4, 2]\\n-5 -4  -3 -2 -1  - reverse indexing\\n\\n'"
      ]
     },
     "execution_count": 3,
     "metadata": {},
     "output_type": "execute_result"
    }
   ],
   "source": [
    "integer_list = [1, 2, -3, 4, 2]\n",
    "\n",
    "\"\"\"\n",
    "indexing in python - indices refers to the position or location of elements within a data structure, \n",
    "and are used to access individual elements! There can be negative indices too.\n",
    "\n",
    " 0  1   2  3  4  - forward indexing\n",
    "[1, 2, -3, 4, 2]\n",
    "-5 -4  -3 -2 -1  - reverse indexing\n",
    "\n",
    "\"\"\" "
   ]
  },
  {
   "cell_type": "code",
   "execution_count": 4,
   "id": "e885ca14",
   "metadata": {},
   "outputs": [
    {
     "name": "stdout",
     "output_type": "stream",
     "text": [
      "[1, 2, -3, 4, 2]\n"
     ]
    }
   ],
   "source": [
    "print(integer_list)"
   ]
  },
  {
   "cell_type": "code",
   "execution_count": 5,
   "id": "8731802c",
   "metadata": {},
   "outputs": [
    {
     "data": {
      "text/plain": [
       "[1,\n",
       " 2.08,\n",
       " 'Karthik',\n",
       " (22+6j),\n",
       " ['A', 'Nested', 'list'],\n",
       " ('A tuple too', 28.0, 25)]"
      ]
     },
     "execution_count": 5,
     "metadata": {},
     "output_type": "execute_result"
    }
   ],
   "source": [
    "l = [1, 2.08, 'Karthik', 22+6j, ['A', 'Nested', 'list'], ('A tuple too', 28.0, 25)]\n",
    "l"
   ]
  },
  {
   "cell_type": "code",
   "execution_count": 6,
   "id": "bc8b916a",
   "metadata": {},
   "outputs": [
    {
     "data": {
      "text/plain": [
       "\" indexing\\n     0    1       2       3              4                           5\\nl = [1, 2.08, 'Karthik', 22+6j, ['A', 'Nested', 'list'], ('A tuple too', 28.0, 25)]\\n    -6   -5      -4      -3             -2                          -1\""
      ]
     },
     "execution_count": 6,
     "metadata": {},
     "output_type": "execute_result"
    }
   ],
   "source": [
    "''' indexing\n",
    "     0    1       2       3              4                           5\n",
    "l = [1, 2.08, 'Karthik', 22+6j, ['A', 'Nested', 'list'], ('A tuple too', 28.0, 25)]\n",
    "    -6   -5      -4      -3             -2                          -1'''"
   ]
  },
  {
   "cell_type": "markdown",
   "id": "70b10309",
   "metadata": {},
   "source": [
    "## Accessing elements/items of the list 'l' using indices"
   ]
  },
  {
   "cell_type": "code",
   "execution_count": 7,
   "id": "00c1de37",
   "metadata": {},
   "outputs": [
    {
     "data": {
      "text/plain": [
       "'Karthik'"
      ]
     },
     "execution_count": 7,
     "metadata": {},
     "output_type": "execute_result"
    }
   ],
   "source": [
    "l[2]"
   ]
  },
  {
   "cell_type": "code",
   "execution_count": 8,
   "id": "524f97d0",
   "metadata": {},
   "outputs": [
    {
     "data": {
      "text/plain": [
       "['A', 'Nested', 'list']"
      ]
     },
     "execution_count": 8,
     "metadata": {},
     "output_type": "execute_result"
    }
   ],
   "source": [
    "l[4]"
   ]
  },
  {
   "cell_type": "code",
   "execution_count": 16,
   "id": "d4c2ba22",
   "metadata": {},
   "outputs": [
    {
     "data": {
      "text/plain": [
       "'Nested'"
      ]
     },
     "execution_count": 16,
     "metadata": {},
     "output_type": "execute_result"
    }
   ],
   "source": [
    "l[4][1] #Use of multiple indices to navigate through the levels of nesting "
   ]
  },
  {
   "cell_type": "markdown",
   "id": "93f111df",
   "metadata": {},
   "source": [
    "#### \"l[4]\" denotes the element at 4th index of the list \"l\" while \"l[4][1]\" refers to the 2nd element(0th index) of the 5th element(index 4) of the list \"l\""
   ]
  },
  {
   "cell_type": "code",
   "execution_count": 12,
   "id": "a1ee4f5b",
   "metadata": {},
   "outputs": [
    {
     "data": {
      "text/plain": [
       "('A tuple too', 28.0, 25)"
      ]
     },
     "execution_count": 12,
     "metadata": {},
     "output_type": "execute_result"
    }
   ],
   "source": [
    "l[-1]"
   ]
  },
  {
   "cell_type": "code",
   "execution_count": 13,
   "id": "31e2651d",
   "metadata": {},
   "outputs": [
    {
     "data": {
      "text/plain": [
       "28.0"
      ]
     },
     "execution_count": 13,
     "metadata": {},
     "output_type": "execute_result"
    }
   ],
   "source": [
    "l[-1][1]"
   ]
  },
  {
   "cell_type": "code",
   "execution_count": 14,
   "id": "9abcfd88",
   "metadata": {},
   "outputs": [
    {
     "data": {
      "text/plain": [
       "2.08"
      ]
     },
     "execution_count": 14,
     "metadata": {},
     "output_type": "execute_result"
    }
   ],
   "source": [
    "l[-5]"
   ]
  },
  {
   "cell_type": "code",
   "execution_count": 3,
   "id": "31124ae4",
   "metadata": {},
   "outputs": [
    {
     "data": {
      "text/plain": [
       "('A tuple too', 28.0, 25)"
      ]
     },
     "execution_count": 3,
     "metadata": {},
     "output_type": "execute_result"
    }
   ],
   "source": [
    "l[-1]"
   ]
  },
  {
   "cell_type": "code",
   "execution_count": 4,
   "id": "9566f11e",
   "metadata": {},
   "outputs": [
    {
     "data": {
      "text/plain": [
       "1"
      ]
     },
     "execution_count": 4,
     "metadata": {},
     "output_type": "execute_result"
    }
   ],
   "source": [
    "l[-6]"
   ]
  },
  {
   "cell_type": "code",
   "execution_count": 5,
   "id": "09920024",
   "metadata": {},
   "outputs": [
    {
     "data": {
      "text/plain": [
       "['A', 'Nested', 'list']"
      ]
     },
     "execution_count": 5,
     "metadata": {},
     "output_type": "execute_result"
    }
   ],
   "source": [
    "l[4]"
   ]
  },
  {
   "cell_type": "code",
   "execution_count": 6,
   "id": "4a99fa14",
   "metadata": {},
   "outputs": [
    {
     "data": {
      "text/plain": [
       "1"
      ]
     },
     "execution_count": 6,
     "metadata": {},
     "output_type": "execute_result"
    }
   ],
   "source": [
    "l[0]"
   ]
  },
  {
   "cell_type": "code",
   "execution_count": 7,
   "id": "6f56aad5",
   "metadata": {
    "scrolled": true
   },
   "outputs": [
    {
     "ename": "IndexError",
     "evalue": "list index out of range",
     "output_type": "error",
     "traceback": [
      "\u001b[1;31m---------------------------------------------------------------------------\u001b[0m",
      "\u001b[1;31mIndexError\u001b[0m                                Traceback (most recent call last)",
      "\u001b[1;32m~\\AppData\\Local\\Temp\\ipykernel_19664\\745925.py\u001b[0m in \u001b[0;36m<module>\u001b[1;34m\u001b[0m\n\u001b[1;32m----> 1\u001b[1;33m \u001b[0ml\u001b[0m\u001b[1;33m[\u001b[0m\u001b[1;36m78\u001b[0m\u001b[1;33m]\u001b[0m\u001b[1;33m\u001b[0m\u001b[1;33m\u001b[0m\u001b[0m\n\u001b[0m",
      "\u001b[1;31mIndexError\u001b[0m: list index out of range"
     ]
    }
   ],
   "source": [
    "l[78]"
   ]
  },
  {
   "cell_type": "markdown",
   "id": "fddd684c",
   "metadata": {},
   "source": [
    "# Slicing\n",
    "\n",
    "## Slicing in python allows you to extract a portion of the list by specifying the start index and an end index."
   ]
  },
  {
   "cell_type": "code",
   "execution_count": 22,
   "id": "3a7e8f4a",
   "metadata": {
    "scrolled": false
   },
   "outputs": [
    {
     "data": {
      "text/plain": [
       "'Syntax is as follows : \\n\\nlist[start : end : step-size]\\n\\nNOTE : \\n1. element at the start index is included\\n2. element at the stop index is excluded\\n3. step-size is an optional argument, which is a positive 1 by default'"
      ]
     },
     "execution_count": 22,
     "metadata": {},
     "output_type": "execute_result"
    }
   ],
   "source": [
    "\"\"\"Syntax is as follows : \n",
    "\n",
    "list[start : end : step-size]\n",
    "\n",
    "NOTE : \n",
    "1. element at the start index is included\n",
    "2. element at the stop index is excluded\n",
    "3. step-size is an optional argument, which is a positive 1 by default\"\"\""
   ]
  },
  {
   "cell_type": "code",
   "execution_count": 17,
   "id": "a5cd9344",
   "metadata": {
    "scrolled": true
   },
   "outputs": [
    {
     "data": {
      "text/plain": [
       "'Karthi'"
      ]
     },
     "execution_count": 17,
     "metadata": {},
     "output_type": "execute_result"
    }
   ],
   "source": [
    "l[2][:6] #if start index is not specified its zero by default"
   ]
  },
  {
   "cell_type": "code",
   "execution_count": 35,
   "id": "29e7fbbf",
   "metadata": {},
   "outputs": [
    {
     "data": {
      "text/plain": [
       "'arthi'"
      ]
     },
     "execution_count": 35,
     "metadata": {},
     "output_type": "execute_result"
    }
   ],
   "source": [
    "l[2][1:6:]"
   ]
  },
  {
   "cell_type": "code",
   "execution_count": 12,
   "id": "6d3d373f",
   "metadata": {},
   "outputs": [
    {
     "data": {
      "text/plain": [
       "[]"
      ]
     },
     "execution_count": 12,
     "metadata": {},
     "output_type": "execute_result"
    }
   ],
   "source": [
    "l[0:6:-1]"
   ]
  },
  {
   "cell_type": "code",
   "execution_count": 36,
   "id": "f0c2480b",
   "metadata": {},
   "outputs": [
    {
     "data": {
      "text/plain": [
       "''"
      ]
     },
     "execution_count": 36,
     "metadata": {},
     "output_type": "execute_result"
    }
   ],
   "source": [
    "l[2][1:6:-1] "
   ]
  },
  {
   "cell_type": "markdown",
   "id": "9b688e6e",
   "metadata": {},
   "source": [
    "## -1 in the above examples denotes negative direction, which means we are moving backwards through the list. When the step size is negative, the start index should be greater than the end index for the slicing to be valid. The below example is a proper way to produce a reversed slice"
   ]
  },
  {
   "cell_type": "code",
   "execution_count": 21,
   "id": "f2ced765",
   "metadata": {},
   "outputs": [
    {
     "data": {
      "text/plain": [
       "[('A tuple too', 28.0, 25), ['A', 'Nested', 'list'], (22+6j), 'Karthik', 2.08]"
      ]
     },
     "execution_count": 21,
     "metadata": {},
     "output_type": "execute_result"
    }
   ],
   "source": [
    "l[6:0:-1]"
   ]
  },
  {
   "cell_type": "code",
   "execution_count": 19,
   "id": "7d014a03",
   "metadata": {},
   "outputs": [
    {
     "data": {
      "text/plain": [
       "'kihtr'"
      ]
     },
     "execution_count": 19,
     "metadata": {},
     "output_type": "execute_result"
    }
   ],
   "source": [
    "l[2][6:1:-1] "
   ]
  },
  {
   "cell_type": "code",
   "execution_count": 20,
   "id": "bbc90c1e",
   "metadata": {},
   "outputs": [
    {
     "data": {
      "text/plain": [
       "[1,\n",
       " 2.08,\n",
       " 'Karthik',\n",
       " (22+6j),\n",
       " ['A', 'Nested', 'list'],\n",
       " ('A tuple too', 28.0, 25)]"
      ]
     },
     "execution_count": 20,
     "metadata": {},
     "output_type": "execute_result"
    }
   ],
   "source": [
    "'''When both the start and the end indices are omitted, Python assumes you want to select the entire list'''\n",
    "\n",
    "l[::1]"
   ]
  },
  {
   "cell_type": "code",
   "execution_count": 9,
   "id": "9fdefa7d",
   "metadata": {},
   "outputs": [
    {
     "data": {
      "text/plain": [
       "[('A tuple too', 28.0, 25),\n",
       " ['A', 'Nested', 'list'],\n",
       " (22+6j),\n",
       " 'Karthik',\n",
       " 2.08,\n",
       " 1]"
      ]
     },
     "execution_count": 9,
     "metadata": {},
     "output_type": "execute_result"
    }
   ],
   "source": [
    "l[::-1]"
   ]
  },
  {
   "cell_type": "code",
   "execution_count": 11,
   "id": "aea55a31",
   "metadata": {},
   "outputs": [
    {
     "data": {
      "text/plain": [
       "[1,\n",
       " 2.08,\n",
       " 'Karthik',\n",
       " (22+6j),\n",
       " ['A', 'Nested', 'list'],\n",
       " ('A tuple too', 28.0, 25)]"
      ]
     },
     "execution_count": 11,
     "metadata": {},
     "output_type": "execute_result"
    }
   ],
   "source": [
    "l[0:6:1]"
   ]
  },
  {
   "cell_type": "code",
   "execution_count": 13,
   "id": "459921bd",
   "metadata": {},
   "outputs": [
    {
     "data": {
      "text/plain": [
       "[(22+6j), 'Karthik', 2.08, 1]"
      ]
     },
     "execution_count": 13,
     "metadata": {},
     "output_type": "execute_result"
    }
   ],
   "source": [
    "l[-3::-1]"
   ]
  },
  {
   "cell_type": "code",
   "execution_count": 14,
   "id": "ba62c005",
   "metadata": {},
   "outputs": [
    {
     "data": {
      "text/plain": [
       "[(22+6j), ['A', 'Nested', 'list'], ('A tuple too', 28.0, 25)]"
      ]
     },
     "execution_count": 14,
     "metadata": {},
     "output_type": "execute_result"
    }
   ],
   "source": [
    "l[-3::1]"
   ]
  },
  {
   "cell_type": "code",
   "execution_count": 15,
   "id": "5c3eb7c0",
   "metadata": {},
   "outputs": [
    {
     "data": {
      "text/plain": [
       "[1, (22+6j)]"
      ]
     },
     "execution_count": 15,
     "metadata": {},
     "output_type": "execute_result"
    }
   ],
   "source": [
    "l[::3]"
   ]
  },
  {
   "cell_type": "code",
   "execution_count": 16,
   "id": "cccb4ce3",
   "metadata": {},
   "outputs": [
    {
     "data": {
      "text/plain": [
       "[]"
      ]
     },
     "execution_count": 16,
     "metadata": {},
     "output_type": "execute_result"
    }
   ],
   "source": [
    "l[1:1:1]"
   ]
  },
  {
   "cell_type": "code",
   "execution_count": 17,
   "id": "23caacf9",
   "metadata": {},
   "outputs": [
    {
     "data": {
      "text/plain": [
       "[]"
      ]
     },
     "execution_count": 17,
     "metadata": {},
     "output_type": "execute_result"
    }
   ],
   "source": [
    "l[-1:-2:]"
   ]
  },
  {
   "cell_type": "code",
   "execution_count": 18,
   "id": "db905b1d",
   "metadata": {},
   "outputs": [
    {
     "data": {
      "text/plain": [
       "[('A tuple too', 28.0, 25)]"
      ]
     },
     "execution_count": 18,
     "metadata": {},
     "output_type": "execute_result"
    }
   ],
   "source": [
    "l[-1:-2:-1]"
   ]
  },
  {
   "cell_type": "markdown",
   "id": "61522335",
   "metadata": {},
   "source": [
    "# Some operations on list"
   ]
  },
  {
   "cell_type": "code",
   "execution_count": 21,
   "id": "59a68028",
   "metadata": {},
   "outputs": [
    {
     "data": {
      "text/plain": [
       "['K', 'a', 'r', 't', 'h', 'i', 'k']"
      ]
     },
     "execution_count": 21,
     "metadata": {},
     "output_type": "execute_result"
    }
   ],
   "source": [
    "s = 'Karthik'\n",
    "list(s)  #type conversion"
   ]
  },
  {
   "cell_type": "code",
   "execution_count": 22,
   "id": "1c21d8c8",
   "metadata": {},
   "outputs": [
    {
     "ename": "TypeError",
     "evalue": "can only concatenate str (not \"list\") to str",
     "output_type": "error",
     "traceback": [
      "\u001b[1;31m---------------------------------------------------------------------------\u001b[0m",
      "\u001b[1;31mTypeError\u001b[0m                                 Traceback (most recent call last)",
      "\u001b[1;32m~\\AppData\\Local\\Temp\\ipykernel_19664\\3191971702.py\u001b[0m in \u001b[0;36m<module>\u001b[1;34m\u001b[0m\n\u001b[1;32m----> 1\u001b[1;33m \u001b[0ms\u001b[0m \u001b[1;33m+\u001b[0m \u001b[0ml\u001b[0m\u001b[1;33m\u001b[0m\u001b[1;33m\u001b[0m\u001b[0m\n\u001b[0m",
      "\u001b[1;31mTypeError\u001b[0m: can only concatenate str (not \"list\") to str"
     ]
    }
   ],
   "source": [
    "s + l"
   ]
  },
  {
   "cell_type": "code",
   "execution_count": 23,
   "id": "5c76a245",
   "metadata": {},
   "outputs": [
    {
     "data": {
      "text/plain": [
       "['K',\n",
       " 'a',\n",
       " 'r',\n",
       " 't',\n",
       " 'h',\n",
       " 'i',\n",
       " 'k',\n",
       " 1,\n",
       " 2.08,\n",
       " 'Karthik',\n",
       " (22+6j),\n",
       " ['A', 'Nested', 'list'],\n",
       " ('A tuple too', 28.0, 25)]"
      ]
     },
     "execution_count": 23,
     "metadata": {},
     "output_type": "execute_result"
    }
   ],
   "source": [
    "list(s) + l"
   ]
  },
  {
   "cell_type": "code",
   "execution_count": null,
   "id": "e133637a",
   "metadata": {},
   "outputs": [],
   "source": []
  },
  {
   "cell_type": "code",
   "execution_count": 24,
   "id": "1c7dc7ce",
   "metadata": {},
   "outputs": [],
   "source": [
    "l_num = [1, 2, 4]"
   ]
  },
  {
   "cell_type": "code",
   "execution_count": 25,
   "id": "9a64d98c",
   "metadata": {},
   "outputs": [],
   "source": [
    "l_float = [2.0, 4.46]"
   ]
  },
  {
   "cell_type": "code",
   "execution_count": 26,
   "id": "bca55f84",
   "metadata": {},
   "outputs": [],
   "source": [
    "l_str = ['I', '4', '3']"
   ]
  },
  {
   "cell_type": "code",
   "execution_count": 27,
   "id": "cb05d50e",
   "metadata": {},
   "outputs": [
    {
     "data": {
      "text/plain": [
       "[1, 2, 4, 2.0, 4.46, 'I', '4', '3']"
      ]
     },
     "execution_count": 27,
     "metadata": {},
     "output_type": "execute_result"
    }
   ],
   "source": [
    "l_mix = l_num + l_float + l_str #list concatenation\n",
    "l_mix"
   ]
  },
  {
   "cell_type": "code",
   "execution_count": 28,
   "id": "2d33dcae",
   "metadata": {},
   "outputs": [
    {
     "data": {
      "text/plain": [
       "[1, 2, 4, 2.0, 4.46, 'I', '4', '3', 1, 2, 4, 2.0, 4.46, 'I', '4', '3']"
      ]
     },
     "execution_count": 28,
     "metadata": {},
     "output_type": "execute_result"
    }
   ],
   "source": [
    "l_mix * 2 #list replication"
   ]
  },
  {
   "cell_type": "code",
   "execution_count": 29,
   "id": "90796da9",
   "metadata": {},
   "outputs": [
    {
     "ename": "TypeError",
     "evalue": "unsupported operand type(s) for -: 'list' and 'int'",
     "output_type": "error",
     "traceback": [
      "\u001b[1;31m---------------------------------------------------------------------------\u001b[0m",
      "\u001b[1;31mTypeError\u001b[0m                                 Traceback (most recent call last)",
      "\u001b[1;32m~\\AppData\\Local\\Temp\\ipykernel_16616\\1456282995.py\u001b[0m in \u001b[0;36m<module>\u001b[1;34m\u001b[0m\n\u001b[1;32m----> 1\u001b[1;33m \u001b[0ml_mix\u001b[0m \u001b[1;33m-\u001b[0m \u001b[1;36m1\u001b[0m\u001b[1;33m\u001b[0m\u001b[1;33m\u001b[0m\u001b[0m\n\u001b[0m",
      "\u001b[1;31mTypeError\u001b[0m: unsupported operand type(s) for -: 'list' and 'int'"
     ]
    }
   ],
   "source": [
    "l_mix - 1"
   ]
  },
  {
   "cell_type": "markdown",
   "id": "820eede7",
   "metadata": {},
   "source": [
    "# List methods"
   ]
  },
  {
   "cell_type": "code",
   "execution_count": 31,
   "id": "fab05183",
   "metadata": {},
   "outputs": [],
   "source": [
    "l1 = [1, 3.5, 'Python']"
   ]
  },
  {
   "cell_type": "code",
   "execution_count": 32,
   "id": "d1db9144",
   "metadata": {},
   "outputs": [
    {
     "data": {
      "text/plain": [
       "3"
      ]
     },
     "execution_count": 32,
     "metadata": {},
     "output_type": "execute_result"
    }
   ],
   "source": [
    "len(l1)"
   ]
  },
  {
   "cell_type": "code",
   "execution_count": 33,
   "id": "d8bcf6a0",
   "metadata": {},
   "outputs": [],
   "source": [
    "l1.append('Data Scientist') #appends at the end of the list"
   ]
  },
  {
   "cell_type": "code",
   "execution_count": 34,
   "id": "cc1715e1",
   "metadata": {},
   "outputs": [
    {
     "data": {
      "text/plain": [
       "[1, 3.5, 'Python', 'Data Scientist']"
      ]
     },
     "execution_count": 34,
     "metadata": {},
     "output_type": "execute_result"
    }
   ],
   "source": [
    "l1"
   ]
  },
  {
   "cell_type": "code",
   "execution_count": 35,
   "id": "7014b98e",
   "metadata": {},
   "outputs": [],
   "source": [
    "l1.append([1, 0, True])"
   ]
  },
  {
   "cell_type": "code",
   "execution_count": 36,
   "id": "ba77c246",
   "metadata": {},
   "outputs": [
    {
     "data": {
      "text/plain": [
       "[1, 3.5, 'Python', 'Data Scientist', [1, 0, True]]"
      ]
     },
     "execution_count": 36,
     "metadata": {},
     "output_type": "execute_result"
    }
   ],
   "source": [
    "l1"
   ]
  },
  {
   "cell_type": "code",
   "execution_count": 37,
   "id": "c51324b5",
   "metadata": {},
   "outputs": [
    {
     "data": {
      "text/plain": [
       "[1, 0, True]"
      ]
     },
     "execution_count": 37,
     "metadata": {},
     "output_type": "execute_result"
    }
   ],
   "source": [
    "l1[-1]"
   ]
  },
  {
   "cell_type": "code",
   "execution_count": 38,
   "id": "0f1bca7c",
   "metadata": {},
   "outputs": [
    {
     "data": {
      "text/plain": [
       "True"
      ]
     },
     "execution_count": 38,
     "metadata": {},
     "output_type": "execute_result"
    }
   ],
   "source": [
    "l1[-1][-1]"
   ]
  },
  {
   "cell_type": "code",
   "execution_count": 39,
   "id": "fc5a199a",
   "metadata": {},
   "outputs": [
    {
     "ename": "TypeError",
     "evalue": "'int' object is not iterable",
     "output_type": "error",
     "traceback": [
      "\u001b[1;31m---------------------------------------------------------------------------\u001b[0m",
      "\u001b[1;31mTypeError\u001b[0m                                 Traceback (most recent call last)",
      "\u001b[1;32m~\\AppData\\Local\\Temp\\ipykernel_16616\\986931787.py\u001b[0m in \u001b[0;36m<module>\u001b[1;34m\u001b[0m\n\u001b[1;32m----> 1\u001b[1;33m \u001b[0ml1\u001b[0m\u001b[1;33m.\u001b[0m\u001b[0mextend\u001b[0m\u001b[1;33m(\u001b[0m\u001b[1;36m89\u001b[0m\u001b[1;33m)\u001b[0m\u001b[1;33m\u001b[0m\u001b[1;33m\u001b[0m\u001b[0m\n\u001b[0m",
      "\u001b[1;31mTypeError\u001b[0m: 'int' object is not iterable"
     ]
    }
   ],
   "source": [
    "l1.extend(89)"
   ]
  },
  {
   "cell_type": "code",
   "execution_count": 40,
   "id": "1147e562",
   "metadata": {},
   "outputs": [],
   "source": [
    "l1.extend('Karthik')"
   ]
  },
  {
   "cell_type": "code",
   "execution_count": 41,
   "id": "30d813aa",
   "metadata": {},
   "outputs": [
    {
     "data": {
      "text/plain": [
       "[1,\n",
       " 3.5,\n",
       " 'Python',\n",
       " 'Data Scientist',\n",
       " [1, 0, True],\n",
       " 'K',\n",
       " 'a',\n",
       " 'r',\n",
       " 't',\n",
       " 'h',\n",
       " 'i',\n",
       " 'k']"
      ]
     },
     "execution_count": 41,
     "metadata": {},
     "output_type": "execute_result"
    }
   ],
   "source": [
    "l1"
   ]
  },
  {
   "cell_type": "code",
   "execution_count": 42,
   "id": "a24f394a",
   "metadata": {},
   "outputs": [],
   "source": [
    "l1.extend((1, 3, 5))"
   ]
  },
  {
   "cell_type": "code",
   "execution_count": 43,
   "id": "d6a98afb",
   "metadata": {},
   "outputs": [
    {
     "data": {
      "text/plain": [
       "[1,\n",
       " 3.5,\n",
       " 'Python',\n",
       " 'Data Scientist',\n",
       " [1, 0, True],\n",
       " 'K',\n",
       " 'a',\n",
       " 'r',\n",
       " 't',\n",
       " 'h',\n",
       " 'i',\n",
       " 'k',\n",
       " 1,\n",
       " 3,\n",
       " 5]"
      ]
     },
     "execution_count": 43,
     "metadata": {},
     "output_type": "execute_result"
    }
   ],
   "source": [
    "l1"
   ]
  },
  {
   "cell_type": "code",
   "execution_count": 44,
   "id": "b188d33c",
   "metadata": {},
   "outputs": [],
   "source": [
    "l2 = [1, 3, 5]"
   ]
  },
  {
   "cell_type": "code",
   "execution_count": 45,
   "id": "1206d839",
   "metadata": {},
   "outputs": [],
   "source": [
    "l2.insert(1, 'Karthik')"
   ]
  },
  {
   "cell_type": "code",
   "execution_count": 46,
   "id": "866d1138",
   "metadata": {},
   "outputs": [
    {
     "data": {
      "text/plain": [
       "[1, 'Karthik', 3, 5]"
      ]
     },
     "execution_count": 46,
     "metadata": {},
     "output_type": "execute_result"
    }
   ],
   "source": [
    "l2"
   ]
  },
  {
   "cell_type": "code",
   "execution_count": 47,
   "id": "cc7719a4",
   "metadata": {},
   "outputs": [],
   "source": [
    "l2.insert(-1, 'Gonna be inserted at -1th index')"
   ]
  },
  {
   "cell_type": "code",
   "execution_count": 48,
   "id": "250fcccd",
   "metadata": {},
   "outputs": [
    {
     "data": {
      "text/plain": [
       "[1, 'Karthik', 3, 'Gonna be inserted at -1th index', 5]"
      ]
     },
     "execution_count": 48,
     "metadata": {},
     "output_type": "execute_result"
    }
   ],
   "source": [
    "l2"
   ]
  },
  {
   "cell_type": "code",
   "execution_count": 49,
   "id": "d7c449dc",
   "metadata": {},
   "outputs": [],
   "source": [
    "l3 = [2, 4, 1, True, 3, 6]"
   ]
  },
  {
   "cell_type": "code",
   "execution_count": 68,
   "id": "c415f43c",
   "metadata": {},
   "outputs": [
    {
     "data": {
      "text/plain": [
       "3"
      ]
     },
     "execution_count": 68,
     "metadata": {},
     "output_type": "execute_result"
    }
   ],
   "source": [
    "l3.pop() #by default pops element at -1th index"
   ]
  },
  {
   "cell_type": "code",
   "execution_count": 67,
   "id": "f74257c0",
   "metadata": {},
   "outputs": [
    {
     "data": {
      "text/plain": [
       "[2, 4, 1, True, 3]"
      ]
     },
     "execution_count": 67,
     "metadata": {},
     "output_type": "execute_result"
    }
   ],
   "source": [
    "l3"
   ]
  },
  {
   "cell_type": "code",
   "execution_count": 81,
   "id": "f554193f",
   "metadata": {},
   "outputs": [
    {
     "data": {
      "text/plain": [
       "2"
      ]
     },
     "execution_count": 81,
     "metadata": {},
     "output_type": "execute_result"
    }
   ],
   "source": [
    "l3.pop(0) #takes index as parameter"
   ]
  },
  {
   "cell_type": "code",
   "execution_count": 77,
   "id": "ffb58b0c",
   "metadata": {},
   "outputs": [],
   "source": [
    "l3.remove(1)  #takes value as argument"
   ]
  },
  {
   "cell_type": "code",
   "execution_count": 82,
   "id": "104bd97e",
   "metadata": {},
   "outputs": [
    {
     "data": {
      "text/plain": [
       "[]"
      ]
     },
     "execution_count": 82,
     "metadata": {},
     "output_type": "execute_result"
    }
   ],
   "source": [
    "l3"
   ]
  },
  {
   "cell_type": "code",
   "execution_count": 74,
   "id": "bfbc250b",
   "metadata": {},
   "outputs": [],
   "source": [
    "l4 = [0, False, 78, 90.9, 0.99]"
   ]
  },
  {
   "cell_type": "code",
   "execution_count": 75,
   "id": "d4de704e",
   "metadata": {},
   "outputs": [],
   "source": [
    "l4.remove(False)"
   ]
  },
  {
   "cell_type": "code",
   "execution_count": 76,
   "id": "fb4e3e1a",
   "metadata": {},
   "outputs": [
    {
     "data": {
      "text/plain": [
       "[False, 78, 90.9, 0.99]"
      ]
     },
     "execution_count": 76,
     "metadata": {},
     "output_type": "execute_result"
    }
   ],
   "source": [
    "l4"
   ]
  },
  {
   "cell_type": "code",
   "execution_count": 83,
   "id": "e89c3242",
   "metadata": {},
   "outputs": [],
   "source": [
    "l4[0] = 1 #Mutable"
   ]
  },
  {
   "cell_type": "code",
   "execution_count": 84,
   "id": "9560380e",
   "metadata": {},
   "outputs": [
    {
     "data": {
      "text/plain": [
       "[1, 78, 90.9, 0.99]"
      ]
     },
     "execution_count": 84,
     "metadata": {},
     "output_type": "execute_result"
    }
   ],
   "source": [
    "l4"
   ]
  },
  {
   "cell_type": "code",
   "execution_count": 86,
   "id": "f04b1362",
   "metadata": {},
   "outputs": [],
   "source": [
    "l5 = [67, 908, -34, 1, 1.8, 9.00, -56.8]"
   ]
  },
  {
   "cell_type": "code",
   "execution_count": 87,
   "id": "078f6c44",
   "metadata": {},
   "outputs": [],
   "source": [
    "l5.sort()"
   ]
  },
  {
   "cell_type": "code",
   "execution_count": 88,
   "id": "29e6f095",
   "metadata": {},
   "outputs": [
    {
     "data": {
      "text/plain": [
       "[-56.8, -34, 1, 1.8, 9.0, 67, 908]"
      ]
     },
     "execution_count": 88,
     "metadata": {},
     "output_type": "execute_result"
    }
   ],
   "source": [
    "l5"
   ]
  },
  {
   "cell_type": "code",
   "execution_count": 89,
   "id": "718c56f3",
   "metadata": {},
   "outputs": [],
   "source": [
    "l5.sort(reverse = True)"
   ]
  },
  {
   "cell_type": "code",
   "execution_count": 90,
   "id": "1e89c9e9",
   "metadata": {},
   "outputs": [
    {
     "data": {
      "text/plain": [
       "[908, 67, 9.0, 1.8, 1, -34, -56.8]"
      ]
     },
     "execution_count": 90,
     "metadata": {},
     "output_type": "execute_result"
    }
   ],
   "source": [
    "l5"
   ]
  },
  {
   "cell_type": "code",
   "execution_count": null,
   "id": "ecb3ca5d",
   "metadata": {},
   "outputs": [],
   "source": []
  }
 ],
 "metadata": {
  "kernelspec": {
   "display_name": "Python 3 (ipykernel)",
   "language": "python",
   "name": "python3"
  },
  "language_info": {
   "codemirror_mode": {
    "name": "ipython",
    "version": 3
   },
   "file_extension": ".py",
   "mimetype": "text/x-python",
   "name": "python",
   "nbconvert_exporter": "python",
   "pygments_lexer": "ipython3",
   "version": "3.9.13"
  }
 },
 "nbformat": 4,
 "nbformat_minor": 5
}
