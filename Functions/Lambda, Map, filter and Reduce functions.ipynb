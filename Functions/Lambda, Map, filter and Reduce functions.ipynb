{
 "cells": [
  {
   "cell_type": "markdown",
   "id": "b94595e4",
   "metadata": {},
   "source": [
    "## <span style = \"text-decoration : underline ;\" >What are iterators and Iterables ?</span>\n",
    "### An <span style = \"text-decoration : underline ;\" >Iterable</span> is any Python object that is capable of being looped over to access its elements one at a time.\n",
    "### An <span style = \"text-decoration : underline ;\" >Iterator</span> is an object representing a stream of data. 'iter()' and 'next()' are built-in Python functions that work with iterators.\n",
    "### The 'iter()' function essentially calls the '__iter__()' dunder method on the iterable, which should then return an iterator object. This iterator can then be used to loop through the elements of the iterable one by one. They do this by keeping track of their own state (like current position) and providing a way to get to the next element ('__next__()')\n",
    "### The 'next()' function is used to retrieve the next element from an iterator. It calls the '__next__()' method on the iterator to get the next value. If there are no elements, it raises a 'StopIteration' exception.\n",
    "\n",
    "\n",
    "### In brief, an iterable is a collection of items that can be looped over, whereas iterator is an object that helps you go through the iterable, one by one."
   ]
  },
  {
   "cell_type": "code",
   "execution_count": 3,
   "id": "9523b5f6",
   "metadata": {},
   "outputs": [
    {
     "name": "stdout",
     "output_type": "stream",
     "text": [
      "1\n",
      "2\n",
      "3\n",
      "4\n",
      "5\n"
     ]
    }
   ],
   "source": [
    "num_list = [1, 2, 3, 4, 5] # an iterable\n",
    "\n",
    "for item in num_list :\n",
    "    print(item)"
   ]
  },
  {
   "cell_type": "markdown",
   "id": "c064a166",
   "metadata": {},
   "source": [
    "### When you use 'for' loop to iterate over an iterable, this is what happens behind the screen\n",
    "### 1. Calls 'iter()' on the iterable to get an iterator.\n",
    "### 2. Repeatedly calls 'next()' on the iterator to get to the next item.\n",
    "### 3. Stops when 'StopIteration' is raised, that means there are no more items left.\n",
    "\n",
    "### Common MISCONCEPTION : 'item' here is NOT an iterator, it's just a variable that holds the current value from the iterable. 'iter()' functionally is internally called on 'num_list' to get an iterator."
   ]
  },
  {
   "cell_type": "code",
   "execution_count": 5,
   "id": "ab1b9de7",
   "metadata": {},
   "outputs": [
    {
     "name": "stdout",
     "output_type": "stream",
     "text": [
      "1\n",
      "2\n",
      "3\n",
      "4\n",
      "5\n"
     ]
    }
   ],
   "source": [
    "# Equivalent code\n",
    "\n",
    "my_iterator = iter(num_list)\n",
    "\n",
    "while True :\n",
    "    try :\n",
    "        item = next(my_iterator)\n",
    "        print(item)\n",
    "    except :\n",
    "        break\n",
    "        \n",
    "# IGNORE THIS CODE FOR NOW, AND COME BACK AFTER WE COVER EXCEPTION HANDLING"
   ]
  },
  {
   "cell_type": "code",
   "execution_count": null,
   "id": "8d13a1eb",
   "metadata": {},
   "outputs": [],
   "source": []
  },
  {
   "cell_type": "code",
   "execution_count": 10,
   "id": "58601433",
   "metadata": {},
   "outputs": [
    {
     "ename": "TypeError",
     "evalue": "'str' object is not an iterator",
     "output_type": "error",
     "traceback": [
      "\u001b[1;31m---------------------------------------------------------------------------\u001b[0m",
      "\u001b[1;31mTypeError\u001b[0m                                 Traceback (most recent call last)",
      "\u001b[1;32m~\\AppData\\Local\\Temp\\ipykernel_21204\\2648147135.py\u001b[0m in \u001b[0;36m<module>\u001b[1;34m\u001b[0m\n\u001b[0;32m      4\u001b[0m \u001b[0mname\u001b[0m \u001b[1;33m=\u001b[0m \u001b[1;34m'Alicia'\u001b[0m\u001b[1;33m\u001b[0m\u001b[1;33m\u001b[0m\u001b[0m\n\u001b[0;32m      5\u001b[0m \u001b[1;33m\u001b[0m\u001b[0m\n\u001b[1;32m----> 6\u001b[1;33m \u001b[0mnext\u001b[0m\u001b[1;33m(\u001b[0m\u001b[0mname\u001b[0m\u001b[1;33m)\u001b[0m\u001b[1;33m\u001b[0m\u001b[1;33m\u001b[0m\u001b[0m\n\u001b[0m",
      "\u001b[1;31mTypeError\u001b[0m: 'str' object is not an iterator"
     ]
    }
   ],
   "source": [
    "# 'next()' can be called only on an iterator\n",
    "# 'string' objects are not iterators, but are iterables.\n",
    "\n",
    "name = 'Alicia'\n",
    "\n",
    "next(name)"
   ]
  },
  {
   "cell_type": "code",
   "execution_count": 8,
   "id": "8059485b",
   "metadata": {},
   "outputs": [
    {
     "name": "stdout",
     "output_type": "stream",
     "text": [
      "A\n"
     ]
    }
   ],
   "source": [
    "# creating an iterator for our 'string' object using 'iter()'\n",
    "iterator_for_name = iter(name)\n",
    "\n",
    "print(next(iterator_for_name))"
   ]
  },
  {
   "cell_type": "code",
   "execution_count": 9,
   "id": "5282a642",
   "metadata": {},
   "outputs": [
    {
     "name": "stdout",
     "output_type": "stream",
     "text": [
      "l\n",
      "i\n",
      "c\n",
      "i\n",
      "a\n"
     ]
    },
    {
     "ename": "StopIteration",
     "evalue": "",
     "output_type": "error",
     "traceback": [
      "\u001b[1;31m---------------------------------------------------------------------------\u001b[0m",
      "\u001b[1;31mStopIteration\u001b[0m                             Traceback (most recent call last)",
      "\u001b[1;32m~\\AppData\\Local\\Temp\\ipykernel_21204\\1857258000.py\u001b[0m in \u001b[0;36m<module>\u001b[1;34m\u001b[0m\n\u001b[0;32m      4\u001b[0m \u001b[0mprint\u001b[0m\u001b[1;33m(\u001b[0m\u001b[0mnext\u001b[0m\u001b[1;33m(\u001b[0m\u001b[0miterator_for_name\u001b[0m\u001b[1;33m)\u001b[0m\u001b[1;33m)\u001b[0m\u001b[1;33m\u001b[0m\u001b[1;33m\u001b[0m\u001b[0m\n\u001b[0;32m      5\u001b[0m \u001b[0mprint\u001b[0m\u001b[1;33m(\u001b[0m\u001b[0mnext\u001b[0m\u001b[1;33m(\u001b[0m\u001b[0miterator_for_name\u001b[0m\u001b[1;33m)\u001b[0m\u001b[1;33m)\u001b[0m\u001b[1;33m\u001b[0m\u001b[1;33m\u001b[0m\u001b[0m\n\u001b[1;32m----> 6\u001b[1;33m \u001b[0mprint\u001b[0m\u001b[1;33m(\u001b[0m\u001b[0mnext\u001b[0m\u001b[1;33m(\u001b[0m\u001b[0miterator_for_name\u001b[0m\u001b[1;33m)\u001b[0m\u001b[1;33m)\u001b[0m\u001b[1;33m\u001b[0m\u001b[1;33m\u001b[0m\u001b[0m\n\u001b[0m",
      "\u001b[1;31mStopIteration\u001b[0m: "
     ]
    }
   ],
   "source": [
    "print(next(iterator_for_name))\n",
    "print(next(iterator_for_name))\n",
    "print(next(iterator_for_name))\n",
    "print(next(iterator_for_name))\n",
    "print(next(iterator_for_name))\n",
    "print(next(iterator_for_name))"
   ]
  },
  {
   "cell_type": "code",
   "execution_count": null,
   "id": "b65db2d3",
   "metadata": {},
   "outputs": [],
   "source": []
  },
  {
   "cell_type": "markdown",
   "id": "471afd0e",
   "metadata": {},
   "source": [
    "### <span style = \"text-decoration : underline ;\" >Generators</span>\n",
    "\n",
    "### Special type of functions that allow you to generate a series of values over time, as they are requested rather than pre - computing them all at once and storing them in memory.\n",
    "### They use 'yield' to produce a value and temporarily pause the function's execution. When the generator is called again(usually using 'next()' or within a loop), execution resumes from the last 'yield' statement.\n",
    "### Local variables retain their values between calls, allowing the function to remember its previous state"
   ]
  },
  {
   "cell_type": "code",
   "execution_count": 13,
   "id": "6280bf4c",
   "metadata": {},
   "outputs": [],
   "source": [
    "def number_sequence(n) :\n",
    "    for i in range(n) :\n",
    "        yield i"
   ]
  },
  {
   "cell_type": "code",
   "execution_count": 14,
   "id": "8a7a0671",
   "metadata": {},
   "outputs": [
    {
     "data": {
      "text/plain": [
       "<generator object number_sequence at 0x000002A646C740B0>"
      ]
     },
     "execution_count": 14,
     "metadata": {},
     "output_type": "execute_result"
    }
   ],
   "source": [
    "number_sequence(5)"
   ]
  },
  {
   "cell_type": "code",
   "execution_count": 16,
   "id": "5e21cce9",
   "metadata": {},
   "outputs": [
    {
     "name": "stdout",
     "output_type": "stream",
     "text": [
      "[0, 1, 2, 3, 4]\n"
     ]
    }
   ],
   "source": [
    "seq_gen = number_sequence(5)\n",
    "print(list(seq_gen))"
   ]
  },
  {
   "cell_type": "code",
   "execution_count": null,
   "id": "ac9e6891",
   "metadata": {
    "scrolled": true
   },
   "outputs": [],
   "source": []
  },
  {
   "cell_type": "code",
   "execution_count": 22,
   "id": "258476ff",
   "metadata": {},
   "outputs": [],
   "source": [
    "import random\n",
    "\n",
    "def random_num_gen() :\n",
    "    while True :\n",
    "        yield random.randint(1, 1000)"
   ]
  },
  {
   "cell_type": "code",
   "execution_count": 24,
   "id": "16b1ffdb",
   "metadata": {},
   "outputs": [
    {
     "data": {
      "text/plain": [
       "[737, 993, 906, 82, 313, 59, 631, 487, 214, 927]"
      ]
     },
     "execution_count": 24,
     "metadata": {},
     "output_type": "execute_result"
    }
   ],
   "source": [
    "random_gen = random_num_gen()\n",
    "[next(random_gen) for _ in range(10)]"
   ]
  },
  {
   "cell_type": "markdown",
   "id": "90a844f9",
   "metadata": {},
   "source": [
    "### The infinite loop in the generator function doesn't mean it generates an infinite number of random numbers, instead it means it is capable of producing an infinite series of numbers over time.\n",
    "\n",
    "### When you call a generator function('random_num_gen' in this case), it doesn't actually start executing.. instead it returns a special type of object called a 'generator'. This object is an iterator.\n",
    "### 'yield' in the generator function tells Python to temporarily pause the function and return a value(a random number, here).\n",
    "### When you call 'next()' on the generator object, it starts executing the function. It runs until it encounters 'yield' statement, then it pauses and returns the value. Each time you call 'next()', the generator computes the next random number in the sequence, and you can keep doing this as many times as you need."
   ]
  },
  {
   "cell_type": "code",
   "execution_count": null,
   "id": "8062e3be",
   "metadata": {},
   "outputs": [],
   "source": []
  },
  {
   "cell_type": "markdown",
   "id": "79ebf067",
   "metadata": {},
   "source": [
    "### <span style = \"text-decoration : underline ;\" >Prime number generator</span>"
   ]
  },
  {
   "cell_type": "code",
   "execution_count": 25,
   "id": "854586df",
   "metadata": {},
   "outputs": [],
   "source": [
    "def prime_num_generator() :\n",
    "    \n",
    "    num = 2\n",
    "    while True :\n",
    "        if is_prime(num) :\n",
    "            yield num\n",
    "        num =  num + 1"
   ]
  },
  {
   "cell_type": "code",
   "execution_count": 27,
   "id": "17ed1a0e",
   "metadata": {},
   "outputs": [],
   "source": [
    "def is_prime(x) :\n",
    "    \n",
    "    if x < 2 : \n",
    "        return False\n",
    "    \n",
    "    for i in range(2, int(x ** 0.5 + 1)) :\n",
    "        if x % i == 0 :\n",
    "            return False\n",
    "    return True"
   ]
  },
  {
   "cell_type": "code",
   "execution_count": 28,
   "id": "6b4fb1c2",
   "metadata": {},
   "outputs": [],
   "source": [
    "prime_gen = prime_num_generator()"
   ]
  },
  {
   "cell_type": "code",
   "execution_count": 29,
   "id": "22bce65b",
   "metadata": {},
   "outputs": [
    {
     "data": {
      "text/plain": [
       "[2, 3, 5, 7, 11, 13, 17, 19, 23, 29]"
      ]
     },
     "execution_count": 29,
     "metadata": {},
     "output_type": "execute_result"
    }
   ],
   "source": [
    "[next(prime_gen) for _ in range(10)]"
   ]
  },
  {
   "cell_type": "code",
   "execution_count": null,
   "id": "829f18ca",
   "metadata": {},
   "outputs": [],
   "source": []
  },
  {
   "cell_type": "markdown",
   "id": "49f45083",
   "metadata": {},
   "source": [
    "### <span style = \"text-decoration : underline ;\" >Fibonacci square</span>"
   ]
  },
  {
   "cell_type": "code",
   "execution_count": 15,
   "id": "32e5825d",
   "metadata": {},
   "outputs": [],
   "source": [
    "def fibo(n) :\n",
    "    \n",
    "    x, y = 0, 1\n",
    "    for i in range(n) : # 0, 1, 2, 3, 4,... n-1\n",
    "        yield x \n",
    "        x, y = y, (x + y)"
   ]
  },
  {
   "cell_type": "code",
   "execution_count": 16,
   "id": "46b5cb18",
   "metadata": {},
   "outputs": [
    {
     "data": {
      "text/plain": [
       "<generator object fibo at 0x00000292869AE580>"
      ]
     },
     "execution_count": 16,
     "metadata": {},
     "output_type": "execute_result"
    }
   ],
   "source": [
    "# One way of accessing data from generator functions\n",
    "fibo(15) "
   ]
  },
  {
   "cell_type": "code",
   "execution_count": 17,
   "id": "44e10777",
   "metadata": {},
   "outputs": [
    {
     "name": "stdout",
     "output_type": "stream",
     "text": [
      "[0, 1, 1, 2, 3, 5, 8, 13, 21, 34, 55]\n"
     ]
    }
   ],
   "source": [
    "fibo_list = list(fibo(11))\n",
    "print(fibo_list)"
   ]
  },
  {
   "cell_type": "code",
   "execution_count": 18,
   "id": "0eaeeea6",
   "metadata": {},
   "outputs": [
    {
     "name": "stdout",
     "output_type": "stream",
     "text": [
      "0\n",
      "1\n",
      "1\n",
      "2\n",
      "3\n",
      "5\n",
      "8\n",
      "13\n",
      "21\n",
      "34\n",
      "55\n",
      "89\n",
      "144\n",
      "233\n",
      "377\n"
     ]
    }
   ],
   "source": [
    "# Another way of accessing data from generator functions\n",
    "\n",
    "for i in fibo(15) :\n",
    "    print(i)"
   ]
  },
  {
   "cell_type": "markdown",
   "id": "69a84783",
   "metadata": {},
   "source": [
    "### <span style = \"text-decoration : underline ;\" >Lambda functions, also called the Anonymous functions</span>\n",
    "### Lambda functions are a powerful tool for writing concise and readable code, especially when you have simple operations to perform"
   ]
  },
  {
   "cell_type": "code",
   "execution_count": 2,
   "id": "2abd9822",
   "metadata": {},
   "outputs": [],
   "source": [
    "# lambda [arguments] : expression"
   ]
  },
  {
   "cell_type": "code",
   "execution_count": 3,
   "id": "ddca7ac7",
   "metadata": {},
   "outputs": [
    {
     "data": {
      "text/plain": [
       "20"
      ]
     },
     "execution_count": 3,
     "metadata": {},
     "output_type": "execute_result"
    }
   ],
   "source": [
    "# Example 1 - 'lambda' function to 'add' 2 numbers\n",
    "\n",
    "sum_res = lambda x, y : x + y\n",
    "sum_res(2, 18)"
   ]
  },
  {
   "cell_type": "code",
   "execution_count": null,
   "id": "aed0590b",
   "metadata": {},
   "outputs": [],
   "source": []
  },
  {
   "cell_type": "code",
   "execution_count": 40,
   "id": "8b571b1c",
   "metadata": {},
   "outputs": [
    {
     "data": {
      "text/plain": [
       "25"
      ]
     },
     "execution_count": 40,
     "metadata": {},
     "output_type": "execute_result"
    }
   ],
   "source": [
    "# Example 2 - 'lambda' function to return the square of a number\n",
    "\n",
    "square = lambda x : x ** 2\n",
    "square(5)"
   ]
  },
  {
   "cell_type": "code",
   "execution_count": null,
   "id": "cc1bfb76",
   "metadata": {},
   "outputs": [],
   "source": []
  },
  {
   "cell_type": "code",
   "execution_count": 4,
   "id": "e9fde73c",
   "metadata": {},
   "outputs": [
    {
     "data": {
      "text/plain": [
       "False"
      ]
     },
     "execution_count": 4,
     "metadata": {},
     "output_type": "execute_result"
    }
   ],
   "source": [
    "# Example 3 - 'lambda' function that checks if a number is even\n",
    "\n",
    "is_even = lambda x : x % 2 == 0\n",
    "is_even(7)"
   ]
  },
  {
   "cell_type": "code",
   "execution_count": null,
   "id": "0a53efcc",
   "metadata": {},
   "outputs": [],
   "source": []
  },
  {
   "cell_type": "code",
   "execution_count": 49,
   "id": "a2183c60",
   "metadata": {},
   "outputs": [
    {
     "data": {
      "text/plain": [
       "'DUHH'"
      ]
     },
     "execution_count": 49,
     "metadata": {},
     "output_type": "execute_result"
    }
   ],
   "source": [
    "# Example 4 - 'lambda' function that converts a string into its upper case\n",
    "\n",
    "to_upper = lambda s : s.upper()\n",
    "to_upper('duhh')"
   ]
  },
  {
   "cell_type": "code",
   "execution_count": null,
   "id": "555fe218",
   "metadata": {},
   "outputs": [],
   "source": []
  },
  {
   "cell_type": "code",
   "execution_count": 6,
   "id": "85912a02",
   "metadata": {},
   "outputs": [],
   "source": [
    "num_list = [21, 34, 89.43, 123, -87, 67]"
   ]
  },
  {
   "cell_type": "code",
   "execution_count": 7,
   "id": "0091fa99",
   "metadata": {},
   "outputs": [
    {
     "data": {
      "text/plain": [
       "41.23833333333334"
      ]
     },
     "execution_count": 7,
     "metadata": {},
     "output_type": "execute_result"
    }
   ],
   "source": [
    "# Example 5 - 'lambda' function the returns 'average' of some numbers\n",
    "\n",
    "avg = lambda x : sum(x) / len(x)\n",
    "avg(num_list)"
   ]
  },
  {
   "cell_type": "code",
   "execution_count": null,
   "id": "59c71c5b",
   "metadata": {},
   "outputs": [],
   "source": []
  },
  {
   "cell_type": "code",
   "execution_count": 8,
   "id": "0a1f70f6",
   "metadata": {},
   "outputs": [
    {
     "data": {
      "text/plain": [
       "93.2"
      ]
     },
     "execution_count": 8,
     "metadata": {},
     "output_type": "execute_result"
    }
   ],
   "source": [
    "# Example 6 - 'lambda' function to convert celsius into fahrenheit scale\n",
    "\n",
    "c_to_f = lambda c : (9 / 5) * c + 32\n",
    "c_to_f(34)"
   ]
  },
  {
   "cell_type": "code",
   "execution_count": null,
   "id": "c03ea2ed",
   "metadata": {},
   "outputs": [],
   "source": []
  },
  {
   "cell_type": "markdown",
   "id": "5b685b73",
   "metadata": {},
   "source": [
    "### <span style = \"text-decoration : underline ;\" >Map, Reduce, Filter functions</span>"
   ]
  },
  {
   "cell_type": "markdown",
   "id": "d952b755",
   "metadata": {},
   "source": [
    "### 1. The '<span style = \"text-decoration : underline ;\" >map()</span>' function in python is used to apply a specified function to each item in a sequence, and return an iterator of the results.\n",
    "### Essentially performs a one-to-one transformation on the elements of the sequence"
   ]
  },
  {
   "cell_type": "code",
   "execution_count": 41,
   "id": "9e539489",
   "metadata": {},
   "outputs": [
    {
     "data": {
      "text/plain": [
       "'Syntax : '"
      ]
     },
     "execution_count": 41,
     "metadata": {},
     "output_type": "execute_result"
    }
   ],
   "source": [
    "\"\"\"Syntax : \"\"\"\n",
    "\n",
    "# map(function, iterable)"
   ]
  },
  {
   "cell_type": "code",
   "execution_count": 42,
   "id": "9a744bdf",
   "metadata": {},
   "outputs": [],
   "source": [
    "def square_num(x) :\n",
    "    return x ** 2"
   ]
  },
  {
   "cell_type": "code",
   "execution_count": 44,
   "id": "24144387",
   "metadata": {},
   "outputs": [],
   "source": [
    "l = [1, 2, 3, 4, 5, 6]"
   ]
  },
  {
   "cell_type": "code",
   "execution_count": 45,
   "id": "f0a92c82",
   "metadata": {},
   "outputs": [
    {
     "data": {
      "text/plain": [
       "<map at 0x2a646c83700>"
      ]
     },
     "execution_count": 45,
     "metadata": {},
     "output_type": "execute_result"
    }
   ],
   "source": [
    "map(square_num, l)"
   ]
  },
  {
   "cell_type": "code",
   "execution_count": 46,
   "id": "b808d33a",
   "metadata": {},
   "outputs": [
    {
     "data": {
      "text/plain": [
       "[1, 4, 9, 16, 25, 36]"
      ]
     },
     "execution_count": 46,
     "metadata": {},
     "output_type": "execute_result"
    }
   ],
   "source": [
    "list(map(square_num, l))"
   ]
  },
  {
   "cell_type": "code",
   "execution_count": null,
   "id": "d61e7306",
   "metadata": {},
   "outputs": [],
   "source": []
  },
  {
   "cell_type": "markdown",
   "id": "86cab405",
   "metadata": {},
   "source": [
    "### 2. The '<span style = \"text-decoration : underline ;\" >filter()</span>' function function filters out elements based on a given condition. The filter() function returns an iterator containing the elements for which the 'function' returns 'True'"
   ]
  },
  {
   "cell_type": "code",
   "execution_count": 58,
   "id": "08344bbe",
   "metadata": {},
   "outputs": [
    {
     "data": {
      "text/plain": [
       "'Syntax : '"
      ]
     },
     "execution_count": 58,
     "metadata": {},
     "output_type": "execute_result"
    }
   ],
   "source": [
    "\"\"\"Syntax : \"\"\"\n",
    "\n",
    "# filter(function, iterable)"
   ]
  },
  {
   "cell_type": "code",
   "execution_count": 55,
   "id": "de77d52f",
   "metadata": {},
   "outputs": [
    {
     "data": {
      "text/plain": [
       "<filter at 0x2a646afb130>"
      ]
     },
     "execution_count": 55,
     "metadata": {},
     "output_type": "execute_result"
    }
   ],
   "source": [
    "filter(lambda x : x % 2 == 0, l)"
   ]
  },
  {
   "cell_type": "code",
   "execution_count": 57,
   "id": "0c755e56",
   "metadata": {},
   "outputs": [
    {
     "data": {
      "text/plain": [
       "[2, 4, 6]"
      ]
     },
     "execution_count": 57,
     "metadata": {},
     "output_type": "execute_result"
    }
   ],
   "source": [
    "list(filter(lambda x : x % 2 == 0, l))"
   ]
  },
  {
   "cell_type": "code",
   "execution_count": null,
   "id": "60b4f888",
   "metadata": {},
   "outputs": [],
   "source": []
  },
  {
   "cell_type": "markdown",
   "id": "46c35e85",
   "metadata": {},
   "source": [
    "### 3. The '<span style = \"text-decoration : underline ;\" >reduce()</span>' function function is a part of 'functools' module. The reduce() function continuously applies a given function to the elements of a sequence until only one element remains."
   ]
  },
  {
   "cell_type": "code",
   "execution_count": 59,
   "id": "bd987785",
   "metadata": {},
   "outputs": [
    {
     "data": {
      "text/plain": [
       "'import functools\\nfunctools.reduce(function, iterable)'"
      ]
     },
     "execution_count": 59,
     "metadata": {},
     "output_type": "execute_result"
    }
   ],
   "source": [
    "# Syntax\n",
    "\n",
    "\"\"\"import functools\n",
    "functools.reduce(function, iterable)\"\"\""
   ]
  },
  {
   "cell_type": "code",
   "execution_count": 63,
   "id": "7d894013",
   "metadata": {},
   "outputs": [
    {
     "name": "stdout",
     "output_type": "stream",
     "text": [
      "21\n"
     ]
    }
   ],
   "source": [
    "from functools import reduce\n",
    "a = reduce((lambda x , y : x + y), l)\n",
    "print(a)"
   ]
  },
  {
   "cell_type": "code",
   "execution_count": null,
   "id": "6a782d1e",
   "metadata": {},
   "outputs": [],
   "source": []
  },
  {
   "cell_type": "markdown",
   "id": "a39fa5bd",
   "metadata": {},
   "source": [
    "### <span style = \"text-decoration : underline ;\" >Exercise on functions :</span>\n",
    "\n",
    "### '<span style = \"text-decoration : underline ;\" >Developing a program to process online store orders. Each order contains information about the customers, the items purchased & additional details.</span>'"
   ]
  },
  {
   "cell_type": "code",
   "execution_count": 10,
   "id": "10074663",
   "metadata": {},
   "outputs": [],
   "source": [
    "def process_customer_info(name, email, **kwargs) :\n",
    "    print(f'Processing customer info for {name}')\n",
    "    print(f'Email : {email}')\n",
    "    print('Additional information : ')\n",
    "    \n",
    "    for key, value in kwargs.items() :\n",
    "        print(f'{key} : {value}')\n",
    "        \n",
    "def process_order_items(*args) :\n",
    "    print(f'\\nProcessing order items : ')\n",
    "    for item in args :\n",
    "        print(f'{item}')\n",
    "\n",
    "def calculate_total_amount(*args) :\n",
    "    \n",
    "    total = 0\n",
    "    for arg in args :\n",
    "        if isinstance(arg, (int, float)) :\n",
    "            total = total + arg\n",
    "        else :\n",
    "            print(f'Invalid item price : {arg}')\n",
    "    return total\n",
    "\n",
    "def process_order(customer_info, *items, **kwargs) :\n",
    "    print('Order processing initiated')\n",
    "    process_customer_info(**customer_info)\n",
    "    process_order_items(*items)\n",
    "    \n",
    "    item_prices = kwargs.get(\"item_prices\", ())\n",
    "    total_amount = calculate_total_amount(*item_prices)\n",
    "    print(f'\\nTotal amount = ${total_amount}')\n",
    "    print('\\nOrder process completed')\n",
    "    \n",
    "    print('\\n---Receipt---')\n",
    "    print(f'\\nCustomer : {customer_info[\"name\"]}')"
   ]
  },
  {
   "cell_type": "code",
   "execution_count": 11,
   "id": "532ae8e4",
   "metadata": {},
   "outputs": [
    {
     "name": "stdout",
     "output_type": "stream",
     "text": [
      "Order processing initiated\n",
      "Processing customer info for Karthik\n",
      "Email : karth.av@gamil.com\n",
      "Additional information : \n",
      "phone : 6753312345\n",
      "\n",
      "Processing order items : \n",
      "American polo shoes\n",
      "shirt\n",
      "denim jacket\n",
      "torn jeans\n",
      "\n",
      "Total amount = $80.98\n",
      "\n",
      "Order process completed\n",
      "\n",
      "---Receipt---\n",
      "\n",
      "Customer : Karthik\n"
     ]
    }
   ],
   "source": [
    "customer_info = {\n",
    "    'name' : 'Karthik',\n",
    "    'email' : 'karth.av@gamil.com',\n",
    "    'phone' : 6753312345\n",
    "}\n",
    "\n",
    "items = {'shirt', 'denim jacket', 'torn jeans', 'American polo shoes'}\n",
    "\n",
    "order_details = {\n",
    "    'address' : 'XYZ layout, banglore',\n",
    "    'item_prices' : (15.99, 20, 15, 29.99)\n",
    "}\n",
    "\n",
    "process_order(customer_info, *items, **order_details)"
   ]
  },
  {
   "cell_type": "code",
   "execution_count": null,
   "id": "5a83526c",
   "metadata": {},
   "outputs": [],
   "source": []
  },
  {
   "cell_type": "code",
   "execution_count": null,
   "id": "6599c3f2",
   "metadata": {},
   "outputs": [],
   "source": []
  },
  {
   "cell_type": "code",
   "execution_count": null,
   "id": "c32ad1f3",
   "metadata": {},
   "outputs": [],
   "source": []
  }
 ],
 "metadata": {
  "kernelspec": {
   "display_name": "Python 3 (ipykernel)",
   "language": "python",
   "name": "python3"
  },
  "language_info": {
   "codemirror_mode": {
    "name": "ipython",
    "version": 3
   },
   "file_extension": ".py",
   "mimetype": "text/x-python",
   "name": "python",
   "nbconvert_exporter": "python",
   "pygments_lexer": "ipython3",
   "version": "3.9.13"
  }
 },
 "nbformat": 4,
 "nbformat_minor": 5
}
