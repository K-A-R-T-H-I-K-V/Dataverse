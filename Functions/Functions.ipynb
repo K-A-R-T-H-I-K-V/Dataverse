{
 "cells": [
  {
   "cell_type": "markdown",
   "id": "557b0e19",
   "metadata": {},
   "source": [
    "# <span style = \"text-decoration : underline ;\" >Functions</span>\n",
    "\n",
    "### A function is a block of reusable code that performs a specific task or set of tasks.. It allows you to organize your code into modular units, making it more ordered, ultimately eliminating repetition."
   ]
  },
  {
   "cell_type": "code",
   "execution_count": 1,
   "id": "d9d72402",
   "metadata": {},
   "outputs": [],
   "source": [
    "# def function_name (parameters):\n",
    "#     \"\"\"docstring\"\"\"\n",
    "#     statement1\n",
    "#     statement 2\n",
    "#     …\n",
    "#     …\n",
    "#     return [expr]"
   ]
  },
  {
   "cell_type": "markdown",
   "id": "2fe5c201",
   "metadata": {},
   "source": [
    "### 1. 'def' keyword is used to define a function.\n",
    "### 2. 'function_name' is tfunction_name is a unique identifier that is considered the name of the Function.\n",
    "### 3. 'Parameters' : These are the variables that stores the values passed to the Function. 0 or more parameters can be included in the parentheses. \n",
    "### 4. 'Return' Statement : The optional return statement symbolizes the return of values from the Function to the calling code."
   ]
  },
  {
   "cell_type": "code",
   "execution_count": 6,
   "id": "87635915",
   "metadata": {},
   "outputs": [
    {
     "name": "stdout",
     "output_type": "stream",
     "text": [
      "Hello World!\n"
     ]
    }
   ],
   "source": [
    "# Example\n",
    "def hello() :\n",
    "    print(\"Hello World!\")\n",
    "    \n",
    "hello() #function call"
   ]
  },
  {
   "cell_type": "code",
   "execution_count": 7,
   "id": "91e4d118",
   "metadata": {
    "scrolled": true
   },
   "outputs": [
    {
     "name": "stdout",
     "output_type": "stream",
     "text": [
      "Hello World!\n",
      "<class 'NoneType'>\n"
     ]
    }
   ],
   "source": [
    "x = hello()\n",
    "\n",
    "print(type(x))"
   ]
  },
  {
   "cell_type": "markdown",
   "id": "f179d349",
   "metadata": {},
   "source": [
    "### If a function in Python does NOT have a 'return' statement, the function will implicitly return 'None' => the function doesn't produce any meaningful values that you can use for further computations. In contrast, when a function returns a specific value, you can store that value in a variable and use it in your program."
   ]
  },
  {
   "cell_type": "code",
   "execution_count": 8,
   "id": "4603244e",
   "metadata": {},
   "outputs": [
    {
     "name": "stdout",
     "output_type": "stream",
     "text": [
      "\n"
     ]
    },
    {
     "data": {
      "text/plain": [
       "NoneType"
      ]
     },
     "execution_count": 8,
     "metadata": {},
     "output_type": "execute_result"
    }
   ],
   "source": [
    "\"\"\"The 'print()' function itself returns 'None'.\n",
    "In Python, 'None' is a special data type representing the absence of a value or a null value.\"\"\"\n",
    "\n",
    "type(print())"
   ]
  },
  {
   "cell_type": "code",
   "execution_count": null,
   "id": "85d65f2d",
   "metadata": {},
   "outputs": [],
   "source": []
  },
  {
   "cell_type": "markdown",
   "id": "f7159adf",
   "metadata": {},
   "source": [
    "## <span style = \"text-decoration : underline ;\" >Using 'return' statement</span>\n",
    "### Using 'return' allows you to pass information back from a function to the code that called it, which is often essential for writing useful and reusable functions."
   ]
  },
  {
   "cell_type": "code",
   "execution_count": 10,
   "id": "a8f621a5",
   "metadata": {},
   "outputs": [],
   "source": [
    "# Example \n",
    "def add_numbers(a, b) :\n",
    "    result = a + b\n",
    "    return result"
   ]
  },
  {
   "cell_type": "code",
   "execution_count": 11,
   "id": "1c8f76f1",
   "metadata": {},
   "outputs": [
    {
     "name": "stdout",
     "output_type": "stream",
     "text": [
      "8\n"
     ]
    }
   ],
   "source": [
    "sum_result = add_numbers(3, 5)\n",
    "print(sum_result)"
   ]
  },
  {
   "cell_type": "code",
   "execution_count": null,
   "id": "68c69c99",
   "metadata": {},
   "outputs": [],
   "source": []
  },
  {
   "cell_type": "markdown",
   "id": "a9424aae",
   "metadata": {},
   "source": [
    "### In this function, the 'add_numbers' functions take 2 parameters 'a' and 'b'. It calculates their sum, and assigns it to the variable 'result'. Then it uses the 'return' statement to send this value back to the code that called the function. In this case, the return value is 8. This value is then stored in the variable 'sum_result'.\n",
    "\n",
    "### <span style = \"text-decoration : underline ;\" >Parameters</span> : Parameters are the variables listed in the function definition. They act as placeholders for the actual values that will be passed into the function when it is called. In the example 'add_numbers(a, b)', a and b are the parameters. They serve as variables within the function to represent the values that will be added together.\n",
    "\n",
    "### <span style = \"text-decoration : underline ;\" >Arguments</span> : Arguments are the actual values or expressions that are passed into a function when it is called. They replace the parameters defined in the function. In the example, when you call add_numbers(3, 5), 3 and 5 are the arguments. These are the actual values that will be used for a and b inside the function."
   ]
  },
  {
   "cell_type": "code",
   "execution_count": null,
   "id": "77c98c7f",
   "metadata": {},
   "outputs": [],
   "source": []
  },
  {
   "cell_type": "code",
   "execution_count": 104,
   "id": "96092f6c",
   "metadata": {},
   "outputs": [],
   "source": [
    "# Example\n",
    "def power(x, y) :\n",
    "     \"\"\"This function returns the value of x when x is raised by y\"\"\"\n",
    "    \n",
    "    return x ** y"
   ]
  },
  {
   "cell_type": "markdown",
   "id": "2fb3a10b",
   "metadata": {},
   "source": [
    "### The optional docstring or document string is used to define what the Function does. Hover through the function() and when your cursor is very close to the parenthesis, use 'shift + tab' to read the docstring."
   ]
  },
  {
   "cell_type": "code",
   "execution_count": null,
   "id": "752c27ff",
   "metadata": {},
   "outputs": [],
   "source": []
  },
  {
   "cell_type": "markdown",
   "id": "25d03bf1",
   "metadata": {},
   "source": [
    "### Passing is the process of providing arguments (parameters) to a function.\n",
    "\n",
    "### <span style = \"text-decoration : underline ;\" >Pass by value</span> - When a variable is passed by value, a copy of the value is passed to the function. This means that any changes made to the parameter within the function doesn't affect the original variable. In Python, immutable data types like integers, floats, strings and tuples are passed by value."
   ]
  },
  {
   "cell_type": "code",
   "execution_count": 7,
   "id": "10800c3d",
   "metadata": {},
   "outputs": [
    {
     "name": "stdout",
     "output_type": "stream",
     "text": [
      "Inside function :  15\n",
      "The address of 'num' within the function : 2229908433648\n",
      "Outside function :  5\n",
      "The address of 'num' outside the function : 2229908433328\n"
     ]
    }
   ],
   "source": [
    "# Example\n",
    "def modify_value(num) : \n",
    "    num += 10\n",
    "    print(\"Inside function : \", num)\n",
    "    print(f\"The address of 'num' within the function : {id(num)}\")\n",
    "    \n",
    "num = 5\n",
    "modify_value(num)\n",
    "print(\"Outside function : \", num)\n",
    "print(f\"The address of 'num' outside the function : {id(num)}\")\n",
    "\n",
    "# id() is a built-in function in Python that gives memory addresses of objects being passed."
   ]
  },
  {
   "cell_type": "markdown",
   "id": "a31f823b",
   "metadata": {},
   "source": [
    "### <span style = \"text-decoration : underline ;\" >Pass by reference</span> - When a variable is passed by reference, a reference to the memory location where the data is stored is passed to the function. This means that changes made to the parameter within the function affects the original variable. In Python, mutable data types like lists, dictionaries, and objects are passed by reference."
   ]
  },
  {
   "cell_type": "code",
   "execution_count": 6,
   "id": "869f7c6d",
   "metadata": {
    "scrolled": true
   },
   "outputs": [
    {
     "name": "stdout",
     "output_type": "stream",
     "text": [
      "Inside function :  [1, 2, 3, 4]\n",
      "The address of 'my_list' within the function : 2230026747520\n",
      "Outside function :  [1, 2, 3, 4]\n",
      "The address of 'my_list' outside the function : 2230026747520\n"
     ]
    }
   ],
   "source": [
    "# example\n",
    "def modify_list(my_list) :\n",
    "    my_list.append(4)\n",
    "    print(\"Inside function : \", my_list)\n",
    "    print(f\"The address of 'my_list' within the function : {id(my_list)}\")\n",
    "    \n",
    "my_list = [1, 2, 3]\n",
    "modify_list(my_list)\n",
    "print(\"Outside function : \", my_list)\n",
    "print(f\"The address of 'my_list' outside the function : {id(my_list)}\")"
   ]
  },
  {
   "cell_type": "markdown",
   "id": "fb71772d",
   "metadata": {},
   "source": [
    "### Fact Analysis : <span style = \"text-decoration : underline ;\" >Pass by object reference</span> - Unlike languages that use pass by value or pass by reference, python uses a mechanism known as “Pass by Object Reference”. Here, you're actually passing a reference to the memory location where the data (the object) is stored, rather than making a copy of the object itself. This means that if the object is MUTABLE, any changes made to the object's content within the function will affect the original object outside the function.\n",
    "### However, when you attempt to modify an immutable object within the function, Python doesn't directly modify the original object, instead a new object with the modified value is created. This new object doesn't affect the original reference outside the function!!! The original object's value remains unchanged."
   ]
  },
  {
   "cell_type": "code",
   "execution_count": 8,
   "id": "0afd4664",
   "metadata": {},
   "outputs": [
    {
     "name": "stdout",
     "output_type": "stream",
     "text": [
      "The value of 'num' outside the function initially :  5\n",
      "The address of 'num' outside the function initially : 2229908433328\n",
      "The value of 'num' within the function initially :  5\n",
      "The address of 'num' within the function initially : 2229908433328\n",
      "The value of 'num' within the function finally :  15\n",
      "The address of 'num' within the function finally : 2229908433648\n",
      "The value of 'num' outside the function finally :  5\n",
      "The address of 'num' outside the function finally : 2229908433328\n"
     ]
    }
   ],
   "source": [
    "# Example\n",
    "def modify_value(num) : \n",
    "    \n",
    "    print(\"The value of 'num' within the function initially : \", num)\n",
    "    print(f\"The address of 'num' within the function initially : {id(num)}\")\n",
    "    \n",
    "    num += 10\n",
    "    \n",
    "    print(\"The value of 'num' within the function finally : \", num)\n",
    "    print(f\"The address of 'num' within the function finally : {id(num)}\")\n",
    "    \n",
    "num = 5\n",
    "\n",
    "print(\"The value of 'num' outside the function initially : \", num)\n",
    "print(f\"The address of 'num' outside the function initially : {id(num)}\")\n",
    "\n",
    "modify_value(num)\n",
    "\n",
    "print(\"The value of 'num' outside the function finally : \", num)\n",
    "print(f\"The address of 'num' outside the function finally : {id(num)}\")"
   ]
  },
  {
   "cell_type": "markdown",
   "id": "a784cbd6",
   "metadata": {},
   "source": [
    "### Observation : The address of 'num' remains same inside and outside the function initially. When attempted to modify the value of 'num', a new object was created, and the variable 'num' WITHIN the function's scope was updated to reference this new object.. However, outside the function the original reference remains UNAFFECTED."
   ]
  },
  {
   "cell_type": "markdown",
   "id": "5d17f176",
   "metadata": {},
   "source": []
  },
  {
   "cell_type": "code",
   "execution_count": null,
   "id": "040bd700",
   "metadata": {},
   "outputs": [],
   "source": [
    "# Example : Appending numeric values from a list to an empty list"
   ]
  },
  {
   "cell_type": "code",
   "execution_count": 9,
   "id": "d959f528",
   "metadata": {},
   "outputs": [],
   "source": [
    "my_list = [1, 2.0, 6-7j, 'age', '%', 2, 145, [-1, -2, 'a', -3]]"
   ]
  },
  {
   "cell_type": "code",
   "execution_count": 14,
   "id": "58476d9a",
   "metadata": {},
   "outputs": [],
   "source": [
    "def append_num(l) :\n",
    "    numeric_list = []\n",
    "    \n",
    "    for i in l :\n",
    "        if((type(i) == int or type(i) == float)) :\n",
    "            numeric_list.append(i)\n",
    "        elif(type(i) == list) :\n",
    "            for j in i :\n",
    "                if((type(j) == int or type(j) == float)) :\n",
    "                    numeric_list.append(j)\n",
    "    return numeric_list"
   ]
  },
  {
   "cell_type": "code",
   "execution_count": 15,
   "id": "89734b56",
   "metadata": {},
   "outputs": [
    {
     "data": {
      "text/plain": [
       "[1, 2.0, 2, 145, -1, -2, -3]"
      ]
     },
     "execution_count": 15,
     "metadata": {},
     "output_type": "execute_result"
    }
   ],
   "source": [
    "append_num(my_list)"
   ]
  },
  {
   "cell_type": "markdown",
   "id": "0b64281f",
   "metadata": {},
   "source": [
    "## <span style = \"text-decoration : underline ;\" >Multiple inputs using '*args'</span>"
   ]
  },
  {
   "cell_type": "markdown",
   "id": "5e7427d4",
   "metadata": {},
   "source": [
    "### The '*args' syntax allows a function to accept a variable number of positional arguments. These arguments are passed as a tuple."
   ]
  },
  {
   "cell_type": "code",
   "execution_count": 25,
   "id": "53ddd540",
   "metadata": {},
   "outputs": [],
   "source": [
    "# Example\n",
    "def sum_values(*args) : # 'args' is a conventional name for the arguments to be taken\n",
    "    total = 0\n",
    "    print('The type of \"args\" parameter is : ', type(args))\n",
    "    print(\"'args' stores : \", args)\n",
    "    for num in args :\n",
    "        total += num\n",
    "    return total"
   ]
  },
  {
   "cell_type": "code",
   "execution_count": 26,
   "id": "287bc037",
   "metadata": {},
   "outputs": [
    {
     "name": "stdout",
     "output_type": "stream",
     "text": [
      "The type of \"args\" parameter is :  <class 'tuple'>\n",
      "'args' stores :  (1, 2, 3, 4, 5)\n",
      "15\n"
     ]
    }
   ],
   "source": [
    "result = sum_values(1, 2, 3, 4, 5 )\n",
    "print(result)"
   ]
  },
  {
   "cell_type": "markdown",
   "id": "60a6fe29",
   "metadata": {},
   "source": [
    "## <span style = \"text-decoration : underline ;\" >Using '**kwargs'</span>\n",
    "### The '**kwargs' syntax allows a function to accept variable number of keyword arguments, these arguments are passed as a dictionary."
   ]
  },
  {
   "cell_type": "code",
   "execution_count": 27,
   "id": "26fde982",
   "metadata": {},
   "outputs": [],
   "source": [
    "# Example\n",
    "def print_info(**kwargs) :\n",
    "    print('The type of \"kwargs\" parameter is : ', type(kwargs))\n",
    "    for key, value in kwargs.items() :\n",
    "        print(f\"{key} : {value}\")"
   ]
  },
  {
   "cell_type": "code",
   "execution_count": 29,
   "id": "cc9ccde9",
   "metadata": {},
   "outputs": [
    {
     "name": "stdout",
     "output_type": "stream",
     "text": [
      "The type of \"kwargs\" parameter is :  <class 'dict'>\n",
      "name : Chloes\n",
      "age : 25\n",
      "origin : Muggle-born\n",
      "profession : Detective\n"
     ]
    }
   ],
   "source": [
    "print_info(name = 'Chloes', age = 25, origin = 'Muggle-born', profession = 'Detective')"
   ]
  },
  {
   "cell_type": "code",
   "execution_count": null,
   "id": "9da66936",
   "metadata": {},
   "outputs": [],
   "source": []
  },
  {
   "cell_type": "code",
   "execution_count": null,
   "id": "4e774269",
   "metadata": {},
   "outputs": [],
   "source": []
  },
  {
   "cell_type": "markdown",
   "id": "0d0fd62d",
   "metadata": {},
   "source": [
    "## <span style = \"text-decoration : underline ;\" >Functions as first-class objects</span>\n",
    "### In Python, a function is treated as a first-class object. This means that a function has all the rights as any other variable in the language. They can be passed as arguments to other functions, returned as values from other functions, assigned to variables, and even stored in data structures like lists or dictionaries.\n",
    "\n",
    "### <span style = \"text-decoration : underline ;\" >Functions as values</span> - In Python, you can assign a function to a variable just like you would assign a number or a string. This means that the function can be referenced by the variable name."
   ]
  },
  {
   "cell_type": "code",
   "execution_count": 30,
   "id": "0aa6a22b",
   "metadata": {},
   "outputs": [
    {
     "name": "stdout",
     "output_type": "stream",
     "text": [
      "I am tom\n",
      "I am tom\n"
     ]
    }
   ],
   "source": [
    "def tom():\n",
    "    print(\"I am tom\")\n",
    "\n",
    "also_tom = tom # assigning function to a variable\n",
    "\n",
    "tom()      # function call\n",
    "also_tom() # calling function through the variable"
   ]
  },
  {
   "cell_type": "markdown",
   "id": "295d1d58",
   "metadata": {},
   "source": [
    "### <span style = \"text-decoration : underline ;\" >Passing functions as arguments</span> - Since functions are objects, you can pass them as arguments to other functions. When you pass a function as an argument, you're actually passing a reference to the function's memory location. This reference allows the receiving function to call and execute the passed function.\n",
    "\n",
    "### Functions that can take other functions as arguments or return them are called higher-order functions."
   ]
  },
  {
   "cell_type": "code",
   "execution_count": 31,
   "id": "aa0112da",
   "metadata": {},
   "outputs": [],
   "source": [
    "def square(x) :\n",
    "    return x * x\n",
    "\n",
    "def apply_function(func, value) :\n",
    "    return func(value)"
   ]
  },
  {
   "cell_type": "code",
   "execution_count": 32,
   "id": "592d485d",
   "metadata": {},
   "outputs": [
    {
     "name": "stdout",
     "output_type": "stream",
     "text": [
      "25\n"
     ]
    }
   ],
   "source": [
    "result = apply_function(square, 5)\n",
    "print(result)"
   ]
  },
  {
   "cell_type": "markdown",
   "id": "dd4fdd2e",
   "metadata": {},
   "source": [
    "### <span style = \"text-decoration : underline ;\" >Returning functions from functions</span> - You can also return a function from another function. "
   ]
  },
  {
   "cell_type": "code",
   "execution_count": 2,
   "id": "978d780e",
   "metadata": {},
   "outputs": [],
   "source": [
    "def create_multiplier(n) :\n",
    "    def multiplier(x) :\n",
    "        return x * n\n",
    "    return multiplier\n",
    "\n",
    "\n",
    "### Inner / Nested functions\n",
    "### Note 📝: The inner functions are locally scoped to the parent. They are not available outside of the parent function."
   ]
  },
  {
   "cell_type": "code",
   "execution_count": 3,
   "id": "c0a4d3c9",
   "metadata": {},
   "outputs": [
    {
     "name": "stdout",
     "output_type": "stream",
     "text": [
      "20\n"
     ]
    }
   ],
   "source": [
    "multiply_by_4 = create_multiplier(4)\n",
    "result = multiply_by_4(5)\n",
    "print(result)"
   ]
  },
  {
   "cell_type": "markdown",
   "id": "c8175f44",
   "metadata": {},
   "source": [
    "### In Python, when you define a function, it captures its surrounding environment, i.e., it retains a reference to the set of variables and their values that are available in the current context or scope where the function is defined. \n",
    "\n",
    "### When you define nested functions, the inner function can access variables from the outer function. This is possible because the inner function carries along with it a reference to the environment in which it was created.\n",
    "\n",
    "### When 'create_multiplier(4)' is called, it creates a closure - A <span style = \"text-decoration : underline ;\" >closure</span> is a special kind of function that remembers the environment in which it was created, i.e., it retains a reference to the variables and their values in the surroundinh scope at the time of its creation - In this case, 'multiplier' retains access to the 'n' parameter from it's outer function 'create_multiplier'\n",
    "\n",
    "### When you later call 'multiply_by_4(5)', 'multiplier' is executed with the argument 'x = 5'. It still has access to the 'n' value because it's part of its captured environment."
   ]
  },
  {
   "cell_type": "code",
   "execution_count": null,
   "id": "9a1d588a",
   "metadata": {},
   "outputs": [],
   "source": []
  },
  {
   "cell_type": "markdown",
   "id": "b5255552",
   "metadata": {},
   "source": [
    "### <span style = \"text-decoration : underline ;\" >Storing functions in Data Structures</span> - Functions can be stored in data structures like lists or dictionaries. When you store a function in a data structure, you are actually storing a reference to the function object (callable piece of code). This reference allows you to call the function later using the stored reference."
   ]
  },
  {
   "cell_type": "code",
   "execution_count": 35,
   "id": "32717671",
   "metadata": {},
   "outputs": [],
   "source": [
    "def add(x, y) :\n",
    "    return x + y\n",
    "\n",
    "def subtract(x, y) :\n",
    "    return x - y"
   ]
  },
  {
   "cell_type": "code",
   "execution_count": 36,
   "id": "ae74c9de",
   "metadata": {},
   "outputs": [
    {
     "name": "stdout",
     "output_type": "stream",
     "text": [
      "6\n",
      "2\n"
     ]
    }
   ],
   "source": [
    "math_operations = [add, subtract]\n",
    "result1 = math_operations[0](2, 4)\n",
    "result2 = math_operations[1](4, 2)\n",
    "\n",
    "print(result1)\n",
    "print(result2)"
   ]
  },
  {
   "cell_type": "code",
   "execution_count": null,
   "id": "072a0976",
   "metadata": {},
   "outputs": [],
   "source": []
  },
  {
   "cell_type": "markdown",
   "id": "47bf08a7",
   "metadata": {},
   "source": [
    "# <span style = \"text-decoration : underline ;\" >Recursion</span>\n",
    "### Recursion is a technique in which a function calls itself to solve a problem."
   ]
  },
  {
   "cell_type": "code",
   "execution_count": 5,
   "id": "015764bc",
   "metadata": {},
   "outputs": [],
   "source": [
    "def factorial(n) :\n",
    "    if n == 0 or n == 1 : # base case, recursive calls end here\n",
    "        return 1\n",
    "    else :\n",
    "        return n * factorial(n-1) # essentially breaks down the entire problem into smaller tasks"
   ]
  },
  {
   "cell_type": "code",
   "execution_count": 6,
   "id": "62c0ba4f",
   "metadata": {},
   "outputs": [
    {
     "name": "stdout",
     "output_type": "stream",
     "text": [
      "40320\n"
     ]
    }
   ],
   "source": [
    "fact_8 = factorial(8)\n",
    "print(fact_8)"
   ]
  },
  {
   "cell_type": "code",
   "execution_count": null,
   "id": "6483c91f",
   "metadata": {},
   "outputs": [],
   "source": []
  }
 ],
 "metadata": {
  "kernelspec": {
   "display_name": "Python 3 (ipykernel)",
   "language": "python",
   "name": "python3"
  },
  "language_info": {
   "codemirror_mode": {
    "name": "ipython",
    "version": 3
   },
   "file_extension": ".py",
   "mimetype": "text/x-python",
   "name": "python",
   "nbconvert_exporter": "python",
   "pygments_lexer": "ipython3",
   "version": "3.9.13"
  }
 },
 "nbformat": 4,
 "nbformat_minor": 5
}
