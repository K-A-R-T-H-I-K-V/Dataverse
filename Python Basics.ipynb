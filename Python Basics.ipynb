{
 "cells": [
  {
   "cell_type": "markdown",
   "id": "26d1f7d1",
   "metadata": {},
   "source": [
    "# IDE - Integrated Development Environment\n",
    "A software application that helps programmers develop software code efficiently, for example jupyter, VS code\n",
    "### Kernel - Part of the backend responsible for executing code written by the user in web application"
   ]
  },
  {
   "cell_type": "markdown",
   "id": "3a1b49a3",
   "metadata": {},
   "source": [
    "# Markdown in Python is useful to add titles, descriptions, URLs, etc.."
   ]
  },
  {
   "cell_type": "markdown",
   "id": "c6e0e457",
   "metadata": {},
   "source": [
    "# Comments in Python"
   ]
  },
  {
   "cell_type": "code",
   "execution_count": 2,
   "id": "3fadc112",
   "metadata": {},
   "outputs": [],
   "source": [
    "# single line comment in python using '#'"
   ]
  },
  {
   "cell_type": "code",
   "execution_count": 3,
   "id": "08ad5224",
   "metadata": {},
   "outputs": [
    {
     "data": {
      "text/plain": [
       "'\\nMultiline comments in python using the triple double quotes method\\n'"
      ]
     },
     "execution_count": 3,
     "metadata": {},
     "output_type": "execute_result"
    }
   ],
   "source": [
    "\"\"\"\n",
    "Multiline comments in python using the triple double quotes method\n",
    "\"\"\""
   ]
  },
  {
   "cell_type": "markdown",
   "id": "dde811bc",
   "metadata": {},
   "source": [
    "# Numbers"
   ]
  },
  {
   "cell_type": "code",
   "execution_count": 4,
   "id": "87e03724",
   "metadata": {},
   "outputs": [
    {
     "data": {
      "text/plain": [
       "4"
      ]
     },
     "execution_count": 4,
     "metadata": {},
     "output_type": "execute_result"
    }
   ],
   "source": [
    "4"
   ]
  },
  {
   "cell_type": "code",
   "execution_count": 7,
   "id": "d8582edd",
   "metadata": {},
   "outputs": [
    {
     "data": {
      "text/plain": [
       "10"
      ]
     },
     "execution_count": 7,
     "metadata": {},
     "output_type": "execute_result"
    }
   ],
   "source": [
    "8+2"
   ]
  },
  {
   "cell_type": "code",
   "execution_count": 8,
   "id": "70a1d9d0",
   "metadata": {},
   "outputs": [
    {
     "data": {
      "text/plain": [
       "2.5"
      ]
     },
     "execution_count": 8,
     "metadata": {},
     "output_type": "execute_result"
    }
   ],
   "source": [
    "5/2"
   ]
  },
  {
   "cell_type": "code",
   "execution_count": 9,
   "id": "c420cb56",
   "metadata": {},
   "outputs": [
    {
     "data": {
      "text/plain": [
       "6"
      ]
     },
     "execution_count": 9,
     "metadata": {},
     "output_type": "execute_result"
    }
   ],
   "source": [
    "# '*' operator is used to multiply the operands\n",
    "\n",
    "2*3"
   ]
  },
  {
   "cell_type": "code",
   "execution_count": 10,
   "id": "67976b08",
   "metadata": {},
   "outputs": [
    {
     "data": {
      "text/plain": [
       "8"
      ]
     },
     "execution_count": 10,
     "metadata": {},
     "output_type": "execute_result"
    }
   ],
   "source": [
    "# \"**\" operator are using to raise a literal to the power of some value\n",
    "\n",
    "2**3"
   ]
  },
  {
   "cell_type": "code",
   "execution_count": 11,
   "id": "2b9efdcd",
   "metadata": {},
   "outputs": [
    {
     "name": "stdout",
     "output_type": "stream",
     "text": [
      "5\n"
     ]
    }
   ],
   "source": [
    "# print() function prints the specified message to the screen, and is displayed using the output console\n",
    "print(1+4)"
   ]
  },
  {
   "cell_type": "code",
   "execution_count": 12,
   "id": "f9c28223",
   "metadata": {},
   "outputs": [
    {
     "name": "stdout",
     "output_type": "stream",
     "text": [
      "64\n"
     ]
    }
   ],
   "source": [
    "print(4**3)"
   ]
  },
  {
   "cell_type": "markdown",
   "id": "7e1583f9",
   "metadata": {},
   "source": [
    "# Variables in python are a symbolic name that is a reference or pointer to an object"
   ]
  },
  {
   "cell_type": "markdown",
   "id": "a4f011aa",
   "metadata": {},
   "source": [
    "# Rules for declaration of Variables\n",
    "1. Case sensitive\n",
    "2. Start with A to Z or a to z or _ \n",
    "3. Do not start with numbers, special characters except _ are not allowed\n",
    "4. Use meaningful variable names, and avoid using reserved words at all costs - reserved words could be int, float, len, complex, bool, str, return, yield... etc\n",
    "# Declaring variables in python using the assignment operator \"=\""
   ]
  },
  {
   "cell_type": "code",
   "execution_count": 15,
   "id": "7ecf23f7",
   "metadata": {},
   "outputs": [
    {
     "name": "stdout",
     "output_type": "stream",
     "text": [
      "25\n"
     ]
    }
   ],
   "source": [
    "num = 25 #variable named \"num\" stores an object of integer value 25\n",
    "print(num)"
   ]
  },
  {
   "cell_type": "code",
   "execution_count": 19,
   "id": "02759197",
   "metadata": {},
   "outputs": [
    {
     "name": "stdout",
     "output_type": "stream",
     "text": [
      "Apple\n",
      "Pineapple\n"
     ]
    }
   ],
   "source": [
    "# Strings are combination of characters and are declared using a single or double quote\n",
    "\n",
    "fruit = \"Apple\"\n",
    "Fruit = 'Pineapple'\n",
    "print(fruit)\n",
    "print(Fruit)\n",
    "\n",
    "# variable 'fruit' is not same as the variable 'Fruit', case sensitive comes into picture"
   ]
  },
  {
   "cell_type": "code",
   "execution_count": 20,
   "id": "0e1d769a",
   "metadata": {},
   "outputs": [
    {
     "name": "stdout",
     "output_type": "stream",
     "text": [
      "Karthik$\n"
     ]
    }
   ],
   "source": [
    "name = \"Karthik$\"\n",
    "print(name)"
   ]
  },
  {
   "cell_type": "code",
   "execution_count": 21,
   "id": "270a431a",
   "metadata": {},
   "outputs": [
    {
     "name": "stdout",
     "output_type": "stream",
     "text": [
      "CS3\n"
     ]
    }
   ],
   "source": [
    "course = 'CS3'\n",
    "print(course)"
   ]
  },
  {
   "cell_type": "code",
   "execution_count": 23,
   "id": "3accb286",
   "metadata": {},
   "outputs": [
    {
     "name": "stdout",
     "output_type": "stream",
     "text": [
      "4.56\n"
     ]
    }
   ],
   "source": [
    "x = 4.56\n",
    "print(x)"
   ]
  },
  {
   "cell_type": "code",
   "execution_count": 24,
   "id": "d4d8d8bd",
   "metadata": {},
   "outputs": [
    {
     "data": {
      "text/plain": [
       "float"
      ]
     },
     "execution_count": 24,
     "metadata": {},
     "output_type": "execute_result"
    }
   ],
   "source": [
    "# type() is an built-in function that returns the type of the objects/data elements stored in any data type\n",
    "type(x)"
   ]
  },
  {
   "cell_type": "code",
   "execution_count": 26,
   "id": "7ea05996",
   "metadata": {},
   "outputs": [
    {
     "data": {
      "text/plain": [
       "complex"
      ]
     },
     "execution_count": 26,
     "metadata": {},
     "output_type": "execute_result"
    }
   ],
   "source": [
    "y = 8 + 7j # in python notation 'j' indicates imaginary part\n",
    "type(y)"
   ]
  },
  {
   "cell_type": "code",
   "execution_count": 28,
   "id": "86757aaa",
   "metadata": {},
   "outputs": [
    {
     "name": "stdout",
     "output_type": "stream",
     "text": [
      "8.0\n"
     ]
    }
   ],
   "source": [
    "print(y.real)"
   ]
  },
  {
   "cell_type": "code",
   "execution_count": 27,
   "id": "940711ae",
   "metadata": {},
   "outputs": [
    {
     "name": "stdout",
     "output_type": "stream",
     "text": [
      "7.0\n"
     ]
    }
   ],
   "source": [
    "print(y.imag)"
   ]
  },
  {
   "cell_type": "code",
   "execution_count": 29,
   "id": "2eae1f4c",
   "metadata": {},
   "outputs": [],
   "source": [
    "# Boolean data types - True(1) and False(0)"
   ]
  },
  {
   "cell_type": "code",
   "execution_count": 30,
   "id": "355aac88",
   "metadata": {},
   "outputs": [
    {
     "data": {
      "text/plain": [
       "1"
      ]
     },
     "execution_count": 30,
     "metadata": {},
     "output_type": "execute_result"
    }
   ],
   "source": [
    "True - False"
   ]
  },
  {
   "cell_type": "code",
   "execution_count": 31,
   "id": "99b7470e",
   "metadata": {},
   "outputs": [
    {
     "ename": "ZeroDivisionError",
     "evalue": "division by zero",
     "output_type": "error",
     "traceback": [
      "\u001b[1;31m---------------------------------------------------------------------------\u001b[0m",
      "\u001b[1;31mZeroDivisionError\u001b[0m                         Traceback (most recent call last)",
      "\u001b[1;32m~\\AppData\\Local\\Temp\\ipykernel_9472\\2917913318.py\u001b[0m in \u001b[0;36m<module>\u001b[1;34m\u001b[0m\n\u001b[1;32m----> 1\u001b[1;33m \u001b[1;32mTrue\u001b[0m \u001b[1;33m/\u001b[0m \u001b[1;32mFalse\u001b[0m\u001b[1;33m\u001b[0m\u001b[1;33m\u001b[0m\u001b[0m\n\u001b[0m",
      "\u001b[1;31mZeroDivisionError\u001b[0m: division by zero"
     ]
    }
   ],
   "source": [
    "True / False"
   ]
  },
  {
   "cell_type": "code",
   "execution_count": 32,
   "id": "f9260faf",
   "metadata": {},
   "outputs": [
    {
     "data": {
      "text/plain": [
       "0"
      ]
     },
     "execution_count": 32,
     "metadata": {},
     "output_type": "execute_result"
    }
   ],
   "source": [
    "True * False"
   ]
  },
  {
   "cell_type": "code",
   "execution_count": 33,
   "id": "501eb1ee",
   "metadata": {},
   "outputs": [
    {
     "data": {
      "text/plain": [
       "False"
      ]
     },
     "execution_count": 33,
     "metadata": {},
     "output_type": "execute_result"
    }
   ],
   "source": [
    "True and False"
   ]
  },
  {
   "cell_type": "code",
   "execution_count": 34,
   "id": "c4adaffa",
   "metadata": {},
   "outputs": [
    {
     "data": {
      "text/plain": [
       "True"
      ]
     },
     "execution_count": 34,
     "metadata": {},
     "output_type": "execute_result"
    }
   ],
   "source": [
    "True or False"
   ]
  },
  {
   "cell_type": "code",
   "execution_count": 35,
   "id": "c60aabfb",
   "metadata": {},
   "outputs": [
    {
     "data": {
      "text/plain": [
       "False"
      ]
     },
     "execution_count": 35,
     "metadata": {},
     "output_type": "execute_result"
    }
   ],
   "source": [
    "not True"
   ]
  },
  {
   "cell_type": "markdown",
   "id": "cd2c7b91",
   "metadata": {},
   "source": [
    "# Lists in python, are used to store the sequence of different data types\n",
    "\n",
    "\n",
    "## Characteristics of a Python List\n",
    "\n",
    "### Ordered: Lists maintain the order in which the data is inserted.\n",
    "### Mutable: In list element(s) are changeable. It means that we can modify the items stored within the list.\n",
    "### Heterogenous: Lists can store elements of various data types.\n",
    "### Dynamic: List can expand or shrink automatically to accommodate the items accordingly.\n",
    "### Duplicate Elements: Lists allow us to store duplicate data."
   ]
  },
  {
   "cell_type": "code",
   "execution_count": 7,
   "id": "b145de2a",
   "metadata": {},
   "outputs": [
    {
     "data": {
      "text/plain": [
       "'\\nindexing in python\\n 0  1   2  3  4  - forward indexing\\n[1, 2, -3, 4, 2]\\n-5 -4  -3 -2 -1  - reverse indexing\\n\\n'"
      ]
     },
     "execution_count": 7,
     "metadata": {},
     "output_type": "execute_result"
    }
   ],
   "source": [
    "integer_list = [1, 2, -3, 4, 2]\n",
    "\n",
    "\"\"\"\n",
    "indexing in python\n",
    " 0  1   2  3  4  - forward indexing\n",
    "[1, 2, -3, 4, 2]\n",
    "-5 -4  -3 -2 -1  - reverse indexing\n",
    "\n",
    "\"\"\" "
   ]
  },
  {
   "cell_type": "code",
   "execution_count": 8,
   "id": "28d4c3c2",
   "metadata": {},
   "outputs": [
    {
     "data": {
      "text/plain": [
       "1"
      ]
     },
     "execution_count": 8,
     "metadata": {},
     "output_type": "execute_result"
    }
   ],
   "source": [
    "integer_list[0]"
   ]
  },
  {
   "cell_type": "code",
   "execution_count": 10,
   "id": "9c75e2ed",
   "metadata": {},
   "outputs": [
    {
     "data": {
      "text/plain": [
       "2"
      ]
     },
     "execution_count": 10,
     "metadata": {},
     "output_type": "execute_result"
    }
   ],
   "source": [
    "integer_list[-4]"
   ]
  },
  {
   "cell_type": "code",
   "execution_count": 13,
   "id": "8a984cd7",
   "metadata": {},
   "outputs": [
    {
     "data": {
      "text/plain": [
       "'Seethaphal'"
      ]
     },
     "execution_count": 13,
     "metadata": {},
     "output_type": "execute_result"
    }
   ],
   "source": [
    "fruit_list = ['Apple','Pumpkin','Seethaphal','Ice']\n",
    "fruit_list[-2]"
   ]
  },
  {
   "cell_type": "code",
   "execution_count": 16,
   "id": "d11ccd8d",
   "metadata": {},
   "outputs": [
    {
     "data": {
      "text/plain": [
       "28.0"
      ]
     },
     "execution_count": 16,
     "metadata": {},
     "output_type": "execute_result"
    }
   ],
   "source": [
    "data_list = ['Karthik',12,'Anekal',28.0]\n",
    "data_list[3]"
   ]
  },
  {
   "cell_type": "markdown",
   "id": "5e32308b",
   "metadata": {},
   "source": [
    "# Mutability and Immutability \n",
    "## An object whose internal state (data) can be changed is called a Mutable object. Similarly, an object whose internal state (data) can not be changed is called an Immutable object.\n",
    "## When you assign a new value to a variable with immutable data type like an integer, a new object with the new value, and the variable is updated to reference this new object. The old object (containing the previous value) is not modified; it remains unchanged in memory until it is eventually garbage-collected.\n",
    "\n",
    "Steps invloved in the above operation -\n",
    "1. Memory allocation - The system allocates memory to store the new value\n",
    "2. New value assignment - The new value is stored in the allocated memory location\n",
    "3. Reference update - The variable is updates to reference the newly allocated memory location containing the new value \n",
    "\n",
    "Mutable - \n",
    "Lists,\n",
    "Sets,\n",
    "Dictionaries\n",
    "\n",
    "Immutable:\n",
    "Numbers (int, float, decimal, boolean etc.),\n",
    "Strings,\n",
    "Tuples,\n",
    "Frozen Sets"
   ]
  },
  {
   "cell_type": "code",
   "execution_count": 18,
   "id": "48f0028a",
   "metadata": {},
   "outputs": [
    {
     "data": {
      "text/plain": [
       "1"
      ]
     },
     "execution_count": 18,
     "metadata": {},
     "output_type": "execute_result"
    }
   ],
   "source": [
    "num_list = [1, 4, 6, -4, 5, 6]\n",
    "\n",
    "num_list[0]"
   ]
  },
  {
   "cell_type": "code",
   "execution_count": 21,
   "id": "e642a137",
   "metadata": {},
   "outputs": [
    {
     "data": {
      "text/plain": [
       "-3"
      ]
     },
     "execution_count": 21,
     "metadata": {},
     "output_type": "execute_result"
    }
   ],
   "source": [
    "num_list[0] = -3\n",
    "num_list[0]"
   ]
  },
  {
   "cell_type": "code",
   "execution_count": 23,
   "id": "b888153b",
   "metadata": {},
   "outputs": [
    {
     "data": {
      "text/plain": [
       "'K'"
      ]
     },
     "execution_count": 23,
     "metadata": {},
     "output_type": "execute_result"
    }
   ],
   "source": [
    "s = 'Karthik'\n",
    "s[0]"
   ]
  },
  {
   "cell_type": "code",
   "execution_count": 25,
   "id": "1c058b21",
   "metadata": {
    "scrolled": true
   },
   "outputs": [
    {
     "ename": "NameError",
     "evalue": "name 'i' is not defined",
     "output_type": "error",
     "traceback": [
      "\u001b[1;31m---------------------------------------------------------------------------\u001b[0m",
      "\u001b[1;31mNameError\u001b[0m                                 Traceback (most recent call last)",
      "\u001b[1;32m~\\AppData\\Local\\Temp\\ipykernel_15664\\171374934.py\u001b[0m in \u001b[0;36m<module>\u001b[1;34m\u001b[0m\n\u001b[1;32m----> 1\u001b[1;33m \u001b[0ms\u001b[0m\u001b[1;33m[\u001b[0m\u001b[1;36m0\u001b[0m\u001b[1;33m]\u001b[0m \u001b[1;33m=\u001b[0m \u001b[0mi\u001b[0m\u001b[1;33m\u001b[0m\u001b[1;33m\u001b[0m\u001b[0m\n\u001b[0m",
      "\u001b[1;31mNameError\u001b[0m: name 'i' is not defined"
     ]
    }
   ],
   "source": [
    "s[0] = i # immutable"
   ]
  },
  {
   "cell_type": "markdown",
   "id": "e39f12c1",
   "metadata": {},
   "source": [
    "# Observation - Dynamic Typing \n",
    "Compiler on the run-time will understand the data-type of a variable"
   ]
  },
  {
   "cell_type": "markdown",
   "id": "250428ca",
   "metadata": {},
   "source": [
    "# Operators"
   ]
  },
  {
   "cell_type": "markdown",
   "id": "1d8f507b",
   "metadata": {},
   "source": [
    "## 1. Arithmetic operators"
   ]
  },
  {
   "cell_type": "code",
   "execution_count": 29,
   "id": "7092a5bd",
   "metadata": {},
   "outputs": [
    {
     "data": {
      "text/plain": [
       "3"
      ]
     },
     "execution_count": 29,
     "metadata": {},
     "output_type": "execute_result"
    }
   ],
   "source": [
    "1 + 2"
   ]
  },
  {
   "cell_type": "code",
   "execution_count": 36,
   "id": "cca1b725",
   "metadata": {},
   "outputs": [
    {
     "data": {
      "text/plain": [
       "-1"
      ]
     },
     "execution_count": 36,
     "metadata": {},
     "output_type": "execute_result"
    }
   ],
   "source": [
    "1 - 2"
   ]
  },
  {
   "cell_type": "code",
   "execution_count": 30,
   "id": "d90b0c84",
   "metadata": {},
   "outputs": [
    {
     "data": {
      "text/plain": [
       "2"
      ]
     },
     "execution_count": 30,
     "metadata": {},
     "output_type": "execute_result"
    }
   ],
   "source": [
    "1 * 2"
   ]
  },
  {
   "cell_type": "code",
   "execution_count": 31,
   "id": "c9f6ad51",
   "metadata": {},
   "outputs": [
    {
     "data": {
      "text/plain": [
       "0.5"
      ]
     },
     "execution_count": 31,
     "metadata": {},
     "output_type": "execute_result"
    }
   ],
   "source": [
    "1 / 2"
   ]
  },
  {
   "cell_type": "code",
   "execution_count": 32,
   "id": "a9943e34",
   "metadata": {},
   "outputs": [
    {
     "data": {
      "text/plain": [
       "0"
      ]
     },
     "execution_count": 32,
     "metadata": {},
     "output_type": "execute_result"
    }
   ],
   "source": [
    "1 // 2  #Floor division or integer division"
   ]
  },
  {
   "cell_type": "code",
   "execution_count": 34,
   "id": "3677d897",
   "metadata": {},
   "outputs": [
    {
     "data": {
      "text/plain": [
       "1"
      ]
     },
     "execution_count": 34,
     "metadata": {},
     "output_type": "execute_result"
    }
   ],
   "source": [
    "1 ** 3"
   ]
  },
  {
   "cell_type": "code",
   "execution_count": 35,
   "id": "833fb833",
   "metadata": {},
   "outputs": [
    {
     "data": {
      "text/plain": [
       "1"
      ]
     },
     "execution_count": 35,
     "metadata": {},
     "output_type": "execute_result"
    }
   ],
   "source": [
    "1 % 2"
   ]
  },
  {
   "cell_type": "markdown",
   "id": "d0c20811",
   "metadata": {},
   "source": [
    "## 2. Relational operators"
   ]
  },
  {
   "cell_type": "code",
   "execution_count": 37,
   "id": "8ca6ee41",
   "metadata": {},
   "outputs": [
    {
     "data": {
      "text/plain": [
       "False"
      ]
     },
     "execution_count": 37,
     "metadata": {},
     "output_type": "execute_result"
    }
   ],
   "source": [
    "1 > 2"
   ]
  },
  {
   "cell_type": "code",
   "execution_count": 38,
   "id": "d5bb6c88",
   "metadata": {},
   "outputs": [
    {
     "data": {
      "text/plain": [
       "True"
      ]
     },
     "execution_count": 38,
     "metadata": {},
     "output_type": "execute_result"
    }
   ],
   "source": [
    "1 < 2"
   ]
  },
  {
   "cell_type": "code",
   "execution_count": 39,
   "id": "a6f07fb5",
   "metadata": {},
   "outputs": [
    {
     "data": {
      "text/plain": [
       "False"
      ]
     },
     "execution_count": 39,
     "metadata": {},
     "output_type": "execute_result"
    }
   ],
   "source": [
    "1 == 2"
   ]
  },
  {
   "cell_type": "code",
   "execution_count": 40,
   "id": "b08b4900",
   "metadata": {},
   "outputs": [
    {
     "data": {
      "text/plain": [
       "True"
      ]
     },
     "execution_count": 40,
     "metadata": {},
     "output_type": "execute_result"
    }
   ],
   "source": [
    "1 != 2"
   ]
  },
  {
   "cell_type": "code",
   "execution_count": 41,
   "id": "ffb22da9",
   "metadata": {},
   "outputs": [
    {
     "data": {
      "text/plain": [
       "True"
      ]
     },
     "execution_count": 41,
     "metadata": {},
     "output_type": "execute_result"
    }
   ],
   "source": [
    "1 <= 2"
   ]
  },
  {
   "cell_type": "code",
   "execution_count": 42,
   "id": "8f3f5f72",
   "metadata": {},
   "outputs": [
    {
     "data": {
      "text/plain": [
       "False"
      ]
     },
     "execution_count": 42,
     "metadata": {},
     "output_type": "execute_result"
    }
   ],
   "source": [
    "1 >= 2"
   ]
  },
  {
   "cell_type": "markdown",
   "id": "ce39db97",
   "metadata": {},
   "source": [
    "## 3. Logical operators"
   ]
  },
  {
   "cell_type": "code",
   "execution_count": 43,
   "id": "5c272589",
   "metadata": {},
   "outputs": [
    {
     "data": {
      "text/plain": [
       "0"
      ]
     },
     "execution_count": 43,
     "metadata": {},
     "output_type": "execute_result"
    }
   ],
   "source": [
    "1 and 0"
   ]
  },
  {
   "cell_type": "code",
   "execution_count": 44,
   "id": "f67ef524",
   "metadata": {},
   "outputs": [
    {
     "data": {
      "text/plain": [
       "False"
      ]
     },
     "execution_count": 44,
     "metadata": {},
     "output_type": "execute_result"
    }
   ],
   "source": [
    "True and False"
   ]
  },
  {
   "cell_type": "code",
   "execution_count": 45,
   "id": "1d572c1d",
   "metadata": {},
   "outputs": [
    {
     "data": {
      "text/plain": [
       "True"
      ]
     },
     "execution_count": 45,
     "metadata": {},
     "output_type": "execute_result"
    }
   ],
   "source": [
    "True and True"
   ]
  },
  {
   "cell_type": "code",
   "execution_count": 46,
   "id": "97bf992c",
   "metadata": {},
   "outputs": [
    {
     "data": {
      "text/plain": [
       "1"
      ]
     },
     "execution_count": 46,
     "metadata": {},
     "output_type": "execute_result"
    }
   ],
   "source": [
    "0 or 1"
   ]
  },
  {
   "cell_type": "code",
   "execution_count": 47,
   "id": "d8457b6d",
   "metadata": {},
   "outputs": [
    {
     "data": {
      "text/plain": [
       "1"
      ]
     },
     "execution_count": 47,
     "metadata": {},
     "output_type": "execute_result"
    }
   ],
   "source": [
    "1 or 1"
   ]
  },
  {
   "cell_type": "code",
   "execution_count": 48,
   "id": "eedd526a",
   "metadata": {},
   "outputs": [
    {
     "data": {
      "text/plain": [
       "0"
      ]
     },
     "execution_count": 48,
     "metadata": {},
     "output_type": "execute_result"
    }
   ],
   "source": [
    "0 or 0"
   ]
  },
  {
   "cell_type": "code",
   "execution_count": 49,
   "id": "37bd5992",
   "metadata": {},
   "outputs": [
    {
     "data": {
      "text/plain": [
       "False"
      ]
     },
     "execution_count": 49,
     "metadata": {},
     "output_type": "execute_result"
    }
   ],
   "source": [
    "not 1"
   ]
  },
  {
   "cell_type": "code",
   "execution_count": 50,
   "id": "1e5ea8fa",
   "metadata": {},
   "outputs": [
    {
     "data": {
      "text/plain": [
       "True"
      ]
     },
     "execution_count": 50,
     "metadata": {},
     "output_type": "execute_result"
    }
   ],
   "source": [
    "not 0"
   ]
  },
  {
   "cell_type": "code",
   "execution_count": 51,
   "id": "b55516d1",
   "metadata": {},
   "outputs": [
    {
     "data": {
      "text/plain": [
       "False"
      ]
     },
     "execution_count": 51,
     "metadata": {},
     "output_type": "execute_result"
    }
   ],
   "source": [
    "not True"
   ]
  },
  {
   "cell_type": "markdown",
   "id": "9c220dc2",
   "metadata": {},
   "source": [
    "## 4. Bitwise operators"
   ]
  },
  {
   "cell_type": "markdown",
   "id": "cbbc54a5",
   "metadata": {},
   "source": [
    "#### Bitwise logical operators\n",
    "The Bitwise Operator ‘AND’ in Python, returns value 1 if both the bits are 1, if not, it will return 0 meaning if either of the two bits are 0, then it shall return 0. It is represented by the & sign.\n"
   ]
  },
  {
   "cell_type": "code",
   "execution_count": 5,
   "id": "50f88151",
   "metadata": {},
   "outputs": [
    {
     "data": {
      "text/plain": [
       "0"
      ]
     },
     "execution_count": 5,
     "metadata": {},
     "output_type": "execute_result"
    }
   ],
   "source": [
    "10 & 4  #1010 & 0100 = 0000"
   ]
  },
  {
   "cell_type": "code",
   "execution_count": 53,
   "id": "23da14a3",
   "metadata": {},
   "outputs": [
    {
     "data": {
      "text/plain": [
       "'0b1010'"
      ]
     },
     "execution_count": 53,
     "metadata": {},
     "output_type": "execute_result"
    }
   ],
   "source": [
    "bin(10)"
   ]
  },
  {
   "cell_type": "code",
   "execution_count": 54,
   "id": "56db5284",
   "metadata": {},
   "outputs": [
    {
     "data": {
      "text/plain": [
       "'0b100'"
      ]
     },
     "execution_count": 54,
     "metadata": {},
     "output_type": "execute_result"
    }
   ],
   "source": [
    "bin(4)"
   ]
  },
  {
   "cell_type": "markdown",
   "id": "203b699a",
   "metadata": {},
   "source": [
    "The Bitwise Operator ‘OR’ in Python, returns value 1 if either of the bits is set to 1, if not, it will return 0 meaning if the both the bits are 0, then it shall return 0. It is represented by the | sign ."
   ]
  },
  {
   "cell_type": "code",
   "execution_count": 3,
   "id": "cf1d283a",
   "metadata": {},
   "outputs": [
    {
     "data": {
      "text/plain": [
       "14"
      ]
     },
     "execution_count": 3,
     "metadata": {},
     "output_type": "execute_result"
    }
   ],
   "source": [
    "10 | 4  #1010 | 0100 = 1110"
   ]
  },
  {
   "cell_type": "code",
   "execution_count": 4,
   "id": "d046b8ae",
   "metadata": {},
   "outputs": [
    {
     "data": {
      "text/plain": [
       "'0b1110'"
      ]
     },
     "execution_count": 4,
     "metadata": {},
     "output_type": "execute_result"
    }
   ],
   "source": [
    "bin(14)"
   ]
  },
  {
   "cell_type": "markdown",
   "id": "392fb8e0",
   "metadata": {},
   "source": [
    "The Bitwise Operator ‘NOT’ in Python, works by using the formula .\n",
    "\n",
    "S + ~(S) = - 1 i.e., ~(S) = - ( 1 + S )\n",
    "\n",
    "It is represented by the ~ sign It can also be represented as being 1’s complement of the given integer."
   ]
  },
  {
   "cell_type": "code",
   "execution_count": 9,
   "id": "8e887529",
   "metadata": {},
   "outputs": [
    {
     "data": {
      "text/plain": [
       "-3"
      ]
     },
     "execution_count": 9,
     "metadata": {},
     "output_type": "execute_result"
    }
   ],
   "source": [
    "~2 # -(0b10 + 0b1) = -(0b11)"
   ]
  },
  {
   "cell_type": "code",
   "execution_count": 7,
   "id": "94d39f81",
   "metadata": {},
   "outputs": [
    {
     "data": {
      "text/plain": [
       "'0b10'"
      ]
     },
     "execution_count": 7,
     "metadata": {},
     "output_type": "execute_result"
    }
   ],
   "source": [
    "bin(2)"
   ]
  },
  {
   "cell_type": "code",
   "execution_count": 10,
   "id": "8a49456c",
   "metadata": {},
   "outputs": [
    {
     "data": {
      "text/plain": [
       "3"
      ]
     },
     "execution_count": 10,
     "metadata": {},
     "output_type": "execute_result"
    }
   ],
   "source": [
    "int(0b11)"
   ]
  },
  {
   "cell_type": "code",
   "execution_count": 12,
   "id": "85c2c15c",
   "metadata": {},
   "outputs": [
    {
     "data": {
      "text/plain": [
       "-1"
      ]
     },
     "execution_count": 12,
     "metadata": {},
     "output_type": "execute_result"
    }
   ],
   "source": [
    "2 + (~2)  #0b10 + (-0b11) = -1"
   ]
  },
  {
   "cell_type": "markdown",
   "id": "9c1af961",
   "metadata": {},
   "source": [
    "The Bitwise XOR Operator:\n",
    "The Bitwise Operator XOR in Python, returns the opposite of the bit in the binary number.\n",
    "\n",
    "To simply put it up, if the two bits are different that is one bit is 1 and the other is 0 then it will return 1.\n",
    "\n",
    "If both the bits in the binary format of the number are the same, that is both are 1 or both are 0 then it shall return 0.\n",
    "\n",
    "It is represented by the ^ sign."
   ]
  },
  {
   "cell_type": "code",
   "execution_count": 21,
   "id": "151662e2",
   "metadata": {},
   "outputs": [
    {
     "data": {
      "text/plain": [
       "3"
      ]
     },
     "execution_count": 21,
     "metadata": {},
     "output_type": "execute_result"
    }
   ],
   "source": [
    "23 ^ 20 #0b10111 ^ 0b10100 = 0b00011"
   ]
  },
  {
   "cell_type": "code",
   "execution_count": 18,
   "id": "a390669f",
   "metadata": {},
   "outputs": [
    {
     "data": {
      "text/plain": [
       "'0b10111'"
      ]
     },
     "execution_count": 18,
     "metadata": {},
     "output_type": "execute_result"
    }
   ],
   "source": [
    "bin(23)"
   ]
  },
  {
   "cell_type": "code",
   "execution_count": 19,
   "id": "9afaa786",
   "metadata": {},
   "outputs": [
    {
     "data": {
      "text/plain": [
       "'0b10100'"
      ]
     },
     "execution_count": 19,
     "metadata": {},
     "output_type": "execute_result"
    }
   ],
   "source": [
    "bin(20)"
   ]
  },
  {
   "cell_type": "code",
   "execution_count": 20,
   "id": "b0afc214",
   "metadata": {},
   "outputs": [
    {
     "data": {
      "text/plain": [
       "'0b11'"
      ]
     },
     "execution_count": 20,
     "metadata": {},
     "output_type": "execute_result"
    }
   ],
   "source": [
    "bin(3)"
   ]
  },
  {
   "cell_type": "markdown",
   "id": "a7c0cb83",
   "metadata": {},
   "source": [
    "The Bitwise Left Shift Operator:\n",
    "The bitwise left shift operator (<<) shifts the bits of a number to the left by a specified number of positions. Zeros are added in place of the voids created as a result.\n",
    "It effectively multiplies a number by 2 raised to the power of the shift amount. \n",
    "\n",
    "Mathematically, It is represented by << sign."
   ]
  },
  {
   "cell_type": "code",
   "execution_count": 3,
   "id": "07379d9a",
   "metadata": {},
   "outputs": [],
   "source": [
    "s = 12 #binary form of 12 is 0000 1100"
   ]
  },
  {
   "cell_type": "code",
   "execution_count": 4,
   "id": "9b2eab99",
   "metadata": {},
   "outputs": [
    {
     "data": {
      "text/plain": [
       "24"
      ]
     },
     "execution_count": 4,
     "metadata": {},
     "output_type": "execute_result"
    }
   ],
   "source": [
    "s << 1 #0001 1000"
   ]
  },
  {
   "cell_type": "code",
   "execution_count": 6,
   "id": "5ce0535f",
   "metadata": {},
   "outputs": [
    {
     "data": {
      "text/plain": [
       "48"
      ]
     },
     "execution_count": 6,
     "metadata": {},
     "output_type": "execute_result"
    }
   ],
   "source": [
    "s << 2 #0011 0000"
   ]
  },
  {
   "cell_type": "code",
   "execution_count": 27,
   "id": "52ebebbf",
   "metadata": {},
   "outputs": [],
   "source": [
    "t = -12 "
   ]
  },
  {
   "cell_type": "code",
   "execution_count": 28,
   "id": "69e0e797",
   "metadata": {},
   "outputs": [
    {
     "data": {
      "text/plain": [
       "-24"
      ]
     },
     "execution_count": 28,
     "metadata": {},
     "output_type": "execute_result"
    }
   ],
   "source": [
    "t << 1 "
   ]
  },
  {
   "cell_type": "code",
   "execution_count": 29,
   "id": "26b20545",
   "metadata": {},
   "outputs": [
    {
     "data": {
      "text/plain": [
       "-48"
      ]
     },
     "execution_count": 29,
     "metadata": {},
     "output_type": "execute_result"
    }
   ],
   "source": [
    "t << 2 "
   ]
  },
  {
   "cell_type": "markdown",
   "id": "b4da6f07",
   "metadata": {},
   "source": [
    "The Bitwise Right Shift Operator:\n",
    "The bits are shifted towards the right by a specified number of positions. It effectively divides the number by 2 raised to the power of the shift amount.\n",
    "Least significant bits(right most bits) are getting lost\n",
    "Mathematically, It is represented by >> sign."
   ]
  },
  {
   "cell_type": "code",
   "execution_count": 40,
   "id": "774fca1a",
   "metadata": {},
   "outputs": [
    {
     "data": {
      "text/plain": [
       "5"
      ]
     },
     "execution_count": 40,
     "metadata": {},
     "output_type": "execute_result"
    }
   ],
   "source": [
    "r = 10 #0000 1010\n",
    "r >> 1 #0000 0101"
   ]
  },
  {
   "cell_type": "code",
   "execution_count": 42,
   "id": "c821bbcf",
   "metadata": {},
   "outputs": [
    {
     "data": {
      "text/plain": [
       "-5"
      ]
     },
     "execution_count": 42,
     "metadata": {},
     "output_type": "execute_result"
    }
   ],
   "source": [
    "p = -10 \n",
    "p >> 1 "
   ]
  },
  {
   "cell_type": "code",
   "execution_count": 43,
   "id": "729156d5",
   "metadata": {},
   "outputs": [
    {
     "data": {
      "text/plain": [
       "-3"
      ]
     },
     "execution_count": 43,
     "metadata": {},
     "output_type": "execute_result"
    }
   ],
   "source": [
    "p >> 2  "
   ]
  },
  {
   "cell_type": "markdown",
   "id": "883e3148",
   "metadata": {},
   "source": [
    "# Type casting"
   ]
  },
  {
   "cell_type": "code",
   "execution_count": 40,
   "id": "3b581e5b",
   "metadata": {},
   "outputs": [
    {
     "data": {
      "text/plain": [
       "'9'"
      ]
     },
     "execution_count": 40,
     "metadata": {},
     "output_type": "execute_result"
    }
   ],
   "source": [
    "str(9)"
   ]
  },
  {
   "cell_type": "code",
   "execution_count": 41,
   "id": "7be564f1",
   "metadata": {},
   "outputs": [
    {
     "data": {
      "text/plain": [
       "4"
      ]
     },
     "execution_count": 41,
     "metadata": {},
     "output_type": "execute_result"
    }
   ],
   "source": [
    "int(4.5)"
   ]
  },
  {
   "cell_type": "code",
   "execution_count": 42,
   "id": "f319db28",
   "metadata": {},
   "outputs": [
    {
     "data": {
      "text/plain": [
       "6.0"
      ]
     },
     "execution_count": 42,
     "metadata": {},
     "output_type": "execute_result"
    }
   ],
   "source": [
    "float(6)"
   ]
  },
  {
   "cell_type": "code",
   "execution_count": 43,
   "id": "d32d3839",
   "metadata": {},
   "outputs": [
    {
     "data": {
      "text/plain": [
       "True"
      ]
     },
     "execution_count": 43,
     "metadata": {},
     "output_type": "execute_result"
    }
   ],
   "source": [
    "bool(1)"
   ]
  },
  {
   "cell_type": "code",
   "execution_count": 49,
   "id": "aebc4ea0",
   "metadata": {},
   "outputs": [
    {
     "data": {
      "text/plain": [
       "True"
      ]
     },
     "execution_count": 49,
     "metadata": {},
     "output_type": "execute_result"
    }
   ],
   "source": [
    "# Anything other than 0 is considered true\n",
    "\n",
    "bool(65)"
   ]
  },
  {
   "cell_type": "code",
   "execution_count": 45,
   "id": "976e7b03",
   "metadata": {},
   "outputs": [
    {
     "data": {
      "text/plain": [
       "1"
      ]
     },
     "execution_count": 45,
     "metadata": {},
     "output_type": "execute_result"
    }
   ],
   "source": [
    "int(True)"
   ]
  },
  {
   "cell_type": "code",
   "execution_count": 2,
   "id": "5ddb792a",
   "metadata": {},
   "outputs": [
    {
     "data": {
      "text/plain": [
       "'0b11000'"
      ]
     },
     "execution_count": 2,
     "metadata": {},
     "output_type": "execute_result"
    }
   ],
   "source": [
    "bin(24) # converts integer value into its binary form, \"0b\" by convention indicates that the number is in its bianry form"
   ]
  },
  {
   "cell_type": "code",
   "execution_count": 5,
   "id": "9ea746b0",
   "metadata": {},
   "outputs": [
    {
     "data": {
      "text/plain": [
       "24"
      ]
     },
     "execution_count": 5,
     "metadata": {},
     "output_type": "execute_result"
    }
   ],
   "source": [
    "int(0b11000) # converts binary to integer value"
   ]
  },
  {
   "cell_type": "code",
   "execution_count": 51,
   "id": "f05c16b8",
   "metadata": {},
   "outputs": [
    {
     "ename": "NameError",
     "evalue": "name 'kartik' is not defined",
     "output_type": "error",
     "traceback": [
      "\u001b[1;31m---------------------------------------------------------------------------\u001b[0m",
      "\u001b[1;31mNameError\u001b[0m                                 Traceback (most recent call last)",
      "\u001b[1;32m~\\AppData\\Local\\Temp\\ipykernel_9472\\1398581946.py\u001b[0m in \u001b[0;36m<module>\u001b[1;34m\u001b[0m\n\u001b[1;32m----> 1\u001b[1;33m \u001b[0mint\u001b[0m\u001b[1;33m(\u001b[0m\u001b[0mkartik\u001b[0m\u001b[1;33m)\u001b[0m\u001b[1;33m\u001b[0m\u001b[1;33m\u001b[0m\u001b[0m\n\u001b[0m",
      "\u001b[1;31mNameError\u001b[0m: name 'kartik' is not defined"
     ]
    }
   ],
   "source": [
    "int(kartik)"
   ]
  },
  {
   "cell_type": "code",
   "execution_count": 53,
   "id": "c7068e9f",
   "metadata": {},
   "outputs": [
    {
     "ename": "TypeError",
     "evalue": "can't convert complex to int",
     "output_type": "error",
     "traceback": [
      "\u001b[1;31m---------------------------------------------------------------------------\u001b[0m",
      "\u001b[1;31mTypeError\u001b[0m                                 Traceback (most recent call last)",
      "\u001b[1;32m~\\AppData\\Local\\Temp\\ipykernel_9472\\3230146077.py\u001b[0m in \u001b[0;36m<module>\u001b[1;34m\u001b[0m\n\u001b[1;32m----> 1\u001b[1;33m \u001b[0mint\u001b[0m\u001b[1;33m(\u001b[0m \u001b[1;36m6\u001b[0m \u001b[1;33m-\u001b[0m \u001b[1;36m7j\u001b[0m \u001b[1;33m)\u001b[0m\u001b[1;33m\u001b[0m\u001b[1;33m\u001b[0m\u001b[0m\n\u001b[0m",
      "\u001b[1;31mTypeError\u001b[0m: can't convert complex to int"
     ]
    }
   ],
   "source": [
    "int( 6 - 7j )"
   ]
  },
  {
   "cell_type": "markdown",
   "id": "17489bd3",
   "metadata": {},
   "source": [
    "# Concatenation"
   ]
  },
  {
   "cell_type": "code",
   "execution_count": 54,
   "id": "f680fac6",
   "metadata": {},
   "outputs": [
    {
     "data": {
      "text/plain": [
       "'11'"
      ]
     },
     "execution_count": 54,
     "metadata": {},
     "output_type": "execute_result"
    }
   ],
   "source": [
    "'1'+'1'"
   ]
  },
  {
   "cell_type": "code",
   "execution_count": 55,
   "id": "45a0f855",
   "metadata": {},
   "outputs": [
    {
     "data": {
      "text/plain": [
       "2"
      ]
     },
     "execution_count": 55,
     "metadata": {},
     "output_type": "execute_result"
    }
   ],
   "source": [
    "int('1') + int('1')"
   ]
  },
  {
   "cell_type": "code",
   "execution_count": 56,
   "id": "58c0f3c8",
   "metadata": {},
   "outputs": [
    {
     "data": {
      "text/plain": [
       "100"
      ]
     },
     "execution_count": 56,
     "metadata": {},
     "output_type": "execute_result"
    }
   ],
   "source": [
    "int('1') * 100"
   ]
  },
  {
   "cell_type": "code",
   "execution_count": 57,
   "id": "f0ee7bec",
   "metadata": {},
   "outputs": [
    {
     "data": {
      "text/plain": [
       "'1111111111111111111111111111111111111111111111111111111111111111111111111111111111111111111111111111'"
      ]
     },
     "execution_count": 57,
     "metadata": {},
     "output_type": "execute_result"
    }
   ],
   "source": [
    "'1' * 100\n",
    "\n",
    "# In Python, * operator is used to repeat a string a certain amount of times. So '1' * 100 means to repeat the string '1' 100x"
   ]
  },
  {
   "cell_type": "code",
   "execution_count": 59,
   "id": "03cdf64e",
   "metadata": {},
   "outputs": [
    {
     "data": {
      "text/plain": [
       "'Hello, i am Karthik'"
      ]
     },
     "execution_count": 59,
     "metadata": {},
     "output_type": "execute_result"
    }
   ],
   "source": [
    "'Hello'+', i am Karthik'"
   ]
  },
  {
   "cell_type": "code",
   "execution_count": null,
   "id": "af15a0ae",
   "metadata": {},
   "outputs": [],
   "source": []
  }
 ],
 "metadata": {
  "kernelspec": {
   "display_name": "Python 3 (ipykernel)",
   "language": "python",
   "name": "python3"
  },
  "language_info": {
   "codemirror_mode": {
    "name": "ipython",
    "version": 3
   },
   "file_extension": ".py",
   "mimetype": "text/x-python",
   "name": "python",
   "nbconvert_exporter": "python",
   "pygments_lexer": "ipython3",
   "version": "3.9.13"
  }
 },
 "nbformat": 4,
 "nbformat_minor": 5
}
