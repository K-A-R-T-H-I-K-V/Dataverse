{
 "cells": [
  {
   "cell_type": "markdown",
   "id": "68c610a0",
   "metadata": {},
   "source": [
    "# <span style = \"text-decoration : underline ;\" >Lists</span>\n",
    "\n",
    "## Lists in python, are used to store the sequence of different data types\n",
    "\n",
    "\n",
    "## Characteristics of a Python List :\n",
    "### Ordered: Lists maintain the order in which the data is inserted.\n",
    "### Mutable: In list element(s) are changeable. It means that we can modify the items stored within the list.\n",
    "### Heterogenous: Lists can store elements of various data types.\n",
    "### Dynamic: List can expand or shrink automatically to accommodate the items accordingly.\n",
    "### Duplicate Elements: Lists allow us to store duplicate data."
   ]
  },
  {
   "cell_type": "code",
   "execution_count": 1,
   "id": "a28f670e",
   "metadata": {},
   "outputs": [
    {
     "data": {
      "text/plain": [
       "'\\nindexing in python - indices refers to the position or location of elements within a data structure, \\nand are used to access individual elements! There can be negative indices too.\\n\\n 0  1   2  3  4  - forward indexing\\n[1, 2, -3, 4, 2]\\n-5 -4  -3 -2 -1  - reverse indexing\\n\\n'"
      ]
     },
     "execution_count": 1,
     "metadata": {},
     "output_type": "execute_result"
    }
   ],
   "source": [
    "integer_list = [1, 2, -3, 4, 2]\n",
    "\n",
    "\"\"\"\n",
    "indexing in python - indices refers to the position or location of elements within a data structure, \n",
    "and are used to access individual elements! There can be negative indices too.\n",
    "\n",
    " 0  1   2  3  4  - forward indexing\n",
    "[1, 2, -3, 4, 2]\n",
    "-5 -4  -3 -2 -1  - reverse indexing\n",
    "\n",
    "\"\"\" "
   ]
  },
  {
   "cell_type": "code",
   "execution_count": 2,
   "id": "e885ca14",
   "metadata": {},
   "outputs": [
    {
     "name": "stdout",
     "output_type": "stream",
     "text": [
      "[1, 2, -3, 4, 2]\n"
     ]
    }
   ],
   "source": [
    "print(integer_list)"
   ]
  },
  {
   "cell_type": "code",
   "execution_count": 3,
   "id": "8731802c",
   "metadata": {},
   "outputs": [
    {
     "data": {
      "text/plain": [
       "[1,\n",
       " 2.08,\n",
       " 'Nairobi',\n",
       " (22+6j),\n",
       " ['A', 'Nested', 'list'],\n",
       " ('A tuple too', 28.0, 25)]"
      ]
     },
     "execution_count": 3,
     "metadata": {},
     "output_type": "execute_result"
    }
   ],
   "source": [
    "l = [1, 2.08, 'Nairobi', 22+6j, ['A', 'Nested', 'list'], ('A tuple too', 28.0, 25)]\n",
    "l"
   ]
  },
  {
   "cell_type": "code",
   "execution_count": 4,
   "id": "bc8b916a",
   "metadata": {},
   "outputs": [
    {
     "data": {
      "text/plain": [
       "\" indexing\\n     0    1       2       3              4                           5\\nl = [1, 2.08, 'Karthik', 22+6j, ['A', 'Nested', 'list'], ('A tuple too', 28.0, 25)]\\n    -6   -5      -4      -3             -2                          -1\""
      ]
     },
     "execution_count": 4,
     "metadata": {},
     "output_type": "execute_result"
    }
   ],
   "source": [
    "''' indexing\n",
    "     0    1       2       3              4                           5\n",
    "l = [1, 2.08, 'Karthik', 22+6j, ['A', 'Nested', 'list'], ('A tuple too', 28.0, 25)]\n",
    "    -6   -5      -4      -3             -2                          -1'''"
   ]
  },
  {
   "cell_type": "markdown",
   "id": "70b10309",
   "metadata": {},
   "source": [
    "## Accessing elements in a list using <span style = \"text-decoration : underline ;\" >indices</span>"
   ]
  },
  {
   "cell_type": "code",
   "execution_count": 7,
   "id": "00c1de37",
   "metadata": {},
   "outputs": [
    {
     "data": {
      "text/plain": [
       "'Karthik'"
      ]
     },
     "execution_count": 7,
     "metadata": {},
     "output_type": "execute_result"
    }
   ],
   "source": [
    "l[2]"
   ]
  },
  {
   "cell_type": "code",
   "execution_count": 8,
   "id": "524f97d0",
   "metadata": {},
   "outputs": [
    {
     "data": {
      "text/plain": [
       "['A', 'Nested', 'list']"
      ]
     },
     "execution_count": 8,
     "metadata": {},
     "output_type": "execute_result"
    }
   ],
   "source": [
    "l[4]"
   ]
  },
  {
   "cell_type": "code",
   "execution_count": 16,
   "id": "d4c2ba22",
   "metadata": {},
   "outputs": [
    {
     "data": {
      "text/plain": [
       "'Nested'"
      ]
     },
     "execution_count": 16,
     "metadata": {},
     "output_type": "execute_result"
    }
   ],
   "source": [
    "l[4][1] #Use of multiple indices to navigate through the levels of nesting "
   ]
  },
  {
   "cell_type": "code",
   "execution_count": 5,
   "id": "80ab8439",
   "metadata": {},
   "outputs": [],
   "source": [
    "# \"l[4]\" denotes the element at 4th index of the list \"l\" while \"l[4][1]\" refers to the 2nd element(0th index) of the 5th element(index 4) of the list \"l\""
   ]
  },
  {
   "cell_type": "code",
   "execution_count": 6,
   "id": "a1ee4f5b",
   "metadata": {},
   "outputs": [
    {
     "data": {
      "text/plain": [
       "('A tuple too', 28.0, 25)"
      ]
     },
     "execution_count": 6,
     "metadata": {},
     "output_type": "execute_result"
    }
   ],
   "source": [
    "l[-1]"
   ]
  },
  {
   "cell_type": "code",
   "execution_count": 7,
   "id": "31e2651d",
   "metadata": {},
   "outputs": [
    {
     "data": {
      "text/plain": [
       "28.0"
      ]
     },
     "execution_count": 7,
     "metadata": {},
     "output_type": "execute_result"
    }
   ],
   "source": [
    "l[-1][1]"
   ]
  },
  {
   "cell_type": "code",
   "execution_count": 8,
   "id": "9abcfd88",
   "metadata": {},
   "outputs": [
    {
     "data": {
      "text/plain": [
       "2.08"
      ]
     },
     "execution_count": 8,
     "metadata": {},
     "output_type": "execute_result"
    }
   ],
   "source": [
    "l[-5]"
   ]
  },
  {
   "cell_type": "code",
   "execution_count": 9,
   "id": "31124ae4",
   "metadata": {},
   "outputs": [
    {
     "data": {
      "text/plain": [
       "('A tuple too', 28.0, 25)"
      ]
     },
     "execution_count": 9,
     "metadata": {},
     "output_type": "execute_result"
    }
   ],
   "source": [
    "l[-1]"
   ]
  },
  {
   "cell_type": "code",
   "execution_count": 4,
   "id": "9566f11e",
   "metadata": {},
   "outputs": [
    {
     "data": {
      "text/plain": [
       "1"
      ]
     },
     "execution_count": 4,
     "metadata": {},
     "output_type": "execute_result"
    }
   ],
   "source": [
    "l[-6]"
   ]
  },
  {
   "cell_type": "code",
   "execution_count": 5,
   "id": "09920024",
   "metadata": {},
   "outputs": [
    {
     "data": {
      "text/plain": [
       "['A', 'Nested', 'list']"
      ]
     },
     "execution_count": 5,
     "metadata": {},
     "output_type": "execute_result"
    }
   ],
   "source": [
    "l[4]"
   ]
  },
  {
   "cell_type": "code",
   "execution_count": 6,
   "id": "4a99fa14",
   "metadata": {},
   "outputs": [
    {
     "data": {
      "text/plain": [
       "1"
      ]
     },
     "execution_count": 6,
     "metadata": {},
     "output_type": "execute_result"
    }
   ],
   "source": [
    "l[0]"
   ]
  },
  {
   "cell_type": "code",
   "execution_count": 10,
   "id": "6f56aad5",
   "metadata": {
    "scrolled": false
   },
   "outputs": [
    {
     "ename": "IndexError",
     "evalue": "list index out of range",
     "output_type": "error",
     "traceback": [
      "\u001b[1;31m---------------------------------------------------------------------------\u001b[0m",
      "\u001b[1;31mIndexError\u001b[0m                                Traceback (most recent call last)",
      "\u001b[1;32m~\\AppData\\Local\\Temp\\ipykernel_21396\\745925.py\u001b[0m in \u001b[0;36m<module>\u001b[1;34m\u001b[0m\n\u001b[1;32m----> 1\u001b[1;33m \u001b[0ml\u001b[0m\u001b[1;33m[\u001b[0m\u001b[1;36m78\u001b[0m\u001b[1;33m]\u001b[0m\u001b[1;33m\u001b[0m\u001b[1;33m\u001b[0m\u001b[0m\n\u001b[0m",
      "\u001b[1;31mIndexError\u001b[0m: list index out of range"
     ]
    }
   ],
   "source": [
    "l[78]"
   ]
  },
  {
   "cell_type": "markdown",
   "id": "3171414a",
   "metadata": {},
   "source": [
    "### Trying to access an element in a sequence (like list) using an index that is not within the valid range for that sequence generates 'list index out of range' error."
   ]
  },
  {
   "cell_type": "markdown",
   "id": "fddd684c",
   "metadata": {},
   "source": [
    "## <span style = \"text-decoration : underline ;\" >List Slicing</span>\n",
    "\n",
    "### Slicing in python allows you to extract a portion of the list by specifying the start index and an end index."
   ]
  },
  {
   "cell_type": "code",
   "execution_count": 22,
   "id": "3a7e8f4a",
   "metadata": {
    "scrolled": false
   },
   "outputs": [
    {
     "data": {
      "text/plain": [
       "'Syntax is as follows : \\n\\nlist[start : end : step-size]\\n\\nNOTE : \\n1. element at the start index is included\\n2. element at the stop index is excluded\\n3. step-size is an optional argument, which is a positive 1 by default'"
      ]
     },
     "execution_count": 22,
     "metadata": {},
     "output_type": "execute_result"
    }
   ],
   "source": [
    "\"\"\"Syntax is as follows : \n",
    "\n",
    "list[start : end : step-size]\n",
    "\n",
    "NOTE : \n",
    "1. element at the start index is included\n",
    "2. element at the stop index is excluded\n",
    "3. step-size is an optional argument, which is a positive 1 by default\"\"\""
   ]
  },
  {
   "cell_type": "code",
   "execution_count": 11,
   "id": "a5cd9344",
   "metadata": {
    "scrolled": true
   },
   "outputs": [
    {
     "data": {
      "text/plain": [
       "'Nairob'"
      ]
     },
     "execution_count": 11,
     "metadata": {},
     "output_type": "execute_result"
    }
   ],
   "source": [
    "l[2][:6] #if start index is not specified its zero by default"
   ]
  },
  {
   "cell_type": "code",
   "execution_count": 12,
   "id": "29e7fbbf",
   "metadata": {},
   "outputs": [
    {
     "data": {
      "text/plain": [
       "'airob'"
      ]
     },
     "execution_count": 12,
     "metadata": {},
     "output_type": "execute_result"
    }
   ],
   "source": [
    "l[2][1:6:]"
   ]
  },
  {
   "cell_type": "code",
   "execution_count": 13,
   "id": "6d3d373f",
   "metadata": {},
   "outputs": [
    {
     "data": {
      "text/plain": [
       "[]"
      ]
     },
     "execution_count": 13,
     "metadata": {},
     "output_type": "execute_result"
    }
   ],
   "source": [
    "l[0:6:-1]"
   ]
  },
  {
   "cell_type": "code",
   "execution_count": 14,
   "id": "f0c2480b",
   "metadata": {},
   "outputs": [
    {
     "data": {
      "text/plain": [
       "''"
      ]
     },
     "execution_count": 14,
     "metadata": {},
     "output_type": "execute_result"
    }
   ],
   "source": [
    "l[2][1:6:-1] "
   ]
  },
  {
   "cell_type": "markdown",
   "id": "9b688e6e",
   "metadata": {},
   "source": [
    "### -1 in the above examples denotes negative direction, which means we are moving backwards through the list. When the step size is negative, the start index should be greater than the end index for the slicing to be valid. The below example is a proper way to produce a reversed slice."
   ]
  },
  {
   "cell_type": "code",
   "execution_count": 15,
   "id": "f2ced765",
   "metadata": {},
   "outputs": [
    {
     "data": {
      "text/plain": [
       "[('A tuple too', 28.0, 25), ['A', 'Nested', 'list'], (22+6j), 'Nairobi', 2.08]"
      ]
     },
     "execution_count": 15,
     "metadata": {},
     "output_type": "execute_result"
    }
   ],
   "source": [
    "l[6:0:-1]"
   ]
  },
  {
   "cell_type": "code",
   "execution_count": 16,
   "id": "7d014a03",
   "metadata": {},
   "outputs": [
    {
     "data": {
      "text/plain": [
       "'ibori'"
      ]
     },
     "execution_count": 16,
     "metadata": {},
     "output_type": "execute_result"
    }
   ],
   "source": [
    "l[2][6:1:-1] "
   ]
  },
  {
   "cell_type": "code",
   "execution_count": 17,
   "id": "bbc90c1e",
   "metadata": {},
   "outputs": [
    {
     "data": {
      "text/plain": [
       "[1,\n",
       " 2.08,\n",
       " 'Nairobi',\n",
       " (22+6j),\n",
       " ['A', 'Nested', 'list'],\n",
       " ('A tuple too', 28.0, 25)]"
      ]
     },
     "execution_count": 17,
     "metadata": {},
     "output_type": "execute_result"
    }
   ],
   "source": [
    "'''When both the start and the end indices are omitted, Python assumes you want to select the entire list'''\n",
    "\n",
    "l[::1]"
   ]
  },
  {
   "cell_type": "code",
   "execution_count": 18,
   "id": "9fdefa7d",
   "metadata": {},
   "outputs": [
    {
     "data": {
      "text/plain": [
       "[('A tuple too', 28.0, 25),\n",
       " ['A', 'Nested', 'list'],\n",
       " (22+6j),\n",
       " 'Nairobi',\n",
       " 2.08,\n",
       " 1]"
      ]
     },
     "execution_count": 18,
     "metadata": {},
     "output_type": "execute_result"
    }
   ],
   "source": [
    "l[::-1]"
   ]
  },
  {
   "cell_type": "code",
   "execution_count": 19,
   "id": "aea55a31",
   "metadata": {},
   "outputs": [
    {
     "data": {
      "text/plain": [
       "[1,\n",
       " 2.08,\n",
       " 'Nairobi',\n",
       " (22+6j),\n",
       " ['A', 'Nested', 'list'],\n",
       " ('A tuple too', 28.0, 25)]"
      ]
     },
     "execution_count": 19,
     "metadata": {},
     "output_type": "execute_result"
    }
   ],
   "source": [
    "l[0:6:1]"
   ]
  },
  {
   "cell_type": "code",
   "execution_count": 20,
   "id": "459921bd",
   "metadata": {},
   "outputs": [
    {
     "data": {
      "text/plain": [
       "[(22+6j), 'Nairobi', 2.08, 1]"
      ]
     },
     "execution_count": 20,
     "metadata": {},
     "output_type": "execute_result"
    }
   ],
   "source": [
    "l[-3::-1]"
   ]
  },
  {
   "cell_type": "code",
   "execution_count": 21,
   "id": "ba62c005",
   "metadata": {},
   "outputs": [
    {
     "data": {
      "text/plain": [
       "[(22+6j), ['A', 'Nested', 'list'], ('A tuple too', 28.0, 25)]"
      ]
     },
     "execution_count": 21,
     "metadata": {},
     "output_type": "execute_result"
    }
   ],
   "source": [
    "l[-3::1]"
   ]
  },
  {
   "cell_type": "code",
   "execution_count": 22,
   "id": "5c3eb7c0",
   "metadata": {},
   "outputs": [
    {
     "data": {
      "text/plain": [
       "[1, (22+6j)]"
      ]
     },
     "execution_count": 22,
     "metadata": {},
     "output_type": "execute_result"
    }
   ],
   "source": [
    "l[::3]"
   ]
  },
  {
   "cell_type": "code",
   "execution_count": 23,
   "id": "cccb4ce3",
   "metadata": {},
   "outputs": [
    {
     "data": {
      "text/plain": [
       "[]"
      ]
     },
     "execution_count": 23,
     "metadata": {},
     "output_type": "execute_result"
    }
   ],
   "source": [
    "l[1:1:1]"
   ]
  },
  {
   "cell_type": "code",
   "execution_count": 24,
   "id": "23caacf9",
   "metadata": {},
   "outputs": [
    {
     "data": {
      "text/plain": [
       "[]"
      ]
     },
     "execution_count": 24,
     "metadata": {},
     "output_type": "execute_result"
    }
   ],
   "source": [
    "l[-1:-2:]"
   ]
  },
  {
   "cell_type": "code",
   "execution_count": 18,
   "id": "db905b1d",
   "metadata": {},
   "outputs": [
    {
     "data": {
      "text/plain": [
       "[('A tuple too', 28.0, 25)]"
      ]
     },
     "execution_count": 18,
     "metadata": {},
     "output_type": "execute_result"
    }
   ],
   "source": [
    "l[-1:-2:-1]"
   ]
  },
  {
   "cell_type": "markdown",
   "id": "61522335",
   "metadata": {},
   "source": [
    "## <span style = \"text-decoration : underline ;\" >Operations on Lists</span>"
   ]
  },
  {
   "cell_type": "code",
   "execution_count": 26,
   "id": "59a68028",
   "metadata": {},
   "outputs": [
    {
     "data": {
      "text/plain": [
       "['T', 'o', 'm', ' ', 'R', 'i', 'd', 'd', 'l', 'e']"
      ]
     },
     "execution_count": 26,
     "metadata": {},
     "output_type": "execute_result"
    }
   ],
   "source": [
    "s = 'Tom Riddle'\n",
    "list(s)  #type conversion"
   ]
  },
  {
   "cell_type": "code",
   "execution_count": 27,
   "id": "1c21d8c8",
   "metadata": {},
   "outputs": [
    {
     "ename": "TypeError",
     "evalue": "can only concatenate str (not \"list\") to str",
     "output_type": "error",
     "traceback": [
      "\u001b[1;31m---------------------------------------------------------------------------\u001b[0m",
      "\u001b[1;31mTypeError\u001b[0m                                 Traceback (most recent call last)",
      "\u001b[1;32m~\\AppData\\Local\\Temp\\ipykernel_21396\\3191971702.py\u001b[0m in \u001b[0;36m<module>\u001b[1;34m\u001b[0m\n\u001b[1;32m----> 1\u001b[1;33m \u001b[0ms\u001b[0m \u001b[1;33m+\u001b[0m \u001b[0ml\u001b[0m\u001b[1;33m\u001b[0m\u001b[1;33m\u001b[0m\u001b[0m\n\u001b[0m",
      "\u001b[1;31mTypeError\u001b[0m: can only concatenate str (not \"list\") to str"
     ]
    }
   ],
   "source": [
    "s + l"
   ]
  },
  {
   "cell_type": "code",
   "execution_count": 29,
   "id": "5c76a245",
   "metadata": {},
   "outputs": [
    {
     "data": {
      "text/plain": [
       "['T',\n",
       " 'o',\n",
       " 'm',\n",
       " ' ',\n",
       " 'R',\n",
       " 'i',\n",
       " 'd',\n",
       " 'd',\n",
       " 'l',\n",
       " 'e',\n",
       " 1,\n",
       " 2.08,\n",
       " 'Nairobi',\n",
       " (22+6j),\n",
       " ['A', 'Nested', 'list'],\n",
       " ('A tuple too', 28.0, 25)]"
      ]
     },
     "execution_count": 29,
     "metadata": {},
     "output_type": "execute_result"
    }
   ],
   "source": [
    "list(s) + l # list(s) converts the string 's' into a list of individual characters"
   ]
  },
  {
   "cell_type": "code",
   "execution_count": null,
   "id": "e133637a",
   "metadata": {},
   "outputs": [],
   "source": []
  },
  {
   "cell_type": "code",
   "execution_count": 31,
   "id": "1c7dc7ce",
   "metadata": {},
   "outputs": [],
   "source": [
    "l_num = [1, 2, 4]"
   ]
  },
  {
   "cell_type": "code",
   "execution_count": 32,
   "id": "9a64d98c",
   "metadata": {},
   "outputs": [],
   "source": [
    "l_float = [2.0, 4.46]"
   ]
  },
  {
   "cell_type": "code",
   "execution_count": 33,
   "id": "bca55f84",
   "metadata": {},
   "outputs": [],
   "source": [
    "l_str = ['I', '4', '3']"
   ]
  },
  {
   "cell_type": "code",
   "execution_count": 34,
   "id": "cb05d50e",
   "metadata": {},
   "outputs": [
    {
     "data": {
      "text/plain": [
       "[1, 2, 4, 2.0, 4.46, 'I', '4', '3']"
      ]
     },
     "execution_count": 34,
     "metadata": {},
     "output_type": "execute_result"
    }
   ],
   "source": [
    "l_mix = l_num + l_float + l_str #list concatenation\n",
    "l_mix"
   ]
  },
  {
   "cell_type": "code",
   "execution_count": null,
   "id": "0097b440",
   "metadata": {},
   "outputs": [],
   "source": []
  },
  {
   "cell_type": "code",
   "execution_count": 35,
   "id": "2d33dcae",
   "metadata": {},
   "outputs": [
    {
     "data": {
      "text/plain": [
       "[1, 2, 4, 2.0, 4.46, 'I', '4', '3', 1, 2, 4, 2.0, 4.46, 'I', '4', '3']"
      ]
     },
     "execution_count": 35,
     "metadata": {},
     "output_type": "execute_result"
    }
   ],
   "source": [
    "l_mix * 2 # list replication - creating a new list by duplicating elements of an existing list"
   ]
  },
  {
   "cell_type": "code",
   "execution_count": 36,
   "id": "90796da9",
   "metadata": {},
   "outputs": [
    {
     "ename": "TypeError",
     "evalue": "unsupported operand type(s) for -: 'list' and 'int'",
     "output_type": "error",
     "traceback": [
      "\u001b[1;31m---------------------------------------------------------------------------\u001b[0m",
      "\u001b[1;31mTypeError\u001b[0m                                 Traceback (most recent call last)",
      "\u001b[1;32m~\\AppData\\Local\\Temp\\ipykernel_21396\\1456282995.py\u001b[0m in \u001b[0;36m<module>\u001b[1;34m\u001b[0m\n\u001b[1;32m----> 1\u001b[1;33m \u001b[0ml_mix\u001b[0m \u001b[1;33m-\u001b[0m \u001b[1;36m1\u001b[0m\u001b[1;33m\u001b[0m\u001b[1;33m\u001b[0m\u001b[0m\n\u001b[0m",
      "\u001b[1;31mTypeError\u001b[0m: unsupported operand type(s) for -: 'list' and 'int'"
     ]
    }
   ],
   "source": [
    "l_mix - 1"
   ]
  },
  {
   "cell_type": "markdown",
   "id": "820eede7",
   "metadata": {},
   "source": [
    "## <span style = \"text-decoration : underline ;\" >List Methods</span>"
   ]
  },
  {
   "cell_type": "code",
   "execution_count": 52,
   "id": "fab05183",
   "metadata": {},
   "outputs": [],
   "source": [
    "l1 = [1, 3.5, 'Python']"
   ]
  },
  {
   "cell_type": "code",
   "execution_count": 53,
   "id": "d1db9144",
   "metadata": {},
   "outputs": [
    {
     "data": {
      "text/plain": [
       "3"
      ]
     },
     "execution_count": 53,
     "metadata": {},
     "output_type": "execute_result"
    }
   ],
   "source": [
    "# len(sequence) returns the number of elements in the argument sequence\n",
    "\n",
    "len(l1)"
   ]
  },
  {
   "cell_type": "code",
   "execution_count": null,
   "id": "b3d0d376",
   "metadata": {},
   "outputs": [],
   "source": []
  },
  {
   "cell_type": "code",
   "execution_count": 54,
   "id": "d8bcf6a0",
   "metadata": {},
   "outputs": [
    {
     "name": "stdout",
     "output_type": "stream",
     "text": [
      "[1, 3.5, 'Python', 'Data Scientist']\n"
     ]
    }
   ],
   "source": [
    "# list_name.append(element) is used to add an element at the end of the list\n",
    "\n",
    "l1.append('Data Scientist') # appends at the end of the list\n",
    "print(l1)"
   ]
  },
  {
   "cell_type": "code",
   "execution_count": 55,
   "id": "7014b98e",
   "metadata": {},
   "outputs": [
    {
     "name": "stdout",
     "output_type": "stream",
     "text": [
      "[1, 3.5, 'Python', 'Data Scientist', [1, 0, True]]\n"
     ]
    }
   ],
   "source": [
    "l1.append([1, 0, True])\n",
    "print(l1)"
   ]
  },
  {
   "cell_type": "code",
   "execution_count": 56,
   "id": "c51324b5",
   "metadata": {},
   "outputs": [
    {
     "data": {
      "text/plain": [
       "[1, 0, True]"
      ]
     },
     "execution_count": 56,
     "metadata": {},
     "output_type": "execute_result"
    }
   ],
   "source": [
    "l1[-1]"
   ]
  },
  {
   "cell_type": "code",
   "execution_count": 57,
   "id": "0f1bca7c",
   "metadata": {},
   "outputs": [
    {
     "data": {
      "text/plain": [
       "True"
      ]
     },
     "execution_count": 57,
     "metadata": {},
     "output_type": "execute_result"
    }
   ],
   "source": [
    "l1[-1][-1]"
   ]
  },
  {
   "cell_type": "code",
   "execution_count": null,
   "id": "474c7ff9",
   "metadata": {},
   "outputs": [],
   "source": []
  },
  {
   "cell_type": "code",
   "execution_count": 58,
   "id": "fc5a199a",
   "metadata": {},
   "outputs": [
    {
     "name": "stdout",
     "output_type": "stream",
     "text": [
      "[1, 3.5, 'Python', 'Data Scientist', [1, 0, True], 'M', 'o', 'a', 'n', 'a']\n"
     ]
    }
   ],
   "source": [
    "# list_name.extend(iterable) is used to add multiple elements (in the form of any iterable object like a list, tuple, set.,) to the end of an existing list\n",
    "\n",
    "l1.extend('Moana')\n",
    "print(l1)"
   ]
  },
  {
   "cell_type": "code",
   "execution_count": 59,
   "id": "a24f394a",
   "metadata": {},
   "outputs": [
    {
     "name": "stdout",
     "output_type": "stream",
     "text": [
      "[1, 3.5, 'Python', 'Data Scientist', [1, 0, True], 'M', 'o', 'a', 'n', 'a', 1, 3, 5]\n"
     ]
    }
   ],
   "source": [
    "l1.extend((1, 3, 5))\n",
    "print(l1)"
   ]
  },
  {
   "cell_type": "code",
   "execution_count": null,
   "id": "cebb7ce8",
   "metadata": {},
   "outputs": [],
   "source": []
  },
  {
   "cell_type": "code",
   "execution_count": 63,
   "id": "b188d33c",
   "metadata": {},
   "outputs": [],
   "source": [
    "l2 = [1, 3, 5]"
   ]
  },
  {
   "cell_type": "code",
   "execution_count": 64,
   "id": "1206d839",
   "metadata": {},
   "outputs": [
    {
     "name": "stdout",
     "output_type": "stream",
     "text": [
      "[1, 'Karthik', 3, 5]\n"
     ]
    }
   ],
   "source": [
    "# 'list_name.insert(index, element)'' is used to insert an element at a specified position in a list\n",
    "\n",
    "l2.insert(1, 'Karthik')\n",
    "print(l2)"
   ]
  },
  {
   "cell_type": "code",
   "execution_count": 65,
   "id": "cc7719a4",
   "metadata": {},
   "outputs": [
    {
     "name": "stdout",
     "output_type": "stream",
     "text": [
      "[1, 'Karthik', 3, 'Gonna be inserted at -1th index', 5]\n"
     ]
    }
   ],
   "source": [
    "l2.insert(-1, 'Gonna be inserted at -1th index')\n",
    "print(l2)"
   ]
  },
  {
   "cell_type": "code",
   "execution_count": 67,
   "id": "218c8cf8",
   "metadata": {},
   "outputs": [
    {
     "name": "stdout",
     "output_type": "stream",
     "text": [
      "[1, 'Karthik', 3, 'Gonna be inserted at -1th index', 5, 'OMG']\n"
     ]
    }
   ],
   "source": [
    "l2.insert(21, 'OMG')\n",
    "print(l2)"
   ]
  },
  {
   "cell_type": "markdown",
   "id": "69332b37",
   "metadata": {},
   "source": [
    "### If the specified index is greater than or equal to the length of the list, the element will be appended to the end of the list"
   ]
  },
  {
   "cell_type": "code",
   "execution_count": null,
   "id": "938b22c0",
   "metadata": {},
   "outputs": [],
   "source": []
  },
  {
   "cell_type": "code",
   "execution_count": 76,
   "id": "d7c449dc",
   "metadata": {},
   "outputs": [],
   "source": [
    "l3 = [2, 4, 1, True, 3, 6]"
   ]
  },
  {
   "cell_type": "code",
   "execution_count": 77,
   "id": "c415f43c",
   "metadata": {},
   "outputs": [
    {
     "name": "stdout",
     "output_type": "stream",
     "text": [
      "[2, 4, 1, True, 3]\n"
     ]
    }
   ],
   "source": [
    "# 'list_name.pop(index)' is used to remove and return the element at a specified index from a list\n",
    "\n",
    "l3.pop() # by default pops element at -1th index\n",
    "print(l3)"
   ]
  },
  {
   "cell_type": "code",
   "execution_count": 78,
   "id": "f554193f",
   "metadata": {},
   "outputs": [
    {
     "data": {
      "text/plain": [
       "2"
      ]
     },
     "execution_count": 78,
     "metadata": {},
     "output_type": "execute_result"
    }
   ],
   "source": [
    "l3.pop(0) #takes index as parameter"
   ]
  },
  {
   "cell_type": "code",
   "execution_count": null,
   "id": "92658312",
   "metadata": {},
   "outputs": [],
   "source": []
  },
  {
   "cell_type": "code",
   "execution_count": 79,
   "id": "ffb58b0c",
   "metadata": {},
   "outputs": [
    {
     "name": "stdout",
     "output_type": "stream",
     "text": [
      "[4, True, 3]\n"
     ]
    }
   ],
   "source": [
    "# 'list_name.remove(element)' is used to remove the first occurrence of a specified element in a ist\n",
    "\n",
    "l3.remove(1)  # takes value as argument\n",
    "print(l3)"
   ]
  },
  {
   "cell_type": "code",
   "execution_count": null,
   "id": "1d55a87f",
   "metadata": {},
   "outputs": [],
   "source": []
  },
  {
   "cell_type": "code",
   "execution_count": 80,
   "id": "bfbc250b",
   "metadata": {},
   "outputs": [],
   "source": [
    "l4 = [0, False, 78, 90.9, 0.99]"
   ]
  },
  {
   "cell_type": "code",
   "execution_count": 81,
   "id": "d4de704e",
   "metadata": {},
   "outputs": [
    {
     "name": "stdout",
     "output_type": "stream",
     "text": [
      "[False, 78, 90.9, 0.99]\n"
     ]
    }
   ],
   "source": [
    "l4.remove(False)\n",
    "print(l4)"
   ]
  },
  {
   "cell_type": "code",
   "execution_count": 82,
   "id": "e89c3242",
   "metadata": {},
   "outputs": [
    {
     "name": "stdout",
     "output_type": "stream",
     "text": [
      "[1, 78, 90.9, 0.99]\n"
     ]
    }
   ],
   "source": [
    "l4[0] = 1 # Mutable\n",
    "print(l4)"
   ]
  },
  {
   "cell_type": "code",
   "execution_count": null,
   "id": "d7577dd4",
   "metadata": {},
   "outputs": [],
   "source": []
  },
  {
   "cell_type": "code",
   "execution_count": 84,
   "id": "f04b1362",
   "metadata": {},
   "outputs": [],
   "source": [
    "l5 = [67, 908, -34, 1, 1.8, 9.00, -56.8]"
   ]
  },
  {
   "cell_type": "code",
   "execution_count": 85,
   "id": "078f6c44",
   "metadata": {},
   "outputs": [
    {
     "name": "stdout",
     "output_type": "stream",
     "text": [
      "[-56.8, -34, 1, 1.8, 9.0, 67, 908]\n"
     ]
    }
   ],
   "source": [
    "\"\"\"\n",
    "'list_name.sort(key = None, reverse = False)' is used to sort the elements of a list in ascending order. It modified the original list.\n",
    "key - This is a function that takes an element as input, and returns a value to use for sorting, if not provided, elements are compared directlt.\n",
    "reverse - if 'True', the list will be sorted in descending order.\"\"\"\n",
    "\n",
    "l5.sort()\n",
    "print(l5)"
   ]
  },
  {
   "cell_type": "code",
   "execution_count": 86,
   "id": "718c56f3",
   "metadata": {},
   "outputs": [
    {
     "name": "stdout",
     "output_type": "stream",
     "text": [
      "[908, 67, 9.0, 1.8, 1, -34, -56.8]\n"
     ]
    }
   ],
   "source": [
    "l5.sort(reverse = True)\n",
    "print(l5)"
   ]
  },
  {
   "cell_type": "code",
   "execution_count": null,
   "id": "ecb3ca5d",
   "metadata": {},
   "outputs": [],
   "source": []
  },
  {
   "cell_type": "code",
   "execution_count": 88,
   "id": "febf5d12",
   "metadata": {},
   "outputs": [],
   "source": [
    "l6 = [3, 1, -34, 40.89, -3, 99]"
   ]
  },
  {
   "cell_type": "code",
   "execution_count": 89,
   "id": "815dcc28",
   "metadata": {},
   "outputs": [
    {
     "data": {
      "text/plain": [
       "[-34, -3, 1, 3, 40.89, 99]"
      ]
     },
     "execution_count": 89,
     "metadata": {},
     "output_type": "execute_result"
    }
   ],
   "source": [
    "# 'sorted(iterable, key = None, reverse = False)' takes an iterable as input and returns a new sorted list. It DOES NOT modify the original list.\n",
    "\n",
    "sorted(l6)"
   ]
  },
  {
   "cell_type": "code",
   "execution_count": 90,
   "id": "8bc6c702",
   "metadata": {},
   "outputs": [
    {
     "name": "stdout",
     "output_type": "stream",
     "text": [
      "[99, 40.89, 3, 1, -3, -34]\n"
     ]
    }
   ],
   "source": [
    "reversed_l6 = sorted(l6, reverse = True)\n",
    "print(reversed_l6)"
   ]
  },
  {
   "cell_type": "markdown",
   "id": "1e07d250",
   "metadata": {},
   "source": [
    "### 'sorted()' returns a new sorted list, leaving the original list unchanged. 'sort()' sorts the list in place, modifying the original list."
   ]
  },
  {
   "cell_type": "code",
   "execution_count": null,
   "id": "277d0cd3",
   "metadata": {},
   "outputs": [],
   "source": []
  },
  {
   "cell_type": "markdown",
   "id": "67519fc8",
   "metadata": {},
   "source": [
    "## <span style = \"text-decoration : underline ;\" >Membership Operators</span>"
   ]
  },
  {
   "cell_type": "markdown",
   "id": "5c8ffebf",
   "metadata": {},
   "source": [
    "### 1. 'in' operator returns 'True' if a value is found in the given sequence, else returns 'False'"
   ]
  },
  {
   "cell_type": "code",
   "execution_count": 91,
   "id": "c12df29e",
   "metadata": {},
   "outputs": [
    {
     "name": "stdout",
     "output_type": "stream",
     "text": [
      "True\n"
     ]
    }
   ],
   "source": [
    "fruits = ['apple', 'orange', 'mango']\n",
    "print('mango' in fruits)"
   ]
  },
  {
   "cell_type": "code",
   "execution_count": 92,
   "id": "b0f878e5",
   "metadata": {},
   "outputs": [
    {
     "name": "stdout",
     "output_type": "stream",
     "text": [
      "False\n"
     ]
    }
   ],
   "source": [
    "print('papaya' in fruits)"
   ]
  },
  {
   "cell_type": "markdown",
   "id": "ef3204eb",
   "metadata": {},
   "source": [
    "### 2. 'not in' operator returns 'True' if a value is not found in the given sequence, else returns 'False'"
   ]
  },
  {
   "cell_type": "code",
   "execution_count": 93,
   "id": "15bd9cc2",
   "metadata": {},
   "outputs": [
    {
     "name": "stdout",
     "output_type": "stream",
     "text": [
      "False\n"
     ]
    }
   ],
   "source": [
    "print('mango' not in fruits)"
   ]
  },
  {
   "cell_type": "code",
   "execution_count": 94,
   "id": "9c0c73b9",
   "metadata": {},
   "outputs": [
    {
     "name": "stdout",
     "output_type": "stream",
     "text": [
      "True\n"
     ]
    }
   ],
   "source": [
    "print('papaya' not in fruits)"
   ]
  },
  {
   "cell_type": "code",
   "execution_count": null,
   "id": "49b5e838",
   "metadata": {},
   "outputs": [],
   "source": []
  },
  {
   "cell_type": "markdown",
   "id": "def343d6",
   "metadata": {},
   "source": [
    "## <span style = \"text-decoration : underline ;\" >List Comprehension</span>\n",
    "\n",
    "### List Comprehension is a concise and powerful way to create lists in Python. It is a single line of code that we write inside the square brackets. "
   ]
  },
  {
   "cell_type": "code",
   "execution_count": 95,
   "id": "af009b23",
   "metadata": {},
   "outputs": [],
   "source": [
    "# mylist = [output/expression for item in iterable if condition == True]"
   ]
  },
  {
   "cell_type": "markdown",
   "id": "175c158a",
   "metadata": {},
   "source": [
    "### 'expression' is the operation or computation to be performed on each item.\n",
    "### 'item' represents each element in the iterable\n",
    "### 'if condition' is an optional filter. The item is included in the new list only if it satisfies the condition."
   ]
  },
  {
   "cell_type": "code",
   "execution_count": 97,
   "id": "ddb787f1",
   "metadata": {},
   "outputs": [
    {
     "name": "stdout",
     "output_type": "stream",
     "text": [
      "[1, 4, 9, 16, 25]\n"
     ]
    }
   ],
   "source": [
    "squares = [x**2 for x in range(1, 6)]\n",
    "print(squares)"
   ]
  },
  {
   "cell_type": "code",
   "execution_count": 98,
   "id": "5ac24370",
   "metadata": {},
   "outputs": [
    {
     "name": "stdout",
     "output_type": "stream",
     "text": [
      "[1, 4, 9, 16, 25]\n"
     ]
    }
   ],
   "source": [
    "even_squares = [x**2 for x in range(1, 6) if x % 2 == 0]\n",
    "print(squares)"
   ]
  },
  {
   "cell_type": "code",
   "execution_count": null,
   "id": "40bce41d",
   "metadata": {},
   "outputs": [],
   "source": []
  }
 ],
 "metadata": {
  "kernelspec": {
   "display_name": "Python 3 (ipykernel)",
   "language": "python",
   "name": "python3"
  },
  "language_info": {
   "codemirror_mode": {
    "name": "ipython",
    "version": 3
   },
   "file_extension": ".py",
   "mimetype": "text/x-python",
   "name": "python",
   "nbconvert_exporter": "python",
   "pygments_lexer": "ipython3",
   "version": "3.9.13"
  }
 },
 "nbformat": 4,
 "nbformat_minor": 5
}
