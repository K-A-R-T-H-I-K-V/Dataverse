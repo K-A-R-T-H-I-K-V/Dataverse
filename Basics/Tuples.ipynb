{
 "cells": [
  {
   "cell_type": "markdown",
   "id": "60f7d12f",
   "metadata": {},
   "source": [
    "# <span style = \"text-decoration : underline ;\" >Tuples</span>\n",
    "### A tuple is one of the four inbuilt data types used to store collections in Python. Tuples are immutable, which means their elements cannot be changed after creation.\n",
    "\n",
    "### A tuple is created by enclosing a comma-separated sequence of elements within parenthesis.\n",
    "\n",
    "## Characters of a Tuple :\n",
    "### 1. Immutability : Unlike lists, which can be modified after creation, once a tuple is created, its elements cannot be changed, added, or removed. This allows for optimizations in memory management and operations, making them faster and memory efficient.\n",
    "### 2. Ordered : Elements within a tuple maintain a specific sequence. This sequence is determined by the order in which the elements were added when the tuple was created.\n",
    "### 3. Mixed data types : Tuples can contain different data types, like integers, floats, strings, and even tuples.\n",
    "### 4. Slicing : Slicing can be used to extract a portion of a tuple.\n",
    "### 5. Tuples are hashable."
   ]
  },
  {
   "cell_type": "code",
   "execution_count": 1,
   "id": "306a0f96",
   "metadata": {},
   "outputs": [
    {
     "name": "stdout",
     "output_type": "stream",
     "text": [
      "(2, 4.0, (7+8j), True, 'chocoo', [1, 3, 5], '&')\n"
     ]
    }
   ],
   "source": [
    "t = (2, 4.0, 7+8j, True, 'chocoo', [1, 3, 5], '&')\n",
    "print(t)"
   ]
  },
  {
   "cell_type": "code",
   "execution_count": 1,
   "id": "c90338ce",
   "metadata": {},
   "outputs": [
    {
     "data": {
      "text/plain": [
       "\" indexing\\n     0   1    2      3      4          5       6\\nt = (2, 4.0, 7+8j, True, 'chocoo', [1, 3, 5], '&')\\n    -7  -6   -5     -4     -3         -2      -1\\n\""
      ]
     },
     "execution_count": 1,
     "metadata": {},
     "output_type": "execute_result"
    }
   ],
   "source": [
    "''' indexing\n",
    "     0   1    2      3      4          5       6\n",
    "t = (2, 4.0, 7+8j, True, 'chocoo', [1, 3, 5], '&')\n",
    "    -7  -6   -5     -4     -3         -2      -1\n",
    "'''"
   ]
  },
  {
   "cell_type": "markdown",
   "id": "29702217",
   "metadata": {},
   "source": [
    "###  You can access elements of a tuple using <span style = \"text-decoration : underline ;\" >indexing</span>, just like in lists."
   ]
  },
  {
   "cell_type": "code",
   "execution_count": 9,
   "id": "b3957c27",
   "metadata": {},
   "outputs": [
    {
     "data": {
      "text/plain": [
       "[1, 3, 5]"
      ]
     },
     "execution_count": 9,
     "metadata": {},
     "output_type": "execute_result"
    }
   ],
   "source": [
    "t[5]"
   ]
  },
  {
   "cell_type": "code",
   "execution_count": 10,
   "id": "982561aa",
   "metadata": {},
   "outputs": [
    {
     "data": {
      "text/plain": [
       "3"
      ]
     },
     "execution_count": 10,
     "metadata": {},
     "output_type": "execute_result"
    }
   ],
   "source": [
    "t[5][-2]"
   ]
  },
  {
   "cell_type": "code",
   "execution_count": 11,
   "id": "2bc963a2",
   "metadata": {},
   "outputs": [
    {
     "data": {
      "text/plain": [
       "(7+8j)"
      ]
     },
     "execution_count": 11,
     "metadata": {},
     "output_type": "execute_result"
    }
   ],
   "source": [
    "t[-5]"
   ]
  },
  {
   "cell_type": "code",
   "execution_count": 2,
   "id": "05a1740a",
   "metadata": {},
   "outputs": [
    {
     "data": {
      "text/plain": [
       "2"
      ]
     },
     "execution_count": 2,
     "metadata": {},
     "output_type": "execute_result"
    }
   ],
   "source": [
    "t[0]"
   ]
  },
  {
   "cell_type": "code",
   "execution_count": 3,
   "id": "5ec4c42a",
   "metadata": {},
   "outputs": [
    {
     "data": {
      "text/plain": [
       "'&'"
      ]
     },
     "execution_count": 3,
     "metadata": {},
     "output_type": "execute_result"
    }
   ],
   "source": [
    "t[6]"
   ]
  },
  {
   "cell_type": "code",
   "execution_count": 4,
   "id": "f287faf0",
   "metadata": {},
   "outputs": [
    {
     "data": {
      "text/plain": [
       "2"
      ]
     },
     "execution_count": 4,
     "metadata": {},
     "output_type": "execute_result"
    }
   ],
   "source": [
    "t[-7]"
   ]
  },
  {
   "cell_type": "code",
   "execution_count": null,
   "id": "2c0594df",
   "metadata": {},
   "outputs": [],
   "source": []
  },
  {
   "cell_type": "code",
   "execution_count": 5,
   "id": "35f18166",
   "metadata": {},
   "outputs": [
    {
     "data": {
      "text/plain": [
       "('&', [1, 3, 5], 'chocoo', True, (7+8j), 4.0, 2)"
      ]
     },
     "execution_count": 5,
     "metadata": {},
     "output_type": "execute_result"
    }
   ],
   "source": [
    "t[::-1]"
   ]
  },
  {
   "cell_type": "code",
   "execution_count": 6,
   "id": "0b7cf917",
   "metadata": {},
   "outputs": [
    {
     "data": {
      "text/plain": [
       "()"
      ]
     },
     "execution_count": 6,
     "metadata": {},
     "output_type": "execute_result"
    }
   ],
   "source": [
    "t[-4:-1:-1]"
   ]
  },
  {
   "cell_type": "code",
   "execution_count": 7,
   "id": "dfc073bc",
   "metadata": {},
   "outputs": [
    {
     "data": {
      "text/plain": [
       "('&', [1, 3, 5], 'chocoo')"
      ]
     },
     "execution_count": 7,
     "metadata": {},
     "output_type": "execute_result"
    }
   ],
   "source": [
    "t[-1:-4:-1]"
   ]
  },
  {
   "cell_type": "code",
   "execution_count": null,
   "id": "e57d144b",
   "metadata": {},
   "outputs": [],
   "source": []
  },
  {
   "cell_type": "code",
   "execution_count": 8,
   "id": "a643a5ef",
   "metadata": {},
   "outputs": [
    {
     "ename": "TypeError",
     "evalue": "'tuple' object does not support item assignment",
     "output_type": "error",
     "traceback": [
      "\u001b[1;31m---------------------------------------------------------------------------\u001b[0m",
      "\u001b[1;31mTypeError\u001b[0m                                 Traceback (most recent call last)",
      "\u001b[1;32m~\\AppData\\Local\\Temp\\ipykernel_6624\\1113183006.py\u001b[0m in \u001b[0;36m<module>\u001b[1;34m\u001b[0m\n\u001b[1;32m----> 1\u001b[1;33m \u001b[0mt\u001b[0m\u001b[1;33m[\u001b[0m\u001b[1;36m0\u001b[0m\u001b[1;33m]\u001b[0m \u001b[1;33m=\u001b[0m \u001b[1;34m\"immutable\"\u001b[0m\u001b[1;33m\u001b[0m\u001b[1;33m\u001b[0m\u001b[0m\n\u001b[0m",
      "\u001b[1;31mTypeError\u001b[0m: 'tuple' object does not support item assignment"
     ]
    }
   ],
   "source": [
    "t[0] = \"immutable\""
   ]
  },
  {
   "cell_type": "code",
   "execution_count": null,
   "id": "dc2ca7e3",
   "metadata": {},
   "outputs": [],
   "source": []
  },
  {
   "cell_type": "markdown",
   "id": "5cdef1ba",
   "metadata": {},
   "source": [
    "## <span style = \"text-decoration : underline ;\" >Tuple packing and unpacking</span>\n",
    "### Tuple packing is assigning multiple values to a single variable without explicitly using parenthesis.. Python in this case, automatically creates a tuple"
   ]
  },
  {
   "cell_type": "code",
   "execution_count": 12,
   "id": "77567cf1",
   "metadata": {},
   "outputs": [
    {
     "name": "stdout",
     "output_type": "stream",
     "text": [
      "(1, 2, 3)\n"
     ]
    }
   ],
   "source": [
    "t1 = 1, 2, 3\n",
    "print(t1)"
   ]
  },
  {
   "cell_type": "markdown",
   "id": "04a38b5f",
   "metadata": {},
   "source": [
    "### Tuple unpacking involves assigning the individual elements of a tuple to separate variables. This is especially handy when you want to extract values from a tuple."
   ]
  },
  {
   "cell_type": "code",
   "execution_count": 13,
   "id": "60df2e62",
   "metadata": {},
   "outputs": [
    {
     "name": "stdout",
     "output_type": "stream",
     "text": [
      "1 2 3\n"
     ]
    }
   ],
   "source": [
    "a, b, c = t1\n",
    "print(a, b, c)"
   ]
  },
  {
   "cell_type": "markdown",
   "id": "e6789572",
   "metadata": {},
   "source": [
    "### Tuple unpacking can also be used for swapping variables without using a temporary variable"
   ]
  },
  {
   "cell_type": "code",
   "execution_count": 17,
   "id": "a50ac005",
   "metadata": {},
   "outputs": [
    {
     "name": "stdout",
     "output_type": "stream",
     "text": [
      "Before swapping, a stores 1 and b stores 2\n",
      "After swapping, a stores 2 and b stores 1\n"
     ]
    }
   ],
   "source": [
    "print('Before swapping, a stores', a, 'and b stores', b)\n",
    "a, b = b, a\n",
    "print('After swapping, a stores', a, 'and b stores', b)"
   ]
  },
  {
   "cell_type": "markdown",
   "id": "d8f0a30c",
   "metadata": {},
   "source": [
    "### On the RHS, '(b, a)' creates a tuple with the current values of 'b' and 'a', which are 2 and 1 respectively. Python then unpacks this tuple, assigning the first element 'b' to 'a', and the second element 'a' to 'b' on the LHS."
   ]
  },
  {
   "cell_type": "code",
   "execution_count": null,
   "id": "a8555ee4",
   "metadata": {},
   "outputs": [],
   "source": []
  },
  {
   "cell_type": "code",
   "execution_count": 18,
   "id": "769e53a7",
   "metadata": {},
   "outputs": [],
   "source": [
    "t2 = (1, 2, 5, 1, True, 4, 1, 0, 1)"
   ]
  },
  {
   "cell_type": "code",
   "execution_count": 21,
   "id": "3a2a3f57",
   "metadata": {},
   "outputs": [
    {
     "data": {
      "text/plain": [
       "5"
      ]
     },
     "execution_count": 21,
     "metadata": {},
     "output_type": "execute_result"
    }
   ],
   "source": [
    "# 'tuple_name.count(element)' returns the number of occurrences of a specified element in the tuple\n",
    "\n",
    "t2.count(1)"
   ]
  },
  {
   "cell_type": "code",
   "execution_count": 22,
   "id": "4f8ea40e",
   "metadata": {},
   "outputs": [
    {
     "data": {
      "text/plain": [
       "0"
      ]
     },
     "execution_count": 22,
     "metadata": {},
     "output_type": "execute_result"
    }
   ],
   "source": [
    "t2.count('x')"
   ]
  },
  {
   "cell_type": "code",
   "execution_count": null,
   "id": "b911265d",
   "metadata": {},
   "outputs": [],
   "source": []
  },
  {
   "cell_type": "code",
   "execution_count": 23,
   "id": "082b8d28",
   "metadata": {},
   "outputs": [
    {
     "data": {
      "text/plain": [
       "0"
      ]
     },
     "execution_count": 23,
     "metadata": {},
     "output_type": "execute_result"
    }
   ],
   "source": [
    "# 'tuple_name.index(element)' returns the index of the first occurrence of a specified element in the tuple\n",
    "\n",
    "t2.index(True)"
   ]
  },
  {
   "cell_type": "code",
   "execution_count": 24,
   "id": "89741083",
   "metadata": {},
   "outputs": [
    {
     "data": {
      "text/plain": [
       "5"
      ]
     },
     "execution_count": 24,
     "metadata": {},
     "output_type": "execute_result"
    }
   ],
   "source": [
    "t2.index(4)"
   ]
  },
  {
   "cell_type": "code",
   "execution_count": 26,
   "id": "3cf7e120",
   "metadata": {},
   "outputs": [
    {
     "ename": "ValueError",
     "evalue": "tuple.index(x): x not in tuple",
     "output_type": "error",
     "traceback": [
      "\u001b[1;31m---------------------------------------------------------------------------\u001b[0m",
      "\u001b[1;31mValueError\u001b[0m                                Traceback (most recent call last)",
      "\u001b[1;32m~\\AppData\\Local\\Temp\\ipykernel_6624\\191642738.py\u001b[0m in \u001b[0;36m<module>\u001b[1;34m\u001b[0m\n\u001b[1;32m----> 1\u001b[1;33m \u001b[0mt2\u001b[0m\u001b[1;33m.\u001b[0m\u001b[0mindex\u001b[0m\u001b[1;33m(\u001b[0m\u001b[1;34m'z'\u001b[0m\u001b[1;33m)\u001b[0m \u001b[1;31m# if specified element is NOT found in the tuple, it raises a 'ValueError'\u001b[0m\u001b[1;33m\u001b[0m\u001b[1;33m\u001b[0m\u001b[0m\n\u001b[0m",
      "\u001b[1;31mValueError\u001b[0m: tuple.index(x): x not in tuple"
     ]
    }
   ],
   "source": [
    "t2.index('z') # if specified element is NOT found in the tuple, it raises a 'ValueError'"
   ]
  },
  {
   "cell_type": "code",
   "execution_count": null,
   "id": "96a499b5",
   "metadata": {},
   "outputs": [],
   "source": []
  },
  {
   "cell_type": "code",
   "execution_count": 33,
   "id": "f7e0dc6e",
   "metadata": {},
   "outputs": [
    {
     "data": {
      "text/plain": [
       "9"
      ]
     },
     "execution_count": 33,
     "metadata": {},
     "output_type": "execute_result"
    }
   ],
   "source": [
    "# 'len(tuple_name)' returns the length of the tuple\n",
    "\n",
    "len(t2)"
   ]
  },
  {
   "cell_type": "code",
   "execution_count": null,
   "id": "bec2357b",
   "metadata": {},
   "outputs": [],
   "source": []
  },
  {
   "cell_type": "code",
   "execution_count": 34,
   "id": "5f797ebe",
   "metadata": {},
   "outputs": [
    {
     "data": {
      "text/plain": [
       "5"
      ]
     },
     "execution_count": 34,
     "metadata": {},
     "output_type": "execute_result"
    }
   ],
   "source": [
    "# 'max(tuple_name)' returns the element that comes last when sorted in ascenidng/lexicographical order, i.e., the ASCII values of the characters\n",
    "\n",
    "max(t2)"
   ]
  },
  {
   "cell_type": "code",
   "execution_count": 38,
   "id": "50abad95",
   "metadata": {},
   "outputs": [
    {
     "data": {
      "text/plain": [
       "'x'"
      ]
     },
     "execution_count": 38,
     "metadata": {},
     "output_type": "execute_result"
    }
   ],
   "source": [
    "t3 = ('a', 'x', 'b', 'H', ' ')\n",
    "\n",
    "max(t3)"
   ]
  },
  {
   "cell_type": "code",
   "execution_count": null,
   "id": "7422a069",
   "metadata": {},
   "outputs": [],
   "source": []
  },
  {
   "cell_type": "code",
   "execution_count": 39,
   "id": "19669691",
   "metadata": {},
   "outputs": [
    {
     "data": {
      "text/plain": [
       "' '"
      ]
     },
     "execution_count": 39,
     "metadata": {},
     "output_type": "execute_result"
    }
   ],
   "source": [
    "# 'min(tuple_name)' returns the element that comes first when sorted in ascending/lexicographical order, i.e., the ASCII values of the characters\n",
    "\n",
    "min(t3)"
   ]
  },
  {
   "cell_type": "code",
   "execution_count": null,
   "id": "77035442",
   "metadata": {},
   "outputs": [],
   "source": []
  },
  {
   "cell_type": "code",
   "execution_count": 44,
   "id": "848de383",
   "metadata": {},
   "outputs": [
    {
     "name": "stdout",
     "output_type": "stream",
     "text": [
      "(1, 2, 3)\n"
     ]
    }
   ],
   "source": [
    "my_list = [1, 2, 3]\n",
    "print(tuple(my_list)) # 'tuple(sequence)' returns a tuple by converting the sequence(like list) into a tuple"
   ]
  },
  {
   "cell_type": "code",
   "execution_count": null,
   "id": "683eb066",
   "metadata": {},
   "outputs": [],
   "source": []
  },
  {
   "cell_type": "markdown",
   "id": "c0ba463e",
   "metadata": {},
   "source": [
    "## <span style = \"text-decoration : underline ;\" >Tuple Operations</span>"
   ]
  },
  {
   "cell_type": "markdown",
   "id": "2fa8d635",
   "metadata": {},
   "source": [
    "### Tuple concatenations and replications using '+' and '*' operators respectively."
   ]
  },
  {
   "cell_type": "code",
   "execution_count": 45,
   "id": "fa64f1bf",
   "metadata": {},
   "outputs": [
    {
     "data": {
      "text/plain": [
       "(1, 2, 5, 1, True, 4, 1, 0, 1, 'a', 'x', 'b', 'H', ' ')"
      ]
     },
     "execution_count": 45,
     "metadata": {},
     "output_type": "execute_result"
    }
   ],
   "source": [
    "t2 + t3"
   ]
  },
  {
   "cell_type": "code",
   "execution_count": 46,
   "id": "3956c3c3",
   "metadata": {},
   "outputs": [
    {
     "data": {
      "text/plain": [
       "(1, 2, 5, 1, True, 4, 1, 0, 1, 1, 2, 5, 1, True, 4, 1, 0, 1)"
      ]
     },
     "execution_count": 46,
     "metadata": {},
     "output_type": "execute_result"
    }
   ],
   "source": [
    "t1 + t2"
   ]
  },
  {
   "cell_type": "code",
   "execution_count": 47,
   "id": "ed358d7b",
   "metadata": {},
   "outputs": [
    {
     "data": {
      "text/plain": [
       "('a', 'x', 'b', 'H', ' ', 'a', 'x', 'b', 'H', ' ')"
      ]
     },
     "execution_count": 47,
     "metadata": {},
     "output_type": "execute_result"
    }
   ],
   "source": [
    "t3 * 2"
   ]
  },
  {
   "cell_type": "code",
   "execution_count": null,
   "id": "2feaeaec",
   "metadata": {},
   "outputs": [],
   "source": []
  },
  {
   "cell_type": "code",
   "execution_count": 52,
   "id": "fa269630",
   "metadata": {},
   "outputs": [
    {
     "name": "stdout",
     "output_type": "stream",
     "text": [
      "(1.0, 2.0)\n"
     ]
    }
   ],
   "source": [
    "t4 = (1.0, 2.0)\n",
    "print(t4)"
   ]
  },
  {
   "cell_type": "code",
   "execution_count": 53,
   "id": "90670f67",
   "metadata": {},
   "outputs": [
    {
     "ename": "NameError",
     "evalue": "name 't4' is not defined",
     "output_type": "error",
     "traceback": [
      "\u001b[1;31m---------------------------------------------------------------------------\u001b[0m",
      "\u001b[1;31mNameError\u001b[0m                                 Traceback (most recent call last)",
      "\u001b[1;32m~\\AppData\\Local\\Temp\\ipykernel_6624\\3333984712.py\u001b[0m in \u001b[0;36m<module>\u001b[1;34m\u001b[0m\n\u001b[0;32m      1\u001b[0m \u001b[1;32mdel\u001b[0m \u001b[0mt4\u001b[0m\u001b[1;33m\u001b[0m\u001b[1;33m\u001b[0m\u001b[0m\n\u001b[0;32m      2\u001b[0m \u001b[1;33m\u001b[0m\u001b[0m\n\u001b[1;32m----> 3\u001b[1;33m \u001b[0mprint\u001b[0m\u001b[1;33m(\u001b[0m\u001b[0mt4\u001b[0m\u001b[1;33m)\u001b[0m \u001b[1;31m# del keyword is used to delete objects, which can include variables, elements in a list, attributes of an object, etc..\u001b[0m\u001b[1;33m\u001b[0m\u001b[1;33m\u001b[0m\u001b[0m\n\u001b[0m",
      "\u001b[1;31mNameError\u001b[0m: name 't4' is not defined"
     ]
    }
   ],
   "source": [
    "del t4\n",
    "\n",
    "print(t4) # del keyword is used to delete objects, which can include variables, elements in a list, attributes of an object, etc.."
   ]
  },
  {
   "cell_type": "code",
   "execution_count": null,
   "id": "f9de6d07",
   "metadata": {},
   "outputs": [],
   "source": []
  },
  {
   "cell_type": "markdown",
   "id": "26987fea",
   "metadata": {},
   "source": [
    "## <span style = \"text-decoration : underline ;\" >Tuples are hashable</span>"
   ]
  },
  {
   "cell_type": "markdown",
   "id": "f70cf25f",
   "metadata": {},
   "source": [
    "### In Python, an object is considered hashable if it has a hash value that remains constant during its lifetime. A hash value is a numerical representation of an object that allows Python to quickly look up objects in data structures like dictionaries and sets. \n",
    "### Tuples are hashable because they are immutable. Once a tuple is created, its elements can't be changed. This immutability ensures that the hash value of a tuple remains constant throughout its lifetime."
   ]
  },
  {
   "cell_type": "markdown",
   "id": "1b302857",
   "metadata": {},
   "source": [
    "### <span style = \"text-decoration : underline ;\" >'hash(object)'</span> function in Python is used to generate a unique hash value for an object. This value is a unique integer associated with that object. It is not a pre-existing value, but rather, it is calculated by Python based on the object's properties. Multiple calls to 'hash()' function on the same object will return the same hash value, as long as the object's state remains unchanged. This is because the hash value is derived from the object's internal state."
   ]
  },
  {
   "cell_type": "code",
   "execution_count": 48,
   "id": "ec7a15d2",
   "metadata": {},
   "outputs": [
    {
     "name": "stdout",
     "output_type": "stream",
     "text": [
      "170142468860410637\n"
     ]
    }
   ],
   "source": [
    "t5 = ('Hello', 'World')\n",
    "print(hash(t3))"
   ]
  },
  {
   "cell_type": "code",
   "execution_count": 49,
   "id": "9518387d",
   "metadata": {},
   "outputs": [
    {
     "name": "stdout",
     "output_type": "stream",
     "text": [
      "1612666151453796110\n"
     ]
    }
   ],
   "source": [
    "t6 = (89, 2.12) # Negative hash values are also a thing\n",
    "print(hash(t4))"
   ]
  },
  {
   "cell_type": "markdown",
   "id": "b6110c7d",
   "metadata": {},
   "source": [
    "### Because of their immutability and hashability tuples can be used as keys in dictionaries or as elements in sets.\n",
    "\n",
    "### When a tuple is used as a key in a dictionary, the entire tuple is treated as a single element. The number of elements within the tuple doesn't affect its use as a key, because, the entire tuple is used to calculate the hash value, and that hash value is what determines the position of the key-value pair in the dictionary's internal data structure."
   ]
  },
  {
   "cell_type": "code",
   "execution_count": 55,
   "id": "5dfbcde2",
   "metadata": {},
   "outputs": [
    {
     "name": "stdout",
     "output_type": "stream",
     "text": [
      "{(1, 2): 'A Tuple'}\n"
     ]
    }
   ],
   "source": [
    "d = {\n",
    "    (1, 2) : 'A Tuple'\n",
    "}\n",
    "\n",
    "print(d)"
   ]
  },
  {
   "cell_type": "code",
   "execution_count": 56,
   "id": "5c1bdd3f",
   "metadata": {},
   "outputs": [
    {
     "name": "stdout",
     "output_type": "stream",
     "text": [
      "((1, 2), (2, 3))\n"
     ]
    }
   ],
   "source": [
    "s = ((1, 2), (2,3))\n",
    "print(s)"
   ]
  },
  {
   "cell_type": "code",
   "execution_count": null,
   "id": "a4c02c39",
   "metadata": {},
   "outputs": [],
   "source": []
  }
 ],
 "metadata": {
  "kernelspec": {
   "display_name": "Python 3 (ipykernel)",
   "language": "python",
   "name": "python3"
  },
  "language_info": {
   "codemirror_mode": {
    "name": "ipython",
    "version": 3
   },
   "file_extension": ".py",
   "mimetype": "text/x-python",
   "name": "python",
   "nbconvert_exporter": "python",
   "pygments_lexer": "ipython3",
   "version": "3.9.13"
  }
 },
 "nbformat": 4,
 "nbformat_minor": 5
}
