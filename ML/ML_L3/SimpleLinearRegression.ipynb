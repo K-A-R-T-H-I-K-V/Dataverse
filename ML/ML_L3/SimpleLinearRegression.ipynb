{
 "cells": [
  {
   "cell_type": "code",
   "execution_count": 1,
   "id": "fbfd5065-5d8e-4988-9e99-631fae0332d9",
   "metadata": {},
   "outputs": [
    {
     "data": {
      "text/html": [
       "<div>\n",
       "<style scoped>\n",
       "    .dataframe tbody tr th:only-of-type {\n",
       "        vertical-align: middle;\n",
       "    }\n",
       "\n",
       "    .dataframe tbody tr th {\n",
       "        vertical-align: top;\n",
       "    }\n",
       "\n",
       "    .dataframe thead th {\n",
       "        text-align: right;\n",
       "    }\n",
       "</style>\n",
       "<table border=\"1\" class=\"dataframe\">\n",
       "  <thead>\n",
       "    <tr style=\"text-align: right;\">\n",
       "      <th></th>\n",
       "      <th>Weight</th>\n",
       "      <th>Height</th>\n",
       "    </tr>\n",
       "  </thead>\n",
       "  <tbody>\n",
       "    <tr>\n",
       "      <th>0</th>\n",
       "      <td>45</td>\n",
       "      <td>120</td>\n",
       "    </tr>\n",
       "    <tr>\n",
       "      <th>1</th>\n",
       "      <td>58</td>\n",
       "      <td>135</td>\n",
       "    </tr>\n",
       "    <tr>\n",
       "      <th>2</th>\n",
       "      <td>48</td>\n",
       "      <td>123</td>\n",
       "    </tr>\n",
       "    <tr>\n",
       "      <th>3</th>\n",
       "      <td>60</td>\n",
       "      <td>145</td>\n",
       "    </tr>\n",
       "    <tr>\n",
       "      <th>4</th>\n",
       "      <td>70</td>\n",
       "      <td>160</td>\n",
       "    </tr>\n",
       "    <tr>\n",
       "      <th>5</th>\n",
       "      <td>78</td>\n",
       "      <td>162</td>\n",
       "    </tr>\n",
       "    <tr>\n",
       "      <th>6</th>\n",
       "      <td>80</td>\n",
       "      <td>163</td>\n",
       "    </tr>\n",
       "    <tr>\n",
       "      <th>7</th>\n",
       "      <td>90</td>\n",
       "      <td>175</td>\n",
       "    </tr>\n",
       "    <tr>\n",
       "      <th>8</th>\n",
       "      <td>95</td>\n",
       "      <td>182</td>\n",
       "    </tr>\n",
       "    <tr>\n",
       "      <th>9</th>\n",
       "      <td>78</td>\n",
       "      <td>170</td>\n",
       "    </tr>\n",
       "    <tr>\n",
       "      <th>10</th>\n",
       "      <td>82</td>\n",
       "      <td>176</td>\n",
       "    </tr>\n",
       "    <tr>\n",
       "      <th>11</th>\n",
       "      <td>95</td>\n",
       "      <td>182</td>\n",
       "    </tr>\n",
       "    <tr>\n",
       "      <th>12</th>\n",
       "      <td>105</td>\n",
       "      <td>175</td>\n",
       "    </tr>\n",
       "    <tr>\n",
       "      <th>13</th>\n",
       "      <td>100</td>\n",
       "      <td>183</td>\n",
       "    </tr>\n",
       "    <tr>\n",
       "      <th>14</th>\n",
       "      <td>85</td>\n",
       "      <td>170</td>\n",
       "    </tr>\n",
       "    <tr>\n",
       "      <th>15</th>\n",
       "      <td>78</td>\n",
       "      <td>177</td>\n",
       "    </tr>\n",
       "    <tr>\n",
       "      <th>16</th>\n",
       "      <td>50</td>\n",
       "      <td>140</td>\n",
       "    </tr>\n",
       "    <tr>\n",
       "      <th>17</th>\n",
       "      <td>65</td>\n",
       "      <td>159</td>\n",
       "    </tr>\n",
       "    <tr>\n",
       "      <th>18</th>\n",
       "      <td>76</td>\n",
       "      <td>150</td>\n",
       "    </tr>\n",
       "    <tr>\n",
       "      <th>19</th>\n",
       "      <td>87</td>\n",
       "      <td>167</td>\n",
       "    </tr>\n",
       "    <tr>\n",
       "      <th>20</th>\n",
       "      <td>45</td>\n",
       "      <td>129</td>\n",
       "    </tr>\n",
       "    <tr>\n",
       "      <th>21</th>\n",
       "      <td>56</td>\n",
       "      <td>140</td>\n",
       "    </tr>\n",
       "    <tr>\n",
       "      <th>22</th>\n",
       "      <td>72</td>\n",
       "      <td>160</td>\n",
       "    </tr>\n",
       "  </tbody>\n",
       "</table>\n",
       "</div>"
      ],
      "text/plain": [
       "    Weight  Height\n",
       "0       45     120\n",
       "1       58     135\n",
       "2       48     123\n",
       "3       60     145\n",
       "4       70     160\n",
       "5       78     162\n",
       "6       80     163\n",
       "7       90     175\n",
       "8       95     182\n",
       "9       78     170\n",
       "10      82     176\n",
       "11      95     182\n",
       "12     105     175\n",
       "13     100     183\n",
       "14      85     170\n",
       "15      78     177\n",
       "16      50     140\n",
       "17      65     159\n",
       "18      76     150\n",
       "19      87     167\n",
       "20      45     129\n",
       "21      56     140\n",
       "22      72     160"
      ]
     },
     "execution_count": 1,
     "metadata": {},
     "output_type": "execute_result"
    }
   ],
   "source": [
    "import pandas as pd\n",
    "import matplotlib.pyplot as plt\n",
    "import numpy as np\n",
    "%matplotlib inline\n",
    "\n",
    "# Read the dataset\n",
    "df = pd.read_csv('height-weight.csv')\n",
    "df"
   ]
  },
  {
   "cell_type": "code",
   "execution_count": 2,
   "id": "599d477c-7b4e-46ee-a4b2-8514bbfb5e30",
   "metadata": {},
   "outputs": [
    {
     "data": {
      "text/plain": [
       "Text(0, 0.5, 'Height')"
      ]
     },
     "execution_count": 2,
     "metadata": {},
     "output_type": "execute_result"
    },
    {
     "data": {
      "image/png": "[encoded data removed]",
      "text/plain": [
       "<Figure size 640x480 with 1 Axes>"
      ]
     },
     "metadata": {},
     "output_type": "display_data"
    }
   ],
   "source": [
    "plt.scatter(df['Weight'], df['Height'])\n",
    "plt.xlabel('Weight')\n",
    "plt.ylabel('Height')"
   ]
  },
  {
   "cell_type": "code",
   "execution_count": 5,
   "id": "2b264a1a-19ff-4c28-8aad-62da621c01b9",
   "metadata": {},
   "outputs": [],
   "source": [
    "# 1. Divide the dataset into dependent and independent features\n",
    "X = df[['Weight']] # Independent features\n",
    "y = df[['Height']] # dependent feature"
   ]
  },
  {
   "cell_type": "markdown",
   "id": "a1ca0f38-f33c-4687-99c8-4a06be93ed4e",
   "metadata": {},
   "source": [
    "'train_test_Split' : Split arrays or matrices into random train and test subsets."
   ]
  },
  {
   "cell_type": "code",
   "execution_count": 9,
   "id": "5a466c53-24d6-4f7c-a8d1-2c04546a4c6b",
   "metadata": {},
   "outputs": [
    {
     "name": "stdout",
     "output_type": "stream",
     "text": [
      "Before splitting: (23, 1)\n",
      "After Splitting 20% of X data points: (18, 1) (5, 1) (18, 1) (5, 1)\n"
     ]
    }
   ],
   "source": [
    "# 2. Train Split Test\n",
    "from sklearn.model_selection import train_test_split\n",
    "\n",
    "print('Before splitting:', X.shape)\n",
    "X_train, X_test, y_train, y_test = train_test_split(X, y, test_size = 0.20, random_state = 42) # 20 % of total data from X will be taken as test data\n",
    "print('After Splitting 20% of X data points:', X_train.shape, X_test.shape, y_train.shape, y_test.shape) # splits 20% of data from X and placed in X_test variable"
   ]
  },
  {
   "cell_type": "markdown",
   "id": "232a5400-1b2e-4379-b787-5f865474b163",
   "metadata": {},
   "source": [
    "'random_state' : \n",
    "Whenever randomization is part of a Scikit-learn algorithm, a random_state parameter may be provided to control the random number generator used."
   ]
  },
  {
   "cell_type": "code",
   "execution_count": 5,
   "id": "d4d1f86f-8eec-4fd4-bb01-87ef7d6cf405",
   "metadata": {},
   "outputs": [
    {
     "data": {
      "text/plain": [
       "<matplotlib.collections.PathCollection at 0x1be03634110>"
      ]
     },
     "execution_count": 5,
     "metadata": {},
     "output_type": "execute_result"
    },
    {
     "data": {
      "image/png": "[encoded data removed]",
      "text/plain": [
       "<Figure size 640x480 with 1 Axes>"
      ]
     },
     "metadata": {},
     "output_type": "display_data"
    }
   ],
   "source": [
    "# 3. Standardize the dataset (Scaling down dataset to reach optimal minimum quicker)\n",
    "from sklearn.preprocessing import StandardScaler\n",
    "scaler = StandardScaler()\n",
    "X_train = scaler.fit_transform(X_train)\n",
    "X_test = scaler.transform(X_test) # just transform, the model SHOULD HAVE NO IDEA about the test data\n",
    "\n",
    "plt.scatter(X_train, y_train)"
   ]
  },
  {
   "cell_type": "markdown",
   "id": "1e84d518-40cb-4215-9f00-3f3f22b8b2a0",
   "metadata": {},
   "source": [
    "#### Standardize features by removing the mean and scaling to unit variance. The standard score of a sample x is calculated as:\n",
    "### z = (x - u) / s\n",
    "#### where u is the mean of the training samples or zero if with_mean=False, and s is the standard deviation of the training samples or one if with_std=False"
   ]
  },
  {
   "cell_type": "code",
   "execution_count": 14,
   "id": "89dd4087-f55e-4f3d-995c-ffa56b1d82f3",
   "metadata": {},
   "outputs": [
    {
     "data": {
      "text/html": [
       "<style>#sk-container-id-2 {color: black;background-color: white;}#sk-container-id-2 pre{padding: 0;}#sk-container-id-2 div.sk-toggleable {background-color: white;}#sk-container-id-2 label.sk-toggleable__label {cursor: pointer;display: block;width: 100%;margin-bottom: 0;padding: 0.3em;box-sizing: border-box;text-align: center;}#sk-container-id-2 label.sk-toggleable__label-arrow:before {content: \"▸\";float: left;margin-right: 0.25em;color: #696969;}#sk-container-id-2 label.sk-toggleable__label-arrow:hover:before {color: black;}#sk-container-id-2 div.sk-estimator:hover label.sk-toggleable__label-arrow:before {color: black;}#sk-container-id-2 div.sk-toggleable__content {max-height: 0;max-width: 0;overflow: hidden;text-align: left;background-color: #f0f8ff;}#sk-container-id-2 div.sk-toggleable__content pre {margin: 0.2em;color: black;border-radius: 0.25em;background-color: #f0f8ff;}#sk-container-id-2 input.sk-toggleable__control:checked~div.sk-toggleable__content {max-height: 200px;max-width: 100%;overflow: auto;}#sk-container-id-2 input.sk-toggleable__control:checked~label.sk-toggleable__label-arrow:before {content: \"▾\";}#sk-container-id-2 div.sk-estimator input.sk-toggleable__control:checked~label.sk-toggleable__label {background-color: #d4ebff;}#sk-container-id-2 div.sk-label input.sk-toggleable__control:checked~label.sk-toggleable__label {background-color: #d4ebff;}#sk-container-id-2 input.sk-hidden--visually {border: 0;clip: rect(1px 1px 1px 1px);clip: rect(1px, 1px, 1px, 1px);height: 1px;margin: -1px;overflow: hidden;padding: 0;position: absolute;width: 1px;}#sk-container-id-2 div.sk-estimator {font-family: monospace;background-color: #f0f8ff;border: 1px dotted black;border-radius: 0.25em;box-sizing: border-box;margin-bottom: 0.5em;}#sk-container-id-2 div.sk-estimator:hover {background-color: #d4ebff;}#sk-container-id-2 div.sk-parallel-item::after {content: \"\";width: 100%;border-bottom: 1px solid gray;flex-grow: 1;}#sk-container-id-2 div.sk-label:hover label.sk-toggleable__label {background-color: #d4ebff;}#sk-container-id-2 div.sk-serial::before {content: \"\";position: absolute;border-left: 1px solid gray;box-sizing: border-box;top: 0;bottom: 0;left: 50%;z-index: 0;}#sk-container-id-2 div.sk-serial {display: flex;flex-direction: column;align-items: center;background-color: white;padding-right: 0.2em;padding-left: 0.2em;position: relative;}#sk-container-id-2 div.sk-item {position: relative;z-index: 1;}#sk-container-id-2 div.sk-parallel {display: flex;align-items: stretch;justify-content: center;background-color: white;position: relative;}#sk-container-id-2 div.sk-item::before, #sk-container-id-2 div.sk-parallel-item::before {content: \"\";position: absolute;border-left: 1px solid gray;box-sizing: border-box;top: 0;bottom: 0;left: 50%;z-index: -1;}#sk-container-id-2 div.sk-parallel-item {display: flex;flex-direction: column;z-index: 1;position: relative;background-color: white;}#sk-container-id-2 div.sk-parallel-item:first-child::after {align-self: flex-end;width: 50%;}#sk-container-id-2 div.sk-parallel-item:last-child::after {align-self: flex-start;width: 50%;}#sk-container-id-2 div.sk-parallel-item:only-child::after {width: 0;}#sk-container-id-2 div.sk-dashed-wrapped {border: 1px dashed gray;margin: 0 0.4em 0.5em 0.4em;box-sizing: border-box;padding-bottom: 0.4em;background-color: white;}#sk-container-id-2 div.sk-label label {font-family: monospace;font-weight: bold;display: inline-block;line-height: 1.2em;}#sk-container-id-2 div.sk-label-container {text-align: center;}#sk-container-id-2 div.sk-container {/* jupyter's `normalize.less` sets `[hidden] { display: none; }` but bootstrap.min.css set `[hidden] { display: none !important; }` so we also need the `!important` here to be able to override the default hidden behavior on the sphinx rendered scikit-learn.org. See: https://github.com/scikit-learn/scikit-learn/issues/21755 */display: inline-block !important;position: relative;}#sk-container-id-2 div.sk-text-repr-fallback {display: none;}</style><div id=\"sk-container-id-2\" class=\"sk-top-container\"><div class=\"sk-text-repr-fallback\"><pre>LinearRegression()</pre><b>In a Jupyter environment, please rerun this cell to show the HTML representation or trust the notebook. <br />On GitHub, the HTML representation is unable to render, please try loading this page with nbviewer.org.</b></div><div class=\"sk-container\" hidden><div class=\"sk-item\"><div class=\"sk-estimator sk-toggleable\"><input class=\"sk-toggleable__control sk-hidden--visually\" id=\"sk-estimator-id-2\" type=\"checkbox\" checked><label for=\"sk-estimator-id-2\" class=\"sk-toggleable__label sk-toggleable__label-arrow\">LinearRegression</label><div class=\"sk-toggleable__content\"><pre>LinearRegression()</pre></div></div></div></div></div>"
      ],
      "text/plain": [
       "LinearRegression()"
      ]
     },
     "execution_count": 14,
     "metadata": {},
     "output_type": "execute_result"
    }
   ],
   "source": [
    "# 4. Training the Simple Linear Regression Model\n",
    "from sklearn.linear_model import LinearRegression\n",
    "regressor = LinearRegression()\n",
    "regressor.fit(X_train, y_train)"
   ]
  },
  {
   "cell_type": "code",
   "execution_count": 16,
   "id": "ec422107-60cc-444a-84a5-ae5dd46d7707",
   "metadata": {},
   "outputs": [
    {
     "name": "stdout",
     "output_type": "stream",
     "text": [
      "The slope or coefficient of weight: [[0.9630459]]\n",
      "Intercept [85.96709053]\n"
     ]
    },
    {
     "data": {
      "text/plain": [
       "[<matplotlib.lines.Line2D at 0x2654ed703d0>]"
      ]
     },
     "execution_count": 16,
     "metadata": {},
     "output_type": "execute_result"
    },
    {
     "data": {
      "image/png": "[encoded data removed]",
      "text/plain": [
       "<Figure size 640x480 with 1 Axes>"
      ]
     },
     "metadata": {},
     "output_type": "display_data"
    }
   ],
   "source": [
    "print('The slope or coefficient of weight:', regressor.coef_)\n",
    "print('Intercept', regressor.intercept_)\n",
    "\n",
    "plt.scatter(X_train, y_train)\n",
    "plt.plot(X_train, regressor.predict(X_train), 'r') # Best fit line"
   ]
  },
  {
   "cell_type": "markdown",
   "id": "d42ef5ce-1870-4985-b3a9-cdaf492421b4",
   "metadata": {},
   "source": [
    "## Prediction of train data\n",
    "1. Predicted Height Output = intercept + coef_(Weights)\n",
    "2. y_pred_train = 157.5 + 17.03(X_train)\n",
    "\n",
    "## Prediction of test data\n",
    "1. Predicted Height Output = intercept + coef_(Weights)\n",
    "2. y_pred_test = 157.5 + 17.03(X_test)"
   ]
  },
  {
   "cell_type": "code",
   "execution_count": 18,
   "id": "8112032e-9a35-4a7c-8ada-f569814931d4",
   "metadata": {},
   "outputs": [
    {
     "data": {
      "text/plain": [
       "(array([[161.08467086],\n",
       "        [161.08467086],\n",
       "        [129.3041561 ],\n",
       "        [177.45645118],\n",
       "        [148.56507414]]),\n",
       "     Height\n",
       " 15     177\n",
       " 9      170\n",
       " 0      120\n",
       " 8      182\n",
       " 17     159)"
      ]
     },
     "execution_count": 18,
     "metadata": {},
     "output_type": "execute_result"
    }
   ],
   "source": [
    "y_pred_test = regressor.predict(X_test)\n",
    "y_pred_test, y_test"
   ]
  },
  {
   "cell_type": "code",
   "execution_count": 20,
   "id": "c894099c-7495-4521-ab6a-58915f3618e2",
   "metadata": {},
   "outputs": [
    {
     "data": {
      "text/plain": [
       "[<matplotlib.lines.Line2D at 0x2654c0391d0>]"
      ]
     },
     "execution_count": 20,
     "metadata": {},
     "output_type": "execute_result"
    },
    {
     "data": {
      "image/png": "[encoded data removed]",
      "text/plain": [
       "<Figure size 640x480 with 1 Axes>"
      ]
     },
     "metadata": {},
     "output_type": "display_data"
    }
   ],
   "source": [
    "plt.scatter(X_test, y_test)\n",
    "plt.plot(X_test, regressor.predict(X_test), 'r') # Best fit line"
   ]
  },
  {
   "cell_type": "code",
   "execution_count": 14,
   "id": "841ee3b7-a7ec-466f-86e9-aaf168076469",
   "metadata": {},
   "outputs": [
    {
     "name": "stdout",
     "output_type": "stream",
     "text": [
      "MSE: 109.77592599051664 \n",
      "MAE: 9.822657814519232 \n",
      "RMSE: 10.477400726827081\n"
     ]
    }
   ],
   "source": [
    "# 5. Performance Matrix\n",
    "# Calculating MSE, MAE, RMSE\n",
    "# R Squared, Adjusted R Squared\n",
    "\n",
    "from sklearn.metrics import mean_squared_error, mean_absolute_error\n",
    "\n",
    "mse = mean_squared_error(y_test, y_pred_test)\n",
    "mae = mean_absolute_error(y_test, y_pred_test)\n",
    "rmse = np.sqrt(mse)\n",
    "\n",
    "print('MSE:', mse, '\\nMAE:', mae, '\\nRMSE:', rmse)"
   ]
  },
  {
   "cell_type": "markdown",
   "id": "b32510e2-e58f-4b14-97d7-ba828fb0de3b",
   "metadata": {},
   "source": [
    "## R Square\n",
    "R^2 = 1 - SSR / SST\n",
    "<Br>R^2: Coefficient of determination\n",
    "<br>SSR: Sum Of Sqaures of Residuals\n",
    "<br>SST: Total sum of squares"
   ]
  },
  {
   "cell_type": "markdown",
   "id": "fd6a70ce-2d17-42dd-af44-2fc1a4a17d5a",
   "metadata": {},
   "source": [
    "## Adjusted R Sqaure\n",
    "Adjusted R2 = 1 - [(1 - R2) * (n - 1) / (n - k - 1)]\n",
    "<Br> where:\n",
    "<br> R2 : The R2 of the model\n",
    "<br> n: The number of observations\n",
    "<br>k: The number of predictor variables"
   ]
  },
  {
   "cell_type": "code",
   "execution_count": 17,
   "id": "10586453-0e89-49aa-aae8-8fc32f321163",
   "metadata": {},
   "outputs": [
    {
     "name": "stdout",
     "output_type": "stream",
     "text": [
      "Accuracy: 0.776986986042344\n"
     ]
    }
   ],
   "source": [
    "from sklearn.metrics import r2_score\n",
    "\n",
    "score = r2_score(y_test, y_pred_test)\n",
    "print('Accuracy:', score) # R Sqaure"
   ]
  },
  {
   "cell_type": "code",
   "execution_count": 18,
   "id": "9d364090-e9d1-4563-a3d5-68ffa9e31df5",
   "metadata": {},
   "outputs": [
    {
     "name": "stdout",
     "output_type": "stream",
     "text": [
      "Adjusted R Sqaure 0.7026493147231252\n"
     ]
    }
   ],
   "source": [
    "adjusted_r2 = 1 - (1 - score) * (len(y_test) - 1) / (len(y_test) - X_test.shape[1] - 1)\n",
    "print('Adjusted R Sqaure', adjusted_r2)"
   ]
  },
  {
   "cell_type": "code",
   "execution_count": 19,
   "id": "61df0231-7e87-4fe3-8eee-c707802bfc35",
   "metadata": {},
   "outputs": [
    {
     "name": "stdout",
     "output_type": "stream",
     "text": [
      "Scaled WEIGHT:  [[0.32350772]]\n",
      "Height prediction for weight 80: [[163.01076266]]\n"
     ]
    },
    {
     "name": "stderr",
     "output_type": "stream",
     "text": [
      "C:\\Users\\karth\\anaconda3\\Lib\\site-packages\\sklearn\\base.py:439: UserWarning: X does not have valid feature names, but StandardScaler was fitted with feature names\n",
      "  warnings.warn(\n"
     ]
    }
   ],
   "source": [
    "## New data point, weight = 80\n",
    "\n",
    "scaled_weight = scaler.transform([[80]])\n",
    "print('Scaled WEIGHT: ', scaled_weight)\n",
    "print('Height prediction for weight 80:', regressor.predict([scaled_weight[0]]))"
   ]
  },
  {
   "cell_type": "code",
   "execution_count": 20,
   "id": "816deca1-70df-47f8-b1ed-2f1dba708c7f",
   "metadata": {},
   "outputs": [
    {
     "data": {
      "text/plain": [
       "<matplotlib.collections.PathCollection at 0x1be0447ea50>"
      ]
     },
     "execution_count": 20,
     "metadata": {},
     "output_type": "execute_result"
    },
    {
     "data": {
      "image/png": "[encoded data removed]",
      "text/plain": [
       "<Figure size 640x480 with 1 Axes>"
      ]
     },
     "metadata": {},
     "output_type": "display_data"
    }
   ],
   "source": [
    "# Assumptions\n",
    "\n",
    "# Plot a scatter plot for prediction\n",
    "plt.scatter(y_test, y_pred_test)"
   ]
  },
  {
   "cell_type": "code",
   "execution_count": 21,
   "id": "38c5559c-a192-47d5-947b-b97f5fb021da",
   "metadata": {},
   "outputs": [
    {
     "data": {
      "text/html": [
       "<div>\n",
       "<style scoped>\n",
       "    .dataframe tbody tr th:only-of-type {\n",
       "        vertical-align: middle;\n",
       "    }\n",
       "\n",
       "    .dataframe tbody tr th {\n",
       "        vertical-align: top;\n",
       "    }\n",
       "\n",
       "    .dataframe thead th {\n",
       "        text-align: right;\n",
       "    }\n",
       "</style>\n",
       "<table border=\"1\" class=\"dataframe\">\n",
       "  <thead>\n",
       "    <tr style=\"text-align: right;\">\n",
       "      <th></th>\n",
       "      <th>Height</th>\n",
       "    </tr>\n",
       "  </thead>\n",
       "  <tbody>\n",
       "    <tr>\n",
       "      <th>15</th>\n",
       "      <td>15.915329</td>\n",
       "    </tr>\n",
       "    <tr>\n",
       "      <th>9</th>\n",
       "      <td>8.915329</td>\n",
       "    </tr>\n",
       "    <tr>\n",
       "      <th>0</th>\n",
       "      <td>-9.304156</td>\n",
       "    </tr>\n",
       "    <tr>\n",
       "      <th>8</th>\n",
       "      <td>4.543549</td>\n",
       "    </tr>\n",
       "    <tr>\n",
       "      <th>17</th>\n",
       "      <td>10.434926</td>\n",
       "    </tr>\n",
       "  </tbody>\n",
       "</table>\n",
       "</div>"
      ],
      "text/plain": [
       "       Height\n",
       "15  15.915329\n",
       "9    8.915329\n",
       "0   -9.304156\n",
       "8    4.543549\n",
       "17  10.434926"
      ]
     },
     "execution_count": 21,
     "metadata": {},
     "output_type": "execute_result"
    }
   ],
   "source": [
    "# Residuals\n",
    "\n",
    "residuals = y_test - y_pred_test\n",
    "residuals"
   ]
  },
  {
   "cell_type": "code",
   "execution_count": 22,
   "id": "e063f197-1b66-4766-bf7d-ad763fe0b01d",
   "metadata": {},
   "outputs": [
    {
     "name": "stderr",
     "output_type": "stream",
     "text": [
      "C:\\Users\\karth\\AppData\\Local\\Temp\\ipykernel_19484\\880828886.py:4: UserWarning: \n",
      "\n",
      "`distplot` is a deprecated function and will be removed in seaborn v0.14.0.\n",
      "\n",
      "Please adapt your code to use either `displot` (a figure-level function with\n",
      "similar flexibility) or `histplot` (an axes-level function for histograms).\n",
      "\n",
      "For a guide to updating your code to use the new functions, please see\n",
      "https://gist.github.com/mwaskom/de44147ed2974457ad6372750bbe5751\n",
      "\n",
      "  sns.distplot(residuals, kde='True')\n",
      "C:\\Users\\karth\\anaconda3\\Lib\\site-packages\\seaborn\\_oldcore.py:1119: FutureWarning: use_inf_as_na option is deprecated and will be removed in a future version. Convert inf values to NaN before operating instead.\n",
      "  with pd.option_context('mode.use_inf_as_na', True):\n"
     ]
    },
    {
     "data": {
      "text/plain": [
       "<Axes: ylabel='Density'>"
      ]
     },
     "execution_count": 22,
     "metadata": {},
     "output_type": "execute_result"
    },
    {
     "data": {
      "image/png": "[encoded data removed]",
      "text/plain": [
       "<Figure size 640x480 with 1 Axes>"
      ]
     },
     "metadata": {},
     "output_type": "display_data"
    }
   ],
   "source": [
    "# PLot residuals\n",
    "\n",
    "import seaborn as sns\n",
    "sns.distplot(residuals, kde='True')"
   ]
  },
  {
   "cell_type": "code",
   "execution_count": 23,
   "id": "e958443c-a4bc-46dc-95c9-fc5ccc81b8e8",
   "metadata": {},
   "outputs": [
    {
     "data": {
      "text/plain": [
       "<matplotlib.collections.PathCollection at 0x1be05926390>"
      ]
     },
     "execution_count": 23,
     "metadata": {},
     "output_type": "execute_result"
    },
    {
     "data": {
      "image/png": "[encoded data removed]",
      "text/plain": [
       "<Figure size 640x480 with 1 Axes>"
      ]
     },
     "metadata": {},
     "output_type": "display_data"
    }
   ],
   "source": [
    "# Scatter plot wrt prediction and residuals\n",
    "# uniform distribution\n",
    "\n",
    "plt.scatter(y_pred_test, residuals)"
   ]
  },
  {
   "cell_type": "code",
   "execution_count": null,
   "id": "1ec667b7-9676-4ab7-97b8-653d9bc96e94",
   "metadata": {},
   "outputs": [],
   "source": []
  }
 ],
 "metadata": {
  "kernelspec": {
   "display_name": "Python 3 (ipykernel)",
   "language": "python",
   "name": "python3"
  },
  "language_info": {
   "codemirror_mode": {
    "name": "ipython",
    "version": 3
   },
   "file_extension": ".py",
   "mimetype": "text/x-python",
   "name": "python",
   "nbconvert_exporter": "python",
   "pygments_lexer": "ipython3",
   "version": "3.11.7"
  }
 },
 "nbformat": 4,
 "nbformat_minor": 5
}
