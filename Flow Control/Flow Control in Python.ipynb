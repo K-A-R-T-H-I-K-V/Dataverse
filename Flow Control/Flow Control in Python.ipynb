{
 "cells": [
  {
   "cell_type": "markdown",
   "id": "608eacf6",
   "metadata": {},
   "source": [
    "# <span style = \"text-decoration : underline ;\" >Flow Control</span>\n",
    "\n",
    "### Flow control in Python refers to the order in which statements are executed in a program. Control here refers to the decision power."
   ]
  },
  {
   "cell_type": "markdown",
   "id": "99a564a1",
   "metadata": {},
   "source": [
    "## 1. <span style = \"text-decoration : underline ;\" >Sequential Execution</span>\n",
    "### The most straightforward type of flow control.. It simply implies that the code is executed in the order it's written, from top to bottom. This is the default behavior in most programming languages including PYTHON."
   ]
  },
  {
   "cell_type": "code",
   "execution_count": 1,
   "id": "a9ed14b6",
   "metadata": {},
   "outputs": [
    {
     "name": "stdout",
     "output_type": "stream",
     "text": [
      "College :  AMC\n",
      "Course :  CSE\n"
     ]
    }
   ],
   "source": [
    "# Example\n",
    "\n",
    "college = 'AMC'\n",
    "course = 'CSE'\n",
    "print('College : ', college)\n",
    "print('Course : ', course)"
   ]
  },
  {
   "cell_type": "markdown",
   "id": "771f8d5c",
   "metadata": {},
   "source": [
    "### The code executes in a sequential order, the variable 'college' is assigned the value 'AMC', and then 'course' is assigned the value 'CSE', and finally prints out the college and course."
   ]
  },
  {
   "cell_type": "markdown",
   "id": "ce177547",
   "metadata": {},
   "source": [
    "## 2. <span style = \"text-decoration : underline ;\" >Conditional Execution</span>\n",
    "### Also known as 'selection', allows your program to make decisions based on conditions. In python, this is primarily done using 'if', 'elif' and 'else' statements."
   ]
  },
  {
   "cell_type": "markdown",
   "id": "deaf9008",
   "metadata": {},
   "source": [
    "### (i) 'if' statement - The 'if' statement is used to perform an action only if a certain condition evaluates True. Otherwise, the code block associated with the 'if' statement is skipped."
   ]
  },
  {
   "cell_type": "code",
   "execution_count": 3,
   "id": "e8235bc0",
   "metadata": {},
   "outputs": [
    {
     "data": {
      "text/plain": [
       "' \\nIf block syntax\\nif expression:\\n    # block of code if condition is true'"
      ]
     },
     "execution_count": 3,
     "metadata": {},
     "output_type": "execute_result"
    }
   ],
   "source": [
    "# If block syntax\n",
    "\"\"\" \n",
    "if expression:\n",
    "    # block of code if condition is true\"\"\""
   ]
  },
  {
   "cell_type": "code",
   "execution_count": 9,
   "id": "522c05c5",
   "metadata": {},
   "outputs": [
    {
     "name": "stdout",
     "output_type": "stream",
     "text": [
      "Enter the time in units :67\n",
      "Failed coz your attitude\n"
     ]
    }
   ],
   "source": [
    "time = int(input('Enter the time in units :'))\n",
    "\n",
    "if time == 9 :\n",
    "    print('On time, zero marks deducted')\n",
    "if time > 9 and time <= 19 :\n",
    "    print('10 marks deducted for being late')\n",
    "if time > 19 and time <= 39 :\n",
    "    print('30 marks deducted for being too late!')\n",
    "if time > 39 :\n",
    "    print('Failed coz your attitude')\n",
    "    \n",
    "# In this way, each and every if condition is checked irrespective of whether the prior has already become true or not"
   ]
  },
  {
   "cell_type": "markdown",
   "id": "917068d9",
   "metadata": {},
   "source": [
    "### (ii) 'elif' statement - It is used to specify additional conditions to be checked if the initial 'if' condition evaluates to False. It stands for 'else if'.\n",
    "\n",
    "### (iii) 'else' statement - It is used to provide an alternative action if the 'if' condition and all 'elif' conditions are false. It doesn't require a condition, therefore acts as a default."
   ]
  },
  {
   "cell_type": "code",
   "execution_count": 8,
   "id": "bd1eb12f",
   "metadata": {},
   "outputs": [
    {
     "data": {
      "text/plain": [
       "'\\nif expression:\\n    # block of code if condition is True\\nelse:\\n    # block of code if condition is False'"
      ]
     },
     "execution_count": 8,
     "metadata": {},
     "output_type": "execute_result"
    }
   ],
   "source": [
    "# If-else syntax\n",
    "\"\"\"\n",
    "if expression:\n",
    "    # block of code if condition is True\n",
    "else:\n",
    "    # block of code if condition is False\"\"\""
   ]
  },
  {
   "cell_type": "code",
   "execution_count": 11,
   "id": "6e5af3a0",
   "metadata": {},
   "outputs": [
    {
     "name": "stdout",
     "output_type": "stream",
     "text": [
      "10 marks deducted for being late\n"
     ]
    }
   ],
   "source": [
    "time = 19\n",
    "\n",
    "if time == 9:\n",
    "    print('On time, dear!')\n",
    "else:\n",
    "    if time > 9 and time <= 19:\n",
    "        print('10 marks deducted for being late')\n",
    "    else:\n",
    "        if time > 19 and time <= 39:\n",
    "            print('30 marks deducted for being too late')\n",
    "        else:\n",
    "            if time > 39:\n",
    "                print('Failed bro, change your attitude')\n",
    "                \n",
    "# Simple looking code now is made more complex. \n",
    "# Though it is quite an improvement(performance-wise), the code is not clean."
   ]
  },
  {
   "cell_type": "markdown",
   "id": "042f59b4",
   "metadata": {},
   "source": [
    "### The first 'if' checks if 'time' is equal to 9. If true, it prints 'On time, dear!'.. otherwise, the control moves to the 'else' block, which contains another 'if-else' structure. This nested structure checks conditions in similar manner, but now within the else block."
   ]
  },
  {
   "cell_type": "code",
   "execution_count": null,
   "id": "c400e2a5",
   "metadata": {},
   "outputs": [],
   "source": []
  },
  {
   "cell_type": "code",
   "execution_count": 12,
   "id": "69de063d",
   "metadata": {},
   "outputs": [],
   "source": [
    "# if elif else Condition"
   ]
  },
  {
   "cell_type": "code",
   "execution_count": 13,
   "id": "b94f525b",
   "metadata": {},
   "outputs": [
    {
     "name": "stdout",
     "output_type": "stream",
     "text": [
      "Failed coz your attitude\n"
     ]
    }
   ],
   "source": [
    "time = 40\n",
    "\n",
    "if time == 9 :\n",
    "    print('On time, zero marks deducted')\n",
    "elif time > 9 and time <= 19 :\n",
    "    print('10 marks deducted for being late')\n",
    "elif time > 19 and time <= 39 :\n",
    "    print('30 marks deducted for being too late!')\n",
    "else :\n",
    "    print('Failed coz your attitude')\n",
    "    \n",
    "# NOTE :\n",
    "# ONLY one of the code blocks associated with 'if', 'elif', or 'else' will be executed,\n",
    "# based on the 1st condition that evaluates to True."
   ]
  },
  {
   "cell_type": "markdown",
   "id": "cc820c47",
   "metadata": {},
   "source": [
    "### In the above example, 'time' stores an integer value of 40, all the 'if' and 'elif' conditions are evaluated to false, so the 'else' block is executed."
   ]
  },
  {
   "cell_type": "code",
   "execution_count": null,
   "id": "6e3905f6",
   "metadata": {},
   "outputs": [],
   "source": []
  },
  {
   "cell_type": "markdown",
   "id": "a099b00b",
   "metadata": {},
   "source": [
    "## 3. <span style = \"text-decoration : underline ;\" >Repititive Execution</span> <span style = \"text-decoration : underline ;\" >(Iterative)</span>\n",
    "### This type allows you to execute a piece of code multiple times as long as a certain condition is met.\n",
    "\n",
    "### (i) 'for' loops - These are used when you know in advance how many times you want to execute a block of code. They are typically used for iterating over sequences like lists, tuples, or ranges."
   ]
  },
  {
   "cell_type": "code",
   "execution_count": 15,
   "id": "93ddb160",
   "metadata": {},
   "outputs": [
    {
     "data": {
      "text/plain": [
       "'\\nfor val in sequence:\\n    # statement(s)'"
      ]
     },
     "execution_count": 15,
     "metadata": {},
     "output_type": "execute_result"
    }
   ],
   "source": [
    "# For loop syntax\n",
    "\"\"\"\n",
    "for val in sequence:\n",
    "    # statement(s)\"\"\""
   ]
  },
  {
   "cell_type": "code",
   "execution_count": 6,
   "id": "e6dac0b1",
   "metadata": {},
   "outputs": [
    {
     "name": "stdout",
     "output_type": "stream",
     "text": [
      "Mango\n",
      "Cherry\n",
      "Ice Apple\n",
      "Papaya\n",
      "Sugar apple\n",
      "Banana\n"
     ]
    }
   ],
   "source": [
    "# Example 1\n",
    "\n",
    "fruit_list = ['Mango','Cherry','Ice Apple','Papaya','Sugar apple','Banana']\n",
    "\n",
    "# access items of a list using 'for' loop\n",
    "for i in fruit_list : # Each iteration i assumes value of an item in the list in an orderly manner\n",
    "    print(i)"
   ]
  },
  {
   "cell_type": "code",
   "execution_count": 19,
   "id": "c8a82899",
   "metadata": {},
   "outputs": [
    {
     "name": "stdout",
     "output_type": "stream",
     "text": [
      "0\n",
      "1\n",
      "2\n",
      "3\n"
     ]
    }
   ],
   "source": [
    "# Example 2\n",
    "\n",
    "# use of range(start, stop[, step]) to define a range of values\n",
    "values = range(0, 4) \n",
    "\n",
    "# iterate from i = 0 to i = 3\n",
    "for i in values:\n",
    "    print(i)"
   ]
  },
  {
   "cell_type": "code",
   "execution_count": 7,
   "id": "022af3fe",
   "metadata": {},
   "outputs": [
    {
     "name": "stdout",
     "output_type": "stream",
     "text": [
      "\n",
      "*\n",
      "**\n",
      "***\n"
     ]
    }
   ],
   "source": [
    "# Example 3\n",
    "\n",
    "values = range(0,4)\n",
    "\n",
    "# iterate from i = 0 to i = 3\n",
    "for i in values:\n",
    "    print('*' * i)"
   ]
  },
  {
   "cell_type": "code",
   "execution_count": 20,
   "id": "ba329a1e",
   "metadata": {},
   "outputs": [
    {
     "name": "stdout",
     "output_type": "stream",
     "text": [
      "0\n",
      "2\n",
      "4\n",
      "6\n"
     ]
    }
   ],
   "source": [
    "# Example 4\n",
    "\n",
    "# use of range(start, stop[, step]) to define a range of values\n",
    "values = range(0, 8, 2)\n",
    "\n",
    "# iterate from i = 0 to i = 8 with a step of 2\n",
    "for i in values:\n",
    "    print(i)"
   ]
  },
  {
   "cell_type": "code",
   "execution_count": 21,
   "id": "11d3b793",
   "metadata": {},
   "outputs": [],
   "source": [
    "# Python 'for' loop with 'else'"
   ]
  },
  {
   "cell_type": "code",
   "execution_count": 24,
   "id": "11c6a33c",
   "metadata": {},
   "outputs": [
    {
     "name": "stdout",
     "output_type": "stream",
     "text": [
      "0\n",
      "1\n",
      "5\n",
      "No items left.\n"
     ]
    },
    {
     "data": {
      "text/plain": [
       "'\\nA for loop can have an optional else block as well.\\nThe else part is executed when the loop is finished\\nThe else block is NOT executed if the for loop is terminated by a break statement'"
      ]
     },
     "execution_count": 24,
     "metadata": {},
     "output_type": "execute_result"
    }
   ],
   "source": [
    "# Example 5\n",
    "\n",
    "digits = [0, 1, 5]\n",
    "\n",
    "for i in digits:\n",
    "    print(i)\n",
    "else:\n",
    "    print(\"No items left.\")\n",
    "    \n",
    "\"\"\"\n",
    "A for loop can have an optional else block as well.\n",
    "The else part is executed when the loop is finished\n",
    "The else block is NOT executed if the for loop is terminated by a break statement\"\"\""
   ]
  },
  {
   "cell_type": "markdown",
   "id": "371e0b15",
   "metadata": {},
   "source": [
    "### (ii) 'while' loops - These are used when you want to repeat a block of code as long as a certain condition is true. They can be used in situations where you don't know in advance how many times the loop will run."
   ]
  },
  {
   "cell_type": "code",
   "execution_count": null,
   "id": "d57c3737",
   "metadata": {},
   "outputs": [],
   "source": [
    "# while loop in Python\n",
    "\"\"\"\n",
    "while expression:\n",
    "    # body of while loop\"\"\""
   ]
  },
  {
   "cell_type": "code",
   "execution_count": 25,
   "id": "ac77a6ec",
   "metadata": {},
   "outputs": [
    {
     "name": "stdout",
     "output_type": "stream",
     "text": [
      "1\n",
      "2\n",
      "3\n",
      "4\n",
      "5\n"
     ]
    }
   ],
   "source": [
    "# Example 1\n",
    "\n",
    "i = 1\n",
    "n = 5\n",
    "\n",
    "while i <= n:\n",
    "    print(i)\n",
    "    i = i + 1\n",
    "    \n",
    "# 'while' loop in this example keeps running as long as the condition 'i <= n' is True."
   ]
  },
  {
   "cell_type": "code",
   "execution_count": null,
   "id": "f572847d",
   "metadata": {},
   "outputs": [],
   "source": [
    "# Python 'while' loop with else"
   ]
  },
  {
   "cell_type": "code",
   "execution_count": 28,
   "id": "43b6f164",
   "metadata": {
    "scrolled": true
   },
   "outputs": [
    {
     "name": "stdout",
     "output_type": "stream",
     "text": [
      "1\n",
      "2\n",
      "3\n",
      "4\n",
      "5\n",
      "Inside the else block now!\n"
     ]
    }
   ],
   "source": [
    "# Example 2\n",
    "\n",
    "i = 1\n",
    "n = 5\n",
    "\n",
    "while i <= n:\n",
    "    print(i)\n",
    "    i = i + 1\n",
    "else:\n",
    "    print('Inside the else block now!')\n",
    "\n",
    "# A 'while' loop can have an optional else block as well.\n",
    "# The else part is executed when the loop is finished\n",
    "# The else block is NOT executed if the while loop is terminated by a break statement"
   ]
  },
  {
   "cell_type": "markdown",
   "id": "bd841bc9",
   "metadata": {},
   "source": [
    "### It is important to be cautious when using 'while' loops to avoid infinite loops. An infinite loop occurs when the condition is always True, and the loop never terminates."
   ]
  },
  {
   "cell_type": "code",
   "execution_count": null,
   "id": "9d4aafef",
   "metadata": {},
   "outputs": [],
   "source": []
  },
  {
   "cell_type": "markdown",
   "id": "53b5dce8",
   "metadata": {},
   "source": [
    "## <span style = \"text-decoration : underline ;\" >'Loop Control Statements'</span> - break, continue and pass"
   ]
  },
  {
   "cell_type": "markdown",
   "id": "57ea4e00",
   "metadata": {},
   "source": [
    "## <span style = \"text-decoration : underline ;\" >'Break statement'</span>\n",
    "\n",
    "### The 'break' statement is used to exit a loop prematurely.\n",
    "### Once the program encounters the break statement, it terminates the loop immediately, and the lines of code written right after the body of the loop continue to execute.\n",
    "### The break statement will cause the loop to end even if the while loop condition evaluates to True, or in the case of for loop, it will cause the control of the program to jump out of the for loop even if it satisfies the condition."
   ]
  },
  {
   "cell_type": "code",
   "execution_count": 3,
   "id": "fb812667",
   "metadata": {
    "scrolled": true
   },
   "outputs": [
    {
     "name": "stdout",
     "output_type": "stream",
     "text": [
      "7\n",
      "2\n",
      "3\n",
      "1\n",
      "5\n",
      "4\n",
      "END\n"
     ]
    }
   ],
   "source": [
    "# Example 1\n",
    "\n",
    "nums = [7, 2, 3, 1, 5, 4, 6, 8, 9]\n",
    "count = 0\n",
    "\n",
    "#iterates over a list of objects & prints each element in the list until it reaches the value 4/has printed the first 7 elements\n",
    "\n",
    "while count < 7: \n",
    "    \n",
    "    print(nums[count])\n",
    "    if nums[count] == 4:\n",
    "        break\n",
    "    count += 1\n",
    "\n",
    "print('END')"
   ]
  },
  {
   "cell_type": "markdown",
   "id": "05add905",
   "metadata": {},
   "source": [
    "### The above loop breaks i.e., terminates once 'nums[count]' evaluates to 4"
   ]
  },
  {
   "cell_type": "code",
   "execution_count": 4,
   "id": "e3749045",
   "metadata": {},
   "outputs": [
    {
     "name": "stdout",
     "output_type": "stream",
     "text": [
      "6 *  1 = 6\n",
      "6 *  2 = 12\n",
      "6 *  3 = 18\n",
      "6 *  4 = 24\n",
      "6 *  5 = 30\n",
      "6 *  6 = 36\n",
      "6 *  7 = 42\n",
      "6 *  8 = 48\n"
     ]
    }
   ],
   "source": [
    "# Example 2\n",
    "\n",
    "i = 1\n",
    "\n",
    "while True:\n",
    "    print('6 * ',i,'=',(6*i))\n",
    "          \n",
    "    if i >= 8:\n",
    "        break \n",
    "          \n",
    "    i = i + 1"
   ]
  },
  {
   "cell_type": "markdown",
   "id": "75e9810c",
   "metadata": {},
   "source": [
    "### In the above example, 'while True:' creates an infinite loop because the condition is always True. But to prevent this, a 'break' statement can be used. The loop is terminated once 'i' becomes greater than or equal to 8 in this case."
   ]
  },
  {
   "cell_type": "markdown",
   "id": "b91b0265",
   "metadata": {},
   "source": [
    "## <span style = \"text-decoration : underline ;\" >Continue statement</span>\n",
    "\n",
    "### Break terminates the loop, and the continue statement forces the program to execute the next iteration of the loop.\n",
    "### When the program control encounters the continue statement, the code following the continue statement(if any) will be skipped, and the next iteration of the loop will begin."
   ]
  },
  {
   "cell_type": "code",
   "execution_count": 18,
   "id": "c42228b6",
   "metadata": {},
   "outputs": [
    {
     "name": "stdout",
     "output_type": "stream",
     "text": [
      "0\n",
      "1\n",
      "2\n",
      "4\n"
     ]
    }
   ],
   "source": [
    "# Example 1\n",
    "\n",
    "for i in range(0,5):\n",
    "    if i == 3:\n",
    "        continue\n",
    "    print(i)"
   ]
  },
  {
   "cell_type": "code",
   "execution_count": 5,
   "id": "b1073346",
   "metadata": {},
   "outputs": [
    {
     "name": "stdout",
     "output_type": "stream",
     "text": [
      "Enter the value of n: 10\n",
      "1\n",
      "3\n",
      "5\n",
      "7\n",
      "9\n"
     ]
    }
   ],
   "source": [
    "# Example 2\n",
    "\n",
    "num = 0\n",
    "n = int(input('Enter the value of n: '))\n",
    "\n",
    "while num < n:\n",
    "    num += 1\n",
    "    \n",
    "    if(num % 2) == 0:\n",
    "        continue\n",
    "        \n",
    "    print(num)"
   ]
  },
  {
   "cell_type": "markdown",
   "id": "cfbb36fd",
   "metadata": {},
   "source": [
    "### The above example prints odd numbers, while skipping every iteration in which 'num' stores an even value using the 'continue' statement."
   ]
  },
  {
   "cell_type": "markdown",
   "id": "0aca001b",
   "metadata": {},
   "source": [
    "## <span style = \"text-decoration : underline ;\" >Pass statement</span>\n",
    "\n",
    "### The pass statement does nothing, it is a no-operation statement. The statment is used to fulfill a place in a block of code that needs at least 1 statement."
   ]
  },
  {
   "cell_type": "code",
   "execution_count": 15,
   "id": "18d26f07",
   "metadata": {},
   "outputs": [],
   "source": [
    "# After the colon, Python expects an indented block of code, without the indented block indentation error is generated\n",
    "a = 1\n",
    "b = 5\n",
    "\n",
    "if a + b == 6:\n",
    "    pass"
   ]
  },
  {
   "cell_type": "code",
   "execution_count": null,
   "id": "20cc5312",
   "metadata": {},
   "outputs": [],
   "source": []
  }
 ],
 "metadata": {
  "kernelspec": {
   "display_name": "Python 3 (ipykernel)",
   "language": "python",
   "name": "python3"
  },
  "language_info": {
   "codemirror_mode": {
    "name": "ipython",
    "version": 3
   },
   "file_extension": ".py",
   "mimetype": "text/x-python",
   "name": "python",
   "nbconvert_exporter": "python",
   "pygments_lexer": "ipython3",
   "version": "3.9.13"
  }
 },
 "nbformat": 4,
 "nbformat_minor": 5
}
