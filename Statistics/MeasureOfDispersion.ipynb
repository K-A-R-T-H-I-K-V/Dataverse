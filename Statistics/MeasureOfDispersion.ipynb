{
 "cells": [
  {
   "cell_type": "markdown",
   "id": "62fc8e6b-60c3-4d3a-bfc3-64e2c28a83f8",
   "metadata": {},
   "source": [
    "#### The measure of dispersion refers to statistics that describe how spread out or scattered the values in a dataset are. While measures of central tendency (like the mean, median, and mode) give an idea of the \"typical\" or central value, measures of dispersion quantify how much the data varies around that central value.\n",
    "\n",
    "### Types of Measures of Dispersion\n",
    "#### 1. Range\n",
    "#### 2. Interquartile Range (IQR)\n",
    "#### 3. Variance\n",
    "#### 4. Standard Deviation\n",
    "#### 5. Mean Absolute Deviation (MAD)\n",
    "#### 6. Coefficient of Variation (CV)\n",
    "\n",
    "## 1. Range\n",
    "#### The range is the simplest measure of dispersion, defined as the difference between the largest and smallest value in a dataset.\n",
    "#### Range = Max Value − Min Value\n",
    "### When to Use:\n",
    "#### Useful for quickly assessing the spread of data.\n",
    "#### Best when you only need a rough idea of the variability.\n",
    "### Limitations:\n",
    "#### Highly sensitive to outliers: A single extreme value can drastically change the range.\n",
    "#### Does not provide information about the distribution of values between the minimum and maximum.\n",
    "\n",
    "## 2. Interquartile Range (IQR)\n",
    "#### The Interquartile Range (IQR) measures the range within which the middle 50% of data lies. It is the difference between the third quartile (75th percentile) and the first quartile (25th percentile):\n",
    "#### IQR = Q3 − Q1\n",
    "#### Q1 (First Quartile): 25% of data falls below this value.\n",
    "#### Q3 (Third Quartile): 75% of data falls below this value.\n",
    "### When to Use:\n",
    "#### Useful for skewed distributions or datasets with outliers because it focuses on the middle portion of the data, ignoring extremes.\n",
    "#### Provides a measure of the spread that is resistant to outliers.\n",
    "### Limitations:\n",
    "#### Does not capture information about the spread of the extreme values in the dataset.\n",
    "\n",
    "## 3. Variance\n",
    "#### Variance measures the average squared deviation of each data point from the mean. It indicates how much the data is spread out around the mean.\n",
    "### When to Use:\n",
    "#### Variance is used when you need a comprehensive measure of dispersion that takes into account all values in the dataset.\n",
    "### Limitations:\n",
    "#### Variance is in squared units, making it less intuitive (e.g., if you’re measuring heights in cm, the variance will be in square cm).\n",
    "\n",
    "## 4. Standard Deviation\n",
    "#### The standard deviation (SD) is the square root of the variance. It is a widely used measure that indicates how much the data deviates from the mean.\n",
    "### When to Use:\n",
    "#### Standard deviation is the most commonly used measure of dispersion in normal distributions or large datasets.\n",
    "#### Useful in many statistical techniques, such as hypothesis testing and confidence intervals.\n",
    "### Advantages:\n",
    "#### Provides an intuitive measure in the same units as the data (e.g., if the data is in centimeters, so is the standard deviation).\n",
    "### Limitations:\n",
    "#### Like variance, it is sensitive to outliers.\n",
    "\n",
    "## 5. Mean Absolute Deviation (MAD)\n",
    "#### Mean Absolute Deviation (MAD) measures the average of the absolute deviations of each data point from the mean. Unlike variance and standard deviation, it doesn’t square the deviations, which makes it less sensitive to extreme values.\n",
    "### When to Use:\n",
    "#### Use MAD when you want a simple and intuitive measure of variability that’s less sensitive to outliers.\n",
    "#### It’s often used in robust statistics.\n",
    "### Limitations:\n",
    "#### MAD is not as widely used as standard deviation in statistical theory or applications.\n",
    "\n",
    "## 6. Coefficient of Variation (CV)\n",
    "#### The coefficient of variation (CV) is a relative measure of dispersion, defined as the standard deviation divided by the mean, often expressed as a percentage.\n",
    "### When to Use:\n",
    "#### Useful for comparing the spread of datasets that have different units or different scales.\n",
    "#### Frequently used in fields like finance, where comparing variability across different investments or portfolios is important."
   ]
  },
  {
   "cell_type": "code",
   "execution_count": 3,
   "id": "59097450-46ee-40a1-987a-82609480fe0e",
   "metadata": {},
   "outputs": [
    {
     "data": {
      "text/plain": [
       "19.571428571428573"
      ]
     },
     "execution_count": 3,
     "metadata": {},
     "output_type": "execute_result"
    }
   ],
   "source": [
    "ages = [20, 18, 19, 22, 16, 20, 22]\n",
    "\n",
    "import numpy as np\n",
    "np.mean(ages) # mean"
   ]
  },
  {
   "cell_type": "code",
   "execution_count": 5,
   "id": "835c5900-3431-40ab-b813-79eadcd83668",
   "metadata": {},
   "outputs": [
    {
     "data": {
      "text/plain": [
       "3.9591836734693877"
      ]
     },
     "execution_count": 5,
     "metadata": {},
     "output_type": "execute_result"
    }
   ],
   "source": [
    "np.var(ages) # variance"
   ]
  },
  {
   "cell_type": "code",
   "execution_count": 7,
   "id": "3972809b-c14b-4f1f-bde2-dbad5d4204c7",
   "metadata": {},
   "outputs": [
    {
     "data": {
      "text/plain": [
       "1.9897697538834456"
      ]
     },
     "execution_count": 7,
     "metadata": {},
     "output_type": "execute_result"
    }
   ],
   "source": [
    "np.std(ages) # standard deviation"
   ]
  },
  {
   "cell_type": "code",
   "execution_count": 7,
   "id": "6f810d2d-b192-4367-8d75-146a4b357350",
   "metadata": {},
   "outputs": [
    {
     "name": "stderr",
     "output_type": "stream",
     "text": [
      "C:\\Users\\karth\\anaconda3\\Lib\\site-packages\\seaborn\\_oldcore.py:1119: FutureWarning: use_inf_as_na option is deprecated and will be removed in a future version. Convert inf values to NaN before operating instead.\n",
      "  with pd.option_context('mode.use_inf_as_na', True):\n"
     ]
    },
    {
     "data": {
      "text/plain": [
       "<Axes: ylabel='Count'>"
      ]
     },
     "execution_count": 7,
     "metadata": {},
     "output_type": "execute_result"
    },
    {
     "data": {
      "image/png": "[encoded data removed]",
      "text/plain": [
       "<Figure size 640x480 with 1 Axes>"
      ]
     },
     "metadata": {},
     "output_type": "display_data"
    }
   ],
   "source": [
    "import seaborn as sns\n",
    "\n",
    "sns.histplot(ages, kde = True)"
   ]
  },
  {
   "cell_type": "code",
   "execution_count": 9,
   "id": "c0bc4f49-b2e7-4223-be01-57053a7c90e5",
   "metadata": {},
   "outputs": [],
   "source": [
    "import pandas as pd\n",
    "\n",
    "data = [[10, 12, 11], [34, 21, 45], [89, 90, 98]]"
   ]
  },
  {
   "cell_type": "code",
   "execution_count": 11,
   "id": "7ff1c9ab-c911-475d-8dfd-4b11ad4fdaf8",
   "metadata": {},
   "outputs": [
    {
     "data": {
      "text/html": [
       "<div>\n",
       "<style scoped>\n",
       "    .dataframe tbody tr th:only-of-type {\n",
       "        vertical-align: middle;\n",
       "    }\n",
       "\n",
       "    .dataframe tbody tr th {\n",
       "        vertical-align: top;\n",
       "    }\n",
       "\n",
       "    .dataframe thead th {\n",
       "        text-align: right;\n",
       "    }\n",
       "</style>\n",
       "<table border=\"1\" class=\"dataframe\">\n",
       "  <thead>\n",
       "    <tr style=\"text-align: right;\">\n",
       "      <th></th>\n",
       "      <th>A</th>\n",
       "      <th>B</th>\n",
       "      <th>C</th>\n",
       "    </tr>\n",
       "  </thead>\n",
       "  <tbody>\n",
       "    <tr>\n",
       "      <th>0</th>\n",
       "      <td>10</td>\n",
       "      <td>12</td>\n",
       "      <td>11</td>\n",
       "    </tr>\n",
       "    <tr>\n",
       "      <th>1</th>\n",
       "      <td>34</td>\n",
       "      <td>21</td>\n",
       "      <td>45</td>\n",
       "    </tr>\n",
       "    <tr>\n",
       "      <th>2</th>\n",
       "      <td>89</td>\n",
       "      <td>90</td>\n",
       "      <td>98</td>\n",
       "    </tr>\n",
       "  </tbody>\n",
       "</table>\n",
       "</div>"
      ],
      "text/plain": [
       "    A   B   C\n",
       "0  10  12  11\n",
       "1  34  21  45\n",
       "2  89  90  98"
      ]
     },
     "execution_count": 11,
     "metadata": {},
     "output_type": "execute_result"
    }
   ],
   "source": [
    "df = pd.DataFrame(data, columns = ['A', 'B', 'C'])\n",
    "df"
   ]
  },
  {
   "cell_type": "code",
   "execution_count": 17,
   "id": "c5d54454-49ef-4a85-8ec5-a31a129090e7",
   "metadata": {},
   "outputs": [
    {
     "data": {
      "text/plain": [
       "A    1640.333333\n",
       "B    1821.000000\n",
       "C    1922.333333\n",
       "dtype: float64"
      ]
     },
     "execution_count": 17,
     "metadata": {},
     "output_type": "execute_result"
    }
   ],
   "source": [
    "df.var()"
   ]
  },
  {
   "cell_type": "code",
   "execution_count": 19,
   "id": "99c03933-3893-428f-b0ee-6348c2b8761b",
   "metadata": {},
   "outputs": [
    {
     "data": {
      "text/plain": [
       "0      1.000000\n",
       "1    144.333333\n",
       "2     24.333333\n",
       "dtype: float64"
      ]
     },
     "execution_count": 19,
     "metadata": {},
     "output_type": "execute_result"
    }
   ],
   "source": [
    "df.var(axis = 1)"
   ]
  },
  {
   "cell_type": "code",
   "execution_count": null,
   "id": "6df9ad10-7349-406d-aedd-51d0049dc192",
   "metadata": {},
   "outputs": [],
   "source": []
  }
 ],
 "metadata": {
  "kernelspec": {
   "display_name": "Python 3 (ipykernel)",
   "language": "python",
   "name": "python3"
  },
  "language_info": {
   "codemirror_mode": {
    "name": "ipython",
    "version": 3
   },
   "file_extension": ".py",
   "mimetype": "text/x-python",
   "name": "python",
   "nbconvert_exporter": "python",
   "pygments_lexer": "ipython3",
   "version": "3.11.7"
  }
 },
 "nbformat": 4,
 "nbformat_minor": 5
}
