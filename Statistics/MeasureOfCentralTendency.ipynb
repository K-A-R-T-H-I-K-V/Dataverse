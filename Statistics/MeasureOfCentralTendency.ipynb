{
 "cells": [
  {
   "cell_type": "markdown",
   "id": "168c7283-9e30-49db-812e-54afbe44997d",
   "metadata": {},
   "source": [
    "## <u>Central Values</u>\n",
    "#### Central values are representative values that describe the middle or center of a dataset. These values aim to summarize the dataset by providing a typical or \"average\" value around which the data points tend to cluster. In other words, central values attempt to capture the central location of the data distribution.\n",
    "#### Central values are crucial because they help us understand the overall trend in the data without having to look at every individual data point. By knowing a central value, we can have a general sense of what a typical observation might look like within the dataset.\n",
    "\n",
    "### Examples of Central Values:\n",
    "#### In a dataset representing ages of a group of people, the central value might represent a typical age in the group.\n",
    "#### In a dataset of exam scores, the central value might represent the average or most common score.\n",
    "\n",
    "## <u>Measure of Central Tendency</u>\n",
    "#### A measure of central tendency is a statistical metric used to quantify the central value in a dataset. It is a formalized method for identifying this central value and gives a single number that represents the \"typical\" value of the dataset. The three most commonly used measures of central tendency are:\n",
    "\n",
    "### 1. Mean (Arithmetic Average):\n",
    "#### This is the sum of all the data values divided by the number of data points.\n",
    "\n",
    "### 2. Median:\n",
    "#### This is the middle value when the data points are arranged in ascending or descending order. If the number of data points is odd, the median is the middle value. If the number is even, the median is the average of the two middle values.\n",
    "\n",
    "### 3. Mode:\n",
    "#### The mode is the data point that appears most frequently in the dataset. There can be more than one mode if multiple values occur with the same highest frequency."
   ]
  },
  {
   "cell_type": "code",
   "execution_count": 1,
   "id": "8ab905b6-b4a1-4386-a9af-23ea1a144c31",
   "metadata": {},
   "outputs": [],
   "source": [
    "# Measure of Central Tendency"
   ]
  },
  {
   "cell_type": "code",
   "execution_count": 3,
   "id": "fcee0146-b9b3-4b70-b703-9b9a0930e035",
   "metadata": {},
   "outputs": [
    {
     "name": "stdout",
     "output_type": "stream",
     "text": [
      "19.9\n"
     ]
    }
   ],
   "source": [
    "# Mean (Average)\n",
    "age = [20, 18, 19, 20, 20, 24, 21, 19, 18, 20]\n",
    "\n",
    "import numpy as np\n",
    "avg_age = np.mean(age)\n",
    "print(avg_age)"
   ]
  },
  {
   "cell_type": "code",
   "execution_count": 5,
   "id": "f111074e-ea29-4bcb-866a-778cbe2244e4",
   "metadata": {},
   "outputs": [
    {
     "data": {
      "text/plain": [
       "49.714285714285715"
      ]
     },
     "execution_count": 5,
     "metadata": {},
     "output_type": "execute_result"
    }
   ],
   "source": [
    "weights = [54, 45, 55, 50, 48, 56, 40]\n",
    "np.mean(weights)"
   ]
  },
  {
   "cell_type": "code",
   "execution_count": 21,
   "id": "82769518-b9ce-42f1-89eb-991061a964f3",
   "metadata": {},
   "outputs": [
    {
     "data": {
      "text/plain": [
       "19.78594262295082"
      ]
     },
     "execution_count": 21,
     "metadata": {},
     "output_type": "execute_result"
    }
   ],
   "source": [
    "import seaborn as sns\n",
    "\n",
    "df = sns.load_dataset('tips')\n",
    "np.mean(df['total_bill'])"
   ]
  },
  {
   "cell_type": "code",
   "execution_count": 17,
   "id": "3be6cbb7-8571-4566-8c53-e586d47262f4",
   "metadata": {},
   "outputs": [
    {
     "name": "stdout",
     "output_type": "stream",
     "text": [
      "Mean without outliers 19.9\n",
      "Mean with outliers 36.27272727272727\n",
      "Median without outliers 20.0\n",
      "Median with outliers 20.0\n"
     ]
    }
   ],
   "source": [
    "age_out = [20, 18, 19, 20, 20, 24, 21, 19, 18, 20, 200]\n",
    "\n",
    "print('Mean without outliers', np.mean(age))\n",
    "print('Mean with outliers', np.mean(age_out))\n",
    "print('Median without outliers', np.median(age))\n",
    "print('Median with outliers', np.median(age_out))"
   ]
  },
  {
   "cell_type": "code",
   "execution_count": 19,
   "id": "79582c1c-804b-4403-8c75-34321a96158b",
   "metadata": {},
   "outputs": [
    {
     "data": {
      "text/plain": [
       "ModeResult(mode=20, count=4)"
      ]
     },
     "execution_count": 19,
     "metadata": {},
     "output_type": "execute_result"
    }
   ],
   "source": [
    "from scipy import stats\n",
    "\n",
    "stats.mode(age)"
   ]
  },
  {
   "cell_type": "markdown",
   "id": "1c11b7f7-154b-4482-8840-596e6e6302d9",
   "metadata": {},
   "source": [
    "## 1. Mean (Arithmetic Average)\n",
    "### When Is It Useful?\n",
    "#### Symmetric distributions: The mean is best suited for datasets where the data is symmetrically distributed (e.g., normal distribution), without extreme values or skewness.\n",
    "#### Continuous data: It works well with continuous numerical data, such as heights, weights, or test scores, where all data points contribute equally to the overall calculation.\n",
    "#### Large datasets: The mean becomes more reliable in large datasets because individual variations are averaged out over many data points.\n",
    "\n",
    "### Advantages:\n",
    "#### Easy to compute and understand: The mean is a simple, intuitive measure and can be easily calculated.\n",
    "#### Takes into account all data points: It provides a comprehensive summary because every value in the dataset influences the mean.\n",
    "\n",
    "### Disadvantages:\n",
    "#### Sensitive to outliers: The mean is heavily influenced by extreme values. For example, if one data point is significantly larger or smaller than the rest, it can distort the mean and make it less representative of the majority of the data.\n",
    "#### Not useful for skewed(Skewness refers to the asymmetry in the distribution of data. It indicates whether the data points are spread more toward one side of the distribution than the other) data: When a dataset is skewed, the mean might not be a good representation of the \"typical\" or \"central\" value because the mean is sensitive to extreme values (outliers) and reflects the overall sum of the data points, rather than the actual central tendency of most data\n",
    "\n",
    "### When the Mean Is Better:\n",
    "#### When you have symmetric data without extreme outliers.\n",
    "#### When you need to calculate the expected value or average performance of a dataset (e.g., average score of students in a class).\n",
    "\n",
    "## 2. Median (Middle Value)\n",
    "### When Is It Useful?\n",
    "#### Skewed distributions: The median is ideal for datasets that are not symmetrically distributed or that contain outliers. It represents the central value more accurately in such cases because it isn’t influenced by extremely high or low values.\n",
    "#### Ordinal data: It is particularly useful for ordinal data (data that can be ordered) where you want to find the middle point, but you don’t want to consider exact numerical distances between values.\n",
    "#### Small datasets with outliers: In small datasets where a few outliers could significantly impact the mean, the median is more robust.\n",
    "\n",
    "### Advantages:\n",
    "#### Insensitive to outliers: The median is not affected by extremely large or small values, which makes it a good choice when outliers are present.\n",
    "#### Better for skewed data: For highly skewed datasets, the median provides a better representation of the \"typical\" value.\n",
    "\n",
    "### Disadvantages:\n",
    "#### Does not consider all values: The median only depends on the middle point(s), so it ignores the magnitude or distribution of the remaining data points.\n",
    "#### Less mathematically useful: The median is not always useful for further mathematical analysis (like calculating variance or standard deviation), as it doesn’t take into account all data points.\n",
    "\n",
    "### When the Median Is Better:\n",
    "#### When you have skewed distributions or outliers in your data (e.g., income data, property prices).\n",
    "#### When working with ordinal data where ranking matters, but distances between values are not meaningful.\n",
    "\n",
    "## 3. Mode (Most Frequent Value)\n",
    "#### When Is It Useful?\n",
    "#### Categorical data: The mode is the only measure of central tendency that is suitable for categorical data (e.g., colors, types of cars, voting preferences), where you want to know the most common category.\n",
    "#### Discrete data with repetitions: The mode is helpful for data where certain values repeat, and you are interested in identifying the most common value.\n",
    "#### Bimodal or multimodal distributions: If a dataset has two or more peaks (bimodal or multimodal distributions), the mode can highlight these multiple \"centers.\"\n",
    "\n",
    "### Advantages:\n",
    "#### Only choice for categorical data: For non-numerical data, like survey responses (e.g., “What’s your favorite color?”), the mode is the most appropriate measure.\n",
    "#### Identifies frequency: The mode is useful for identifying the most frequent or popular item in a dataset.\n",
    "#### Works well with discrete data: When you have discrete data with repeated values, the mode provides a good indication of what value is most common.\n",
    "\n",
    "### Disadvantages:\n",
    "#### Not always representative: In some datasets, the mode may not give a meaningful measure of central tendency, especially if there is no clear repetition or if the mode is far from other values.\n",
    "#### Multiple modes: Some datasets have multiple modes, making it difficult to summarize the dataset with just one value.\n",
    "#### May not exist: In continuous data, it is possible for there to be no mode or for every value to be equally common.\n",
    "\n",
    "### When the Mode Is Better:\n",
    "#### When you are working with categorical data and need to find the most frequent category or label.\n",
    "#### When you are interested in the most frequent observation in discrete data."
   ]
  },
  {
   "cell_type": "code",
   "execution_count": 6,
   "id": "fda50767-f49d-47b2-811a-d4713933a0a2",
   "metadata": {},
   "outputs": [
    {
     "data": {
      "text/html": [
       "<div>\n",
       "<style scoped>\n",
       "    .dataframe tbody tr th:only-of-type {\n",
       "        vertical-align: middle;\n",
       "    }\n",
       "\n",
       "    .dataframe tbody tr th {\n",
       "        vertical-align: top;\n",
       "    }\n",
       "\n",
       "    .dataframe thead th {\n",
       "        text-align: right;\n",
       "    }\n",
       "</style>\n",
       "<table border=\"1\" class=\"dataframe\">\n",
       "  <thead>\n",
       "    <tr style=\"text-align: right;\">\n",
       "      <th></th>\n",
       "      <th>Measure</th>\n",
       "      <th>Best When</th>\n",
       "      <th>Strengths</th>\n",
       "      <th>Weaknesses</th>\n",
       "    </tr>\n",
       "  </thead>\n",
       "  <tbody>\n",
       "    <tr>\n",
       "      <th>0</th>\n",
       "      <td>Mean</td>\n",
       "      <td>Symmetric data without outliers</td>\n",
       "      <td>Uses all data points, easy to calculate</td>\n",
       "      <td>Sensitive to outliers and skewness</td>\n",
       "    </tr>\n",
       "    <tr>\n",
       "      <th>1</th>\n",
       "      <td>Median</td>\n",
       "      <td>Skewed data or outliers</td>\n",
       "      <td>Not affected by extreme values</td>\n",
       "      <td>Ignores the exact distribution of data</td>\n",
       "    </tr>\n",
       "    <tr>\n",
       "      <th>2</th>\n",
       "      <td>Mode</td>\n",
       "      <td>Categorical or discrete data with repetitions</td>\n",
       "      <td>Best for identifying the most common category/value</td>\n",
       "      <td>May not be meaningful for all datasets, can have multiple modes</td>\n",
       "    </tr>\n",
       "  </tbody>\n",
       "</table>\n",
       "</div>"
      ],
      "text/plain": [
       "  Measure                                      Best When  \\\n",
       "0    Mean                Symmetric data without outliers   \n",
       "1  Median                        Skewed data or outliers   \n",
       "2    Mode  Categorical or discrete data with repetitions   \n",
       "\n",
       "                                             Strengths  \\\n",
       "0              Uses all data points, easy to calculate   \n",
       "1                       Not affected by extreme values   \n",
       "2  Best for identifying the most common category/value   \n",
       "\n",
       "                                                        Weaknesses  \n",
       "0                               Sensitive to outliers and skewness  \n",
       "1                           Ignores the exact distribution of data  \n",
       "2  May not be meaningful for all datasets, can have multiple modes  "
      ]
     },
     "execution_count": 6,
     "metadata": {},
     "output_type": "execute_result"
    }
   ],
   "source": [
    "# Summary Table\n",
    "\n",
    "# Import necessary library\n",
    "import pandas as pd\n",
    "pd.set_option('display.max_colwidth', 5000)\n",
    "\n",
    "# Create data for the table\n",
    "data = {\n",
    "    \"Measure\": [\"Mean\", \"Median\", \"Mode\"],\n",
    "    \"Best When\": [\n",
    "        \"Symmetric data without outliers\",\n",
    "        \"Skewed data or outliers\",\n",
    "        \"Categorical or discrete data with repetitions\"\n",
    "    ],\n",
    "    \"Strengths\": [\n",
    "        \"Uses all data points, easy to calculate\",\n",
    "        \"Not affected by extreme values\",\n",
    "        \"Best for identifying the most common category/value\"\n",
    "    ],\n",
    "    \"Weaknesses\": [\n",
    "        \"Sensitive to outliers and skewness\",\n",
    "        \"Ignores the exact distribution of data\",\n",
    "        \"May not be meaningful for all datasets, can have multiple modes\"\n",
    "    ]\n",
    "}\n",
    "\n",
    "# Create a pandas DataFrame\n",
    "df = pd.DataFrame(data)\n",
    "\n",
    "# Display the DataFrame as a table\n",
    "df"
   ]
  },
  {
   "cell_type": "code",
   "execution_count": null,
   "id": "defda51d-8c9b-4316-a14c-e1b9c1acbfe7",
   "metadata": {},
   "outputs": [],
   "source": []
  }
 ],
 "metadata": {
  "kernelspec": {
   "display_name": "Python 3 (ipykernel)",
   "language": "python",
   "name": "python3"
  },
  "language_info": {
   "codemirror_mode": {
    "name": "ipython",
    "version": 3
   },
   "file_extension": ".py",
   "mimetype": "text/x-python",
   "name": "python",
   "nbconvert_exporter": "python",
   "pygments_lexer": "ipython3",
   "version": "3.11.7"
  }
 },
 "nbformat": 4,
 "nbformat_minor": 5
}
