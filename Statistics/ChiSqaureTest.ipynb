{
 "cells": [
  {
   "cell_type": "code",
   "execution_count": 5,
   "id": "6a677655-258c-47a7-819e-98a4bcf118c1",
   "metadata": {},
   "outputs": [],
   "source": [
    "import scipy.stats as stat\n",
    "import numpy as np"
   ]
  },
  {
   "cell_type": "code",
   "execution_count": 6,
   "id": "c8f0b236-336f-4f93-91ed-bee884c2d686",
   "metadata": {},
   "outputs": [
    {
     "data": {
      "text/plain": [
       "(3.4345238095238093, 0.7526596580922865)"
      ]
     },
     "execution_count": 6,
     "metadata": {},
     "output_type": "execute_result"
    }
   ],
   "source": [
    "## No of hours students study daily\n",
    "# sum(observed_data) SHOULD BE EQUAL TO sum(expected_data)\n",
    "expected_data = [8, 6, 7, 9, 6, 9, 7] # Expected frequencies\n",
    "observed_data = [7, 8, 6, 9, 9, 6, 7] # Observed frequencies (from survey)\n",
    "\n",
    "# Chi-Sqaure Goodness of Fit Test\n",
    "chisquare_test_statistic, p = stat.chisquare(observed_data, expected_data)\n",
    "chisquare_test_statistic, p"
   ]
  },
  {
   "cell_type": "markdown",
   "id": "10129351-6361-416f-9710-bdef659b2b37",
   "metadata": {},
   "source": [
    "## 1. scipy.stats.chisquare()\n",
    "#### scipy.stats.chisquare() is a function used to perform a Chi-Square test, specifically the Goodness of Fit test. This test checks whether the observed data matches an expected distribution. It compares observed frequencies to expected frequencies and tests how well the observed data fits a theoretical distribution."
   ]
  },
  {
   "cell_type": "code",
   "execution_count": 2,
   "id": "28712781-f0d0-4cd6-80e5-77b6cf128918",
   "metadata": {},
   "outputs": [],
   "source": [
    "# scipy.stats.chisquare(f_obs, f_exp=None, ddof=0)"
   ]
  },
  {
   "cell_type": "markdown",
   "id": "d51c9673-ab11-4dd9-85e5-1ca572fb63b4",
   "metadata": {},
   "source": [
    "#### f_obs: The observed frequencies (a list or array of counts).\n",
    "#### f_exp: The expected frequencies (optional). If not provided, the default assumption is that all categories are equally likely.\n",
    "#### ddof: Degrees of freedom adjustment. By default, it's 0, but it can be changed based on the problem (e.g., in some cases, you may adjust it based on the number of estimated parameters).\n",
    "\n",
    "## Interpretation:\n",
    "#### The Chi-Square statistic measures how much the observed frequencies deviate from the expected frequencies.\n",
    "#### The P-value tells you whether the deviation is statistically significant. If the p-value is less than your significance level (say 0.05), you reject the null hypothesis (which is that the data fits the expected distribution)"
   ]
  },
  {
   "cell_type": "code",
   "execution_count": 11,
   "id": "d3779236-055d-4208-b0e5-2c5017b53db4",
   "metadata": {},
   "outputs": [
    {
     "data": {
      "text/plain": [
       "12.591587243743977"
      ]
     },
     "execution_count": 11,
     "metadata": {},
     "output_type": "execute_result"
    }
   ],
   "source": [
    "# Find Critical Value\n",
    "significance_value = 0.05\n",
    "dof = len(expected_data) - 1\n",
    "critical_value = stat.chi2.ppf(1 - significance_value, dof)\n",
    "critical_value"
   ]
  },
  {
   "cell_type": "markdown",
   "id": "605702c5-76d6-43c8-9f5b-6e6110c12d5b",
   "metadata": {},
   "source": [
    "## 2. scipy.stats.chi2.ppf()\n",
    "#### The stats.chi2.ppf() function is part of the Chi-Square distribution and is used to calculate critical values. It is based on the Percent Point Function (ppf), which is the inverse of the cumulative distribution function (CDF).\n",
    "\n",
    "#### chi2 refers to the Chi-Square distribution.\n",
    "#### ppf() gives you the value of the Chi-Square statistic for a given probability (quantile).\n",
    "#### In hypothesis testing, you often compare your test statistic (e.g., Chi-Square statistic) to a critical value. This critical value is determined by the degrees of freedom and the significance level. The ppf() function allows you to compute that critical value."
   ]
  },
  {
   "cell_type": "code",
   "execution_count": 11,
   "id": "2b40796c-f570-4f91-960f-ebf847aa2767",
   "metadata": {},
   "outputs": [],
   "source": [
    "# scipy.stats.chi2.ppf(q, df)"
   ]
  },
  {
   "cell_type": "markdown",
   "id": "24c1edbe-7833-466e-a60e-3dc687a4623c",
   "metadata": {},
   "source": [
    "#### q: The quantile (1 - significance level). For example, if you’re testing at a 95% confidence level, q = 1 - 0.05 = 0.95.\n",
    "#### df: The degrees of freedom for the test"
   ]
  },
  {
   "cell_type": "code",
   "execution_count": 15,
   "id": "25a5756c-19a9-4fcb-90ea-466b7bcc3a7f",
   "metadata": {},
   "outputs": [
    {
     "name": "stdout",
     "output_type": "stream",
     "text": [
      "Fail to reject NULL hypothesis\n"
     ]
    }
   ],
   "source": [
    "# If chi square Statistic is GREATER than critical value, we REJECT NULL\n",
    "if chisquare_test_statistic > critical_value :\n",
    "    print('Reject NULL hypothesis')\n",
    "else :\n",
    "    print('Fail to reject NULL hypothesis')"
   ]
  },
  {
   "cell_type": "markdown",
   "id": "c3a7105a-ea3f-4713-8924-570f1f9c9e56",
   "metadata": {},
   "source": [
    "#### When performing a Chi-Square test:\n",
    "\n",
    "#### You first calculate the Chi-Square statistic using chisquare().\n",
    "#### Then, you compare the statistic to the critical value obtained using chi2.ppf() to make a decision about whether to reject or accept the null hypothesis"
   ]
  },
  {
   "cell_type": "code",
   "execution_count": null,
   "id": "94460a44-f7bd-461a-a88d-3546fe914f6d",
   "metadata": {},
   "outputs": [],
   "source": []
  }
 ],
 "metadata": {
  "kernelspec": {
   "display_name": "Python 3 (ipykernel)",
   "language": "python",
   "name": "python3"
  },
  "language_info": {
   "codemirror_mode": {
    "name": "ipython",
    "version": 3
   },
   "file_extension": ".py",
   "mimetype": "text/x-python",
   "name": "python",
   "nbconvert_exporter": "python",
   "pygments_lexer": "ipython3",
   "version": "3.11.7"
  }
 },
 "nbformat": 4,
 "nbformat_minor": 5
}
