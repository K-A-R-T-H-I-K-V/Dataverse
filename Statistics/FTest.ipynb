{
 "cells": [
  {
   "cell_type": "markdown",
   "id": "b5ac8634-53ea-41a5-a88b-397e9e241537",
   "metadata": {},
   "source": [
    "#### 1. F-statistic is a ratio of variances or mean square values.\n",
    "#### 2. Critical value is based on the F-distribution and helps determine if the test result is significant.\n",
    "#### 3. If 𝐹 > critical value, the result is statistically significant (reject 𝐻0).\n",
    "#### 4. F-distribution is skewed and depends on both numerator and denominator degrees of freedom.\n",
    "#### 5. ANOVA uses F-test to compare means of multiple groups, while the basic F-test compares variances between two groups."
   ]
  },
  {
   "cell_type": "code",
   "execution_count": 2,
   "id": "606b7926-03d6-41e9-aaf6-de5aab0b86d1",
   "metadata": {},
   "outputs": [
    {
     "name": "stdout",
     "output_type": "stream",
     "text": [
      "4.387122002085506\n"
     ]
    }
   ],
   "source": [
    "import numpy as np\n",
    "\n",
    "worker1 = [18, 19, 22, 25, 27, 28, 41, 45, 51, 55] # Sample 1 data\n",
    "worker2 = [14, 15, 15, 17, 18, 22, 25, 25, 27, 34] # Sample 2 data\n",
    "\n",
    "# Calculate variances of both groups and Calculate F-statistic (ratio of variances)\n",
    "f_test = np.var(worker1) / np.var(worker2)\n",
    "print(f_test)"
   ]
  },
  {
   "cell_type": "code",
   "execution_count": 6,
   "id": "fb6d1171-81d3-48e6-b061-79b28dd55b2a",
   "metadata": {},
   "outputs": [
    {
     "name": "stdout",
     "output_type": "stream",
     "text": [
      "3.178893104458269\n"
     ]
    }
   ],
   "source": [
    "# Degrees of freedom\n",
    "\n",
    "df1 = len(worker1) - 1 # dfn - degree of freedom for numerator\n",
    "df2 = len(worker2) - 1 # dfd - degree of freedom for denominator\n",
    "\n",
    "significance_value = 0.05 # Significance level (alpha)\n",
    "\n",
    "# Critical value from the F-distribution\n",
    "import scipy.stats as stat\n",
    "critical_value = stat.f.ppf(q = 1 - significance_value, dfn = df1, dfd = df2)\n",
    "print(critical_value)"
   ]
  },
  {
   "cell_type": "markdown",
   "id": "36a8ece3-0f79-4c4d-aa5e-943388df3976",
   "metadata": {},
   "source": [
    "#### In the expression stat.f.ppf(), each part has a specific meaning and plays an important role in statistical computations. Let's break it down:\n",
    "\n",
    "## 1. stat:\n",
    "#### The stat part refers to the SciPy Stats module, which is part of the SciPy library in Python. SciPy is a scientific computing library that includes many tools for mathematical, scientific, and statistical functions. Specifically, scipy.stats contains a large number of statistical distributions and functions to perform various types of statistical tests, including functions for probability density, cumulative distribution, and percent point functions.\n",
    "\n",
    "## 2. f:\n",
    "#### The f refers to the F-distribution within the scipy.stats module. The F-distribution is a probability distribution that arises frequently in the context of statistical tests, like the F-test and ANOVA (Analysis of Variance).\n",
    "#### The F-distribution is a family of curves that depends on two parameters: the degrees of freedom for the numerator and the denominator. These degrees of freedom relate to the variability between and within groups in tests like ANOVA.\n",
    "#### The F-distribution is typically used when comparing two sample variances to test if they are equal. It is also used when testing if several group means are equal (ANOVA).\n",
    "#### In Python, stats.f gives you access to various functions related to the F-distribution.\n",
    "\n",
    "## 3. ppf:\n",
    "#### The ppf stands for Percent Point Function. The percent point function is the inverse of the cumulative distribution function (CDF). It gives you the value of the random variable such that the probability of observing a value less than or equal to this value is equal to a specified probability (quantile).\n",
    "\n",
    "#### Mathematically:\n",
    "#### x=ppf(q)\n",
    "#### Where:\n",
    "#### 𝑞 is the probability or quantile,\n",
    "#### 𝑥 is the value from the distribution that corresponds to the quantile 𝑞.\n",
    "\n",
    "#### In simpler terms, for the F-distribution:\n",
    "#### ppf(q) returns the value of the F-statistic that corresponds to a cumulative probability of 𝑞. This means it tells you the value on the F-distribution curve where the area under the curve (up to that point) equals 𝑞.\n",
    "\n",
    "#### For example:\n",
    "#### If q = 0.95 and you call ppf(0.95), the function returns the value of the F-statistic such that 95% of the distribution is to the left of this value, and 5% is to the right"
   ]
  },
  {
   "cell_type": "code",
   "execution_count": 7,
   "id": "4b4e6291-ba92-40ac-81fd-5cd1d0b6f873",
   "metadata": {},
   "outputs": [
    {
     "name": "stdout",
     "output_type": "stream",
     "text": [
      "Reject the hypothesis\n"
     ]
    }
   ],
   "source": [
    "# Compare F-statistic with critical value\n",
    "\n",
    "if f_test > critical_value :\n",
    "    print('Reject the hypothesis')\n",
    "else :\n",
    "    print('Accept the hypothesis')"
   ]
  },
  {
   "cell_type": "code",
   "execution_count": null,
   "id": "112fcad3-43f0-42b2-9832-66a1f4d878c4",
   "metadata": {},
   "outputs": [],
   "source": []
  }
 ],
 "metadata": {
  "kernelspec": {
   "display_name": "Python 3 (ipykernel)",
   "language": "python",
   "name": "python3"
  },
  "language_info": {
   "codemirror_mode": {
    "name": "ipython",
    "version": 3
   },
   "file_extension": ".py",
   "mimetype": "text/x-python",
   "name": "python",
   "nbconvert_exporter": "python",
   "pygments_lexer": "ipython3",
   "version": "3.11.7"
  }
 },
 "nbformat": 4,
 "nbformat_minor": 5
}
