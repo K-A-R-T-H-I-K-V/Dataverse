{
 "cells": [
  {
   "cell_type": "code",
   "execution_count": 2,
   "id": "d8534855",
   "metadata": {},
   "outputs": [
    {
     "name": "stdout",
     "output_type": "stream",
     "text": [
      "Karthik\n"
     ]
    }
   ],
   "source": [
    "name = 'Karthik'\n",
    "print(name)"
   ]
  },
  {
   "cell_type": "code",
   "execution_count": 1,
   "id": "8766f4c6",
   "metadata": {},
   "outputs": [
    {
     "data": {
      "text/plain": [
       "'\\n 0 1 2 3 4 5 6  (forward directional indices)\\n k a r t h i k\\n-7-6-5-4-3-2-1  (reverse directional indices)'"
      ]
     },
     "execution_count": 1,
     "metadata": {},
     "output_type": "execute_result"
    }
   ],
   "source": [
    "'''\n",
    " 0 1 2 3 4 5 6  (forward directional indices)\n",
    " k a r t h i k\n",
    "-7-6-5-4-3-2-1  (reverse directional indices)'''"
   ]
  },
  {
   "cell_type": "code",
   "execution_count": 2,
   "id": "a9ccd7ed",
   "metadata": {},
   "outputs": [],
   "source": [
    "# Indexing"
   ]
  },
  {
   "cell_type": "code",
   "execution_count": 4,
   "id": "cf3cf7c0",
   "metadata": {},
   "outputs": [
    {
     "data": {
      "text/plain": [
       "'K'"
      ]
     },
     "execution_count": 4,
     "metadata": {},
     "output_type": "execute_result"
    }
   ],
   "source": [
    "name[0]"
   ]
  },
  {
   "cell_type": "code",
   "execution_count": 5,
   "id": "b69d4af6",
   "metadata": {},
   "outputs": [
    {
     "data": {
      "text/plain": [
       "'i'"
      ]
     },
     "execution_count": 5,
     "metadata": {},
     "output_type": "execute_result"
    }
   ],
   "source": [
    "name[5]"
   ]
  },
  {
   "cell_type": "code",
   "execution_count": 6,
   "id": "c794d541",
   "metadata": {},
   "outputs": [
    {
     "data": {
      "text/plain": [
       "'t'"
      ]
     },
     "execution_count": 6,
     "metadata": {},
     "output_type": "execute_result"
    }
   ],
   "source": [
    "name[-4]"
   ]
  },
  {
   "cell_type": "code",
   "execution_count": 7,
   "id": "bf56a74e",
   "metadata": {},
   "outputs": [
    {
     "data": {
      "text/plain": [
       "'k'"
      ]
     },
     "execution_count": 7,
     "metadata": {},
     "output_type": "execute_result"
    }
   ],
   "source": [
    "name[-1]"
   ]
  },
  {
   "cell_type": "code",
   "execution_count": 8,
   "id": "2a013331",
   "metadata": {},
   "outputs": [
    {
     "ename": "IndexError",
     "evalue": "string index out of range",
     "output_type": "error",
     "traceback": [
      "\u001b[1;31m---------------------------------------------------------------------------\u001b[0m",
      "\u001b[1;31mIndexError\u001b[0m                                Traceback (most recent call last)",
      "\u001b[1;32m~\\AppData\\Local\\Temp\\ipykernel_8372\\752300347.py\u001b[0m in \u001b[0;36m<module>\u001b[1;34m\u001b[0m\n\u001b[1;32m----> 1\u001b[1;33m \u001b[0mname\u001b[0m\u001b[1;33m[\u001b[0m\u001b[1;36m90\u001b[0m\u001b[1;33m]\u001b[0m\u001b[1;33m\u001b[0m\u001b[1;33m\u001b[0m\u001b[0m\n\u001b[0m",
      "\u001b[1;31mIndexError\u001b[0m: string index out of range"
     ]
    }
   ],
   "source": [
    "name[90]"
   ]
  },
  {
   "cell_type": "code",
   "execution_count": 9,
   "id": "c2a52717",
   "metadata": {},
   "outputs": [],
   "source": [
    "# slicing"
   ]
  },
  {
   "cell_type": "code",
   "execution_count": 11,
   "id": "5dbdda22",
   "metadata": {},
   "outputs": [
    {
     "data": {
      "text/plain": [
       "'Karthi'"
      ]
     },
     "execution_count": 11,
     "metadata": {},
     "output_type": "execute_result"
    }
   ],
   "source": [
    "name[0:6]  #variable_name[lowerbound : upperbound], upperbound is excluded while lowerbound is included"
   ]
  },
  {
   "cell_type": "code",
   "execution_count": 14,
   "id": "378d6b37",
   "metadata": {},
   "outputs": [
    {
     "data": {
      "text/plain": [
       "'Karthik'"
      ]
     },
     "execution_count": 14,
     "metadata": {},
     "output_type": "execute_result"
    }
   ],
   "source": [
    "name[0:7]  #no errors in this case"
   ]
  },
  {
   "cell_type": "code",
   "execution_count": 15,
   "id": "e65e6f13",
   "metadata": {},
   "outputs": [
    {
     "data": {
      "text/plain": [
       "'Karthik'"
      ]
     },
     "execution_count": 15,
     "metadata": {},
     "output_type": "execute_result"
    }
   ],
   "source": [
    "name[0:70]"
   ]
  },
  {
   "cell_type": "code",
   "execution_count": 21,
   "id": "2496173d",
   "metadata": {},
   "outputs": [
    {
     "data": {
      "text/plain": [
       "'Karthik'"
      ]
     },
     "execution_count": 21,
     "metadata": {},
     "output_type": "execute_result"
    }
   ],
   "source": [
    "name[:8]"
   ]
  },
  {
   "cell_type": "code",
   "execution_count": 22,
   "id": "0431b5d0",
   "metadata": {},
   "outputs": [
    {
     "data": {
      "text/plain": [
       "'rthik'"
      ]
     },
     "execution_count": 22,
     "metadata": {},
     "output_type": "execute_result"
    }
   ],
   "source": [
    "name[2:]"
   ]
  },
  {
   "cell_type": "code",
   "execution_count": 23,
   "id": "3dc63abf",
   "metadata": {},
   "outputs": [
    {
     "data": {
      "text/plain": [
       "'K'"
      ]
     },
     "execution_count": 23,
     "metadata": {},
     "output_type": "execute_result"
    }
   ],
   "source": [
    "name[0::-1]"
   ]
  },
  {
   "cell_type": "code",
   "execution_count": 16,
   "id": "85e7af7e",
   "metadata": {},
   "outputs": [
    {
     "data": {
      "text/plain": [
       "'Karthik'"
      ]
     },
     "execution_count": 16,
     "metadata": {},
     "output_type": "execute_result"
    }
   ],
   "source": [
    "name[:]"
   ]
  },
  {
   "cell_type": "code",
   "execution_count": 18,
   "id": "96a34990",
   "metadata": {},
   "outputs": [
    {
     "data": {
      "text/plain": [
       "'Krhk'"
      ]
     },
     "execution_count": 18,
     "metadata": {},
     "output_type": "execute_result"
    }
   ],
   "source": [
    "name[::2] #variable_name[lowerbound : upperbound : jump] by default jump is 1"
   ]
  },
  {
   "cell_type": "code",
   "execution_count": 20,
   "id": "3546c3bd",
   "metadata": {},
   "outputs": [
    {
     "data": {
      "text/plain": [
       "'kihtraK'"
      ]
     },
     "execution_count": 20,
     "metadata": {},
     "output_type": "execute_result"
    }
   ],
   "source": [
    "name[::-1] #reverse directional jump"
   ]
  },
  {
   "cell_type": "code",
   "execution_count": 24,
   "id": "9c29f891",
   "metadata": {},
   "outputs": [
    {
     "data": {
      "text/plain": [
       "'khrK'"
      ]
     },
     "execution_count": 24,
     "metadata": {},
     "output_type": "execute_result"
    }
   ],
   "source": [
    "name[::-2]"
   ]
  },
  {
   "cell_type": "code",
   "execution_count": 25,
   "id": "cd91c344",
   "metadata": {},
   "outputs": [
    {
     "data": {
      "text/plain": [
       "''"
      ]
     },
     "execution_count": 25,
     "metadata": {},
     "output_type": "execute_result"
    }
   ],
   "source": [
    "name[6:-6]"
   ]
  },
  {
   "cell_type": "code",
   "execution_count": 26,
   "id": "94fa4f03",
   "metadata": {},
   "outputs": [
    {
     "data": {
      "text/plain": [
       "'kihtr'"
      ]
     },
     "execution_count": 26,
     "metadata": {},
     "output_type": "execute_result"
    }
   ],
   "source": [
    "name[6:-6:-1]"
   ]
  },
  {
   "cell_type": "code",
   "execution_count": 27,
   "id": "3fda6ff0",
   "metadata": {},
   "outputs": [
    {
     "data": {
      "text/plain": [
       "''"
      ]
     },
     "execution_count": 27,
     "metadata": {},
     "output_type": "execute_result"
    }
   ],
   "source": [
    "name[-1:-1:-1]"
   ]
  },
  {
   "cell_type": "code",
   "execution_count": 28,
   "id": "efdf8d35",
   "metadata": {},
   "outputs": [
    {
     "data": {
      "text/plain": [
       "'kihtraK'"
      ]
     },
     "execution_count": 28,
     "metadata": {},
     "output_type": "execute_result"
    }
   ],
   "source": [
    "name[-1::-1]"
   ]
  },
  {
   "cell_type": "code",
   "execution_count": 29,
   "id": "ac94e64b",
   "metadata": {},
   "outputs": [
    {
     "data": {
      "text/plain": [
       "''"
      ]
     },
     "execution_count": 29,
     "metadata": {},
     "output_type": "execute_result"
    }
   ],
   "source": [
    "name[0:3:-1]"
   ]
  },
  {
   "cell_type": "code",
   "execution_count": 32,
   "id": "f9c22679",
   "metadata": {},
   "outputs": [
    {
     "data": {
      "text/plain": [
       "'Kar'"
      ]
     },
     "execution_count": 32,
     "metadata": {},
     "output_type": "execute_result"
    }
   ],
   "source": [
    "name[-7:-4:1]"
   ]
  },
  {
   "cell_type": "code",
   "execution_count": 37,
   "id": "cd0e4f8a",
   "metadata": {},
   "outputs": [
    {
     "data": {
      "text/plain": [
       "''"
      ]
     },
     "execution_count": 37,
     "metadata": {},
     "output_type": "execute_result"
    }
   ],
   "source": [
    "name[-1:-8:1]"
   ]
  },
  {
   "cell_type": "code",
   "execution_count": 36,
   "id": "00d6f84f",
   "metadata": {},
   "outputs": [
    {
     "data": {
      "text/plain": [
       "'kihtraK'"
      ]
     },
     "execution_count": 36,
     "metadata": {},
     "output_type": "execute_result"
    }
   ],
   "source": [
    "name[-1:-8:-1]"
   ]
  },
  {
   "cell_type": "code",
   "execution_count": 3,
   "id": "862569bb",
   "metadata": {},
   "outputs": [
    {
     "data": {
      "text/plain": [
       "''"
      ]
     },
     "execution_count": 3,
     "metadata": {},
     "output_type": "execute_result"
    }
   ],
   "source": [
    "name[:-80:]"
   ]
  },
  {
   "cell_type": "code",
   "execution_count": 4,
   "id": "9b17ff76",
   "metadata": {},
   "outputs": [
    {
     "data": {
      "text/plain": [
       "'kihtraK'"
      ]
     },
     "execution_count": 4,
     "metadata": {},
     "output_type": "execute_result"
    }
   ],
   "source": [
    "name[:-80:-1]"
   ]
  },
  {
   "cell_type": "markdown",
   "id": "3390d148",
   "metadata": {},
   "source": [
    "### Some innate functions"
   ]
  },
  {
   "cell_type": "code",
   "execution_count": 2,
   "id": "6e24cf07",
   "metadata": {},
   "outputs": [],
   "source": [
    "s = \"Everything happens for a reason, a really good one\""
   ]
  },
  {
   "cell_type": "code",
   "execution_count": 6,
   "id": "b933b8ab",
   "metadata": {},
   "outputs": [
    {
     "data": {
      "text/plain": [
       "50"
      ]
     },
     "execution_count": 6,
     "metadata": {},
     "output_type": "execute_result"
    }
   ],
   "source": [
    "len(s)"
   ]
  },
  {
   "cell_type": "code",
   "execution_count": 9,
   "id": "78b98f74",
   "metadata": {},
   "outputs": [
    {
     "data": {
      "text/plain": [
       "2"
      ]
     },
     "execution_count": 9,
     "metadata": {},
     "output_type": "execute_result"
    }
   ],
   "source": [
    "s.find('e')"
   ]
  },
  {
   "cell_type": "code",
   "execution_count": 10,
   "id": "c43fe478",
   "metadata": {},
   "outputs": [
    {
     "data": {
      "text/plain": [
       "0"
      ]
     },
     "execution_count": 10,
     "metadata": {},
     "output_type": "execute_result"
    }
   ],
   "source": [
    "s.find('E') #Python is case sensitive"
   ]
  },
  {
   "cell_type": "code",
   "execution_count": 32,
   "id": "3182f9bf",
   "metadata": {},
   "outputs": [
    {
     "data": {
      "text/plain": [
       "-1"
      ]
     },
     "execution_count": 32,
     "metadata": {},
     "output_type": "execute_result"
    }
   ],
   "source": [
    "s.find('z')"
   ]
  },
  {
   "cell_type": "code",
   "execution_count": 33,
   "id": "f4e7edd9",
   "metadata": {},
   "outputs": [
    {
     "data": {
      "text/plain": [
       "42"
      ]
     },
     "execution_count": 33,
     "metadata": {},
     "output_type": "execute_result"
    }
   ],
   "source": [
    "s.find('good')"
   ]
  },
  {
   "cell_type": "code",
   "execution_count": 34,
   "id": "d291253a",
   "metadata": {},
   "outputs": [
    {
     "data": {
      "text/plain": [
       "-1"
      ]
     },
     "execution_count": 34,
     "metadata": {},
     "output_type": "execute_result"
    }
   ],
   "source": [
    "s.find('Good')"
   ]
  },
  {
   "cell_type": "code",
   "execution_count": 16,
   "id": "02f6b8d8",
   "metadata": {},
   "outputs": [
    {
     "data": {
      "text/plain": [
       "5"
      ]
     },
     "execution_count": 16,
     "metadata": {},
     "output_type": "execute_result"
    }
   ],
   "source": [
    "str.count('o')"
   ]
  },
  {
   "cell_type": "code",
   "execution_count": 35,
   "id": "de29b632",
   "metadata": {},
   "outputs": [
    {
     "data": {
      "text/plain": [
       "5"
      ]
     },
     "execution_count": 35,
     "metadata": {},
     "output_type": "execute_result"
    }
   ],
   "source": [
    "s.count('a')"
   ]
  },
  {
   "cell_type": "code",
   "execution_count": 36,
   "id": "185e6eac",
   "metadata": {},
   "outputs": [
    {
     "data": {
      "text/plain": [
       "5"
      ]
     },
     "execution_count": 36,
     "metadata": {},
     "output_type": "execute_result"
    }
   ],
   "source": [
    "s.count('e')"
   ]
  },
  {
   "cell_type": "code",
   "execution_count": 37,
   "id": "826ab1ef",
   "metadata": {},
   "outputs": [
    {
     "data": {
      "text/plain": [
       "0"
      ]
     },
     "execution_count": 37,
     "metadata": {},
     "output_type": "execute_result"
    }
   ],
   "source": [
    "s.count('z')"
   ]
  },
  {
   "cell_type": "code",
   "execution_count": 42,
   "id": "f24907e7",
   "metadata": {},
   "outputs": [
    {
     "data": {
      "text/plain": [
       "'EVERYTHING HAPPENS FOR A REASON, A REALLY GOOD ONE'"
      ]
     },
     "execution_count": 42,
     "metadata": {},
     "output_type": "execute_result"
    }
   ],
   "source": [
    "s.upper()"
   ]
  },
  {
   "cell_type": "code",
   "execution_count": 41,
   "id": "a025d326",
   "metadata": {},
   "outputs": [
    {
     "data": {
      "text/plain": [
       "'everything happens for a reason, a really good one'"
      ]
     },
     "execution_count": 41,
     "metadata": {},
     "output_type": "execute_result"
    }
   ],
   "source": [
    "s.lower()"
   ]
  },
  {
   "cell_type": "code",
   "execution_count": 5,
   "id": "63220fc8",
   "metadata": {},
   "outputs": [
    {
     "data": {
      "text/plain": [
       "False"
      ]
     },
     "execution_count": 5,
     "metadata": {},
     "output_type": "execute_result"
    }
   ],
   "source": [
    "s.isupper()"
   ]
  },
  {
   "cell_type": "code",
   "execution_count": 6,
   "id": "b81206b4",
   "metadata": {},
   "outputs": [
    {
     "data": {
      "text/plain": [
       "False"
      ]
     },
     "execution_count": 6,
     "metadata": {},
     "output_type": "execute_result"
    }
   ],
   "source": [
    "s.islower()"
   ]
  },
  {
   "cell_type": "code",
   "execution_count": 7,
   "id": "096093f5",
   "metadata": {},
   "outputs": [
    {
     "data": {
      "text/plain": [
       "True"
      ]
     },
     "execution_count": 7,
     "metadata": {},
     "output_type": "execute_result"
    }
   ],
   "source": [
    "s.upper().isupper()"
   ]
  },
  {
   "cell_type": "code",
   "execution_count": 9,
   "id": "8d211b90",
   "metadata": {},
   "outputs": [
    {
     "data": {
      "text/plain": [
       "True"
      ]
     },
     "execution_count": 9,
     "metadata": {},
     "output_type": "execute_result"
    }
   ],
   "source": [
    "s.lower().islower()"
   ]
  },
  {
   "cell_type": "code",
   "execution_count": 40,
   "id": "2386eb78",
   "metadata": {},
   "outputs": [
    {
     "data": {
      "text/plain": [
       "'Everything Happens For A Reason, A Really Good One'"
      ]
     },
     "execution_count": 40,
     "metadata": {},
     "output_type": "execute_result"
    }
   ],
   "source": [
    "s.title()"
   ]
  },
  {
   "cell_type": "code",
   "execution_count": 39,
   "id": "202e58d7",
   "metadata": {},
   "outputs": [
    {
     "data": {
      "text/plain": [
       "'Everything happens for a reason, a really good one'"
      ]
     },
     "execution_count": 39,
     "metadata": {},
     "output_type": "execute_result"
    }
   ],
   "source": [
    "s.capitalize()"
   ]
  },
  {
   "cell_type": "code",
   "execution_count": 19,
   "id": "542b4ac0",
   "metadata": {},
   "outputs": [
    {
     "data": {
      "text/plain": [
       "['Everything', 'happens', 'for', 'a', 'reason,', 'a', 'really', 'good', 'one']"
      ]
     },
     "execution_count": 19,
     "metadata": {},
     "output_type": "execute_result"
    }
   ],
   "source": [
    "s.split()"
   ]
  },
  {
   "cell_type": "code",
   "execution_count": 20,
   "id": "69a77700",
   "metadata": {},
   "outputs": [],
   "source": [
    "str_list = s.split()"
   ]
  },
  {
   "cell_type": "code",
   "execution_count": 21,
   "id": "5b3d552d",
   "metadata": {},
   "outputs": [
    {
     "data": {
      "text/plain": [
       "['Everything', 'happens', 'for', 'a', 'reason,', 'a', 'really', 'good', 'one']"
      ]
     },
     "execution_count": 21,
     "metadata": {},
     "output_type": "execute_result"
    }
   ],
   "source": [
    "str_list"
   ]
  },
  {
   "cell_type": "code",
   "execution_count": 22,
   "id": "8c133eba",
   "metadata": {},
   "outputs": [
    {
     "data": {
      "text/plain": [
       "'Everythinghappensforareason,areallygoodone'"
      ]
     },
     "execution_count": 22,
     "metadata": {},
     "output_type": "execute_result"
    }
   ],
   "source": [
    "''.join(str_list)"
   ]
  },
  {
   "cell_type": "code",
   "execution_count": 23,
   "id": "d270a05b",
   "metadata": {},
   "outputs": [
    {
     "data": {
      "text/plain": [
       "'Everything happens for a reason, a really good one'"
      ]
     },
     "execution_count": 23,
     "metadata": {},
     "output_type": "execute_result"
    }
   ],
   "source": [
    "' '.join(str_list)"
   ]
  },
  {
   "cell_type": "code",
   "execution_count": 24,
   "id": "1577c1a3",
   "metadata": {},
   "outputs": [
    {
     "data": {
      "text/plain": [
       "'Everything !! happens !! for !! a !! reason, !! a !! really !! good !! one'"
      ]
     },
     "execution_count": 24,
     "metadata": {},
     "output_type": "execute_result"
    }
   ],
   "source": [
    "' !! '.join(str_list)"
   ]
  },
  {
   "cell_type": "code",
   "execution_count": 14,
   "id": "b613b4a6",
   "metadata": {},
   "outputs": [],
   "source": [
    "course = 'Computer Science Engineering'"
   ]
  },
  {
   "cell_type": "code",
   "execution_count": 16,
   "id": "da0db2a1",
   "metadata": {},
   "outputs": [
    {
     "data": {
      "text/plain": [
       "'Information Science Engineering'"
      ]
     },
     "execution_count": 16,
     "metadata": {},
     "output_type": "execute_result"
    }
   ],
   "source": [
    "course.replace('Computer', 'Information')"
   ]
  },
  {
   "cell_type": "code",
   "execution_count": 18,
   "id": "ca0ed674",
   "metadata": {},
   "outputs": [
    {
     "data": {
      "text/plain": [
       "'Biotech Engineering'"
      ]
     },
     "execution_count": 18,
     "metadata": {},
     "output_type": "execute_result"
    }
   ],
   "source": [
    "course.replace('Computer Science', 'Biotech')"
   ]
  },
  {
   "cell_type": "code",
   "execution_count": 25,
   "id": "658b6e79",
   "metadata": {},
   "outputs": [],
   "source": [
    "message = '           HOLA, MIGO !!!           '"
   ]
  },
  {
   "cell_type": "code",
   "execution_count": 26,
   "id": "916ef515",
   "metadata": {},
   "outputs": [
    {
     "data": {
      "text/plain": [
       "'HOLA, MIGO !!!'"
      ]
     },
     "execution_count": 26,
     "metadata": {},
     "output_type": "execute_result"
    }
   ],
   "source": [
    "message.strip()"
   ]
  },
  {
   "cell_type": "code",
   "execution_count": null,
   "id": "2347b3f5",
   "metadata": {},
   "outputs": [],
   "source": []
  },
  {
   "cell_type": "markdown",
   "id": "be1a69c4",
   "metadata": {},
   "source": [
    "### Concatenation"
   ]
  },
  {
   "cell_type": "code",
   "execution_count": 38,
   "id": "7b4d5aaf",
   "metadata": {},
   "outputs": [
    {
     "data": {
      "text/plain": [
       "'Everything happens for a reason, a really good oneKarthik'"
      ]
     },
     "execution_count": 38,
     "metadata": {},
     "output_type": "execute_result"
    }
   ],
   "source": [
    "s + name"
   ]
  },
  {
   "cell_type": "code",
   "execution_count": 43,
   "id": "f193382a",
   "metadata": {
    "scrolled": true
   },
   "outputs": [
    {
     "ename": "TypeError",
     "evalue": "can only concatenate str (not \"int\") to str",
     "output_type": "error",
     "traceback": [
      "\u001b[1;31m---------------------------------------------------------------------------\u001b[0m",
      "\u001b[1;31mTypeError\u001b[0m                                 Traceback (most recent call last)",
      "\u001b[1;32m~\\AppData\\Local\\Temp\\ipykernel_1508\\3688120184.py\u001b[0m in \u001b[0;36m<module>\u001b[1;34m\u001b[0m\n\u001b[1;32m----> 1\u001b[1;33m \u001b[0ms\u001b[0m \u001b[1;33m+\u001b[0m \u001b[1;36m24\u001b[0m\u001b[1;33m\u001b[0m\u001b[1;33m\u001b[0m\u001b[0m\n\u001b[0m",
      "\u001b[1;31mTypeError\u001b[0m: can only concatenate str (not \"int\") to str"
     ]
    }
   ],
   "source": [
    "s + 24"
   ]
  },
  {
   "cell_type": "code",
   "execution_count": 48,
   "id": "385f511f",
   "metadata": {},
   "outputs": [
    {
     "data": {
      "text/plain": [
       "'Everything happens for a reason, a really good one24'"
      ]
     },
     "execution_count": 48,
     "metadata": {},
     "output_type": "execute_result"
    }
   ],
   "source": [
    "s + '24'"
   ]
  },
  {
   "cell_type": "code",
   "execution_count": 4,
   "id": "40107990",
   "metadata": {},
   "outputs": [
    {
     "data": {
      "text/plain": [
       "'Everything happens for a reason, a really good one, so trust the process'"
      ]
     },
     "execution_count": 4,
     "metadata": {},
     "output_type": "execute_result"
    }
   ],
   "source": [
    "s + ',' + ' ' + 'so trust the process'"
   ]
  },
  {
   "cell_type": "code",
   "execution_count": 49,
   "id": "aef78638",
   "metadata": {},
   "outputs": [
    {
     "ename": "TypeError",
     "evalue": "unsupported operand type(s) for -: 'str' and 'str'",
     "output_type": "error",
     "traceback": [
      "\u001b[1;31m---------------------------------------------------------------------------\u001b[0m",
      "\u001b[1;31mTypeError\u001b[0m                                 Traceback (most recent call last)",
      "\u001b[1;32m~\\AppData\\Local\\Temp\\ipykernel_1508\\557372821.py\u001b[0m in \u001b[0;36m<module>\u001b[1;34m\u001b[0m\n\u001b[1;32m----> 1\u001b[1;33m \u001b[0ms\u001b[0m \u001b[1;33m-\u001b[0m \u001b[1;34m'24'\u001b[0m\u001b[1;33m\u001b[0m\u001b[1;33m\u001b[0m\u001b[0m\n\u001b[0m",
      "\u001b[1;31mTypeError\u001b[0m: unsupported operand type(s) for -: 'str' and 'str'"
     ]
    }
   ],
   "source": [
    "s - '24'"
   ]
  },
  {
   "cell_type": "code",
   "execution_count": 44,
   "id": "6b5c258a",
   "metadata": {},
   "outputs": [
    {
     "data": {
      "text/plain": [
       "'KarthikKarthikKarthikKarthik'"
      ]
     },
     "execution_count": 44,
     "metadata": {},
     "output_type": "execute_result"
    }
   ],
   "source": [
    "name * 4"
   ]
  },
  {
   "cell_type": "code",
   "execution_count": 46,
   "id": "7e6b744b",
   "metadata": {},
   "outputs": [
    {
     "ename": "TypeError",
     "evalue": "unsupported operand type(s) for -: 'str' and 'int'",
     "output_type": "error",
     "traceback": [
      "\u001b[1;31m---------------------------------------------------------------------------\u001b[0m",
      "\u001b[1;31mTypeError\u001b[0m                                 Traceback (most recent call last)",
      "\u001b[1;32m~\\AppData\\Local\\Temp\\ipykernel_1508\\3649122230.py\u001b[0m in \u001b[0;36m<module>\u001b[1;34m\u001b[0m\n\u001b[1;32m----> 1\u001b[1;33m \u001b[0mname\u001b[0m \u001b[1;33m-\u001b[0m \u001b[1;36m1\u001b[0m\u001b[1;33m\u001b[0m\u001b[1;33m\u001b[0m\u001b[0m\n\u001b[0m",
      "\u001b[1;31mTypeError\u001b[0m: unsupported operand type(s) for -: 'str' and 'int'"
     ]
    }
   ],
   "source": [
    "name - 1"
   ]
  },
  {
   "cell_type": "code",
   "execution_count": 47,
   "id": "15323b1e",
   "metadata": {},
   "outputs": [
    {
     "ename": "TypeError",
     "evalue": "unsupported operand type(s) for /: 'str' and 'int'",
     "output_type": "error",
     "traceback": [
      "\u001b[1;31m---------------------------------------------------------------------------\u001b[0m",
      "\u001b[1;31mTypeError\u001b[0m                                 Traceback (most recent call last)",
      "\u001b[1;32m~\\AppData\\Local\\Temp\\ipykernel_1508\\540525867.py\u001b[0m in \u001b[0;36m<module>\u001b[1;34m\u001b[0m\n\u001b[1;32m----> 1\u001b[1;33m \u001b[0mname\u001b[0m \u001b[1;33m/\u001b[0m \u001b[1;36m2\u001b[0m\u001b[1;33m\u001b[0m\u001b[1;33m\u001b[0m\u001b[0m\n\u001b[0m",
      "\u001b[1;31mTypeError\u001b[0m: unsupported operand type(s) for /: 'str' and 'int'"
     ]
    }
   ],
   "source": [
    "name / 2"
   ]
  },
  {
   "cell_type": "code",
   "execution_count": 50,
   "id": "9d5b35ed",
   "metadata": {},
   "outputs": [
    {
     "ename": "SyntaxError",
     "evalue": "invalid syntax (2431869339.py, line 1)",
     "output_type": "error",
     "traceback": [
      "\u001b[1;36m  File \u001b[1;32m\"C:\\Users\\karth\\AppData\\Local\\Temp\\ipykernel_1508\\2431869339.py\"\u001b[1;36m, line \u001b[1;32m1\u001b[0m\n\u001b[1;33m    'Don't ever hesitate to be uncomfortable'\u001b[0m\n\u001b[1;37m         ^\u001b[0m\n\u001b[1;31mSyntaxError\u001b[0m\u001b[1;31m:\u001b[0m invalid syntax\n"
     ]
    }
   ],
   "source": [
    "'Don't ever hesitate to be uncomfortable'"
   ]
  },
  {
   "cell_type": "code",
   "execution_count": 51,
   "id": "e754ae7a",
   "metadata": {},
   "outputs": [
    {
     "data": {
      "text/plain": [
       "\"Don't ever hesitate to be uncomfortable\""
      ]
     },
     "execution_count": 51,
     "metadata": {},
     "output_type": "execute_result"
    }
   ],
   "source": [
    "\"Don't ever hesitate to be uncomfortable\""
   ]
  },
  {
   "cell_type": "code",
   "execution_count": 52,
   "id": "a4a0433b",
   "metadata": {},
   "outputs": [
    {
     "data": {
      "text/plain": [
       "'Don\"t ever hesitate to be uncomfortable'"
      ]
     },
     "execution_count": 52,
     "metadata": {},
     "output_type": "execute_result"
    }
   ],
   "source": [
    "'Don\"t ever hesitate to be uncomfortable'"
   ]
  },
  {
   "cell_type": "code",
   "execution_count": 53,
   "id": "1a1f7d96",
   "metadata": {},
   "outputs": [
    {
     "data": {
      "text/plain": [
       "'G'"
      ]
     },
     "execution_count": 53,
     "metadata": {},
     "output_type": "execute_result"
    }
   ],
   "source": [
    "s[42].upper()"
   ]
  },
  {
   "cell_type": "code",
   "execution_count": 55,
   "id": "7dcb0787",
   "metadata": {},
   "outputs": [
    {
     "data": {
      "text/plain": [
       "'Eno Doog Yllaer A ,Nosaer A Rof Sneppah Gnihtyreve'"
      ]
     },
     "execution_count": 55,
     "metadata": {},
     "output_type": "execute_result"
    }
   ],
   "source": [
    "s[::-1].title()"
   ]
  },
  {
   "cell_type": "code",
   "execution_count": 56,
   "id": "2b3b940b",
   "metadata": {},
   "outputs": [
    {
     "data": {
      "text/plain": [
       "''"
      ]
     },
     "execution_count": 56,
     "metadata": {},
     "output_type": "execute_result"
    }
   ],
   "source": [
    "s[-1:0:]"
   ]
  },
  {
   "cell_type": "code",
   "execution_count": 57,
   "id": "4bf4543f",
   "metadata": {},
   "outputs": [
    {
     "data": {
      "text/plain": [
       "'Everything happens for a reason, a really good on'"
      ]
     },
     "execution_count": 57,
     "metadata": {},
     "output_type": "execute_result"
    }
   ],
   "source": [
    "s[0:-1:]"
   ]
  },
  {
   "cell_type": "code",
   "execution_count": 58,
   "id": "244ad01a",
   "metadata": {},
   "outputs": [
    {
     "data": {
      "text/plain": [
       "2"
      ]
     },
     "execution_count": 58,
     "metadata": {},
     "output_type": "execute_result"
    }
   ],
   "source": [
    "s.index('e')"
   ]
  },
  {
   "cell_type": "code",
   "execution_count": 59,
   "id": "4c4870ab",
   "metadata": {},
   "outputs": [
    {
     "data": {
      "text/plain": [
       "0"
      ]
     },
     "execution_count": 59,
     "metadata": {},
     "output_type": "execute_result"
    }
   ],
   "source": [
    "s.index('E')"
   ]
  },
  {
   "cell_type": "code",
   "execution_count": null,
   "id": "3026345e",
   "metadata": {},
   "outputs": [],
   "source": []
  }
 ],
 "metadata": {
  "kernelspec": {
   "display_name": "Python 3 (ipykernel)",
   "language": "python",
   "name": "python3"
  },
  "language_info": {
   "codemirror_mode": {
    "name": "ipython",
    "version": 3
   },
   "file_extension": ".py",
   "mimetype": "text/x-python",
   "name": "python",
   "nbconvert_exporter": "python",
   "pygments_lexer": "ipython3",
   "version": "3.9.13"
  }
 },
 "nbformat": 4,
 "nbformat_minor": 5
}
